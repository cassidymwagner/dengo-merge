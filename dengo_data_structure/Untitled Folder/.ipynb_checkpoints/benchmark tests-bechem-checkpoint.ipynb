{
 "cells": [
  {
   "cell_type": "code",
   "execution_count": 1,
   "metadata": {},
   "outputs": [
    {
     "name": "stderr",
     "output_type": "stream",
     "text": [
      "/home/kwoksun2/anaconda2/lib/python2.7/site-packages/h5py/__init__.py:36: FutureWarning: Conversion of the second argument of issubdtype from `float` to `np.floating` is deprecated. In future, it will be treated as `np.float64 == np.dtype(float).type`.\n",
      "  from ._conv import register_converters as _register_converters\n"
     ]
    },
    {
     "name": "stdout",
     "output_type": "stream",
     "text": [
      " using cli\n",
      " using CLI for selections\n"
     ]
    }
   ],
   "source": [
    "import sys\n",
    "import yt.units as u\n",
    "import numpy\n",
    "import numpy as np\n",
    "import matplotlib.pyplot as plt\n",
    "import pyximport\n",
    "\n",
    "from dengo.chemical_network import \\\n",
    "    ChemicalNetwork, \\\n",
    "    reaction_registry, \\\n",
    "    cooling_registry, species_registry\n",
    "import dengo.primordial_rates, dengo.primordial_cooling\n",
    "from dengo.chemistry_constants import tiny, kboltz, mh\n",
    "import h5py\n",
    "import os\n",
    "import numpy\n",
    "import h5py\n",
    "\n",
    "os.environ['HDF5_DIR'] = '/home/kwoksun2/anaconda2/'"
   ]
  },
  {
   "cell_type": "code",
   "execution_count": 4,
   "metadata": {},
   "outputs": [],
   "source": [
    "def Init_values(temperature, density, n_species = 9, cooling=True, size=10):\n",
    "    \"\"\" Create a initial value dictionary,\n",
    "        for a given temperature, density, number of species\n",
    "    Args:\n",
    "        temperature -- in Kelvin\n",
    "        density     -- in amu / cm**3\n",
    "        n_species   -- number of species (6/9)\n",
    "        cooling\n",
    "\n",
    "    Returns:\n",
    "        init_values: initial value dictionary with\n",
    "                     self-consistent energy/ electron density\n",
    "        primordial : chemical_network classes\n",
    "\n",
    "    \"\"\"\n",
    "\n",
    "    # initialize and setup the network\n",
    "    dengo.primordial_rates.setup_primordial()\n",
    "    primordial = ChemicalNetwork()\n",
    "    primordial.threebody = 4\n",
    "\n",
    "    if n_species == 9:\n",
    "        for i in range(22):\n",
    "            try:\n",
    "                primordial.add_reaction(\"k{0:02d}\".format(i+1))\n",
    "            except:\n",
    "                pass\n",
    "    else:\n",
    "        for i in range(6):\n",
    "            try:\n",
    "                primordial.add_reaction(\"k{0:02d}\".format(i+1))\n",
    "            except:\n",
    "                pass\n",
    "\n",
    "    # the temperature array required to interpolates the rates\n",
    "    primordial.init_temperature((1e0, 1e5))\n",
    "\n",
    "    tiny = 1.0e-20\n",
    "\n",
    "    # init_array are is in fractional abundances\n",
    "    init_values = dict()\n",
    "    density = numpy.array([density])*numpy.ones((size))\n",
    "    if n_species == 6:\n",
    "        # 6-species model\n",
    "        init_values[\"He_1\"]    = density * (1.0 - 0.76)\n",
    "        init_values[\"He_2\"]    = np.array([tiny])\n",
    "        init_values[\"He_3\"]    = np.array([tiny])\n",
    "        init_values[\"H_1\"]     = density *  (0.76)\n",
    "        init_values['H_2']     = np.array([tiny]) \n",
    "    else:\n",
    "        # 9-species model\n",
    "        init_values[\"He_1\"]    = density * (1.0 - 0.76) \n",
    "        init_values[\"He_2\"]    = density *np.array([tiny])\n",
    "        init_values[\"He_3\"]    = density *np.array([tiny])\n",
    "        init_values[\"H_1\"]     = density *  (0.76)\n",
    "        init_values['H_2']     = density *np.array([tiny])\n",
    "\n",
    "        init_values[\"H_m0\"]    = density *np.array([tiny])\n",
    "        init_values[\"H2_1\"]    = density *np.array([tiny])\n",
    "        init_values[\"H2_2\"]    = density *np.array([tiny])\n",
    "\n",
    "    # now everything in mass density\n",
    "    init_values['de'] = primordial.calculate_free_electrons(init_values)\n",
    "    # one signle value: again mass density\n",
    "    init_values['density'] = primordial.calculate_total_density(init_values)\n",
    "\n",
    "    num_den = {}\n",
    "    for sp in primordial.required_species:\n",
    "        try:\n",
    "            num_den[sp.name] = init_values[sp.name]/ sp.weight\n",
    "        except:\n",
    "            pass\n",
    "\n",
    "    # set up initial temperatures values used to define ge\n",
    "    init_values['T'] = numpy.array([temperature])*numpy.ones((size))\n",
    "    ge_array = numpy.ones((size))\n",
    "    init_values['ge'] = ge_array\n",
    "    \n",
    "    # calculate gammaH2\n",
    "    \n",
    "    for i in range(size):\n",
    "        \n",
    "        temperature = init_values['T'][i]\n",
    "        x = 6100.0/temperature\n",
    "        expx = numpy.exp(x)\n",
    "        gammaH2 = 2.0 / (5.0 + 2.0*x*x*expx / (expx - 1 )**2.0 ) + 1\n",
    "\n",
    "        rs = primordial.required_species\n",
    "        H2_1_sp = list(rs)[0]\n",
    "        gammaH2 = primordial.species_gamma(H2_1_sp,name=False, temp=True).subs({'T':temperature})\n",
    "\n",
    "        new_num_den = {}\n",
    "        for ele in num_den.keys():\n",
    "            new_num_den[ele] = num_den[ele][i]\n",
    "        \n",
    "        gamma_factor = primordial.gamma_factor().subs(new_num_den).subs({'gammaH2': gammaH2 , 'gamma': 5./3.,'T': temperature })\n",
    "\n",
    "        ge  = ((temperature *  kboltz) *gamma_factor\n",
    "                             / (init_values['density'][i] * mh  ))\n",
    "\n",
    "        \n",
    "        T = init_values['density']*ge*mh / kboltz / gamma_factor\n",
    "        init_values['ge'][i] = numpy.float64(ge)\n",
    "    print(ge)\n",
    "    if cooling:\n",
    "        for cooling_action in cooling_registry:\n",
    "            k = cooling_registry[cooling_action]\n",
    "            if (k.species).issubset( primordial.required_species ):\n",
    "                if k.name != \"cie_cooling\":                    \n",
    "                    print(\"adding cooling: {}\".format(k.name) )\n",
    "                    primordial.add_cooling(cooling_action)\n",
    "    return init_values, primordial"
   ]
  },
  {
   "cell_type": "code",
   "execution_count": null,
   "metadata": {},
   "outputs": [],
   "source": []
  },
  {
   "cell_type": "code",
   "execution_count": 5,
   "metadata": {},
   "outputs": [],
   "source": [
    "def create_initial_dataset(init, size = 1):\n",
    "    data = {}\n",
    "    for key in init.keys():\n",
    "        data[key] = init[key] * numpy.ones((size))\n",
    "\n",
    "    f = h5py.File('newIC.h5')\n",
    "    for k,v in data.items():\n",
    "        f.create_dataset(k, data= v)\n",
    "    f.close()"
   ]
  },
  {
   "cell_type": "code",
   "execution_count": 6,
   "metadata": {},
   "outputs": [
    {
     "name": "stdout",
     "output_type": "stream",
     "text": [
      "Adding reaction: k01 : 1*H_1 + 1*de => 1*H_2 + 2*de\n",
      "Adding reaction: k02 : 1*H_2 + 1*de => 1*H_1\n",
      "Adding reaction: k03 : 1*He_1 + 1*de => 1*He_2 + 2*de\n",
      "Adding reaction: k04 : 1*He_2 + 1*de => 1*He_1\n",
      "Adding reaction: k05 : 1*He_2 + 1*de => 1*He_3 + 2*de\n",
      "Adding reaction: k06 : 1*He_3 + 1*de => 1*He_2\n",
      "Adding reaction: k07 : 1*H_1 + 1*de => 1*H_m0\n",
      "Adding reaction: k08 : 1*H_m0 + 1*H_1 => 1*H2_1 + 1*de\n",
      "Adding reaction: k09 : 1*H_1 + 1*H_2 => 1*H2_2\n",
      "Adding reaction: k10 : 1*H2_2 + 1*H_1 => 1*H2_1 + 1*H_2\n",
      "Adding reaction: k11 : 1*H2_1 + 1*H_2 => 1*H2_2 + 1*H_1\n",
      "Adding reaction: k12 : 1*H2_1 + 1*de => 2*H_1 + 1*de\n",
      "Adding reaction: k13 : 1*H2_1 + 1*H_1 => 3*H_1\n",
      "Adding reaction: k14 : 1*H_m0 + 1*de => 1*H_1 + 2*de\n",
      "Adding reaction: k15 : 1*H_m0 + 1*H_1 => 2*H_1 + 1*de\n",
      "Adding reaction: k16 : 1*H_m0 + 1*H_2 => 2*H_1\n",
      "Adding reaction: k17 : 1*H_m0 + 1*H_2 => 1*H2_2 + 1*de\n",
      "Adding reaction: k18 : 1*H2_2 + 1*de => 2*H_1\n",
      "Adding reaction: k19 : 1*H2_2 + 1*H_m0 => 1*H_1 + 1*H2_1\n",
      "Adding reaction: k21 : 2*H_1 + 1*H2_1 => 2*H2_1\n",
      "Adding reaction: k22 : 2*H_1 + 1*H_1 => 1*H2_1 + 1*H_1\n",
      "100893799480.558\n",
      "adding cooling: brem\n",
      "adding cooling: reHII\n",
      "adding cooling: reHeIII\n",
      "adding cooling: gloverabel08\n",
      "adding cooling: ceHI\n",
      "adding cooling: compton\n",
      "adding cooling: h2formation\n",
      "adding cooling: reHeII2\n",
      "adding cooling: reHeII1\n",
      "adding cooling: ciHeIS\n",
      "adding cooling: ceHeII\n",
      "adding cooling: ciHI\n",
      "adding cooling: ceHeI\n",
      "adding cooling: gammah\n",
      "adding cooling: ciHeI\n",
      "adding cooling: ciHeII\n"
     ]
    }
   ],
   "source": [
    "initial_temperature = 1000.0\n",
    "density = 1.0e2\n",
    "init, primordial = Init_values(initial_temperature, \n",
    "                               density, n_species = 9, \n",
    "                               cooling=True, size=1)\n",
    "\n",
    "create_initial_dataset(init,size=32*32*32)\n",
    "!mv newIC.h5 test_bechem_cvdls_initial_conditions.h5"
   ]
  },
  {
   "cell_type": "code",
   "execution_count": null,
   "metadata": {},
   "outputs": [],
   "source": [
    "# %load bechem_runfile\n",
    "#!/bin/bash\n",
    "rm -f a.out\n",
    "g++ test_bechem_cvdls_solver.C test_bechem_cvdls_solver_main.C BE_chem_solve.C -I. -lm -lstdc++ -lhdf5 -lhdf5_hl -O3"
   ]
  },
  {
   "cell_type": "code",
   "execution_count": 8,
   "metadata": {},
   "outputs": [],
   "source": [
    "!bash bechem_runfile"
   ]
  },
  {
   "cell_type": "code",
   "execution_count": 9,
   "metadata": {},
   "outputs": [
    {
     "name": "stdout",
     "output_type": "stream",
     "text": [
      "Successfully read in rate tables.\n",
      "Successfully read in cooling rate tables.\n",
      "Successfully read in gamma tables.\n",
      "Getting dimensionality from ge:\n",
      "  ncells =  262144\n",
      "Reading I.C. for /H2_1\n",
      "H2_1[0] = 1e-18, atol =>  9.999999999999999e-28\n",
      "Reading I.C. for /H2_2\n",
      "H2_2[0] = 1e-18, atol =>  9.999999999999999e-28\n",
      "Reading I.C. for /H_1\n",
      "H_1[0] = 76, atol =>  9.999999999999999e-28\n",
      "Reading I.C. for /H_2\n",
      "H_2[0] = 1e-18, atol =>  9.999999999999999e-28\n",
      "Reading I.C. for /H_m0\n",
      "H_m0[0] = 1e-18, atol =>  9.999999999999999e-28\n",
      "Reading I.C. for /He_1\n",
      "He_1[0] = 24, atol =>  9.999999999999999e-28\n",
      "Reading I.C. for /He_2\n",
      "He_2[0] = 1e-18, atol =>  9.999999999999999e-28\n",
      "Reading I.C. for /He_3\n",
      "He_3[0] = 1e-18, atol =>  9.999999999999999e-28\n",
      "Reading I.C. for /de\n",
      "de[0] = 1.25e-18, atol =>  9.999999999999999e-28\n",
      "Reading I.C. for /ge\n",
      "ge[0] = 1.01e+11, atol =>  9.999999999999999e-28\n",
      "Segmentation fault (core dumped)\n"
     ]
    }
   ],
   "source": [
    "!./a.out"
   ]
  },
  {
   "cell_type": "code",
   "execution_count": 64,
   "metadata": {},
   "outputs": [
    {
     "data": {
      "text/plain": [
       "30.18867924528302"
      ]
     },
     "execution_count": 64,
     "metadata": {},
     "output_type": "execute_result"
    }
   ],
   "source": [
    "0.016 / 0.00053"
   ]
  },
  {
   "cell_type": "code",
   "execution_count": 77,
   "metadata": {},
   "outputs": [],
   "source": [
    "!bash runfile"
   ]
  },
  {
   "cell_type": "code",
   "execution_count": 78,
   "metadata": {},
   "outputs": [
    {
     "name": "stdout",
     "output_type": "stream",
     "text": [
      "Successfully read in rate tables.\n",
      "Successfully read in cooling rate tables.\n",
      "Successfully read in gamma tables. \n",
      "Getting dimensionality from ge:\n",
      "  ncells =  262144\n",
      "Reading I.C. for /H2_1\n",
      "H2_1[0] = 1e-18, atol =>  9.999999999999999e-28\n",
      "Reading I.C. for /H2_2\n",
      "H2_2[0] = 1e-18, atol =>  9.999999999999999e-28\n",
      "Reading I.C. for /H_1\n",
      "H_1[0] = 76, atol =>  9.999999999999999e-28\n",
      "Reading I.C. for /H_2\n",
      "H_2[0] = 1e-18, atol =>  9.999999999999999e-28\n",
      "Reading I.C. for /H_m0\n",
      "H_m0[0] = 1e-18, atol =>  9.999999999999999e-28\n",
      "Reading I.C. for /He_1\n",
      "He_1[0] = 24, atol =>  9.999999999999999e-28\n",
      "Reading I.C. for /He_2\n",
      "He_2[0] = 1e-18, atol =>  9.999999999999999e-28\n",
      "Reading I.C. for /He_3\n",
      "He_3[0] = 1e-18, atol =>  9.999999999999999e-28\n",
      "Reading I.C. for /de\n",
      "de[0] = 1.25e-18, atol =>  9.999999999999999e-28\n",
      "Reading I.C. for /ge\n",
      "ge[0] = 1.01e+11, atol =>  9.999999999999999e-28\n",
      "Writing solution for /H2_1\n",
      "Writing solution for /H2_2\n",
      "Writing solution for /H_1\n",
      "Segmentation fault (core dumped)\n",
      "Successfully read in rate tables.\n",
      "Successfully read in cooling rate tables.\n",
      "Successfully read in gamma tables. \n",
      "Getting dimensionality from ge:\n",
      "  ncells =  262144\n",
      "Reading I.C. for /H2_1\n",
      "H2_1[0] = 1e-18, atol =>  9.999999999999999e-28\n",
      "Reading I.C. for /H2_2\n",
      "H2_2[0] = 1e-18, atol =>  9.999999999999999e-28\n",
      "Reading I.C. for /H_1\n",
      "H_1[0] = 76, atol =>  9.999999999999999e-28\n",
      "Reading I.C. for /H_2\n",
      "H_2[0] = 1e-18, atol =>  9.999999999999999e-28\n",
      "Reading I.C. for /H_m0\n",
      "H_m0[0] = 1e-18, atol =>  9.999999999999999e-28\n",
      "Reading I.C. for /He_1\n",
      "He_1[0] = 24, atol =>  9.999999999999999e-28\n",
      "Reading I.C. for /He_2\n",
      "He_2[0] = 1e-18, atol =>  9.999999999999999e-28\n",
      "Reading I.C. for /He_3\n",
      "He_3[0] = 1e-18, atol =>  9.999999999999999e-28\n",
      "Reading I.C. for /de\n",
      "de[0] = 1.25e-18, atol =>  9.999999999999999e-28\n",
      "Reading I.C. for /ge\n",
      "ge[0] = 1.01e+11, atol =>  9.999999999999999e-28\n",
      "Writing solution for /H2_1\n",
      "Writing solution for /H2_2\n",
      "Writing solution for /H_1\n",
      "Segmentation fault (core dumped)\n",
      "Successfully read in rate tables.\n",
      "Successfully read in cooling rate tables.\n",
      "Successfully read in gamma tables. \n",
      "Getting dimensionality from ge:\n",
      "  ncells =  262144\n",
      "Reading I.C. for /H2_1\n",
      "H2_1[0] = 1e-18, atol =>  9.999999999999999e-28\n",
      "Reading I.C. for /H2_2\n",
      "H2_2[0] = 1e-18, atol =>  9.999999999999999e-28\n",
      "Reading I.C. for /H_1\n",
      "H_1[0] = 76, atol =>  9.999999999999999e-28\n",
      "Reading I.C. for /H_2\n",
      "H_2[0] = 1e-18, atol =>  9.999999999999999e-28\n",
      "Reading I.C. for /H_m0\n",
      "H_m0[0] = 1e-18, atol =>  9.999999999999999e-28\n",
      "Reading I.C. for /He_1\n",
      "He_1[0] = 24, atol =>  9.999999999999999e-28\n",
      "Reading I.C. for /He_2\n",
      "He_2[0] = 1e-18, atol =>  9.999999999999999e-28\n",
      "Reading I.C. for /He_3\n",
      "He_3[0] = 1e-18, atol =>  9.999999999999999e-28\n",
      "Reading I.C. for /de\n",
      "de[0] = 1.25e-18, atol =>  9.999999999999999e-28\n",
      "Reading I.C. for /ge\n",
      "ge[0] = 1.01e+11, atol =>  9.999999999999999e-28\n",
      "Writing solution for /H2_1\n",
      "Writing solution for /H2_2\n",
      "Writing solution for /H_1\n",
      "Segmentation fault (core dumped)\n",
      "Successfully read in rate tables.\n",
      "Successfully read in cooling rate tables.\n",
      "Successfully read in gamma tables. \n",
      "Getting dimensionality from ge:\n",
      "  ncells =  262144\n",
      "Reading I.C. for /H2_1\n",
      "H2_1[0] = 1e-18, atol =>  9.999999999999999e-28\n",
      "Reading I.C. for /H2_2\n",
      "H2_2[0] = 1e-18, atol =>  9.999999999999999e-28\n",
      "Reading I.C. for /H_1\n",
      "H_1[0] = 76, atol =>  9.999999999999999e-28\n",
      "Reading I.C. for /H_2\n",
      "H_2[0] = 1e-18, atol =>  9.999999999999999e-28\n",
      "Reading I.C. for /H_m0\n",
      "H_m0[0] = 1e-18, atol =>  9.999999999999999e-28\n",
      "Reading I.C. for /He_1\n",
      "He_1[0] = 24, atol =>  9.999999999999999e-28\n",
      "Reading I.C. for /He_2\n",
      "He_2[0] = 1e-18, atol =>  9.999999999999999e-28\n",
      "Reading I.C. for /He_3\n",
      "He_3[0] = 1e-18, atol =>  9.999999999999999e-28\n",
      "Reading I.C. for /de\n",
      "de[0] = 1.25e-18, atol =>  9.999999999999999e-28\n",
      "Reading I.C. for /ge\n",
      "ge[0] = 1.01e+11, atol =>  9.999999999999999e-28\n",
      "Writing solution for /H2_1\n",
      "Writing solution for /H2_2\n",
      "Writing solution for /H_1\n",
      "Segmentation fault (core dumped)\n",
      "1 loop, best of 3: 1min 13s per loop\n"
     ]
    }
   ],
   "source": [
    "%%timeit\n",
    "!./a.out"
   ]
  },
  {
   "cell_type": "code",
   "execution_count": null,
   "metadata": {},
   "outputs": [],
   "source": [
    "!rm cooling_cell.h5"
   ]
  },
  {
   "cell_type": "code",
   "execution_count": null,
   "metadata": {},
   "outputs": [],
   "source": [
    "f = h5py.File('cooling_cell.h5')"
   ]
  },
  {
   "cell_type": "code",
   "execution_count": null,
   "metadata": {},
   "outputs": [],
   "source": [
    "f['data']['H2I'].value / 1.66e-24"
   ]
  },
  {
   "cell_type": "code",
   "execution_count": 65,
   "metadata": {},
   "outputs": [
    {
     "data": {
      "text/plain": [
       "9.928571428571429"
      ]
     },
     "execution_count": 65,
     "metadata": {},
     "output_type": "execute_result"
    }
   ],
   "source": [
    "139.0 / 14.0"
   ]
  },
  {
   "cell_type": "markdown",
   "metadata": {},
   "source": [
    "# Performance\n",
    "\n",
    "\n",
    "@ 1000K and 100 cm^-3 $64^3$ cells\n",
    "\n",
    "\n",
    "grackle:   \n",
    "16.0 s \n",
    "\n",
    "dengo  :   \n",
    "139.0s  (rtol - 1e-6)  \n",
    "83.0 s  (rtol - 1e-4)  \n",
    "73.0 s  (rtol - 1e-4) # approximate Jacobian  \n",
    "\n",
    "dengo-omp:  \n",
    "44.0 s  (rtol - 1e-4) # openmp 4 threads ... twice as fast only"
   ]
  },
  {
   "cell_type": "code",
   "execution_count": 79,
   "metadata": {},
   "outputs": [
    {
     "data": {
      "text/plain": [
       "4.5625"
      ]
     },
     "execution_count": 79,
     "metadata": {},
     "output_type": "execute_result"
    }
   ],
   "source": [
    "for primo"
   ]
  },
  {
   "cell_type": "code",
   "execution_count": 6,
   "metadata": {},
   "outputs": [
    {
     "data": {
      "text/plain": [
       "5.1875"
      ]
     },
     "execution_count": 6,
     "metadata": {},
     "output_type": "execute_result"
    }
   ],
   "source": [
    "83/16."
   ]
  },
  {
   "cell_type": "code",
   "execution_count": null,
   "metadata": {},
   "outputs": [],
   "source": []
  }
 ],
 "metadata": {
  "kernelspec": {
   "display_name": "Python 2",
   "language": "python",
   "name": "python2"
  },
  "language_info": {
   "codemirror_mode": {
    "name": "ipython",
    "version": 2
   },
   "file_extension": ".py",
   "mimetype": "text/x-python",
   "name": "python",
   "nbconvert_exporter": "python",
   "pygments_lexer": "ipython2",
   "version": "2.7.14"
  }
 },
 "nbformat": 4,
 "nbformat_minor": 2
}
