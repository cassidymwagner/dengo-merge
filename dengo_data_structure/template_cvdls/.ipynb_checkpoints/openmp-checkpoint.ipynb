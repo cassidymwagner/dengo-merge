{
 "cells": [
  {
   "cell_type": "code",
   "execution_count": 1,
   "metadata": {},
   "outputs": [
    {
     "name": "stderr",
     "output_type": "stream",
     "text": [
      "/home/kwoksun2/anaconda2/lib/python2.7/site-packages/h5py/__init__.py:36: FutureWarning: Conversion of the second argument of issubdtype from `float` to `np.floating` is deprecated. In future, it will be treated as `np.float64 == np.dtype(float).type`.\n",
      "  from ._conv import register_converters as _register_converters\n"
     ]
    },
    {
     "name": "stdout",
     "output_type": "stream",
     "text": [
      " using cli\n",
      " using CLI for selections\n"
     ]
    }
   ],
   "source": [
    "import sys\n",
    "import yt.units as u\n",
    "import numpy\n",
    "import numpy as np\n",
    "import matplotlib.pyplot as plt\n",
    "import pyximport\n",
    "\n",
    "from dengo.chemical_network import \\\n",
    "    ChemicalNetwork, \\\n",
    "    reaction_registry, \\\n",
    "    cooling_registry, species_registry\n",
    "import dengo.primordial_rates, dengo.primordial_cooling\n",
    "from dengo.chemistry_constants import tiny, kboltz, mh\n",
    "\n",
    "import os\n",
    "os.environ['YT_DEST'] = '/home/kwoksun2/anaconda2/pkgs/yt-3.3.5-np111py27_2/'"
   ]
  },
  {
   "cell_type": "code",
   "execution_count": 2,
   "metadata": {},
   "outputs": [],
   "source": [
    "def Init_values(temperature, density, n_species = 9, cooling=True):\n",
    "    \"\"\" Create a initial value dictionary,\n",
    "        for a given temperature, density, number of species\n",
    "    Args:\n",
    "        temperature -- in Kelvin\n",
    "        density     -- in amu / cm**3\n",
    "        n_species   -- number of species (6/9)\n",
    "        cooling\n",
    "\n",
    "    Returns:\n",
    "        init_values: initial value dictionary with\n",
    "                     self-consistent energy/ electron density\n",
    "        primordial : chemical_network classes\n",
    "\n",
    "    \"\"\"\n",
    "\n",
    "    # initialize and setup the network\n",
    "    dengo.primordial_rates.setup_primordial()\n",
    "    primordial = ChemicalNetwork()\n",
    "    primordial.threebody = 4\n",
    "\n",
    "    if n_species == 9:\n",
    "        for i in range(22):\n",
    "            try:\n",
    "                primordial.add_reaction(\"k{0:02d}\".format(i+1))\n",
    "            except:\n",
    "                pass\n",
    "    else:\n",
    "        for i in range(6):\n",
    "            try:\n",
    "                primordial.add_reaction(\"k{0:02d}\".format(i+1))\n",
    "            except:\n",
    "                pass\n",
    "\n",
    "    # the temperature array required to interpolates the rates\n",
    "    primordial.init_temperature((1e0, 1e5))\n",
    "\n",
    "    tiny = 1.0e-20\n",
    "\n",
    "    # init_array are is in fractional abundances\n",
    "    init_values = dict()\n",
    "    density = numpy.array([density])\n",
    "    if n_species == 6:\n",
    "        # 6-species model\n",
    "        init_values[\"He_1\"]    = density * (1.0 - 0.76)\n",
    "        init_values[\"He_2\"]    = np.array([tiny])\n",
    "        init_values[\"He_3\"]    = np.array([tiny])\n",
    "        init_values[\"H_1\"]     = density *  (0.76)\n",
    "        init_values['H_2']     = np.array([tiny]) \n",
    "    else:\n",
    "        # 9-species model\n",
    "        init_values[\"He_1\"]    = density * (1.0 - 0.76) \n",
    "        init_values[\"He_2\"]    = density *np.array([tiny])\n",
    "        init_values[\"He_3\"]    = density *np.array([tiny])\n",
    "        init_values[\"H_1\"]     = density *  (0.76)\n",
    "        init_values['H_2']     = density *np.array([tiny])\n",
    "\n",
    "        init_values[\"H_m0\"]    = density *np.array([tiny])\n",
    "        init_values[\"H2_1\"]    = density *np.array([tiny])\n",
    "        init_values[\"H2_2\"]    = density *np.array([tiny])\n",
    "\n",
    "    # now everything in mass density\n",
    "    init_values['de'] = primordial.calculate_free_electrons(init_values)\n",
    "    # one signle value: again mass density\n",
    "    init_values['density'] = primordial.calculate_total_density(init_values)\n",
    "\n",
    "    num_den = {}\n",
    "    for sp in primordial.required_species:\n",
    "        try:\n",
    "            num_den[sp.name] = init_values[sp.name]/ sp.weight\n",
    "            print(sp.name, sp.weight)\n",
    "        except:\n",
    "            pass\n",
    "    print( init_values['density'])\n",
    "    print(num_den)\n",
    "    # set up initial temperatures values used to define ge\n",
    "    init_values['T'] = numpy.array([temperature])\n",
    "\n",
    "    # calculate gammaH2\n",
    "    x = 6100.0/temperature\n",
    "    expx = numpy.exp(x)\n",
    "    gammaH2 = 2.0 / (5.0 + 2.0*x*x*expx / (expx - 1 )**2.0 ) + 1\n",
    "    print(gammaH2, gammaH2-7./5.)\n",
    "    gamma_factor = primordial.gamma_factor().subs(num_den).subs({'gammaH2': gammaH2 , 'gamma': 5./3.,'T': temperature })\n",
    "\n",
    "    ge  = ((temperature *  kboltz) *gamma_factor\n",
    "                         / (init_values['density'] * mh  ))\n",
    "\n",
    "    T = init_values['density']*ge*mh / kboltz / gamma_factor\n",
    "    print(\"difference in temperature:\", T - temperature)\n",
    "    init_values['ge'] = numpy.array( [numpy.float64(ge)] )\n",
    "\n",
    "    if cooling:\n",
    "        for cooling_action in cooling_registry:\n",
    "            k = cooling_registry[cooling_action]\n",
    "            if (k.species).issubset( primordial.required_species ):\n",
    "                if k.name != \"cie_cooling\":                    \n",
    "                    print(\"adding:\", k.name, k.equation)\n",
    "                    primordial.add_cooling(cooling_action)\n",
    "                    print('---------------------------')\n",
    "    return init_values, primordial"
   ]
  },
  {
   "cell_type": "code",
   "execution_count": 3,
   "metadata": {},
   "outputs": [
    {
     "name": "stdout",
     "output_type": "stream",
     "text": [
      "Adding reaction: k01 : 1*H_1 + 1*de => 1*H_2 + 2*de\n",
      "Adding reaction: k02 : 1*H_2 + 1*de => 1*H_1\n",
      "Adding reaction: k03 : 1*He_1 + 1*de => 1*He_2 + 2*de\n",
      "Adding reaction: k04 : 1*He_2 + 1*de => 1*He_1\n",
      "Adding reaction: k05 : 1*He_2 + 1*de => 1*He_3 + 2*de\n",
      "Adding reaction: k06 : 1*He_3 + 1*de => 1*He_2\n",
      "Adding reaction: k07 : 1*H_1 + 1*de => 1*H_m0\n",
      "Adding reaction: k08 : 1*H_m0 + 1*H_1 => 1*H2_1 + 1*de\n",
      "Adding reaction: k09 : 1*H_1 + 1*H_2 => 1*H2_2\n",
      "Adding reaction: k10 : 1*H2_2 + 1*H_1 => 1*H2_1 + 1*H_2\n",
      "Adding reaction: k11 : 1*H2_1 + 1*H_2 => 1*H2_2 + 1*H_1\n",
      "Adding reaction: k12 : 1*H2_1 + 1*de => 2*H_1 + 1*de\n",
      "Adding reaction: k13 : 1*H2_1 + 1*H_1 => 3*H_1\n",
      "Adding reaction: k14 : 1*H_m0 + 1*de => 1*H_1 + 2*de\n",
      "Adding reaction: k15 : 1*H_m0 + 1*H_1 => 2*H_1 + 1*de\n",
      "Adding reaction: k16 : 1*H_m0 + 1*H_2 => 2*H_1\n",
      "Adding reaction: k17 : 1*H_m0 + 1*H_2 => 1*H2_2 + 1*de\n",
      "Adding reaction: k18 : 1*H2_2 + 1*de => 2*H_1\n",
      "Adding reaction: k19 : 1*H2_2 + 1*H_m0 => 1*H_1 + 1*H2_1\n",
      "Adding reaction: k21 : 2*H_1 + 1*H2_1 => 2*H2_1\n",
      "Adding reaction: k22 : 2*H_1 + 1*H_1 => 1*H2_1 + 1*H_1\n",
      "('H2_1', 2.01588)\n",
      "('H2_2', 2.01588)\n",
      "('He_1', 4.002602)\n",
      "('H_m0', 1.00794)\n",
      "('He_3', 4.002602)\n",
      "('He_2', 4.002602)\n",
      "('H_1', 1.00794)\n",
      "('de', 1.0)\n",
      "('H_2', 1.00794)\n",
      "[1.e+10]\n",
      "{'H_2': array([9.92122547e-11]), 'H_1': array([7.54013136e+09]), 'de': array([1.24557372e-10]), 'He_1': array([5.99609954e+08]), 'He_2': array([2.49837481e-11]), 'He_3': array([2.49837481e-11]), 'H2_2': array([4.96061273e-11]), 'H2_1': array([4.96061273e-11]), 'H_m0': array([9.92122547e-11])}\n",
      "(1.3349580801046539, -0.06504191989534602)\n",
      "('difference in temperature:', array([-4.54747350886464e-13], dtype=object))\n"
     ]
    }
   ],
   "source": [
    "density = 1e10\n",
    "initial_temperature = 2000.0\n",
    "final_time = 1e10\n",
    "\n",
    "final_time_Myr = u.second.in_units('Myr').v * final_time\n",
    "\n",
    "init, primordial = Init_values(initial_temperature, \n",
    "                               density, n_species = 9, \n",
    "                               cooling=False)"
   ]
  },
  {
   "cell_type": "code",
   "execution_count": 215,
   "metadata": {},
   "outputs": [
    {
     "data": {
      "text/plain": [
       "array([1.        , 1.35938145, 1.48853641, 1.53495226, 1.55163325,\n",
       "       1.55762808, 1.55978251, 1.56055677, 1.56083502, 1.56093502])"
      ]
     },
     "execution_count": 215,
     "metadata": {},
     "output_type": "execute_result"
    }
   ],
   "source": [
    "qde / (qh+qhe)"
   ]
  },
  {
   "cell_type": "code",
   "execution_count": 23,
   "metadata": {},
   "outputs": [
    {
     "data": {
      "text/plain": [
       "array([3.53409686e-28, 1.04003422e-26, 1.20765138e-25, 1.74968087e-24,\n",
       "       2.22046296e-23, 2.91658714e-22, 3.83005303e-21, 4.92579851e-20,\n",
       "       6.44226459e-19, 8.24656057e-18])"
      ]
     },
     "execution_count": 23,
     "metadata": {},
     "output_type": "execute_result"
    }
   ],
   "source": [
    "f = h5py.File(\"dlsmem_solution.h5\")\n",
    "\n",
    "qh = f['H_2'].value / 1.00794  - f['H_m0'].value/ 1.00794 + f['H2_2'].value/ 2.01588\n",
    "qhe = f['He_2'].value / 4.002602  + 2.0*f['He_3'].value / 4.002602\n",
    "qde = f['de'].value\n",
    "f.close()\n",
    "numpy.abs(qh + qhe - qde)"
   ]
  },
  {
   "cell_type": "code",
   "execution_count": 22,
   "metadata": {},
   "outputs": [
    {
     "name": "stdout",
     "output_type": "stream",
     "text": [
      "[3.76081248e+06 1.31599588e+07 4.31040403e+07 1.15363879e+08\n",
      " 1.87873114e+08 1.02776897e+08 2.12928936e+08 2.36330198e+09\n",
      " 2.15983303e+10 1.55338803e+11]\n"
     ]
    }
   ],
   "source": [
    "f = h5py.File(\"dlsmem_solution.h5\")\n",
    "print(f['H2_1'].value)\n",
    "f.close()"
   ]
  },
  {
   "cell_type": "code",
   "execution_count": 24,
   "metadata": {},
   "outputs": [
    {
     "data": {
      "text/plain": [
       "array([-1.57934726e-15, -1.29327611e-14, -4.17858897e-14, -1.68457889e-13,\n",
       "       -5.94867826e-13, -2.17418425e-12, -7.94457408e-12, -2.84306586e-11,\n",
       "       -1.03464957e-10, -3.68529303e-10])"
      ]
     },
     "execution_count": 24,
     "metadata": {},
     "output_type": "execute_result"
    }
   ],
   "source": [
    "(qh+qhe - qde) / qde"
   ]
  },
  {
   "cell_type": "code",
   "execution_count": 21,
   "metadata": {},
   "outputs": [],
   "source": [
    "import h5py"
   ]
  },
  {
   "cell_type": "code",
   "execution_count": 105,
   "metadata": {},
   "outputs": [
    {
     "data": {
      "text/plain": [
       "array([1.        , 1.44214909])"
      ]
     },
     "execution_count": 105,
     "metadata": {},
     "output_type": "execute_result"
    }
   ],
   "source": [
    "qde/(qh+qhe)"
   ]
  },
  {
   "cell_type": "code",
   "execution_count": 115,
   "metadata": {},
   "outputs": [
    {
     "ename": "SyntaxError",
     "evalue": "invalid syntax (<ipython-input-115-72342fa0c4e7>, line 1)",
     "output_type": "error",
     "traceback": [
      "\u001b[0;36m  File \u001b[0;32m\"<ipython-input-115-72342fa0c4e7>\"\u001b[0;36m, line \u001b[0;32m1\u001b[0m\n\u001b[0;31m    answer: 4.1979e+07\u001b[0m\n\u001b[0m          ^\u001b[0m\n\u001b[0;31mSyntaxError\u001b[0m\u001b[0;31m:\u001b[0m invalid syntax\n"
     ]
    }
   ],
   "source": [
    "answer: 4.1979e+07\n",
    "answer: 5.7328e-18\n",
    "answer: 9.4085e+09\n",
    "answer: 1.8735e-10\n",
    "answer: 2.8197e-16\n",
    "answer: 7.5486e+08\n",
    "answer: 3.1453e-11\n",
    "answer: 3.1453e-11\n",
    "answer: 4.0627e-10\n",
    "answer: 2.0133e+11"
   ]
  },
  {
   "cell_type": "code",
   "execution_count": 80,
   "metadata": {},
   "outputs": [],
   "source": [
    "solver_name = 'new'\n",
    "pyximport.install(setup_args={\"include_dirs\":np.get_include()},\n",
    "                  reload_support=True, inplace=True)\n",
    "\n",
    "primordial.stop_time = 1.0e10\n",
    "# write the network\n",
    "\n",
    "primordial.write_solver(solver_name, output_dir = \".\",\n",
    "    solver_template = \"openmp-cvdls/sundials_CVDls\",\n",
    "    ode_solver_source = \"initialize_cvode_solver.C\",\n",
    "    init_values=init,\n",
    "    input_is_number=False)\n",
    "\n",
    "# import the pyx module\n",
    "# sundials_cvdls_run = pyximport.load_module(\"{}_run\".format(solver_name),\n",
    "#                 \"{}_solver_run.pyx\".format(solver_name),\n",
    "#                  build_inplace = True, pyxbuild_dir = \"_dengo_temp\")"
   ]
  },
  {
   "cell_type": "code",
   "execution_count": 81,
   "metadata": {},
   "outputs": [],
   "source": [
    "!g++ new_solver.C new_solver_main.C initialize_cvode_solver.C -I. -I/home/kwoksun2/cvode-3.1.0/instdir/include/ -lm -lstdc++ -lhdf5 -lhdf5_hl /home/kwoksun2/cvode-3.1.0/instdir/lib/libsundials_cvode.a /home/kwoksun2/cvode-3.1.0/instdir/lib/libsundials_nvecserial.a -g"
   ]
  },
  {
   "cell_type": "code",
   "execution_count": 82,
   "metadata": {},
   "outputs": [
    {
     "name": "stdout",
     "output_type": "stream",
     "text": [
      "Successfully read in rate tables.\r\n",
      "Successfully read in cooling rate tables.\r\n",
      "Successfully read in gamma tables. \r\n",
      "Getting dimensionality from ge:\r\n",
      "  ncells =   1\r\n",
      "Reading I.C. for /H2_1\r\n",
      "H2_1[0] = 1e-10, atol =>  1e-19\r\n",
      "Reading I.C. for /H2_2\r\n",
      "H2_2[0] = 1e-10, atol =>  1e-19\r\n",
      "Reading I.C. for /H_1\r\n",
      "H_1[0] = 7.6e+09, atol =>  1e-19\r\n",
      "Reading I.C. for /H_2\r\n",
      "H_2[0] = 1e-10, atol =>  1e-19\r\n",
      "Reading I.C. for /H_m0\r\n",
      "H_m0[0] = 1e-10, atol =>  1e-19\r\n",
      "Reading I.C. for /He_1\r\n",
      "He_1[0] = 2.4e+09, atol =>  1e-19\r\n",
      "Reading I.C. for /He_2\r\n",
      "He_2[0] = 1e-10, atol =>  1e-19\r\n",
      "Reading I.C. for /He_3\r\n",
      "He_3[0] = 1e-10, atol =>  1e-19\r\n",
      "Reading I.C. for /de\r\n",
      "de[0] = 1.25e-10, atol =>  1e-19\r\n",
      "Reading I.C. for /ge\r\n",
      "ge[0] = 2.02e+11, atol =>  1e-19\r\n",
      "data->scale[0] = 4.4273e+17 \r\n",
      "data->scale[1] = 9.2109e-08 \r\n",
      "data->scale[2] = 0.99417 \r\n",
      "data->scale[3] = 1.5 \r\n",
      "data->scale[4] = 1.5682e-06 \r\n",
      "data->scale[5] = 1 \r\n",
      "data->scale[6] = 1 \r\n",
      "data->scale[7] = 1 \r\n",
      "data->scale[8] = 1.7965 \r\n",
      "data->scale[9] = 1 \r\n",
      "Writing solution for /H2_1\r\n",
      "Writing solution for /H2_2\r\n",
      "Writing solution for /H_1\r\n",
      "Writing solution for /H_2\r\n",
      "Writing solution for /H_m0\r\n",
      "Writing solution for /He_1\r\n",
      "Writing solution for /He_2\r\n",
      "Writing solution for /He_3\r\n",
      "Writing solution for /de\r\n",
      "Writing solution for /ge\r\n"
     ]
    }
   ],
   "source": [
    "!./a.out"
   ]
  },
  {
   "cell_type": "code",
   "execution_count": 9,
   "metadata": {},
   "outputs": [
    {
     "data": {
      "text/plain": [
       "array([1.16750543e-11, 1.20194636e-11, 1.18467035e-11, ...,\n",
       "       3.13460153e-08, 3.09138821e-08, 2.93095836e-08])"
      ]
     },
     "execution_count": 9,
     "metadata": {},
     "output_type": "execute_result"
    }
   ],
   "source": [
    "f = h5py.File(\"../cxxexample/openmp_example/cvdls_9species_solution.h5\")\n",
    "\n",
    "qh = f['H_2'].value / 1.00794  - f['H_m0'].value/ 1.00794 + f['H2_2'].value/ 2.01588\n",
    "qhe = f['He_2'].value / 4.002602  + 2.0*f['He_3'].value / 4.002602\n",
    "qde = f['de'].value\n",
    "f.close()\n",
    "numpy.abs( (qh + qhe - qde) / qde)"
   ]
  },
  {
   "cell_type": "code",
   "execution_count": null,
   "metadata": {},
   "outputs": [],
   "source": [
    "plt.hist(numpy.abs( (qh + qhe - qde) / qde))"
   ]
  },
  {
   "cell_type": "code",
   "execution_count": 84,
   "metadata": {},
   "outputs": [
    {
     "name": "stdout",
     "output_type": "stream",
     "text": [
      "(u'H2_1', array([44272642.12198136]))\n",
      "(u'H2_2', array([9.21088935e-18]))\n",
      "(u'H_1', array([7.55572736e+09]))\n",
      "(u'H_2', array([1.49999995e-10]))\n",
      "(u'H_m0', array([1.56818173e-16]))\n",
      "(u'He_1', array([2.4e+09]))\n",
      "(u'He_2', array([1.e-10]))\n",
      "(u'He_3', array([1.e-10]))\n",
      "(u'de', array([2.23769471e-10]))\n",
      "(u'ge', array([2.01787599e+11]))\n"
     ]
    }
   ],
   "source": [
    "f = h5py.File(\"new_solution.h5\")\n",
    "\n",
    "for k in f.keys():\n",
    "    print(k, f[k].value)\n",
    "f.close()"
   ]
  },
  {
   "cell_type": "code",
   "execution_count": 5,
   "metadata": {},
   "outputs": [
    {
     "data": {
      "text/plain": [
       "31.999999999999993"
      ]
     },
     "execution_count": 5,
     "metadata": {},
     "output_type": "execute_result"
    }
   ],
   "source": [
    "32768**(1/3.)"
   ]
  },
  {
   "cell_type": "code",
   "execution_count": 7,
   "metadata": {},
   "outputs": [],
   "source": [
    "import h5py"
   ]
  },
  {
   "cell_type": "code",
   "execution_count": null,
   "metadata": {},
   "outputs": [],
   "source": []
  }
 ],
 "metadata": {
  "kernelspec": {
   "display_name": "Python 2",
   "language": "python",
   "name": "python2"
  },
  "language_info": {
   "codemirror_mode": {
    "name": "ipython",
    "version": 2
   },
   "file_extension": ".py",
   "mimetype": "text/x-python",
   "name": "python",
   "nbconvert_exporter": "python",
   "pygments_lexer": "ipython2",
   "version": "2.7.14"
  }
 },
 "nbformat": 4,
 "nbformat_minor": 2
}
