{
 "cells": [
  {
   "cell_type": "code",
   "execution_count": 1,
   "metadata": {},
   "outputs": [
    {
     "name": "stdout",
     "output_type": "stream",
     "text": [
      " using cli\n",
      " using CLI for selections\n"
     ]
    }
   ],
   "source": [
    "import sys\n",
    "import yt.units as u\n",
    "import numpy\n",
    "import numpy as np\n",
    "import matplotlib.pyplot as plt\n",
    "\n",
    "from dengo.chemical_network import \\\n",
    "    ChemicalNetwork, \\\n",
    "    reaction_registry, \\\n",
    "    cooling_registry, species_registry\n",
    "import dengo.primordial_rates, dengo.primordial_cooling\n",
    "from dengo.chemistry_constants import tiny, kboltz, mh\n"
   ]
  },
  {
   "cell_type": "code",
   "execution_count": 6,
   "metadata": {},
   "outputs": [],
   "source": [
    "import sys\n",
    "sys.path.append(\"../examples/cvdls_examples/9species_cooling\") \n",
    "sys.path.append(\"../examples/cvspils_examples/9species_cooling\") \n",
    "sys.path.append(\"../examples/be_chem_solve_examples/9species_cooling/\") \n",
    "\n",
    "from generate_dls_cooling_network import run_cvdls\n",
    "from generate_cvspils_cooling_network import run_cvspils\n",
    "from generate_bechem_cooling_network import run_bechem"
   ]
  },
  {
   "cell_type": "code",
   "execution_count": 7,
   "metadata": {},
   "outputs": [],
   "source": [
    "def Init_values(temperature, density, n_species = 9, cooling=True):\n",
    "    \"\"\" Create a initial value dictionary,\n",
    "        for a given temperature, density, number of species\n",
    "    Args:\n",
    "        temperature -- in Kelvin\n",
    "        density     -- in amu / cm**3\n",
    "        n_species   -- number of species (6/9)\n",
    "        cooling\n",
    "\n",
    "    Returns:\n",
    "        init_values: initial value dictionary with\n",
    "                     self-consistent energy/ electron density\n",
    "        primordial : chemical_network classes\n",
    "\n",
    "    \"\"\"\n",
    "\n",
    "    # initialize and setup the network\n",
    "    dengo.primordial_rates.setup_primordial()\n",
    "    primordial = ChemicalNetwork()\n",
    "    primordial.threebody = 4\n",
    "\n",
    "    if n_species == 9:\n",
    "        for i in range(22):\n",
    "            try:\n",
    "                primordial.add_reaction(\"k{0:02d}\".format(i+1))\n",
    "            except:\n",
    "                pass\n",
    "    else:\n",
    "        for i in range(6):\n",
    "            try:\n",
    "                primordial.add_reaction(\"k{0:02d}\".format(i+1))\n",
    "            except:\n",
    "                pass\n",
    "\n",
    "    # the temperature array required to interpolates the rates\n",
    "    primordial.init_temperature((1e0, 1e5))\n",
    "\n",
    "    tiny = 1.0e-20\n",
    "\n",
    "    # init_array are is in fractional abundances\n",
    "    init_values = dict()\n",
    "    density = numpy.array([density])\n",
    "    if n_species == 6:\n",
    "        # 6-species model\n",
    "        init_values[\"He_1\"]    = density * (1.0 - 0.76)\n",
    "        init_values[\"He_2\"]    = np.array([tiny])\n",
    "        init_values[\"He_3\"]    = np.array([tiny])\n",
    "        init_values[\"H_1\"]     = density *  (0.76)\n",
    "        init_values['H_2']     = np.array([tiny]) \n",
    "    else:\n",
    "        # 9-species model\n",
    "        init_values[\"He_1\"]    = density * (1.0 - 0.76) \n",
    "        init_values[\"He_2\"]    = density *np.array([tiny])\n",
    "        init_values[\"He_3\"]    = density *np.array([tiny])\n",
    "        init_values[\"H_1\"]     = density *  (0.76) / 2.\n",
    "        init_values['H_2']     = density *np.array([tiny])\n",
    "\n",
    "        init_values[\"H_m0\"]    = density *np.array([tiny])\n",
    "        init_values[\"H2_1\"]    = density *  (0.76) / 2.\n",
    "        init_values[\"H2_2\"]    = density *np.array([tiny])\n",
    "\n",
    "    # now everything in mass density\n",
    "    init_values['de'] = primordial.calculate_free_electrons(init_values)\n",
    "    # one signle value: again mass density\n",
    "    init_values['density'] = primordial.calculate_total_density(init_values)\n",
    "\n",
    "    num_den = {}\n",
    "    for sp in primordial.required_species:\n",
    "        try:\n",
    "            num_den[sp.name] = init_values[sp.name]/ sp.weight\n",
    "            print(sp.name, sp.weight)\n",
    "        except:\n",
    "            pass\n",
    "    print( init_values['density'])\n",
    "    print(num_den)\n",
    "    # set up initial temperatures values used to define ge\n",
    "    init_values['T'] = numpy.array([temperature])\n",
    "\n",
    "    # calculate gammaH2\n",
    "    x = 6100.0/temperature\n",
    "    expx = numpy.exp(x)\n",
    "    gammaH2 = 2.0 / (5.0 + 2.0*x*x*expx / (expx - 1 )**2.0 ) + 1\n",
    "    print(gammaH2, gammaH2-7./5.)\n",
    "    gamma_factor = primordial.gamma_factor().subs(num_den).subs({'gammaH2': gammaH2 , 'gamma': 5./3.,'T': temperature })\n",
    "\n",
    "    ge  = ((temperature *  kboltz) *gamma_factor\n",
    "                         / (init_values['density'] * mh  ))\n",
    "\n",
    "    T = init_values['density']*ge*mh / kboltz / gamma_factor\n",
    "    print(\"difference in temperature:\", T - temperature)\n",
    "    init_values['ge'] = numpy.array( [numpy.float64(ge)] )\n",
    "\n",
    "    if cooling:\n",
    "        for cooling_action in cooling_registry:\n",
    "            k = cooling_registry[cooling_action]\n",
    "            if (k.species).issubset( primordial.required_species ):\n",
    "                if k.name != \"cie_cooling\":                    \n",
    "                    print(\"adding:\", k.name, k.equation)\n",
    "                    primordial.add_cooling(cooling_action)\n",
    "                    print('---------------------------')\n",
    "    return init_values, primordial"
   ]
  },
  {
   "cell_type": "code",
   "execution_count": 8,
   "metadata": {},
   "outputs": [
    {
     "ename": "NameError",
     "evalue": "name 'initial_temperature' is not defined",
     "output_type": "error",
     "traceback": [
      "\u001b[0;31m---------------------------------------------------------------------------\u001b[0m",
      "\u001b[0;31mNameError\u001b[0m                                 Traceback (most recent call last)",
      "\u001b[0;32m<ipython-input-8-97163a6ab309>\u001b[0m in \u001b[0;36m<module>\u001b[0;34m()\u001b[0m\n\u001b[0;32m----> 1\u001b[0;31m init, primordial = Init_values(initial_temperature, \n\u001b[0m\u001b[1;32m      2\u001b[0m                                \u001b[0mdensity\u001b[0m\u001b[0;34m,\u001b[0m \u001b[0mn_species\u001b[0m \u001b[0;34m=\u001b[0m \u001b[0;36m9\u001b[0m\u001b[0;34m,\u001b[0m\u001b[0;34m\u001b[0m\u001b[0m\n\u001b[1;32m      3\u001b[0m                                cooling=False)\n\u001b[1;32m      4\u001b[0m \u001b[0;34m\u001b[0m\u001b[0m\n\u001b[1;32m      5\u001b[0m \u001b[0;32mprint\u001b[0m\u001b[0;34m(\u001b[0m\u001b[0mprimordial\u001b[0m\u001b[0;34m.\u001b[0m\u001b[0mgamma_factor\u001b[0m\u001b[0;34m(\u001b[0m\u001b[0;34m)\u001b[0m\u001b[0;34m)\u001b[0m\u001b[0;34m\u001b[0m\u001b[0m\n",
      "\u001b[0;31mNameError\u001b[0m: name 'initial_temperature' is not defined"
     ]
    }
   ],
   "source": [
    "init, primordial = Init_values(initial_temperature, \n",
    "                               density, n_species = 9, \n",
    "                               cooling=False)\n",
    "\n",
    "print(primordial.gamma_factor())\n",
    "primordial.temperature_calculation()\n"
   ]
  },
  {
   "cell_type": "code",
   "execution_count": 11,
   "metadata": {},
   "outputs": [
    {
     "name": "stdout",
     "output_type": "stream",
     "text": [
      "Adding reaction: k01 : 1*H_1 + 1*de => 1*H_2 + 2*de\n",
      "Adding reaction: k02 : 1*H_2 + 1*de => 1*H_1\n",
      "Adding reaction: k03 : 1*He_1 + 1*de => 1*He_2 + 2*de\n",
      "Adding reaction: k04 : 1*He_2 + 1*de => 1*He_1\n",
      "Adding reaction: k05 : 1*He_2 + 1*de => 1*He_3 + 2*de\n",
      "Adding reaction: k06 : 1*He_3 + 1*de => 1*He_2\n",
      "Adding reaction: k07 : 1*H_1 + 1*de => 1*H_m0\n",
      "Adding reaction: k08 : 1*H_m0 + 1*H_1 => 1*H2_1 + 1*de\n",
      "Adding reaction: k09 : 1*H_1 + 1*H_2 => 1*H2_2\n",
      "Adding reaction: k10 : 1*H2_2 + 1*H_1 => 1*H2_1 + 1*H_2\n",
      "Adding reaction: k11 : 1*H2_1 + 1*H_2 => 1*H2_2 + 1*H_1\n",
      "Adding reaction: k12 : 1*H2_1 + 1*de => 2*H_1 + 1*de\n",
      "Adding reaction: k13 : 1*H2_1 + 1*H_1 => 3*H_1\n",
      "Adding reaction: k14 : 1*H_m0 + 1*de => 1*H_1 + 2*de\n",
      "Adding reaction: k15 : 1*H_m0 + 1*H_1 => 2*H_1 + 1*de\n",
      "Adding reaction: k16 : 1*H_m0 + 1*H_2 => 2*H_1\n",
      "Adding reaction: k17 : 1*H_m0 + 1*H_2 => 1*H2_2 + 1*de\n",
      "Adding reaction: k18 : 1*H2_2 + 1*de => 2*H_1\n",
      "Adding reaction: k19 : 1*H2_2 + 1*H_m0 => 1*H_1 + 1*H2_1\n",
      "Adding reaction: k21 : 2*H_1 + 1*H2_1 => 2*H2_1\n",
      "Adding reaction: k22 : 2*H_1 + 1*H_1 => 1*H2_1 + 1*H_1\n",
      "('H2_1', 2.01588)\n",
      "('H2_2', 2.01588)\n",
      "('He_1', 4.002602)\n",
      "('H_m0', 1.00794)\n",
      "('He_3', 4.002602)\n",
      "('He_2', 4.002602)\n",
      "('H_1', 1.00794)\n",
      "('de', 1.0)\n",
      "('H_2', 1.00794)\n",
      "[  1.00000000e+10]\n",
      "{'H_2': array([  9.92122547e-11]), 'H_1': array([  3.77006568e+09]), 'de': array([  1.24557372e-10]), 'He_1': array([  5.99609954e+08]), 'He_2': array([  2.49837481e-11]), 'He_3': array([  2.49837481e-11]), 'H2_2': array([  4.96061273e-11]), 'H2_1': array([  1.88503284e+09]), 'H_m0': array([  9.92122547e-11])}\n",
      "(1.3349580801046539, -0.065041919895346023)\n",
      "('difference in temperature:', array([-4.54747350886464e-13], dtype=object))\n",
      "three body rate: 4\n"
     ]
    },
    {
     "name": "stderr",
     "output_type": "stream",
     "text": [
      "/home/kwoksun2/anaconda2/lib/python2.7/site-packages/numpy/__init__.py:1: RuntimeWarning: invalid value encountered in multiply\n",
      "  \"\"\"\n",
      "/home/kwoksun2/anaconda2/lib/python2.7/site-packages/numpy/__init__.py:1: RuntimeWarning: invalid value encountered in multiply\n",
      "  \"\"\"\n",
      "/home/kwoksun2/anaconda2/lib/python2.7/site-packages/numpy/__init__.py:1: RuntimeWarning: invalid value encountered in multiply\n",
      "  \"\"\"\n",
      "/home/kwoksun2/anaconda2/lib/python2.7/site-packages/numpy/__init__.py:1: RuntimeWarning: invalid value encountered in multiply\n",
      "  \"\"\"\n"
     ]
    },
    {
     "name": "stdout",
     "output_type": "stream",
     "text": [
      "initial  temperature: 2.000E+03\n",
      "Successful iteration[    0]: (1.000e+10) 1.000e+10 / 1.000e+10\n",
      "End in 1 iterations: 1.00000e+10 / 1.00000e+10 (0.00000e+00)\n"
     ]
    }
   ],
   "source": [
    "density = 1e10\n",
    "initial_temperature = 2000.0\n",
    "final_time = 1e10\n",
    "\n",
    "final_time_Myr = u.second.in_units('Myr').v * final_time\n",
    "\n",
    "init, primordial = Init_values(initial_temperature, \n",
    "                               density, n_species = 9, \n",
    "                               cooling=False)\n",
    "\n",
    "\n",
    "\n",
    "# # run our solver\n",
    "rv, cvdls_data, run_time_cvdls = run_cvdls( initial_temperature, \n",
    "                                          density, final_time, \n",
    "                                          init=init, primordial=primordial, max_iter = 1)"
   ]
  },
  {
   "cell_type": "code",
   "execution_count": 12,
   "metadata": {},
   "outputs": [
    {
     "data": {
      "text/plain": [
       "{'H2_1': array([[ 85446860.41438703]]),\n",
       " 'H2_2': array([[  4.54468306e-18]]),\n",
       " 'H_1': array([[  7.36923764e+09]]),\n",
       " 'H_2': array([[  1.48818378e-10]]),\n",
       " 'H_m0': array([[  1.55146899e-16]]),\n",
       " 'He_1': array([[  5.99609954e+08]]),\n",
       " 'He_2': array([[  2.49837481e-11]]),\n",
       " 'He_3': array([[  2.49837481e-11]]),\n",
       " 'T': array([[ 1994.79708564]]),\n",
       " 'de': array([[  2.23769471e-10]]),\n",
       " 'dt': array([  1.00000000e+10]),\n",
       " 'ge': array([[  2.01334255e+11]]),\n",
       " 'successful': array([ True], dtype=bool),\n",
       " 't': array([  1.00000000e+10])}"
      ]
     },
     "execution_count": 12,
     "metadata": {},
     "output_type": "execute_result"
    }
   ],
   "source": [
    "cvdls_data"
   ]
  },
  {
   "cell_type": "code",
   "execution_count": null,
   "metadata": {},
   "outputs": [],
   "source": []
  }
 ],
 "metadata": {
  "kernelspec": {
   "display_name": "Python 2",
   "language": "python",
   "name": "python2"
  },
  "language_info": {
   "codemirror_mode": {
    "name": "ipython",
    "version": 2
   },
   "file_extension": ".py",
   "mimetype": "text/x-python",
   "name": "python",
   "nbconvert_exporter": "python",
   "pygments_lexer": "ipython2",
   "version": "2.7.11"
  }
 },
 "nbformat": 4,
 "nbformat_minor": 2
}
