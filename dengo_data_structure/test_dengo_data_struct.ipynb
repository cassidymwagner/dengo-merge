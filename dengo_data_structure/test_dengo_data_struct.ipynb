{
 "cells": [
  {
   "cell_type": "code",
   "execution_count": 1,
   "metadata": {},
   "outputs": [
    {
     "name": "stderr",
     "output_type": "stream",
     "text": [
      "/home/kwoksun2/anaconda2/lib/python2.7/site-packages/h5py/__init__.py:36: FutureWarning: Conversion of the second argument of issubdtype from `float` to `np.floating` is deprecated. In future, it will be treated as `np.float64 == np.dtype(float).type`.\n",
      "  from ._conv import register_converters as _register_converters\n"
     ]
    },
    {
     "name": "stdout",
     "output_type": "stream",
     "text": [
      " using cli\n",
      " using CLI for selections\n"
     ]
    }
   ],
   "source": [
    "import sys\n",
    "import yt.units as u\n",
    "import numpy\n",
    "import numpy as np\n",
    "import matplotlib.pyplot as plt\n",
    "import pyximport\n",
    "\n",
    "from dengo.chemical_network import \\\n",
    "    ChemicalNetwork, \\\n",
    "    reaction_registry, \\\n",
    "    cooling_registry, species_registry\n",
    "import dengo.primordial_rates, dengo.primordial_cooling\n",
    "from dengo.chemistry_constants import tiny, kboltz, mh\n",
    "import h5py\n",
    "import os\n",
    "import numpy\n",
    "import h5py\n",
    "\n",
    "os.environ['HDF5_DIR'] = '/home/kwoksun2/anaconda2/'"
   ]
  },
  {
   "cell_type": "code",
   "execution_count": 2,
   "metadata": {},
   "outputs": [],
   "source": [
    "def Init_values(temperature, density, n_species = 9, cooling=True, size=10):\n",
    "    \"\"\" Create a initial value dictionary,\n",
    "        for a given temperature, density, number of species\n",
    "    Args:\n",
    "        temperature -- in Kelvin\n",
    "        density     -- in amu / cm**3\n",
    "        n_species   -- number of species (6/9)\n",
    "        cooling\n",
    "\n",
    "    Returns:\n",
    "        init_values: initial value dictionary with\n",
    "                     self-consistent energy/ electron density\n",
    "        primordial : chemical_network classes\n",
    "\n",
    "    \"\"\"\n",
    "\n",
    "    # initialize and setup the network\n",
    "    dengo.primordial_rates.setup_primordial()\n",
    "    primordial = ChemicalNetwork()\n",
    "    primordial.threebody = 4\n",
    "    primordial.include_binding_energy = 0\n",
    "    \n",
    "    if n_species == 9:\n",
    "        for i in range(22):\n",
    "            try:\n",
    "                primordial.add_reaction(\"k{0:02d}\".format(i+1))\n",
    "            except:\n",
    "                pass\n",
    "    else:\n",
    "        for i in range(6):\n",
    "            try:\n",
    "                primordial.add_reaction(\"k{0:02d}\".format(i+1))\n",
    "            except:\n",
    "                pass\n",
    "\n",
    "    # the temperature array required to interpolates the rates\n",
    "    primordial.init_temperature((1e0, 1e5))\n",
    "\n",
    "    tiny = 1.0e-10\n",
    "\n",
    "    # init_array are is in fractional abundances\n",
    "    init_values = dict()\n",
    "    density = numpy.array([density])*numpy.ones((size))\n",
    "    if n_species == 6:\n",
    "        # 6-species model\n",
    "        init_values[\"He_1\"]    = density * (1.0 - 0.76)\n",
    "        init_values[\"He_2\"]    = np.array([tiny])\n",
    "        init_values[\"He_3\"]    = np.array([tiny])\n",
    "        init_values[\"H_1\"]     = density *  (0.76)\n",
    "        init_values['H_2']     = np.array([tiny]) \n",
    "    else:\n",
    "        # 9-species model\n",
    "        init_values[\"He_1\"]    = density * (1.0 - 0.76) \n",
    "        init_values[\"He_2\"]    = density *np.array([tiny])\n",
    "        init_values[\"He_3\"]    = density *np.array([tiny])\n",
    "        init_values[\"H_1\"]     = density *  (0.76)\n",
    "        init_values['H_2']     = density *np.array([tiny])\n",
    "\n",
    "        init_values[\"H_m0\"]    = density *np.array([tiny])\n",
    "        init_values[\"H2_1\"]    = density *np.array([tiny])\n",
    "        init_values[\"H2_2\"]    = density *np.array([tiny])\n",
    "\n",
    "    # now everything in mass density\n",
    "    init_values['de'] = primordial.calculate_free_electrons(init_values)\n",
    "    # one signle value: again mass density\n",
    "    init_values['density'] = primordial.calculate_total_density(init_values)\n",
    "\n",
    "    num_den = {}\n",
    "    for sp in primordial.required_species:\n",
    "        try:\n",
    "            num_den[sp.name] = init_values[sp.name]/ sp.weight\n",
    "        except:\n",
    "            pass\n",
    "\n",
    "    # set up initial temperatures values used to define ge\n",
    "    init_values['T'] = numpy.array([temperature])*numpy.ones((size))\n",
    "    ge_array = numpy.ones((size))\n",
    "    init_values['ge'] = ge_array\n",
    "    \n",
    "    # calculate gammaH2\n",
    "    \n",
    "    for i in range(size):\n",
    "        \n",
    "        temperature = init_values['T'][i]\n",
    "        x = 6100.0/temperature\n",
    "        expx = numpy.exp(x)\n",
    "        gammaH2 = 2.0 / (5.0 + 2.0*x*x*expx / (expx - 1 )**2.0 ) + 1\n",
    "\n",
    "        rs = primordial.required_species\n",
    "        H2_1_sp = list(rs)[0]\n",
    "        gammaH2 = primordial.species_gamma(H2_1_sp,name=False, temp=True).subs({'T':temperature})\n",
    "\n",
    "        new_num_den = {}\n",
    "        for ele in num_den.keys():\n",
    "            new_num_den[ele] = num_den[ele][i]\n",
    "        \n",
    "        gamma_factor = primordial.gamma_factor().subs(new_num_den).subs({'gammaH2_2': gammaH2 ,'gammaH2_1': gammaH2 , 'gamma': 5./3.,'T': temperature })\n",
    "\n",
    "        ge  = ((temperature *  kboltz) *gamma_factor\n",
    "                             / (init_values['density'][i] * mh  ))\n",
    "\n",
    "        \n",
    "        T = init_values['density']*ge*mh / kboltz / gamma_factor\n",
    "        init_values['ge'][i] = numpy.float64(ge)\n",
    "    print(ge)\n",
    "    if cooling:\n",
    "        for cooling_action in cooling_registry:\n",
    "            k = cooling_registry[cooling_action]\n",
    "            if (k.species).issubset( primordial.required_species ):\n",
    "                print(\"adding cooling: {}\".format(k.name) )\n",
    "                primordial.add_cooling(cooling_action)\n",
    "    return init_values, primordial"
   ]
  },
  {
   "cell_type": "code",
   "execution_count": 77,
   "metadata": {},
   "outputs": [
    {
     "name": "stdout",
     "output_type": "stream",
     "text": [
      "Adding reaction: k01 : 1*H_1 + 1*de => 1*H_2 + 2*de\n",
      "Adding reaction: k02 : 1*H_2 + 1*de => 1*H_1\n",
      "Adding reaction: k03 : 1*He_1 + 1*de => 1*He_2 + 2*de\n",
      "Adding reaction: k04 : 1*He_2 + 1*de => 1*He_1\n",
      "Adding reaction: k05 : 1*He_2 + 1*de => 1*He_3 + 2*de\n",
      "Adding reaction: k06 : 1*He_3 + 1*de => 1*He_2\n",
      "Adding reaction: k07 : 1*H_1 + 1*de => 1*H_m0\n",
      "Adding reaction: k08 : 1*H_m0 + 1*H_1 => 1*H2_1 + 1*de\n",
      "Adding reaction: k09 : 1*H_1 + 1*H_2 => 1*H2_2\n",
      "Adding reaction: k10 : 1*H2_2 + 1*H_1 => 1*H2_1 + 1*H_2\n",
      "Adding reaction: k11 : 1*H2_1 + 1*H_2 => 1*H2_2 + 1*H_1\n",
      "Adding reaction: k12 : 1*H2_1 + 1*de => 2*H_1 + 1*de\n",
      "Adding reaction: k13 : 1*H2_1 + 1*H_1 => 3*H_1\n",
      "Adding reaction: k14 : 1*H_m0 + 1*de => 1*H_1 + 2*de\n",
      "Adding reaction: k15 : 1*H_m0 + 1*H_1 => 2*H_1 + 1*de\n",
      "Adding reaction: k16 : 1*H_m0 + 1*H_2 => 2*H_1\n",
      "Adding reaction: k17 : 1*H_m0 + 1*H_2 => 1*H2_2 + 1*de\n",
      "Adding reaction: k18 : 1*H2_2 + 1*de => 2*H_1\n",
      "Adding reaction: k19 : 1*H2_2 + 1*H_m0 => 1*H_1 + 1*H2_1\n",
      "Adding reaction: k21 : 2*H_1 + 1*H2_1 => 2*H2_1\n",
      "Adding reaction: k22 : 2*H_1 + 1*H_1 => 1*H2_1 + 1*H_1\n",
      "302681398465.791\n",
      "adding cooling: brem\n",
      "adding cooling: reHII\n",
      "adding cooling: reHeIII\n",
      "adding cooling: gloverabel08\n",
      "adding cooling: ceHI\n",
      "adding cooling: compton\n",
      "adding cooling: h2formation\n",
      "adding cooling: reHeII2\n",
      "adding cooling: reHeII1\n",
      "adding cooling: ciHeIS\n",
      "adding cooling: ceHeII\n",
      "adding cooling: ciHI\n",
      "adding cooling: ceHeI\n",
      "adding cooling: gammah\n",
      "adding cooling: cie_cooling\n",
      "adding cooling: ciHeI\n",
      "adding cooling: ciHeII\n"
     ]
    }
   ],
   "source": [
    "density = 1e14\n",
    "initial_temperature = 3000.0\n",
    "final_time = (1.0 / (u.G * u.mass_hydrogen * u.cm**-3 * density)**0.5).in_cgs().v\n",
    "\n",
    "\n",
    "\n",
    "init, primordial = Init_values(initial_temperature, \n",
    "                               density, n_species = 9, \n",
    "                               cooling=True,size=1)\n",
    "primordial.stop_time = final_time\n",
    "\n",
    "\n",
    "solver_name = \"cvklu\"\n",
    "\n",
    "# solver tempelate are organized into different folders\n",
    "# cv/sundials_CVDls is the latest one\n",
    "# and it has to be used together with \"initialize_cvode_solver.C\"\n",
    "\n",
    "primordial.write_solver(solver_name, output_dir = \".\",\n",
    "    solver_template = \"cv_omp/sundials_CVDls\",\n",
    "    ode_solver_source = \"initialize_cvode_solver.C\",\n",
    "    init_values=init,\n",
    "    input_is_number=False)"
   ]
  },
  {
   "cell_type": "code",
   "execution_count": 74,
   "metadata": {},
   "outputs": [],
   "source": [
    "import pyximport\n",
    "pyximport.install(setup_args={\"include_dirs\":np.get_include()},\n",
    "                      reload_support=True, inplace=True)\n",
    "\n",
    "\n",
    "cvklu_run = pyximport.load_module(\"cvklu_run\",\n",
    "                            \"cvklu_solver_run.pyx\",\n",
    "                            build_inplace = True, pyxbuild_dir = \"_dengo_temp\")\n"
   ]
  },
  {
   "cell_type": "code",
   "execution_count": 75,
   "metadata": {},
   "outputs": [
    {
     "name": "stdout",
     "output_type": "stream",
     "text": [
      "Adding reaction: k01 : 1*H_1 + 1*de => 1*H_2 + 2*de\n",
      "Adding reaction: k02 : 1*H_2 + 1*de => 1*H_1\n",
      "Adding reaction: k03 : 1*He_1 + 1*de => 1*He_2 + 2*de\n",
      "Adding reaction: k04 : 1*He_2 + 1*de => 1*He_1\n",
      "Adding reaction: k05 : 1*He_2 + 1*de => 1*He_3 + 2*de\n",
      "Adding reaction: k06 : 1*He_3 + 1*de => 1*He_2\n",
      "Adding reaction: k07 : 1*H_1 + 1*de => 1*H_m0\n",
      "Adding reaction: k08 : 1*H_m0 + 1*H_1 => 1*H2_1 + 1*de\n",
      "Adding reaction: k09 : 1*H_1 + 1*H_2 => 1*H2_2\n",
      "Adding reaction: k10 : 1*H2_2 + 1*H_1 => 1*H2_1 + 1*H_2\n",
      "Adding reaction: k11 : 1*H2_1 + 1*H_2 => 1*H2_2 + 1*H_1\n",
      "Adding reaction: k12 : 1*H2_1 + 1*de => 2*H_1 + 1*de\n",
      "Adding reaction: k13 : 1*H2_1 + 1*H_1 => 3*H_1\n",
      "Adding reaction: k14 : 1*H_m0 + 1*de => 1*H_1 + 2*de\n",
      "Adding reaction: k15 : 1*H_m0 + 1*H_1 => 2*H_1 + 1*de\n",
      "Adding reaction: k16 : 1*H_m0 + 1*H_2 => 2*H_1\n",
      "Adding reaction: k17 : 1*H_m0 + 1*H_2 => 1*H2_2 + 1*de\n",
      "Adding reaction: k18 : 1*H2_2 + 1*de => 2*H_1\n",
      "Adding reaction: k19 : 1*H2_2 + 1*H_m0 => 1*H_1 + 1*H2_1\n",
      "Adding reaction: k21 : 2*H_1 + 1*H2_1 => 2*H2_1\n",
      "Adding reaction: k22 : 2*H_1 + 1*H_1 => 1*H2_1 + 1*H_1\n",
      "302681398465.791\n",
      "adding cooling: brem\n",
      "adding cooling: reHII\n",
      "adding cooling: reHeIII\n",
      "adding cooling: gloverabel08\n",
      "adding cooling: ceHI\n",
      "adding cooling: compton\n",
      "adding cooling: h2formation\n",
      "adding cooling: reHeII2\n",
      "adding cooling: reHeII1\n",
      "adding cooling: ciHeIS\n",
      "adding cooling: ceHeII\n",
      "adding cooling: ciHI\n",
      "adding cooling: ceHeI\n",
      "adding cooling: gammah\n",
      "adding cooling: cie_cooling\n",
      "adding cooling: ciHeI\n",
      "adding cooling: ciHeII\n",
      "Successful iteration[    0]: (1.000e+00) 1.000e+00 / 1.000e+06\n",
      "Successful iteration[  100]: (1.378e+04) 1.516e+05 / 1.000e+06\n",
      "End in 121 iterations: 1.00000e+06 / 1.00000e+06 (0.00000e+00)\n"
     ]
    },
    {
     "data": {
      "image/png": "[encoded data removed]",
      "text/plain": [
       "<Figure size 432x288 with 1 Axes>"
      ]
     },
     "metadata": {},
     "output_type": "display_data"
    }
   ],
   "source": [
    "init, primordial = Init_values(initial_temperature, \n",
    "                               density, n_species = 9, \n",
    "                               cooling=True,size=1)\n",
    "rv, rv_int_sundials = cvklu_run.run_cvklu(init, 1e6, niter=1e6)\n",
    "t = rv_int_sundials['t']\n",
    "H2_1 = rv_int_sundials['H2_1']\n",
    "H_1 = rv_int_sundials['H_1']\n",
    "\n",
    "flag = rv_int_sundials['successful']\n",
    "\n",
    "plt.loglog(t[flag], H2_1[0][flag])\n",
    "plt.loglog(t[flag], H_1[0][flag])\n",
    "plt.show()"
   ]
  },
  {
   "cell_type": "code",
   "execution_count": 76,
   "metadata": {},
   "outputs": [
    {
     "name": "stdout",
     "output_type": "stream",
     "text": [
      "Adding reaction: k01 : 1*H_1 + 1*de => 1*H_2 + 2*de\n",
      "Adding reaction: k02 : 1*H_2 + 1*de => 1*H_1\n",
      "Adding reaction: k03 : 1*He_1 + 1*de => 1*He_2 + 2*de\n",
      "Adding reaction: k04 : 1*He_2 + 1*de => 1*He_1\n",
      "Adding reaction: k05 : 1*He_2 + 1*de => 1*He_3 + 2*de\n",
      "Adding reaction: k06 : 1*He_3 + 1*de => 1*He_2\n",
      "Adding reaction: k07 : 1*H_1 + 1*de => 1*H_m0\n",
      "Adding reaction: k08 : 1*H_m0 + 1*H_1 => 1*H2_1 + 1*de\n",
      "Adding reaction: k09 : 1*H_1 + 1*H_2 => 1*H2_2\n",
      "Adding reaction: k10 : 1*H2_2 + 1*H_1 => 1*H2_1 + 1*H_2\n",
      "Adding reaction: k11 : 1*H2_1 + 1*H_2 => 1*H2_2 + 1*H_1\n",
      "Adding reaction: k12 : 1*H2_1 + 1*de => 2*H_1 + 1*de\n",
      "Adding reaction: k13 : 1*H2_1 + 1*H_1 => 3*H_1\n",
      "Adding reaction: k14 : 1*H_m0 + 1*de => 1*H_1 + 2*de\n",
      "Adding reaction: k15 : 1*H_m0 + 1*H_1 => 2*H_1 + 1*de\n",
      "Adding reaction: k16 : 1*H_m0 + 1*H_2 => 2*H_1\n",
      "Adding reaction: k17 : 1*H_m0 + 1*H_2 => 1*H2_2 + 1*de\n",
      "Adding reaction: k18 : 1*H2_2 + 1*de => 2*H_1\n",
      "Adding reaction: k19 : 1*H2_2 + 1*H_m0 => 1*H_1 + 1*H2_1\n",
      "Adding reaction: k21 : 2*H_1 + 1*H2_1 => 2*H2_1\n",
      "Adding reaction: k22 : 2*H_1 + 1*H_1 => 1*H2_1 + 1*H_1\n",
      "302681398465.791\n",
      "adding cooling: brem\n",
      "adding cooling: reHII\n",
      "adding cooling: reHeIII\n",
      "adding cooling: gloverabel08\n",
      "adding cooling: ceHI\n",
      "adding cooling: compton\n",
      "adding cooling: h2formation\n",
      "adding cooling: reHeII2\n",
      "adding cooling: reHeII1\n",
      "adding cooling: ciHeIS\n",
      "adding cooling: ceHeII\n",
      "adding cooling: ciHI\n",
      "adding cooling: ceHeI\n",
      "adding cooling: gammah\n",
      "adding cooling: cie_cooling\n",
      "adding cooling: ciHeI\n",
      "adding cooling: ciHeII\n",
      "Successful iteration[    0]: (1.000e+05) 1.000e+05 / 1.000e+06\n",
      "End in 8 iterations: 1.00000e+06 / 1.00000e+06 (0.00000e+00)\n"
     ]
    },
    {
     "data": {
      "image/png": "[encoded data removed]",
      "text/plain": [
       "<Figure size 432x288 with 1 Axes>"
      ]
     },
     "metadata": {},
     "output_type": "display_data"
    }
   ],
   "source": [
    "init, primordial = Init_values(initial_temperature, \n",
    "                               density, n_species = 9, \n",
    "                               cooling=True,size=1)\n",
    "rv, rv_int_sundials10 = cvklu_run.run_cvklu(init, 1e6, niter=1e1)\n",
    "\n",
    "t_10 = rv_int_sundials10['t']\n",
    "H2_1_10 = rv_int_sundials10['H2_1']\n",
    "H_1_10 = rv_int_sundials10['H_1']\n",
    "\n",
    "flag_10 = rv_int_sundials10['successful']\n",
    "\n",
    "plt.loglog(t_10[flag_10], H2_1_10[0][flag_10])\n",
    "plt.loglog(t_10[flag_10], H_1_10[0][flag_10])\n",
    "\n",
    "plt.loglog(t[flag], H2_1[0][flag])\n",
    "plt.loglog(t[flag], H_1[0][flag])\n",
    "plt.show()\n",
    "\n",
    "\n"
   ]
  },
  {
   "cell_type": "code",
   "execution_count": 49,
   "metadata": {},
   "outputs": [
    {
     "data": {
      "image/png": "[encoded data removed]",
      "text/plain": [
       "<Figure size 432x288 with 1 Axes>"
      ]
     },
     "metadata": {},
     "output_type": "display_data"
    }
   ],
   "source": [
    "t = rv_int_sundials['t']\n",
    "H2_1 = rv_int_sundials['H2_1']\n",
    "H_1 = rv_int_sundials['H_1']\n",
    "\n",
    "plt.loglog(t[:100], H2_1[0][:100])\n",
    "plt.loglog(t[:100], H_1[0][:100])\n",
    "plt.show()"
   ]
  },
  {
   "cell_type": "code",
   "execution_count": 42,
   "metadata": {},
   "outputs": [
    {
     "data": {
      "text/plain": [
       "array([1.  , 2.1 , 3.31, ..., 0.  , 0.  , 0.  ])"
      ]
     },
     "execution_count": 42,
     "metadata": {},
     "output_type": "execute_result"
    }
   ],
   "source": [
    "rv_int_sundials['t']"
   ]
  },
  {
   "cell_type": "code",
   "execution_count": 44,
   "metadata": {},
   "outputs": [
    {
     "name": "stdout",
     "output_type": "stream",
     "text": [
      "Adding reaction: k01 : 1*H_1 + 1*de => 1*H_2 + 2*de\n",
      "Adding reaction: k02 : 1*H_2 + 1*de => 1*H_1\n",
      "Adding reaction: k03 : 1*He_1 + 1*de => 1*He_2 + 2*de\n",
      "Adding reaction: k04 : 1*He_2 + 1*de => 1*He_1\n",
      "Adding reaction: k05 : 1*He_2 + 1*de => 1*He_3 + 2*de\n",
      "Adding reaction: k06 : 1*He_3 + 1*de => 1*He_2\n",
      "Adding reaction: k07 : 1*H_1 + 1*de => 1*H_m0\n",
      "Adding reaction: k08 : 1*H_m0 + 1*H_1 => 1*H2_1 + 1*de\n",
      "Adding reaction: k09 : 1*H_1 + 1*H_2 => 1*H2_2\n",
      "Adding reaction: k10 : 1*H2_2 + 1*H_1 => 1*H2_1 + 1*H_2\n",
      "Adding reaction: k11 : 1*H2_1 + 1*H_2 => 1*H2_2 + 1*H_1\n",
      "Adding reaction: k12 : 1*H2_1 + 1*de => 2*H_1 + 1*de\n",
      "Adding reaction: k13 : 1*H2_1 + 1*H_1 => 3*H_1\n",
      "Adding reaction: k14 : 1*H_m0 + 1*de => 1*H_1 + 2*de\n",
      "Adding reaction: k15 : 1*H_m0 + 1*H_1 => 2*H_1 + 1*de\n",
      "Adding reaction: k16 : 1*H_m0 + 1*H_2 => 2*H_1\n",
      "Adding reaction: k17 : 1*H_m0 + 1*H_2 => 1*H2_2 + 1*de\n",
      "Adding reaction: k18 : 1*H2_2 + 1*de => 2*H_1\n",
      "Adding reaction: k19 : 1*H2_2 + 1*H_m0 => 1*H_1 + 1*H2_1\n",
      "Adding reaction: k21 : 2*H_1 + 1*H2_1 => 2*H2_1\n",
      "Adding reaction: k22 : 2*H_1 + 1*H_1 => 1*H2_1 + 1*H_1\n",
      "302681398465.791\n",
      "adding cooling: brem\n",
      "adding cooling: reHII\n",
      "adding cooling: reHeIII\n",
      "adding cooling: gloverabel08\n",
      "adding cooling: ceHI\n",
      "adding cooling: compton\n",
      "adding cooling: h2formation\n",
      "adding cooling: reHeII2\n",
      "adding cooling: reHeII1\n",
      "adding cooling: ciHeIS\n",
      "adding cooling: ceHeII\n",
      "adding cooling: ciHI\n",
      "adding cooling: ceHeI\n",
      "adding cooling: gammah\n",
      "adding cooling: cie_cooling\n",
      "adding cooling: ciHeI\n",
      "adding cooling: ciHeII\n"
     ]
    }
   ],
   "source": [
    "density = 1e14\n",
    "initial_temperature = 3000.0\n",
    "final_time = (1.0 / (u.G * u.mass_hydrogen * u.cm**-3 * density)**0.5).in_cgs().v\n",
    "\n",
    "\n",
    "\n",
    "init, primordial = Init_values(initial_temperature, \n",
    "                               density, n_species = 9, \n",
    "                               cooling=True,size=1)\n",
    "\n",
    "# for sp in primordial.required_species:\n",
    "#     if sp.name not in primordial.skip_weight:\n",
    "#         init[sp.name] *= mh\n",
    "#     elif sp.name == 'de':\n",
    "#         init[sp.name] *= mh"
   ]
  },
  {
   "cell_type": "code",
   "execution_count": 10,
   "metadata": {},
   "outputs": [
    {
     "name": "stdout",
     "output_type": "stream",
     "text": [
      "(Species: H2_1, gammaH2)\n",
      "(Species: H2_2, gammaH2)\n",
      "(Species: ge, gamma)\n",
      "(Species: He_1, gamma)\n",
      "(Species: H_m0, gamma)\n",
      "(Species: He_3, gamma)\n",
      "(Species: He_2, gamma)\n",
      "(Species: H_1, gamma)\n",
      "(Species: de, gamma)\n",
      "(Species: H_2, gamma)\n"
     ]
    }
   ],
   "source": [
    "for i in primordial.required_species:\n",
    "    print(i, primordial.species_gamma(i))"
   ]
  },
  {
   "cell_type": "markdown",
   "metadata": {},
   "source": []
  }
 ],
 "metadata": {
  "kernelspec": {
   "display_name": "Python 2",
   "language": "python",
   "name": "python2"
  },
  "language_info": {
   "codemirror_mode": {
    "name": "ipython",
    "version": 2
   },
   "file_extension": ".py",
   "mimetype": "text/x-python",
   "name": "python",
   "nbconvert_exporter": "python",
   "pygments_lexer": "ipython2",
   "version": "2.7.14"
  }
 },
 "nbformat": 4,
 "nbformat_minor": 2
}
