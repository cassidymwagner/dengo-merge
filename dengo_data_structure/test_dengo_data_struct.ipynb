{
 "cells": [
  {
   "cell_type": "code",
   "execution_count": 1,
   "metadata": {},
   "outputs": [
    {
     "name": "stdout",
     "output_type": "stream",
     "text": [
      " ChiantiPy version 0.8.7 \n",
      " found PyQt5 widgets\n",
      " using PyQt5 widgets\n"
     ]
    }
   ],
   "source": [
    "import sys\n",
    "import yt.units as u\n",
    "import numpy\n",
    "import numpy as np\n",
    "import matplotlib.pyplot as plt\n",
    "import pyximport\n",
    "\n",
    "from dengo.chemical_network import \\\n",
    "    ChemicalNetwork, \\\n",
    "    reaction_registry, \\\n",
    "    cooling_registry, species_registry\n",
    "import dengo.primordial_rates, dengo.primordial_cooling\n",
    "from dengo.chemistry_constants import tiny, kboltz, mh\n",
    "import h5py\n",
    "import os\n",
    "import numpy\n",
    "import h5py\n",
    "\n",
    "\n",
    "# This will link the cython executable to the correct hdf5 file\n",
    "os.environ[\"HDF5_DIR\"] = \"/home/kwoksun2/anaconda3\""
   ]
  },
  {
   "cell_type": "code",
   "execution_count": 2,
   "metadata": {},
   "outputs": [
    {
     "data": {
      "text/plain": [
       "\u001b[0;31mType:\u001b[0m        module\n",
       "\u001b[0;31mString form:\u001b[0m <module 'dengo.chemical_network' from '/home/kwoksun2/dengo-git/dengo/chemical_network.py'>\n",
       "\u001b[0;31mFile:\u001b[0m        ~/dengo-git/dengo/chemical_network.py\n",
       "\u001b[0;31mDocstring:\u001b[0m  \n",
       "Author: Matthew Turk <matthewturk@gmail.com>\n",
       "Affiliation: Columbia University\n",
       "Homepage: http://yt.enzotools.org/\n",
       "License:\n",
       "  Copyright (C) 2012 Matthew Turk.  All Rights Reserved.\n",
       "\n",
       "  This file is part of the dengo package.\n",
       "\n",
       "  This file is free software; you can redistribute it and/or modify\n",
       "  it under the terms of the GNU General Public License as published by\n",
       "  the Free Software Foundation; either version 3 of the License, or\n",
       "  (at your option) any later version.\n",
       "\n",
       "  This program is distributed in the hope that it will be useful,\n",
       "  but WITHOUT ANY WARRANTY; without even the implied warranty of\n",
       "  MERCHANTABILITY or FITNESS FOR A PARTICULAR PURPOSE.  See the\n",
       "  GNU General Public License for more details.\n",
       "\n",
       "  You should have received a copy of the GNU General Public License\n",
       "  along with this program.  If not, see <http://www.gnu.org/licenses/>.\n"
      ]
     },
     "metadata": {},
     "output_type": "display_data"
    }
   ],
   "source": [
    "?dengo.chemical_network"
   ]
  },
  {
   "cell_type": "code",
   "execution_count": 2,
   "metadata": {},
   "outputs": [],
   "source": [
    "def Init_values(temperature, density, n_species = 9, cooling=True, size=10):\n",
    "    \"\"\" Create a initial value dictionary,\n",
    "        for a given temperature, density, number of species\n",
    "    Args:\n",
    "        temperature -- in Kelvin\n",
    "        density     -- in amu / cm**3\n",
    "        n_species   -- number of species (6/9)\n",
    "        cooling\n",
    "\n",
    "    Returns:\n",
    "        init_values: initial value dictionary with\n",
    "                     self-consistent energy/ electron density\n",
    "        primordial : chemical_network classes\n",
    "\n",
    "    \"\"\"\n",
    "\n",
    "    # initialize and setup the network\n",
    "    # these reactions are setup in the dengo/primordial_rates.py\n",
    "    dengo.primordial_rates.setup_primordial()\n",
    "    primordial = ChemicalNetwork()\n",
    "    \n",
    "    # special flags for primordial network\n",
    "    primordial.threebody = 4\n",
    "    primordial.include_binding_energy = 0\n",
    "    \n",
    "    # add reactions\n",
    "    if n_species == 9:\n",
    "        for i in range(22):\n",
    "            try:\n",
    "                primordial.add_reaction(\"k{0:02d}\".format(i+1))\n",
    "            except:\n",
    "                pass\n",
    "    else:\n",
    "        for i in range(6):\n",
    "            try:\n",
    "                primordial.add_reaction(\"k{0:02d}\".format(i+1))\n",
    "            except:\n",
    "                pass\n",
    "\n",
    "    # the temperature range for rate look up table\n",
    "    primordial.init_temperature((1e0, 1e5))\n",
    "\n",
    "    tiny = 1.0e-10\n",
    "\n",
    "    # init_array are is in fractional abundances\n",
    "    init_values = dict()\n",
    "    density = numpy.array([density])*numpy.ones((size))\n",
    "    if n_species == 6:\n",
    "        # 6-species model\n",
    "        iniotal_values[\"He_1\"]    = density * (1.0 - 0.76)\n",
    "        init_values[\"He_2\"]    = np.array([tiny])\n",
    "        init_values[\"He_3\"]    = np.array([tiny])\n",
    "        init_values[\"H_1\"]     = density *  (0.76)\n",
    "        init_values['H_2']     = np.array([tiny]) \n",
    "    else:\n",
    "        # 9-species model\n",
    "        init_values[\"He_1\"]    = density * (1.0 - 0.76) \n",
    "        init_values[\"He_2\"]    = density *np.array([tiny])\n",
    "        init_values[\"He_3\"]    = density *np.array([tiny])\n",
    "        init_values[\"H_1\"]     = density *  (0.76)\n",
    "        init_values['H_2']     = density *np.array([tiny])\n",
    "\n",
    "        init_values[\"H_m0\"]    = density *np.array([tiny])\n",
    "        init_values[\"H2_1\"]    = density * 1.0e-3\n",
    "        init_values[\"H2_2\"]    = density *np.array([tiny])\n",
    "\n",
    "    # now everything in mass density\n",
    "    init_values['de'] = primordial.calculate_free_electrons(init_values)\n",
    "    # one signle value: again mass density\n",
    "    init_values['density'] = primordial.calculate_total_density(init_values)\n",
    "\n",
    "    num_den = {}\n",
    "    for sp in primordial.required_species:\n",
    "        try:\n",
    "            num_den[sp.name] = init_values[sp.name]/ sp.weight\n",
    "        except:\n",
    "            pass\n",
    "\n",
    "    # set up initial temperatures values used to define ge\n",
    "    init_values['T'] = numpy.array([temperature])*numpy.ones((size))\n",
    "    ge_array = numpy.ones((size))\n",
    "    init_values['ge'] = ge_array * 3.0/2.0 * kboltz * temperature / mh\n",
    "    \n",
    "    # since gammaH2 is temperature dependent\n",
    "    # we need to iteratively calculate T\n",
    "    for i in range(size):\n",
    "        \n",
    "        temperature = init_values['T'][i]\n",
    "        x = 6100.0/temperature\n",
    "        expx = numpy.exp(x)\n",
    "        gammaH2 = 2.0 / (5.0 + 2.0*x*x*expx / (expx - 1 )**2.0 ) + 1\n",
    "\n",
    "        rs = primordial.required_species\n",
    "        H2_1_sp = list(rs)[0]\n",
    "        gammaH2 = primordial.species_gamma(H2_1_sp,name=False, temp=True).subs({'T':temperature})\n",
    "\n",
    "        new_num_den = {}\n",
    "        for ele in num_den.keys():\n",
    "            new_num_den[ele] = num_den[ele][i]\n",
    "        \n",
    "        gamma_factor = primordial.gamma_factor().subs(new_num_den).subs({'gammaH2_2': gammaH2 , \n",
    "                                                                         'gammaH2_1': gammaH2, \n",
    "                                                                          'T': temperature }).subs({\"gamma\": 5./3.})\n",
    "        ge  = ((temperature *  kboltz) *gamma_factor\n",
    "                             / (init_values['density'][i] * mh  ))\n",
    "\n",
    "        \n",
    "        T = init_values['density']*ge*mh / kboltz / gamma_factor\n",
    "        \n",
    "        init_values['ge'][i] = numpy.float64(ge)\n",
    "    if cooling:\n",
    "        for cooling_action in cooling_registry:\n",
    "            k = cooling_registry[cooling_action]\n",
    "            if (k.species).issubset( primordial.required_species ):\n",
    "                print(\"Adding cooling: {}\".format(k.name) )\n",
    "                primordial.add_cooling(cooling_action)\n",
    "    return init_values, primordial"
   ]
  },
  {
   "cell_type": "code",
   "execution_count": 3,
   "metadata": {},
   "outputs": [
    {
     "name": "stdout",
     "output_type": "stream",
     "text": [
      "Adding reaction: k01 : 1*H_1 + 1*de => 1*H_2 + 2*de\n",
      "Adding reaction: k02 : 1*H_2 + 1*de => 1*H_1\n",
      "Adding reaction: k03 : 1*He_1 + 1*de => 1*He_2 + 2*de\n",
      "Adding reaction: k04 : 1*He_2 + 1*de => 1*He_1\n",
      "Adding reaction: k05 : 1*He_2 + 1*de => 1*He_3 + 2*de\n",
      "Adding reaction: k06 : 1*He_3 + 1*de => 1*He_2\n",
      "Adding reaction: k07 : 1*H_1 + 1*de => 1*H_m0\n",
      "Adding reaction: k08 : 1*H_m0 + 1*H_1 => 1*H2_1 + 1*de\n",
      "Adding reaction: k09 : 1*H_1 + 1*H_2 => 1*H2_2\n",
      "Adding reaction: k10 : 1*H2_2 + 1*H_1 => 1*H2_1 + 1*H_2\n",
      "Adding reaction: k11 : 1*H2_1 + 1*H_2 => 1*H2_2 + 1*H_1\n",
      "Adding reaction: k12 : 1*H2_1 + 1*de => 2*H_1 + 1*de\n",
      "Adding reaction: k13 : 1*H2_1 + 1*H_1 => 3*H_1\n",
      "Adding reaction: k14 : 1*H_m0 + 1*de => 1*H_1 + 2*de\n",
      "Adding reaction: k15 : 1*H_m0 + 1*H_1 => 2*H_1 + 1*de\n",
      "Adding reaction: k16 : 1*H_m0 + 1*H_2 => 2*H_1\n",
      "Adding reaction: k17 : 1*H_m0 + 1*H_2 => 1*H2_2 + 1*de\n",
      "Adding reaction: k18 : 1*H2_2 + 1*de => 2*H_1\n",
      "Adding reaction: k19 : 1*H2_2 + 1*H_m0 => 1*H_1 + 1*H2_1\n",
      "Adding reaction: k21 : 2*H_1 + 1*H2_1 => 2*H2_1\n",
      "Adding reaction: k22 : 2*H_1 + 1*H_1 => 1*H2_1 + 1*H_1\n",
      "Adding cooling: ceHI\n",
      "Adding cooling: ceHeI\n",
      "Adding cooling: ceHeII\n",
      "Adding cooling: ciHeIS\n",
      "Adding cooling: ciHI\n",
      "Adding cooling: ciHeI\n",
      "Adding cooling: ciHeII\n",
      "Adding cooling: reHII\n",
      "Adding cooling: reHeII1\n",
      "Adding cooling: reHeII2\n",
      "Adding cooling: reHeIII\n",
      "Adding cooling: brem\n",
      "Adding cooling: gloverabel08\n",
      "Adding cooling: compton\n",
      "Adding cooling: gammah\n",
      "Adding cooling: h2formation\n",
      "Adding cooling: cie_cooling\n"
     ]
    }
   ],
   "source": [
    "density = 1.0e12\n",
    "initial_temperature = 2000.0\n",
    "# evolve it for roughly over a freefall time\n",
    "final_time = (1.0 / (u.G * u.mass_hydrogen * u.cm**-3 * density)**0.5).in_cgs().v\n",
    "\n",
    "\n",
    "\n",
    "init, primordial = Init_values(initial_temperature, \n",
    "                               density, n_species = 9, \n",
    "                               cooling=True,size=1)\n",
    "primordial.stop_time = final_time\n",
    "solver_name = \"cvklu\"\n",
    "\n",
    "# specify also the Makefile path\n",
    "library_path = {}\n",
    "library_path[\"CVODE_PATH\"] = \"/home/kwoksun2/cvode-3.1.0/instdir\"\n",
    "library_path[\"HDF5_PATH\"] = \"/home/kwoksun2/anaconda3\"\n",
    "library_path[\"SUITESPARSE_PATH\"] = \"/home/kwoksun2/SuiteSparse\"\n",
    "library_path[\"DENGO_INSTALL_PATH\"] = \"/home/kwoksun2/dengo_install\"\n",
    "\n",
    "# solver tempelate are organized into different folders\n",
    "# cv_omp/sundials_CVDls is the latest one\n",
    "# and it has to be used together with \"initialize_cvode_solver.C\"\n",
    "primordial.write_solver(solver_name, output_dir = \".\",\n",
    "    solver_template = \"cv_omp/sundials_CVDls\",\n",
    "    ode_solver_source = \"initialize_cvode_solver.C\",\n",
    "    init_values=init,\n",
    "    input_is_number=False, library_path = library_path)"
   ]
  },
  {
   "cell_type": "code",
   "execution_count": 4,
   "metadata": {},
   "outputs": [
    {
     "name": "stderr",
     "output_type": "stream",
     "text": [
      "/home/kwoksun2/anaconda3/lib/python3.7/site-packages/Cython/Compiler/Main.py:369: FutureWarning: Cython directive 'language_level' not set, using 2 for now (Py2). This will change in a later release! File: /home/kwoksun2/dengo-git/dengo_data_structure/cvklu_solver_run.pyx\n",
      "  tree = Parsing.p_module(s, pxd, full_module_name)\n"
     ]
    }
   ],
   "source": [
    "import pyximport\n",
    "\n",
    "# build the cython file from the auto-generated files above\n",
    "pyximport.install(setup_args={\"include_dirs\":np.get_include()},\n",
    "                      reload_support=True, inplace=True)\n",
    "\n",
    "\n",
    "cvklu_run = pyximport.load_module(\"cvklu_run\",\n",
    "                            \"cvklu_solver_run.pyx\",\n",
    "                            build_inplace = True, pyxbuild_dir = \"_dengo_temp\")\n"
   ]
  },
  {
   "cell_type": "code",
   "execution_count": 5,
   "metadata": {},
   "outputs": [
    {
     "name": "stdout",
     "output_type": "stream",
     "text": [
      "Successful iteration[    0]: (2.992e+03) 2.992e+03 / 2.992e+09\n",
      "Successful iteration[  100]: (4.123e+07) 4.535e+08 / 2.992e+09\n",
      "End in 121 iterations: 2.99205e+09 / 2.99205e+09 (0.00000e+00)\n"
     ]
    },
    {
     "data": {
      "image/png": "[encoded data removed]",
      "text/plain": [
       "<Figure size 432x288 with 1 Axes>"
      ]
     },
     "metadata": {
      "needs_background": "light"
     },
     "output_type": "display_data"
    }
   ],
   "source": [
    "rv, rv_int_sundials = cvklu_run.run_cvklu(init, final_time, niter=1e6)\n",
    "t = rv_int_sundials['t']\n",
    "H2_1 = rv_int_sundials['H2_1']\n",
    "H_1 = rv_int_sundials['H_1']\n",
    "ge  = rv_int_sundials['ge']\n",
    "\n",
    "flag = rv_int_sundials['successful']\n",
    "\n",
    "\n",
    "plt.loglog(t[flag], H2_1[0][flag], label = \"H2\")\n",
    "plt.loglog(t[flag], H_1[0][flag], label = \"HI\")\n",
    "plt.xlabel(\"Time (s)\")\n",
    "plt.ylabel(\"Abundance ($cm^{-3}$)\")\n",
    "plt.legend()\n",
    "plt.show()"
   ]
  },
  {
   "cell_type": "code",
   "execution_count": 6,
   "metadata": {},
   "outputs": [
    {
     "data": {
      "image/png": "[encoded data removed]",
      "text/plain": [
       "<Figure size 432x288 with 1 Axes>"
      ]
     },
     "metadata": {
      "needs_background": "light"
     },
     "output_type": "display_data"
    }
   ],
   "source": [
    "fig, ax1 = plt.subplots()\n",
    "\n",
    "\n",
    "ax1.semilogx(t[flag], ge[0][flag], label = \"Thermal Energy\")\n",
    "ax1.set_xlabel(\"Time (s)\")\n",
    "ax1.set_ylabel(\"Energy per mass (erg / g)\")\n",
    "\n",
    "fig.tight_layout() \n",
    "fig.legend()\n",
    "plt.show()"
   ]
  },
  {
   "cell_type": "code",
   "execution_count": null,
   "metadata": {},
   "outputs": [],
   "source": []
  }
 ],
 "metadata": {
  "kernelspec": {
   "display_name": "Python 3",
   "language": "python",
   "name": "python3"
  },
  "language_info": {
   "codemirror_mode": {
    "name": "ipython",
    "version": 3
   },
   "file_extension": ".py",
   "mimetype": "text/x-python",
   "name": "python",
   "nbconvert_exporter": "python",
   "pygments_lexer": "ipython3",
   "version": "3.7.3"
  }
 },
 "nbformat": 4,
 "nbformat_minor": 4
}
