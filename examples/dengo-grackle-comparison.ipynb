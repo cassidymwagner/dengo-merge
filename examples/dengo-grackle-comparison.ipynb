{
 "cells": [
  {
   "cell_type": "code",
   "execution_count": 1,
   "metadata": {},
   "outputs": [
    {
     "name": "stderr",
     "output_type": "stream",
     "text": [
      "/home/kwoksun2/anaconda2/lib/python2.7/site-packages/h5py/__init__.py:36: FutureWarning: Conversion of the second argument of issubdtype from `float` to `np.floating` is deprecated. In future, it will be treated as `np.float64 == np.dtype(float).type`.\n",
      "  from ._conv import register_converters as _register_converters\n"
     ]
    },
    {
     "name": "stdout",
     "output_type": "stream",
     "text": [
      " using cli\n",
      " using CLI for selections\n"
     ]
    }
   ],
   "source": [
    "import os\n",
    "os.environ['YT_DEST'] = '/home/kwoksun2/anaconda2/pkgs/yt-3.3.5-np111py27_2/'\n",
    "import numpy as np\n",
    "from dengo.chemical_network import \\\n",
    "    ChemicalNetwork, \\\n",
    "    reaction_registry, \\\n",
    "    cooling_registry, species_registry\n",
    "import dengo.primordial_rates, dengo.primordial_cooling\n",
    "from dengo.chemistry_constants import tiny, kboltz, mh\n",
    "import yt\n",
    "import numpy\n",
    "from IPython.display import Image\n",
    "import matplotlib.pyplot as plt\n",
    "import pickle\n",
    "import pyximport\n",
    "pyximport.install(setup_args={\"include_dirs\":np.get_include()},\n",
    "                      reload_support=True, inplace=True)\n",
    "loc_pwd = \"/home/kwoksun2/grackle/src/python/examples/\"\n",
    "def save_obj(obj, name ):\n",
    "    with open(loc_pwd+ name + '.pkl', 'wb') as f:\n",
    "        pickle.dump(obj, f, pickle.HIGHEST_PROTOCOL)\n",
    "\n",
    "def load_obj(name ):\n",
    "    with open(loc_pwd + name + '.pkl', 'rb') as f:\n",
    "        return pickle.load(f)"
   ]
  },
  {
   "cell_type": "code",
   "execution_count": 3,
   "metadata": {
    "collapsed": true
   },
   "outputs": [],
   "source": [
    "# only two species\n",
    "\n",
    "\n",
    "def Init_values(temperature, density, fH, reaction_k):\n",
    "    \n",
    "    X = 1.0\n",
    "    # initialize and setup the network\n",
    "    dengo.primordial_rates.setup_primordial()\n",
    "    primordial = ChemicalNetwork()\n",
    "\n",
    "    for i in range(23):\n",
    "        if (i+1) not in [0]: #9, 10, 11, 17,18,19]:\n",
    "            try:\n",
    "                primordial.add_reaction(\"k{0:02d}\".format(i+1))\n",
    "            except:\n",
    "                pass\n",
    "    \n",
    "    primordial.init_temperature((1e0, 1e5))\n",
    "\n",
    "    tiny = 1.0e-20\n",
    "\n",
    "    # init_array are is in fractional abundances\n",
    "    init_array = density\n",
    "    init_values = dict()\n",
    "    \n",
    "    init_values[\"He_1\"]    = density * (1.0 - 0.76) /3.\n",
    "    init_values[\"He_2\"]    = density * (1.0 - 0.76) /3.      \n",
    "    init_values[\"He_3\"]    = np.array([tiny])         \n",
    "    init_values[\"H_1\"]     = density *  (0.76)  /3.\n",
    "    init_values['H_2']     = density *  (0.76)  /3.\n",
    "    \n",
    "    init_values[\"H_m0\"]    = np.array([tiny]) #density *  (0.76)  /4.\n",
    "    init_values[\"H2_1\"]    = density *  (0.76)  /3.\n",
    "    init_values[\"H2_2\"]    = np.array([tiny]) # density *  (0.76)  /5.\n",
    "    \n",
    "    \n",
    "#     init_values[\"He_1\"]    = density * (1.0 - 0.76) \n",
    "#     init_values[\"He_2\"]    = np.array([tiny]) #density * (1.0 - 0.76) /3.      \n",
    "#     init_values[\"He_3\"]    = np.array([tiny]) #density * (1.0 - 0.76) /3.          \n",
    "#     init_values[\"H_1\"]     = density *  (0.76)  \n",
    "#     init_values['H_2']     = np.array([tiny]) #density *  (0.76)  /4.\n",
    "    \n",
    "#     init_values[\"H_m0\"]    = np.array([tiny]) #density *  (0.76)  /4.\n",
    "#     init_values[\"H2_1\"]    = np.array([tiny]) #density *  (0.76)  /4.\n",
    "#     init_values[\"H2_2\"]    = np.array([tiny]) # density *  (0.76)  /5.    \n",
    "\n",
    "    # now everything in mass density\n",
    "#    init_values = primordial.convert_to_mass_density(init_values)\n",
    "    init_values['de'] = primordial.calculate_free_electrons(init_values)\n",
    "    # one signle value: again mass density\n",
    "    init_values['density'] = primordial.calculate_total_density(init_values)\n",
    "    number_density = primordial.calculate_number_density(init_values)\n",
    "    \n",
    "    print(init_values)\n",
    "    print('density: {}'.format(init_values['density']))\n",
    "    print('number density: {}'.format(number_density))\n",
    "    # set up initial temperatures values used to define ge\n",
    "    init_values['T'] = temperature\n",
    "\n",
    "    # calculate ge (very crudely, no H2 help here)\n",
    "    gamma = 5.0/3.0\n",
    "    init_values['ge'] = ((temperature * number_density * kboltz)\n",
    "                         / (init_values['density'] * mh * (gamma - 1)))\n",
    "    return init_values, primordial"
   ]
  },
  {
   "cell_type": "code",
   "execution_count": 4,
   "metadata": {
    "collapsed": true
   },
   "outputs": [],
   "source": [
    "def main(fH, temp, den , full_output = False):\n",
    "    \n",
    "    \n",
    "    temp = temp.flatten()\n",
    "    den = den.flatten()\n",
    "    \n",
    "    h_array = numpy.zeros((len(temp), len(den)))\n",
    "    t_array = numpy.zeros((len(den)))\n",
    "    \n",
    "    h_array = []\n",
    "    t_array = []\n",
    "    \n",
    "    print(den)\n",
    "    for iden, den_arr in enumerate(den):\n",
    "        \n",
    "        den_arr = numpy.ones((len(temp)))*den_arr\n",
    "        \n",
    "        init_values, primordial = Init_values(temp, den_arr, fH)\n",
    "        h_array_now, t_array_now = equil_values(init_values, primordial, full_output = full_output)\n",
    "        \n",
    "        h_array.append(h_array_now)\n",
    "        t_array.append(t_array_now)\n",
    "        \n",
    "    return h_array, t_array"
   ]
  },
  {
   "cell_type": "code",
   "execution_count": 5,
   "metadata": {
    "collapsed": true
   },
   "outputs": [],
   "source": [
    "def find_nearest(array,value):\n",
    "    idx = (np.abs(array-value)).argmin()\n",
    "    return idx\n",
    "\n",
    "def make_plots( network, init, rv_int, solver_name = 'sundials', t_min = 1e0, t_max = 1e11, plot_fH = False ):\n",
    "    \n",
    "    rv_arr = rv_int\n",
    "    \n",
    "    mask = rv_arr['successful']\n",
    "    t    = rv_arr['t'][mask]\n",
    "    dt   = rv_arr['dt'][mask]\n",
    "\n",
    "    plt.clf()\n",
    "    skip_list = ['dt' ,'successful', 't','Ju', 'Jac', 'ge']\n",
    "    hydrogen_list = ['H_1','H_2','H2_1','H2_2','H_m0']\n",
    "    \n",
    "    \n",
    "    # Calculate total electron density \n",
    "    # with the abundances from other species\n",
    "    total_e = numpy.zeros((len(t)))\n",
    "    for j in network.required_species:\n",
    "        if j.name in rv_arr.keys() and j.name not in skip_list and j.name != 'dt':\n",
    "            \n",
    "            try:\n",
    "                total_e += rv_arr[j.name][0][mask]  * j.free_electrons \n",
    "            except:\n",
    "                pass\n",
    "    \n",
    "    de = rv_arr['de'][0][mask]\n",
    "    # calculate total mass density of hydrogen\n",
    "    # conservation of mass\n",
    "    total_Hatoms = numpy.zeros((len(t)))\n",
    "    for j in network.required_species:\n",
    "        if j.name in hydrogen_list:\n",
    "            total_Hatoms += rv_arr[j.name][0][mask] *j.weight\n",
    "            \n",
    "\n",
    "    f, axarr = plt.subplots(3, sharex=True, figsize=(10,15))\n",
    "    \n",
    "    ii = 0\n",
    "    for i in sorted(rv_arr.keys()):\n",
    "        if i not in skip_list:\n",
    "            \n",
    "            hi = rv_arr[i][0][mask]\n",
    "            if t_min == 1e0:\n",
    "                axarr[0].semilogx(t,numpy.array(hi)/init[i][0]+ii, label=i) \n",
    "                ii+=1\n",
    "            else:\n",
    "                idx = find_nearest(t , t_min)\n",
    "                axarr[0].semilogx(t[idx:] ,numpy.array(hi[idx:])/hi[idx] , label=i) \n",
    "                ii+=1\n",
    "\n",
    "\n",
    "\n",
    "    #h1 = rv_arr['H_1'][0][mask]\n",
    "\n",
    "    \n",
    "    T0 = rv_arr['T'][0][mask][0]\n",
    "    axarr[0].set_title('{}:  Temperature: {} K     Density: {} per cc '.format(solver_name, T0 , total_Hatoms[0]   ))\n",
    "    axarr[0].set_xlabel('Time (s)')\n",
    "    axarr[0].set_ylabel('Species abundances (normalized by initial values)')\n",
    "    \n",
    "    dt = rv_arr['dt'][mask]\n",
    " #   if t_min == 1e0:\n",
    " #       axarr[0].loglog(t, dt / dt[0], label=i) \n",
    " #   else:\n",
    " #       idx = find_nearest(t , t_min)\n",
    " #       axarr[0].loglog(t[idx:] ,dt[idx:] / dt[idx], label=i) \n",
    "                \n",
    "    \n",
    "\n",
    "    de = rv_arr['de'][0][mask]\n",
    "    axarr[0].loglog(t, total_e/de, label='de normalized by those from species', ls = '--', color = 'r')\n",
    "\n",
    "    axarr[0].legend(loc='best',fontsize='x-small')\n",
    "    # plt.savefig(con_not_con+'-species-norm-nHe20.png')\n",
    "\n",
    "\n",
    "    for i in sorted(rv_arr.keys()):\n",
    "        if i not in skip_list:\n",
    "            hi = rv_arr[i][0][mask]\n",
    "            axarr[1].loglog(t,hi, label=i) \n",
    "\n",
    "\n",
    "    axarr[1].set_xlabel('Time (s)')\n",
    "    axarr[1].set_ylabel('Species abundances')\n",
    "\n",
    "    axarr[1].legend(loc='best',fontsize='x-small')\n",
    "\n",
    "\n",
    "    \n",
    "\n",
    "    de = rv_arr['de'][0][mask]\n",
    "    axarr[2].semilogx(t, (de/total_e) , label='de normalized by those from species', ls = '--', color = 'r')\n",
    "\n",
    "    axarr[2].semilogx(t, ( total_Hatoms )/ total_Hatoms[0], label = 'mass density of H atoms' )\n",
    "    \n",
    "    \n",
    "    print('de conserved?   ', de[-1]/total_e[-1])\n",
    "    print('mass conserved? ' , ( total_Hatoms[-1] )/ total_Hatoms[0])\n",
    "    \n",
    "    \n",
    "    if plot_fH:\n",
    "        axarr[2].plot(t, h1/total_Hatoms, label=\"f(H)\" )\n",
    "        print('final f(H) = {}'.format(h1[-1]/total_Hatoms[-1]) )\n",
    "    axarr[2].set_xlabel('Time (s)')\n",
    "    axarr[2].set_ylabel('mass ratio of Hydrogen atom (fH)')\n",
    "    axarr[2].legend()\n",
    "    \n",
    "    axarr[2].set_xlim((t_min, t_max))\n",
    "    \n",
    "    T0 = rv_arr['T'][0][0]\n",
    "    f.savefig(solver_name+'_nH={:.2E}_T={:.1E}.png'.format(total_Hatoms[0], T0) )\n",
    "    plt.close(f)\n",
    "    return solver_name+'_nH={:.2E}_T={:.1E}.png'.format(total_Hatoms[0], T0)"
   ]
  },
  {
   "cell_type": "code",
   "execution_count": 6,
   "metadata": {
    "collapsed": true,
    "scrolled": true
   },
   "outputs": [],
   "source": [
    "\n",
    "class my_network:\n",
    "    def __init__(self, T):\n",
    "        self.T = T\n",
    "\n",
    "from sympy import *\n",
    "\n",
    "def equi_fH(rho, T, k):\n",
    "    \n",
    "    \n",
    "    init, network = Init_values(T,rho, 0.0, k)\n",
    "    \n",
    "    # for i in network.required_species:\n",
    "    #     print(network.print_ccode(i))\n",
    "    #     for j in network.required_species:\n",
    "    #         print(network.print_jacobian_component(i,j))\n",
    "\n",
    "    mH = 1.0\n",
    "\n",
    "    k13 = (network.reactions['k13'])\n",
    "    k22 = (network.reactions['k22'])\n",
    "\n",
    "    temp_network = my_network(T)\n",
    "\n",
    "    k13coeff, k22coeff = (k13.coeff_fn(temp_network), k22.coeff_fn(temp_network))\n",
    "    \n",
    "\n",
    "    k13s, k22s, fHs, rhos = symbols(\" k13 k22 fH rho\")\n",
    "    expr = k13s*(1 - fHs) /2 - k22s*fHs*fHs*rhos\n",
    "    known_vals = [ (k13s, k13coeff), (k22s, k22coeff), (rhos, rho) ]\n",
    "    new_expr = expr.subs(known_vals)\n",
    "    new_expr_poly = Poly(new_expr, fHs)\n",
    "    print('Temperature now: {} K'.format(T))\n",
    "    poly_coeff = (new_expr_poly.coeffs())\n",
    "    ans = numpy.roots(poly_coeff)\n",
    "    print('fH: {}'.format(ans[ans>0]) )\n",
    "    return ans[ans>0]\n",
    "\n",
    "Temp_array = numpy.array([3.0e3])\n",
    "# in atomic mass unit! not grams\n",
    "rho = numpy.array([1.0e15])"
   ]
  },
  {
   "cell_type": "code",
   "execution_count": 7,
   "metadata": {},
   "outputs": [
    {
     "name": "stdout",
     "output_type": "stream",
     "text": [
      "Adding reaction: k01 : 1*H_1 + 1*de => 1*H_2 + 2*de\n",
      "Adding reaction: k02 : 1*H_2 + 1*de => 1*H_1\n",
      "Adding reaction: k03 : 1*He_1 + 1*de => 1*He_2 + 2*de\n",
      "Adding reaction: k04 : 1*He_2 + 1*de => 1*He_1\n",
      "Adding reaction: k05 : 1*He_2 + 1*de => 1*He_3 + 2*de\n",
      "Adding reaction: k06 : 1*He_3 + 1*de => 1*He_2\n",
      "Adding reaction: k07 : 1*H_1 + 1*de => 1*H_m0\n",
      "Adding reaction: k08 : 1*H_m0 + 1*H_1 => 1*H2_1 + 1*de\n",
      "Adding reaction: k09 : 1*H_1 + 1*H_2 => 1*H2_2\n",
      "Adding reaction: k10 : 1*H2_2 + 1*H_1 => 1*H2_1 + 1*H_2\n",
      "Adding reaction: k11 : 1*H2_1 + 1*H_2 => 1*H2_2 + 1*H_1\n",
      "Adding reaction: k12 : 1*H2_1 + 1*de => 2*H_1 + 1*de\n",
      "Adding reaction: k13 : 1*H2_1 + 1*H_1 => 3*H_1\n",
      "Adding reaction: k14 : 1*H_m0 + 1*de => 1*H_1 + 2*de\n",
      "Adding reaction: k15 : 1*H_m0 + 1*H_1 => 2*H_1 + 1*de\n",
      "Adding reaction: k16 : 1*H_m0 + 1*H_2 => 2*H_1\n",
      "Adding reaction: k17 : 1*H_m0 + 1*H_2 => 1*H2_2 + 1*de\n",
      "Adding reaction: k18 : 1*H2_2 + 1*de => 2*H_1\n",
      "Adding reaction: k19 : 1*H2_2 + 1*H_m0 => 1*H_1 + 1*H2_1\n",
      "Adding reaction: k21 : 2*H_1 + 1*H2_1 => 2*H2_1\n",
      "Adding reaction: k22 : 2*H_1 + 1*H_1 => 1*H2_1 + 1*H_1\n",
      "Adding reaction: k23 : 1*H2_1 + 1*H2_1 => 2*H_1 + 1*H2_1\n",
      "{'H_2': array([2.53333333e+09]), 'H_1': array([2.53333333e+09]), 'density': array([9.2e+09]), 'de': array([2.7132471e+09]), 'He_1': array([8.e+08]), 'He_2': array([8.e+08]), 'He_3': array([1.e-20]), 'H2_2': array([1.e-20]), 'H2_1': array([2.53333333e+09]), 'H_m0': array([1.e-20])}\n",
      "density: [9.2e+09]\n",
      "number density: [6.68318277e+09]\n"
     ]
    },
    {
     "ename": "ImportError",
     "evalue": "Building module sunny_solver_run failed: [\"CompileError: command 'gcc' failed with exit status 1\\n\"]",
     "output_type": "error",
     "traceback": [
      "\u001b[0;31m---------------------------------------------------------------------------\u001b[0m",
      "\u001b[0;31mImportError\u001b[0m                               Traceback (most recent call last)",
      "\u001b[0;32m<ipython-input-7-029d3397b474>\u001b[0m in \u001b[0;36m<module>\u001b[0;34m()\u001b[0m\n\u001b[0;32m----> 1\u001b[0;31m \u001b[0mget_ipython\u001b[0m\u001b[0;34m(\u001b[0m\u001b[0;34m)\u001b[0m\u001b[0;34m.\u001b[0m\u001b[0mrun_cell_magic\u001b[0m\u001b[0;34m(\u001b[0m\u001b[0;34mu'time'\u001b[0m\u001b[0;34m,\u001b[0m \u001b[0;34mu''\u001b[0m\u001b[0;34m,\u001b[0m \u001b[0;34mu'ith_T = numpy.array([1000.0])\\nrho = numpy.array([1.00e10 ])\\n    \\n\\ninit, primordial = Init_values( ith_T , rho, 0, 0 )\\n\\nprimordial.write_solver(\"sunny\", output_dir = \".\",\\n                            init_values=init,\\n                            input_is_number=False)\\n\\nsunny_solver_run = pyximport.load_module(\"sunny_solver_run\",\\n                                \"sunny_solver_run.pyx\",\\n                                build_inplace = True, pyxbuild_dir = \"_dengo_temp\")\\n\\n\\nrv, rv_int_be_chem = sunny_solver_run.run_sunny(init, 1e5 , niter=2e5 )'\u001b[0m\u001b[0;34m)\u001b[0m\u001b[0;34m\u001b[0m\u001b[0m\n\u001b[0m",
      "\u001b[0;32m/home/kwoksun2/anaconda2/lib/python2.7/site-packages/IPython/core/interactiveshell.pyc\u001b[0m in \u001b[0;36mrun_cell_magic\u001b[0;34m(self, magic_name, line, cell)\u001b[0m\n\u001b[1;32m   2115\u001b[0m             \u001b[0mmagic_arg_s\u001b[0m \u001b[0;34m=\u001b[0m \u001b[0mself\u001b[0m\u001b[0;34m.\u001b[0m\u001b[0mvar_expand\u001b[0m\u001b[0;34m(\u001b[0m\u001b[0mline\u001b[0m\u001b[0;34m,\u001b[0m \u001b[0mstack_depth\u001b[0m\u001b[0;34m)\u001b[0m\u001b[0;34m\u001b[0m\u001b[0m\n\u001b[1;32m   2116\u001b[0m             \u001b[0;32mwith\u001b[0m \u001b[0mself\u001b[0m\u001b[0;34m.\u001b[0m\u001b[0mbuiltin_trap\u001b[0m\u001b[0;34m:\u001b[0m\u001b[0;34m\u001b[0m\u001b[0m\n\u001b[0;32m-> 2117\u001b[0;31m                 \u001b[0mresult\u001b[0m \u001b[0;34m=\u001b[0m \u001b[0mfn\u001b[0m\u001b[0;34m(\u001b[0m\u001b[0mmagic_arg_s\u001b[0m\u001b[0;34m,\u001b[0m \u001b[0mcell\u001b[0m\u001b[0;34m)\u001b[0m\u001b[0;34m\u001b[0m\u001b[0m\n\u001b[0m\u001b[1;32m   2118\u001b[0m             \u001b[0;32mreturn\u001b[0m \u001b[0mresult\u001b[0m\u001b[0;34m\u001b[0m\u001b[0m\n\u001b[1;32m   2119\u001b[0m \u001b[0;34m\u001b[0m\u001b[0m\n",
      "\u001b[0;32m<decorator-gen-60>\u001b[0m in \u001b[0;36mtime\u001b[0;34m(self, line, cell, local_ns)\u001b[0m\n",
      "\u001b[0;32m/home/kwoksun2/anaconda2/lib/python2.7/site-packages/IPython/core/magic.pyc\u001b[0m in \u001b[0;36m<lambda>\u001b[0;34m(f, *a, **k)\u001b[0m\n\u001b[1;32m    186\u001b[0m     \u001b[0;31m# but it's overkill for just that one bit of state.\u001b[0m\u001b[0;34m\u001b[0m\u001b[0;34m\u001b[0m\u001b[0m\n\u001b[1;32m    187\u001b[0m     \u001b[0;32mdef\u001b[0m \u001b[0mmagic_deco\u001b[0m\u001b[0;34m(\u001b[0m\u001b[0marg\u001b[0m\u001b[0;34m)\u001b[0m\u001b[0;34m:\u001b[0m\u001b[0;34m\u001b[0m\u001b[0m\n\u001b[0;32m--> 188\u001b[0;31m         \u001b[0mcall\u001b[0m \u001b[0;34m=\u001b[0m \u001b[0;32mlambda\u001b[0m \u001b[0mf\u001b[0m\u001b[0;34m,\u001b[0m \u001b[0;34m*\u001b[0m\u001b[0ma\u001b[0m\u001b[0;34m,\u001b[0m \u001b[0;34m**\u001b[0m\u001b[0mk\u001b[0m\u001b[0;34m:\u001b[0m \u001b[0mf\u001b[0m\u001b[0;34m(\u001b[0m\u001b[0;34m*\u001b[0m\u001b[0ma\u001b[0m\u001b[0;34m,\u001b[0m \u001b[0;34m**\u001b[0m\u001b[0mk\u001b[0m\u001b[0;34m)\u001b[0m\u001b[0;34m\u001b[0m\u001b[0m\n\u001b[0m\u001b[1;32m    189\u001b[0m \u001b[0;34m\u001b[0m\u001b[0m\n\u001b[1;32m    190\u001b[0m         \u001b[0;32mif\u001b[0m \u001b[0mcallable\u001b[0m\u001b[0;34m(\u001b[0m\u001b[0marg\u001b[0m\u001b[0;34m)\u001b[0m\u001b[0;34m:\u001b[0m\u001b[0;34m\u001b[0m\u001b[0m\n",
      "\u001b[0;32m/home/kwoksun2/anaconda2/lib/python2.7/site-packages/IPython/core/magics/execution.pyc\u001b[0m in \u001b[0;36mtime\u001b[0;34m(self, line, cell, local_ns)\u001b[0m\n\u001b[1;32m   1191\u001b[0m         \u001b[0;32melse\u001b[0m\u001b[0;34m:\u001b[0m\u001b[0;34m\u001b[0m\u001b[0m\n\u001b[1;32m   1192\u001b[0m             \u001b[0mst\u001b[0m \u001b[0;34m=\u001b[0m \u001b[0mclock2\u001b[0m\u001b[0;34m(\u001b[0m\u001b[0;34m)\u001b[0m\u001b[0;34m\u001b[0m\u001b[0m\n\u001b[0;32m-> 1193\u001b[0;31m             \u001b[0;32mexec\u001b[0m\u001b[0;34m(\u001b[0m\u001b[0mcode\u001b[0m\u001b[0;34m,\u001b[0m \u001b[0mglob\u001b[0m\u001b[0;34m,\u001b[0m \u001b[0mlocal_ns\u001b[0m\u001b[0;34m)\u001b[0m\u001b[0;34m\u001b[0m\u001b[0m\n\u001b[0m\u001b[1;32m   1194\u001b[0m             \u001b[0mend\u001b[0m \u001b[0;34m=\u001b[0m \u001b[0mclock2\u001b[0m\u001b[0;34m(\u001b[0m\u001b[0;34m)\u001b[0m\u001b[0;34m\u001b[0m\u001b[0m\n\u001b[1;32m   1195\u001b[0m             \u001b[0mout\u001b[0m \u001b[0;34m=\u001b[0m \u001b[0mNone\u001b[0m\u001b[0;34m\u001b[0m\u001b[0m\n",
      "\u001b[0;32m<timed exec>\u001b[0m in \u001b[0;36m<module>\u001b[0;34m()\u001b[0m\n",
      "\u001b[0;32m/home/kwoksun2/anaconda2/lib/python2.7/site-packages/pyximport/pyximport.pyc\u001b[0m in \u001b[0;36mload_module\u001b[0;34m(name, pyxfilename, pyxbuild_dir, is_package, build_inplace, language_level, so_path)\u001b[0m\n\u001b[1;32m    231\u001b[0m                 \u001b[0;32mraise\u001b[0m \u001b[0mexc\u001b[0m\u001b[0;34m.\u001b[0m\u001b[0mwith_traceback\u001b[0m\u001b[0;34m(\u001b[0m\u001b[0mtb\u001b[0m\u001b[0;34m)\u001b[0m\u001b[0;34m\u001b[0m\u001b[0m\n\u001b[1;32m    232\u001b[0m             \u001b[0;32melse\u001b[0m\u001b[0;34m:\u001b[0m\u001b[0;34m\u001b[0m\u001b[0m\n\u001b[0;32m--> 233\u001b[0;31m                 \u001b[0;32mexec\u001b[0m\u001b[0;34m(\u001b[0m\u001b[0;34m\"raise exc, None, tb\"\u001b[0m\u001b[0;34m,\u001b[0m \u001b[0;34m{\u001b[0m\u001b[0;34m'exc'\u001b[0m\u001b[0;34m:\u001b[0m \u001b[0mexc\u001b[0m\u001b[0;34m,\u001b[0m \u001b[0;34m'tb'\u001b[0m\u001b[0;34m:\u001b[0m \u001b[0mtb\u001b[0m\u001b[0;34m}\u001b[0m\u001b[0;34m)\u001b[0m\u001b[0;34m\u001b[0m\u001b[0m\n\u001b[0m\u001b[1;32m    234\u001b[0m     \u001b[0;32mreturn\u001b[0m \u001b[0mmod\u001b[0m\u001b[0;34m\u001b[0m\u001b[0m\n\u001b[1;32m    235\u001b[0m \u001b[0;34m\u001b[0m\u001b[0m\n",
      "\u001b[0;32m/home/kwoksun2/anaconda2/lib/python2.7/site-packages/pyximport/pyximport.pyc\u001b[0m in \u001b[0;36mload_module\u001b[0;34m(name, pyxfilename, pyxbuild_dir, is_package, build_inplace, language_level, so_path)\u001b[0m\n\u001b[1;32m    213\u001b[0m                 \u001b[0mmodule_name\u001b[0m \u001b[0;34m=\u001b[0m \u001b[0mname\u001b[0m\u001b[0;34m\u001b[0m\u001b[0m\n\u001b[1;32m    214\u001b[0m             so_path = build_module(module_name, pyxfilename, pyxbuild_dir,\n\u001b[0;32m--> 215\u001b[0;31m                                    inplace=build_inplace, language_level=language_level)\n\u001b[0m\u001b[1;32m    216\u001b[0m         \u001b[0mmod\u001b[0m \u001b[0;34m=\u001b[0m \u001b[0mimp\u001b[0m\u001b[0;34m.\u001b[0m\u001b[0mload_dynamic\u001b[0m\u001b[0;34m(\u001b[0m\u001b[0mname\u001b[0m\u001b[0;34m,\u001b[0m \u001b[0mso_path\u001b[0m\u001b[0;34m)\u001b[0m\u001b[0;34m\u001b[0m\u001b[0m\n\u001b[1;32m    217\u001b[0m         \u001b[0;32mif\u001b[0m \u001b[0mis_package\u001b[0m \u001b[0;32mand\u001b[0m \u001b[0;32mnot\u001b[0m \u001b[0mhasattr\u001b[0m\u001b[0;34m(\u001b[0m\u001b[0mmod\u001b[0m\u001b[0;34m,\u001b[0m \u001b[0;34m'__path__'\u001b[0m\u001b[0;34m)\u001b[0m\u001b[0;34m:\u001b[0m\u001b[0;34m\u001b[0m\u001b[0m\n",
      "\u001b[0;32m/home/kwoksun2/anaconda2/lib/python2.7/site-packages/pyximport/pyximport.pyc\u001b[0m in \u001b[0;36mbuild_module\u001b[0;34m(name, pyxfilename, pyxbuild_dir, inplace, language_level)\u001b[0m\n\u001b[1;32m    189\u001b[0m                                   \u001b[0msetup_args\u001b[0m\u001b[0;34m=\u001b[0m\u001b[0msargs\u001b[0m\u001b[0;34m,\u001b[0m\u001b[0;34m\u001b[0m\u001b[0m\n\u001b[1;32m    190\u001b[0m                                   \u001b[0minplace\u001b[0m\u001b[0;34m=\u001b[0m\u001b[0minplace\u001b[0m\u001b[0;34m,\u001b[0m\u001b[0;34m\u001b[0m\u001b[0m\n\u001b[0;32m--> 191\u001b[0;31m                                   reload_support=pyxargs.reload_support)\n\u001b[0m\u001b[1;32m    192\u001b[0m     \u001b[0;32massert\u001b[0m \u001b[0mos\u001b[0m\u001b[0;34m.\u001b[0m\u001b[0mpath\u001b[0m\u001b[0;34m.\u001b[0m\u001b[0mexists\u001b[0m\u001b[0;34m(\u001b[0m\u001b[0mso_path\u001b[0m\u001b[0;34m)\u001b[0m\u001b[0;34m,\u001b[0m \u001b[0;34m\"Cannot find: %s\"\u001b[0m \u001b[0;34m%\u001b[0m \u001b[0mso_path\u001b[0m\u001b[0;34m\u001b[0m\u001b[0m\n\u001b[1;32m    193\u001b[0m \u001b[0;34m\u001b[0m\u001b[0m\n",
      "\u001b[0;32m/home/kwoksun2/anaconda2/lib/python2.7/site-packages/pyximport/pyxbuild.pyc\u001b[0m in \u001b[0;36mpyx_to_dll\u001b[0;34m(filename, ext, force_rebuild, build_in_temp, pyxbuild_dir, setup_args, reload_support, inplace)\u001b[0m\n\u001b[1;32m    100\u001b[0m     \u001b[0;32mtry\u001b[0m\u001b[0;34m:\u001b[0m\u001b[0;34m\u001b[0m\u001b[0m\n\u001b[1;32m    101\u001b[0m         \u001b[0mobj_build_ext\u001b[0m \u001b[0;34m=\u001b[0m \u001b[0mdist\u001b[0m\u001b[0;34m.\u001b[0m\u001b[0mget_command_obj\u001b[0m\u001b[0;34m(\u001b[0m\u001b[0;34m\"build_ext\"\u001b[0m\u001b[0;34m)\u001b[0m\u001b[0;34m\u001b[0m\u001b[0m\n\u001b[0;32m--> 102\u001b[0;31m         \u001b[0mdist\u001b[0m\u001b[0;34m.\u001b[0m\u001b[0mrun_commands\u001b[0m\u001b[0;34m(\u001b[0m\u001b[0;34m)\u001b[0m\u001b[0;34m\u001b[0m\u001b[0m\n\u001b[0m\u001b[1;32m    103\u001b[0m         \u001b[0mso_path\u001b[0m \u001b[0;34m=\u001b[0m \u001b[0mobj_build_ext\u001b[0m\u001b[0;34m.\u001b[0m\u001b[0mget_outputs\u001b[0m\u001b[0;34m(\u001b[0m\u001b[0;34m)\u001b[0m\u001b[0;34m[\u001b[0m\u001b[0;36m0\u001b[0m\u001b[0;34m]\u001b[0m\u001b[0;34m\u001b[0m\u001b[0m\n\u001b[1;32m    104\u001b[0m         \u001b[0;32mif\u001b[0m \u001b[0mobj_build_ext\u001b[0m\u001b[0;34m.\u001b[0m\u001b[0minplace\u001b[0m\u001b[0;34m:\u001b[0m\u001b[0;34m\u001b[0m\u001b[0m\n",
      "\u001b[0;32m/home/kwoksun2/anaconda2/lib/python2.7/distutils/dist.pyc\u001b[0m in \u001b[0;36mrun_commands\u001b[0;34m(self)\u001b[0m\n\u001b[1;32m    951\u001b[0m         \"\"\"\n\u001b[1;32m    952\u001b[0m         \u001b[0;32mfor\u001b[0m \u001b[0mcmd\u001b[0m \u001b[0;32min\u001b[0m \u001b[0mself\u001b[0m\u001b[0;34m.\u001b[0m\u001b[0mcommands\u001b[0m\u001b[0;34m:\u001b[0m\u001b[0;34m\u001b[0m\u001b[0m\n\u001b[0;32m--> 953\u001b[0;31m             \u001b[0mself\u001b[0m\u001b[0;34m.\u001b[0m\u001b[0mrun_command\u001b[0m\u001b[0;34m(\u001b[0m\u001b[0mcmd\u001b[0m\u001b[0;34m)\u001b[0m\u001b[0;34m\u001b[0m\u001b[0m\n\u001b[0m\u001b[1;32m    954\u001b[0m \u001b[0;34m\u001b[0m\u001b[0m\n\u001b[1;32m    955\u001b[0m     \u001b[0;31m# -- Methods that operate on its Commands --------------------------\u001b[0m\u001b[0;34m\u001b[0m\u001b[0;34m\u001b[0m\u001b[0m\n",
      "\u001b[0;32m/home/kwoksun2/anaconda2/lib/python2.7/distutils/dist.pyc\u001b[0m in \u001b[0;36mrun_command\u001b[0;34m(self, command)\u001b[0m\n\u001b[1;32m    970\u001b[0m         \u001b[0mcmd_obj\u001b[0m \u001b[0;34m=\u001b[0m \u001b[0mself\u001b[0m\u001b[0;34m.\u001b[0m\u001b[0mget_command_obj\u001b[0m\u001b[0;34m(\u001b[0m\u001b[0mcommand\u001b[0m\u001b[0;34m)\u001b[0m\u001b[0;34m\u001b[0m\u001b[0m\n\u001b[1;32m    971\u001b[0m         \u001b[0mcmd_obj\u001b[0m\u001b[0;34m.\u001b[0m\u001b[0mensure_finalized\u001b[0m\u001b[0;34m(\u001b[0m\u001b[0;34m)\u001b[0m\u001b[0;34m\u001b[0m\u001b[0m\n\u001b[0;32m--> 972\u001b[0;31m         \u001b[0mcmd_obj\u001b[0m\u001b[0;34m.\u001b[0m\u001b[0mrun\u001b[0m\u001b[0;34m(\u001b[0m\u001b[0;34m)\u001b[0m\u001b[0;34m\u001b[0m\u001b[0m\n\u001b[0m\u001b[1;32m    973\u001b[0m         \u001b[0mself\u001b[0m\u001b[0;34m.\u001b[0m\u001b[0mhave_run\u001b[0m\u001b[0;34m[\u001b[0m\u001b[0mcommand\u001b[0m\u001b[0;34m]\u001b[0m \u001b[0;34m=\u001b[0m \u001b[0;36m1\u001b[0m\u001b[0;34m\u001b[0m\u001b[0m\n\u001b[1;32m    974\u001b[0m \u001b[0;34m\u001b[0m\u001b[0m\n",
      "\u001b[0;32m/home/kwoksun2/anaconda2/lib/python2.7/site-packages/Cython/Distutils/old_build_ext.pyc\u001b[0m in \u001b[0;36mrun\u001b[0;34m(self)\u001b[0m\n\u001b[1;32m    184\u001b[0m             \u001b[0moptimization\u001b[0m\u001b[0;34m.\u001b[0m\u001b[0mdisable_optimization\u001b[0m\u001b[0;34m(\u001b[0m\u001b[0;34m)\u001b[0m\u001b[0;34m\u001b[0m\u001b[0m\n\u001b[1;32m    185\u001b[0m \u001b[0;34m\u001b[0m\u001b[0m\n\u001b[0;32m--> 186\u001b[0;31m         \u001b[0m_build_ext\u001b[0m\u001b[0;34m.\u001b[0m\u001b[0mbuild_ext\u001b[0m\u001b[0;34m.\u001b[0m\u001b[0mrun\u001b[0m\u001b[0;34m(\u001b[0m\u001b[0mself\u001b[0m\u001b[0;34m)\u001b[0m\u001b[0;34m\u001b[0m\u001b[0m\n\u001b[0m\u001b[1;32m    187\u001b[0m \u001b[0;34m\u001b[0m\u001b[0m\n\u001b[1;32m    188\u001b[0m     \u001b[0;32mdef\u001b[0m \u001b[0mbuild_extensions\u001b[0m\u001b[0;34m(\u001b[0m\u001b[0mself\u001b[0m\u001b[0;34m)\u001b[0m\u001b[0;34m:\u001b[0m\u001b[0;34m\u001b[0m\u001b[0m\n",
      "\u001b[0;32m/home/kwoksun2/anaconda2/lib/python2.7/distutils/command/build_ext.pyc\u001b[0m in \u001b[0;36mrun\u001b[0;34m(self)\u001b[0m\n\u001b[1;32m    338\u001b[0m \u001b[0;34m\u001b[0m\u001b[0m\n\u001b[1;32m    339\u001b[0m         \u001b[0;31m# Now actually compile and link everything.\u001b[0m\u001b[0;34m\u001b[0m\u001b[0;34m\u001b[0m\u001b[0m\n\u001b[0;32m--> 340\u001b[0;31m         \u001b[0mself\u001b[0m\u001b[0;34m.\u001b[0m\u001b[0mbuild_extensions\u001b[0m\u001b[0;34m(\u001b[0m\u001b[0;34m)\u001b[0m\u001b[0;34m\u001b[0m\u001b[0m\n\u001b[0m\u001b[1;32m    341\u001b[0m \u001b[0;34m\u001b[0m\u001b[0m\n\u001b[1;32m    342\u001b[0m     \u001b[0;32mdef\u001b[0m \u001b[0mcheck_extensions_list\u001b[0m\u001b[0;34m(\u001b[0m\u001b[0mself\u001b[0m\u001b[0;34m,\u001b[0m \u001b[0mextensions\u001b[0m\u001b[0;34m)\u001b[0m\u001b[0;34m:\u001b[0m\u001b[0;34m\u001b[0m\u001b[0m\n",
      "\u001b[0;32m/home/kwoksun2/anaconda2/lib/python2.7/site-packages/Cython/Distutils/old_build_ext.pyc\u001b[0m in \u001b[0;36mbuild_extensions\u001b[0;34m(self)\u001b[0m\n\u001b[1;32m    192\u001b[0m         \u001b[0;32mfor\u001b[0m \u001b[0mext\u001b[0m \u001b[0;32min\u001b[0m \u001b[0mself\u001b[0m\u001b[0;34m.\u001b[0m\u001b[0mextensions\u001b[0m\u001b[0;34m:\u001b[0m\u001b[0;34m\u001b[0m\u001b[0m\n\u001b[1;32m    193\u001b[0m             \u001b[0mext\u001b[0m\u001b[0;34m.\u001b[0m\u001b[0msources\u001b[0m \u001b[0;34m=\u001b[0m \u001b[0mself\u001b[0m\u001b[0;34m.\u001b[0m\u001b[0mcython_sources\u001b[0m\u001b[0;34m(\u001b[0m\u001b[0mext\u001b[0m\u001b[0;34m.\u001b[0m\u001b[0msources\u001b[0m\u001b[0;34m,\u001b[0m \u001b[0mext\u001b[0m\u001b[0;34m)\u001b[0m\u001b[0;34m\u001b[0m\u001b[0m\n\u001b[0;32m--> 194\u001b[0;31m             \u001b[0mself\u001b[0m\u001b[0;34m.\u001b[0m\u001b[0mbuild_extension\u001b[0m\u001b[0;34m(\u001b[0m\u001b[0mext\u001b[0m\u001b[0;34m)\u001b[0m\u001b[0;34m\u001b[0m\u001b[0m\n\u001b[0m\u001b[1;32m    195\u001b[0m \u001b[0;34m\u001b[0m\u001b[0m\n\u001b[1;32m    196\u001b[0m     \u001b[0;32mdef\u001b[0m \u001b[0mcython_sources\u001b[0m\u001b[0;34m(\u001b[0m\u001b[0mself\u001b[0m\u001b[0;34m,\u001b[0m \u001b[0msources\u001b[0m\u001b[0;34m,\u001b[0m \u001b[0mextension\u001b[0m\u001b[0;34m)\u001b[0m\u001b[0;34m:\u001b[0m\u001b[0;34m\u001b[0m\u001b[0m\n",
      "\u001b[0;32m/home/kwoksun2/anaconda2/lib/python2.7/distutils/command/build_ext.pyc\u001b[0m in \u001b[0;36mbuild_extension\u001b[0;34m(self, ext)\u001b[0m\n\u001b[1;32m    497\u001b[0m                                          \u001b[0mdebug\u001b[0m\u001b[0;34m=\u001b[0m\u001b[0mself\u001b[0m\u001b[0;34m.\u001b[0m\u001b[0mdebug\u001b[0m\u001b[0;34m,\u001b[0m\u001b[0;34m\u001b[0m\u001b[0m\n\u001b[1;32m    498\u001b[0m                                          \u001b[0mextra_postargs\u001b[0m\u001b[0;34m=\u001b[0m\u001b[0mextra_args\u001b[0m\u001b[0;34m,\u001b[0m\u001b[0;34m\u001b[0m\u001b[0m\n\u001b[0;32m--> 499\u001b[0;31m                                          depends=ext.depends)\n\u001b[0m\u001b[1;32m    500\u001b[0m \u001b[0;34m\u001b[0m\u001b[0m\n\u001b[1;32m    501\u001b[0m         \u001b[0;31m# XXX -- this is a Vile HACK!\u001b[0m\u001b[0;34m\u001b[0m\u001b[0;34m\u001b[0m\u001b[0m\n",
      "\u001b[0;32m/home/kwoksun2/anaconda2/lib/python2.7/distutils/ccompiler.pyc\u001b[0m in \u001b[0;36mcompile\u001b[0;34m(self, sources, output_dir, macros, include_dirs, debug, extra_preargs, extra_postargs, depends)\u001b[0m\n\u001b[1;32m    572\u001b[0m             \u001b[0;32mexcept\u001b[0m \u001b[0mKeyError\u001b[0m\u001b[0;34m:\u001b[0m\u001b[0;34m\u001b[0m\u001b[0m\n\u001b[1;32m    573\u001b[0m                 \u001b[0;32mcontinue\u001b[0m\u001b[0;34m\u001b[0m\u001b[0m\n\u001b[0;32m--> 574\u001b[0;31m             \u001b[0mself\u001b[0m\u001b[0;34m.\u001b[0m\u001b[0m_compile\u001b[0m\u001b[0;34m(\u001b[0m\u001b[0mobj\u001b[0m\u001b[0;34m,\u001b[0m \u001b[0msrc\u001b[0m\u001b[0;34m,\u001b[0m \u001b[0mext\u001b[0m\u001b[0;34m,\u001b[0m \u001b[0mcc_args\u001b[0m\u001b[0;34m,\u001b[0m \u001b[0mextra_postargs\u001b[0m\u001b[0;34m,\u001b[0m \u001b[0mpp_opts\u001b[0m\u001b[0;34m)\u001b[0m\u001b[0;34m\u001b[0m\u001b[0m\n\u001b[0m\u001b[1;32m    575\u001b[0m \u001b[0;34m\u001b[0m\u001b[0m\n\u001b[1;32m    576\u001b[0m         \u001b[0;31m# Return *all* object filenames, not just the ones we just built.\u001b[0m\u001b[0;34m\u001b[0m\u001b[0;34m\u001b[0m\u001b[0m\n",
      "\u001b[0;32m/home/kwoksun2/anaconda2/lib/python2.7/distutils/unixccompiler.pyc\u001b[0m in \u001b[0;36m_compile\u001b[0;34m(self, obj, src, ext, cc_args, extra_postargs, pp_opts)\u001b[0m\n\u001b[1;32m    122\u001b[0m                        extra_postargs)\n\u001b[1;32m    123\u001b[0m         \u001b[0;32mexcept\u001b[0m \u001b[0mDistutilsExecError\u001b[0m\u001b[0;34m,\u001b[0m \u001b[0mmsg\u001b[0m\u001b[0;34m:\u001b[0m\u001b[0;34m\u001b[0m\u001b[0m\n\u001b[0;32m--> 124\u001b[0;31m             \u001b[0;32mraise\u001b[0m \u001b[0mCompileError\u001b[0m\u001b[0;34m,\u001b[0m \u001b[0mmsg\u001b[0m\u001b[0;34m\u001b[0m\u001b[0m\n\u001b[0m\u001b[1;32m    125\u001b[0m \u001b[0;34m\u001b[0m\u001b[0m\n\u001b[1;32m    126\u001b[0m     def create_static_lib(self, objects, output_libname,\n",
      "\u001b[0;31mImportError\u001b[0m: Building module sunny_solver_run failed: [\"CompileError: command 'gcc' failed with exit status 1\\n\"]"
     ]
    }
   ],
   "source": [
    "%%time\n",
    "ith_T = numpy.array([1000.0])\n",
    "rho = numpy.array([1.00e10 ])\n",
    "    \n",
    "\n",
    "init, primordial = Init_values( ith_T , rho, 0, 0 )\n",
    "\n",
    "primordial.write_solver(\"sunny\", output_dir = \".\",\n",
    "                            init_values=init,\n",
    "                            input_is_number=False)\n",
    "\n",
    "sunny_solver_run = pyximport.load_module(\"sunny_solver_run\",\n",
    "                                \"sunny_solver_run.pyx\",\n",
    "                                build_inplace = True, pyxbuild_dir = \"_dengo_temp\")\n",
    "\n",
    "\n",
    "rv, rv_int_be_chem = sunny_solver_run.run_sunny(init, 1e5 , niter=2e5 )"
   ]
  },
  {
   "cell_type": "code",
   "execution_count": null,
   "metadata": {
    "collapsed": true
   },
   "outputs": [],
   "source": [
    "mask = rv_int_be_chem['successful']\n",
    "t_arr = rv_int_be_chem['t'][mask]\n",
    "\n",
    "png_name = make_plots( primordial, init, rv_int_be_chem, solver_name = 'be_chem_solve', t_min = t_arr[0], t_max = t_arr[-1]  )\n",
    "print(png_name)\n",
    "Image(png_name)"
   ]
  },
  {
   "cell_type": "code",
   "execution_count": 12,
   "metadata": {
    "scrolled": false
   },
   "outputs": [
    {
     "name": "stdout",
     "output_type": "stream",
     "text": [
      "Adding reaction: k01 : 1*H_1 + 1*de => 1*H_2 + 2*de\n",
      "Adding reaction: k02 : 1*H_2 + 1*de => 1*H_1\n",
      "Adding reaction: k03 : 1*He_1 + 1*de => 1*He_2 + 2*de\n",
      "Adding reaction: k04 : 1*He_2 + 1*de => 1*He_1\n",
      "Adding reaction: k05 : 1*He_2 + 1*de => 1*He_3 + 2*de\n",
      "Adding reaction: k06 : 1*He_3 + 1*de => 1*He_2\n",
      "Adding reaction: k07 : 1*H_1 + 1*de => 1*H_m0\n",
      "Adding reaction: k08 : 1*H_m0 + 1*H_1 => 1*H2_1 + 1*de\n",
      "Adding reaction: k09 : 1*H_1 + 1*H_2 => 1*H2_2\n",
      "Adding reaction: k10 : 1*H2_2 + 1*H_1 => 1*H2_1 + 1*H_2\n",
      "Adding reaction: k11 : 1*H2_1 + 1*H_2 => 1*H2_2 + 1*H_1\n",
      "Adding reaction: k12 : 1*H2_1 + 1*de => 2*H_1 + 1*de\n",
      "Adding reaction: k13 : 1*H2_1 + 1*H_1 => 3*H_1\n",
      "Adding reaction: k14 : 1*H_m0 + 1*de => 1*H_1 + 2*de\n",
      "Adding reaction: k15 : 1*H_m0 + 1*H_1 => 2*H_1 + 1*de\n",
      "Adding reaction: k16 : 1*H_m0 + 1*H_2 => 2*H_1\n",
      "Adding reaction: k17 : 1*H_m0 + 1*H_2 => 1*H2_2 + 1*de\n",
      "Adding reaction: k18 : 1*H2_2 + 1*de => 2*H_1\n",
      "Adding reaction: k19 : 1*H2_2 + 1*H_m0 => 1*H_1 + 1*H2_1\n",
      "Adding reaction: k21 : 2*H_1 + 1*H2_1 => 2*H2_1\n",
      "Adding reaction: k22 : 2*H_1 + 1*H_1 => 1*H2_1 + 1*H_1\n",
      "Adding reaction: k23 : 1*H2_1 + 1*H2_1 => 2*H_1 + 1*H2_1\n",
      "{'H_2': array([  2.53333333e+09]), 'H_1': array([  2.53333333e+09]), 'density': array([  1.00000000e+10]), 'de': array([  3.11298707e+09]), 'He_1': array([  8.00000000e+08]), 'He_2': array([  8.00000000e+08]), 'He_3': array([  8.00000000e+08]), 'H2_2': array([  1.00000000e-20]), 'H2_1': array([  2.53333333e+09]), 'H_m0': array([  1.00000000e-20])}\n",
      "density: [  1.00000000e+10]\n",
      "number density: [  6.88305275e+09]\n"
     ]
    },
    {
     "ename": "KeyboardInterrupt",
     "evalue": "",
     "output_type": "error",
     "traceback": [
      "\u001b[0;31m---------------------------------------------------------------------------\u001b[0m",
      "\u001b[0;31mKeyboardInterrupt\u001b[0m                         Traceback (most recent call last)",
      "\u001b[0;32m<ipython-input-12-903f7b71a964>\u001b[0m in \u001b[0;36m<module>\u001b[0;34m()\u001b[0m\n\u001b[0;32m----> 1\u001b[0;31m \u001b[0mget_ipython\u001b[0m\u001b[0;34m(\u001b[0m\u001b[0;34m)\u001b[0m\u001b[0;34m.\u001b[0m\u001b[0mrun_cell_magic\u001b[0m\u001b[0;34m(\u001b[0m\u001b[0;34mu'time'\u001b[0m\u001b[0;34m,\u001b[0m \u001b[0;34mu''\u001b[0m\u001b[0;34m,\u001b[0m \u001b[0;34mu'ith_T = numpy.array([1000.0])\\nrho = numpy.array([1.0e10])\\n\\ninit, primordial = Init_values( ith_T , rho, 0, 0 )\\n\\nprimordial.write_solver(\"sundials_time\", solver_template = \"sundials_time\", \\n                    ode_solver_source = \"cvodes_solver_time.C\", \\n                    output_dir = \".\",\\n                        init_values=init,\\n                        input_is_number=False)\\n\\nsundials_solver_run = pyximport.load_module(\"sundials_time_solver_run\",\\n                            \"sundials_time_solver_run.pyx\",\\n                            build_inplace = True, pyxbuild_dir = \"_dengo_temp\")\\nrv, rv_int_sundials = sundials_solver_run.run_sundials_time(init, 1.0e5 , niter=1e5) # , dtarr = dt_arr)'\u001b[0m\u001b[0;34m)\u001b[0m\u001b[0;34m\u001b[0m\u001b[0m\n\u001b[0m",
      "\u001b[0;32m/home/kwoksun2/anaconda2/lib/python2.7/site-packages/IPython/core/interactiveshell.pyc\u001b[0m in \u001b[0;36mrun_cell_magic\u001b[0;34m(self, magic_name, line, cell)\u001b[0m\n\u001b[1;32m   2113\u001b[0m             \u001b[0mmagic_arg_s\u001b[0m \u001b[0;34m=\u001b[0m \u001b[0mself\u001b[0m\u001b[0;34m.\u001b[0m\u001b[0mvar_expand\u001b[0m\u001b[0;34m(\u001b[0m\u001b[0mline\u001b[0m\u001b[0;34m,\u001b[0m \u001b[0mstack_depth\u001b[0m\u001b[0;34m)\u001b[0m\u001b[0;34m\u001b[0m\u001b[0m\n\u001b[1;32m   2114\u001b[0m             \u001b[0;32mwith\u001b[0m \u001b[0mself\u001b[0m\u001b[0;34m.\u001b[0m\u001b[0mbuiltin_trap\u001b[0m\u001b[0;34m:\u001b[0m\u001b[0;34m\u001b[0m\u001b[0m\n\u001b[0;32m-> 2115\u001b[0;31m                 \u001b[0mresult\u001b[0m \u001b[0;34m=\u001b[0m \u001b[0mfn\u001b[0m\u001b[0;34m(\u001b[0m\u001b[0mmagic_arg_s\u001b[0m\u001b[0;34m,\u001b[0m \u001b[0mcell\u001b[0m\u001b[0;34m)\u001b[0m\u001b[0;34m\u001b[0m\u001b[0m\n\u001b[0m\u001b[1;32m   2116\u001b[0m             \u001b[0;32mreturn\u001b[0m \u001b[0mresult\u001b[0m\u001b[0;34m\u001b[0m\u001b[0m\n\u001b[1;32m   2117\u001b[0m \u001b[0;34m\u001b[0m\u001b[0m\n",
      "\u001b[0;32m<decorator-gen-59>\u001b[0m in \u001b[0;36mtime\u001b[0;34m(self, line, cell, local_ns)\u001b[0m\n",
      "\u001b[0;32m/home/kwoksun2/anaconda2/lib/python2.7/site-packages/IPython/core/magic.pyc\u001b[0m in \u001b[0;36m<lambda>\u001b[0;34m(f, *a, **k)\u001b[0m\n\u001b[1;32m    186\u001b[0m     \u001b[0;31m# but it's overkill for just that one bit of state.\u001b[0m\u001b[0;34m\u001b[0m\u001b[0;34m\u001b[0m\u001b[0m\n\u001b[1;32m    187\u001b[0m     \u001b[0;32mdef\u001b[0m \u001b[0mmagic_deco\u001b[0m\u001b[0;34m(\u001b[0m\u001b[0marg\u001b[0m\u001b[0;34m)\u001b[0m\u001b[0;34m:\u001b[0m\u001b[0;34m\u001b[0m\u001b[0m\n\u001b[0;32m--> 188\u001b[0;31m         \u001b[0mcall\u001b[0m \u001b[0;34m=\u001b[0m \u001b[0;32mlambda\u001b[0m \u001b[0mf\u001b[0m\u001b[0;34m,\u001b[0m \u001b[0;34m*\u001b[0m\u001b[0ma\u001b[0m\u001b[0;34m,\u001b[0m \u001b[0;34m**\u001b[0m\u001b[0mk\u001b[0m\u001b[0;34m:\u001b[0m \u001b[0mf\u001b[0m\u001b[0;34m(\u001b[0m\u001b[0;34m*\u001b[0m\u001b[0ma\u001b[0m\u001b[0;34m,\u001b[0m \u001b[0;34m**\u001b[0m\u001b[0mk\u001b[0m\u001b[0;34m)\u001b[0m\u001b[0;34m\u001b[0m\u001b[0m\n\u001b[0m\u001b[1;32m    189\u001b[0m \u001b[0;34m\u001b[0m\u001b[0m\n\u001b[1;32m    190\u001b[0m         \u001b[0;32mif\u001b[0m \u001b[0mcallable\u001b[0m\u001b[0;34m(\u001b[0m\u001b[0marg\u001b[0m\u001b[0;34m)\u001b[0m\u001b[0;34m:\u001b[0m\u001b[0;34m\u001b[0m\u001b[0m\n",
      "\u001b[0;32m/home/kwoksun2/anaconda2/lib/python2.7/site-packages/IPython/core/magics/execution.pyc\u001b[0m in \u001b[0;36mtime\u001b[0;34m(self, line, cell, local_ns)\u001b[0m\n\u001b[1;32m   1183\u001b[0m         \u001b[0;32melse\u001b[0m\u001b[0;34m:\u001b[0m\u001b[0;34m\u001b[0m\u001b[0m\n\u001b[1;32m   1184\u001b[0m             \u001b[0mst\u001b[0m \u001b[0;34m=\u001b[0m \u001b[0mclock2\u001b[0m\u001b[0;34m(\u001b[0m\u001b[0;34m)\u001b[0m\u001b[0;34m\u001b[0m\u001b[0m\n\u001b[0;32m-> 1185\u001b[0;31m             \u001b[0;32mexec\u001b[0m\u001b[0;34m(\u001b[0m\u001b[0mcode\u001b[0m\u001b[0;34m,\u001b[0m \u001b[0mglob\u001b[0m\u001b[0;34m,\u001b[0m \u001b[0mlocal_ns\u001b[0m\u001b[0;34m)\u001b[0m\u001b[0;34m\u001b[0m\u001b[0m\n\u001b[0m\u001b[1;32m   1186\u001b[0m             \u001b[0mend\u001b[0m \u001b[0;34m=\u001b[0m \u001b[0mclock2\u001b[0m\u001b[0;34m(\u001b[0m\u001b[0;34m)\u001b[0m\u001b[0;34m\u001b[0m\u001b[0m\n\u001b[1;32m   1187\u001b[0m             \u001b[0mout\u001b[0m \u001b[0;34m=\u001b[0m \u001b[0mNone\u001b[0m\u001b[0;34m\u001b[0m\u001b[0m\n",
      "\u001b[0;32m<timed exec>\u001b[0m in \u001b[0;36m<module>\u001b[0;34m()\u001b[0m\n",
      "\u001b[0;32m/home/kwoksun2/dengo/dengo-project-dengo-ed14369817a2/examples/sundials_time_solver_run.pyx\u001b[0m in \u001b[0;36msundials_time_solver_run.run_sundials_time (_dengo_temp/temp.linux-x86_64-2.7/pyrex/sundials_time_solver_run.cpp:4687)\u001b[0;34m()\u001b[0m\n\u001b[1;32m    701\u001b[0m     \u001b[0mfinal_iter\u001b[0m \u001b[0;34m=\u001b[0m \u001b[0mcvodes_main_solver\u001b[0m\u001b[0;34m(\u001b[0m \u001b[0mf\u001b[0m\u001b[0;34m,\u001b[0m \u001b[0mjf\u001b[0m\u001b[0;34m,\u001b[0m \u001b[0minput\u001b[0m\u001b[0;34m,\u001b[0m \u001b[0mrtol\u001b[0m \u001b[0;34m,\u001b[0m  \u001b[0matol\u001b[0m\u001b[0;34m,\u001b[0m \u001b[0mNSPECIES\u001b[0m\u001b[0;34m,\u001b[0m \u001b[0;34m<\u001b[0m\u001b[0mvoid\u001b[0m \u001b[0;34m*\u001b[0m\u001b[0;34m>\u001b[0m \u001b[0mdata\u001b[0m\u001b[0;34m,\u001b[0m \u001b[0;36m0.0\u001b[0m \u001b[0;34m,\u001b[0m \u001b[0mtf\u001b[0m \u001b[0;34m,\u001b[0m \u001b[0mniter\u001b[0m\u001b[0;34m,\u001b[0m \u001b[0moutput\u001b[0m\u001b[0;34m,\u001b[0m \u001b[0mT_arr\u001b[0m\u001b[0;34m,\u001b[0m \u001b[0mdt_arr\u001b[0m\u001b[0;34m,\u001b[0m \u001b[0mttot_arr\u001b[0m\u001b[0;34m,\u001b[0m \u001b[0msuccess_arr\u001b[0m\u001b[0;34m)\u001b[0m\u001b[0;34m\u001b[0m\u001b[0m\n\u001b[1;32m    702\u001b[0m \u001b[0;34m\u001b[0m\u001b[0m\n\u001b[0;32m--> 703\u001b[0;31m     \u001b[0;32mprint\u001b[0m\u001b[0;34m(\u001b[0m\u001b[0;34m\"final iteration: {}\"\u001b[0m\u001b[0;34m.\u001b[0m\u001b[0mformat\u001b[0m\u001b[0;34m(\u001b[0m\u001b[0mfinal_iter\u001b[0m\u001b[0;34m)\u001b[0m\u001b[0;34m)\u001b[0m\u001b[0;34m\u001b[0m\u001b[0m\n\u001b[0m\u001b[1;32m    704\u001b[0m \u001b[0;34m\u001b[0m\u001b[0m\n\u001b[1;32m    705\u001b[0m     \u001b[0;32mfor\u001b[0m \u001b[0miter\u001b[0m \u001b[0;32min\u001b[0m \u001b[0mrange\u001b[0m\u001b[0;34m(\u001b[0m\u001b[0mfinal_iter\u001b[0m\u001b[0;34m)\u001b[0m\u001b[0;34m:\u001b[0m\u001b[0;34m\u001b[0m\u001b[0m\n",
      "\u001b[0;32m/home/kwoksun2/anaconda2/lib/python2.7/site-packages/colorama/ansitowin32.pyc\u001b[0m in \u001b[0;36mwrite\u001b[0;34m(self, text)\u001b[0m\n\u001b[1;32m     37\u001b[0m         \u001b[0;32mreturn\u001b[0m \u001b[0mgetattr\u001b[0m\u001b[0;34m(\u001b[0m\u001b[0mself\u001b[0m\u001b[0;34m.\u001b[0m\u001b[0m__wrapped\u001b[0m\u001b[0;34m,\u001b[0m \u001b[0mname\u001b[0m\u001b[0;34m)\u001b[0m\u001b[0;34m\u001b[0m\u001b[0m\n\u001b[1;32m     38\u001b[0m \u001b[0;34m\u001b[0m\u001b[0m\n\u001b[0;32m---> 39\u001b[0;31m     \u001b[0;32mdef\u001b[0m \u001b[0mwrite\u001b[0m\u001b[0;34m(\u001b[0m\u001b[0mself\u001b[0m\u001b[0;34m,\u001b[0m \u001b[0mtext\u001b[0m\u001b[0;34m)\u001b[0m\u001b[0;34m:\u001b[0m\u001b[0;34m\u001b[0m\u001b[0m\n\u001b[0m\u001b[1;32m     40\u001b[0m         \u001b[0mself\u001b[0m\u001b[0;34m.\u001b[0m\u001b[0m__convertor\u001b[0m\u001b[0;34m.\u001b[0m\u001b[0mwrite\u001b[0m\u001b[0;34m(\u001b[0m\u001b[0mtext\u001b[0m\u001b[0;34m)\u001b[0m\u001b[0;34m\u001b[0m\u001b[0m\n\u001b[1;32m     41\u001b[0m \u001b[0;34m\u001b[0m\u001b[0m\n",
      "\u001b[0;31mKeyboardInterrupt\u001b[0m: "
     ]
    }
   ],
   "source": [
    "%%time\n",
    "ith_T = numpy.array([1000.0])\n",
    "rho = numpy.array([1.0e10])\n",
    "\n",
    "init, primordial = Init_values( ith_T , rho, 0, 0 )\n",
    "\n",
    "primordial.write_solver(\"sundials_time\", solver_template = \"sundials_time\", \n",
    "                    ode_solver_source = \"cvodes_solver_time.C\", \n",
    "                    output_dir = \".\",\n",
    "                        init_values=init,\n",
    "                        input_is_number=False)\n",
    "\n",
    "sundials_solver_run = pyximport.load_module(\"sundials_time_solver_run\",\n",
    "                            \"sundials_time_solver_run.pyx\",\n",
    "                            build_inplace = True, pyxbuild_dir = \"_dengo_temp\")\n",
    "rv, rv_int_sundials = sundials_solver_run.run_sundials_time(init, 1.0e5 , niter=1e5) # , dtarr = dt_arr)"
   ]
  },
  {
   "cell_type": "code",
   "execution_count": null,
   "metadata": {
    "collapsed": true,
    "scrolled": false
   },
   "outputs": [],
   "source": [
    "mask = rv_int_sundials['successful']\n",
    "t_arr = rv_int_sundials['t'][mask]\n",
    "png_name = make_plots( primordial, init, rv_int_sundials, solver_name = 'ttsundials', t_min = t_arr[0], t_max = t_arr[-1])\n",
    "Image(png_name)\n",
    "\n"
   ]
  },
  {
   "cell_type": "code",
   "execution_count": null,
   "metadata": {
    "collapsed": true
   },
   "outputs": [],
   "source": [
    "\n",
    "\n",
    "mask = rv_int_be_chem['successful']\n",
    "be_chem_data = {}\n",
    "\n",
    "mask_s = rv_int_sundials['successful']\n",
    "sundials_data = {}\n",
    "\n",
    "\n",
    "#for name in ['H_1','H_2','He_1','He_2','He_3', 'de', 't']:\n",
    "for name in ['H_1','H_2','He_1','He_2','He_3', 'H_m0', 'H2_1', 'H2_2', 'de', 't']:\n",
    "#for name in ['H_1','H_2','He_1','He_2','He_3', 'H_m0', 'H2_1', 'de', 't']:\n",
    "#for name in ['He_1','He_2','He_3', 'de', 't']:\n",
    "    if name != 't':\n",
    "        arr = rv_int_be_chem[name][0][mask]\n",
    "        be_chem_data[name] = arr\n",
    "        \n",
    "        arr = rv_int_sundials[name][0][mask_s]\n",
    "        sundials_data[name] = arr        \n",
    "        \n",
    "    else:\n",
    "        arr = rv_int_be_chem[name][mask]\n",
    "        be_chem_data[name] = arr\n",
    "        \n",
    "        arr = rv_int_sundials[name][mask_s]\n",
    "        sundials_data[name] = arr\n",
    "        \n",
    "save_obj(be_chem_data, 'be_chem_data')\n",
    "save_obj(sundials_data, 'sundials_data')\n",
    "\n",
    "t_arr = rv_int_be_chem['t'][mask]\n",
    "numpy.save(\"/home/kwoksun2/grackle/src/python/examples/t_arr.npy\", t_arr)"
   ]
  },
  {
   "cell_type": "code",
   "execution_count": null,
   "metadata": {
    "collapsed": true
   },
   "outputs": [],
   "source": [
    "from timeit import default_timer as timer\n",
    "\n",
    "start = timer()\n",
    "rho_arr = np.logspace(0,20,21)\n",
    "T_arr   = np.logspace(2,5,21)\n",
    "\n",
    "xx, yy = numpy.meshgrid(rho_arr, T_arr)\n",
    "rho_T_pair = zip(xx.flatten(),yy.flatten())\n",
    "end = timer()\n",
    "print(end-start)"
   ]
  },
  {
   "cell_type": "code",
   "execution_count": 13,
   "metadata": {},
   "outputs": [
    {
     "ename": "NameError",
     "evalue": "name 'rho_T_pair' is not defined",
     "output_type": "error",
     "traceback": [
      "\u001b[0;31m---------------------------------------------------------------------------\u001b[0m",
      "\u001b[0;31mNameError\u001b[0m                                 Traceback (most recent call last)",
      "\u001b[0;32m<ipython-input-13-ead90cd73d91>\u001b[0m in \u001b[0;36m<module>\u001b[0;34m()\u001b[0m\n\u001b[0;32m----> 1\u001b[0;31m \u001b[0;32mfor\u001b[0m \u001b[0mith_T\u001b[0m\u001b[0;34m,\u001b[0m \u001b[0mrho\u001b[0m \u001b[0;32min\u001b[0m \u001b[0mrho_T_pair\u001b[0m\u001b[0;34m:\u001b[0m\u001b[0;34m\u001b[0m\u001b[0m\n\u001b[0m\u001b[1;32m      2\u001b[0m     \u001b[0mstart\u001b[0m \u001b[0;34m=\u001b[0m \u001b[0mtimer\u001b[0m\u001b[0;34m(\u001b[0m\u001b[0;34m)\u001b[0m\u001b[0;34m\u001b[0m\u001b[0m\n\u001b[1;32m      3\u001b[0m     \u001b[0minit\u001b[0m\u001b[0;34m,\u001b[0m \u001b[0mprimordial\u001b[0m \u001b[0;34m=\u001b[0m \u001b[0mInit_values\u001b[0m\u001b[0;34m(\u001b[0m \u001b[0mnp\u001b[0m\u001b[0;34m.\u001b[0m\u001b[0marray\u001b[0m\u001b[0;34m(\u001b[0m\u001b[0;34m[\u001b[0m\u001b[0mith_T\u001b[0m\u001b[0;34m]\u001b[0m\u001b[0;34m)\u001b[0m \u001b[0;34m,\u001b[0m \u001b[0mnp\u001b[0m\u001b[0;34m.\u001b[0m\u001b[0marray\u001b[0m\u001b[0;34m(\u001b[0m\u001b[0;34m[\u001b[0m\u001b[0mrho\u001b[0m\u001b[0;34m]\u001b[0m\u001b[0;34m)\u001b[0m\u001b[0;34m,\u001b[0m \u001b[0;36m0\u001b[0m\u001b[0;34m,\u001b[0m \u001b[0;36m0\u001b[0m \u001b[0;34m)\u001b[0m\u001b[0;34m\u001b[0m\u001b[0m\n\u001b[1;32m      4\u001b[0m \u001b[0;34m\u001b[0m\u001b[0m\n\u001b[1;32m      5\u001b[0m     primordial.write_solver(\"sundials_time\", solver_template = \"sundials_time\", \n",
      "\u001b[0;31mNameError\u001b[0m: name 'rho_T_pair' is not defined"
     ]
    }
   ],
   "source": [
    "for ith_T, rho in rho_T_pair:\n",
    "    start = timer()\n",
    "    init, primordial = Init_values( np.array([ith_T]) , np.array([rho]), 0, 0 )\n",
    "\n",
    "    primordial.write_solver(\"sundials_time\", solver_template = \"sundials_time\", \n",
    "                        ode_solver_source = \"cvodes_solver_time.C\", \n",
    "                        output_dir = \".\",\n",
    "                            init_values=init,\n",
    "                            input_is_number=False)\n",
    "\n",
    "    sundials_solver_run = pyximport.load_module(\"sundials_time_solver_run\",\n",
    "                                \"sundials_time_solver_run.pyx\",\n",
    "                                build_inplace = True, pyxbuild_dir = \"_dengo_temp\")\n",
    "    rv, rv_int_sundials = sundials_solver_run.run_sundials_time(init, 1.0e8 , niter=1e5) # , dtarr = dt_arr)\n",
    "    end = timer()\n",
    "    print('***************************')\n",
    "    print(ith_T, rho)\n",
    "    print('time taken: {0:.3f}'.format(end-start))"
   ]
  },
  {
   "cell_type": "code",
   "execution_count": 9,
   "metadata": {},
   "outputs": [
    {
     "name": "stdout",
     "output_type": "stream",
     "text": [
      "{'ceHI': ceHI_ceHI[i]}\n",
      "{}\n"
     ]
    },
    {
     "ename": "NameError",
     "evalue": "name 'HI' is not defined",
     "output_type": "error",
     "traceback": [
      "\u001b[0;31m---------------------------------------------------------------------------\u001b[0m",
      "\u001b[0;31mNameError\u001b[0m                                 Traceback (most recent call last)",
      "\u001b[0;32m<ipython-input-9-01d8643b69bb>\u001b[0m in \u001b[0;36m<module>\u001b[0;34m()\u001b[0m\n\u001b[0;32m----> 1\u001b[0;31m \u001b[0mprimordial\u001b[0m\u001b[0;34m.\u001b[0m\u001b[0madd_cooling\u001b[0m\u001b[0;34m(\u001b[0m\u001b[0;34m\"ceHI\"\u001b[0m\u001b[0;34m)\u001b[0m\u001b[0;34m\u001b[0m\u001b[0m\n\u001b[0m",
      "\u001b[0;32m/home/kwoksun2/anaconda2/lib/python2.7/site-packages/dengo-0.1-py2.7.egg/dengo/chemical_network.pyc\u001b[0m in \u001b[0;36madd_cooling\u001b[0;34m(self, cooling_term, auto_add)\u001b[0m\n\u001b[1;32m     91\u001b[0m             \u001b[0;32mraise\u001b[0m \u001b[0mRuntimeError\u001b[0m\u001b[0;34m\u001b[0m\u001b[0m\n\u001b[1;32m     92\u001b[0m         \u001b[0;32mif\u001b[0m \u001b[0mauto_add\u001b[0m\u001b[0;34m:\u001b[0m\u001b[0;34m\u001b[0m\u001b[0m\n\u001b[0;32m---> 93\u001b[0;31m             \u001b[0mself\u001b[0m\u001b[0;34m.\u001b[0m\u001b[0mrequired_species\u001b[0m\u001b[0;34m.\u001b[0m\u001b[0mupdate\u001b[0m\u001b[0;34m(\u001b[0m\u001b[0mcooling_term\u001b[0m\u001b[0;34m.\u001b[0m\u001b[0mspecies\u001b[0m\u001b[0;34m)\u001b[0m\u001b[0;34m\u001b[0m\u001b[0m\n\u001b[0m\u001b[1;32m     94\u001b[0m         \u001b[0;32melse\u001b[0m\u001b[0;34m:\u001b[0m\u001b[0;34m\u001b[0m\u001b[0m\n\u001b[1;32m     95\u001b[0m             \u001b[0;32mfor\u001b[0m \u001b[0ms\u001b[0m \u001b[0;32min\u001b[0m \u001b[0mcooling_term\u001b[0m\u001b[0;34m.\u001b[0m\u001b[0mspecies\u001b[0m\u001b[0;34m:\u001b[0m\u001b[0;34m\u001b[0m\u001b[0m\n",
      "\u001b[0;32m/home/kwoksun2/anaconda2/lib/python2.7/site-packages/dengo-0.1-py2.7.egg/dengo/reaction_classes.py\u001b[0m in \u001b[0;36mspecies\u001b[0;34m(self)\u001b[0m\n\u001b[1;32m    355\u001b[0m     \u001b[0;34m@\u001b[0m\u001b[0mproperty\u001b[0m\u001b[0;34m\u001b[0m\u001b[0m\n\u001b[1;32m    356\u001b[0m     \u001b[0;32mdef\u001b[0m \u001b[0mspecies\u001b[0m\u001b[0;34m(\u001b[0m\u001b[0mself\u001b[0m\u001b[0;34m)\u001b[0m\u001b[0;34m:\u001b[0m\u001b[0;34m\u001b[0m\u001b[0m\n\u001b[0;32m--> 357\u001b[0;31m         \u001b[0mself\u001b[0m\u001b[0;34m.\u001b[0m\u001b[0mequation\u001b[0m\u001b[0;34m\u001b[0m\u001b[0m\n\u001b[0m\u001b[1;32m    358\u001b[0m         \u001b[0mbad\u001b[0m \u001b[0;34m=\u001b[0m \u001b[0mset\u001b[0m\u001b[0;34m(\u001b[0m\u001b[0mself\u001b[0m\u001b[0;34m.\u001b[0m\u001b[0mtemp_symbols\u001b[0m\u001b[0;34m.\u001b[0m\u001b[0mvalues\u001b[0m\u001b[0;34m(\u001b[0m\u001b[0;34m)\u001b[0m \u001b[0;34m+\u001b[0m \u001b[0mself\u001b[0m\u001b[0;34m.\u001b[0m\u001b[0mtable_symbols\u001b[0m\u001b[0;34m.\u001b[0m\u001b[0mvalues\u001b[0m\u001b[0;34m(\u001b[0m\u001b[0;34m)\u001b[0m\u001b[0;34m)\u001b[0m\u001b[0;34m\u001b[0m\u001b[0m\n\u001b[1;32m    359\u001b[0m         \u001b[0mspecies\u001b[0m \u001b[0;34m=\u001b[0m \u001b[0mset\u001b[0m\u001b[0;34m(\u001b[0m\u001b[0;34m[\u001b[0m\u001b[0;34m]\u001b[0m\u001b[0;34m)\u001b[0m\u001b[0;34m\u001b[0m\u001b[0m\n",
      "\u001b[0;32m/home/kwoksun2/anaconda2/lib/python2.7/site-packages/dengo-0.1-py2.7.egg/dengo/reaction_classes.py\u001b[0m in \u001b[0;36mequation\u001b[0;34m(self)\u001b[0m\n\u001b[1;32m    345\u001b[0m         \u001b[0msymbols\u001b[0m\u001b[0;34m.\u001b[0m\u001b[0mupdate\u001b[0m\u001b[0;34m(\u001b[0m\u001b[0mself\u001b[0m\u001b[0;34m.\u001b[0m\u001b[0mtable_symbols\u001b[0m\u001b[0;34m)\u001b[0m\u001b[0;34m\u001b[0m\u001b[0m\n\u001b[1;32m    346\u001b[0m         \u001b[0msymbols\u001b[0m\u001b[0;34m.\u001b[0m\u001b[0mupdate\u001b[0m\u001b[0;34m(\u001b[0m\u001b[0mself\u001b[0m\u001b[0;34m.\u001b[0m\u001b[0mtemp_symbols\u001b[0m\u001b[0;34m)\u001b[0m\u001b[0;34m\u001b[0m\u001b[0m\n\u001b[0;32m--> 347\u001b[0;31m         \u001b[0mself\u001b[0m\u001b[0;34m.\u001b[0m\u001b[0m_eq\u001b[0m \u001b[0;34m=\u001b[0m \u001b[0meval\u001b[0m\u001b[0;34m(\u001b[0m\u001b[0mself\u001b[0m\u001b[0;34m.\u001b[0m\u001b[0m_equation\u001b[0m\u001b[0;34m,\u001b[0m \u001b[0msymbols\u001b[0m\u001b[0;34m)\u001b[0m\u001b[0;34m\u001b[0m\u001b[0m\n\u001b[0m\u001b[1;32m    348\u001b[0m         \u001b[0;32mfor\u001b[0m \u001b[0mn\u001b[0m\u001b[0;34m,\u001b[0m \u001b[0me\u001b[0m \u001b[0;32min\u001b[0m \u001b[0mself\u001b[0m\u001b[0;34m.\u001b[0m\u001b[0mtemporaries\u001b[0m\u001b[0;34m.\u001b[0m\u001b[0mitems\u001b[0m\u001b[0;34m(\u001b[0m\u001b[0;34m)\u001b[0m\u001b[0;34m:\u001b[0m\u001b[0;34m\u001b[0m\u001b[0m\n\u001b[1;32m    349\u001b[0m             \u001b[0me\u001b[0m \u001b[0;34m=\u001b[0m \u001b[0msympy\u001b[0m\u001b[0;34m.\u001b[0m\u001b[0msympify\u001b[0m\u001b[0;34m(\u001b[0m\u001b[0me\u001b[0m\u001b[0;34m)\u001b[0m\u001b[0;34m\u001b[0m\u001b[0m\n",
      "\u001b[0;32m<string>\u001b[0m in \u001b[0;36m<module>\u001b[0;34m()\u001b[0m\n",
      "\u001b[0;31mNameError\u001b[0m: name 'HI' is not defined"
     ]
    }
   ],
   "source": [
    "primordial.add_cooling(\"ceHI\")"
   ]
  },
  {
   "cell_type": "code",
   "execution_count": null,
   "metadata": {
    "collapsed": true
   },
   "outputs": [],
   "source": [
    "species_registry"
   ]
  },
  {
   "cell_type": "code",
   "execution_count": null,
   "metadata": {
    "collapsed": true
   },
   "outputs": [],
   "source": [
    "cool_glover = cooling_registry['gloverabel08']"
   ]
  },
  {
   "cell_type": "code",
   "execution_count": null,
   "metadata": {
    "collapsed": true
   },
   "outputs": [],
   "source": [
    "cool_glover.equation"
   ]
  },
  {
   "cell_type": "code",
   "execution_count": null,
   "metadata": {
    "collapsed": true
   },
   "outputs": [],
   "source": []
  }
 ],
 "metadata": {
  "kernelspec": {
   "display_name": "Python 2",
   "language": "python",
   "name": "python2"
  },
  "language_info": {
   "codemirror_mode": {
    "name": "ipython",
    "version": 2
   },
   "file_extension": ".py",
   "mimetype": "text/x-python",
   "name": "python",
   "nbconvert_exporter": "python",
   "pygments_lexer": "ipython2",
   "version": "2.7.14"
  }
 },
 "nbformat": 4,
 "nbformat_minor": 2
}
