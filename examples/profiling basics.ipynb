{
 "cells": [
  {
   "cell_type": "code",
   "execution_count": null,
   "metadata": {},
   "outputs": [],
   "source": [
    "!rm calc_pi*"
   ]
  },
  {
   "cell_type": "code",
   "execution_count": null,
   "metadata": {},
   "outputs": [],
   "source": [
    "%%writefile calc_pi.py\n",
    "\n",
    "def recip_square(i):\n",
    "    return 1./i**2\n",
    "\n",
    "def approx_pi(n=10000000):\n",
    "    val = 0.\n",
    "    for k in range(1,n+1):\n",
    "        val += recip_square(k)\n",
    "    return (6 * val)**.5"
   ]
  },
  {
   "cell_type": "code",
   "execution_count": null,
   "metadata": {},
   "outputs": [],
   "source": [
    "#!/usr/bin/env python\n",
    "# encoding: utf-8\n",
    "# filename: profile.py\n",
    "\n",
    "import pstats, cProfile\n",
    "\n",
    "import calc_pi\n",
    "\n",
    "cProfile.runctx(\"calc_pi.approx_pi()\", globals(), locals(), \"Profile.prof\")\n",
    "\n",
    "s = pstats.Stats(\"Profile.prof\")\n",
    "s.strip_dirs().sort_stats(\"time\").print_stats()"
   ]
  },
  {
   "cell_type": "code",
   "execution_count": null,
   "metadata": {},
   "outputs": [],
   "source": [
    "%%writefile calc_pi.pyx\n",
    "# encoding: utf-8\n",
    "# cython: profile=True\n",
    "# filename: calc_pi.pyx\n",
    "\n",
    "def recip_square(int i):\n",
    "    return 1./i**2\n",
    "\n",
    "def approx_pi(int n=10000000):\n",
    "    cdef double val = 0.\n",
    "    cdef int k\n",
    "    for k in xrange(1,n+1):\n",
    "        val += recip_square(k)\n",
    "    return (6 * val)**.5"
   ]
  },
  {
   "cell_type": "code",
   "execution_count": 1,
   "metadata": {},
   "outputs": [
    {
     "name": "stdout",
     "output_type": "stream",
     "text": [
      "Wed Jan 24 16:59:34 2018    Profile.prof\n",
      "\n",
      "         10000004 function calls in 8.749 seconds\n",
      "\n",
      "   Ordered by: internal time\n",
      "\n",
      "   ncalls  tottime  percall  cumtime  percall filename:lineno(function)\n",
      "        1    4.820    4.820    8.749    8.749 calc_pi.pyx:8(approx_pi)\n",
      " 10000000    3.928    0.000    3.928    0.000 calc_pi.pyx:5(recip_square)\n",
      "        1    0.000    0.000    8.749    8.749 <string>:1(<module>)\n",
      "        1    0.000    0.000    8.749    8.749 {calc_pi.approx_pi}\n",
      "        1    0.000    0.000    0.000    0.000 {method 'disable' of '_lsprof.Profiler' objects}\n",
      "\n",
      "\n"
     ]
    },
    {
     "data": {
      "text/plain": [
       "<pstats.Stats instance at 0x7f55fc194200>"
      ]
     },
     "execution_count": 1,
     "metadata": {},
     "output_type": "execute_result"
    }
   ],
   "source": [
    "#!/usr/bin/env python\n",
    "# encoding: utf-8\n",
    "# filename: profile.py\n",
    "\n",
    "import pstats, cProfile\n",
    "\n",
    "import pyximport\n",
    "pyximport.install()\n",
    "\n",
    "import calc_pi\n",
    "\n",
    "cProfile.runctx(\"calc_pi.approx_pi()\", globals(), locals(), \"Profile.prof\")\n",
    "\n",
    "s = pstats.Stats(\"Profile.prof\")\n",
    "s.strip_dirs().sort_stats(\"time\").print_stats()"
   ]
  },
  {
   "cell_type": "code",
   "execution_count": null,
   "metadata": {
    "collapsed": true
   },
   "outputs": [],
   "source": []
  }
 ],
 "metadata": {
  "kernelspec": {
   "display_name": "Python 2",
   "language": "python",
   "name": "python2"
  },
  "language_info": {
   "codemirror_mode": {
    "name": "ipython",
    "version": 2
   },
   "file_extension": ".py",
   "mimetype": "text/x-python",
   "name": "python",
   "nbconvert_exporter": "python",
   "pygments_lexer": "ipython2",
   "version": "2.7.13"
  }
 },
 "nbformat": 4,
 "nbformat_minor": 2
}
