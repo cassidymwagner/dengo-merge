{
 "cells": [
  {
   "cell_type": "code",
   "execution_count": 243,
   "metadata": {},
   "outputs": [],
   "source": [
    "from sympy import *\n",
    ">>> from sympy import init_printing\n",
    ">>> init_printing() \n"
   ]
  },
  {
   "cell_type": "code",
   "execution_count": 17,
   "metadata": {},
   "outputs": [],
   "source": [
    "x, phi, dxdlnT_P, dxdlnT_rho = symbols( \"x, phi, dxdlnT_P, dxdlnT_rho\" )"
   ]
  },
  {
   "cell_type": "code",
   "execution_count": 374,
   "metadata": {},
   "outputs": [
    {
     "data": {
      "image/png": "[encoded data removed]",
      "text/latex": [
       "$$\\frac{x}{2} \\left(\\phi + 1\\right) \\left(- x + 1\\right) \\left(x + 1\\right)$$"
      ],
      "text/plain": [
       "x⋅(φ + 1)⋅(-x + 1)⋅(x + 1)\n",
       "──────────────────────────\n",
       "            2             "
      ]
     },
     "execution_count": 374,
     "metadata": {},
     "output_type": "execute_result"
    }
   ],
   "source": [
    "dxdlnT_P =  (1 + phi)*(x)*(1-x) * (1+x)/2\n",
    "dxdlnT_P"
   ]
  },
  {
   "cell_type": "code",
   "execution_count": 408,
   "metadata": {},
   "outputs": [
    {
     "data": {
      "image/png": "[encoded data removed]",
      "text/latex": [
       "$$\\frac{\\phi x \\left(- x + 1\\right)}{- x + 2}$$"
      ],
      "text/plain": [
       "φ⋅x⋅(-x + 1)\n",
       "────────────\n",
       "   -x + 2   "
      ]
     },
     "execution_count": 408,
     "metadata": {},
     "output_type": "execute_result"
    }
   ],
   "source": [
    "\n",
    "dxdlnT_rho = phi *x*(1-x)/(2-x)\n",
    "dxdlnT_rho"
   ]
  },
  {
   "cell_type": "code",
   "execution_count": 376,
   "metadata": {},
   "outputs": [],
   "source": [
    "a = simplify(1+1/(1+x)*dxdlnT_rho)*(1+1/(1+x)*dxdlnT_P)"
   ]
  },
  {
   "cell_type": "code",
   "execution_count": 414,
   "metadata": {},
   "outputs": [],
   "source": [
    "cv = 1/(2-x)*( 3+ (phi*phi+ Fraction(3,2) )*x*(1-x)) "
   ]
  },
  {
   "cell_type": "code",
   "execution_count": 415,
   "metadata": {},
   "outputs": [],
   "source": [
    "cp = a*(1+x) + cv\n",
    "b = simplify(b)"
   ]
  },
  {
   "cell_type": "code",
   "execution_count": 417,
   "metadata": {},
   "outputs": [
    {
     "data": {
      "image/png": "[encoded data removed]",
      "text/latex": [
       "$$\\frac{1}{2} \\left(\\phi^{2} x^{4} - 2 \\phi^{2} x^{3} - \\phi^{2} x^{2} + 2 \\phi^{2} x + 2 \\phi x^{4} - 4 \\phi x^{3} - 2 \\phi x^{2} + 4 \\phi x + x^{4} - 2 x^{3} - 5 x^{2} + 6 x + 10\\right)$$"
      ],
      "text/plain": [
       " 2  4      2  3    2  2      2          4        3        2            4      \n",
       "φ ⋅x  - 2⋅φ ⋅x  - φ ⋅x  + 2⋅φ ⋅x + 2⋅φ⋅x  - 4⋅φ⋅x  - 2⋅φ⋅x  + 4⋅φ⋅x + x  - 2⋅x\n",
       "──────────────────────────────────────────────────────────────────────────────\n",
       "                                                2                             \n",
       "\n",
       "3      2           \n",
       "  - 5⋅x  + 6⋅x + 10\n",
       "───────────────────\n",
       "                   "
      ]
     },
     "execution_count": 417,
     "metadata": {},
     "output_type": "execute_result"
    }
   ],
   "source": [
    "factor(b)"
   ]
  },
  {
   "cell_type": "code",
   "execution_count": 360,
   "metadata": {},
   "outputs": [
    {
     "data": {
      "image/png": "[encoded data removed]",
      "text/latex": [
       "$$- 6 x^{2} + 5 x + 10$$"
      ],
      "text/plain": [
       "     2           \n",
       "- 6⋅x  + 5⋅x + 10"
      ]
     },
     "execution_count": 360,
     "metadata": {},
     "output_type": "execute_result"
    }
   ],
   "source": [
    "-factor(6*x*x-5*x-10)"
   ]
  },
  {
   "cell_type": "code",
   "execution_count": 35,
   "metadata": {},
   "outputs": [
    {
     "data": {
      "text/plain": [
       "(phi**2*x**2 - phi**2*x + x**2 - x - 3)/(x - 2)"
      ]
     },
     "execution_count": 35,
     "metadata": {},
     "output_type": "execute_result"
    }
   ],
   "source": [
    "factor(1/(2-x)*(3+ (phi*phi+3/2)*x*(1-x)))"
   ]
  },
  {
   "cell_type": "code",
   "execution_count": 244,
   "metadata": {},
   "outputs": [
    {
     "data": {
      "image/png": "[encoded data removed]",
      "text/latex": [
       "$$\\frac{1}{- x + 2} \\left(x \\left(\\phi^{2} + 1\\right) \\left(- x + 1\\right) + 3\\right)$$"
      ],
      "text/plain": [
       "  ⎛ 2    ⎞             \n",
       "x⋅⎝φ  + 1⎠⋅(-x + 1) + 3\n",
       "───────────────────────\n",
       "         -x + 2        "
      ]
     },
     "execution_count": 244,
     "metadata": {},
     "output_type": "execute_result"
    }
   ],
   "source": [
    "1/(2-x)*(3+ (phi*phi+3/2)*x*(1-x))"
   ]
  },
  {
   "cell_type": "code",
   "execution_count": 373,
   "metadata": {},
   "outputs": [
    {
     "data": {
      "image/png": "[encoded data removed]",
      "text/latex": [
       "$$- \\frac{x^{2} - x + 2}{x \\left(x - 1\\right) \\left(x + 1\\right)}$$"
      ],
      "text/plain": [
       "   ⎛ 2        ⎞  \n",
       "  -⎝x  - x + 2⎠  \n",
       "─────────────────\n",
       "x⋅(x - 1)⋅(x + 1)"
      ]
     },
     "execution_count": 373,
     "metadata": {},
     "output_type": "execute_result"
    }
   ],
   "source": [
    "factor(1/(1-x)+2/x-2/(1+x))"
   ]
  },
  {
   "cell_type": "code",
   "execution_count": 149,
   "metadata": {},
   "outputs": [
    {
     "data": {
      "text/plain": [
       "x*(x - 1)*(2*phi**2*x**2 - 2*phi**2*x + 2*phi**2 + 3)"
      ]
     },
     "execution_count": 149,
     "metadata": {},
     "output_type": "execute_result"
    }
   ],
   "source": [
    "factor((2*phi**2*x**4 - 4*phi**2*x**3 + 4*phi**2*x**2 - 2*phi**2*x + 3*x**2 - 3*x  ))"
   ]
  },
  {
   "cell_type": "code",
   "execution_count": 272,
   "metadata": {},
   "outputs": [
    {
     "data": {
      "image/png": "[encoded data removed]",
      "text/latex": [
       "$$\\phi^{2} x + 2 \\phi x - 3 x^{2} + 5 x + 10$$"
      ],
      "text/plain": [
       " 2                2           \n",
       "φ ⋅x + 2⋅φ⋅x - 3⋅x  + 5⋅x + 10"
      ]
     },
     "execution_count": 272,
     "metadata": {},
     "output_type": "execute_result"
    }
   ],
   "source": [
    "factor( x*(phi+1)**2 -3*x*x+4*x+10 )"
   ]
  },
  {
   "cell_type": "code",
   "execution_count": 209,
   "metadata": {},
   "outputs": [],
   "source": [
    "\n",
    "y = (2+(phi+1)*x - (phi+1)*x*x) * (1+(phi+1)*x - (phi+1)*x*x) + 3 + 3/2*x-3/2*x*x + phi*phi*x - phi*phi*x*x\n"
   ]
  },
  {
   "cell_type": "code",
   "execution_count": 219,
   "metadata": {},
   "outputs": [
    {
     "data": {
      "text/plain": [
       "2*phi**2*x**4 - 4*phi**2*x**3 + 2*phi**2*x**2 + 2*phi*x**4 - 4*phi*x**3 + 2*phi*x"
      ]
     },
     "execution_count": 219,
     "metadata": {},
     "output_type": "execute_result"
    }
   ],
   "source": [
    "factor(y) +factor(b*(x-2))"
   ]
  },
  {
   "cell_type": "code",
   "execution_count": 277,
   "metadata": {},
   "outputs": [],
   "source": [
    "a  = (1+x)*(1+1/(1+x)*phi*x*(1-x)/(2-x))*(1+(1+phi)*x*(1-x)/2) / (2-x)"
   ]
  },
  {
   "cell_type": "code",
   "execution_count": 278,
   "metadata": {},
   "outputs": [
    {
     "data": {
      "image/png": "[encoded data removed]",
      "text/latex": [
       "$$x \\left(x - 2\\right) \\left(x - 1\\right) \\left(x + 1\\right)$$"
      ],
      "text/plain": [
       "x⋅(x - 2)⋅(x - 1)⋅(x + 1)"
      ]
     },
     "execution_count": 278,
     "metadata": {},
     "output_type": "execute_result"
    }
   ],
   "source": [
    "factor( x**4 -2*x**3 - x*x + 2*x )"
   ]
  },
  {
   "cell_type": "code",
   "execution_count": 288,
   "metadata": {},
   "outputs": [
    {
     "data": {
      "image/png": "[encoded data removed]",
      "text/latex": [
       "$$- 2 \\left(x + 1\\right) \\left(2 x - 5\\right)$$"
      ],
      "text/plain": [
       "-2⋅(x + 1)⋅(2⋅x - 5)"
      ]
     },
     "execution_count": 288,
     "metadata": {},
     "output_type": "execute_result"
    }
   ],
   "source": [
    "factor( - 4*x*x +6*x + 10)"
   ]
  },
  {
   "cell_type": "code",
   "execution_count": 290,
   "metadata": {},
   "outputs": [
    {
     "data": {
      "image/png": "[encoded data removed]",
      "text/latex": [
       "$$- x^{2} + x + 2$$"
      ],
      "text/plain": [
       "   2        \n",
       "- x  + x + 2"
      ]
     },
     "execution_count": 290,
     "metadata": {},
     "output_type": "execute_result"
    }
   ],
   "source": [
    "simplify( (x+1)*(2-x) )"
   ]
  },
  {
   "cell_type": "code",
   "execution_count": 370,
   "metadata": {},
   "outputs": [],
   "source": [
    "g = 2/x/(1-x*x)\n",
    "\n",
    "cp = (1+phi)**2 / (g) + 5*(1+x)/2\n"
   ]
  },
  {
   "cell_type": "code",
   "execution_count": 371,
   "metadata": {},
   "outputs": [
    {
     "data": {
      "image/png": "[encoded data removed]",
      "text/latex": [
       "$$\\frac{x}{2} \\left(\\phi + 1\\right)^{2} \\left(- x^{2} + 1\\right) + \\frac{5 x}{2} + \\frac{5}{2}$$"
      ],
      "text/plain": [
       "         2 ⎛   2    ⎞          \n",
       "x⋅(φ + 1) ⋅⎝- x  + 1⎠   5⋅x   5\n",
       "───────────────────── + ─── + ─\n",
       "          2              2    2"
      ]
     },
     "execution_count": 371,
     "metadata": {},
     "output_type": "execute_result"
    }
   ],
   "source": [
    "cp - 1/2*(x+1)*( (phi+1)**2*x*(1-x) + 5)"
   ]
  },
  {
   "cell_type": "code",
   "execution_count": 378,
   "metadata": {},
   "outputs": [],
   "source": [
    "a = (x+1)*((phi+1)**2*x*(1-x) + 5)/2 - cp"
   ]
  },
  {
   "cell_type": "code",
   "execution_count": 380,
   "metadata": {},
   "outputs": [
    {
     "data": {
      "image/png": "[encoded data removed]",
      "text/latex": [
       "$$- \\frac{x}{2} \\left(\\phi + 1\\right)^{2} \\left(- x^{2} + 1\\right) - \\frac{5 x}{2} + \\frac{1}{2} \\left(x + 1\\right) \\left(x \\left(\\phi + 1\\right)^{2} \\left(- x + 1\\right) + 5\\right) - \\frac{5}{2}$$"
      ],
      "text/plain": [
       "           2 ⎛   2    ⎞                 ⎛         2             ⎞    \n",
       "  x⋅(φ + 1) ⋅⎝- x  + 1⎠   5⋅x   (x + 1)⋅⎝x⋅(φ + 1) ⋅(-x + 1) + 5⎠   5\n",
       "- ───────────────────── - ─── + ───────────────────────────────── - ─\n",
       "            2              2                    2                   2"
      ]
     },
     "execution_count": 380,
     "metadata": {},
     "output_type": "execute_result"
    }
   ],
   "source": [
    "a"
   ]
  },
  {
   "cell_type": "code",
   "execution_count": 388,
   "metadata": {},
   "outputs": [
    {
     "data": {
      "image/png": "[encoded data removed]",
      "text/latex": [
       "$$\\frac{x \\left(\\phi + 1\\right) \\left(- x + 1\\right) + 2}{x \\left(\\phi + 1\\right)^{2} \\left(- x + 1\\right) + 5}$$"
      ],
      "text/plain": [
       " x⋅(φ + 1)⋅(-x + 1) + 2\n",
       "───────────────────────\n",
       "         2             \n",
       "x⋅(φ + 1) ⋅(-x + 1) + 5"
      ]
     },
     "execution_count": 388,
     "metadata": {},
     "output_type": "execute_result"
    }
   ],
   "source": [
    "grad_ad = (2+x*(1-x)*(phi+1) )/( 5+x*(1-x)*(phi+1)**2 )\n",
    "grad_ad"
   ]
  },
  {
   "cell_type": "code",
   "execution_count": 389,
   "metadata": {},
   "outputs": [],
   "source": [
    "gamma2 = (1 - grad_ad)**-1"
   ]
  },
  {
   "cell_type": "code",
   "execution_count": 390,
   "metadata": {},
   "outputs": [
    {
     "data": {
      "image/png": "[encoded data removed]",
      "text/latex": [
       "$$\\frac{x \\left(\\phi + 1\\right)^{2} \\left(x - 1\\right) - 5}{x \\left(\\phi + 1\\right)^{2} \\left(x - 1\\right) - x \\left(\\phi + 1\\right) \\left(x - 1\\right) - 3}$$"
      ],
      "text/plain": [
       "                   2                      \n",
       "          x⋅(φ + 1) ⋅(x - 1) - 5          \n",
       "──────────────────────────────────────────\n",
       "         2                                \n",
       "x⋅(φ + 1) ⋅(x - 1) - x⋅(φ + 1)⋅(x - 1) - 3"
      ]
     },
     "execution_count": 390,
     "metadata": {},
     "output_type": "execute_result"
    }
   ],
   "source": [
    "simplify(gamma2)"
   ]
  },
  {
   "cell_type": "code",
   "execution_count": 400,
   "metadata": {},
   "outputs": [],
   "source": [
    "gamma1 = (5+(phi+1)**2*x*(1-x)) / (3 + (Fraction(3,2) + phi*phi)*x*(1-x) )"
   ]
  },
  {
   "cell_type": "code",
   "execution_count": 398,
   "metadata": {},
   "outputs": [],
   "source": [
    "from fractions import Fraction"
   ]
  },
  {
   "cell_type": "code",
   "execution_count": 399,
   "metadata": {},
   "outputs": [
    {
     "data": {
      "image/png": "[encoded data removed]",
      "text/latex": [
       "$$\\frac{2 x}{3}$$"
      ],
      "text/plain": [
       "2⋅x\n",
       "───\n",
       " 3 "
      ]
     },
     "execution_count": 399,
     "metadata": {},
     "output_type": "execute_result"
    }
   ],
   "source": [
    "Fraction(2,3)*x"
   ]
  },
  {
   "cell_type": "code",
   "execution_count": 402,
   "metadata": {},
   "outputs": [
    {
     "data": {
      "image/png": "[encoded data removed]",
      "text/latex": [
       "$$\\frac{x \\left(\\phi + 1\\right)^{2} \\left(- x + 1\\right) + 5}{x \\left(\\phi^{2} + \\frac{3}{2}\\right) \\left(- x + 1\\right) + 3}$$"
      ],
      "text/plain": [
       "         2             \n",
       "x⋅(φ + 1) ⋅(-x + 1) + 5\n",
       "───────────────────────\n",
       "  ⎛ 2   3⎞             \n",
       "x⋅⎜φ  + ─⎟⋅(-x + 1) + 3\n",
       "  ⎝     2⎠             "
      ]
     },
     "execution_count": 402,
     "metadata": {},
     "output_type": "execute_result"
    }
   ],
   "source": [
    "gamma1"
   ]
  },
  {
   "cell_type": "code",
   "execution_count": 406,
   "metadata": {
    "collapsed": true
   },
   "outputs": [],
   "source": [
    "gamma3 = gamma1 - gamma1/gamma2 "
   ]
  },
  {
   "cell_type": "code",
   "execution_count": 407,
   "metadata": {},
   "outputs": [
    {
     "data": {
      "image/png": "[encoded data removed]",
      "text/latex": [
       "$$\\frac{2 x \\left(\\phi + 1\\right) \\left(x - 1\\right) - 4}{x \\left(2 \\phi^{2} + 3\\right) \\left(x - 1\\right) - 6}$$"
      ],
      "text/plain": [
       "2⋅(x⋅(φ + 1)⋅(x - 1) - 2)\n",
       "─────────────────────────\n",
       "   ⎛   2    ⎞            \n",
       " x⋅⎝2⋅φ  + 3⎠⋅(x - 1) - 6"
      ]
     },
     "execution_count": 407,
     "metadata": {},
     "output_type": "execute_result"
    }
   ],
   "source": [
    "simplify(gamma3)"
   ]
  },
  {
   "cell_type": "code",
   "execution_count": 425,
   "metadata": {},
   "outputs": [],
   "source": [
    "f_gamma1 = lambdify( [phi,x] ,gamma1)"
   ]
  },
  {
   "cell_type": "code",
   "execution_count": 426,
   "metadata": {},
   "outputs": [
    {
     "data": {
      "image/png": "[encoded data removed]",
      "text/latex": [
       "$$1.56994818653$$"
      ],
      "text/plain": [
       "1.56994818653"
      ]
     },
     "execution_count": 426,
     "metadata": {},
     "output_type": "execute_result"
    }
   ],
   "source": [
    "f_gamma1(0.1,0.5)"
   ]
  },
  {
   "cell_type": "code",
   "execution_count": 422,
   "metadata": {},
   "outputs": [
    {
     "data": {
      "image/png": "[encoded data removed]",
      "text/latex": [
       "$$\\frac{x \\left(\\phi + 1\\right)^{2} \\left(- x + 1\\right) + 5}{x \\left(\\phi^{2} + \\frac{3}{2}\\right) \\left(- x + 1\\right) + 3}$$"
      ],
      "text/plain": [
       "         2             \n",
       "x⋅(φ + 1) ⋅(-x + 1) + 5\n",
       "───────────────────────\n",
       "  ⎛ 2   3⎞             \n",
       "x⋅⎜φ  + ─⎟⋅(-x + 1) + 3\n",
       "  ⎝     2⎠             "
      ]
     },
     "execution_count": 422,
     "metadata": {},
     "output_type": "execute_result"
    }
   ],
   "source": [
    "gamma1"
   ]
  },
  {
   "cell_type": "code",
   "execution_count": 424,
   "metadata": {},
   "outputs": [
    {
     "data": {
      "image/png": "[encoded data removed]",
      "text/latex": [
       "$$1.56994818653$$"
      ],
      "text/plain": [
       "1.56994818653"
      ]
     },
     "execution_count": 424,
     "metadata": {},
     "output_type": "execute_result"
    }
   ],
   "source": [
    "f_gamma1(0.5,0.1)"
   ]
  },
  {
   "cell_type": "code",
   "execution_count": 427,
   "metadata": {
    "collapsed": true
   },
   "outputs": [],
   "source": [
    "phi_v = 3./2. + (1.58e5)/1e4"
   ]
  },
  {
   "cell_type": "code",
   "execution_count": 441,
   "metadata": {},
   "outputs": [],
   "source": [
    "x = symbols(\"x\")"
   ]
  },
  {
   "cell_type": "code",
   "execution_count": 442,
   "metadata": {},
   "outputs": [],
   "source": [
    "f_gamma1 = lambdify( x ,gamma1.subs(phi,phi_v) )\n",
    "f_gamma2 = lambdify( x ,gamma2.subs(phi,phi_v) )\n",
    "f_gamma3 = lambdify( x ,gamma3.subs(phi,phi_v) )"
   ]
  },
  {
   "cell_type": "code",
   "execution_count": 449,
   "metadata": {},
   "outputs": [
    {
     "data": {
      "image/png": "[encoded data removed]",
      "text/plain": [
       "<matplotlib.figure.Figure at 0x7f356d904190>"
      ]
     },
     "metadata": {},
     "output_type": "display_data"
    }
   ],
   "source": [
    "plt.figure(figsize = (10,10))\n",
    "\n",
    "x = numpy.logspace(-4,0,100)\n",
    "plt.semilogx(x, f_gamma1(x) - 1 , label='$\\Gamma_1 - 1$')\n",
    "plt.semilogx(x, f_gamma2(x) - 1 , label='$\\Gamma_2 - 1$')\n",
    "plt.semilogx(x, f_gamma3(x) , label='$\\Gamma_3 - 1$')\n",
    "\n",
    "plt.axhline(5./3. - 1, color='k', ls = '--')\n",
    "plt.ylabel( \"$\\Gamma - 1$\")\n",
    "plt.xlabel(\"ionization fraction (x)\")\n",
    "plt.legend()\n",
    "plt.show()"
   ]
  },
  {
   "cell_type": "code",
   "execution_count": 458,
   "metadata": {},
   "outputs": [],
   "source": [
    "q1gradad = lambda beta: 2*(4 - 3*beta)/ (32 -24*beta - 3*beta*beta)"
   ]
  },
  {
   "cell_type": "code",
   "execution_count": 451,
   "metadata": {},
   "outputs": [],
   "source": [
    "beta = symbols('beta')"
   ]
  },
  {
   "cell_type": "code",
   "execution_count": 455,
   "metadata": {},
   "outputs": [
    {
     "data": {
      "image/png": "[encoded data removed]",
      "text/latex": [
       "$$- \\frac{3}{2} - \\frac{12}{\\beta} + \\frac{16}{\\beta^{2}}$$"
      ],
      "text/plain": [
       "  3   12   16\n",
       "- ─ - ── + ──\n",
       "  2   β     2\n",
       "           β "
      ]
     },
     "execution_count": 455,
     "metadata": {},
     "output_type": "execute_result"
    }
   ],
   "source": [
    "simplify( 3*(8-7*beta)/beta/2 + (4-3*beta)**2 / beta/beta )"
   ]
  },
  {
   "cell_type": "code",
   "execution_count": 464,
   "metadata": {},
   "outputs": [
    {
     "data": {
      "image/png": "[encoded data removed]",
      "text/plain": [
       "<matplotlib.figure.Figure at 0x7f356d90e490>"
      ]
     },
     "metadata": {},
     "output_type": "display_data"
    }
   ],
   "source": [
    "plt.figure(figsize=(10,10))\n",
    "beta = numpy.linspace(0,1,100)\n",
    "\n",
    "plt.plot(beta, q1gradad(beta))\n",
    "plt.xlabel(r'$\\beta$')\n",
    "plt.ylabel(r'$\\nabla_{ad}$')\n",
    "plt.show()"
   ]
  },
  {
   "cell_type": "code",
   "execution_count": null,
   "metadata": {
    "collapsed": true
   },
   "outputs": [],
   "source": []
  },
  {
   "cell_type": "code",
   "execution_count": null,
   "metadata": {
    "collapsed": true
   },
   "outputs": [],
   "source": []
  }
 ],
 "metadata": {
  "kernelspec": {
   "display_name": "Python 2",
   "language": "python",
   "name": "python2"
  },
  "language_info": {
   "codemirror_mode": {
    "name": "ipython",
    "version": 2
   },
   "file_extension": ".py",
   "mimetype": "text/x-python",
   "name": "python",
   "nbconvert_exporter": "python",
   "pygments_lexer": "ipython2",
   "version": "2.7.13"
  }
 },
 "nbformat": 4,
 "nbformat_minor": 2
}
