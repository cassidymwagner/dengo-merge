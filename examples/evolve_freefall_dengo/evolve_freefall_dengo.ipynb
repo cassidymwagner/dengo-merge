{
 "cells": [
  {
   "cell_type": "code",
   "execution_count": null,
   "metadata": {},
   "outputs": [],
   "source": [
    "import os\n",
    "os.environ['YT_DEST'] = '/home/kwoksun2/anaconda2/pkgs/yt-3.3.5-np111py27_2/'\n",
    "import numpy as np\n",
    "from dengo.chemical_network import \\\n",
    "    ChemicalNetwork, \\\n",
    "    reaction_registry, \\\n",
    "    cooling_registry, species_registry\n",
    "    \n",
    "import sys\n",
    "sys.path.append(\"cvdls_examples/9species_cooling\")\n",
    "sys.path.append(\"cvspils_examples/9species_cooling\")\n",
    "sys.path.append(\"be_chem_solve_examples/9species_cooling/\")\n",
    "import dengo.primordial_rates, dengo.primordial_cooling\n",
    "from dengo.chemistry_constants import tiny, kboltz, mh\n",
    "import yt\n",
    "import yt.units as u\n",
    "import numpy\n",
    "import pickle\n",
    "import pyximport\n",
    "import h5py\n",
    "import timeit\n",
    "import time\n",
    "from generate_dls_cooling_network import create_cvdls_solver, Init_values\n",
    "import matplotlib.pyplot as plt\n",
    "from sympy import lambdify"
   ]
  },
  {
   "cell_type": "code",
   "execution_count": null,
   "metadata": {},
   "outputs": [],
   "source": [
    "import os, sys\n",
    "\n",
    "class HidePrints:\n",
    "    def __enter__(self):\n",
    "        self._original_stdout = sys.stdout\n",
    "        sys.stdout = open(os.devnull, 'w')\n",
    "\n",
    "    def __exit__(self, exc_type, exc_val, exc_tb):\n",
    "        sys.stdout = self._original_stdout"
   ]
  },
  {
   "cell_type": "markdown",
   "metadata": {},
   "source": [
    "# Evolve Free Fall Parcel\n",
    "\n",
    "1. let the gas cool at constant density from the starting temperature down to a lower temperature to get the species fractions in a resonable state\n",
    "2. evolve density and temperature according to freefall collapse"
   ]
  },
  {
   "cell_type": "code",
   "execution_count": null,
   "metadata": {},
   "outputs": [],
   "source": [
    "init, primordial = Init_values(np.array([2000.0]), np.array([1e10]) , n_species = 9, cooling=True)"
   ]
  },
  {
   "cell_type": "code",
   "execution_count": null,
   "metadata": {},
   "outputs": [],
   "source": [
    "sp = species_registry['H2_1']\n",
    "gammaH2 = primordial.species_gamma(sp, temp=True, name=False).subs({'T':temperature})\n",
    "print(gammaH2)"
   ]
  },
  {
   "cell_type": "code",
   "execution_count": null,
   "metadata": {},
   "outputs": [],
   "source": [
    "def calculate_pressure(init, primordial):\n",
    "    P = numpy.zeros((1))\n",
    "    T = init['T']\n",
    "    for sp in primordial.required_species:\n",
    "        if sp.name != 'ge':\n",
    "            n_sp = init[sp.name]/sp.weight\n",
    "            P += n_sp * u.boltzmann_constant_cgs.v * T\n",
    "    return P\n",
    "\n",
    "def calculate_collapse_factor(pressure, density):\n",
    "    # Calculate the effective adiabatic index, dlog(p)/dlog(rho).\n",
    "    if len(pressure) < 3:\n",
    "        return 0.\n",
    "\n",
    "    # compute dlog(p) / dlog(rho) using last two timesteps\n",
    "    gamma_eff = np.log10(pressure[-1] / pressure[-2]) / \\\n",
    "        np.log10(density[-1] / density[-2])\n",
    "    \n",
    "    # compute a higher order derivative if more than two points available\n",
    "    if len(pressure) > 2:\n",
    "        gamma_eff += 0.5 * ((np.log10(pressure[-2] / pressure[-3]) /\n",
    "                             np.log10(density[-2] / density[-3])) - gamma_eff)\n",
    "\n",
    "    gamma_eff = min(gamma_eff, 4./3.)\n",
    "\n",
    "    # Equation 9 of Omukai et al. (2005)\n",
    "    if gamma_eff < 0.83:\n",
    "        force_factor = 0.0\n",
    "    elif gamma_eff < 1.0:\n",
    "        force_factor = 0.6 + 2.5 * (gamma_eff - 1) - \\\n",
    "            6.0 * np.power((gamma_eff - 1.0), 2.)\n",
    "    else:\n",
    "        force_factor = 1.0 + 0.2 * (gamma_eff - (4./3.)) - \\\n",
    "            2.9 * np.power((gamma_eff - (4./3.)), 2.)\n",
    "\n",
    "    force_factor = max(force_factor, 0.0)\n",
    "    force_factor = min(force_factor, 0.95)\n",
    "    return force_factor\n",
    "\n",
    "def calculate_gamma(init, primordial):\n",
    "    gamma = 5.0/3.0\n",
    "    for sp in primordial.required_species: \n",
    "        if sp.name == 'H2_1':\n",
    "            sp_H2 = sp\n",
    "            break\n",
    "    gammaH2 = primordial.species_gamma(sp, temp=True, name=False).subs({'T':temperature})\n",
    "\n",
    "    gamma_fac = primordial.gamma_factor()\n",
    "    gamma_factor = gamma_fac.subs(init).subs({'gamma':gamma}).subs({'gammaH2':gammaH2})\n",
    "\n",
    "    n_density = 0.0\n",
    "    for sp in primordial.required_species:\n",
    "        if sp.name != 'ge':\n",
    "            n_density += init[sp.name]\n",
    "\n",
    "    gamma_ad = n_density/gamma_factor + 1\n",
    "    gamma_ad = float(gamma_ad)\n",
    "    return gamma_ad\n",
    "\n",
    "\n",
    "\n",
    "def calculate_temperature(init, primordial):\n",
    "    dT = 10.0\n",
    "    temperature = init['T']\n",
    "        \n",
    "    while dT > 0.1:\n",
    "        x = 6100.0/temperature\n",
    "        # update the gammaH2 which is dependent on temperature\n",
    "        gammaH2 = 2.0 / (5.0 + 2.0*x*x*numpy.exp(x) / (numpy.exp(x) - 1 )**2.0 ) + 1\n",
    "\n",
    "        gamma_factor = primordial.gamma_factor().subs(init).subs({'gammaH2': gammaH2 , 'gamma': 5./3.,'T':temperature })\n",
    "        \n",
    "        # with ge updated from compressional heating\n",
    "        ge = init['ge']\n",
    "        \n",
    "        new_T = numpy.array([float(init['density']*ge*mh / kboltz / gamma_factor)])\n",
    "        dT = numpy.abs(new_T - temperature)\n",
    "        temperature = new_T\n",
    "        \n",
    "    return new_T\n",
    "\n",
    "def calculate_energy(init, primordial):\n",
    "    \"\"\"Calculate energy from the abundance and temperature\n",
    "    \"\"\"\n",
    "    num_den = {}\n",
    "    for sp in primordial.required_species:\n",
    "        try:\n",
    "            num_den[sp.name] = init[sp.name]/ sp.weight\n",
    "        except:\n",
    "            pass\n",
    "\n",
    "    # set up initial temperatures values used to define ge\n",
    "    temperature = init['T']\n",
    "\n",
    "    # calculate gammaH2\n",
    "    x = 6100.0/temperature\n",
    "    gammaH2 = 2.0 / (5.0 + 2.0*x*x*numpy.exp(x) / (numpy.exp(x) - 1 )**2.0 ) + 1\n",
    "\n",
    "    gamma_factor = primordial.gamma_factor().subs(num_den).subs({'gammaH2': gammaH2 , 'gamma': 5./3.,'T': temperature })\n",
    "\n",
    "    ge  = ((temperature *  kboltz) *gamma_factor\n",
    "                         / (init['density'] * mh  ))\n",
    "\n",
    "    T = init['density']*ge*mh / kboltz / gamma_factor\n",
    "    \n",
    "    print(T-temperature)\n",
    "    \n",
    "    return numpy.array( [numpy.float64(ge)] )\n"
   ]
  },
  {
   "cell_type": "code",
   "execution_count": null,
   "metadata": {},
   "outputs": [],
   "source": [
    "def update_initial_condition(init, primordial, pressure_array, density_array, safety_factor=0.01):\n",
    "    \n",
    "    # should be in cgs units\n",
    "    # dyne / cm^-2\n",
    "    current_pressure = calculate_pressure(init, primordial)\n",
    "    pressure_array = numpy.append(pressure_array, current_pressure)    \n",
    "    \n",
    "    \n",
    "    include_pressure = False\n",
    "    if include_pressure:\n",
    "        force_factor = calculate_collapse_factor(pressure_array, density_array)\n",
    "    else:\n",
    "        force_factor = 0.0    \n",
    "    print(\"force_factor: {}\".format(force_factor))\n",
    "    \n",
    "    density = init['density']\n",
    "    \n",
    "    # compute the new density using the modified\n",
    "    # free-fall collapse as per Omukai et al. (2005)\n",
    "\n",
    "    gravitational_constant = 4.0*numpy.pi*6.65259e-8 *  u.amu_cgs.v\n",
    "    freefall_time_constant = np.power((( 32.0*gravitational_constant)/ (3.0*numpy.pi)), 0.5)\n",
    "\n",
    "    dt = safety_factor* np.power( (3.0*np.pi)/ (32.0* gravitational_constant *density ), 0.5 )\n",
    "\n",
    "    # calculate new density from altered free-fall solution\n",
    "    \n",
    "    new_density = np.power((np.power(density, -0.5) -\n",
    "                                (0.5 * freefall_time_constant * dt *\n",
    "                                 np.power((1 - force_factor), 0.5))), -2.)\n",
    "    \n",
    "    # multiply this with the elemental abundances\n",
    "    density_ratio = new_density/density\n",
    "\n",
    "    # update densities\n",
    "    # only update the species array only\n",
    "    for sp in primordial.required_species:\n",
    "        if sp.name != 'ge':\n",
    "            init[sp.name] *= density_ratio\n",
    "\n",
    "    Gamma = calculate_gamma(init, primordial)\n",
    "    \n",
    "    # update internal energy\n",
    "    init['ge'] += (Gamma - 1.0) * init['ge'] * \\\n",
    "                        freefall_time_constant* \\\n",
    "                        new_density**0.5 * dt\n",
    "            \n",
    "    print( \"gammma - 1: {}\".format((Gamma - 1.0)))\n",
    "    # update density\n",
    "    init['density'] = new_density\n",
    "    density_array = numpy.append(density_array, new_density)\n",
    "    \n",
    "    \n",
    "    # update temperature with the updated internal energy\n",
    "    init['T'] = calculate_temperature(init, primordial)\n",
    "    \n",
    "    return init, pressure_array, density_array, dt, force_factor\n",
    "\n",
    "\n",
    "def generate_init_from_results(rv_int, primordial, old_init):\n",
    "    flag = rv_int['successful']\n",
    "    init = {}\n",
    "    for sp in primordial.required_species:\n",
    "        print(sp)\n",
    "        init[sp.name] = rv_int[sp.name][0][flag][-1]*sp.weight\n",
    "    density = old_init['density']\n",
    "    init['density'] = density\n",
    "    init['T'] = numpy.array([rv_int['T'][0][flag][-1]])\n",
    "    return init\n",
    "\n",
    "\n",
    "def convert_from_grackle_to_dengo(grackle_dict):\n",
    "    dengo_dict = {}\n",
    "    for key in grackle_dict:\n",
    "        key = str(key)\n",
    "        \n",
    "        ele = key.split('I')[0]\n",
    "        charge = key.count('I')\n",
    "        if charge > 0:\n",
    "            dengo_name = ele+ '_' + str(charge)\n",
    "            dengo_dict[dengo_name] = numpy.array(grackle_dict[key][0])/u.amu_cgs.v\n",
    "        elif 'M' in key:\n",
    "            ele = key.split('M')[0]\n",
    "            dengo_name = ele + '_' + str(\"m0\")\n",
    "            dengo_dict[dengo_name] = numpy.array(grackle_dict[key][0])/u.amu_cgs.v\n",
    "        elif key == 'temperature':\n",
    "            dengo_name = 'T'\n",
    "            dengo_dict[dengo_name] = numpy.array(grackle_dict[key][0])\n",
    "        elif key == 'de':\n",
    "            dengo_name = 'de'\n",
    "            dengo_dict[dengo_name] = numpy.array(grackle_dict[key][0])/u.amu_cgs.v\n",
    "    return dengo_dict\n",
    "\n",
    "\n",
    "def convert_from_grackle_to_dengo_all(grackle_dict):\n",
    "    dengo_dict = {}\n",
    "    for key in grackle_dict:\n",
    "        key = str(key)\n",
    "        \n",
    "        ele = key.split('I')[0]\n",
    "        charge = key.count('I')\n",
    "        if charge > 0:\n",
    "            dengo_name = ele+ '_' + str(charge)\n",
    "            if ele == 'H':\n",
    "                dengo_dict[dengo_name] = numpy.array(grackle_dict[key])/u.amu_cgs.v / 1.00794\n",
    "            elif ele == 'He':\n",
    "                dengo_dict[dengo_name] = numpy.array(grackle_dict[key])/u.amu_cgs.v / 4.002602\n",
    "            elif ele == 'H2':\n",
    "                dengo_dict[dengo_name] = numpy.array(grackle_dict[key])/u.amu_cgs.v / 1.00794 /2.0\n",
    "        elif 'M' in key:\n",
    "            ele = key.split('M')[0]\n",
    "            dengo_name = ele + '_' + str(\"m0\")\n",
    "            dengo_dict[dengo_name] = numpy.array(grackle_dict[key])/u.amu_cgs.v\n",
    "        elif key == 'temperature':\n",
    "            dengo_name = 'T'\n",
    "            dengo_dict[dengo_name] = numpy.array(grackle_dict[key])\n",
    "        elif key == 'de':\n",
    "            dengo_name = 'de'\n",
    "            dengo_dict[dengo_name] = numpy.array(grackle_dict[key])/u.amu_cgs.v\n",
    "    return dengo_dict"
   ]
  },
  {
   "cell_type": "code",
   "execution_count": null,
   "metadata": {},
   "outputs": [],
   "source": [
    "# Initial conditions\n",
    "temperature = 10000.0# K\n",
    "density = 1.0e-1 # cm^-3\n",
    "\n",
    "solver_name = 'cvdls_9species'\n",
    "with HidePrints():\n",
    "    init, primordial = Init_values(np.array([temperature]), np.array([density]) , n_species = 9\n",
    "                                   , cooling=True)\n",
    "\n",
    "chemistry_run = create_cvdls_solver(init,primordial, solver_name, cooling=True);\n"
   ]
  },
  {
   "cell_type": "code",
   "execution_count": null,
   "metadata": {},
   "outputs": [],
   "source": [
    "(1.0/numpy.sqrt(u.G *u.mass_hydrogen_cgs *1e15 / (u.cm**3) )).in_units('s')/1e7"
   ]
  },
  {
   "cell_type": "code",
   "execution_count": null,
   "metadata": {},
   "outputs": [],
   "source": [
    "temperature = 10000.0# K\n",
    "density = 1.0e-1*1.00794 # cm^-3\n",
    "\n",
    "with HidePrints():\n",
    "    init, primordial = Init_values(np.array([temperature]), np.array([density]) , n_species = 9)\n",
    "rv, rv_int = chemistry_run.run_cvdls_9species(init, 1.0e18,niter=1e5);"
   ]
  },
  {
   "cell_type": "code",
   "execution_count": null,
   "metadata": {},
   "outputs": [],
   "source": [
    "flag = rv_int['successful']\n",
    "plt.loglog(rv_int['t'][flag],rv_int['H2_1'][0][flag],'-o')\n",
    "plt.loglog(rv_int['t'][flag],rv_int['H_1'][0][flag],'-o')\n",
    "rv_int['T'][0][flag][-1]"
   ]
  },
  {
   "cell_type": "code",
   "execution_count": null,
   "metadata": {},
   "outputs": [],
   "source": [
    "total_t = 0.0\n",
    "final_density = 1.0e12*1.00794\n",
    "density_array = numpy.array([ init['density'] ])\n",
    "pressure_array = numpy.array([])\n",
    "ttt = []\n",
    "run_time = []\n",
    "current_density = density_array[-1]\n",
    "\n",
    "all_data = {}\n",
    "for key in init.keys():\n",
    "    all_data[key] = []\n",
    "all_data['force_factor'] = []"
   ]
  },
  {
   "cell_type": "code",
   "execution_count": null,
   "metadata": {},
   "outputs": [],
   "source": [
    "dir_ff_grackle = \"/home/kwoksun2/grackle/src/python/examples/freefall.h5\"\n",
    "import h5py\n",
    "f = h5py.File(dir_ff_grackle)\n",
    "fdata = f['data']\n",
    "grackle_init = convert_from_grackle_to_dengo(fdata)\n",
    "\n",
    "\n",
    "new_init, primordial = Init_values(np.array([temperature]), np.array([density]) , n_species = 9)\n",
    "for i in new_init.keys():\n",
    "    if i not in ['density','ge']:\n",
    "        print(i, grackle_init[i]) \n",
    "        new_init[i] = numpy.array([grackle_init[i]])\n",
    "\n",
    "new_init['de'] = primordial.calculate_free_electrons(new_init)\n",
    "new_init['ge'] =  calculate_energy(new_init, primordial)\n",
    "rv, rv_int = chemistry_run.run_cvdls_9species(new_init, 1e-5,niter=1e0)"
   ]
  },
  {
   "cell_type": "code",
   "execution_count": null,
   "metadata": {},
   "outputs": [],
   "source": [
    "flag = rv_int['successful']\n",
    "de = numpy.zeros((1))\n",
    "for sp in new_init.keys():\n",
    "    if sp not in ['de','density','ge','T']:\n",
    "        s = species_registry[sp]\n",
    "        print(s.name)\n",
    "        de += rv_int[s.name][0][flag][-1]  * s.free_electrons"
   ]
  },
  {
   "cell_type": "code",
   "execution_count": null,
   "metadata": {},
   "outputs": [],
   "source": [
    "while current_density < final_density:\n",
    "\n",
    "    # keep track of time in here\n",
    "    \n",
    "    new_init = generate_init_from_results(rv_int,primordial, new_init)\n",
    "    init, pressure_array, density_array, dt, force_factor = update_initial_condition(new_init, primordial, pressure_array\n",
    "                                                             , density_array, safety_factor=0.01)\n",
    "    tic = time.time()\n",
    "    rv, rv_int = chemistry_run.run_cvdls_9species(init, dt,niter=1e4)\n",
    "    toc = time.time()\n",
    "    total_t += dt\n",
    "    ttt.append(float(total_t))\n",
    "    run_time.append(toc-tic)\n",
    "    \n",
    "    flag = rv_int['successful']\n",
    "    for key in init.keys():\n",
    "        if key not in ['density']:\n",
    "            data = rv_int[key][0][flag][-1]\n",
    "            all_data[key].append(data)\n",
    "    all_data['force_factor'].append( float(force_factor))\n",
    "    current_density = density_array[-1]"
   ]
  },
  {
   "cell_type": "code",
   "execution_count": null,
   "metadata": {},
   "outputs": [],
   "source": [
    "force_factor"
   ]
  },
  {
   "cell_type": "code",
   "execution_count": null,
   "metadata": {},
   "outputs": [],
   "source": [
    "import matplotlib.pyplot as plt\n",
    "ttt = numpy.array(ttt)"
   ]
  },
  {
   "cell_type": "code",
   "execution_count": null,
   "metadata": {},
   "outputs": [],
   "source": [
    "plt.semilogy(ttt, pressure_array,'-o')"
   ]
  },
  {
   "cell_type": "code",
   "execution_count": null,
   "metadata": {},
   "outputs": [],
   "source": [
    "max(ttt)*u.s.in_units('yr')"
   ]
  },
  {
   "cell_type": "code",
   "execution_count": null,
   "metadata": {},
   "outputs": [],
   "source": [
    "numpy.sum(run_time)"
   ]
  },
  {
   "cell_type": "code",
   "execution_count": null,
   "metadata": {},
   "outputs": [],
   "source": [
    "plt.loglog(run_time[:],'-o')"
   ]
  },
  {
   "cell_type": "code",
   "execution_count": null,
   "metadata": {},
   "outputs": [],
   "source": []
  },
  {
   "cell_type": "code",
   "execution_count": null,
   "metadata": {},
   "outputs": [],
   "source": [
    "dir_ff_grackle = \"/home/kwoksun2/grackle/src/python/examples/freefall.h5\"\n",
    "import h5py\n",
    "f = h5py.File(dir_ff_grackle)\n",
    "\n",
    "fdata = f['data']\n",
    "grackle_data = convert_from_grackle_to_dengo_all(fdata)\n",
    "\n",
    "\n",
    "def load_obj(name ):\n",
    "    with open(name + '.pkl', 'rb') as f:\n",
    "        return pickle.load(f)\n",
    "all_data = load_obj('freefall_dengo')\n",
    "\n",
    "density_array = all_data['density']\n",
    "\n",
    "print(density_array)"
   ]
  },
  {
   "cell_type": "code",
   "execution_count": null,
   "metadata": {},
   "outputs": [],
   "source": [
    "ic = 0\n",
    "plt.figure(figsize=(10,10))\n",
    "for key in all_data.keys():\n",
    "    \n",
    "    print(key)\n",
    "    if key not in ['density','t','force_factor','ge','T']:\n",
    "        data = numpy.array(all_data[key])\n",
    "        data1 = grackle_data[key]\n",
    "        \n",
    "        plt.semilogx( density_array[:-1], data1/density_array[:-1],c=color[ic], ls = '--')\n",
    "        \n",
    "        plt.loglog( density_array[:-1], data/density_array[:-1],label=key, c=color[ic])\n",
    "    ic += 1\n",
    "plt.legend()\n",
    "plt.xlabel('density (amu / $cm^{-3}$)')\n",
    "plt.ylabel(r'mass density $n_x m_x / \\rho$ ')"
   ]
  },
  {
   "cell_type": "code",
   "execution_count": null,
   "metadata": {},
   "outputs": [],
   "source": [
    "plt.figure(figsize=(10,10))\n",
    "\n",
    "H2_1 =  f['data']['H2I'] \n",
    "density = numpy.array(f['data']['density'])\n",
    "\n",
    "data = numpy.array(all_data['H2_1']) / density_array[:-1]\n",
    "\n",
    "plt.semilogx( density_array[1:]*u.amu_cgs, H2_1/density,label=key,c=color[0],ls='--')\n",
    "plt.loglog( density_array[1:]*u.amu_cgs, 2.0*data*1.00794   ,label=key,c=color[0])\n",
    "plt.xlabel('density (amu / $cm^{-3}$)')\n",
    "plt.ylabel(r'mass density $n_x m_x / \\rho$ ')"
   ]
  },
  {
   "cell_type": "code",
   "execution_count": null,
   "metadata": {},
   "outputs": [],
   "source": [
    "plt.figure(figsize=(10,10))\n",
    "data0 =  f['data']['temperature'] #\n",
    "plt.semilogx(density, data0, label=key)\n",
    "\n",
    "data1 = numpy.array(all_data['T']) \n",
    "plt.semilogx( density_array[1:]*u.amu_cgs, data1,label=key)\n",
    "\n",
    "plt.xlabel('density (amu / $cm^{-3}$)')\n",
    "plt.ylabel('mass density  ' + r\"$n_x m_x / \\rho$\")"
   ]
  },
  {
   "cell_type": "code",
   "execution_count": null,
   "metadata": {},
   "outputs": [],
   "source": [
    "plt.semilogx(density,force_factor)"
   ]
  },
  {
   "cell_type": "code",
   "execution_count": null,
   "metadata": {},
   "outputs": [],
   "source": [
    "plt.semilogx(density,force_factor)\n",
    "data = numpy.array(all_data['force_factor']) \n",
    "plt.semilogx( density_array[1:]*u.amu_cgs, data,label=key)"
   ]
  },
  {
   "cell_type": "code",
   "execution_count": null,
   "metadata": {},
   "outputs": [],
   "source": [
    "data = numpy.array(all_data['force_factor']) \n",
    "plt.loglog( density_array[1:][data>0], data[data>0],label=key)"
   ]
  },
  {
   "cell_type": "code",
   "execution_count": null,
   "metadata": {},
   "outputs": [],
   "source": [
    "len(data)"
   ]
  },
  {
   "cell_type": "code",
   "execution_count": null,
   "metadata": {},
   "outputs": [],
   "source": [
    "plt.loglog(density_array[1:], pressure_array)"
   ]
  },
  {
   "cell_type": "code",
   "execution_count": null,
   "metadata": {},
   "outputs": [],
   "source": [
    "action.tables"
   ]
  },
  {
   "cell_type": "code",
   "execution_count": null,
   "metadata": {},
   "outputs": [],
   "source": [
    "def cooling_rate_from_temp(T):\n",
    "    cooling_rates = {}\n",
    "    for action in primordial.cooling_actions.values():\n",
    "        actionname = action.name\n",
    "        for tab in action.tables:\n",
    "            name = \"{}_{}[i]\".format(actionname, tab)\n",
    "            \n",
    "            temp_array = primordial.T\n",
    "            \n",
    "            cooling = numpy.interp(T, temp_array, action.tables[tab](primordial))\n",
    "            cooling_rates[name] = cooling\n",
    "    cooling_rates['T'] = T\n",
    "    cooling_rates['z'] = numpy.zeros((len(T)))\n",
    "#     cooling_rates = sorted(cooling_rates)\n",
    "    return cooling_rates\n",
    "\n",
    "def cooling_from_results(results, primordial, cooling_rates, T):\n",
    "    \n",
    "    cooling_results = {}\n",
    "\n",
    "    for action in primordial.cooling_actions:\n",
    "        cool_action = cooling_registry[action].equation\n",
    "        cool_sym = cool_action.free_symbols\n",
    "        \n",
    "        cool_sym_name = [str(i) for i in cool_sym]\n",
    "        func = lambdify(cool_sym, cool_action,'numpy') # returns a numpy-ready function\n",
    "        \n",
    "        \n",
    "        num_var = len(cool_sym)\n",
    "        len_T   = len(T)\n",
    "        \n",
    "        input_array = numpy.zeros(( num_var, len_T ))       \n",
    "        for iii, sym_name in enumerate(cool_sym_name):\n",
    "            try:\n",
    "                input_array[iii, :] = results[sym_name]\n",
    "            except:\n",
    "                input_array[iii, :] = cooling_rates[sym_name]\n",
    "        \n",
    "        \n",
    "        cooling_results[action] = func(*input_array)\n",
    "    return cooling_results"
   ]
  },
  {
   "cell_type": "code",
   "execution_count": null,
   "metadata": {},
   "outputs": [],
   "source": [
    "T_array = rv_int['T'][0][flag]\n",
    "t_array = rv_int['t'][flag]\n",
    "\n",
    "cooling_rates = cooling_rate_from_temp(T_array)\n",
    "cooling_rates['mdensity'] = numpy.ones((len(T_array)))* density\n",
    "cooling_rates['mh'] = numpy.ones((len(T_array)))* u.mass_hydrogen_cgs.v"
   ]
  },
  {
   "cell_type": "code",
   "execution_count": null,
   "metadata": {},
   "outputs": [],
   "source": [
    "flag  = rv_int['successful']\n",
    "\n",
    "all_data = {}\n",
    "for i, v in rv_int.items():\n",
    "    print(i)\n",
    "    try:\n",
    "        all_data[i] = rv_int[i][0][flag]\n",
    "    except:\n",
    "        pass\n",
    "print(all_data)\n",
    "cooling_results = cooling_from_results(all_data, primordial, cooling_rates, T_array)"
   ]
  },
  {
   "cell_type": "code",
   "execution_count": null,
   "metadata": {},
   "outputs": [],
   "source": [
    "plt.figure(figsize=(10,10))\n",
    "from matplotlib.pyplot import cm\n",
    "color=cm.tab20(np.linspace(0,1,len(cooling_results.keys()) ))\n",
    "net_cooling = numpy.zeros((len(T_array)))\n",
    "\n",
    "iii = 0\n",
    "for i in cooling_results.keys():\n",
    "    d = cooling_results[i]\n",
    "    \n",
    "    net_cooling = d + net_cooling\n",
    "    if i not in ['gammah']:\n",
    "        if d[0] < 0:\n",
    "            plt.semilogx(t_array, numpy.abs(d), label=i, c=color[iii])\n",
    "        else:\n",
    "            plt.semilogx(t_array, numpy.abs(d), label=i, ls= '--', c=color[iii])\n",
    "            \n",
    "    iii += 1\n",
    "plt.legend()\n",
    "plt.xlabel('density (amu / $cm^{-3}$)')\n",
    "plt.ylabel(r'cooling rate per unit mass (erg / g /s)')\n",
    "plt.show()\n",
    "\n",
    "plt.figure(figsize=(10,10))\n",
    "plt.loglog(density_array[1:], numpy.abs(net_cooling)/density_array[1:]/ u.amu_cgs.v)\n",
    "plt.xlabel('density (amu / $cm^{-3}$)')\n",
    "plt.ylabel(r'cooling rate per unit mass (erg / g /s)')\n",
    "plt.show()"
   ]
  },
  {
   "cell_type": "code",
   "execution_count": null,
   "metadata": {},
   "outputs": [],
   "source": [
    "plt.figure(figsize=(10,10))\n",
    "from matplotlib.pyplot import cm\n",
    "color=cm.tab20(np.linspace(0,1,len(cooling_results.keys()) ))\n",
    "net_cooling = numpy.zeros((len(T_array)))\n",
    "\n",
    "iii = 0\n",
    "for i in cooling_results.keys():\n",
    "    d = cooling_results[i]\n",
    "    \n",
    "    net_cooling = d + net_cooling\n",
    "    if i not in ['gammah']:\n",
    "        if d[0] < 0:\n",
    "            plt.semilogx(density_array[1:], numpy.abs(d)/density_array[1:]/ u.amu_cgs.v, label=i, c=color[iii])\n",
    "        else:\n",
    "            plt.loglog(density_array[1:], numpy.abs(d)/density_array[1:]/ u.amu_cgs.v, label=i, ls= '--', c=color[iii])\n",
    "            \n",
    "    iii += 1\n",
    "plt.legend()\n",
    "plt.xlabel('density (amu / $cm^{-3}$)')\n",
    "plt.ylabel(r'cooling rate per unit mass (erg / g /s)')\n",
    "plt.show()\n",
    "\n",
    "plt.figure(figsize=(10,10))\n",
    "plt.loglog(density_array[1:], numpy.abs(net_cooling)/density_array[1:]/ u.amu_cgs.v)\n",
    "plt.xlabel('density (amu / $cm^{-3}$)')\n",
    "plt.ylabel(r'cooling rate per unit mass (erg / g /s)')\n",
    "plt.show()"
   ]
  },
  {
   "cell_type": "code",
   "execution_count": null,
   "metadata": {},
   "outputs": [],
   "source": [
    "d = cooling_results['h2formation']\n",
    "plt.loglog(density_array[1:], (d), label=i, ls= '--')"
   ]
  },
  {
   "cell_type": "code",
   "execution_count": null,
   "metadata": {},
   "outputs": [],
   "source": [
    "from matplotlib.pyplot import cm\n",
    "color=cm.rainbow(np.linspace(0,1,100))"
   ]
  },
  {
   "cell_type": "code",
   "execution_count": null,
   "metadata": {},
   "outputs": [],
   "source": [
    "color[10]"
   ]
  },
  {
   "cell_type": "code",
   "execution_count": null,
   "metadata": {},
   "outputs": [],
   "source": [
    "net_cooling"
   ]
  },
  {
   "cell_type": "markdown",
   "metadata": {},
   "source": [
    "# TO-DO list\n",
    "\n",
    "1. profile the code (run-time ~ 0.02s) no matter how\n",
    "2. interpolate gammaH2 (it is calculate on the fly everytime)\n",
    "3. include CIE cooling"
   ]
  },
  {
   "cell_type": "code",
   "execution_count": null,
   "metadata": {},
   "outputs": [],
   "source": [
    "init = {}\n",
    "\n",
    "init['apple'] = range(10)\n",
    "init['bb'] = range(20)"
   ]
  },
  {
   "cell_type": "code",
   "execution_count": null,
   "metadata": {},
   "outputs": [],
   "source": [
    "import h5py"
   ]
  },
  {
   "cell_type": "code",
   "execution_count": null,
   "metadata": {},
   "outputs": [],
   "source": [
    "f= h5py.File('hi.h5')\n",
    "for k,v in init.items():\n",
    "    f.create_dataset(k,data=v)\n",
    "f.close()"
   ]
  },
  {
   "cell_type": "code",
   "execution_count": null,
   "metadata": {},
   "outputs": [],
   "source": [
    "f= h5py.File('hi.h5')"
   ]
  },
  {
   "cell_type": "code",
   "execution_count": null,
   "metadata": {},
   "outputs": [],
   "source": [
    "f['apple']"
   ]
  },
  {
   "cell_type": "code",
   "execution_count": null,
   "metadata": {},
   "outputs": [],
   "source": [
    "primordial.temperature_calculation(derivative_dge_dT=True)\n"
   ]
  },
  {
   "cell_type": "code",
   "execution_count": null,
   "metadata": {},
   "outputs": [],
   "source": [
    "sp = species_registry['H2_1']\n",
    "T = primordial.T\n",
    "d_dT = primordial.interpolate_species_gamma(sp, deriv=True)"
   ]
  },
  {
   "cell_type": "code",
   "execution_count": null,
   "metadata": {},
   "outputs": [],
   "source": [
    "plt.semilogx(T,d_dT)"
   ]
  },
  {
   "cell_type": "code",
   "execution_count": null,
   "metadata": {},
   "outputs": [],
   "source": [
    "d_dT = primordial.interpolate_species_gamma(sp, deriv=True)"
   ]
  }
 ],
 "metadata": {
  "kernelspec": {
   "display_name": "Python 2",
   "language": "python",
   "name": "python2"
  },
  "language_info": {
   "codemirror_mode": {
    "name": "ipython",
    "version": 2
   },
   "file_extension": ".py",
   "mimetype": "text/x-python",
   "name": "python",
   "nbconvert_exporter": "python",
   "pygments_lexer": "ipython2",
   "version": "2.7.11"
  }
 },
 "nbformat": 4,
 "nbformat_minor": 2
}
