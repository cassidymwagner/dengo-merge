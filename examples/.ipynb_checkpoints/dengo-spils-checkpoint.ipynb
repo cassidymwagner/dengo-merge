{
 "cells": [
  {
   "cell_type": "code",
   "execution_count": 1,
   "metadata": {},
   "outputs": [
    {
     "name": "stdout",
     "output_type": "stream",
     "text": [
      " using cli\n",
      " using CLI for selections\n"
     ]
    }
   ],
   "source": [
    "import os\n",
    "os.environ['YT_DEST'] = '/home/kwoksun2/anaconda2/pkgs/yt-3.3.5-np111py27_2/'\n",
    "import numpy as np\n",
    "from dengo.chemical_network import \\\n",
    "    ChemicalNetwork, \\\n",
    "    reaction_registry, \\\n",
    "    cooling_registry, species_registry\n",
    "import dengo.primordial_rates, dengo.primordial_cooling\n",
    "from dengo.chemistry_constants import tiny, kboltz, mh\n",
    "import yt\n",
    "import yt.units as u\n",
    "import numpy\n",
    "from IPython.display import Image\n",
    "import matplotlib.pyplot as plt\n",
    "import pickle\n",
    "import pyximport\n",
    "import matplotlib.colors as colors\n",
    "import h5py\n",
    "import timeit\n",
    "\n",
    "pyximport.install(setup_args={\"include_dirs\":np.get_include()},\n",
    "                      reload_support=True, inplace=True)\n",
    "loc_pwd = \"/home/kwoksun2/grackle/src/python/examples/\"\n",
    "def save_obj(obj, name ):\n",
    "    with open(loc_pwd+ name + '.pkl', 'wb') as f:\n",
    "        pickle.dump(obj, f, pickle.HIGHEST_PROTOCOL)\n",
    "\n",
    "def load_obj(name ):\n",
    "    with open(loc_pwd + name + '.pkl', 'rb') as f:\n",
    "        return pickle.load(f)"
   ]
  },
  {
   "cell_type": "code",
   "execution_count": 2,
   "metadata": {
    "collapsed": true
   },
   "outputs": [],
   "source": [
    "def Init_values(temperature, density, n_species = 6):\n",
    "    \"\"\" Create a initial value dictionary,\n",
    "        for a given temperature, density, number of species\n",
    "    Args:\n",
    "        temperature -- in Kelvin\n",
    "        density     -- in amu / cm**3\n",
    "    \n",
    "    Returns:\n",
    "        init_values: initial value dictionary with \n",
    "                     self-consistent energy/ electron density\n",
    "        primordial : chemical_network classes\n",
    "        \n",
    "    \"\"\"\n",
    "    \n",
    "    # initialize and setup the network\n",
    "    dengo.primordial_rates.setup_primordial()\n",
    "    primordial = ChemicalNetwork()\n",
    "        \n",
    "    if n_species == 9:\n",
    "        for i in range(23):\n",
    "            try:\n",
    "                primordial.add_reaction(\"k{0:02d}\".format(i+1))\n",
    "            except:\n",
    "                pass\n",
    "    else:\n",
    "        for i in range(6):\n",
    "            try:\n",
    "                primordial.add_reaction(\"k{0:02d}\".format(i+1))\n",
    "            except:\n",
    "                pass        \n",
    "    \n",
    "    # the temperature array required to interpolates the rates\n",
    "    primordial.init_temperature((1e0, 1e5))\n",
    "\n",
    "    tiny = 1.0e-20\n",
    "\n",
    "    # init_array are is in fractional abundances\n",
    "    init_array = density\n",
    "    init_values = dict()\n",
    "    \n",
    "    if n_species == 6:\n",
    "        # 6-species model\n",
    "        init_values[\"He_1\"]    = density * (1.0 - 0.76) /2.\n",
    "        init_values[\"He_2\"]    = density * (1.0 - 0.76) /2.      \n",
    "        init_values[\"He_3\"]    = density * np.array([tiny])       \n",
    "        init_values[\"H_1\"]     = density *  (0.76)  /2.\n",
    "        init_values['H_2']     = density *  (0.76)  /2.\n",
    "    else:    \n",
    "        # 9-species model\n",
    "        init_values[\"He_1\"]    = density * (1.0 - 0.76) /2.0\n",
    "        init_values[\"He_2\"]    = density * (1.0 - 0.76) /2.0  \n",
    "        init_values[\"He_3\"]    = np.array([tiny])           \n",
    "        init_values[\"H_1\"]     = density *  (0.76)  /2.\n",
    "        init_values['H_2']     = np.array([tiny])\n",
    "\n",
    "        init_values[\"H_m0\"]    = np.array([tiny]) \n",
    "        init_values[\"H2_1\"]    = density *  (0.76)  /2. \n",
    "        init_values[\"H2_2\"]    = np.array([tiny])\n",
    "    \n",
    "    # now everything in mass density\n",
    "    init_values['de'] = primordial.calculate_free_electrons(init_values)\n",
    "    # one signle value: again mass density\n",
    "    init_values['density'] = primordial.calculate_total_density(init_values)\n",
    "    number_density = primordial.calculate_number_density(init_values)\n",
    "        \n",
    "    num_den = {}\n",
    "    total_num_den = 0.0\n",
    "    total_den = 0.0\n",
    "    for sp in primordial.required_species:\n",
    "        try:\n",
    "            num_den[sp.name] = init_values[sp.name]/ sp.weight\n",
    "        except:\n",
    "            pass\n",
    "\n",
    "    # set up initial temperatures values used to define ge\n",
    "    init_values['T'] = temperature\n",
    "    \n",
    "    # calculate gammaH2\n",
    "    x = 6100.0/temperature\n",
    "    gammaH2 = 2.0 / (5.0 + 2.0*x*x / (numpy.exp(x) - 1 )**2.0 ) + 1\n",
    "    \n",
    "    gamma_factor = primordial.gamma_factor().subs(num_den).subs({'gammaH2': gammaH2 , 'gamma': 5./3.,'T': temperature })\n",
    "    \n",
    "    ge  = ((temperature *  kboltz) *gamma_factor\n",
    "                         / (init_values['density'] * mh  ))\n",
    "    \n",
    "    T = init_values['density']*ge*mh / kboltz / gamma_factor\n",
    "    init_values['ge'] = numpy.array( [numpy.float64(ge)] )\n",
    "    \n",
    "    return init_values, primordial"
   ]
  },
  {
   "cell_type": "code",
   "execution_count": 3,
   "metadata": {},
   "outputs": [
    {
     "name": "stdout",
     "output_type": "stream",
     "text": [
      "Adding reaction: k01 : 1*H_1 + 1*de => 1*H_2 + 2*de\n",
      "Adding reaction: k02 : 1*H_2 + 1*de => 1*H_1\n",
      "Adding reaction: k03 : 1*He_1 + 1*de => 1*He_2 + 2*de\n",
      "Adding reaction: k04 : 1*He_2 + 1*de => 1*He_1\n",
      "Adding reaction: k05 : 1*He_2 + 1*de => 1*He_3 + 2*de\n",
      "Adding reaction: k06 : 1*He_3 + 1*de => 1*He_2\n"
     ]
    }
   ],
   "source": [
    "init, primordial = Init_values(np.array([1000.0]), np.array([1e5]), n_species = 6)"
   ]
  },
  {
   "cell_type": "code",
   "execution_count": 4,
   "metadata": {},
   "outputs": [
    {
     "name": "stdout",
     "output_type": "stream",
     "text": [
      "brem\n",
      "-brem_brem[i]*de*(H_2 + He_2 + 4.0*He_3)\n",
      "---------------------------\n",
      "reHII\n",
      "-H_2*de*reHII_reHII[i]\n",
      "---------------------------\n",
      "reHeIII\n",
      "-He_3*de*reHeIII_reHeIII[i]\n",
      "---------------------------\n",
      "ceHI\n",
      "-H_1*ceHI_ceHI[i]*de\n",
      "---------------------------\n",
      "compton\n",
      "-compton_comp_[i]*de*(z + 1.0)**4*(T - 2.73*z - 2.73)\n",
      "---------------------------\n",
      "reHeII2\n",
      "-He_2*de*reHeII2_reHeII2[i]\n",
      "---------------------------\n",
      "reHeII1\n",
      "-He_2*de*reHeII1_reHeII1[i]\n",
      "---------------------------\n",
      "ciHeIS\n",
      "-He_2*ciHeIS_ciHeIS[i]*de**2\n",
      "---------------------------\n",
      "ceHeII\n",
      "-He_2*ceHeII_ceHeII[i]*de\n",
      "---------------------------\n",
      "ciHI\n",
      "-H_1*ciHI_ciHI[i]*de\n",
      "---------------------------\n",
      "ceHeI\n",
      "-He_2*ceHeI_ceHeI[i]*de**2\n",
      "---------------------------\n",
      "gammah\n",
      "0\n",
      "---------------------------\n",
      "ciHeI\n",
      "-He_1*ciHeI_ciHeI[i]*de\n",
      "---------------------------\n",
      "ciHeII\n",
      "-He_2*ciHeII_ciHeII[i]*de\n",
      "---------------------------\n"
     ]
    }
   ],
   "source": [
    "for cooling_action in cooling_registry:\n",
    "    k = cooling_registry[cooling_action]\n",
    "    if (k.species).issubset( primordial.required_species ):\n",
    "        if k.name != \"cie_cooling\":\n",
    "            print(k.name)\n",
    "            print(k.equation)\n",
    "            primordial.add_cooling(cooling_action)\n",
    "            print('---------------------------')"
   ]
  },
  {
   "cell_type": "code",
   "execution_count": 5,
   "metadata": {
    "scrolled": true
   },
   "outputs": [],
   "source": [
    "def network_write_solver( network, init, solver_name = \"BE_chem_solve\", name = \"sunny\" ):\n",
    "    \"\"\"Generate the solver templates and import the modules\n",
    "       for a given solver, and chemical network\n",
    "    Args:\n",
    "        network:     chemical_network class, \n",
    "                     contains infos of cooling actions, \n",
    "                     reactions to be included in the solver\n",
    "        init:        initial conditions\n",
    "        solver_name: the range of solver callable\n",
    "        \n",
    "        Names of Exisiting Solver Templates:\n",
    "        -- sundials_CVSpils\n",
    "        -- sundials_onestep_run\n",
    "        -- BE_chem_solve (default)\n",
    "        \n",
    "    Returns:\n",
    "        solver_run: the module generated from the templates, \n",
    "                    and it's ready to run\n",
    "    \"\"\"\n",
    "    \n",
    "    if solver_name == \"sundials_CVSPils\":\n",
    "        network.write_solver(\"sundials_CVSpils\", output_dir = \".\",\n",
    "                                   solver_template = \"sundials_CVSpils\",\n",
    "                                   ode_solver_source = \"cvodes_solver_CVSpils.C\",\n",
    "                                    init_values=init,\n",
    "                                    input_is_number=False)\n",
    "\n",
    "\n",
    "        sundials_cvspils_run = pyximport.load_module(\"sundials_CVSpils_run\",\n",
    "                                    \"sundials_CVSpils_solver_run.pyx\",\n",
    "                                    build_inplace = True, pyxbuild_dir = \"_dengo_temp\")\n",
    "        return sundials_cvspils_run\n",
    "    elif solver_name == \"sundials_onestep_run\":\n",
    "        network.write_solver(\"sundials_onestep\", output_dir = \".\",\n",
    "                           solver_template = \"sundials_onestep\",\n",
    "                           ode_solver_source = \"cvodes_solver_onestep.C\",\n",
    "                            init_values=init,\n",
    "                            input_is_number=False)\n",
    "        sundials_onestep_run = pyximport.load_module(\"sundials_onestep_run\",\n",
    "                            \"sundials_onestep_solver_run.pyx\",\n",
    "                            build_inplace = True, pyxbuild_dir = \"_dengo_temp\")\n",
    "        return sundials_onestep_run\n",
    "    else:\n",
    "        network.write_solver(name, output_dir = \".\",\n",
    "                                    init_values=init,\n",
    "                                    input_is_number=False)\n",
    "\n",
    "        sunny_solver_run = pyximport.load_module(\"{}_solver_run\".format(name),\n",
    "                                        \"{}_solver_run.pyx\".format(name),\n",
    "                                        build_inplace = True, pyxbuild_dir = \"_dengo_temp\")\n",
    "        return sunny_solver_run"
   ]
  },
  {
   "cell_type": "code",
   "execution_count": 12,
   "metadata": {},
   "outputs": [],
   "source": [
    "my_solver_name = \"hahaha_cvspils\"\n",
    "\n",
    "os.system('mkdir {}'.format(my_solver_name))\n",
    "\n",
    "\n",
    "primordial.write_solver(my_solver_name, output_dir = \"./{0}\".format(my_solver_name),\n",
    "                           solver_template = \"cvspils/sundials_CVSpils\",\n",
    "                           ode_solver_source = \"cvodes_solver_CVSpils.C\",\n",
    "                            init_values=init,\n",
    "                            input_is_number=False)"
   ]
  },
  {
   "cell_type": "code",
   "execution_count": 9,
   "metadata": {},
   "outputs": [],
   "source": [
    "os.chdir('{}'.format(my_solver_name))"
   ]
  },
  {
   "cell_type": "code",
   "execution_count": 13,
   "metadata": {},
   "outputs": [
    {
     "data": {
      "text/plain": [
       "(None, None)"
      ]
     },
     "execution_count": 13,
     "metadata": {},
     "output_type": "execute_result"
    }
   ],
   "source": [
    "os.getcwd()\n",
    "\n",
    "pyximport.install(setup_args={\"include_dirs\":np.get_include()},\n",
    "                      reload_support=True, inplace=True)"
   ]
  },
  {
   "cell_type": "code",
   "execution_count": 14,
   "metadata": {},
   "outputs": [
    {
     "name": "stdout",
     "output_type": "stream",
     "text": [
      "hahaha_cvspils/hahaha_cvspils_solver_run.pyx\n"
     ]
    },
    {
     "ename": "ImportError",
     "evalue": "Building module hahaha_cvspils_run failed: [\"CompileError: command 'gcc' failed with exit status 1\\n\"]",
     "output_type": "error",
     "traceback": [
      "\u001b[0;31m---------------------------------------------------------------------------\u001b[0m",
      "\u001b[0;31mImportError\u001b[0m                               Traceback (most recent call last)",
      "\u001b[0;32m<ipython-input-14-34841eaea9d1>\u001b[0m in \u001b[0;36m<module>\u001b[0;34m()\u001b[0m\n\u001b[1;32m      3\u001b[0m sundials_cvspils_run = pyximport.load_module(\"{0}_run\".format(my_solver_name),\n\u001b[1;32m      4\u001b[0m                             \u001b[0;34m\"{0}_solver_run.pyx\"\u001b[0m\u001b[0;34m.\u001b[0m\u001b[0mformat\u001b[0m\u001b[0;34m(\u001b[0m\u001b[0mmy_solver_name\u001b[0m\u001b[0;34m)\u001b[0m\u001b[0;34m,\u001b[0m\u001b[0;34m\u001b[0m\u001b[0m\n\u001b[0;32m----> 5\u001b[0;31m                             pyxbuild_dir = \"_dengo_temp\")\n\u001b[0m",
      "\u001b[0;32m/home/kwoksun2/anaconda2/lib/python2.7/site-packages/pyximport/pyximport.pyc\u001b[0m in \u001b[0;36mload_module\u001b[0;34m(name, pyxfilename, pyxbuild_dir, is_package, build_inplace, language_level, so_path)\u001b[0m\n\u001b[1;32m    232\u001b[0m                 \u001b[0;32mraise\u001b[0m \u001b[0mexc\u001b[0m\u001b[0;34m.\u001b[0m\u001b[0mwith_traceback\u001b[0m\u001b[0;34m(\u001b[0m\u001b[0mtb\u001b[0m\u001b[0;34m)\u001b[0m\u001b[0;34m\u001b[0m\u001b[0m\n\u001b[1;32m    233\u001b[0m             \u001b[0;32melse\u001b[0m\u001b[0;34m:\u001b[0m\u001b[0;34m\u001b[0m\u001b[0m\n\u001b[0;32m--> 234\u001b[0;31m                 \u001b[0;32mexec\u001b[0m\u001b[0;34m(\u001b[0m\u001b[0;34m\"raise exc, None, tb\"\u001b[0m\u001b[0;34m,\u001b[0m \u001b[0;34m{\u001b[0m\u001b[0;34m'exc'\u001b[0m\u001b[0;34m:\u001b[0m \u001b[0mexc\u001b[0m\u001b[0;34m,\u001b[0m \u001b[0;34m'tb'\u001b[0m\u001b[0;34m:\u001b[0m \u001b[0mtb\u001b[0m\u001b[0;34m}\u001b[0m\u001b[0;34m)\u001b[0m\u001b[0;34m\u001b[0m\u001b[0m\n\u001b[0m\u001b[1;32m    235\u001b[0m     \u001b[0;32mreturn\u001b[0m \u001b[0mmod\u001b[0m\u001b[0;34m\u001b[0m\u001b[0m\n\u001b[1;32m    236\u001b[0m \u001b[0;34m\u001b[0m\u001b[0m\n",
      "\u001b[0;32m/home/kwoksun2/anaconda2/lib/python2.7/site-packages/pyximport/pyximport.pyc\u001b[0m in \u001b[0;36mload_module\u001b[0;34m(name, pyxfilename, pyxbuild_dir, is_package, build_inplace, language_level, so_path)\u001b[0m\n\u001b[1;32m    214\u001b[0m                 \u001b[0mmodule_name\u001b[0m \u001b[0;34m=\u001b[0m \u001b[0mname\u001b[0m\u001b[0;34m\u001b[0m\u001b[0m\n\u001b[1;32m    215\u001b[0m             so_path = build_module(module_name, pyxfilename, pyxbuild_dir,\n\u001b[0;32m--> 216\u001b[0;31m                                    inplace=build_inplace, language_level=language_level)\n\u001b[0m\u001b[1;32m    217\u001b[0m         \u001b[0mmod\u001b[0m \u001b[0;34m=\u001b[0m \u001b[0mimp\u001b[0m\u001b[0;34m.\u001b[0m\u001b[0mload_dynamic\u001b[0m\u001b[0;34m(\u001b[0m\u001b[0mname\u001b[0m\u001b[0;34m,\u001b[0m \u001b[0mso_path\u001b[0m\u001b[0;34m)\u001b[0m\u001b[0;34m\u001b[0m\u001b[0m\n\u001b[1;32m    218\u001b[0m         \u001b[0;32mif\u001b[0m \u001b[0mis_package\u001b[0m \u001b[0;32mand\u001b[0m \u001b[0;32mnot\u001b[0m \u001b[0mhasattr\u001b[0m\u001b[0;34m(\u001b[0m\u001b[0mmod\u001b[0m\u001b[0;34m,\u001b[0m \u001b[0;34m'__path__'\u001b[0m\u001b[0;34m)\u001b[0m\u001b[0;34m:\u001b[0m\u001b[0;34m\u001b[0m\u001b[0m\n",
      "\u001b[0;32m/home/kwoksun2/anaconda2/lib/python2.7/site-packages/pyximport/pyximport.pyc\u001b[0m in \u001b[0;36mbuild_module\u001b[0;34m(name, pyxfilename, pyxbuild_dir, inplace, language_level)\u001b[0m\n\u001b[1;32m    190\u001b[0m                                   \u001b[0msetup_args\u001b[0m\u001b[0;34m=\u001b[0m\u001b[0msargs\u001b[0m\u001b[0;34m,\u001b[0m\u001b[0;34m\u001b[0m\u001b[0m\n\u001b[1;32m    191\u001b[0m                                   \u001b[0minplace\u001b[0m\u001b[0;34m=\u001b[0m\u001b[0minplace\u001b[0m\u001b[0;34m,\u001b[0m\u001b[0;34m\u001b[0m\u001b[0m\n\u001b[0;32m--> 192\u001b[0;31m                                   reload_support=pyxargs.reload_support)\n\u001b[0m\u001b[1;32m    193\u001b[0m     \u001b[0;32massert\u001b[0m \u001b[0mos\u001b[0m\u001b[0;34m.\u001b[0m\u001b[0mpath\u001b[0m\u001b[0;34m.\u001b[0m\u001b[0mexists\u001b[0m\u001b[0;34m(\u001b[0m\u001b[0mso_path\u001b[0m\u001b[0;34m)\u001b[0m\u001b[0;34m,\u001b[0m \u001b[0;34m\"Cannot find: %s\"\u001b[0m \u001b[0;34m%\u001b[0m \u001b[0mso_path\u001b[0m\u001b[0;34m\u001b[0m\u001b[0m\n\u001b[1;32m    194\u001b[0m \u001b[0;34m\u001b[0m\u001b[0m\n",
      "\u001b[0;32m/home/kwoksun2/anaconda2/lib/python2.7/site-packages/pyximport/pyxbuild.pyc\u001b[0m in \u001b[0;36mpyx_to_dll\u001b[0;34m(filename, ext, force_rebuild, build_in_temp, pyxbuild_dir, setup_args, reload_support, inplace)\u001b[0m\n\u001b[1;32m    100\u001b[0m     \u001b[0;32mtry\u001b[0m\u001b[0;34m:\u001b[0m\u001b[0;34m\u001b[0m\u001b[0m\n\u001b[1;32m    101\u001b[0m         \u001b[0mobj_build_ext\u001b[0m \u001b[0;34m=\u001b[0m \u001b[0mdist\u001b[0m\u001b[0;34m.\u001b[0m\u001b[0mget_command_obj\u001b[0m\u001b[0;34m(\u001b[0m\u001b[0;34m\"build_ext\"\u001b[0m\u001b[0;34m)\u001b[0m\u001b[0;34m\u001b[0m\u001b[0m\n\u001b[0;32m--> 102\u001b[0;31m         \u001b[0mdist\u001b[0m\u001b[0;34m.\u001b[0m\u001b[0mrun_commands\u001b[0m\u001b[0;34m(\u001b[0m\u001b[0;34m)\u001b[0m\u001b[0;34m\u001b[0m\u001b[0m\n\u001b[0m\u001b[1;32m    103\u001b[0m         \u001b[0mso_path\u001b[0m \u001b[0;34m=\u001b[0m \u001b[0mobj_build_ext\u001b[0m\u001b[0;34m.\u001b[0m\u001b[0mget_outputs\u001b[0m\u001b[0;34m(\u001b[0m\u001b[0;34m)\u001b[0m\u001b[0;34m[\u001b[0m\u001b[0;36m0\u001b[0m\u001b[0;34m]\u001b[0m\u001b[0;34m\u001b[0m\u001b[0m\n\u001b[1;32m    104\u001b[0m         \u001b[0;32mif\u001b[0m \u001b[0mobj_build_ext\u001b[0m\u001b[0;34m.\u001b[0m\u001b[0minplace\u001b[0m\u001b[0;34m:\u001b[0m\u001b[0;34m\u001b[0m\u001b[0m\n",
      "\u001b[0;32m/home/kwoksun2/anaconda2/lib/python2.7/distutils/dist.pyc\u001b[0m in \u001b[0;36mrun_commands\u001b[0;34m(self)\u001b[0m\n\u001b[1;32m    951\u001b[0m         \"\"\"\n\u001b[1;32m    952\u001b[0m         \u001b[0;32mfor\u001b[0m \u001b[0mcmd\u001b[0m \u001b[0;32min\u001b[0m \u001b[0mself\u001b[0m\u001b[0;34m.\u001b[0m\u001b[0mcommands\u001b[0m\u001b[0;34m:\u001b[0m\u001b[0;34m\u001b[0m\u001b[0m\n\u001b[0;32m--> 953\u001b[0;31m             \u001b[0mself\u001b[0m\u001b[0;34m.\u001b[0m\u001b[0mrun_command\u001b[0m\u001b[0;34m(\u001b[0m\u001b[0mcmd\u001b[0m\u001b[0;34m)\u001b[0m\u001b[0;34m\u001b[0m\u001b[0m\n\u001b[0m\u001b[1;32m    954\u001b[0m \u001b[0;34m\u001b[0m\u001b[0m\n\u001b[1;32m    955\u001b[0m     \u001b[0;31m# -- Methods that operate on its Commands --------------------------\u001b[0m\u001b[0;34m\u001b[0m\u001b[0;34m\u001b[0m\u001b[0m\n",
      "\u001b[0;32m/home/kwoksun2/anaconda2/lib/python2.7/distutils/dist.pyc\u001b[0m in \u001b[0;36mrun_command\u001b[0;34m(self, command)\u001b[0m\n\u001b[1;32m    970\u001b[0m         \u001b[0mcmd_obj\u001b[0m \u001b[0;34m=\u001b[0m \u001b[0mself\u001b[0m\u001b[0;34m.\u001b[0m\u001b[0mget_command_obj\u001b[0m\u001b[0;34m(\u001b[0m\u001b[0mcommand\u001b[0m\u001b[0;34m)\u001b[0m\u001b[0;34m\u001b[0m\u001b[0m\n\u001b[1;32m    971\u001b[0m         \u001b[0mcmd_obj\u001b[0m\u001b[0;34m.\u001b[0m\u001b[0mensure_finalized\u001b[0m\u001b[0;34m(\u001b[0m\u001b[0;34m)\u001b[0m\u001b[0;34m\u001b[0m\u001b[0m\n\u001b[0;32m--> 972\u001b[0;31m         \u001b[0mcmd_obj\u001b[0m\u001b[0;34m.\u001b[0m\u001b[0mrun\u001b[0m\u001b[0;34m(\u001b[0m\u001b[0;34m)\u001b[0m\u001b[0;34m\u001b[0m\u001b[0m\n\u001b[0m\u001b[1;32m    973\u001b[0m         \u001b[0mself\u001b[0m\u001b[0;34m.\u001b[0m\u001b[0mhave_run\u001b[0m\u001b[0;34m[\u001b[0m\u001b[0mcommand\u001b[0m\u001b[0;34m]\u001b[0m \u001b[0;34m=\u001b[0m \u001b[0;36m1\u001b[0m\u001b[0;34m\u001b[0m\u001b[0m\n\u001b[1;32m    974\u001b[0m \u001b[0;34m\u001b[0m\u001b[0m\n",
      "\u001b[0;32m/home/kwoksun2/anaconda2/lib/python2.7/site-packages/Cython/Distutils/old_build_ext.pyc\u001b[0m in \u001b[0;36mrun\u001b[0;34m(self)\u001b[0m\n\u001b[1;32m    183\u001b[0m             \u001b[0moptimization\u001b[0m\u001b[0;34m.\u001b[0m\u001b[0mdisable_optimization\u001b[0m\u001b[0;34m(\u001b[0m\u001b[0;34m)\u001b[0m\u001b[0;34m\u001b[0m\u001b[0m\n\u001b[1;32m    184\u001b[0m \u001b[0;34m\u001b[0m\u001b[0m\n\u001b[0;32m--> 185\u001b[0;31m         \u001b[0m_build_ext\u001b[0m\u001b[0;34m.\u001b[0m\u001b[0mbuild_ext\u001b[0m\u001b[0;34m.\u001b[0m\u001b[0mrun\u001b[0m\u001b[0;34m(\u001b[0m\u001b[0mself\u001b[0m\u001b[0;34m)\u001b[0m\u001b[0;34m\u001b[0m\u001b[0m\n\u001b[0m\u001b[1;32m    186\u001b[0m \u001b[0;34m\u001b[0m\u001b[0m\n\u001b[1;32m    187\u001b[0m     \u001b[0;32mdef\u001b[0m \u001b[0mbuild_extensions\u001b[0m\u001b[0;34m(\u001b[0m\u001b[0mself\u001b[0m\u001b[0;34m)\u001b[0m\u001b[0;34m:\u001b[0m\u001b[0;34m\u001b[0m\u001b[0m\n",
      "\u001b[0;32m/home/kwoksun2/anaconda2/lib/python2.7/distutils/command/build_ext.pyc\u001b[0m in \u001b[0;36mrun\u001b[0;34m(self)\u001b[0m\n\u001b[1;32m    338\u001b[0m \u001b[0;34m\u001b[0m\u001b[0m\n\u001b[1;32m    339\u001b[0m         \u001b[0;31m# Now actually compile and link everything.\u001b[0m\u001b[0;34m\u001b[0m\u001b[0;34m\u001b[0m\u001b[0m\n\u001b[0;32m--> 340\u001b[0;31m         \u001b[0mself\u001b[0m\u001b[0;34m.\u001b[0m\u001b[0mbuild_extensions\u001b[0m\u001b[0;34m(\u001b[0m\u001b[0;34m)\u001b[0m\u001b[0;34m\u001b[0m\u001b[0m\n\u001b[0m\u001b[1;32m    341\u001b[0m \u001b[0;34m\u001b[0m\u001b[0m\n\u001b[1;32m    342\u001b[0m     \u001b[0;32mdef\u001b[0m \u001b[0mcheck_extensions_list\u001b[0m\u001b[0;34m(\u001b[0m\u001b[0mself\u001b[0m\u001b[0;34m,\u001b[0m \u001b[0mextensions\u001b[0m\u001b[0;34m)\u001b[0m\u001b[0;34m:\u001b[0m\u001b[0;34m\u001b[0m\u001b[0m\n",
      "\u001b[0;32m/home/kwoksun2/anaconda2/lib/python2.7/site-packages/Cython/Distutils/old_build_ext.pyc\u001b[0m in \u001b[0;36mbuild_extensions\u001b[0;34m(self)\u001b[0m\n\u001b[1;32m    191\u001b[0m         \u001b[0;32mfor\u001b[0m \u001b[0mext\u001b[0m \u001b[0;32min\u001b[0m \u001b[0mself\u001b[0m\u001b[0;34m.\u001b[0m\u001b[0mextensions\u001b[0m\u001b[0;34m:\u001b[0m\u001b[0;34m\u001b[0m\u001b[0m\n\u001b[1;32m    192\u001b[0m             \u001b[0mext\u001b[0m\u001b[0;34m.\u001b[0m\u001b[0msources\u001b[0m \u001b[0;34m=\u001b[0m \u001b[0mself\u001b[0m\u001b[0;34m.\u001b[0m\u001b[0mcython_sources\u001b[0m\u001b[0;34m(\u001b[0m\u001b[0mext\u001b[0m\u001b[0;34m.\u001b[0m\u001b[0msources\u001b[0m\u001b[0;34m,\u001b[0m \u001b[0mext\u001b[0m\u001b[0;34m)\u001b[0m\u001b[0;34m\u001b[0m\u001b[0m\n\u001b[0;32m--> 193\u001b[0;31m             \u001b[0mself\u001b[0m\u001b[0;34m.\u001b[0m\u001b[0mbuild_extension\u001b[0m\u001b[0;34m(\u001b[0m\u001b[0mext\u001b[0m\u001b[0;34m)\u001b[0m\u001b[0;34m\u001b[0m\u001b[0m\n\u001b[0m\u001b[1;32m    194\u001b[0m \u001b[0;34m\u001b[0m\u001b[0m\n\u001b[1;32m    195\u001b[0m     \u001b[0;32mdef\u001b[0m \u001b[0mcython_sources\u001b[0m\u001b[0;34m(\u001b[0m\u001b[0mself\u001b[0m\u001b[0;34m,\u001b[0m \u001b[0msources\u001b[0m\u001b[0;34m,\u001b[0m \u001b[0mextension\u001b[0m\u001b[0;34m)\u001b[0m\u001b[0;34m:\u001b[0m\u001b[0;34m\u001b[0m\u001b[0m\n",
      "\u001b[0;32m/home/kwoksun2/anaconda2/lib/python2.7/distutils/command/build_ext.pyc\u001b[0m in \u001b[0;36mbuild_extension\u001b[0;34m(self, ext)\u001b[0m\n\u001b[1;32m    497\u001b[0m                                          \u001b[0mdebug\u001b[0m\u001b[0;34m=\u001b[0m\u001b[0mself\u001b[0m\u001b[0;34m.\u001b[0m\u001b[0mdebug\u001b[0m\u001b[0;34m,\u001b[0m\u001b[0;34m\u001b[0m\u001b[0m\n\u001b[1;32m    498\u001b[0m                                          \u001b[0mextra_postargs\u001b[0m\u001b[0;34m=\u001b[0m\u001b[0mextra_args\u001b[0m\u001b[0;34m,\u001b[0m\u001b[0;34m\u001b[0m\u001b[0m\n\u001b[0;32m--> 499\u001b[0;31m                                          depends=ext.depends)\n\u001b[0m\u001b[1;32m    500\u001b[0m \u001b[0;34m\u001b[0m\u001b[0m\n\u001b[1;32m    501\u001b[0m         \u001b[0;31m# XXX -- this is a Vile HACK!\u001b[0m\u001b[0;34m\u001b[0m\u001b[0;34m\u001b[0m\u001b[0m\n",
      "\u001b[0;32m/home/kwoksun2/anaconda2/lib/python2.7/distutils/ccompiler.pyc\u001b[0m in \u001b[0;36mcompile\u001b[0;34m(self, sources, output_dir, macros, include_dirs, debug, extra_preargs, extra_postargs, depends)\u001b[0m\n\u001b[1;32m    572\u001b[0m             \u001b[0;32mexcept\u001b[0m \u001b[0mKeyError\u001b[0m\u001b[0;34m:\u001b[0m\u001b[0;34m\u001b[0m\u001b[0m\n\u001b[1;32m    573\u001b[0m                 \u001b[0;32mcontinue\u001b[0m\u001b[0;34m\u001b[0m\u001b[0m\n\u001b[0;32m--> 574\u001b[0;31m             \u001b[0mself\u001b[0m\u001b[0;34m.\u001b[0m\u001b[0m_compile\u001b[0m\u001b[0;34m(\u001b[0m\u001b[0mobj\u001b[0m\u001b[0;34m,\u001b[0m \u001b[0msrc\u001b[0m\u001b[0;34m,\u001b[0m \u001b[0mext\u001b[0m\u001b[0;34m,\u001b[0m \u001b[0mcc_args\u001b[0m\u001b[0;34m,\u001b[0m \u001b[0mextra_postargs\u001b[0m\u001b[0;34m,\u001b[0m \u001b[0mpp_opts\u001b[0m\u001b[0;34m)\u001b[0m\u001b[0;34m\u001b[0m\u001b[0m\n\u001b[0m\u001b[1;32m    575\u001b[0m \u001b[0;34m\u001b[0m\u001b[0m\n\u001b[1;32m    576\u001b[0m         \u001b[0;31m# Return *all* object filenames, not just the ones we just built.\u001b[0m\u001b[0;34m\u001b[0m\u001b[0;34m\u001b[0m\u001b[0m\n",
      "\u001b[0;32m/home/kwoksun2/anaconda2/lib/python2.7/distutils/unixccompiler.pyc\u001b[0m in \u001b[0;36m_compile\u001b[0;34m(self, obj, src, ext, cc_args, extra_postargs, pp_opts)\u001b[0m\n\u001b[1;32m    122\u001b[0m                        extra_postargs)\n\u001b[1;32m    123\u001b[0m         \u001b[0;32mexcept\u001b[0m \u001b[0mDistutilsExecError\u001b[0m\u001b[0;34m,\u001b[0m \u001b[0mmsg\u001b[0m\u001b[0;34m:\u001b[0m\u001b[0;34m\u001b[0m\u001b[0m\n\u001b[0;32m--> 124\u001b[0;31m             \u001b[0;32mraise\u001b[0m \u001b[0mCompileError\u001b[0m\u001b[0;34m,\u001b[0m \u001b[0mmsg\u001b[0m\u001b[0;34m\u001b[0m\u001b[0m\n\u001b[0m\u001b[1;32m    125\u001b[0m \u001b[0;34m\u001b[0m\u001b[0m\n\u001b[1;32m    126\u001b[0m     def create_static_lib(self, objects, output_libname,\n",
      "\u001b[0;31mImportError\u001b[0m: Building module hahaha_cvspils_run failed: [\"CompileError: command 'gcc' failed with exit status 1\\n\"]"
     ]
    }
   ],
   "source": [
    "file_path = os.path.join(my_solver_name, \"{}_solver_run.pyx\".format(my_solver_name))\n",
    "print(file_path)\n",
    "sundials_cvspils_run = pyximport.load_module(\"{0}_run\".format(my_solver_name),\n",
    "                            \"{0}_solver_run.pyx\".format(my_solver_name),\n",
    "                            pyxbuild_dir = \"_dengo_temp\")"
   ]
  },
  {
   "cell_type": "code",
   "execution_count": null,
   "metadata": {},
   "outputs": [],
   "source": [
    "%%time\n",
    "sundials_cvspils_run.run_hahaha_cvspils(init, 1e10, niter=10)"
   ]
  },
  {
   "cell_type": "code",
   "execution_count": null,
   "metadata": {},
   "outputs": [],
   "source": [
    "primordial.write_solver(\"sundials_onestep\", output_dir = \".\",\n",
    "                           solver_template = \"cvdls/sundials_onestep\",\n",
    "                           ode_solver_source = \"cvodes_solver_onestep.C\",\n",
    "                            init_values=init,\n",
    "                            input_is_number=False)\n",
    "sundials_onestep_run = pyximport.load_module(\"sundials_onestep_run\",\n",
    "                            \"sundials_onestep_solver_run.pyx\",\n",
    "                             pyxbuild_dir = \"_dengo_temp\")"
   ]
  },
  {
   "cell_type": "code",
   "execution_count": null,
   "metadata": {},
   "outputs": [],
   "source": [
    "%%time\n",
    "sundials_onestep_run.run_sundials_onestep(init, 1e10, niter=10)"
   ]
  },
  {
   "cell_type": "code",
   "execution_count": null,
   "metadata": {
    "collapsed": true,
    "scrolled": true
   },
   "outputs": [],
   "source": [
    "%%time\n",
    "primordial.write_solver(\"sundials_onestep\", output_dir = \".\",\n",
    "                           solver_template = \"sundials_onestep\",\n",
    "                           ode_solver_source = \"cvodes_solver_onestep.C\",\n",
    "                            init_values=init,\n",
    "                            input_is_number=False)\n",
    "sundials_onestep_run = pyximport.load_module(\"sundials_onestep_run\",\n",
    "                            \"sundials_onestep_solver_run.pyx\",\n",
    "                            build_inplace = True, pyxbuild_dir = \"_dengo_temp\")\n",
    "rv, rv_int_onestep = sundials_onestep_run.run_sundials_onestep(init, 3e5, niter=1e4)"
   ]
  },
  {
   "cell_type": "code",
   "execution_count": null,
   "metadata": {
    "collapsed": true
   },
   "outputs": [],
   "source": [
    "import pstats, cProfile\n",
    "\n",
    "import pyximport\n",
    "pyximport.install()\n",
    "\n",
    "import calc_pi\n",
    "\n",
    "cProfile.runctx(\"sundials_onestep_run.run_sundials_onestep(init,1e10, niter=1e4)\", globals(), locals(), \"Profile.prof\")\n",
    "\n",
    "s = pstats.Stats(\"Profile.prof\")\n",
    "s.strip_dirs().sort_stats(\"time\").print_stats()"
   ]
  },
  {
   "cell_type": "code",
   "execution_count": null,
   "metadata": {
    "collapsed": true
   },
   "outputs": [],
   "source": [
    "def find_nearest(array,value):\n",
    "    idx = (np.abs(array-value)).argmin()\n",
    "    return idx\n",
    "\n",
    "def make_plots( network, init, rv_int, solver_name = 'sundials', t_min = 1e0, t_max = 1e11, plot_fH = False ):\n",
    "    \n",
    "    rv_arr = rv_int\n",
    "    \n",
    "    mask = rv_arr['successful']\n",
    "    t    = rv_arr['t'][mask]\n",
    "    dt   = rv_arr['dt'][mask]\n",
    "\n",
    "    plt.clf()\n",
    "    skip_list = ['dt' ,'successful', 't','Ju', 'Jac']\n",
    "    hydrogen_list = ['H_1','H_2','H2_1','H2_2','H_m0']\n",
    "    \n",
    "    \n",
    "    # Calculate total electron density \n",
    "    # with the abundances from other species\n",
    "    total_e = numpy.zeros((len(t)))\n",
    "    for j in network.required_species:\n",
    "        if j.name in rv_arr.keys() and j.name not in skip_list and j.name != 'dt':\n",
    "            \n",
    "            try:\n",
    "                total_e += rv_arr[j.name][0][mask]  * j.free_electrons \n",
    "            except:\n",
    "                pass\n",
    "    \n",
    "    de = rv_arr['de'][0][mask]\n",
    "    # calculate total mass density of hydrogen\n",
    "    # conservation of mass\n",
    "    total_Hatoms = numpy.zeros((len(t)))\n",
    "    for j in network.required_species:\n",
    "        if j.name in hydrogen_list:\n",
    "            total_Hatoms += rv_arr[j.name][0][mask] *j.weight\n",
    "            \n",
    "\n",
    "    f, axarr = plt.subplots(3, sharex=True, figsize=(10,15))\n",
    "    \n",
    "    ii = 0\n",
    "    for i in sorted(rv_arr.keys()):\n",
    "        if i not in skip_list:\n",
    "            \n",
    "            hi = rv_arr[i][0][mask]\n",
    "            if t_min == 1e0:\n",
    "                axarr[0].semilogx(t,numpy.array(hi)/init[i][0]+ii, label=i) \n",
    "                ii+=1\n",
    "            else:\n",
    "                idx = find_nearest(t , t_min)\n",
    "                axarr[0].semilogx(t[idx:] ,numpy.array(hi[idx:])/hi[idx] , label=i) \n",
    "                ii+=1\n",
    "\n",
    "\n",
    "\n",
    "    #h1 = rv_arr['H_1'][0][mask]\n",
    "\n",
    "    \n",
    "    T0 = rv_arr['T'][0][mask][0]\n",
    "    axarr[0].set_title('{}:  Temperature: {} K     Density: {} per cc '.format(solver_name, T0 , total_Hatoms[0]   ))\n",
    "    axarr[0].set_xlabel('Time (s)')\n",
    "    axarr[0].set_ylabel('Species abundances (normalized by initial values)')\n",
    "    \n",
    "    dt = rv_arr['dt'][mask]\n",
    " #   if t_min == 1e0:\n",
    " #       axarr[0].loglog(t, dt / dt[0], label=i) \n",
    " #   else:\n",
    " #       idx = find_nearest(t , t_min)\n",
    " #       axarr[0].loglog(t[idx:] ,dt[idx:] / dt[idx], label=i) \n",
    "                \n",
    "    \n",
    "\n",
    "    de = rv_arr['de'][0][mask]\n",
    "    axarr[0].loglog(t, total_e/de, label='de normalized by those from species', ls = '--', color = 'r')\n",
    "\n",
    "    axarr[0].legend(loc='best',fontsize='x-small')\n",
    "    # plt.savefig(con_not_con+'-species-norm-nHe20.png')\n",
    "\n",
    "\n",
    "    for i in sorted(rv_arr.keys()):\n",
    "        if i not in skip_list:\n",
    "            hi = rv_arr[i][0][mask]\n",
    "            axarr[1].loglog(t,hi, label=i) \n",
    "\n",
    "\n",
    "    axarr[1].set_xlabel('Time (s)')\n",
    "    axarr[1].set_ylabel('Species abundances')\n",
    "\n",
    "    axarr[1].legend(loc='best',fontsize='x-small')\n",
    "\n",
    "\n",
    "    \n",
    "\n",
    "    de = rv_arr['de'][0][mask]\n",
    "    axarr[2].semilogx(t, (de/total_e) , label='de normalized by those from species', ls = '--', color = 'r')\n",
    "\n",
    "    axarr[2].semilogx(t, ( total_Hatoms )/ total_Hatoms[0], label = 'mass density of H atoms' )\n",
    "    \n",
    "    \n",
    "    print('de conserved?   ', de[-1]/total_e[-1])\n",
    "    print('mass conserved? ' , ( total_Hatoms[-1] )/ total_Hatoms[0])\n",
    "    \n",
    "    \n",
    "    if plot_fH:\n",
    "        axarr[2].plot(t, h1/total_Hatoms, label=\"f(H)\" )\n",
    "        print('final f(H) = {}'.format(h1[-1]/total_Hatoms[-1]) )\n",
    "    axarr[2].set_xlabel('Time (s)')\n",
    "    axarr[2].set_ylabel('mass ratio of Hydrogen atom (fH)')\n",
    "    axarr[2].legend()\n",
    "    \n",
    "    axarr[2].set_xlim((t_min, t_max))\n",
    "    \n",
    "    T0 = rv_arr['T'][0][0]\n",
    "    f.savefig(solver_name+'_nH={:.2E}_T={:.1E}.png'.format(total_Hatoms[0], T0) )\n",
    "    plt.close(f)\n",
    "    return solver_name+'_nH={:.2E}_T={:.1E}.png'.format(total_Hatoms[0], T0)"
   ]
  },
  {
   "cell_type": "code",
   "execution_count": null,
   "metadata": {
    "scrolled": false
   },
   "outputs": [],
   "source": [
    "mask = rv_int_cvspils['successful']\n",
    "t_arr = rv_int_cvspils['t'][mask]\n",
    "png_name = make_plots( primordial, init, rv_int_cvspils, solver_name = 'cvspils', t_min = t_arr[0], t_max = t_arr[-1])\n",
    "Image(png_name)"
   ]
  },
  {
   "cell_type": "code",
   "execution_count": null,
   "metadata": {
    "collapsed": true
   },
   "outputs": [],
   "source": [
    "mask = rv_int_onestep['successful']\n",
    "t_arr = rv_int_onestep['t'][mask]\n",
    "png_name = make_plots( primordial, init, rv_int_onestep, solver_name = 'onestep', t_min = t_arr[0], t_max = t_arr[-1])\n",
    "Image(png_name)"
   ]
  },
  {
   "cell_type": "code",
   "execution_count": null,
   "metadata": {
    "collapsed": true
   },
   "outputs": [],
   "source": [
    "rv_int_cvspils.keys()"
   ]
  },
  {
   "cell_type": "code",
   "execution_count": null,
   "metadata": {
    "collapsed": true
   },
   "outputs": [],
   "source": [
    "def interp_species( rv_int, key , t_arr):\n",
    "    rv_arr = rv_int\n",
    "    \n",
    "    mask = rv_arr['successful']\n",
    "    t    = rv_arr['t'][mask]\n",
    "    dt   = rv_arr['dt'][mask]\n",
    "\n",
    "    tmp = rv_arr[key][0][mask]\n",
    "    print(key, min(tmp))\n",
    "    ans = numpy.interp(t_arr, t, tmp)\n",
    "    \n",
    "    return ans"
   ]
  },
  {
   "cell_type": "code",
   "execution_count": null,
   "metadata": {
    "collapsed": true
   },
   "outputs": [],
   "source": [
    "mask1 = rv_int_cvspils['successful']\n",
    "mask2 = rv_int_onestep['successful']\n",
    "maxt1 = max(rv_int_cvspils['t'][mask1]) \n",
    "maxt2 = max(rv_int_onestep['t'][mask2])\n",
    "\n",
    "maxt = min([maxt1,maxt2])\n",
    "\n",
    "t_arr = numpy.logspace(0,numpy.log10(maxt),100)"
   ]
  },
  {
   "cell_type": "code",
   "execution_count": null,
   "metadata": {
    "collapsed": true
   },
   "outputs": [],
   "source": [
    "for key_plot in rv_int_cvspils.keys():\n",
    "    try:\n",
    "#        if key_plot not in [\"H_2\", \"H_m0\", \"H2_2\", \"de\", \"He_3\",\"He_2\"]:\n",
    "        y_spils = interp_species( rv_int_cvspils, key_plot, t_arr)\n",
    "        y_dls = interp_species( rv_int_onestep, key_plot, t_arr)\n",
    "        plt.semilogx(t_arr,y_spils/y_dls,label=key_plot)\n",
    "    \n",
    "    except:\n",
    "        pass\n",
    "#plt.ylim(0.9,1.1)\n",
    "plt.legend(loc='upper left')\n",
    "plt.show()\n"
   ]
  },
  {
   "cell_type": "code",
   "execution_count": null,
   "metadata": {
    "collapsed": true
   },
   "outputs": [],
   "source": [
    "maxt2/1e9"
   ]
  },
  {
   "cell_type": "code",
   "execution_count": null,
   "metadata": {
    "collapsed": true
   },
   "outputs": [],
   "source": [
    "mask = rv_int_cvspils['successful']"
   ]
  },
  {
   "cell_type": "code",
   "execution_count": null,
   "metadata": {
    "collapsed": true
   },
   "outputs": [],
   "source": [
    "import yt.units as u"
   ]
  },
  {
   "cell_type": "code",
   "execution_count": null,
   "metadata": {
    "collapsed": true
   },
   "outputs": [],
   "source": [
    "T = 1.0 / numpy.sqrt( u.G*1e20*(u.cm**-3)*u.mass_hydrogen)"
   ]
  },
  {
   "cell_type": "code",
   "execution_count": null,
   "metadata": {
    "collapsed": true
   },
   "outputs": [],
   "source": [
    "T/1e5"
   ]
  },
  {
   "cell_type": "code",
   "execution_count": null,
   "metadata": {
    "collapsed": true
   },
   "outputs": [],
   "source": [
    "def time_taken_cvspils(Tdim = 50 ,Ddim = 50 ,total_t = 1e10, n_species=6):\n",
    "    time_taken = []\n",
    "    success = []\n",
    "    \n",
    "    HI_arr = []\n",
    "    HII_arr = []\n",
    "    HeI_arr = []\n",
    "    HeII_arr = []\n",
    "    HeIII_arr = []\n",
    "    de_arr = []\n",
    "    ge_arr = []\n",
    "    T_arr = []\n",
    "    total_t_arr = []\n",
    "\n",
    "    temp_list = numpy.logspace(2,4,Tdim)\n",
    "    den_list  = numpy.logspace(0,18,Ddim)\n",
    "    \n",
    "    temp_2d, den_2d = numpy.meshgrid(temp_list,den_list)\n",
    "    den_temp_pair2d = numpy.dstack( (temp_2d,den_2d)  )\n",
    "\n",
    "    den_temp_pair2d = ( numpy.reshape(den_temp_pair2d, (Tdim*Ddim,2) )  )\n",
    "\n",
    "    temp_arr = []\n",
    "    den_arr = []\n",
    "    \n",
    "    # initialize data dictionary\n",
    "    init, primordial = Init_values(np.array([1000]), np.array([1e10]), n_species = n_species)\n",
    "    rv, rv_int_sundials = sundials_cvspils_run.run_sundials_CVSpils(init, total_t, niter=1e5)\n",
    "    data_dict = {}\n",
    "    for sp in rv_int_sundials.keys():\n",
    "        data_dict[sp] = []\n",
    "        \n",
    "    \n",
    "    for temp, den in den_temp_pair2d:\n",
    "        \n",
    "        # initial conditions for a given temperature and density\n",
    "        init, primordial = Init_values(np.array([temp]), np.array([den]), n_species = n_species)\n",
    "        total_t = calc_fftime(den).v\n",
    "        # Calculate the time it takes\n",
    "        tic=timeit.default_timer()\n",
    "        rv, rv_int_sundials = sundials_cvspils_run.run_sundials_CVSpils(init, total_t, niter=2e5)\n",
    "        toc=timeit.default_timer()\n",
    "        time_taken.append(toc - tic)\n",
    "\n",
    "        temp_arr.append(temp)\n",
    "        den_arr.append(den)\n",
    "\n",
    "        flag = rv_int_sundials['successful']\n",
    "        try:\n",
    "            final_t = rv_int_sundials['t'][flag][-1]\n",
    "        except:\n",
    "            final_t = 0.0\n",
    "        success.append(final_t)\n",
    "        total_t_arr.append(total_t)\n",
    "        for sp in rv_int_sundials.keys():\n",
    "            if sp not in [\"successful\", 'dt', 't']:\n",
    "                data_dict[sp].append( rv_int_sundials[sp][0][flag][-1] )\n",
    "            else:\n",
    "                data_dict[sp].append( rv_int_sundials[sp][flag][-1] )\n",
    "    success = numpy.array(success)\n",
    "    time_taken = numpy.array(time_taken)\n",
    "    total_t_arr = numpy.array(total_t_arr)\n",
    "    temp_arr = numpy.array(temp_arr)\n",
    "    den_arr = numpy.array(den_arr)\n",
    "    \n",
    "    filename = 'cvspils_final_%d.hdf5' %(n_species)\n",
    "    try:\n",
    "        f = h5py.File(filename, 'w')\n",
    "    except:\n",
    "        f = h5py.File(filename)\n",
    "        f.close()\n",
    "        f = h5py.File(filename, 'w')\n",
    "    for key in data_dict.keys():\n",
    "        dset = f.create_dataset(key, data = data_dict[key])\n",
    "    dset = f.create_dataset( \"density\", data = den_arr )\n",
    "    dset = f.create_dataset( \"temperature\", data = temp_arr )\n",
    "    dset = f.create_dataset( \"success\", data = success )\n",
    "    dset = f.create_dataset( \"time_taken\", data = time_taken)\n",
    "    dset = f.create_dataset( \"total_t\", data = total_t_arr)\n",
    "    \n",
    "    dset = f.create_dataset( \"Tdim\", data = (Tdim))\n",
    "    dset = f.create_dataset( \"Ddim\", data = (Ddim))\n",
    "    \n",
    "    f.close()\n",
    "    \n",
    "    return success, time_taken, temp_arr, den_arr, filename"
   ]
  },
  {
   "cell_type": "code",
   "execution_count": null,
   "metadata": {},
   "outputs": [],
   "source": [
    "# filename = 'sundials_final_%d.hdf5' %(9)\n",
    "# import os\n",
    "# os.system('rm {}'.format(filename))\n",
    "\n",
    "\n",
    "\n",
    "niter = 1\n",
    "Tdim = 20\n",
    "Ddim = 20\n",
    "total_t = 1e10\n",
    "\n",
    "success, time_taken, temp_arr, den_arr, filename_sun = time_taken_cvspils(Tdim = Tdim ,\n",
    "                                                                           Ddim = Ddim ,\n",
    "                                                                           total_t = total_t,\n",
    "                                                                           n_species=9)"
   ]
  },
  {
   "cell_type": "code",
   "execution_count": null,
   "metadata": {
    "collapsed": true
   },
   "outputs": [],
   "source": [
    "def calc_fftime(den):\n",
    "    mu = 1.0\n",
    "    rho = mu* u.mass_hydrogen *den *(u.cm**-3)\n",
    "    tff = numpy.sqrt(1.0 / u.G / rho).in_units('s')\n",
    "    return tff"
   ]
  },
  {
   "cell_type": "code",
   "execution_count": null,
   "metadata": {
    "collapsed": true
   },
   "outputs": [],
   "source": [
    "def plot_performance(Tdim, Ddim, temp_arr,den_arr, success, time_taken, title=None, performance=True, log=True, total_t = total_t):\n",
    "\n",
    "    success = numpy.array(success)\n",
    "    time_run = numpy.copy(success)\n",
    "    i1 = success >= total_t*(0.9)\n",
    "    i2 = ~i1\n",
    "    \n",
    "    success[i1] = 1\n",
    "    success[i2] = 0\n",
    "\n",
    "    success_mat = success.reshape((Ddim,Tdim))\n",
    "    total_t_mat = total_t.reshape((Ddim,Tdim))\n",
    "\n",
    "#     temp_2d = temp_arr.reshape(Ddim + 1,Tdim + 1)\n",
    "#     den_2d = den_arr.reshape(Ddim + 1,Tdim + 1)\n",
    "    \n",
    "    temp_2d, den_2d = numpy.meshgrid(temp_arr, den_arr)\n",
    "    \n",
    "    time_taken_mat = numpy.array(time_taken).reshape((Ddim,Tdim))\n",
    "    time_run_mat = numpy.array(time_run).reshape((Ddim,Tdim))\n",
    "    \n",
    "    if performance:\n",
    "        fig, ax = plt.subplots(1,2, figsize = (16,8))\n",
    "        \n",
    "        pcm = ax[0].pcolor( temp_2d, den_2d, time_run_mat/total_t_mat)\n",
    "        fig.colorbar(pcm, ax=ax[0], extend='max')\n",
    "\n",
    "\n",
    "        ax[0].set_xscale('log')\n",
    "        ax[0].set_yscale('log')\n",
    "        ax[0].set_xlabel('Temperature (K)')\n",
    "        ax[0].set_ylabel('Density ($cm^{-3}$)')\n",
    "        \n",
    "        if log:\n",
    "            pcm = ax[1].pcolor( temp_2d, den_2d, time_taken_mat,\n",
    "                              norm=colors.LogNorm(vmin=time_taken_mat.min(), vmax=time_taken_mat.max()))\n",
    "        else:\n",
    "            pcm = ax[1].pcolor( temp_2d, den_2d, time_taken_mat)\n",
    "        fig.colorbar(pcm, ax=ax[1], extend='max')\n",
    "\n",
    "        ax[1].set_xscale('log')\n",
    "        ax[1].set_yscale('log')\n",
    "        ax[1].set_xlabel('Temperature (K)')\n",
    "        ax[1].set_ylabel('Density ($cm^{-3}$)')\n",
    "        if title != None:\n",
    "            ax[0].set_title(title+' time evolved ')\n",
    "            ax[1].set_title(title+' run time')\n",
    "\n",
    "        plt.show()\n",
    "    else:\n",
    "        fig, ax = plt.subplots(1,1, figsize = (8,8))\n",
    "        if log:\n",
    "            pcm = ax.pcolor( temp_2d, den_2d, time_taken_mat,\n",
    "                              norm=colors.LogNorm(vmin=time_taken_mat.min(), vmax=time_taken_mat.max()))\n",
    "        else:        \n",
    "            pcm = ax.pcolor( temp_2d, den_2d, time_taken_mat)\n",
    "        fig.colorbar(pcm, ax=ax, extend='max')\n",
    "\n",
    "        ax.set_xscale('log')\n",
    "        ax.set_yscale('log')\n",
    "        ax.set_xlabel('Temperature (K)')\n",
    "        ax.set_ylabel('Density ($cm^{-3}$)')\n",
    "        if title != None:\n",
    "            ax.set_title(title+' abundances')\n",
    "\n",
    "        plt.show()"
   ]
  },
  {
   "cell_type": "code",
   "execution_count": null,
   "metadata": {},
   "outputs": [],
   "source": [
    "filename_sun = 'cvspils_final_%d.hdf5' %(9)\n",
    "f = h5py.File(filename_sun,'r')\n",
    "\n",
    "Tdim = f['Tdim'].value\n",
    "Ddim = f['Ddim'].value\n",
    "print(Tdim, Ddim)\n",
    "temp_arr = f['temperature'].value\n",
    "den_arr = f['density'].value\n",
    "success = f['success'].value\n",
    "time_taken = f['time_taken'].value\n",
    "total_t = f['total_t'].value\n",
    "f.close()\n",
    "\n",
    "filename = 'sundials_final_%d.hdf5' %(9)\n",
    "fold = h5py.File(filename,'r')\n",
    "\n",
    "time_taken_fold = fold['time_taken'].value\n",
    "total_t_fold = fold['total_t'].value\n",
    "success_fold = fold['success'].value\n",
    "fold.close()\n",
    "\n",
    "\n",
    "logmin_temp, logmax_temp = numpy.log10(temp_arr.min()), numpy.log10(temp_arr.max())\n",
    "logmin_den , logmax_den  = numpy.log10(den_arr.min()) , numpy.log10(den_arr.max())\n",
    "\n",
    "dlogtemp = ( logmax_temp - logmin_temp )/ Tdim /2.0\n",
    "dlogden  = ( logmax_den  - logmin_den )/ Ddim / 2.0\n",
    "temp_arr = numpy.logspace( logmin_temp - dlogtemp , logmax_temp + dlogtemp , Tdim + 1 )\n",
    "den_arr  = numpy.logspace( logmin_den - dlogden, logmax_den + dlogden, Ddim + 1 )\n",
    "\n",
    "plot_performance(Tdim, Ddim, temp_arr,den_arr, success, time_taken_fold/time_taken, title=\"DLS / cvspils\", log=True,total_t = total_t)"
   ]
  },
  {
   "cell_type": "code",
   "execution_count": null,
   "metadata": {
    "scrolled": false
   },
   "outputs": [],
   "source": [
    "filename_sun = 'cvspils_final_%d.hdf5' %(9)\n",
    "f = h5py.File(filename_sun,'r')\n",
    "\n",
    "Tdim = f['Tdim'].value\n",
    "Ddim = f['Ddim'].value\n",
    "print(Tdim, Ddim)\n",
    "temp_arr = f['temperature'].value\n",
    "den_arr = f['density'].value\n",
    "success = f['success'].value\n",
    "time_taken = f['time_taken'].value\n",
    "total_t = f['total_t'].value\n",
    "\n",
    "\n",
    "filename = 'sundials_final_%d.hdf5' %(9)\n",
    "f_sun = h5py.File(filename,'r')\n",
    "\n",
    "Tdim = f_sun['Tdim'].value\n",
    "Ddim = f_sun['Ddim'].value\n",
    "den_arr = f_sun['density'].value\n",
    "success = f_sun['success'].value\n",
    "\n",
    "time_taken = f_sun['time_taken'].value\n",
    "total_t = f_sun['total_t'].value\n",
    "success = f_sun['success'].value\n",
    "\n",
    "\n",
    "\n",
    "logmin_temp, logmax_temp = numpy.log10(temp_arr.min()), numpy.log10(temp_arr.max())\n",
    "logmin_den , logmax_den  = numpy.log10(den_arr.min()) , numpy.log10(den_arr.max())\n",
    "\n",
    "dlogtemp = ( logmax_temp - logmin_temp )/ Tdim /2.0\n",
    "dlogden  = ( logmax_den  - logmin_den )/ Ddim / 2.0\n",
    "temp_arr = numpy.logspace( logmin_temp - dlogtemp , logmax_temp + dlogtemp , Tdim + 1 )\n",
    "den_arr  = numpy.logspace( logmin_den - dlogden, logmax_den + dlogden, Ddim + 1 )\n",
    "\n",
    "for species in f.keys():\n",
    "    if species not in [\"Ddim\", \"Tdim\",\"dt\",\"success\",'t']:\n",
    "        abundance = f_sun[species].value\n",
    "        abundance_spils = f[species].value\n",
    "        print(species)\n",
    "        plot_performance(Tdim, Ddim, temp_arr,den_arr, success, abundance/abundance_spils, title=species, performance = False,total_t=total_t)    \n",
    "f_sun.close()\n",
    "f.close()"
   ]
  },
  {
   "cell_type": "code",
   "execution_count": null,
   "metadata": {
    "collapsed": true
   },
   "outputs": [],
   "source": [
    "filename_sun = 'cvspils_final_%d.hdf5' %(9)\n",
    "f = h5py.File(filename_sun,'r')\n",
    "total_t = f['total_t'].value"
   ]
  },
  {
   "cell_type": "code",
   "execution_count": null,
   "metadata": {},
   "outputs": [],
   "source": [
    "total_t"
   ]
  },
  {
   "cell_type": "code",
   "execution_count": null,
   "metadata": {},
   "outputs": [],
   "source": [
    "f_sun[species].value"
   ]
  },
  {
   "cell_type": "code",
   "execution_count": null,
   "metadata": {},
   "outputs": [],
   "source": [
    "((u.G/(u.c**2) *(3e-6/u.s)*3./4./ numpy.pi*(u.Msun)*(u.rsun**2) / 15/(u.AU**3))*u.year*u.year).in_units('s')"
   ]
  },
  {
   "cell_type": "code",
   "execution_count": null,
   "metadata": {},
   "outputs": [],
   "source": [
    "!cd hahaha_cvspils\n",
    "!ls"
   ]
  },
  {
   "cell_type": "code",
   "execution_count": null,
   "metadata": {
    "collapsed": true
   },
   "outputs": [],
   "source": []
  }
 ],
 "metadata": {
  "kernelspec": {
   "display_name": "Python 2",
   "language": "python",
   "name": "python2"
  },
  "language_info": {
   "codemirror_mode": {
    "name": "ipython",
    "version": 2
   },
   "file_extension": ".py",
   "mimetype": "text/x-python",
   "name": "python",
   "nbconvert_exporter": "python",
   "pygments_lexer": "ipython2",
   "version": "2.7.13"
  }
 },
 "nbformat": 4,
 "nbformat_minor": 2
}
