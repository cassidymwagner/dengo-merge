{
 "cells": [
  {
   "cell_type": "code",
   "execution_count": 4,
   "metadata": {},
   "outputs": [],
   "source": [
    "import imageio\n",
    "import numpy\n",
    "import matplotlib.pyplot as plt\n",
    "images = []\n",
    "for i in numpy.logspace(-3,0,5):\n",
    "    images.append(imageio.imread('fH={}.png'.format(i)))\n",
    "imageio.mimsave('fH.gif', images)"
   ]
  },
  {
   "cell_type": "code",
   "execution_count": 6,
   "metadata": {},
   "outputs": [
    {
     "name": "stdout",
     "output_type": "stream",
     "text": [
      "5.94893924582\n",
      "0.001\n",
      "6.43496948446\n",
      "0.0056234132519\n",
      "9.42040015899\n",
      "0.0316227766017\n",
      "2.64798411317\n",
      "0.177827941004\n",
      "0.0\n",
      "1.0\n"
     ]
    }
   ],
   "source": [
    "import imageio\n",
    "images = []\n",
    "\n",
    "\n",
    "result_H = numpy.load('H_aray_1e5.npy')\n",
    "result_t = numpy.load('t_aray_1e5.npy')\n",
    "dendim = 32\n",
    "tempdim = 32\n",
    "    \n",
    "temp = numpy.linspace(1e2,5e3, tempdim)\n",
    "den = numpy.logspace(10,20, dendim)\n",
    "    \n",
    "temp, den = numpy.meshgrid(temp,den)\n",
    "\n",
    "for ifH, fH in enumerate(numpy.logspace(-3, 0, 5)):\n",
    "    print(result_t[ifH])\n",
    "    print(fH)\n",
    "    \n",
    "    if ifH>3.9:\n",
    "        break\n",
    "    plt.clf()\n",
    "    plt.title('Starting with f(H) = {0:f}, ending at {1:f} s'.format(fH, result_t[ifH]))\n",
    "    plt.pcolor(den, temp, numpy.log10(result_H[ifH]).transpose())\n",
    "    plt.xscale('log')\n",
    "    plt.xlabel('Density (cm**-3)')\n",
    "    plt.ylabel('Tempereature (K)')\n",
    "#    if ifH <= 0.5:\n",
    "    plt.colorbar()\n",
    "    plt.savefig('fH={0}.png'.format(fH))\n",
    "    plt.close()\n",
    "    images.append(imageio.imread('fH={0}.png'.format(fH)))\n",
    "\n",
    "imageio.mimsave('fH.gif', images)"
   ]
  },
  {
   "cell_type": "code",
   "execution_count": null,
   "metadata": {
    "collapsed": true
   },
   "outputs": [],
   "source": [
    "a = numpy.linspace(0,1,100)\n",
    "b = []\n",
    "\n",
    "for i in range(10):\n",
    "    b.append(a)\n",
    "\n",
    "plt.imshow(b)\n",
    "plt.show()"
   ]
  }
 ],
 "metadata": {
  "kernelspec": {
   "display_name": "Python 2",
   "language": "python",
   "name": "python2"
  },
  "language_info": {
   "codemirror_mode": {
    "name": "ipython",
    "version": 2
   },
   "file_extension": ".py",
   "mimetype": "text/x-python",
   "name": "python",
   "nbconvert_exporter": "python",
   "pygments_lexer": "ipython2",
   "version": "2.7.13"
  }
 },
 "nbformat": 4,
 "nbformat_minor": 2
}
