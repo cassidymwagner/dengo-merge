{
 "cells": [
  {
   "cell_type": "code",
   "execution_count": 1,
   "metadata": {},
   "outputs": [
    {
     "name": "stdout",
     "output_type": "stream",
     "text": [
      " using cli\n",
      " using CLI for selections\n"
     ]
    }
   ],
   "source": [
    "import os\n",
    "os.environ['YT_DEST'] = '/home/kwoksun2/anaconda2/pkgs/yt-3.3.5-np111py27_2/'\n",
    "import numpy as np\n",
    "from dengo.chemical_network import \\\n",
    "    ChemicalNetwork, \\\n",
    "    reaction_registry, \\\n",
    "    cooling_registry, species_registry\n",
    "import dengo.primordial_rates, dengo.primordial_cooling\n",
    "from dengo.chemistry_constants import tiny, kboltz, mh\n",
    "import yt\n",
    "import yt.units as u\n",
    "import numpy\n",
    "from IPython.display import Image\n",
    "import matplotlib.pyplot as plt\n",
    "import pickle\n",
    "import pyximport\n",
    "pyximport.install(setup_args={\"include_dirs\":np.get_include()},\n",
    "                      reload_support=True, inplace=True)\n",
    "loc_pwd = \"/home/kwoksun2/grackle/src/python/examples/\"\n",
    "def save_obj(obj, name ):\n",
    "    with open(loc_pwd+ name + '.pkl', 'wb') as f:\n",
    "        pickle.dump(obj, f, pickle.HIGHEST_PROTOCOL)\n",
    "\n",
    "def load_obj(name ):\n",
    "    with open(loc_pwd + name + '.pkl', 'rb') as f:\n",
    "        return pickle.load(f)"
   ]
  },
  {
   "cell_type": "code",
   "execution_count": 2,
   "metadata": {
    "collapsed": true
   },
   "outputs": [],
   "source": [
    "# only two species\n",
    "\n",
    "\n",
    "def Init_values(temperature, density, n_species = 6):\n",
    "    \n",
    "    X = 1.0\n",
    "    # initialize and setup the network\n",
    "    dengo.primordial_rates.setup_primordial()\n",
    "    primordial = ChemicalNetwork()\n",
    "    primordial.threebody = 4\n",
    "    \n",
    "    if n_species == 9:\n",
    "        for i in range(22):\n",
    "            if (i+1) not in [0]: #, 10, 11, 17,18,19]:\n",
    "                try:\n",
    "                    primordial.add_reaction(\"k{0:02d}\".format(i+1))\n",
    "                except:\n",
    "                    pass\n",
    "    else:\n",
    "        for i in range(6):\n",
    "            if (i+1) not in [0]: #, 10, 11, 17,18,19]:\n",
    "                try:\n",
    "                    primordial.add_reaction(\"k{0:02d}\".format(i+1))\n",
    "                except:\n",
    "                    pass        \n",
    "        \n",
    "    primordial.init_temperature((1e0, 1e5))\n",
    "\n",
    "    tiny = 1.0e-20\n",
    "\n",
    "    # init_array are is in fractional abundances\n",
    "    init_array = density\n",
    "    init_values = dict()\n",
    "    \n",
    "    if n_species == 6:\n",
    "        # 6-species model\n",
    "        init_values[\"He_1\"]    = density * (1.0 - 0.76) /3.\n",
    "        init_values[\"He_2\"]    = density * (1.0 - 0.76) /3.      \n",
    "        init_values[\"He_3\"]    = density * (1.0 - 0.76) /3.        \n",
    "        init_values[\"H_1\"]     = density *  (0.76)  /2.\n",
    "        init_values['H_2']     = density *  (0.76)  /2.\n",
    "    else:    \n",
    "        # 9-species model\n",
    "        init_values[\"He_1\"]    = density * (1.0 - 0.76)\n",
    "        init_values[\"He_2\"]    = np.array([tiny])       \n",
    "        init_values[\"He_3\"]    = np.array([tiny])           \n",
    "        init_values[\"H_1\"]     = density *  (0.76)\n",
    "        init_values['H_2']     = np.array([tiny])   \n",
    "\n",
    "        init_values[\"H_m0\"]    = np.array([tiny]) \n",
    "        init_values[\"H2_1\"]    = np.array([tiny])  \n",
    "        init_values[\"H2_2\"]    = np.array([tiny]) \n",
    "    \n",
    "    # now everything in mass density\n",
    "#    init_values = primordial.convert_to_mass_density(init_values)\n",
    "    init_values['de'] = primordial.calculate_free_electrons(init_values)\n",
    "    # one signle value: again mass density\n",
    "    init_values['density'] = primordial.calculate_total_density(init_values)\n",
    "    number_density = primordial.calculate_number_density(init_values)\n",
    "        \n",
    "    num_den = {}\n",
    "    total_num_den = 0.0\n",
    "    total_den = 0.0\n",
    "    for sp in primordial.required_species:\n",
    "        try:\n",
    "            \n",
    "            num_den[sp.name] = init_values[sp.name]/ sp.weight\n",
    "            total_num_den += init_values[sp.name]/ sp.weight\n",
    "            if sp.name != 'de':\n",
    "                total_den += init_values[sp.name]\n",
    "                #total_num_den += init_values[sp.name]/ sp.weight\n",
    "            print(sp,sp.weight)\n",
    "        except:\n",
    "            pass\n",
    "    # mean molecular mass\n",
    "    mmm = total_den/total_num_den\n",
    "    print(mmm)\n",
    "    \n",
    "    \n",
    "    print(total_den - init_values['density'], total_num_den - number_density)\n",
    "    print(init_values)\n",
    "    print('density: {}'.format(init_values['density']))\n",
    "    print('number density: {}'.format(number_density))\n",
    "    mmm = init_values['density']/number_density\n",
    "    print(mmm)\n",
    "    # set up initial temperatures values used to define ge\n",
    "    init_values['T'] = temperature\n",
    "\n",
    "    # calculate ge (very crudely, no H2 help here)\n",
    "    gamma = 5.0/3.0\n",
    "    init_values['ge'] = ((temperature * total_num_den * kboltz)\n",
    "                         / (init_values['density'] * mh * (gamma - 1)))\n",
    "    \n",
    "    a = init_values['ge']\n",
    "    print(primordial.gamma_factor())\n",
    "    \n",
    "    x = 6100.0/temperature\n",
    "    gammaH2 = 2.0 / (5.0 + 2.0*x*x*numpy.exp(x) / (numpy.exp(x) - 1 )**2.0 ) + 1\n",
    "    print(\"\",gammaH2-7/5.)\n",
    "    \n",
    "    gamma_factor = primordial.gamma_factor().subs(num_den).subs({'gammaH2': gammaH2 , 'gamma': 5./3.,'T':temperature })\n",
    "    print(\"gamma factor:\",primordial.gamma_factor())\n",
    "    ge  = ((temperature *  kboltz) *gamma_factor\n",
    "                         / (init_values['density'] * mh  ))\n",
    "    \n",
    "    T = init_values['density']*ge*mh / kboltz / gamma_factor\n",
    "    print('real temp: {}'.format(T))\n",
    "    init_values['ge'] = numpy.array( [numpy.float64(ge)] )\n",
    "    print(ge/a)\n",
    "    \n",
    "    \n",
    "    return init_values, primordial"
   ]
  },
  {
   "cell_type": "code",
   "execution_count": 12,
   "metadata": {},
   "outputs": [
    {
     "name": "stdout",
     "output_type": "stream",
     "text": [
      "Adding reaction: k01 : 1*H_1 + 1*de => 1*H_2 + 2*de\n",
      "Adding reaction: k02 : 1*H_2 + 1*de => 1*H_1\n",
      "Adding reaction: k03 : 1*He_1 + 1*de => 1*He_2 + 2*de\n",
      "Adding reaction: k04 : 1*He_2 + 1*de => 1*He_1\n",
      "Adding reaction: k05 : 1*He_2 + 1*de => 1*He_3 + 2*de\n",
      "Adding reaction: k06 : 1*He_3 + 1*de => 1*He_2\n",
      "Adding reaction: k07 : 1*H_1 + 1*de => 1*H_m0\n",
      "Adding reaction: k08 : 1*H_m0 + 1*H_1 => 1*H2_1 + 1*de\n",
      "Adding reaction: k09 : 1*H_1 + 1*H_2 => 1*H2_2\n",
      "Adding reaction: k10 : 1*H2_2 + 1*H_1 => 1*H2_1 + 1*H_2\n",
      "Adding reaction: k11 : 1*H2_1 + 1*H_2 => 1*H2_2 + 1*H_1\n",
      "Adding reaction: k12 : 1*H2_1 + 1*de => 2*H_1 + 1*de\n",
      "Adding reaction: k13 : 1*H2_1 + 1*H_1 => 3*H_1\n",
      "Adding reaction: k14 : 1*H_m0 + 1*de => 1*H_1 + 2*de\n",
      "Adding reaction: k15 : 1*H_m0 + 1*H_1 => 2*H_1 + 1*de\n",
      "Adding reaction: k16 : 1*H_m0 + 1*H_2 => 2*H_1\n",
      "Adding reaction: k17 : 1*H_m0 + 1*H_2 => 1*H2_2 + 1*de\n",
      "Adding reaction: k18 : 1*H2_2 + 1*de => 2*H_1\n",
      "Adding reaction: k19 : 1*H2_2 + 1*H_m0 => 1*H_1 + 1*H2_1\n",
      "Adding reaction: k21 : 2*H_1 + 1*H2_1 => 2*H2_1\n",
      "Adding reaction: k22 : 2*H_1 + 1*H_1 => 1*H2_1 + 1*H_1\n",
      "(Species: H2_1, 2.01588)\n",
      "(Species: H2_2, 2.01588)\n",
      "(Species: He_1, 4.002602)\n",
      "(Species: H_m0, 1.00794)\n",
      "(Species: He_3, 4.002602)\n",
      "(Species: He_2, 4.002602)\n",
      "(Species: H_1, 1.00794)\n",
      "(Species: de, 1.0)\n",
      "(Species: H_2, 1.00794)\n",
      "[ 1.03132816]\n",
      "(array([ 0.]), array([  2.81318210e+09]))\n",
      "{'H_2': array([  2.53333333e+09]), 'H_1': array([  2.53333333e+09]), 'density': array([  1.00000000e+10]), 'de': array([  2.81318210e+09]), 'He_1': array([  1.20000000e+09]), 'He_2': array([  1.20000000e+09]), 'He_3': array([  1.00000000e-20]), 'H2_2': array([  1.00000000e-20]), 'H2_1': array([  2.53333333e+09]), 'H_m0': array([  1.00000000e-20])}\n",
      "density: [  1.00000000e+10]\n",
      "number density: [  6.88305275e+09]\n",
      "[ 1.45284373]\n",
      "H2_1*(2.5 + 37210000.0*(exp(6100.0/T) - 1.0)**(-2.0)*exp(6100.0/T)/T**2) + H2_2*(2.5 + 37210000.0*(exp(6100.0/T) - 1.0)**(-2.0)*exp(6100.0/T)/T**2) + H_1/(gamma - 1.0) + H_2/(gamma - 1.0) + H_m0/(gamma - 1.0) + He_1/(gamma - 1.0) + He_2/(gamma - 1.0) + He_3/(gamma - 1.0) + de/(gamma - 1.0)\n",
      "('', array([-0.06504192]))\n",
      "('gamma factor:', H2_1*(2.5 + 37210000.0*(exp(6100.0/T) - 1.0)**(-2.0)*exp(6100.0/T)/T**2) + H2_2*(2.5 + 37210000.0*(exp(6100.0/T) - 1.0)**(-2.0)*exp(6100.0/T)/T**2) + H_1/(gamma - 1.0) + H_2/(gamma - 1.0) + H_m0/(gamma - 1.0) + He_1/(gamma - 1.0) + He_2/(gamma - 1.0) + He_3/(gamma - 1.0) + de/(gamma - 1.0))\n",
      "real temp: [2000.00000000000]\n",
      "[1.12834849802696]\n",
      "Temperature now: [ 2000.] K\n",
      "fH: [ 0.99206897]\n"
     ]
    },
    {
     "data": {
      "text/plain": [
       "array([ 0.99206897])"
      ]
     },
     "execution_count": 12,
     "metadata": {},
     "output_type": "execute_result"
    }
   ],
   "source": [
    "class my_network:\n",
    "    def __init__(self, T):\n",
    "        self.T = T\n",
    "        self.threebody = 4\n",
    "\n",
    "from sympy import *\n",
    "\n",
    "def equi_fH(rho, T):\n",
    "    \n",
    "    \n",
    "    init, network = Init_values(T, rho, n_species = 9)\n",
    "    \n",
    "    # for i in network.required_species:\n",
    "    #     print(network.print_ccode(i))\n",
    "    #     for j in network.required_species:\n",
    "    #         print(network.print_jacobian_component(i,j))\n",
    "\n",
    "    mH = 1.0\n",
    "\n",
    "    k13 = (network.reactions['k13'])\n",
    "    k22 = (network.reactions['k22'])\n",
    "\n",
    "    temp_network = my_network(T)\n",
    "\n",
    "    k13coeff, k22coeff = (k13.coeff_fn(temp_network), k22.coeff_fn(temp_network))\n",
    "    \n",
    "\n",
    "    k13s, k22s, fHs, rhos = symbols(\" k13 k22 fH rho\")\n",
    "    expr = k13s*(1 - fHs) /2 - k22s*fHs*fHs*rhos\n",
    "    known_vals = [ (k13s, k13coeff), (k22s, k22coeff), (rhos, rho) ]\n",
    "    new_expr = expr.subs(known_vals)\n",
    "    new_expr_poly = Poly(new_expr, fHs)\n",
    "    print('Temperature now: {} K'.format(T))\n",
    "    poly_coeff = (new_expr_poly.coeffs())\n",
    "    ans = numpy.roots(poly_coeff)\n",
    "    print('fH: {}'.format(ans[ans>0]) )\n",
    "    return ans[ans>0]\n",
    "\n",
    "equi_fH( numpy.array([1e10]), numpy.array([2000.0]))"
   ]
  },
  {
   "cell_type": "code",
   "execution_count": 13,
   "metadata": {},
   "outputs": [
    {
     "name": "stdout",
     "output_type": "stream",
     "text": [
      "Adding reaction: k01 : 1*H_1 + 1*de => 1*H_2 + 2*de\n",
      "Adding reaction: k02 : 1*H_2 + 1*de => 1*H_1\n",
      "Adding reaction: k03 : 1*He_1 + 1*de => 1*He_2 + 2*de\n",
      "Adding reaction: k04 : 1*He_2 + 1*de => 1*He_1\n",
      "Adding reaction: k05 : 1*He_2 + 1*de => 1*He_3 + 2*de\n",
      "Adding reaction: k06 : 1*He_3 + 1*de => 1*He_2\n",
      "Adding reaction: k07 : 1*H_1 + 1*de => 1*H_m0\n",
      "Adding reaction: k08 : 1*H_m0 + 1*H_1 => 1*H2_1 + 1*de\n",
      "Adding reaction: k09 : 1*H_1 + 1*H_2 => 1*H2_2\n",
      "Adding reaction: k10 : 1*H2_2 + 1*H_1 => 1*H2_1 + 1*H_2\n",
      "Adding reaction: k11 : 1*H2_1 + 1*H_2 => 1*H2_2 + 1*H_1\n",
      "Adding reaction: k12 : 1*H2_1 + 1*de => 2*H_1 + 1*de\n",
      "Adding reaction: k13 : 1*H2_1 + 1*H_1 => 3*H_1\n",
      "Adding reaction: k14 : 1*H_m0 + 1*de => 1*H_1 + 2*de\n",
      "Adding reaction: k15 : 1*H_m0 + 1*H_1 => 2*H_1 + 1*de\n",
      "Adding reaction: k16 : 1*H_m0 + 1*H_2 => 2*H_1\n",
      "Adding reaction: k17 : 1*H_m0 + 1*H_2 => 1*H2_2 + 1*de\n",
      "Adding reaction: k18 : 1*H2_2 + 1*de => 2*H_1\n",
      "Adding reaction: k19 : 1*H2_2 + 1*H_m0 => 1*H_1 + 1*H2_1\n",
      "Adding reaction: k21 : 2*H_1 + 1*H2_1 => 2*H2_1\n",
      "Adding reaction: k22 : 2*H_1 + 1*H_1 => 1*H2_1 + 1*H_1\n",
      "(Species: H2_1, 2.01588)\n",
      "(Species: H2_2, 2.01588)\n",
      "(Species: He_1, 4.002602)\n",
      "(Species: H_m0, 1.00794)\n",
      "(Species: He_3, 4.002602)\n",
      "(Species: He_2, 4.002602)\n",
      "(Species: H_1, 1.00794)\n",
      "(Species: de, 1.0)\n",
      "(Species: H_2, 1.00794)\n",
      "[ 1.03132816]\n",
      "(array([ 0.]), array([  2.81318210e+09]))\n",
      "{'H_2': array([  2.53333333e+09]), 'H_1': array([  2.53333333e+09]), 'density': array([  1.00000000e+10]), 'de': array([  2.81318210e+09]), 'He_1': array([  1.20000000e+09]), 'He_2': array([  1.20000000e+09]), 'He_3': array([  1.00000000e-20]), 'H2_2': array([  1.00000000e-20]), 'H2_1': array([  2.53333333e+09]), 'H_m0': array([  1.00000000e-20])}\n",
      "density: [  1.00000000e+10]\n",
      "number density: [  6.88305275e+09]\n",
      "[ 1.45284373]\n",
      "H2_1*(2.5 + 37210000.0*(exp(6100.0/T) - 1.0)**(-2.0)*exp(6100.0/T)/T**2) + H2_2*(2.5 + 37210000.0*(exp(6100.0/T) - 1.0)**(-2.0)*exp(6100.0/T)/T**2) + H_1/(gamma - 1.0) + H_2/(gamma - 1.0) + H_m0/(gamma - 1.0) + He_1/(gamma - 1.0) + He_2/(gamma - 1.0) + He_3/(gamma - 1.0) + de/(gamma - 1.0)\n",
      "('', array([-0.06504192]))\n",
      "('gamma factor:', H2_1*(2.5 + 37210000.0*(exp(6100.0/T) - 1.0)**(-2.0)*exp(6100.0/T)/T**2) + H2_2*(2.5 + 37210000.0*(exp(6100.0/T) - 1.0)**(-2.0)*exp(6100.0/T)/T**2) + H_1/(gamma - 1.0) + H_2/(gamma - 1.0) + H_m0/(gamma - 1.0) + He_1/(gamma - 1.0) + He_2/(gamma - 1.0) + He_3/(gamma - 1.0) + de/(gamma - 1.0))\n",
      "real temp: [2000.00000000000]\n",
      "[1.12834849802696]\n"
     ]
    }
   ],
   "source": [
    "init, primordial = Init_values(np.array([2000.0]), np.array([1e10]), n_species = 9)"
   ]
  },
  {
   "cell_type": "code",
   "execution_count": 14,
   "metadata": {},
   "outputs": [
    {
     "name": "stdout",
     "output_type": "stream",
     "text": [
      "('brem', -brem_brem[i]*de*(H_2 + He_2 + 4.0*He_3))\n",
      "('reHII', -H_2*de*reHII_reHII[i])\n",
      "('reHeIII', -He_3*de*reHeIII_reHeIII[i])\n",
      "('gloverabel08', -H2_1*gloverabel08_h2lte[i]/(gloverabel08_h2lte[i]/(H2_1*gloverabel08_gaH2[i] + H_1*gloverabel08_gaHI[i] + H_2*gloverabel08_gaHp[i] + He_1*gloverabel08_gaHe[i] + de*gloverabel08_gael[i]) + 1.0))\n",
      "('ceHI', -H_1*ceHI_ceHI[i]*de)\n",
      "('compton', -compton_comp_[i]*de*(z + 1.0)**4*(T - 2.73*z - 2.73))\n",
      "('h2formation', (-H2_1*H_1*h2formation_h2mcool[i] + H_1**3*h2formation_h2mheat[i])/(h2formation_ncrn[i]*nH/(H2_1*h2formation_ncrd2[i] + H_1*h2formation_ncrd1[i]) + 1.0))\n",
      "('reHeII2', -He_2*de*reHeII2_reHeII2[i])\n",
      "('reHeII1', -He_2*de*reHeII1_reHeII1[i])\n",
      "('ceHeII', -He_2*ceHeII_ceHeII[i]*de)\n",
      "('ceHeI', -He_2*ceHeI_ceHeI[i]*de**2)\n",
      "('gammah', 0)\n"
     ]
    }
   ],
   "source": [
    "for cooling_action in cooling_registry:\n",
    "    k = cooling_registry[cooling_action]\n",
    "    if (k.species).issubset( primordial.required_species ):\n",
    "        if cooling_action[:2] not in [\"ci\"]:\n",
    "            print( cooling_action, k.equation )\n",
    "            primordial.add_cooling(cooling_action)"
   ]
  },
  {
   "cell_type": "code",
   "execution_count": 15,
   "metadata": {},
   "outputs": [
    {
     "data": {
      "text/plain": [
       "{'brem': <dengo.reaction_classes.CoolingAction at 0x7f432cf2ba90>,\n",
       " 'ceHI': <dengo.reaction_classes.CoolingAction at 0x7f432cf2b790>,\n",
       " 'ceHeI': <dengo.reaction_classes.CoolingAction at 0x7f432cf2b810>,\n",
       " 'ceHeII': <dengo.reaction_classes.CoolingAction at 0x7f432cf2b850>,\n",
       " 'compton': <dengo.reaction_classes.CoolingAction at 0x7f432cf2bb10>,\n",
       " 'gammah': <dengo.reaction_classes.CoolingAction at 0x7f432cf2bb50>,\n",
       " 'gloverabel08': <dengo.reaction_classes.CoolingAction at 0x7f432cf2bad0>,\n",
       " 'h2formation': <dengo.reaction_classes.CoolingAction at 0x7f432cf2bb90>,\n",
       " 'reHII': <dengo.reaction_classes.CoolingAction at 0x7f432cf2b990>,\n",
       " 'reHeII1': <dengo.reaction_classes.CoolingAction at 0x7f432cf2b9d0>,\n",
       " 'reHeII2': <dengo.reaction_classes.CoolingAction at 0x7f432cf2ba10>,\n",
       " 'reHeIII': <dengo.reaction_classes.CoolingAction at 0x7f432cf2ba50>}"
      ]
     },
     "execution_count": 15,
     "metadata": {},
     "output_type": "execute_result"
    }
   ],
   "source": [
    "primordial.cooling_actions"
   ]
  },
  {
   "cell_type": "code",
   "execution_count": 19,
   "metadata": {
    "scrolled": true
   },
   "outputs": [
    {
     "name": "stdout",
     "output_type": "stream",
     "text": [
      "initial  temperature: 2.000E+03\n",
      "Successful iteration[  100]: (1.618e+02) 1.778e+03 / 1.000e+13\n",
      "Successful iteration[  200]: (2.230e+06) 2.453e+07 / 1.000e+13\n",
      "dt too small (6.951e-38 / 1.000e+13) so breaking\n",
      "End in 456 iterations: 2.53958e+11 / 1.00000e+13 (9.74604e+12)\n"
     ]
    }
   ],
   "source": [
    "primordial.write_solver(\"sundials_onestep\", output_dir = \".\",\n",
    "                           solver_template = \"sundials_onestep\",\n",
    "                           ode_solver_source = \"cvodes_solver_onestep.C\",\n",
    "                            init_values=init,\n",
    "                            input_is_number=False)\n",
    "\n",
    "sundials_onestep_run = pyximport.load_module(\"sundials_onestep_run\",\n",
    "                            \"sundials_onestep_solver_run.pyx\",\n",
    "                            build_inplace = True, pyxbuild_dir = \"_dengo_temp\")\n",
    "rv, rv_int_sundials = sundials_onestep_run.run_sundials_onestep(init, 1e13, niter=1e5)"
   ]
  },
  {
   "cell_type": "code",
   "execution_count": 20,
   "metadata": {
    "scrolled": true
   },
   "outputs": [
    {
     "name": "stdout",
     "output_type": "stream",
     "text": [
      "dt too small (8.078e-21 / 1.000e+10) so breaking\n",
      "End in 90 iterations: 0.00000e+00 / 1.00000e+10 (1.00000e+10)\n"
     ]
    }
   ],
   "source": [
    "primordial.write_solver(\"sunny\", output_dir = \".\",\n",
    "                            init_values=init,\n",
    "                            input_is_number=False)\n",
    "\n",
    "sunny_solver_run = pyximport.load_module(\"sunny_solver_run\",\n",
    "                                \"sunny_solver_run.pyx\",\n",
    "                                build_inplace = True, pyxbuild_dir = \"_dengo_temp\")\n",
    "\n",
    "\n",
    "rv, rv_int_be_chem = sunny_solver_run.run_sunny(init, 1e10 , niter=1e3 )"
   ]
  },
  {
   "cell_type": "code",
   "execution_count": 21,
   "metadata": {
    "collapsed": true
   },
   "outputs": [],
   "source": [
    "mask = rv_int_be_chem['successful']\n",
    "be_chem_data = {}\n",
    "\n",
    "mask_s = rv_int_sundials['successful']\n",
    "sundials_data = {}\n",
    "\n",
    "\n",
    "#for name in ['H_1','H_2','He_1','He_2','He_3', 'de', 't', 'ge', 'T']:\n",
    "for name in ['H_1','H_2','He_1','He_2','He_3', 'H_m0', 'H2_1', 'H2_2', 'de', 't','T','ge']:\n",
    "#for name in ['H_1','H_2','He_1','He_2','He_3', 'H_m0', 'H2_1', 'de', 't']:\n",
    "#for name in ['He_1','He_2','He_3', 'de', 't']:\n",
    "    if name != 't':\n",
    "        arr = rv_int_be_chem[name][0][mask]\n",
    "        be_chem_data[name] = arr\n",
    "        \n",
    "        arr = rv_int_sundials[name][0][mask_s]\n",
    "        sundials_data[name] = arr        \n",
    "        \n",
    "    else:\n",
    "        arr = rv_int_be_chem[name][mask]\n",
    "        be_chem_data[name] = arr\n",
    "        \n",
    "        arr = rv_int_sundials[name][mask_s]\n",
    "        sundials_data[name] = arr\n",
    "        \n",
    "save_obj(be_chem_data, 'be_chem_data')\n",
    "save_obj(sundials_data, 'sundials_data')\n",
    "\n",
    "t_arr = rv_int_be_chem['t'][mask]\n",
    "numpy.save(\"/home/kwoksun2/grackle/src/python/examples/t_arr.npy\", t_arr)"
   ]
  },
  {
   "cell_type": "code",
   "execution_count": null,
   "metadata": {
    "collapsed": true
   },
   "outputs": [],
   "source": [
    "def find_nearest(array,value):\n",
    "    idx = (np.abs(array-value)).argmin()\n",
    "    return idx\n",
    "\n",
    "def make_plots( network, init, rv_int, solver_name = 'sundials', t_min = 1e0, t_max = 1e11, plot_fH = False ):\n",
    "    \n",
    "    rv_arr = rv_int\n",
    "    \n",
    "    mask = rv_arr['successful']\n",
    "    t    = rv_arr['t'][mask]\n",
    "    dt   = rv_arr['dt'][mask]\n",
    "\n",
    "    plt.clf()\n",
    "    skip_list = ['dt' ,'successful', 't','Ju', 'Jac']\n",
    "    hydrogen_list = ['H_1','H_2','H2_1','H2_2','H_m0']\n",
    "    \n",
    "    \n",
    "    # Calculate total electron density \n",
    "    # with the abundances from other species\n",
    "    total_e = numpy.zeros((len(t)))\n",
    "    for j in network.required_species:\n",
    "        if j.name in rv_arr.keys() and j.name not in skip_list and j.name != 'dt':\n",
    "            \n",
    "            try:\n",
    "                total_e += rv_arr[j.name][0][mask]  * j.free_electrons \n",
    "            except:\n",
    "                pass\n",
    "    \n",
    "    de = rv_arr['de'][0][mask]\n",
    "    # calculate total mass density of hydrogen\n",
    "    # conservation of mass\n",
    "    total_Hatoms = numpy.zeros((len(t)))\n",
    "    for j in network.required_species:\n",
    "        if j.name in hydrogen_list:\n",
    "            total_Hatoms += rv_arr[j.name][0][mask] *j.weight\n",
    "            \n",
    "\n",
    "    f, axarr = plt.subplots(3, sharex=True, figsize=(10,15))\n",
    "    \n",
    "    ii = 0\n",
    "    for i in sorted(rv_arr.keys()):\n",
    "        if i not in skip_list:\n",
    "            \n",
    "            hi = rv_arr[i][0][mask]\n",
    "            if t_min == 1e0:\n",
    "                axarr[0].semilogx(t,numpy.array(hi)/init[i][0]+ii, label=i) \n",
    "                ii+=1\n",
    "            else:\n",
    "                idx = find_nearest(t , t_min)\n",
    "                axarr[0].semilogx(t[idx:] ,numpy.array(hi[idx:])/hi[idx] , label=i) \n",
    "                ii+=1\n",
    "\n",
    "\n",
    "\n",
    "    #h1 = rv_arr['H_1'][0][mask]\n",
    "\n",
    "    \n",
    "    T0 = rv_arr['T'][0][mask][0]\n",
    "    axarr[0].set_title('{}:  Temperature: {} K     Density: {} per cc '.format(solver_name, T0 , total_Hatoms[0]   ))\n",
    "    axarr[0].set_xlabel('Time (s)')\n",
    "    axarr[0].set_ylabel('Species abundances (normalized by initial values)')\n",
    "    \n",
    "    dt = rv_arr['dt'][mask]\n",
    " #   if t_min == 1e0:\n",
    " #       axarr[0].loglog(t, dt / dt[0], label=i) \n",
    " #   else:\n",
    " #       idx = find_nearest(t , t_min)\n",
    " #       axarr[0].loglog(t[idx:] ,dt[idx:] / dt[idx], label=i) \n",
    "                \n",
    "    \n",
    "\n",
    "    de = rv_arr['de'][0][mask]\n",
    "    axarr[0].loglog(t, total_e/de, label='de normalized by those from species', ls = '--', color = 'r')\n",
    "\n",
    "    axarr[0].legend(loc='best',fontsize='x-small')\n",
    "    # plt.savefig(con_not_con+'-species-norm-nHe20.png')\n",
    "\n",
    "\n",
    "    for i in sorted(rv_arr.keys()):\n",
    "        if i not in skip_list:\n",
    "            hi = rv_arr[i][0][mask]\n",
    "            axarr[1].loglog(t,hi, label=i) \n",
    "\n",
    "\n",
    "    axarr[1].set_xlabel('Time (s)')\n",
    "    axarr[1].set_ylabel('Species abundances')\n",
    "\n",
    "    axarr[1].legend(loc='best',fontsize='x-small')\n",
    "\n",
    "\n",
    "    \n",
    "\n",
    "    de = rv_arr['de'][0][mask]\n",
    "    axarr[2].semilogx(t, (de/total_e) , label='de normalized by those from species', ls = '--', color = 'r')\n",
    "\n",
    "    axarr[2].semilogx(t, ( total_Hatoms )/ total_Hatoms[0], label = 'mass density of H atoms' )\n",
    "    \n",
    "    \n",
    "    print('de conserved?   ', de[-1]/total_e[-1])\n",
    "    print('mass conserved? ' , ( total_Hatoms[-1] )/ total_Hatoms[0])\n",
    "    \n",
    "    \n",
    "    if plot_fH:\n",
    "        axarr[2].plot(t, h1/total_Hatoms, label=\"f(H)\" )\n",
    "        print('final f(H) = {}'.format(h1[-1]/total_Hatoms[-1]) )\n",
    "    axarr[2].set_xlabel('Time (s)')\n",
    "    axarr[2].set_ylabel('mass ratio of Hydrogen atom (fH)')\n",
    "    axarr[2].legend()\n",
    "    \n",
    "    axarr[2].set_xlim((t_min, t_max))\n",
    "    \n",
    "    T0 = rv_arr['T'][0][0]\n",
    "    f.savefig(solver_name+'_nH={:.2E}_T={:.1E}.png'.format(total_Hatoms[0], T0) )\n",
    "    plt.close(f)\n",
    "    return solver_name+'_nH={:.2E}_T={:.1E}.png'.format(total_Hatoms[0], T0)"
   ]
  },
  {
   "cell_type": "code",
   "execution_count": null,
   "metadata": {
    "collapsed": true
   },
   "outputs": [],
   "source": [
    "mask = rv_int_sundials['successful']\n",
    "t_arr = rv_int_sundials['t'][mask]\n",
    "png_name = make_plots( primordial, init, rv_int_sundials, solver_name = 'ttsundials', t_min = t_arr[0], t_max = t_arr[-1])\n",
    "Image(png_name)\n",
    "\n"
   ]
  },
  {
   "cell_type": "code",
   "execution_count": null,
   "metadata": {
    "collapsed": true
   },
   "outputs": [],
   "source": [
    "mask = rv_int_be_chem['successful']\n",
    "t_arr = rv_int_be_chem['t'][mask]\n",
    "png_name = make_plots( primordial, init, rv_int_be_chem, solver_name = 'be_chem', t_min = t_arr[0], t_max = t_arr[-1])\n",
    "Image(png_name)\n",
    "\n"
   ]
  },
  {
   "cell_type": "code",
   "execution_count": null,
   "metadata": {
    "collapsed": true
   },
   "outputs": [],
   "source": [
    "mask = rv_int_sundials['successful']\n",
    "t_arr = rv_int_sundials['t'][mask]\n",
    "png_name = make_plots( primordial, init, rv_int_sundials, solver_name = 'ttsundials', t_min = t_arr[0], t_max = t_arr[-1])\n",
    "Image(png_name)\n",
    "\n"
   ]
  },
  {
   "cell_type": "code",
   "execution_count": null,
   "metadata": {
    "collapsed": true
   },
   "outputs": [],
   "source": [
    "mask = rv_int_sundials['successful']\n",
    "t = \n",
    "plt.plot(rv_int_sundials['T'][0][mask])\n",
    "mask = rv_int_be_chem['successful']\n",
    "plt.plot(rv_int_be_chem['T'][0][mask])\n",
    "plt.show()"
   ]
  },
  {
   "cell_type": "code",
   "execution_count": null,
   "metadata": {
    "collapsed": true
   },
   "outputs": [],
   "source": [
    "!pwd"
   ]
  },
  {
   "cell_type": "code",
   "execution_count": null,
   "metadata": {
    "collapsed": true
   },
   "outputs": [],
   "source": [
    "rv_int_sundials"
   ]
  },
  {
   "cell_type": "code",
   "execution_count": null,
   "metadata": {
    "collapsed": true
   },
   "outputs": [],
   "source": [
    "init"
   ]
  },
  {
   "cell_type": "code",
   "execution_count": null,
   "metadata": {
    "collapsed": true
   },
   "outputs": [],
   "source": [
    "import yt.units as u\n",
    "\n",
    "cs = numpy.sqrt\n",
    "q = 0.2 * rho *cs**3\n",
    "\n",
    "\n"
   ]
  },
  {
   "cell_type": "code",
   "execution_count": null,
   "metadata": {
    "collapsed": true
   },
   "outputs": [],
   "source": [
    "'brem' in primordial.cooling_actions.keys()"
   ]
  },
  {
   "cell_type": "code",
   "execution_count": null,
   "metadata": {
    "collapsed": true
   },
   "outputs": [],
   "source": [
    "for i in primordial.required_species:\n",
    "    if i.name in ['H2_1','H_1']:\n",
    "        print(primordial.print_ccode(i))\n",
    "    print('--------------')"
   ]
  },
  {
   "cell_type": "code",
   "execution_count": null,
   "metadata": {
    "collapsed": true
   },
   "outputs": [],
   "source": [
    "for i in primordial.required_species:\n",
    "    print(primordial.print_ccode(i))"
   ]
  },
  {
   "cell_type": "code",
   "execution_count": null,
   "metadata": {
    "collapsed": true
   },
   "outputs": [],
   "source": [
    "flag = rv_int_sundials['successful']\n",
    "H2I = rv_int_sundials['H2_1'][0][flag]\n",
    "HI = rv_int_sundials['H_1'][0][flag]\n",
    "t = rv_int_sundials['t'][flag]\n"
   ]
  },
  {
   "cell_type": "code",
   "execution_count": null,
   "metadata": {
    "collapsed": true
   },
   "outputs": [],
   "source": [
    "plt.loglog(t,H2I)\n",
    "plt.show()"
   ]
  },
  {
   "cell_type": "code",
   "execution_count": null,
   "metadata": {
    "collapsed": true
   },
   "outputs": [],
   "source": [
    "(186819240.727 - H2I[-1])/H2I[-1]\n"
   ]
  },
  {
   "cell_type": "code",
   "execution_count": null,
   "metadata": {
    "collapsed": true
   },
   "outputs": [],
   "source": [
    "primorial"
   ]
  },
  {
   "cell_type": "code",
   "execution_count": null,
   "metadata": {
    "collapsed": true
   },
   "outputs": [],
   "source": [
    "init, primordial = Init_values(np.array([2000.0]), np.array([1e10]), n_species = 9)"
   ]
  },
  {
   "cell_type": "code",
   "execution_count": null,
   "metadata": {
    "collapsed": true
   },
   "outputs": [],
   "source": [
    "primordial.temperature_calculation(derivative_dge_dT=True)"
   ]
  },
  {
   "cell_type": "code",
   "execution_count": null,
   "metadata": {
    "collapsed": true
   },
   "outputs": [],
   "source": [
    "T = numpy.logspace(0,3.5,100)\n",
    "x = 6100.0 / T;\n",
    "expx = numpy.exp(x);\n",
    "gammaH2 = 2.0 / (5.0 + 2.0 *x*x* expx/ (expx - 1.0) / (expx - 1.0) ) + 1.0;\n"
   ]
  },
  {
   "cell_type": "code",
   "execution_count": null,
   "metadata": {
    "collapsed": true
   },
   "outputs": [],
   "source": [
    "plt.plot(T,1.0 / (gammaH2 - 1))\n",
    "plt.show()"
   ]
  },
  {
   "cell_type": "code",
   "execution_count": null,
   "metadata": {
    "collapsed": true
   },
   "outputs": [],
   "source": []
  }
 ],
 "metadata": {
  "kernelspec": {
   "display_name": "Python 2",
   "language": "python",
   "name": "python2"
  },
  "language_info": {
   "codemirror_mode": {
    "name": "ipython",
    "version": 2
   },
   "file_extension": ".py",
   "mimetype": "text/x-python",
   "name": "python",
   "nbconvert_exporter": "python",
   "pygments_lexer": "ipython2",
   "version": "2.7.13"
  }
 },
 "nbformat": 4,
 "nbformat_minor": 2
}
