{
 "cells": [
  {
   "cell_type": "code",
   "execution_count": null,
   "metadata": {},
   "outputs": [],
   "source": [
    "import os\n",
    "os.environ['YT_DEST'] = '/home/kwoksun2/anaconda2/pkgs/yt-3.3.5-np111py27_2/'\n",
    "import numpy as np\n",
    "from dengo.chemical_network import \\\n",
    "    ChemicalNetwork, \\\n",
    "    reaction_registry, \\\n",
    "    cooling_registry, species_registry\n",
    "import dengo.primordial_rates, dengo.primordial_cooling\n",
    "from dengo.chemistry_constants import tiny, kboltz, mh\n",
    "import yt\n",
    "import numpy\n",
    "from IPython.display import Image\n",
    "import matplotlib.pyplot as plt\n",
    "\n",
    "import pyximport\n",
    "pyximport.install(setup_args={\"include_dirs\":np.get_include()},\n",
    "                      reload_support=True, inplace=True)\n"
   ]
  },
  {
   "cell_type": "code",
   "execution_count": null,
   "metadata": {
    "collapsed": true
   },
   "outputs": [],
   "source": [
    "def equil_values(init_values, primordial, t =3.16e13, niter= 1e5, full_output = False):\n",
    "    \n",
    "    primordial.write_solver(\"sunny\", output_dir = \".\",\n",
    "                            init_values=init_values,\n",
    "                            input_is_number=False)\n",
    "\n",
    "    sunny_solver_run = pyximport.load_module(\"sunny_solver_run\",\n",
    "                                \"sunny_solver_run.pyx\",\n",
    "                                build_inplace = True, pyxbuild_dir = \"_dengo_temp\")\n",
    "    rv, rv_int = sunny_solver_run.run_sunny(init_values, t, niter=niter) ;\n",
    "    \n",
    "    mask = rv_int['successful']\n",
    "    \n",
    "    if full_output:\n",
    "        return rv_int, 0\n",
    "    else:\n",
    "        return rv_int['H_1'][:, mask][:,-1] / init_values['density'], rv_int['t'][mask][-1]"
   ]
  },
  {
   "cell_type": "code",
   "execution_count": 53,
   "metadata": {
    "collapsed": true
   },
   "outputs": [],
   "source": [
    "# only two species\n",
    "\n",
    "def Init_values_He(temperature, density, fH, reaction_k):\n",
    "    \n",
    "    X = 1.0\n",
    "    # initialize and setup the network\n",
    "    dengo.primordial_rates.setup_primordial()\n",
    "    primordial = ChemicalNetwork()\n",
    "\n",
    "    for i in range(23):\n",
    "        try: \n",
    "            if (i+1) not in [reaction_k]:\n",
    "                primordial.add_reaction(\"k{0:02d}\".format(i+1))\n",
    "        except:\n",
    "            pass\n",
    "    \n",
    "    \n",
    "    primordial.init_temperature((1e0, 1e5))\n",
    "\n",
    "    tiny = 1e-20\n",
    "\n",
    "    # init_array are is in MASS fractional abundances\n",
    "    init_array = density\n",
    "    init_values = dict()\n",
    "    \n",
    "    init_values[\"He_1\"]    = density * (1 - 0.76)\n",
    "    init_values[\"He_2\"]    = tiny*density\n",
    "    init_values[\"He_3\"]    = tiny*density\n",
    "\n",
    "    init_values[\"H_1\"]     = density * (0.76)\n",
    "    init_values['H_2']     = tiny*density \n",
    "    init_values[\"H_m0\"]    = tiny*density \n",
    "\n",
    "    init_values[\"H2_1\"]    = tiny*density\n",
    "    init_values[\"H2_2\"]    = tiny*density\n",
    "    # now everything in mass density\n",
    "    # init_values = primordial.convert_to_mass_density(init_values)\n",
    "    init_values['de'] = primordial.calculate_free_electrons(init_values)\n",
    "    # one signle value: again mass density\n",
    "    init_values['density'] = primordial.calculate_total_density(init_values)\n",
    "    number_density = primordial.calculate_number_density(init_values)\n",
    "\n",
    "    # set up initial temperatures values used to define ge\n",
    "    init_values['T'] = temperature\n",
    "\n",
    "    # calculate ge (very crudely, no H2 help here)\n",
    "    gamma = 5.0/3.0\n",
    "    init_values['ge'] = ((temperature * number_density * kboltz)\n",
    "                         / (init_values['density'] * mh * (gamma - 1)))\n",
    "    return init_values, primordial"
   ]
  },
  {
   "cell_type": "code",
   "execution_count": 54,
   "metadata": {
    "collapsed": true
   },
   "outputs": [],
   "source": [
    "def main(fH, temp, den , full_output = False):\n",
    "    \n",
    "    \n",
    "    temp = temp.flatten()\n",
    "    den = den.flatten()\n",
    "    \n",
    "    h_array = numpy.zeros((len(temp), len(den)))\n",
    "    t_array = numpy.zeros((len(den)))\n",
    "    \n",
    "    h_array = []\n",
    "    t_array = []\n",
    "    \n",
    "    print(den)\n",
    "    for iden, den_arr in enumerate(den):\n",
    "        \n",
    "        den_arr = numpy.ones((len(temp)))*den_arr\n",
    "        \n",
    "        init_values, primordial = Init_values(temp, den_arr, fH)\n",
    "        h_array_now, t_array_now = equil_values(init_values, primordial, full_output = full_output)\n",
    "        \n",
    "        h_array.append(h_array_now)\n",
    "        t_array.append(t_array_now)\n",
    "        \n",
    "    return h_array, t_array"
   ]
  },
  {
   "cell_type": "code",
   "execution_count": 20,
   "metadata": {
    "collapsed": true
   },
   "outputs": [],
   "source": [
    "def find_nearest(array,value):\n",
    "    idx = (np.abs(array-value)).argmin()\n",
    "    return idx\n",
    "\n",
    "def make_plots( network, init, rv_int, solver_name = 'sundials', t_min = 1e0, t_max = 1e11, plot_fH = False ):\n",
    "    \n",
    "    rv_arr = rv_int\n",
    "    \n",
    "    mask = rv_arr['successful']\n",
    "    t    = rv_arr['t'][mask]\n",
    "    dt   = rv_arr['dt'][mask]\n",
    "\n",
    "    plt.clf()\n",
    "    skip_list = ['dt' ,'successful', 't','Ju', 'Jac', 'He_1', 'He_2', 'He_3']\n",
    "    hydrogen_list = ['H_1','H_2','H2_1','H2_2','H_m0']\n",
    "    \n",
    "    \n",
    "    # Calculate total electron density \n",
    "    # with the abundances from other species\n",
    "    total_e = numpy.zeros((len(t)))\n",
    "    for j in network.required_species:\n",
    "        if j.name in rv_arr.keys() and j.name not in skip_list and j.name != 'dt':\n",
    "            \n",
    "            try:\n",
    "                total_e += rv_arr[j.name][0][mask]  * j.free_electrons \n",
    "            except:\n",
    "                pass\n",
    "    \n",
    "    de = rv_arr['de'][0][mask]\n",
    "    # calculate total mass density of hydrogen\n",
    "    # conservation of mass\n",
    "    total_Hatoms = numpy.zeros((len(t)))\n",
    "    for j in network.required_species:\n",
    "        if j.name in hydrogen_list:\n",
    "            total_Hatoms += rv_arr[j.name][0][mask] *j.weight\n",
    "            \n",
    "\n",
    "    f, axarr = plt.subplots(3, sharex=True, figsize=(10,15))\n",
    "    \n",
    "    ii = 0\n",
    "    for i in rv_arr.keys():\n",
    "        if i not in skip_list:\n",
    "            \n",
    "            hi = rv_arr[i][0][mask]\n",
    "            if t_min == 1e0:\n",
    "                axarr[0].semilogx(t,numpy.array(hi)/init[i][0]+ii, label=i) \n",
    "                ii+=1\n",
    "            else:\n",
    "                idx = find_nearest(t , t_min)\n",
    "                axarr[0].semilogx(t[idx:] ,numpy.array(hi[idx:])/hi[idx] +1e-5 , label=i) \n",
    "                ii+=1\n",
    "\n",
    "\n",
    "\n",
    "    h1 = rv_arr['H_1'][0][mask]\n",
    "    h2 = rv_arr['H2_1'][0][mask]\n",
    "    \n",
    "    T0 = rv_arr['T'][0][mask][0]\n",
    "    axarr[0].set_title('{}:  Temperature: {} K     Density: {} per cc '.format(solver_name, T0 , total_Hatoms[0]   ))\n",
    "    axarr[0].set_xlabel('Time (s)')\n",
    "    axarr[0].set_ylabel('Species abundances (normalized by initial values)')\n",
    "    \n",
    "    dt = rv_arr['dt'][mask]\n",
    " #   if t_min == 1e0:\n",
    " #       axarr[0].loglog(t, dt / dt[0], label=i) \n",
    " #   else:\n",
    " #       idx = find_nearest(t , t_min)\n",
    " #       axarr[0].loglog(t[idx:] ,dt[idx:] / dt[idx], label=i) \n",
    "                \n",
    "    \n",
    "\n",
    "    de = rv_arr['de'][0][mask]\n",
    "    \n",
    "    axarr[0].legend(loc='best',fontsize='x-small')\n",
    "    # plt.savefig(con_not_con+'-species-norm-nHe20.png')\n",
    "\n",
    "\n",
    "    for i in rv_arr.keys():\n",
    "        if i not in skip_list:\n",
    "            hi = rv_arr[i][0][mask]\n",
    "            axarr[1].loglog(t,hi, label=i) \n",
    "\n",
    "\n",
    "    axarr[1].set_xlabel('Time (s)')\n",
    "    axarr[1].set_ylabel('Species abundances')\n",
    "\n",
    "    axarr[1].legend(loc='best',fontsize='x-small')\n",
    "\n",
    "\n",
    "    \n",
    "\n",
    "    de = rv_arr['de'][0][mask]\n",
    "    axarr[2].semilogx(t, (de/total_e) , label='de normalized by those from species', ls = '--', color = 'r')\n",
    "\n",
    "    axarr[2].semilogx(t, ( total_Hatoms )/ total_Hatoms[0], label = 'mass density of H atoms' )\n",
    "    \n",
    "    \n",
    "    print('de conserved?   ', de[-1]/total_e[-1])\n",
    "    print('mass conserved? ' , ( total_Hatoms[-1] )/ total_Hatoms[0])\n",
    "    \n",
    "    \n",
    "    if plot_fH:\n",
    "        axarr[2].plot(t, h1/total_Hatoms, label=\"f(H)\" )\n",
    "    print('final f(H) = {}'.format(h1[-1]/total_Hatoms[-1]) )\n",
    "    axarr[2].set_xlabel('Time (s)')\n",
    "    axarr[2].set_ylabel('mass ratio of Hydrogen atom (fH)')\n",
    "    axarr[2].legend()\n",
    "    \n",
    "    #axarr[2].set_xlim((t_min, t_max))\n",
    "    \n",
    "    T0 = rv_arr['T'][0][0]\n",
    "    f.savefig(solver_name+'_nH={:.2E}_T={:.1E}.png'.format(total_Hatoms[0], T0) )\n",
    "    plt.close(f)\n",
    "    return solver_name+'_nH={:.2E}_T={:.1E}.png'.format(total_Hatoms[0], T0)"
   ]
  },
  {
   "cell_type": "code",
   "execution_count": null,
   "metadata": {
    "collapsed": true,
    "scrolled": true
   },
   "outputs": [],
   "source": [
    "\n",
    "class my_network:\n",
    "    def __init__(self, T):\n",
    "        self.T = T\n",
    "\n",
    "from sympy import *\n",
    "\n",
    "def equi_fH(rho, T, k):\n",
    "    \n",
    "    \n",
    "    init, network = Init_values_He(T,rho, 0.0, k)\n",
    "    \n",
    "    # for i in network.required_species:\n",
    "    #     print(network.print_ccode(i))\n",
    "    #     for j in network.required_species:\n",
    "    #         print(network.print_jacobian_component(i,j))\n",
    "\n",
    "    mH = 1.0\n",
    "\n",
    "    k13 = (network.reactions['k13'])\n",
    "    k22 = (network.reactions['k22'])\n",
    "\n",
    "    temp_network = my_network(T)\n",
    "\n",
    "    k13coeff, k22coeff = (k13.coeff_fn(temp_network), k22.coeff_fn(temp_network))\n",
    "    \n",
    "\n",
    "    k13s, k22s, fHs, rhos = symbols(\" k13 k22 fH rho\")\n",
    "    expr = k13s*(1 - fHs) /2 - k22s*fHs*fHs*rhos\n",
    "    known_vals = [ (k13s, k13coeff), (k22s, k22coeff), (rhos, rho) ]\n",
    "    new_expr = expr.subs(known_vals)\n",
    "    new_expr_poly = Poly(new_expr, fHs)\n",
    "    print('Temperature now: {} K'.format(T))\n",
    "    poly_coeff = (new_expr_poly.coeffs())\n",
    "    ans = numpy.roots(poly_coeff)\n",
    "    print('fH: {}'.format(ans[ans>0]) )\n",
    "    return ans[ans>0]\n",
    "\n",
    "Temp_array = numpy.array([3.0e3])\n",
    "# in atomic mass unit! not grams\n",
    "rho = numpy.array([1.0e15])"
   ]
  },
  {
   "cell_type": "code",
   "execution_count": 7,
   "metadata": {
    "collapsed": true
   },
   "outputs": [],
   "source": [
    "def no_kth_reaction( kth = 1 ):\n",
    "\n",
    "    ith_T = numpy.array([2000.0])\n",
    "    rho = numpy.array([1.0e20])\n",
    "    \n",
    "    \n",
    "    fH = equi_fH(rho, ith_T, 0)\n",
    "\n",
    "    init, primordial = Init_values_He( ith_T , rho, fH , kth )\n",
    "\n",
    "    primordial.write_solver(\"sunny\", output_dir = \".\",\n",
    "                                init_values=init,\n",
    "                                input_is_number=False)\n",
    "\n",
    "    sunny_solver_run = pyximport.load_module(\"sunny_solver_run\",\n",
    "                                    \"sunny_solver_run.pyx\",\n",
    "                                    build_inplace = True, pyxbuild_dir = \"_dengo_temp\")\n",
    "\n",
    "\n",
    "    rv, rv_int_be_chem = sunny_solver_run.run_sunny(init, 1e14 , niter=1e5 )\n",
    "    return rv_int_be_chem\n",
    "    succ_flag = rv_int_be_chem['successful']\n",
    "    loc = numpy.arange(len(succ_flag))\n",
    "    flag = loc[succ_flag][-1]\n",
    "    \n",
    "    result = {}\n",
    "    for spe in primordial.required_species:\n",
    "        sp = spe.name\n",
    "        result[sp] = rv_int_be_chem[sp][0][flag]\n",
    "    result['t'] = rv_int_be_chem['t'][flag]\n",
    "    \n",
    "    return result"
   ]
  },
  {
   "cell_type": "code",
   "execution_count": 55,
   "metadata": {},
   "outputs": [
    {
     "name": "stdout",
     "output_type": "stream",
     "text": [
      "Adding reaction: k01 : 1*H_1 + 1*de => 1*H_2 + 2*de\n",
      "Adding reaction: k02 : 1*H_2 + 1*de => 1*H_1\n",
      "Adding reaction: k03 : 1*He_1 + 1*de => 1*He_2 + 2*de\n",
      "Adding reaction: k04 : 1*He_2 + 1*de => 1*He_1\n",
      "Adding reaction: k05 : 1*He_2 + 1*de => 1*He_3 + 2*de\n",
      "Adding reaction: k06 : 1*He_3 + 1*de => 1*He_2\n",
      "Adding reaction: k07 : 1*H_1 + 1*de => 1*H_m0\n",
      "Adding reaction: k08 : 1*H_m0 + 1*H_1 => 1*H2_1 + 1*de\n",
      "Adding reaction: k09 : 1*H_1 + 1*H_2 => 1*H2_2\n",
      "Adding reaction: k10 : 1*H2_2 + 1*H_1 => 1*H2_1 + 1*H_2\n",
      "Adding reaction: k11 : 1*H2_1 + 1*H_2 => 1*H2_2 + 1*H_1\n",
      "Adding reaction: k12 : 1*H2_1 + 1*de => 2*H_1 + 1*de\n",
      "Adding reaction: k13 : 1*H2_1 + 1*H_1 => 3*H_1\n",
      "Adding reaction: k14 : 1*H_m0 + 1*de => 1*H_1 + 2*de\n",
      "Adding reaction: k15 : 1*H_m0 + 1*H_1 => 2*H_1 + 1*de\n",
      "Adding reaction: k16 : 1*H_m0 + 1*H_2 => 2*H_1\n",
      "Adding reaction: k17 : 1*H_m0 + 1*H_2 => 1*H2_2 + 1*de\n",
      "Adding reaction: k18 : 1*H2_2 + 1*de => 2*H_1\n",
      "Adding reaction: k19 : 1*H2_2 + 1*H_m0 => 1*H_1 + 1*H2_1\n",
      "Adding reaction: k21 : 2*H_1 + 1*H2_1 => 2*H2_1\n",
      "Adding reaction: k22 : 2*H_1 + 1*H_1 => 1*H2_1 + 1*H_1\n",
      "Adding reaction: k23 : 1*H2_1 + 1*H2_1 => 2*H_1 + 1*H2_1\n",
      "Temperature now: [ 2000.] K\n",
      "fH: [ 0.99206897]\n",
      "Adding reaction: k01 : 1*H_1 + 1*de => 1*H_2 + 2*de\n",
      "Adding reaction: k02 : 1*H_2 + 1*de => 1*H_1\n",
      "Adding reaction: k03 : 1*He_1 + 1*de => 1*He_2 + 2*de\n",
      "Adding reaction: k04 : 1*He_2 + 1*de => 1*He_1\n",
      "Adding reaction: k05 : 1*He_2 + 1*de => 1*He_3 + 2*de\n",
      "Adding reaction: k06 : 1*He_3 + 1*de => 1*He_2\n",
      "Adding reaction: k07 : 1*H_1 + 1*de => 1*H_m0\n",
      "Adding reaction: k08 : 1*H_m0 + 1*H_1 => 1*H2_1 + 1*de\n",
      "Adding reaction: k09 : 1*H_1 + 1*H_2 => 1*H2_2\n",
      "Adding reaction: k10 : 1*H2_2 + 1*H_1 => 1*H2_1 + 1*H_2\n",
      "Adding reaction: k11 : 1*H2_1 + 1*H_2 => 1*H2_2 + 1*H_1\n",
      "Adding reaction: k12 : 1*H2_1 + 1*de => 2*H_1 + 1*de\n",
      "Adding reaction: k13 : 1*H2_1 + 1*H_1 => 3*H_1\n",
      "Adding reaction: k14 : 1*H_m0 + 1*de => 1*H_1 + 2*de\n",
      "Adding reaction: k15 : 1*H_m0 + 1*H_1 => 2*H_1 + 1*de\n",
      "Adding reaction: k16 : 1*H_m0 + 1*H_2 => 2*H_1\n",
      "Adding reaction: k17 : 1*H_m0 + 1*H_2 => 1*H2_2 + 1*de\n",
      "Adding reaction: k18 : 1*H2_2 + 1*de => 2*H_1\n",
      "Adding reaction: k19 : 1*H2_2 + 1*H_m0 => 1*H_1 + 1*H2_1\n",
      "Adding reaction: k21 : 2*H_1 + 1*H2_1 => 2*H2_1\n",
      "Adding reaction: k22 : 2*H_1 + 1*H_1 => 1*H2_1 + 1*H_1\n",
      "Adding reaction: k23 : 1*H2_1 + 1*H2_1 => 2*H_1 + 1*H2_1\n",
      "H2_1 4.96061273489e-11 1e-10\n",
      "H2_2 4.96061273489e-11 1e-10\n",
      "H_1 7480734326.47 7540131357.03\n",
      "H_2 9.92122546977e-11 1e-10\n",
      "H_m0 9.92122546977e-11 1e-10\n",
      "He_1 149804366.571 599607257.247\n",
      "He_2 2.49837480719e-11 1e-10\n",
      "He_3 2.49837480719e-11 1e-10\n",
      "de 1.24557371564e-10 1.24557371564e-10\n",
      "ge 2.32395979274e+11 2.32395979274e+11\n",
      "Successful iteration[    0]: (1.000e+07) 0.000e+00 / 1.000e+12\n",
      "End in 97 iterations: 1.00000e+12 / 1.00000e+12 (0.00000e+00)\n",
      "CPU times: user 750 ms, sys: 516 ms, total: 1.27 s\n",
      "Wall time: 8.21 s\n"
     ]
    }
   ],
   "source": [
    "%%time\n",
    "ith_T = numpy.array([2000.0])\n",
    "rho = numpy.array([1.0e10])\n",
    "    \n",
    "fH = equi_fH(rho, ith_T, 1.0 - 1e-5)\n",
    "fH = 1.0 - 1e-5\n",
    "init, primordial = Init_values_He( ith_T , rho, fH , 0)\n",
    "\n",
    "primordial.write_solver(\"sunny\", output_dir = \".\",\n",
    "                            init_values=init,\n",
    "                            input_is_number=False)\n",
    "\n",
    "sunny_solver_run = pyximport.load_module(\"sunny_solver_run\",\n",
    "                                \"sunny_solver_run.pyx\",\n",
    "                                build_inplace = True, pyxbuild_dir = \"_dengo_temp\")\n",
    "\n",
    "\n",
    "rv, rv_int_be_chem = sunny_solver_run.run_sunny(init, 1e12 , niter=2e5 )"
   ]
  },
  {
   "cell_type": "code",
   "execution_count": 56,
   "metadata": {},
   "outputs": [
    {
     "name": "stdout",
     "output_type": "stream",
     "text": [
      "('de conserved?   ', 1.5036430742169817)\n",
      "('mass conserved? ', 0.99999999999999711)\n",
      "final f(H) = 0.986607953803\n",
      "be_chem_solve_nH=7.54E+09_T=2.0E+03.png\n"
     ]
    },
    {
     "data": {
      "image/png": "[encoded data removed]",
      "text/plain": [
       "<IPython.core.display.Image object>"
      ]
     },
     "execution_count": 56,
     "metadata": {},
     "output_type": "execute_result"
    }
   ],
   "source": [
    "mask = rv_int_be_chem['successful']\n",
    "t_arr = rv_int_be_chem['t'][mask]\n",
    "\n",
    "png_name = make_plots( primordial, init, rv_int_be_chem, solver_name = 'be_chem_solve', t_min = t_arr[0], t_max = t_arr[1]  )\n",
    "print(png_name)\n",
    "Image(png_name)"
   ]
  },
  {
   "cell_type": "code",
   "execution_count": 57,
   "metadata": {},
   "outputs": [
    {
     "data": {
      "text/plain": [
       "array([  7.48054556e+09,   7.48033889e+09,   7.48011273e+09,\n",
       "         7.47986536e+09,   7.47959495e+09,   7.47929954e+09,\n",
       "         7.47897704e+09,   7.47862523e+09,   7.47824179e+09,\n",
       "         7.47782424e+09,   7.47737003e+09,   7.47687647e+09,\n",
       "         7.47634084e+09,   7.47576034e+09,   7.47513215e+09,\n",
       "         7.47445349e+09,   7.47372164e+09,   7.47293402e+09,\n",
       "         7.47208826e+09,   7.47118229e+09,   7.47021445e+09,\n",
       "         7.46918358e+09,   7.46808917e+09,   7.46693150e+09,\n",
       "         7.46571178e+09,   7.46443231e+09,   7.46309664e+09,\n",
       "         7.46170969e+09,   7.46027789e+09,   7.45880926e+09,\n",
       "         7.45731344e+09,   7.45580170e+09,   7.45428678e+09,\n",
       "         7.45278271e+09,   7.45130453e+09,   7.44986782e+09,\n",
       "         7.44848820e+09,   7.44718073e+09,   7.44595924e+09,\n",
       "         7.44483563e+09,   7.44381927e+09,   7.44291645e+09,\n",
       "         7.44213002e+09,   7.44145926e+09,   7.44089996e+09,\n",
       "         7.44044479e+09,   7.44008387e+09,   7.43980553e+09,\n",
       "         7.43959715e+09,   7.43944601e+09,   7.43934000e+09,\n",
       "         7.43926826e+09,   7.43922151e+09,   7.43919224e+09,\n",
       "         7.43917467e+09,   7.43916458e+09,   7.43915905e+09,\n",
       "         7.43915617e+09,   7.43915474e+09,   7.43915407e+09,\n",
       "         7.43915377e+09,   7.43915365e+09,   7.43915360e+09,\n",
       "         7.43915358e+09,   7.43915357e+09,   7.43915357e+09,\n",
       "         7.43915357e+09,   7.43915357e+09,   7.43915357e+09,\n",
       "         7.43915357e+09,   7.43915357e+09,   7.43915357e+09,\n",
       "         7.43915357e+09,   7.43915357e+09,   7.43915357e+09,\n",
       "         7.43915357e+09,   7.43915357e+09,   7.43915357e+09,\n",
       "         7.43915357e+09,   7.43915357e+09,   7.43915357e+09,\n",
       "         7.43915357e+09,   7.43915357e+09,   7.43915357e+09,\n",
       "         7.43915357e+09,   7.43915357e+09,   7.43915357e+09,\n",
       "         7.43915357e+09,   7.43915357e+09,   7.43915357e+09,\n",
       "         7.43915357e+09,   7.43915357e+09,   7.43915357e+09,\n",
       "         7.43915357e+09,   7.43915357e+09,   7.43915357e+09,\n",
       "         7.43915357e+09])"
      ]
     },
     "execution_count": 57,
     "metadata": {},
     "output_type": "execute_result"
    }
   ],
   "source": [
    "rv_int_be_chem['H_1'][0][mask]"
   ]
  },
  {
   "cell_type": "code",
   "execution_count": 58,
   "metadata": {},
   "outputs": [
    {
     "name": "stdout",
     "output_type": "stream",
     "text": [
      "Adding reaction: k01 : 1*H_1 + 1*de => 1*H_2 + 2*de\n",
      "Adding reaction: k02 : 1*H_2 + 1*de => 1*H_1\n",
      "Adding reaction: k03 : 1*He_1 + 1*de => 1*He_2 + 2*de\n",
      "Adding reaction: k04 : 1*He_2 + 1*de => 1*He_1\n",
      "Adding reaction: k05 : 1*He_2 + 1*de => 1*He_3 + 2*de\n",
      "Adding reaction: k06 : 1*He_3 + 1*de => 1*He_2\n",
      "Adding reaction: k07 : 1*H_1 + 1*de => 1*H_m0\n",
      "Adding reaction: k08 : 1*H_m0 + 1*H_1 => 1*H2_1 + 1*de\n",
      "Adding reaction: k09 : 1*H_1 + 1*H_2 => 1*H2_2\n",
      "Adding reaction: k10 : 1*H2_2 + 1*H_1 => 1*H2_1 + 1*H_2\n",
      "Adding reaction: k11 : 1*H2_1 + 1*H_2 => 1*H2_2 + 1*H_1\n",
      "Adding reaction: k12 : 1*H2_1 + 1*de => 2*H_1 + 1*de\n",
      "Adding reaction: k13 : 1*H2_1 + 1*H_1 => 3*H_1\n",
      "Adding reaction: k14 : 1*H_m0 + 1*de => 1*H_1 + 2*de\n",
      "Adding reaction: k15 : 1*H_m0 + 1*H_1 => 2*H_1 + 1*de\n",
      "Adding reaction: k16 : 1*H_m0 + 1*H_2 => 2*H_1\n",
      "Adding reaction: k17 : 1*H_m0 + 1*H_2 => 1*H2_2 + 1*de\n",
      "Adding reaction: k18 : 1*H2_2 + 1*de => 2*H_1\n",
      "Adding reaction: k19 : 1*H2_2 + 1*H_m0 => 1*H_1 + 1*H2_1\n",
      "Adding reaction: k21 : 2*H_1 + 1*H2_1 => 2*H2_1\n",
      "Adding reaction: k22 : 2*H_1 + 1*H_1 => 1*H2_1 + 1*H_1\n",
      "Adding reaction: k23 : 1*H2_1 + 1*H2_1 => 2*H_1 + 1*H2_1\n",
      "Temperature now: [ 2000.] K\n",
      "fH: [ 0.99206897]\n",
      "Adding reaction: k01 : 1*H_1 + 1*de => 1*H_2 + 2*de\n",
      "Adding reaction: k02 : 1*H_2 + 1*de => 1*H_1\n",
      "Adding reaction: k03 : 1*He_1 + 1*de => 1*He_2 + 2*de\n",
      "Adding reaction: k04 : 1*He_2 + 1*de => 1*He_1\n",
      "Adding reaction: k05 : 1*He_2 + 1*de => 1*He_3 + 2*de\n",
      "Adding reaction: k06 : 1*He_3 + 1*de => 1*He_2\n",
      "Adding reaction: k07 : 1*H_1 + 1*de => 1*H_m0\n",
      "Adding reaction: k08 : 1*H_m0 + 1*H_1 => 1*H2_1 + 1*de\n",
      "Adding reaction: k09 : 1*H_1 + 1*H_2 => 1*H2_2\n",
      "Adding reaction: k10 : 1*H2_2 + 1*H_1 => 1*H2_1 + 1*H_2\n",
      "Adding reaction: k11 : 1*H2_1 + 1*H_2 => 1*H2_2 + 1*H_1\n",
      "Adding reaction: k12 : 1*H2_1 + 1*de => 2*H_1 + 1*de\n",
      "Adding reaction: k13 : 1*H2_1 + 1*H_1 => 3*H_1\n",
      "Adding reaction: k14 : 1*H_m0 + 1*de => 1*H_1 + 2*de\n",
      "Adding reaction: k15 : 1*H_m0 + 1*H_1 => 2*H_1 + 1*de\n",
      "Adding reaction: k16 : 1*H_m0 + 1*H_2 => 2*H_1\n",
      "Adding reaction: k17 : 1*H_m0 + 1*H_2 => 1*H2_2 + 1*de\n",
      "Adding reaction: k18 : 1*H2_2 + 1*de => 2*H_1\n",
      "Adding reaction: k19 : 1*H2_2 + 1*H_m0 => 1*H_1 + 1*H2_1\n",
      "Adding reaction: k21 : 2*H_1 + 1*H2_1 => 2*H2_1\n",
      "Adding reaction: k22 : 2*H_1 + 1*H_1 => 1*H2_1 + 1*H_1\n",
      "Adding reaction: k23 : 1*H2_1 + 1*H2_1 => 2*H_1 + 1*H2_1\n",
      "final iteration: 121\n",
      "End in 121 iterations: 1.00000e+12 / 1.00000e+12 (0.00000e+00)\n",
      "CPU times: user 859 ms, sys: 516 ms, total: 1.38 s\n",
      "Wall time: 8.14 s\n"
     ]
    }
   ],
   "source": [
    "%%time\n",
    "ith_T = numpy.array([2000.0])\n",
    "rho = numpy.array([1.0e10])\n",
    "fH = equi_fH(rho, ith_T, 0)\n",
    "\n",
    "init, primordial = Init_values_He( ith_T , rho, fH, 0 )\n",
    "\n",
    "primordial.write_solver(\"sundials_time\", solver_template = \"sundials_time\", \n",
    "                    ode_solver_source = \"cvodes_solver_time.C\", \n",
    "                    output_dir = \".\",\n",
    "                        init_values=init,\n",
    "                        input_is_number=False)\n",
    "\n",
    "sundials_solver_run = pyximport.load_module(\"sundials_time_solver_run\",\n",
    "                            \"sundials_time_solver_run.pyx\",\n",
    "                            build_inplace = True, pyxbuild_dir = \"_dengo_temp\")\n",
    "rv, rv_int_sundials = sundials_solver_run.run_sundials_time(init, 1.0e12 , niter=1e6) # , dtarr = dt_arr)"
   ]
  },
  {
   "cell_type": "code",
   "execution_count": 59,
   "metadata": {
    "scrolled": false
   },
   "outputs": [
    {
     "name": "stdout",
     "output_type": "stream",
     "text": [
      "('de conserved?   ', 1.5036430742169813)\n",
      "('mass conserved? ', 0.99999999999999833)\n",
      "final f(H) = 0.986607953803\n"
     ]
    },
    {
     "data": {
      "image/png": "[encoded data removed]",
      "text/plain": [
       "<IPython.core.display.Image object>"
      ]
     },
     "execution_count": 59,
     "metadata": {},
     "output_type": "execute_result"
    }
   ],
   "source": [
    "mask = rv_int_sundials['successful']\n",
    "t_arr = rv_int_sundials['t'][mask]\n",
    "png_name = make_plots( primordial, init, rv_int_sundials, solver_name = 'ttsundials', t_min = t_arr[0], t_max = t_arr[-1])\n",
    "Image(png_name)\n",
    "\n"
   ]
  },
  {
   "cell_type": "code",
   "execution_count": 61,
   "metadata": {},
   "outputs": [
    {
     "name": "stdout",
     "output_type": "stream",
     "text": [
      "7439153569.56\n"
     ]
    },
    {
     "data": {
      "text/plain": [
       "7498220448.9008818"
      ]
     },
     "execution_count": 61,
     "metadata": {},
     "output_type": "execute_result"
    }
   ],
   "source": [
    "flag = rv_int_sundials['successful']\n",
    "print(rv_int_sundials['H_1'][0][flag][-1])\n",
    "flag = rv_int_be_chem['successful']\n",
    "rv_int_be_chem['H_1'][0][flag][-1]*1.00794"
   ]
  },
  {
   "cell_type": "code",
   "execution_count": null,
   "metadata": {},
   "outputs": [],
   "source": [
    "rv_int_sundials.keys()"
   ]
  },
  {
   "cell_type": "code",
   "execution_count": null,
   "metadata": {
    "collapsed": true
   },
   "outputs": [],
   "source": [
    "plt.hist( rv_int_sundials['t'][:-1] - rv_int_sundials['t'][1:] + (rv_int_sundials['dt'][1:]) )"
   ]
  },
  {
   "cell_type": "code",
   "execution_count": null,
   "metadata": {
    "collapsed": true
   },
   "outputs": [],
   "source": [
    "(rv_int_sundials['dt'][mask])"
   ]
  },
  {
   "cell_type": "code",
   "execution_count": null,
   "metadata": {
    "collapsed": true
   },
   "outputs": [],
   "source": [
    "# RUNTIME STATISTICS\n",
    "\n",
    "be_stat_rtime = [7.34, 7.23, 7.39, 7.97, 9.67]\n",
    "sundials_stat_rtime = [6.57,6.63, 6.56,6.71, 23.3]\n",
    "\n",
    "sundials_stat_sim_time = [1e12, 1e12, 1e12, 8.323e11, 0.136]\n",
    "be_stat_sim_time = [1e12,1e12,1e12, 1.914e10, 3.3e6]\n",
    "Temp_array = [1000,2000,3000,4000,5000]"
   ]
  },
  {
   "cell_type": "code",
   "execution_count": null,
   "metadata": {
    "collapsed": true
   },
   "outputs": [],
   "source": [
    "plt.clf()\n",
    "plt.plot(Temp_array, be_stat_rtime, label='BE run time (s)')\n",
    "plt.plot(Temp_array, sundials_stat_rtime, label='Sundials run time (s)')\n",
    "plt.xlabel('Temperature (K) at a fixed density 1e20 per cc')\n",
    "plt.ylabel('Run time (s)')\n",
    "plt.legend()\n",
    "plt.show()"
   ]
  },
  {
   "cell_type": "code",
   "execution_count": null,
   "metadata": {
    "collapsed": true
   },
   "outputs": [],
   "source": [
    "plt.clf()\n",
    "plt.semilogy(Temp_array, be_stat_sim_time, label='BE sim time (s)')\n",
    "plt.semilogy(Temp_array, sundials_stat_sim_time, label='Sundials sim time (s)')\n",
    "plt.xlabel('Temperature (K) at a fixed density 1e20 per cc')\n",
    "plt.ylabel('time passed in the simulation (s)')\n",
    "plt.legend()\n",
    "plt.show()"
   ]
  },
  {
   "cell_type": "code",
   "execution_count": null,
   "metadata": {
    "collapsed": true
   },
   "outputs": [],
   "source": [
    "plt.clf()\n",
    "fig, ax1 = plt.subplots()\n",
    "\n",
    "ax1.plot(Temp_array, be_stat_rtime, label='BE run time (s)',color='r' )\n",
    "ax1.plot(Temp_array, sundials_stat_rtime, label='Sundials run time (s)', color='r', ls='--')\n",
    "ax1.set_xlabel('Temperature (K) at a fixed density 1e20 per cc')\n",
    "ax1.set_ylabel('Wall time (s)',color='r')\n",
    "\n",
    "\n",
    "ax2 = ax1.twinx()\n",
    "ax2.semilogy(Temp_array, be_stat_sim_time, label='BE sim time (s)', color='b')\n",
    "ax2.semilogy(Temp_array, sundials_stat_sim_time, label='Sundials sim time (s)',color='b', ls = '--')\n",
    "ax2.set_xlabel('Temperature (K) at a fixed density 1e20 per cc')\n",
    "ax2.set_ylabel('time passed in the simulation (s)', color='b')\n",
    "ax1.legend(loc='best')\n",
    "fig.tight_layout()\n",
    "plt.show()"
   ]
  },
  {
   "cell_type": "code",
   "execution_count": null,
   "metadata": {},
   "outputs": [],
   "source": [
    "ith_T = numpy.array([2000.0])\n",
    "rho = numpy.array([1.0e10])\n",
    "fH = equi_fH(rho, ith_T, 0)\n",
    "\n",
    "\n",
    "fH = 1.0 -1e-5\n",
    "init, primordial = Init_values_He( ith_T , rho, fH, 0 )"
   ]
  },
  {
   "cell_type": "code",
   "execution_count": 39,
   "metadata": {},
   "outputs": [
    {
     "name": "stdout",
     "output_type": "stream",
     "text": [
      "(Species: H2_1, 9937.0080264836597)\n",
      "(Species: H2_1, array([  2.01588000e-10]), 2.01588)\n",
      "---------------------------\n",
      "(Species: H2_2, 5.3896078916166601e-18)\n",
      "(Species: H2_2, array([  2.01588000e-10]), 2.01588)\n",
      "---------------------------\n",
      "(Species: ge, 143574503619.827)\n",
      "(Species: ge, array([  1.43574504e+11]), 1.0)\n",
      "---------------------------\n",
      "(Species: He_1, 2400000000.0)\n",
      "(Species: He_1, array([  9.60624480e+09]), 4.002602)\n",
      "---------------------------\n",
      "(Species: H_m0, 4.5681482267859292e-16)\n",
      "(Species: H_m0, array([  1.00794000e-10]), 1.00794)\n",
      "---------------------------\n",
      "(Species: He_3, 9.9999999999999655e-11)\n",
      "(Species: He_3, array([  4.00260200e-10]), 4.002602)\n",
      "---------------------------\n",
      "(Species: He_2, 1.000000000000015e-10)\n",
      "(Species: He_2, array([  4.00260200e-10]), 4.002602)\n",
      "---------------------------\n",
      "(Species: H_1, 7599980125.9839048)\n",
      "(Species: H_1, array([  7.66034400e+09]), 1.00794)\n",
      "---------------------------\n",
      "(Species: de, 4.9999954318517884e-10)\n",
      "(Species: de, array([  4.00000000e-10]), 1.0)\n",
      "---------------------------\n",
      "(Species: H_2, 1.9999999461039213e-10)\n",
      "(Species: H_2, array([  1.00794000e-10]), 1.00794)\n",
      "---------------------------\n"
     ]
    }
   ],
   "source": [
    "flag = rv_int_sundials['successful']\n",
    "a = 0\n",
    "for i in primordial.required_species:\n",
    "    print(i,rv_int_sundials[i.name][0][flag][0])\n",
    "    print(i,init[i.name], i.weight)\n",
    "    print('---------------------------')\n",
    "    if i.name != 'ge':\n",
    "        a +=init[i.name]"
   ]
  },
  {
   "cell_type": "code",
   "execution_count": null,
   "metadata": {},
   "outputs": [],
   "source": [
    "rv_int_be_chem['T'][0][flag]"
   ]
  },
  {
   "cell_type": "code",
   "execution_count": null,
   "metadata": {
    "collapsed": true
   },
   "outputs": [],
   "source": []
  }
 ],
 "metadata": {
  "kernelspec": {
   "display_name": "Python 2",
   "language": "python",
   "name": "python2"
  },
  "language_info": {
   "codemirror_mode": {
    "name": "ipython",
    "version": 2
   },
   "file_extension": ".py",
   "mimetype": "text/x-python",
   "name": "python",
   "nbconvert_exporter": "python",
   "pygments_lexer": "ipython2",
   "version": "2.7.13"
  }
 },
 "nbformat": 4,
 "nbformat_minor": 2
}
