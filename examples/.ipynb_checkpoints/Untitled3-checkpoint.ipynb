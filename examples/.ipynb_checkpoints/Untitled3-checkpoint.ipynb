{
 "cells": [
  {
   "cell_type": "code",
   "execution_count": 1,
   "metadata": {
    "collapsed": true
   },
   "outputs": [],
   "source": [
    "import numpy as np"
   ]
  },
  {
   "cell_type": "code",
   "execution_count": 3,
   "metadata": {},
   "outputs": [
    {
     "name": "stdout",
     "output_type": "stream",
     "text": [
      "('Totals', 1.0000100000000001, 1.0000099999999392)\n"
     ]
    }
   ],
   "source": [
    "N = 1000\n",
    "small = np.float(1e-8)\n",
    "big = np.float(1.0)\n",
    "\n",
    "tot1 = np.float32(0.0)\n",
    "tot2 = np.float32(0.0)\n",
    "\n",
    "for i in range(N):\n",
    "    tot1 += small\n",
    "tot1 += big\n",
    "\n",
    "tot2 += big\n",
    "for i in range(N):\n",
    "    tot2 += small\n",
    "    \n",
    "print(\"Totals\",tot1,tot2)"
   ]
  },
  {
   "cell_type": "code",
   "execution_count": null,
   "metadata": {
    "collapsed": true
   },
   "outputs": [],
   "source": []
  }
 ],
 "metadata": {
  "kernelspec": {
   "display_name": "Python 2",
   "language": "python",
   "name": "python2"
  },
  "language_info": {
   "codemirror_mode": {
    "name": "ipython",
    "version": 2
   },
   "file_extension": ".py",
   "mimetype": "text/x-python",
   "name": "python",
   "nbconvert_exporter": "python",
   "pygments_lexer": "ipython2",
   "version": "2.7.13"
  }
 },
 "nbformat": 4,
 "nbformat_minor": 2
}
