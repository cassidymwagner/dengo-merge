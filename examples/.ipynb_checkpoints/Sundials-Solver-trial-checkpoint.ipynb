{
 "cells": [
  {
   "cell_type": "code",
   "execution_count": 1,
   "metadata": {},
   "outputs": [
    {
     "name": "stdout",
     "output_type": "stream",
     "text": [
      " using cli\n",
      " using CLI for selections\n"
     ]
    },
    {
     "data": {
      "text/plain": [
       "(None, <pyximport.pyximport.PyxImporter at 0x7fd88d23bf10>)"
      ]
     },
     "execution_count": 1,
     "metadata": {},
     "output_type": "execute_result"
    }
   ],
   "source": [
    "import os\n",
    "os.environ['YT_DEST'] = '/home/kwoksun2/anaconda2/pkgs/yt-3.3.5-np111py27_2/'\n",
    "import numpy as np\n",
    "from dengo.chemical_network import \\\n",
    "    ChemicalNetwork, \\\n",
    "    reaction_registry, \\\n",
    "    cooling_registry, species_registry\n",
    "import dengo.primordial_rates, dengo.primordial_cooling\n",
    "from dengo.chemistry_constants import tiny, kboltz, mh\n",
    "import yt\n",
    "import numpy\n",
    "from IPython.display import Image\n",
    "import matplotlib.pyplot as plt\n",
    "\n",
    "import pyximport\n",
    "pyximport.install(setup_args={\"include_dirs\":np.get_include()},\n",
    "                      reload_support=True, inplace=True)\n"
   ]
  },
  {
   "cell_type": "code",
   "execution_count": 2,
   "metadata": {
    "collapsed": true
   },
   "outputs": [],
   "source": [
    "def equil_values(init_values, primordial, t =3.16e13, niter= 1e5, full_output = False):\n",
    "    \n",
    "    \n",
    "    \n",
    "    primordial.write_solver(\"sunny\", output_dir = \".\",\n",
    "                            init_values=init_values,\n",
    "                            input_is_number=False)\n",
    "\n",
    "    sunny_solver_run = pyximport.load_module(\"sunny_solver_run\",\n",
    "                                \"sunny_solver_run.pyx\",\n",
    "                                build_inplace = True, pyxbuild_dir = \"_dengo_temp\")\n",
    "    rv, rv_int = sunny_solver_run.run_sunny(init_values, t, niter=niter) ;\n",
    "    \n",
    "    mask = rv_int['successful']\n",
    "    \n",
    "    if full_output:\n",
    "        return rv_int, 0\n",
    "    else:\n",
    "        return rv_int['H_1'][:, mask][:,-1] / init_values['density'], rv_int['t'][mask][-1]"
   ]
  },
  {
   "cell_type": "code",
   "execution_count": 3,
   "metadata": {
    "collapsed": true
   },
   "outputs": [],
   "source": [
    "# only two species\n",
    "\n",
    "\n",
    "def Init_values(temperature, density, fH):\n",
    "    \n",
    "    X = 1.0\n",
    "    # initialize and setup the network\n",
    "    dengo.primordial_rates.setup_primordial()\n",
    "    primordial = ChemicalNetwork()\n",
    "\n",
    "    for i in range(23):\n",
    "        try: \n",
    "            if (i+1) not in [3,4,5,6]:\n",
    "                primordial.add_reaction(\"k{0:02d}\".format(i+1))\n",
    "        except:\n",
    "            pass\n",
    "    \n",
    "    \n",
    "    primordial.init_temperature((1e0, 1e5))\n",
    "\n",
    "    tiny = 1e-20\n",
    "\n",
    "    # init_array are is in fractional abundances\n",
    "    init_array = density\n",
    "    init_values = dict()\n",
    "\n",
    "    init_values[\"H_1\"]     = density * fH \n",
    "    init_values['H_2']     = tiny*density * fH\n",
    "    init_values[\"H_m0\"]    = tiny*density * fH\n",
    "\n",
    "    init_values[\"H2_1\"]    = density * (1.0 - fH)\n",
    "    init_values[\"H2_2\"]    = tiny*density * (1.0 - fH)\n",
    "\n",
    "    # now everything in mass density\n",
    "#    init_values = primordial.convert_to_mass_density(init_values)\n",
    "    init_values['de'] = primordial.calculate_free_electrons(init_values)\n",
    "    # one signle value: again mass density\n",
    "    init_values['density'] = primordial.calculate_total_density(init_values)\n",
    "    number_density = primordial.calculate_number_density(init_values)\n",
    "\n",
    "    # set up initial temperatures values used to define ge\n",
    "    init_values['T'] = temperature\n",
    "\n",
    "    # calculate ge (very crudely, no H2 help here)\n",
    "    gamma = 5.0/3.0\n",
    "    init_values['ge'] = ((temperature * number_density * kboltz)\n",
    "                         / (init_values['density'] * mh * (gamma - 1)))\n",
    "    return init_values, primordial"
   ]
  },
  {
   "cell_type": "code",
   "execution_count": 4,
   "metadata": {
    "collapsed": true
   },
   "outputs": [],
   "source": [
    "def main(fH, temp, den , full_output = False):\n",
    "    \n",
    "    \n",
    "    temp = temp.flatten()\n",
    "    den = den.flatten()\n",
    "    \n",
    "    h_array = numpy.zeros((len(temp), len(den)))\n",
    "    t_array = numpy.zeros((len(den)))\n",
    "    \n",
    "    h_array = []\n",
    "    t_array = []\n",
    "    \n",
    "    print(den)\n",
    "    for iden, den_arr in enumerate(den):\n",
    "        \n",
    "        den_arr = numpy.ones((len(temp)))*den_arr\n",
    "        \n",
    "        init_values, primordial = Init_values(temp, den_arr, fH)\n",
    "        h_array_now, t_array_now = equil_values(init_values, primordial, full_output = full_output)\n",
    "        \n",
    "        h_array.append(h_array_now)\n",
    "        t_array.append(t_array_now)\n",
    "        \n",
    "    return h_array, t_array"
   ]
  },
  {
   "cell_type": "code",
   "execution_count": 19,
   "metadata": {
    "collapsed": true
   },
   "outputs": [],
   "source": [
    "def find_nearest(array,value):\n",
    "    idx = (np.abs(array-value)).argmin()\n",
    "    return idx\n",
    "\n",
    "def make_plots( network, init, rv_int, solver_name = 'sundials', t_min = 1e0, t_max = 1e11 ):\n",
    "    \n",
    "    rv_arr = rv_int\n",
    "    \n",
    "    mask = rv_arr['successful']\n",
    "    t    = rv_arr['t'][mask]\n",
    "    dt   = rv_arr['dt'][mask]\n",
    "\n",
    "    plt.clf()\n",
    "    skip_list = ['dt' ,'successful', 't','Ju', 'Jac']\n",
    "    hydrogen_list = ['H_1','H_2','H2_1','H2_2','H_m0']\n",
    "    \n",
    "    \n",
    "    # Calculate total electron density \n",
    "    # with the abundances from other species\n",
    "    total_e = numpy.zeros((len(t)))\n",
    "    for j in network.required_species:\n",
    "        if j.name in rv_arr.keys() and j.name not in skip_list and j.name != 'dt':\n",
    "            \n",
    "            try:\n",
    "                total_e += rv_arr[j.name][0][mask]  * j.free_electrons \n",
    "            except:\n",
    "                pass\n",
    "    \n",
    "    de = rv_arr['de'][0][mask]\n",
    "    # calculate total mass density of hydrogen\n",
    "    # conservation of mass\n",
    "    total_Hatoms = numpy.zeros((len(t)))\n",
    "    for j in network.required_species:\n",
    "        if j.name in hydrogen_list:\n",
    "            total_Hatoms += rv_arr[j.name][0][mask] *j.weight\n",
    "            \n",
    "\n",
    "    f, axarr = plt.subplots(3, sharex=True, figsize=(10,15))\n",
    "    \n",
    "    ii = 0\n",
    "    for i in rv_arr.keys():\n",
    "        if i not in skip_list:\n",
    "            \n",
    "            hi = rv_arr[i][0][mask]\n",
    "            if t_min == 1e0:\n",
    "                axarr[0].loglog(t,numpy.array(hi)/init[i][0]+ii, label=i) \n",
    "                ii+=1\n",
    "            else:\n",
    "                idx = find_nearest(t , t_min)\n",
    "                axarr[0].loglog(t[idx:] ,numpy.array(hi[idx:])/hi[idx] + ii , label=i) \n",
    "                ii+=1\n",
    "\n",
    "\n",
    "\n",
    "    h1 = rv_arr['H_1'][0][mask]\n",
    "    h2 = rv_arr['H2_1'][0][mask]\n",
    "    \n",
    "    T0 = rv_arr['T'][0][mask][0]\n",
    "    axarr[0].set_title('{}:  Temperature: {} K     Density: {} per cc '.format(solver_name, T0 , total_Hatoms[0]   ))\n",
    "    axarr[0].set_xlabel('Time (s)')\n",
    "    axarr[0].set_ylabel('Species abundances (normalized by initial values)')\n",
    "    \n",
    "    dt = rv_arr['dt'][mask]\n",
    " #   if t_min == 1e0:\n",
    " #       axarr[0].loglog(t, dt / dt[0], label=i) \n",
    " #   else:\n",
    " #       idx = find_nearest(t , t_min)\n",
    " #       axarr[0].loglog(t[idx:] ,dt[idx:] / dt[idx], label=i) \n",
    "                \n",
    "    \n",
    "\n",
    "#    de = rv_arr['de'][0][mask]\n",
    "#    axarr[0].loglog(t, total_e/de, label='de normalized by those from species', ls = '--', color = 'r')\n",
    "\n",
    "    axarr[0].legend(loc='best',fontsize='x-small')\n",
    "    # plt.savefig(con_not_con+'-species-norm-nHe20.png')\n",
    "\n",
    "\n",
    "    for i in rv_arr.keys():\n",
    "        if i not in skip_list:\n",
    "            hi = rv_arr[i][0][mask]\n",
    "            axarr[1].loglog(t,hi, label=i) \n",
    "\n",
    "\n",
    "    axarr[1].set_xlabel('Time (s)')\n",
    "    axarr[1].set_ylabel('Species abundances')\n",
    "    axarr[1].loglog(t,dt, label='dt')\n",
    "    axarr[1].loglog(t, total_e, label='de (from species)', ls = '--', color = 'r')\n",
    "\n",
    "    axarr[1].legend(loc='best',fontsize='x-small')\n",
    "\n",
    "\n",
    "    \n",
    "\n",
    "    de = rv_arr['de'][0][mask]\n",
    "    axarr[2].semilogx(t, (de/total_e) , label='de normalized by those from species', ls = '--', color = 'r')\n",
    "\n",
    "    axarr[2].semilogx(t, ( total_Hatoms )/ total_Hatoms[0], label = 'mass density of H atoms' )\n",
    "    \n",
    "    \n",
    "    print('de conserved?   ', de[-1]/total_e[-1])\n",
    "    print('mass conserved? ' , ( total_Hatoms[-1] )/ total_Hatoms[0])\n",
    "    \n",
    "    # axarr[2].plot(t, h1/total_Hatoms, label=\"f(H)\" )\n",
    "    axarr[2].set_xlabel('Time (s)')\n",
    "    axarr[2].set_ylabel('mass ratio of Hydrogen atom (fH)')\n",
    "    axarr[2].legend()\n",
    "    \n",
    "    axarr[2].set_xlim((t_min, t_max))\n",
    "    \n",
    "    T0 = rv_arr['T'][0][0]\n",
    "    f.savefig(solver_name+'_nH={:.2E}_T={:.1E}.png'.format(total_Hatoms[0], T0) )\n",
    "    plt.close(f)\n",
    "    return solver_name+'_nH={:.2E}_T={:.1E}.png'.format(total_Hatoms[0], T0)"
   ]
  },
  {
   "cell_type": "code",
   "execution_count": 6,
   "metadata": {
    "collapsed": true,
    "scrolled": true
   },
   "outputs": [],
   "source": [
    "\n",
    "class my_network:\n",
    "    def __init__(self, T):\n",
    "        self.T = T\n",
    "\n",
    "from sympy import *\n",
    "\n",
    "def equi_fH(rho, T):\n",
    "    \n",
    "    \n",
    "    init, network = Init_values(T,rho, 0.0)\n",
    "    \n",
    "    # for i in network.required_species:\n",
    "    #     print(network.print_ccode(i))\n",
    "    #     for j in network.required_species:\n",
    "    #         print(network.print_jacobian_component(i,j))\n",
    "\n",
    "    mH = 1.0\n",
    "\n",
    "    k13 = (network.reactions['k13'])\n",
    "    k22 = (network.reactions['k22'])\n",
    "\n",
    "    temp_network = my_network(T)\n",
    "\n",
    "    k13coeff, k22coeff = (k13.coeff_fn(temp_network), k22.coeff_fn(temp_network))\n",
    "    \n",
    "\n",
    "    k13s, k22s, fHs, rhos = symbols(\" k13 k22 fH rho\")\n",
    "    expr = k13s*(1 - fHs) /2 - k22s*fHs*fHs*rhos\n",
    "    known_vals = [ (k13s, k13coeff), (k22s, k22coeff), (rhos, rho) ]\n",
    "    new_expr = expr.subs(known_vals)\n",
    "    new_expr_poly = Poly(new_expr, fHs)\n",
    "    print('Temperature now: {} K'.format(T))\n",
    "    poly_coeff = (new_expr_poly.coeffs())\n",
    "    ans = numpy.roots(poly_coeff)\n",
    "    print('fH: {}'.format(ans[ans>0]) )\n",
    "    return ans[ans>0]\n",
    "\n",
    "Temp_array = numpy.array([3.0e3])\n",
    "# in atomic mass unit! not grams\n",
    "rho = numpy.array([1.0e15])"
   ]
  },
  {
   "cell_type": "code",
   "execution_count": 7,
   "metadata": {},
   "outputs": [
    {
     "name": "stdout",
     "output_type": "stream",
     "text": [
      "Adding reaction: k01 : 1*H_1 + 1*de => 1*H_2 + 2*de\n",
      "Adding reaction: k02 : 1*H_2 + 1*de => 1*H_1\n",
      "Adding reaction: k07 : 1*H_1 + 1*de => 1*H_m0\n",
      "Adding reaction: k08 : 1*H_m0 + 1*H_1 => 1*H2_1 + 1*de\n",
      "Adding reaction: k09 : 1*H_1 + 1*H_2 => 1*H2_2\n",
      "Adding reaction: k10 : 1*H2_2 + 1*H_1 => 1*H2_1 + 1*H_2\n",
      "Adding reaction: k11 : 1*H2_1 + 1*H_2 => 1*H2_2 + 1*H_1\n",
      "Adding reaction: k12 : 1*H2_1 + 1*de => 2*H_1 + 1*de\n",
      "Adding reaction: k13 : 1*H2_1 + 1*H_1 => 3*H_1\n",
      "Adding reaction: k14 : 1*H_m0 + 1*de => 1*H_1 + 2*de\n",
      "Adding reaction: k15 : 1*H_m0 + 1*H_1 => 2*H_1 + 1*de\n",
      "Adding reaction: k16 : 1*H_m0 + 1*H_2 => 2*H_1\n",
      "Adding reaction: k17 : 1*H_m0 + 1*H_2 => 1*H2_2 + 1*de\n",
      "Adding reaction: k18 : 1*H2_2 + 1*de => 2*H_1\n",
      "Adding reaction: k19 : 1*H2_2 + 1*H_m0 => 1*H_1 + 1*H2_1\n",
      "Adding reaction: k21 : 2*H_1 + 1*H2_1 => 2*H2_1\n",
      "Adding reaction: k22 : 2*H_1 + 1*H_1 => 1*H2_1 + 1*H_1\n",
      "Adding reaction: k23 : 1*H2_1 + 1*H2_1 => 2*H_1 + 1*H2_1\n",
      "Temperature now: [ 3000.] K\n",
      "fH: [ 0.00938032]\n",
      "Adding reaction: k01 : 1*H_1 + 1*de => 1*H_2 + 2*de\n",
      "Adding reaction: k02 : 1*H_2 + 1*de => 1*H_1\n",
      "Adding reaction: k07 : 1*H_1 + 1*de => 1*H_m0\n",
      "Adding reaction: k08 : 1*H_m0 + 1*H_1 => 1*H2_1 + 1*de\n",
      "Adding reaction: k09 : 1*H_1 + 1*H_2 => 1*H2_2\n",
      "Adding reaction: k10 : 1*H2_2 + 1*H_1 => 1*H2_1 + 1*H_2\n",
      "Adding reaction: k11 : 1*H2_1 + 1*H_2 => 1*H2_2 + 1*H_1\n",
      "Adding reaction: k12 : 1*H2_1 + 1*de => 2*H_1 + 1*de\n",
      "Adding reaction: k13 : 1*H2_1 + 1*H_1 => 3*H_1\n",
      "Adding reaction: k14 : 1*H_m0 + 1*de => 1*H_1 + 2*de\n",
      "Adding reaction: k15 : 1*H_m0 + 1*H_1 => 2*H_1 + 1*de\n",
      "Adding reaction: k16 : 1*H_m0 + 1*H_2 => 2*H_1\n",
      "Adding reaction: k17 : 1*H_m0 + 1*H_2 => 1*H2_2 + 1*de\n",
      "Adding reaction: k18 : 1*H2_2 + 1*de => 2*H_1\n",
      "Adding reaction: k19 : 1*H2_2 + 1*H_m0 => 1*H_1 + 1*H2_1\n",
      "Adding reaction: k21 : 2*H_1 + 1*H2_1 => 2*H2_1\n",
      "Adding reaction: k22 : 2*H_1 + 1*H_1 => 1*H2_1 + 1*H_1\n",
      "Adding reaction: k23 : 1*H2_1 + 1*H2_1 => 2*H_1 + 1*H2_1\n",
      "H2_1 4.91408057801e+19 9.9061967556e+19\n",
      "H2_2 0.491408057801 0.99061967556\n",
      "H_1 9.30643137523e+17 9.38032444035e+17\n",
      "H_2 0.00930643137523 0.00938032444035\n",
      "H_m0 0.00930643137523 0.00938032444035\n",
      "de 0.491408057801 0.491408057801\n",
      "ge 1.86193831005e+11 1.86193831005e+11\n",
      "End in 513 iterations: 1.00000e+12 / 1.00000e+12 (0.00000e+00)\n",
      "CPU times: user 1.38 s, sys: 1.41 s, total: 2.78 s\n",
      "Wall time: 13.8 s\n"
     ]
    }
   ],
   "source": [
    "%%time\n",
    "\n",
    "\n",
    "\n",
    "ith_T = numpy.array([3000.0])\n",
    "rho = numpy.array([1.0e20])\n",
    "fH = equi_fH(rho, ith_T)\n",
    "\n",
    "init, primordial = Init_values( ith_T , rho, fH )\n",
    "\n",
    "primordial.write_solver(\"sunny\", output_dir = \".\",\n",
    "                            init_values=init,\n",
    "                            input_is_number=False)\n",
    "\n",
    "sunny_solver_run = pyximport.load_module(\"sunny_solver_run\",\n",
    "                                \"sunny_solver_run.pyx\",\n",
    "                                build_inplace = True, pyxbuild_dir = \"_dengo_temp\")\n",
    "\n",
    "\n",
    "rv, rv_int_be_chem = sunny_solver_run.run_sunny(init, 1e12 , niter=1e3 )"
   ]
  },
  {
   "cell_type": "code",
   "execution_count": 8,
   "metadata": {},
   "outputs": [
    {
     "name": "stdout",
     "output_type": "stream",
     "text": [
      "('de conserved?   ', 1.019133632631255)\n",
      "('mass conserved? ', 1.0000000000057165)\n",
      "be_chem_solve_nH=1.00E+20_T=3.0E+03.png\n"
     ]
    },
    {
     "data": {
      "image/png": "[encoded data removed]",
      "text/plain": [
       "<IPython.core.display.Image object>"
      ]
     },
     "execution_count": 8,
     "metadata": {},
     "output_type": "execute_result"
    }
   ],
   "source": [
    "mask = rv_int_be_chem['successful']\n",
    "t_arr = rv_int_be_chem['t'][mask]\n",
    "\n",
    "png_name = make_plots( primordial, init, rv_int_be_chem, solver_name = 'be_chem_solve', t_min = t_arr[0], t_max = t_arr[-1]  )\n",
    "print(png_name)\n",
    "Image(png_name)"
   ]
  },
  {
   "cell_type": "code",
   "execution_count": null,
   "metadata": {
    "collapsed": true
   },
   "outputs": [],
   "source": [
    "%%time\n",
    "ith_T = numpy.array([5000.0])\n",
    "rho = numpy.array([1.0e20])\n",
    "fH = equi_fH(rho, ith_T)\n",
    "\n",
    "init, primordial = Init_values( ith_T , rho, fH )\n",
    "\n",
    "primordial.write_solver(\"sundials_time\", solver_template = \"sundials_time\", \n",
    "                    ode_solver_source = \"cvodes_solver_time.C\", \n",
    "                    output_dir = \".\",\n",
    "                        init_values=init,\n",
    "                        input_is_number=False)\n",
    "\n",
    "sundials_solver_run = pyximport.load_module(\"sundials_time_solver_run\",\n",
    "                            \"sundials_time_solver_run.pyx\",\n",
    "                            build_inplace = True, pyxbuild_dir = \"_dengo_temp\")\n",
    "rv, rv_int_sundials = sundials_solver_run.run_sundials_time(init, 1.0e12 , niter=1e4) # , dtarr = dt_arr)"
   ]
  },
  {
   "cell_type": "code",
   "execution_count": null,
   "metadata": {
    "collapsed": true,
    "scrolled": false
   },
   "outputs": [],
   "source": [
    "mask = rv_int_sundials['successful']\n",
    "t_arr = rv_int_sundials['t'][mask]\n",
    "png_name = make_plots( primordial, init, rv_int_sundials, solver_name = 'ttsundials', t_min = t_arr[0], t_max = t_arr[-1])\n",
    "Image(png_name)\n",
    "\n"
   ]
  },
  {
   "cell_type": "code",
   "execution_count": null,
   "metadata": {
    "collapsed": true
   },
   "outputs": [],
   "source": [
    "mask = (rv_int_sundials['successful'])\n",
    "mask[mask]\n"
   ]
  },
  {
   "cell_type": "code",
   "execution_count": null,
   "metadata": {
    "collapsed": true
   },
   "outputs": [],
   "source": [
    "plt.hist( rv_int_sundials['t'][:-1] - rv_int_sundials['t'][1:] + (rv_int_sundials['dt'][1:]) )"
   ]
  },
  {
   "cell_type": "code",
   "execution_count": null,
   "metadata": {
    "collapsed": true
   },
   "outputs": [],
   "source": [
    "(rv_int_sundials['dt'][mask])"
   ]
  },
  {
   "cell_type": "code",
   "execution_count": null,
   "metadata": {
    "collapsed": true
   },
   "outputs": [],
   "source": [
    "# RUNTIME STATISTICS\n",
    "\n",
    "be_stat_rtime = [7.34, 7.23, 7.39, 7.97, 9.67]\n",
    "sundials_stat_rtime = [6.57,6.63, 6.56,6.71, 23.3]\n",
    "\n",
    "sundials_stat_sim_time = [1e12, 1e12, 1e12, 8.323e11, 0.136]\n",
    "be_stat_sim_time = [1e12,1e12,1e12, 1.914e10, 3.3e6]\n",
    "Temp_array = [1000,2000,3000,4000,5000]"
   ]
  },
  {
   "cell_type": "code",
   "execution_count": null,
   "metadata": {
    "collapsed": true
   },
   "outputs": [],
   "source": [
    "plt.clf()\n",
    "plt.plot(Temp_array, be_stat_rtime, label='BE run time (s)')\n",
    "plt.plot(Temp_array, sundials_stat_rtime, label='Sundials run time (s)')\n",
    "plt.xlabel('Temperature (K) at a fixed density 1e20 per cc')\n",
    "plt.ylabel('Run time (s)')\n",
    "plt.legend()\n",
    "plt.show()"
   ]
  },
  {
   "cell_type": "code",
   "execution_count": null,
   "metadata": {
    "collapsed": true
   },
   "outputs": [],
   "source": [
    "plt.clf()\n",
    "plt.semilogy(Temp_array, be_stat_sim_time, label='BE sim time (s)')\n",
    "plt.semilogy(Temp_array, sundials_stat_sim_time, label='Sundials sim time (s)')\n",
    "plt.xlabel('Temperature (K) at a fixed density 1e20 per cc')\n",
    "plt.ylabel('time passed in the simulation (s)')\n",
    "plt.legend()\n",
    "plt.show()"
   ]
  },
  {
   "cell_type": "code",
   "execution_count": null,
   "metadata": {
    "collapsed": true
   },
   "outputs": [],
   "source": [
    "plt.clf()\n",
    "fig, ax1 = plt.subplots()\n",
    "\n",
    "ax1.plot(Temp_array, be_stat_rtime, label='BE run time (s)',color='r' )\n",
    "ax1.plot(Temp_array, sundials_stat_rtime, label='Sundials run time (s)', color='r', ls='--')\n",
    "ax1.set_xlabel('Temperature (K) at a fixed density 1e20 per cc')\n",
    "ax1.set_ylabel('Wall time (s)',color='r')\n",
    "\n",
    "\n",
    "ax2 = ax1.twinx()\n",
    "ax2.semilogy(Temp_array, be_stat_sim_time, label='BE sim time (s)', color='b')\n",
    "ax2.semilogy(Temp_array, sundials_stat_sim_time, label='Sundials sim time (s)',color='b', ls = '--')\n",
    "ax2.set_xlabel('Temperature (K) at a fixed density 1e20 per cc')\n",
    "ax2.set_ylabel('time passed in the simulation (s)', color='b')\n",
    "ax1.legend(loc='best')\n",
    "fig.tight_layout()\n",
    "plt.show()"
   ]
  },
  {
   "cell_type": "code",
   "execution_count": null,
   "metadata": {
    "collapsed": true
   },
   "outputs": [],
   "source": [
    "plt.scatter(range(len(primordial.T)), primordial.T)\n",
    "plt.xscale('log')\n",
    "plt.yscale('log')\n",
    "plt.show()"
   ]
  },
  {
   "cell_type": "code",
   "execution_count": null,
   "metadata": {
    "collapsed": true
   },
   "outputs": [],
   "source": [
    "len(primordial.T)"
   ]
  },
  {
   "cell_type": "code",
   "execution_count": null,
   "metadata": {
    "collapsed": true
   },
   "outputs": [],
   "source": [
    "primordial.T[primordial.T < 6000]"
   ]
  },
  {
   "cell_type": "code",
   "execution_count": null,
   "metadata": {
    "collapsed": true
   },
   "outputs": [],
   "source": [
    "eq = Integer(0)\n",
    "for sp in primordial.required_species:\n",
    "    try:\n",
    "        \n",
    "        eq = eq +( primordial.species_total(sp) )\n",
    "        if sp.name == 'de':\n",
    "            # eq = eq - ( primordial.species_total(sp) )\n",
    "            print(eq)\n",
    "        print('_____________________{}_________________'.format(sp.name))\n",
    "    except:\n",
    "        pass"
   ]
  },
  {
   "cell_type": "code",
   "execution_count": null,
   "metadata": {
    "collapsed": true
   },
   "outputs": [],
   "source": [
    "eq"
   ]
  },
  {
   "cell_type": "code",
   "execution_count": null,
   "metadata": {
    "collapsed": true
   },
   "outputs": [],
   "source": [
    "(primordial.required_species)"
   ]
  },
  {
   "cell_type": "code",
   "execution_count": null,
   "metadata": {
    "collapsed": true
   },
   "outputs": [],
   "source": [
    "i = 3\n",
    "print(elements[i])\n",
    "print(primordial.species_total(elements[i]))\n",
    "diff( primordial.species_total(elements[i]), elements[3].name )"
   ]
  },
  {
   "cell_type": "code",
   "execution_count": null,
   "metadata": {
    "collapsed": true
   },
   "outputs": [],
   "source": [
    "print( primordial.print_jacobian_component(elements[i], elements[i]) )\n",
    "print( primordial.print_jacobian_component(elements[3], elements[i]) )"
   ]
  },
  {
   "cell_type": "code",
   "execution_count": null,
   "metadata": {
    "collapsed": true
   },
   "outputs": [],
   "source": [
    "elements"
   ]
  },
  {
   "cell_type": "code",
   "execution_count": null,
   "metadata": {
    "collapsed": true
   },
   "outputs": [],
   "source": [
    "primordial.species_total('H_2')"
   ]
  },
  {
   "cell_type": "code",
   "execution_count": null,
   "metadata": {
    "collapsed": true
   },
   "outputs": [],
   "source": [
    "for i in range(23):\n",
    "    try: \n",
    "        if (i+1) not in [3,4,5,6]:\n",
    "            rxn = primordial.reactions['k{0:02d}'.format(i+1) \n",
    "            coeff = rxn.coeff_fn(primordial)\n",
    "            T = primordial.T\n",
    "            plt.loglog(T, coeff, label = 'k{0:02d}'.format(i+1) )\n",
    "    except:\n",
    "        pass\n",
    "\n",
    "plt.legend()\n",
    "plt.show()"
   ]
  },
  {
   "cell_type": "code",
   "execution_count": null,
   "metadata": {
    "collapsed": true
   },
   "outputs": [],
   "source": [
    "idx_min = find_nearest(T , 4000)\n",
    "idx_max = find_nearest(T , 6000)"
   ]
  },
  {
   "cell_type": "code",
   "execution_count": null,
   "metadata": {
    "collapsed": true
   },
   "outputs": [],
   "source": [
    "rxn = primordial.reactions['k01']"
   ]
  },
  {
   "cell_type": "code",
   "execution_count": null,
   "metadata": {
    "collapsed": true
   },
   "outputs": [],
   "source": [
    "rxn.left_side"
   ]
  },
  {
   "cell_type": "code",
   "execution_count": null,
   "metadata": {
    "collapsed": true
   },
   "outputs": [],
   "source": [
    "plt.semilogx(rv_int_sundials['de'][0])\n",
    "plt.show()"
   ]
  },
  {
   "cell_type": "code",
   "execution_count": null,
   "metadata": {
    "collapsed": true
   },
   "outputs": [],
   "source": [
    "for i in range(23):\n",
    "    try: \n",
    "        if (i+1) not in [3,4,5,6]:\n",
    "            rxn = primordial.reactions['k{0:02d}'.format(i+1) ]\n",
    "            for n, sname in rxn.left_side:\n",
    "                if sname.name in [\"H2_2\", \"de\", \"H_m0\"]:\n",
    "                    print(rxn)\n",
    "                    break\n",
    "                for n, sname in rxn.right_side:\n",
    "                    if sname.name in [\"H2_2\", \"de\", \"H_m0\"]:\n",
    "                        print(rxn)\n",
    "                        break\n",
    "    except:\n",
    "        pass"
   ]
  },
  {
   "cell_type": "code",
   "execution_count": null,
   "metadata": {
    "collapsed": true
   },
   "outputs": [],
   "source": [
    "eq = primordial.species_total('H2_2')"
   ]
  },
  {
   "cell_type": "code",
   "execution_count": null,
   "metadata": {
    "collapsed": true
   },
   "outputs": [],
   "source": [
    "eq -= primordial.species_total('de')"
   ]
  },
  {
   "cell_type": "code",
   "execution_count": null,
   "metadata": {
    "collapsed": true
   },
   "outputs": [],
   "source": [
    "eq -= primordial.species_total('H_m0')"
   ]
  },
  {
   "cell_type": "code",
   "execution_count": null,
   "metadata": {
    "collapsed": true
   },
   "outputs": [],
   "source": [
    "rxn_rate = []\n",
    "idx_T = find_nearest(primordial.T,6000)\n",
    "for i in range(23):\n",
    "    try: \n",
    "        if (i+1) in [ 9, 10, 11, 17, 18, 19 ]:\n",
    "            rxn = primordial.reactions['k{0:02d}'.format(i+1) ]\n",
    "            for rxn.left_side\n",
    "            rxn_rate.append( rxn.coeff_fn(primordial)[idx_T] *  )\n",
    "    except:\n",
    "        pass"
   ]
  },
  {
   "cell_type": "code",
   "execution_count": null,
   "metadata": {
    "collapsed": true
   },
   "outputs": [],
   "source": [
    "rxn.right_side"
   ]
  },
  {
   "cell_type": "code",
   "execution_count": null,
   "metadata": {
    "collapsed": true
   },
   "outputs": [],
   "source": [
    "eq = symbols(\"0\")"
   ]
  },
  {
   "cell_type": "code",
   "execution_count": null,
   "metadata": {
    "collapsed": true
   },
   "outputs": [],
   "source": [
    "eq -= primordial.species_total('H_2')"
   ]
  },
  {
   "cell_type": "code",
   "execution_count": null,
   "metadata": {
    "collapsed": true
   },
   "outputs": [],
   "source": [
    "eq = symbols(\"0\")\n",
    "\n",
    "atom_no = [0,2,1,2,1,0,1]\n",
    "\n",
    "for idx, i in enumerate(primordial.required_species):\n",
    "    \n",
    "    if i.name not in [\"ge\", \"de\"]:\n",
    "        # print(eq)\n",
    "        eq += primordial.species_total(i.name)\n",
    "print(eq)"
   ]
  },
  {
   "cell_type": "code",
   "execution_count": null,
   "metadata": {
    "collapsed": true
   },
   "outputs": [],
   "source": [
    "eq"
   ]
  },
  {
   "cell_type": "code",
   "execution_count": null,
   "metadata": {
    "collapsed": true
   },
   "outputs": [],
   "source": [
    "primordial.required_species"
   ]
  },
  {
   "cell_type": "code",
   "execution_count": 47,
   "metadata": {},
   "outputs": [
    {
     "name": "stdout",
     "output_type": "stream",
     "text": [
      "final iteration: 67\n",
      "End in 67 iterations: 1.00920e+12 / 1.00000e+15 (9.98991e+14)\n"
     ]
    }
   ],
   "source": [
    "sundials_solver_run = pyximport.load_module(\"sundials_time_solver_run\",\n",
    "                            \"sundials_time_solver_run.pyx\",\n",
    "                            build_inplace = True, pyxbuild_dir = \"_dengo_temp\")\n",
    "rv, rv_int_sundials = sundials_solver_run.run_sundials_time(init, 1.0e15 , niter=1e3) # , dtarr = dt_arr)"
   ]
  },
  {
   "cell_type": "code",
   "execution_count": 48,
   "metadata": {},
   "outputs": [
    {
     "name": "stdout",
     "output_type": "stream",
     "text": [
      "('de conserved?   ', 1.0)\n",
      "('mass conserved? ', 1.0)\n"
     ]
    },
    {
     "data": {
      "image/png": "[encoded data removed]",
      "text/plain": [
       "<IPython.core.display.Image object>"
      ]
     },
     "execution_count": 48,
     "metadata": {},
     "output_type": "execute_result"
    }
   ],
   "source": [
    "mask = rv_int_sundials['successful']\n",
    "t_arr = rv_int_sundials['t'][mask]\n",
    "png_name = make_plots( primordial, init, rv_int_sundials, solver_name = 'ttsundials', t_min = t_arr[0], t_max = t_arr[-1])\n",
    "Image(png_name)"
   ]
  },
  {
   "cell_type": "code",
   "execution_count": 102,
   "metadata": {},
   "outputs": [
    {
     "data": {
      "image/png": "[encoded data removed]",
      "text/plain": [
       "<matplotlib.figure.Figure at 0x7f2c1b871a90>"
      ]
     },
     "metadata": {},
     "output_type": "display_data"
    },
    {
     "ename": "TypeError",
     "evalue": "Image data can not convert to float",
     "output_type": "error",
     "traceback": [
      "\u001b[0;31m---------------------------------------------------------------------------\u001b[0m",
      "\u001b[0;31mTypeError\u001b[0m                                 Traceback (most recent call last)",
      "\u001b[0;32m<ipython-input-102-f875b6788cdb>\u001b[0m in \u001b[0;36m<module>\u001b[0;34m()\u001b[0m\n\u001b[1;32m      4\u001b[0m \u001b[0;34m\u001b[0m\u001b[0m\n\u001b[1;32m      5\u001b[0m \u001b[0;34m\u001b[0m\u001b[0m\n\u001b[0;32m----> 6\u001b[0;31m \u001b[0mplt\u001b[0m\u001b[0;34m.\u001b[0m\u001b[0mimshow\u001b[0m\u001b[0;34m(\u001b[0m \u001b[0;34m(\u001b[0m\u001b[0mw\u001b[0m\u001b[0;34m*\u001b[0m\u001b[0mv\u001b[0m\u001b[0;34m)\u001b[0m \u001b[0;34m,\u001b[0m\u001b[0morigin\u001b[0m\u001b[0;34m=\u001b[0m\u001b[0;34m'lower'\u001b[0m\u001b[0;34m)\u001b[0m\u001b[0;34m\u001b[0m\u001b[0m\n\u001b[0m\u001b[1;32m      7\u001b[0m \u001b[0mplt\u001b[0m\u001b[0;34m.\u001b[0m\u001b[0mcolorbar\u001b[0m\u001b[0;34m(\u001b[0m\u001b[0;34m)\u001b[0m\u001b[0;34m\u001b[0m\u001b[0m\n\u001b[1;32m      8\u001b[0m \u001b[0mplt\u001b[0m\u001b[0;34m.\u001b[0m\u001b[0mshow\u001b[0m\u001b[0;34m(\u001b[0m\u001b[0;34m)\u001b[0m\u001b[0;34m\u001b[0m\u001b[0m\n",
      "\u001b[0;32m/home/kwoksun2/anaconda2/lib/python2.7/site-packages/matplotlib/pyplot.pyc\u001b[0m in \u001b[0;36mimshow\u001b[0;34m(X, cmap, norm, aspect, interpolation, alpha, vmin, vmax, origin, extent, shape, filternorm, filterrad, imlim, resample, url, hold, data, **kwargs)\u001b[0m\n\u001b[1;32m   3155\u001b[0m                         \u001b[0mfilternorm\u001b[0m\u001b[0;34m=\u001b[0m\u001b[0mfilternorm\u001b[0m\u001b[0;34m,\u001b[0m \u001b[0mfilterrad\u001b[0m\u001b[0;34m=\u001b[0m\u001b[0mfilterrad\u001b[0m\u001b[0;34m,\u001b[0m\u001b[0;34m\u001b[0m\u001b[0m\n\u001b[1;32m   3156\u001b[0m                         \u001b[0mimlim\u001b[0m\u001b[0;34m=\u001b[0m\u001b[0mimlim\u001b[0m\u001b[0;34m,\u001b[0m \u001b[0mresample\u001b[0m\u001b[0;34m=\u001b[0m\u001b[0mresample\u001b[0m\u001b[0;34m,\u001b[0m \u001b[0murl\u001b[0m\u001b[0;34m=\u001b[0m\u001b[0murl\u001b[0m\u001b[0;34m,\u001b[0m \u001b[0mdata\u001b[0m\u001b[0;34m=\u001b[0m\u001b[0mdata\u001b[0m\u001b[0;34m,\u001b[0m\u001b[0;34m\u001b[0m\u001b[0m\n\u001b[0;32m-> 3157\u001b[0;31m                         **kwargs)\n\u001b[0m\u001b[1;32m   3158\u001b[0m     \u001b[0;32mfinally\u001b[0m\u001b[0;34m:\u001b[0m\u001b[0;34m\u001b[0m\u001b[0m\n\u001b[1;32m   3159\u001b[0m         \u001b[0max\u001b[0m\u001b[0;34m.\u001b[0m\u001b[0m_hold\u001b[0m \u001b[0;34m=\u001b[0m \u001b[0mwashold\u001b[0m\u001b[0;34m\u001b[0m\u001b[0m\n",
      "\u001b[0;32m/home/kwoksun2/anaconda2/lib/python2.7/site-packages/matplotlib/__init__.pyc\u001b[0m in \u001b[0;36minner\u001b[0;34m(ax, *args, **kwargs)\u001b[0m\n\u001b[1;32m   1896\u001b[0m                     warnings.warn(msg % (label_namer, func.__name__),\n\u001b[1;32m   1897\u001b[0m                                   RuntimeWarning, stacklevel=2)\n\u001b[0;32m-> 1898\u001b[0;31m             \u001b[0;32mreturn\u001b[0m \u001b[0mfunc\u001b[0m\u001b[0;34m(\u001b[0m\u001b[0max\u001b[0m\u001b[0;34m,\u001b[0m \u001b[0;34m*\u001b[0m\u001b[0margs\u001b[0m\u001b[0;34m,\u001b[0m \u001b[0;34m**\u001b[0m\u001b[0mkwargs\u001b[0m\u001b[0;34m)\u001b[0m\u001b[0;34m\u001b[0m\u001b[0m\n\u001b[0m\u001b[1;32m   1899\u001b[0m         \u001b[0mpre_doc\u001b[0m \u001b[0;34m=\u001b[0m \u001b[0minner\u001b[0m\u001b[0;34m.\u001b[0m\u001b[0m__doc__\u001b[0m\u001b[0;34m\u001b[0m\u001b[0m\n\u001b[1;32m   1900\u001b[0m         \u001b[0;32mif\u001b[0m \u001b[0mpre_doc\u001b[0m \u001b[0;32mis\u001b[0m \u001b[0mNone\u001b[0m\u001b[0;34m:\u001b[0m\u001b[0;34m\u001b[0m\u001b[0m\n",
      "\u001b[0;32m/home/kwoksun2/anaconda2/lib/python2.7/site-packages/matplotlib/axes/_axes.pyc\u001b[0m in \u001b[0;36mimshow\u001b[0;34m(self, X, cmap, norm, aspect, interpolation, alpha, vmin, vmax, origin, extent, shape, filternorm, filterrad, imlim, resample, url, **kwargs)\u001b[0m\n\u001b[1;32m   5122\u001b[0m                               resample=resample, **kwargs)\n\u001b[1;32m   5123\u001b[0m \u001b[0;34m\u001b[0m\u001b[0m\n\u001b[0;32m-> 5124\u001b[0;31m         \u001b[0mim\u001b[0m\u001b[0;34m.\u001b[0m\u001b[0mset_data\u001b[0m\u001b[0;34m(\u001b[0m\u001b[0mX\u001b[0m\u001b[0;34m)\u001b[0m\u001b[0;34m\u001b[0m\u001b[0m\n\u001b[0m\u001b[1;32m   5125\u001b[0m         \u001b[0mim\u001b[0m\u001b[0;34m.\u001b[0m\u001b[0mset_alpha\u001b[0m\u001b[0;34m(\u001b[0m\u001b[0malpha\u001b[0m\u001b[0;34m)\u001b[0m\u001b[0;34m\u001b[0m\u001b[0m\n\u001b[1;32m   5126\u001b[0m         \u001b[0;32mif\u001b[0m \u001b[0mim\u001b[0m\u001b[0;34m.\u001b[0m\u001b[0mget_clip_path\u001b[0m\u001b[0;34m(\u001b[0m\u001b[0;34m)\u001b[0m \u001b[0;32mis\u001b[0m \u001b[0mNone\u001b[0m\u001b[0;34m:\u001b[0m\u001b[0;34m\u001b[0m\u001b[0m\n",
      "\u001b[0;32m/home/kwoksun2/anaconda2/lib/python2.7/site-packages/matplotlib/image.pyc\u001b[0m in \u001b[0;36mset_data\u001b[0;34m(self, A)\u001b[0m\n\u001b[1;32m    594\u001b[0m         if (self._A.dtype != np.uint8 and\n\u001b[1;32m    595\u001b[0m                 not np.can_cast(self._A.dtype, np.float)):\n\u001b[0;32m--> 596\u001b[0;31m             \u001b[0;32mraise\u001b[0m \u001b[0mTypeError\u001b[0m\u001b[0;34m(\u001b[0m\u001b[0;34m\"Image data can not convert to float\"\u001b[0m\u001b[0;34m)\u001b[0m\u001b[0;34m\u001b[0m\u001b[0m\n\u001b[0m\u001b[1;32m    597\u001b[0m \u001b[0;34m\u001b[0m\u001b[0m\n\u001b[1;32m    598\u001b[0m         if (self._A.ndim not in (2, 3) or\n",
      "\u001b[0;31mTypeError\u001b[0m: Image data can not convert to float"
     ]
    }
   ],
   "source": [
    "plt.imshow( numpy.array(rv_int_sundials['Jac'] ), origin='lower')\n",
    "plt.colorbar()\n",
    "plt.show()\n",
    "\n",
    "\n",
    "plt.imshow( (w*v) ,origin='lower')\n",
    "plt.colorbar()\n",
    "plt.show()"
   ]
  },
  {
   "cell_type": "code",
   "execution_count": 44,
   "metadata": {},
   "outputs": [
    {
     "name": "stdout",
     "output_type": "stream",
     "text": [
      "[[  6.94506555e-310   3.75796844e-316   0.00000000e+000  -7.63277803e+283\n",
      "    6.94506634e-310   6.94506623e-310   0.00000000e+000]\n",
      " [  0.00000000e+000   0.00000000e+000   0.00000000e+000   0.00000000e+000\n",
      "    0.00000000e+000   1.65169957e-220   6.94506635e-310]\n",
      " [  6.94505687e-310  -3.39981117e-158   6.94505687e-310   6.94498057e-310\n",
      "    5.41141341e-041   6.94505687e-310   6.94498057e-310]\n",
      " [  0.00000000e+000   0.00000000e+000   0.00000000e+000  -3.67112871e-197\n",
      "    6.94506634e-310   6.94498073e-310   2.99382801e+052]\n",
      " [  6.94506181e-310   6.94497990e-310   0.00000000e+000   0.00000000e+000\n",
      "    0.00000000e+000   4.42201243e+096   6.94506635e-310]\n",
      " [  6.94498073e-310   1.79989302e-302   6.94505687e-310   6.94498057e-310\n",
      "    0.00000000e+000   0.00000000e+000   0.00000000e+000]\n",
      " [  3.00806175e+144   6.94505687e-310   6.94505687e-310  -6.64080621e+188\n",
      "    6.94506181e-310   6.94497990e-310   1.97626258e-321]]\n",
      "(-1+0j)\n",
      "[ 1.+0.j -1.+0.j -1.-0.j]\n",
      "['H2_1' 'H2_2' 'H_1']\n",
      "[ 1.+0.j -1.+0.j -1.-0.j  0.+0.j  0.+0.j  0.+0.j  0.+0.j]\n",
      "****************************************************************************************************\n",
      "0j\n",
      "[ 1.+0.j]\n",
      "['H_m0']\n",
      "[ 0.+0.j  0.+0.j  0.-0.j  0.+0.j  1.+0.j  0.+0.j  0.+0.j]\n",
      "****************************************************************************************************\n",
      "(1+0j)\n",
      "[ 1.+0.j -1.+0.j  1.+0.j]\n",
      "['H_2' 'de' 'ge']\n",
      "[  0.00000000e+00+0.j   0.00000000e+00+0.j   0.00000000e+00-0.j\n",
      "   1.00000000e+00+0.j   9.45230938e-13+0.j  -1.00000000e+00+0.j\n",
      "   1.00000000e+00+0.j]\n",
      "****************************************************************************************************\n",
      "(4.98210380533e-124+0j)\n",
      "[]\n",
      "[]\n",
      "[  2.49105190e-124 +0.00000000e+000j   1.24552595e-124 +2.15731423e-124j\n",
      "   1.24552595e-124 -2.15731423e-124j   0.00000000e+000 +0.00000000e+000j\n",
      "   0.00000000e+000 +0.00000000e+000j   0.00000000e+000 +0.00000000e+000j\n",
      "   0.00000000e+000 +0.00000000e+000j]\n",
      "****************************************************************************************************\n",
      "0j\n",
      "[]\n",
      "[]\n",
      "[  0.00000000e+000+0.j   0.00000000e+000+0.j   0.00000000e+000-0.j\n",
      "   0.00000000e+000+0.j   0.00000000e+000+0.j   6.64670120e-106+0.j\n",
      "  -6.64670120e-106+0.j]\n",
      "****************************************************************************************************\n",
      "0j\n",
      "[]\n",
      "[]\n",
      "[ 0.+0.j  0.+0.j  0.-0.j  0.+0.j  0.+0.j  0.+0.j  0.+0.j]\n",
      "****************************************************************************************************\n",
      "(-3.16410825793e-16+0j)\n",
      "[]\n",
      "[]\n",
      "[ -1.58205413e-16 +0.00000000e+00j  -7.91027064e-17 +1.37009907e-16j\n",
      "  -7.91027064e-17 -1.37009907e-16j   0.00000000e+00 +0.00000000e+00j\n",
      "   0.00000000e+00 +0.00000000e+00j   0.00000000e+00 +0.00000000e+00j\n",
      "   0.00000000e+00 +0.00000000e+00j]\n",
      "****************************************************************************************************\n"
     ]
    }
   ],
   "source": [
    "jacobian = rv_int_sundials['Jac']\n",
    "print(jacobian)\n",
    "# inv = numpy.linalg.inv(jacobian)\n",
    "\n",
    "w, v= numpy.linalg.eig(jacobian)\n",
    "namelist = numpy.array(['H2_1', 'H2_2', 'H_1', 'H_2', 'H_m0', 'de', 'ge'])\n",
    "\n",
    "for eival, eivec in zip(w, v):\n",
    "    loc = numpy.array(range(len(eivec)))\n",
    "\n",
    "    print(numpy.sum(eivec[:4]) )\n",
    "    print(eivec[ loc[numpy.abs(eivec) > 1e-6] ])\n",
    "    print( namelist[ loc[numpy.abs(eivec) > 1e-6]] )\n",
    "    print(eivec)\n",
    "    print('*'*100)"
   ]
  },
  {
   "cell_type": "code",
   "execution_count": 65,
   "metadata": {},
   "outputs": [
    {
     "data": {
      "text/plain": [
       "-836050.2244185001"
      ]
     },
     "execution_count": 65,
     "metadata": {},
     "output_type": "execute_result"
    }
   ],
   "source": [
    "1.5e-5 * -55736681627.9"
   ]
  },
  {
   "cell_type": "code",
   "execution_count": null,
   "metadata": {
    "collapsed": true
   },
   "outputs": [],
   "source": [
    " rv_int_sundials['dt']"
   ]
  },
  {
   "cell_type": "code",
   "execution_count": null,
   "metadata": {
    "collapsed": true
   },
   "outputs": [],
   "source": [
    "-55736743648.4*1.67e-5"
   ]
  },
  {
   "cell_type": "code",
   "execution_count": 15,
   "metadata": {},
   "outputs": [
    {
     "data": {
      "text/plain": [
       "matrix([[ -8.25665658e+06,   1.57650674e+10,   2.32885964e+07,\n",
       "          -8.49350103e+05,   4.28689025e+10,  -1.99245445e+02,\n",
       "           0.00000000e+00],\n",
       "        [  1.46351924e-14,  -1.57650674e+10,  -2.03132396e-14,\n",
       "           8.51566572e+05,   2.05794451e-10,  -6.91486779e-14,\n",
       "           0.00000000e+00],\n",
       "        [  1.65133132e+07,  -1.57650674e+10,  -4.65771928e+07,\n",
       "           8.47133634e+05,  -3.00011004e+10,  -8.46163832e+04,\n",
       "           0.00000000e+00],\n",
       "        [ -1.46351924e-14,   1.57650674e+10,   2.03132398e-14,\n",
       "          -8.51566572e+05,  -6.42778987e-09,   1.08077136e-02,\n",
       "           0.00000000e+00],\n",
       "        [  0.00000000e+00,  -6.77443131e-14,  -8.99665623e-22,\n",
       "          -9.80478856e-15,  -5.57367045e+10,   8.50148633e+04,\n",
       "           0.00000000e+00],\n",
       "        [  0.00000000e+00,  -1.28019856e-09,   1.15815487e-21,\n",
       "          -4.19997021e-13,   5.57367045e+10,  -8.50148525e+04,\n",
       "           0.00000000e+00],\n",
       "        [  0.00000000e+00,   0.00000000e+00,   0.00000000e+00,\n",
       "           0.00000000e+00,   0.00000000e+00,   0.00000000e+00,\n",
       "           0.00000000e+00]])"
      ]
     },
     "execution_count": 15,
     "metadata": {},
     "output_type": "execute_result"
    }
   ],
   "source": [
    "np.matrix(jacobian)"
   ]
  },
  {
   "cell_type": "code",
   "execution_count": 16,
   "metadata": {
    "collapsed": true
   },
   "outputs": [],
   "source": [
    "import pandas as pd"
   ]
  },
  {
   "cell_type": "code",
   "execution_count": 17,
   "metadata": {},
   "outputs": [
    {
     "data": {
      "text/html": [
       "<div>\n",
       "<style>\n",
       "    .dataframe thead tr:only-child th {\n",
       "        text-align: right;\n",
       "    }\n",
       "\n",
       "    .dataframe thead th {\n",
       "        text-align: left;\n",
       "    }\n",
       "\n",
       "    .dataframe tbody tr th {\n",
       "        vertical-align: top;\n",
       "    }\n",
       "</style>\n",
       "<table border=\"1\" class=\"dataframe\">\n",
       "  <thead>\n",
       "    <tr style=\"text-align: right;\">\n",
       "      <th></th>\n",
       "      <th>0</th>\n",
       "      <th>1</th>\n",
       "      <th>2</th>\n",
       "      <th>3</th>\n",
       "      <th>4</th>\n",
       "      <th>5</th>\n",
       "      <th>6</th>\n",
       "    </tr>\n",
       "  </thead>\n",
       "  <tbody>\n",
       "    <tr>\n",
       "      <th>0</th>\n",
       "      <td>-8.256657e+06</td>\n",
       "      <td>1.576507e+10</td>\n",
       "      <td>2.328860e+07</td>\n",
       "      <td>-8.493501e+05</td>\n",
       "      <td>4.286890e+10</td>\n",
       "      <td>-1.992454e+02</td>\n",
       "      <td>0.0</td>\n",
       "    </tr>\n",
       "    <tr>\n",
       "      <th>1</th>\n",
       "      <td>1.463519e-14</td>\n",
       "      <td>-1.576507e+10</td>\n",
       "      <td>-2.031324e-14</td>\n",
       "      <td>8.515666e+05</td>\n",
       "      <td>2.057945e-10</td>\n",
       "      <td>-6.914868e-14</td>\n",
       "      <td>0.0</td>\n",
       "    </tr>\n",
       "    <tr>\n",
       "      <th>2</th>\n",
       "      <td>1.651331e+07</td>\n",
       "      <td>-1.576507e+10</td>\n",
       "      <td>-4.657719e+07</td>\n",
       "      <td>8.471336e+05</td>\n",
       "      <td>-3.000110e+10</td>\n",
       "      <td>-8.461638e+04</td>\n",
       "      <td>0.0</td>\n",
       "    </tr>\n",
       "    <tr>\n",
       "      <th>3</th>\n",
       "      <td>-1.463519e-14</td>\n",
       "      <td>1.576507e+10</td>\n",
       "      <td>2.031324e-14</td>\n",
       "      <td>-8.515666e+05</td>\n",
       "      <td>-6.427790e-09</td>\n",
       "      <td>1.080771e-02</td>\n",
       "      <td>0.0</td>\n",
       "    </tr>\n",
       "    <tr>\n",
       "      <th>4</th>\n",
       "      <td>0.000000e+00</td>\n",
       "      <td>-6.774431e-14</td>\n",
       "      <td>-8.996656e-22</td>\n",
       "      <td>-9.804789e-15</td>\n",
       "      <td>-5.573670e+10</td>\n",
       "      <td>8.501486e+04</td>\n",
       "      <td>0.0</td>\n",
       "    </tr>\n",
       "    <tr>\n",
       "      <th>5</th>\n",
       "      <td>0.000000e+00</td>\n",
       "      <td>-1.280199e-09</td>\n",
       "      <td>1.158155e-21</td>\n",
       "      <td>-4.199970e-13</td>\n",
       "      <td>5.573670e+10</td>\n",
       "      <td>-8.501485e+04</td>\n",
       "      <td>0.0</td>\n",
       "    </tr>\n",
       "    <tr>\n",
       "      <th>6</th>\n",
       "      <td>0.000000e+00</td>\n",
       "      <td>0.000000e+00</td>\n",
       "      <td>0.000000e+00</td>\n",
       "      <td>0.000000e+00</td>\n",
       "      <td>0.000000e+00</td>\n",
       "      <td>0.000000e+00</td>\n",
       "      <td>0.0</td>\n",
       "    </tr>\n",
       "  </tbody>\n",
       "</table>\n",
       "</div>"
      ],
      "text/plain": [
       "              0             1             2             3             4  \\\n",
       "0 -8.256657e+06  1.576507e+10  2.328860e+07 -8.493501e+05  4.286890e+10   \n",
       "1  1.463519e-14 -1.576507e+10 -2.031324e-14  8.515666e+05  2.057945e-10   \n",
       "2  1.651331e+07 -1.576507e+10 -4.657719e+07  8.471336e+05 -3.000110e+10   \n",
       "3 -1.463519e-14  1.576507e+10  2.031324e-14 -8.515666e+05 -6.427790e-09   \n",
       "4  0.000000e+00 -6.774431e-14 -8.996656e-22 -9.804789e-15 -5.573670e+10   \n",
       "5  0.000000e+00 -1.280199e-09  1.158155e-21 -4.199970e-13  5.573670e+10   \n",
       "6  0.000000e+00  0.000000e+00  0.000000e+00  0.000000e+00  0.000000e+00   \n",
       "\n",
       "              5    6  \n",
       "0 -1.992454e+02  0.0  \n",
       "1 -6.914868e-14  0.0  \n",
       "2 -8.461638e+04  0.0  \n",
       "3  1.080771e-02  0.0  \n",
       "4  8.501486e+04  0.0  \n",
       "5 -8.501485e+04  0.0  \n",
       "6  0.000000e+00  0.0  "
      ]
     },
     "execution_count": 17,
     "metadata": {},
     "output_type": "execute_result"
    }
   ],
   "source": [
    "pd.DataFrame(jacobian)"
   ]
  },
  {
   "cell_type": "code",
   "execution_count": 24,
   "metadata": {},
   "outputs": [
    {
     "data": {
      "text/plain": [
       "array([  0.00000000e+00,  -5.48338494e+07,  -1.57659190e+10,\n",
       "        -5.57367895e+10,  -2.16823574e-08,   1.08076971e-02,\n",
       "         0.00000000e+00])"
      ]
     },
     "execution_count": 24,
     "metadata": {},
     "output_type": "execute_result"
    }
   ],
   "source": [
    "w"
   ]
  },
  {
   "cell_type": "code",
   "execution_count": 54,
   "metadata": {
    "collapsed": true
   },
   "outputs": [],
   "source": [
    "Ju = rv_int_be_chem['Ju'][: , success>0][:,-1]"
   ]
  },
  {
   "cell_type": "code",
   "execution_count": 55,
   "metadata": {},
   "outputs": [
    {
     "data": {
      "image/png": "[encoded data removed]",
      "text/plain": [
       "<matplotlib.figure.Figure at 0x7f2c247647d0>"
      ]
     },
     "metadata": {},
     "output_type": "display_data"
    }
   ],
   "source": [
    "plt.imshow(Ju.reshape(7,7), origin='lower')\n",
    "plt.colorbar()\n",
    "plt.show()"
   ]
  },
  {
   "cell_type": "code",
   "execution_count": 44,
   "metadata": {
    "collapsed": true
   },
   "outputs": [],
   "source": [
    "success = rv_int_be_chem['successful']"
   ]
  },
  {
   "cell_type": "code",
   "execution_count": 60,
   "metadata": {},
   "outputs": [
    {
     "data": {
      "text/plain": [
       "array([[ -8.25668639e+06,   1.57650338e+10,   2.32884012e+07,\n",
       "         -8.49356384e+05,   4.28688140e+10,  -1.99247300e+02,\n",
       "          0.00000000e+00],\n",
       "       [  1.46362952e-14,  -1.57650338e+10,  -2.03140385e-14,\n",
       "          8.51572850e+05,   2.05808627e-10,  -6.91513795e-14,\n",
       "          0.00000000e+00],\n",
       "       [  1.65133728e+07,  -1.57650338e+10,  -4.65768024e+07,\n",
       "          8.47139919e+05,  -3.00010314e+10,  -8.46162312e+04,\n",
       "          0.00000000e+00],\n",
       "       [ -1.46362952e-14,   1.57650338e+10,   2.03140388e-14,\n",
       "         -8.51572850e+05,  -6.42823017e-09,   1.08078075e-02,\n",
       "          0.00000000e+00],\n",
       "       [  0.00000000e+00,  -6.77488897e-14,   1.40424864e-21,\n",
       "         -9.80545095e-15,  -5.57365966e+10,   8.50147150e+04,\n",
       "          0.00000000e+00],\n",
       "       [  0.00000000e+00,  -1.28028610e-09,  -1.14573883e-21,\n",
       "         -4.20025764e-13,   5.57365966e+10,  -8.50147042e+04,\n",
       "          0.00000000e+00],\n",
       "       [  0.00000000e+00,   0.00000000e+00,   0.00000000e+00,\n",
       "          0.00000000e+00,   0.00000000e+00,   0.00000000e+00,\n",
       "          0.00000000e+00]])"
      ]
     },
     "execution_count": 60,
     "metadata": {},
     "output_type": "execute_result"
    }
   ],
   "source": [
    "rv_int_sundials['Jac']"
   ]
  },
  {
   "cell_type": "code",
   "execution_count": 77,
   "metadata": {},
   "outputs": [
    {
     "data": {
      "text/plain": [
       "array([[ -8.25668639e+06,   1.57650338e+10,   2.32884012e+07,\n",
       "         -8.49356384e+05,   4.28688140e+10,  -1.99247300e+02,\n",
       "          0.00000000e+00],\n",
       "       [  1.46362952e-14,  -1.57650338e+10,  -2.03140385e-14,\n",
       "          8.51572850e+05,   2.05808627e-10,  -6.91513795e-14,\n",
       "          0.00000000e+00],\n",
       "       [  1.65133728e+07,  -1.57650338e+10,  -4.65768024e+07,\n",
       "          8.47139919e+05,  -3.00010314e+10,  -8.46162312e+04,\n",
       "          0.00000000e+00],\n",
       "       [ -1.46362952e-14,   1.57650338e+10,   2.03140388e-14,\n",
       "         -8.51572850e+05,  -6.42823017e-09,   1.08078075e-02,\n",
       "          0.00000000e+00],\n",
       "       [  0.00000000e+00,  -6.77488897e-14,   1.40424864e-21,\n",
       "         -9.80545095e-15,  -5.57365966e+10,   8.50147150e+04,\n",
       "          0.00000000e+00],\n",
       "       [  0.00000000e+00,  -1.28028610e-09,  -1.14573883e-21,\n",
       "         -4.20025764e-13,   5.57365966e+10,  -8.50147042e+04,\n",
       "          0.00000000e+00],\n",
       "       [  0.00000000e+00,   0.00000000e+00,   0.00000000e+00,\n",
       "          0.00000000e+00,   0.00000000e+00,   0.00000000e+00,\n",
       "          0.00000000e+00]])"
      ]
     },
     "execution_count": 77,
     "metadata": {},
     "output_type": "execute_result"
    }
   ],
   "source": [
    "jacobian"
   ]
  },
  {
   "cell_type": "code",
   "execution_count": 89,
   "metadata": {},
   "outputs": [
    {
     "data": {
      "text/plain": [
       "k07[i]*H_1*de - k08[i]*H_1*H_m0 - k14[i]*H_m0*de - k15[i]*H_1*H_m0 - k16[i]*H_2*H_m0 - k17[i]*H_2*H_m0 - k19[i]*H2_2*H_m0"
      ]
     },
     "execution_count": 89,
     "metadata": {},
     "output_type": "execute_result"
    }
   ],
   "source": [
    "primordial.species_total('H_m0')"
   ]
  },
  {
   "cell_type": "code",
   "execution_count": 70,
   "metadata": {},
   "outputs": [
    {
     "data": {
      "text/plain": [
       "{'k01': k01 : 1*H_1 + 1*de => 1*H_2 + 2*de,\n",
       " 'k02': k02 : 1*H_2 + 1*de => 1*H_1,\n",
       " 'k07': k07 : 1*H_1 + 1*de => 1*H_m0,\n",
       " 'k08': k08 : 1*H_m0 + 1*H_1 => 1*H2_1 + 1*de,\n",
       " 'k09': k09 : 1*H_1 + 1*H_2 => 1*H2_2,\n",
       " 'k10': k10 : 1*H2_2 + 1*H_1 => 1*H2_1 + 1*H_2,\n",
       " 'k11': k11 : 1*H2_1 + 1*H_2 => 1*H2_2 + 1*H_1,\n",
       " 'k12': k12 : 1*H2_1 + 1*de => 2*H_1 + 1*de,\n",
       " 'k13': k13 : 1*H2_1 + 1*H_1 => 3*H_1,\n",
       " 'k14': k14 : 1*H_m0 + 1*de => 1*H_1 + 2*de,\n",
       " 'k15': k15 : 1*H_m0 + 1*H_1 => 2*H_1 + 1*de,\n",
       " 'k16': k16 : 1*H_m0 + 1*H_2 => 2*H_1,\n",
       " 'k17': k17 : 1*H_m0 + 1*H_2 => 1*H2_2 + 1*de,\n",
       " 'k18': k18 : 1*H2_2 + 1*de => 2*H_1,\n",
       " 'k19': k19 : 1*H2_2 + 1*H_m0 => 1*H_1 + 1*H2_1,\n",
       " 'k21': k21 : 2*H_1 + 1*H2_1 => 2*H2_1,\n",
       " 'k22': k22 : 2*H_1 + 1*H_1 => 1*H2_1 + 1*H_1,\n",
       " 'k23': k23 : 1*H2_1 + 1*H2_1 => 2*H_1 + 1*H2_1}"
      ]
     },
     "execution_count": 70,
     "metadata": {},
     "output_type": "execute_result"
    }
   ],
   "source": [
    "primordial.reactions"
   ]
  },
  {
   "cell_type": "code",
   "execution_count": 79,
   "metadata": {},
   "outputs": [
    {
     "data": {
      "text/plain": [
       "array([[  6.90848516e-310,   3.11494240e-316,  -9.22450604e-003,\n",
       "         -2.10415055e-016,   0.00000000e+000,   0.00000000e+000,\n",
       "          0.00000000e+000],\n",
       "       [  1.08140329e-006,   1.41443966e+018,  -7.05255340e-027,\n",
       "         -5.59342438e-008,   1.16365831e-022,   3.83183122e-024,\n",
       "         -0.00000000e+000],\n",
       "       [  1.21953084e+015,   1.04587766e+007,   1.18615951e+007,\n",
       "         -2.60641360e-009,   1.70093323e-007,  -1.18194792e-006,\n",
       "          0.00000000e+000],\n",
       "       [  1.08140329e-006,  -1.41443966e+018,   4.25201635e+002,\n",
       "          1.03090016e+000,  -7.01561238e-005,   2.94285857e-002,\n",
       "         -0.00000000e+000],\n",
       "       [  5.00851151e-005,  -2.81479156e+002,   4.12574378e+018,\n",
       "          1.07533947e+010,  -7.01760714e+011,  -1.47299300e-002,\n",
       "         -0.00000000e+000],\n",
       "       [  6.77641780e-005,   9.87030225e+001,  -4.12574378e+018,\n",
       "         -1.07533947e+010,   7.01760714e+011,   1.00025558e+000,\n",
       "          0.00000000e+000],\n",
       "       [ -0.00000000e+000,   0.00000000e+000,   0.00000000e+000,\n",
       "          0.00000000e+000,   0.00000000e+000,   0.00000000e+000,\n",
       "          1.97626258e-321]])"
      ]
     },
     "execution_count": 79,
     "metadata": {},
     "output_type": "execute_result"
    }
   ],
   "source": [
    "jacobian"
   ]
  },
  {
   "cell_type": "code",
   "execution_count": 23,
   "metadata": {},
   "outputs": [],
   "source": [
    "primordial.required_species\n",
    "\n"
   ]
  },
  {
   "cell_type": "code",
   "execution_count": null,
   "metadata": {
    "collapsed": true
   },
   "outputs": [],
   "source": []
  }
 ],
 "metadata": {
  "kernelspec": {
   "display_name": "Python 2",
   "language": "python",
   "name": "python2"
  },
  "language_info": {
   "codemirror_mode": {
    "name": "ipython",
    "version": 2
   },
   "file_extension": ".py",
   "mimetype": "text/x-python",
   "name": "python",
   "nbconvert_exporter": "python",
   "pygments_lexer": "ipython2",
   "version": "2.7.13"
  }
 },
 "nbformat": 4,
 "nbformat_minor": 2
}
