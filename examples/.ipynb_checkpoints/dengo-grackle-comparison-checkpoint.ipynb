{
 "cells": [
  {
   "cell_type": "code",
   "execution_count": 1,
   "metadata": {},
   "outputs": [
    {
     "name": "stdout",
     "output_type": "stream",
     "text": [
      " using cli\n",
      " using CLI for selections\n"
     ]
    },
    {
     "data": {
      "text/plain": [
       "(None, <pyximport.pyximport.PyxImporter at 0x7f7ffa68d650>)"
      ]
     },
     "execution_count": 1,
     "metadata": {},
     "output_type": "execute_result"
    }
   ],
   "source": [
    "import os\n",
    "os.environ['YT_DEST'] = '/home/kwoksun2/anaconda2/pkgs/yt-3.3.5-np111py27_2/'\n",
    "import numpy as np\n",
    "from dengo.chemical_network import \\\n",
    "    ChemicalNetwork, \\\n",
    "    reaction_registry, \\\n",
    "    cooling_registry, species_registry\n",
    "import dengo.primordial_rates, dengo.primordial_cooling\n",
    "from dengo.chemistry_constants import tiny, kboltz, mh\n",
    "import yt\n",
    "import numpy\n",
    "from IPython.display import Image\n",
    "import matplotlib.pyplot as plt\n",
    "import pickle\n",
    "import pyximport\n",
    "pyximport.install(setup_args={\"include_dirs\":np.get_include()},\n",
    "                      reload_support=True, inplace=True)\n"
   ]
  },
  {
   "cell_type": "code",
   "execution_count": 2,
   "metadata": {
    "collapsed": true
   },
   "outputs": [],
   "source": [
    "def equil_values(init_values, primordial, t =3.16e13, niter= 1e5, full_output = False):\n",
    "    \n",
    "    primordial.write_solver(\"sunny\", output_dir = \".\",\n",
    "                            init_values=init_values,\n",
    "                            input_is_number=False)\n",
    "\n",
    "    sunny_solver_run = pyximport.load_module(\"sunny_solver_run\",\n",
    "                                \"sunny_solver_run.pyx\",\n",
    "                                build_inplace = True, pyxbuild_dir = \"_dengo_temp\")\n",
    "    rv, rv_int = sunny_solver_run.run_sunny(init_values, t, niter=niter) ;\n",
    "    \n",
    "    mask = rv_int['successful']\n",
    "    \n",
    "    if full_output:\n",
    "        return rv_int, 0\n",
    "    else:\n",
    "        return rv_int['H_1'][:, mask][:,-1] / init_values['density'], rv_int['t'][mask][-1]"
   ]
  },
  {
   "cell_type": "code",
   "execution_count": 37,
   "metadata": {
    "collapsed": true
   },
   "outputs": [],
   "source": [
    "# only two species\n",
    "\n",
    "\n",
    "def Init_values(temperature, density, fH, reaction_k):\n",
    "    \n",
    "    X = 1.0\n",
    "    # initialize and setup the network\n",
    "    dengo.primordial_rates.setup_primordial()\n",
    "    primordial = ChemicalNetwork()\n",
    "\n",
    "    for i in range(23):\n",
    "        if (i+1) not in [0]: #9, 10, 11, 17,18,19]:\n",
    "            try:\n",
    "                primordial.add_reaction(\"k{0:02d}\".format(i+1))\n",
    "            except:\n",
    "                pass\n",
    "    \n",
    "    primordial.init_temperature((1e0, 1e5))\n",
    "\n",
    "    tiny = 1.0e-20\n",
    "\n",
    "    # init_array are is in fractional abundances\n",
    "    init_array = density\n",
    "    init_values = dict()\n",
    "    \n",
    "    init_values[\"He_1\"]    = density * (1.0 - 0.76) /3.\n",
    "    init_values[\"He_2\"]    = density * (1.0 - 0.76) /3.      \n",
    "    init_values[\"He_3\"]    = density * (1.0 - 0.76) /3.          \n",
    "    init_values[\"H_1\"]     = density *  (0.76)  /4.\n",
    "    init_values['H_2']     = density *  (0.76)  /4.\n",
    "    \n",
    "    init_values[\"H_m0\"]    = density *  (0.76)  /4.\n",
    "    init_values[\"H2_1\"]    = density *  (0.76)  /4.\n",
    "    init_values[\"H2_2\"]    = np.array([tiny]) # density *  (0.76)  /5.\n",
    "    \n",
    "    \n",
    "#     init_values[\"He_1\"]    = density * (1.0 - 0.76) \n",
    "#     init_values[\"He_2\"]    = np.array([tiny]) #density * (1.0 - 0.76) /3.      \n",
    "#     init_values[\"He_3\"]    = np.array([tiny]) #density * (1.0 - 0.76) /3.          \n",
    "#     init_values[\"H_1\"]     = density *  (0.76)  \n",
    "#     init_values['H_2']     = np.array([tiny]) #density *  (0.76)  /4.\n",
    "    \n",
    "#     init_values[\"H_m0\"]    = np.array([tiny]) #density *  (0.76)  /4.\n",
    "#     init_values[\"H2_1\"]    = np.array([tiny]) #density *  (0.76)  /4.\n",
    "#     init_values[\"H2_2\"]    = np.array([tiny]) # density *  (0.76)  /5.    \n",
    "\n",
    "    # now everything in mass density\n",
    "#    init_values = primordial.convert_to_mass_density(init_values)\n",
    "    init_values['de'] = primordial.calculate_free_electrons(init_values)\n",
    "    # one signle value: again mass density\n",
    "    init_values['density'] = primordial.calculate_total_density(init_values)\n",
    "    number_density = primordial.calculate_number_density(init_values)\n",
    "    \n",
    "    print(init_values)\n",
    "    print('density: {}'.format(init_values['density']))\n",
    "    print('number density: {}'.format(number_density))\n",
    "    # set up initial temperatures values used to define ge\n",
    "    init_values['T'] = temperature\n",
    "\n",
    "    # calculate ge (very crudely, no H2 help here)\n",
    "    gamma = 5.0/3.0\n",
    "    init_values['ge'] = ((temperature * number_density * kboltz)\n",
    "                         / (init_values['density'] * mh * (gamma - 1)))\n",
    "    return init_values, primordial"
   ]
  },
  {
   "cell_type": "code",
   "execution_count": 38,
   "metadata": {
    "collapsed": true
   },
   "outputs": [],
   "source": [
    "def main(fH, temp, den , full_output = False):\n",
    "    \n",
    "    \n",
    "    temp = temp.flatten()\n",
    "    den = den.flatten()\n",
    "    \n",
    "    h_array = numpy.zeros((len(temp), len(den)))\n",
    "    t_array = numpy.zeros((len(den)))\n",
    "    \n",
    "    h_array = []\n",
    "    t_array = []\n",
    "    \n",
    "    print(den)\n",
    "    for iden, den_arr in enumerate(den):\n",
    "        \n",
    "        den_arr = numpy.ones((len(temp)))*den_arr\n",
    "        \n",
    "        init_values, primordial = Init_values(temp, den_arr, fH)\n",
    "        h_array_now, t_array_now = equil_values(init_values, primordial, full_output = full_output)\n",
    "        \n",
    "        h_array.append(h_array_now)\n",
    "        t_array.append(t_array_now)\n",
    "        \n",
    "    return h_array, t_array"
   ]
  },
  {
   "cell_type": "code",
   "execution_count": 39,
   "metadata": {
    "collapsed": true
   },
   "outputs": [],
   "source": [
    "def find_nearest(array,value):\n",
    "    idx = (np.abs(array-value)).argmin()\n",
    "    return idx\n",
    "\n",
    "def make_plots( network, init, rv_int, solver_name = 'sundials', t_min = 1e0, t_max = 1e11, plot_fH = False ):\n",
    "    \n",
    "    rv_arr = rv_int\n",
    "    \n",
    "    mask = rv_arr['successful']\n",
    "    t    = rv_arr['t'][mask]\n",
    "    dt   = rv_arr['dt'][mask]\n",
    "\n",
    "    plt.clf()\n",
    "    skip_list = ['dt' ,'successful', 't','Ju', 'Jac', 'ge']\n",
    "    hydrogen_list = ['H_1','H_2','H2_1','H2_2','H_m0']\n",
    "    \n",
    "    \n",
    "    # Calculate total electron density \n",
    "    # with the abundances from other species\n",
    "    total_e = numpy.zeros((len(t)))\n",
    "    for j in network.required_species:\n",
    "        if j.name in rv_arr.keys() and j.name not in skip_list and j.name != 'dt':\n",
    "            \n",
    "            try:\n",
    "                total_e += rv_arr[j.name][0][mask]  * j.free_electrons \n",
    "            except:\n",
    "                pass\n",
    "    \n",
    "    de = rv_arr['de'][0][mask]\n",
    "    # calculate total mass density of hydrogen\n",
    "    # conservation of mass\n",
    "    total_Hatoms = numpy.zeros((len(t)))\n",
    "    for j in network.required_species:\n",
    "        if j.name in hydrogen_list:\n",
    "            total_Hatoms += rv_arr[j.name][0][mask] *j.weight\n",
    "            \n",
    "\n",
    "    f, axarr = plt.subplots(3, sharex=True, figsize=(10,15))\n",
    "    \n",
    "    ii = 0\n",
    "    for i in sorted(rv_arr.keys()):\n",
    "        if i not in skip_list:\n",
    "            \n",
    "            hi = rv_arr[i][0][mask]\n",
    "            if t_min == 1e0:\n",
    "                axarr[0].semilogx(t,numpy.array(hi)/init[i][0]+ii, label=i) \n",
    "                ii+=1\n",
    "            else:\n",
    "                idx = find_nearest(t , t_min)\n",
    "                axarr[0].semilogx(t[idx:] ,numpy.array(hi[idx:])/hi[idx] , label=i) \n",
    "                ii+=1\n",
    "\n",
    "\n",
    "\n",
    "    #h1 = rv_arr['H_1'][0][mask]\n",
    "\n",
    "    \n",
    "    T0 = rv_arr['T'][0][mask][0]\n",
    "    axarr[0].set_title('{}:  Temperature: {} K     Density: {} per cc '.format(solver_name, T0 , total_Hatoms[0]   ))\n",
    "    axarr[0].set_xlabel('Time (s)')\n",
    "    axarr[0].set_ylabel('Species abundances (normalized by initial values)')\n",
    "    \n",
    "    dt = rv_arr['dt'][mask]\n",
    " #   if t_min == 1e0:\n",
    " #       axarr[0].loglog(t, dt / dt[0], label=i) \n",
    " #   else:\n",
    " #       idx = find_nearest(t , t_min)\n",
    " #       axarr[0].loglog(t[idx:] ,dt[idx:] / dt[idx], label=i) \n",
    "                \n",
    "    \n",
    "\n",
    "    de = rv_arr['de'][0][mask]\n",
    "    axarr[0].loglog(t, total_e/de, label='de normalized by those from species', ls = '--', color = 'r')\n",
    "\n",
    "    axarr[0].legend(loc='best',fontsize='x-small')\n",
    "    # plt.savefig(con_not_con+'-species-norm-nHe20.png')\n",
    "\n",
    "\n",
    "    for i in sorted(rv_arr.keys()):\n",
    "        if i not in skip_list:\n",
    "            hi = rv_arr[i][0][mask]\n",
    "            axarr[1].loglog(t,hi, label=i) \n",
    "\n",
    "\n",
    "    axarr[1].set_xlabel('Time (s)')\n",
    "    axarr[1].set_ylabel('Species abundances')\n",
    "\n",
    "    axarr[1].legend(loc='best',fontsize='x-small')\n",
    "\n",
    "\n",
    "    \n",
    "\n",
    "    de = rv_arr['de'][0][mask]\n",
    "    axarr[2].semilogx(t, (de/total_e) , label='de normalized by those from species', ls = '--', color = 'r')\n",
    "\n",
    "    axarr[2].semilogx(t, ( total_Hatoms )/ total_Hatoms[0], label = 'mass density of H atoms' )\n",
    "    \n",
    "    \n",
    "    print('de conserved?   ', de[-1]/total_e[-1])\n",
    "    print('mass conserved? ' , ( total_Hatoms[-1] )/ total_Hatoms[0])\n",
    "    \n",
    "    \n",
    "    if plot_fH:\n",
    "        axarr[2].plot(t, h1/total_Hatoms, label=\"f(H)\" )\n",
    "        print('final f(H) = {}'.format(h1[-1]/total_Hatoms[-1]) )\n",
    "    axarr[2].set_xlabel('Time (s)')\n",
    "    axarr[2].set_ylabel('mass ratio of Hydrogen atom (fH)')\n",
    "    axarr[2].legend()\n",
    "    \n",
    "    axarr[2].set_xlim((t_min, t_max))\n",
    "    \n",
    "    T0 = rv_arr['T'][0][0]\n",
    "    f.savefig(solver_name+'_nH={:.2E}_T={:.1E}.png'.format(total_Hatoms[0], T0) )\n",
    "    plt.close(f)\n",
    "    return solver_name+'_nH={:.2E}_T={:.1E}.png'.format(total_Hatoms[0], T0)"
   ]
  },
  {
   "cell_type": "code",
   "execution_count": 40,
   "metadata": {
    "collapsed": true,
    "scrolled": true
   },
   "outputs": [],
   "source": [
    "\n",
    "class my_network:\n",
    "    def __init__(self, T):\n",
    "        self.T = T\n",
    "\n",
    "from sympy import *\n",
    "\n",
    "def equi_fH(rho, T, k):\n",
    "    \n",
    "    \n",
    "    init, network = Init_values(T,rho, 0.0, k)\n",
    "    \n",
    "    # for i in network.required_species:\n",
    "    #     print(network.print_ccode(i))\n",
    "    #     for j in network.required_species:\n",
    "    #         print(network.print_jacobian_component(i,j))\n",
    "\n",
    "    mH = 1.0\n",
    "\n",
    "    k13 = (network.reactions['k13'])\n",
    "    k22 = (network.reactions['k22'])\n",
    "\n",
    "    temp_network = my_network(T)\n",
    "\n",
    "    k13coeff, k22coeff = (k13.coeff_fn(temp_network), k22.coeff_fn(temp_network))\n",
    "    \n",
    "\n",
    "    k13s, k22s, fHs, rhos = symbols(\" k13 k22 fH rho\")\n",
    "    expr = k13s*(1 - fHs) /2 - k22s*fHs*fHs*rhos\n",
    "    known_vals = [ (k13s, k13coeff), (k22s, k22coeff), (rhos, rho) ]\n",
    "    new_expr = expr.subs(known_vals)\n",
    "    new_expr_poly = Poly(new_expr, fHs)\n",
    "    print('Temperature now: {} K'.format(T))\n",
    "    poly_coeff = (new_expr_poly.coeffs())\n",
    "    ans = numpy.roots(poly_coeff)\n",
    "    print('fH: {}'.format(ans[ans>0]) )\n",
    "    return ans[ans>0]\n",
    "\n",
    "Temp_array = numpy.array([3.0e3])\n",
    "# in atomic mass unit! not grams\n",
    "rho = numpy.array([1.0e15])"
   ]
  },
  {
   "cell_type": "code",
   "execution_count": 41,
   "metadata": {},
   "outputs": [
    {
     "name": "stdout",
     "output_type": "stream",
     "text": [
      "Adding reaction: k01 : 1*H_1 + 1*de => 1*H_2 + 2*de\n",
      "Adding reaction: k02 : 1*H_2 + 1*de => 1*H_1\n",
      "Adding reaction: k03 : 1*He_1 + 1*de => 1*He_2 + 2*de\n",
      "Adding reaction: k04 : 1*He_2 + 1*de => 1*He_1\n",
      "Adding reaction: k05 : 1*He_2 + 1*de => 1*He_3 + 2*de\n",
      "Adding reaction: k06 : 1*He_3 + 1*de => 1*He_2\n",
      "Adding reaction: k07 : 1*H_1 + 1*de => 1*H_m0\n",
      "Adding reaction: k08 : 1*H_m0 + 1*H_1 => 1*H2_1 + 1*de\n",
      "Adding reaction: k09 : 1*H_1 + 1*H_2 => 1*H2_2\n",
      "Adding reaction: k10 : 1*H2_2 + 1*H_1 => 1*H2_1 + 1*H_2\n",
      "Adding reaction: k11 : 1*H2_1 + 1*H_2 => 1*H2_2 + 1*H_1\n",
      "Adding reaction: k12 : 1*H2_1 + 1*de => 2*H_1 + 1*de\n",
      "Adding reaction: k13 : 1*H2_1 + 1*H_1 => 3*H_1\n",
      "Adding reaction: k14 : 1*H_m0 + 1*de => 1*H_1 + 2*de\n",
      "Adding reaction: k15 : 1*H_m0 + 1*H_1 => 2*H_1 + 1*de\n",
      "Adding reaction: k16 : 1*H_m0 + 1*H_2 => 2*H_1\n",
      "Adding reaction: k17 : 1*H_m0 + 1*H_2 => 1*H2_2 + 1*de\n",
      "Adding reaction: k18 : 1*H2_2 + 1*de => 2*H_1\n",
      "Adding reaction: k19 : 1*H2_2 + 1*H_m0 => 1*H_1 + 1*H2_1\n",
      "Adding reaction: k21 : 2*H_1 + 1*H2_1 => 2*H2_1\n",
      "Adding reaction: k22 : 2*H_1 + 1*H_1 => 1*H2_1 + 1*H_1\n",
      "Adding reaction: k23 : 1*H2_1 + 1*H2_1 => 2*H_1 + 1*H2_1\n",
      "{'H_2': array([  1.00000000e-20]), 'H_1': array([  7.60000000e+09]), 'density': array([  1.00000000e+10]), 'de': array([  1.24557372e-20]), 'He_1': array([  2.40000000e+09]), 'He_2': array([  1.00000000e-20]), 'He_3': array([  1.00000000e-20]), 'H2_2': array([  1.00000000e-20]), 'H2_1': array([  1.00000000e-20]), 'H_m0': array([  1.00000000e-20])}\n",
      "density: [  1.00000000e+10]\n",
      "number density: [  8.13974131e+09]\n",
      "H2_1 4.96061273489e-21 1e-20\n",
      "H2_2 4.96061273489e-21 1e-20\n",
      "H_1 7540131357.03 7600000000.0\n",
      "H_2 9.92122546977e-21 1e-20\n",
      "H_m0 9.92122546977e-21 1e-20\n",
      "He_1 599609953.725 2400000000.0\n",
      "He_2 2.49837480719e-21 1e-20\n",
      "He_3 2.49837480719e-21 1e-20\n",
      "de 1.24557371564e-20 1.24557371564e-20\n",
      "ge 1.00893799481e+11 1.00893799481e+11\n",
      "Successful iteration[    0]: (1.000e+05) 0.000e+00 / 1.000e+10\n",
      "End in 97 iterations: 1.00000e+10 / 1.00000e+10 (0.00000e+00)\n",
      "CPU times: user 750 ms, sys: 594 ms, total: 1.34 s\n",
      "Wall time: 9.13 s\n"
     ]
    }
   ],
   "source": [
    "%%time\n",
    "ith_T = numpy.array([1000.0])\n",
    "rho = numpy.array([1.00e10 ])\n",
    "    \n",
    "\n",
    "init, primordial = Init_values( ith_T , rho, 0, 0 )\n",
    "\n",
    "primordial.write_solver(\"sunny\", output_dir = \".\",\n",
    "                            init_values=init,\n",
    "                            input_is_number=False)\n",
    "\n",
    "sunny_solver_run = pyximport.load_module(\"sunny_solver_run\",\n",
    "                                \"sunny_solver_run.pyx\",\n",
    "                                build_inplace = True, pyxbuild_dir = \"_dengo_temp\")\n",
    "\n",
    "\n",
    "rv, rv_int_be_chem = sunny_solver_run.run_sunny(init, 1e10 , niter=2e5 )"
   ]
  },
  {
   "cell_type": "code",
   "execution_count": 42,
   "metadata": {},
   "outputs": [
    {
     "name": "stdout",
     "output_type": "stream",
     "text": [
      "('de conserved?   ', 0.99999999999999678)\n",
      "('mass conserved? ', 0.99999999999999767)\n",
      "be_chem_solve_nH=7.60E+09_T=1.0E+03.png\n"
     ]
    },
    {
     "data": {
      "image/png": "[encoded data removed]",
      "text/plain": [
       "<IPython.core.display.Image object>"
      ]
     },
     "execution_count": 42,
     "metadata": {},
     "output_type": "execute_result"
    }
   ],
   "source": [
    "mask = rv_int_be_chem['successful']\n",
    "t_arr = rv_int_be_chem['t'][mask]\n",
    "\n",
    "png_name = make_plots( primordial, init, rv_int_be_chem, solver_name = 'be_chem_solve', t_min = t_arr[0], t_max = t_arr[-1]  )\n",
    "print(png_name)\n",
    "Image(png_name)"
   ]
  },
  {
   "cell_type": "code",
   "execution_count": 43,
   "metadata": {
    "scrolled": false
   },
   "outputs": [
    {
     "name": "stdout",
     "output_type": "stream",
     "text": [
      "Adding reaction: k01 : 1*H_1 + 1*de => 1*H_2 + 2*de\n",
      "Adding reaction: k02 : 1*H_2 + 1*de => 1*H_1\n",
      "Adding reaction: k03 : 1*He_1 + 1*de => 1*He_2 + 2*de\n",
      "Adding reaction: k04 : 1*He_2 + 1*de => 1*He_1\n",
      "Adding reaction: k05 : 1*He_2 + 1*de => 1*He_3 + 2*de\n",
      "Adding reaction: k06 : 1*He_3 + 1*de => 1*He_2\n",
      "Adding reaction: k07 : 1*H_1 + 1*de => 1*H_m0\n",
      "Adding reaction: k08 : 1*H_m0 + 1*H_1 => 1*H2_1 + 1*de\n",
      "Adding reaction: k09 : 1*H_1 + 1*H_2 => 1*H2_2\n",
      "Adding reaction: k10 : 1*H2_2 + 1*H_1 => 1*H2_1 + 1*H_2\n",
      "Adding reaction: k11 : 1*H2_1 + 1*H_2 => 1*H2_2 + 1*H_1\n",
      "Adding reaction: k12 : 1*H2_1 + 1*de => 2*H_1 + 1*de\n",
      "Adding reaction: k13 : 1*H2_1 + 1*H_1 => 3*H_1\n",
      "Adding reaction: k14 : 1*H_m0 + 1*de => 1*H_1 + 2*de\n",
      "Adding reaction: k15 : 1*H_m0 + 1*H_1 => 2*H_1 + 1*de\n",
      "Adding reaction: k16 : 1*H_m0 + 1*H_2 => 2*H_1\n",
      "Adding reaction: k17 : 1*H_m0 + 1*H_2 => 1*H2_2 + 1*de\n",
      "Adding reaction: k18 : 1*H2_2 + 1*de => 2*H_1\n",
      "Adding reaction: k19 : 1*H2_2 + 1*H_m0 => 1*H_1 + 1*H2_1\n",
      "Adding reaction: k21 : 2*H_1 + 1*H2_1 => 2*H2_1\n",
      "Adding reaction: k22 : 2*H_1 + 1*H_1 => 1*H2_1 + 1*H_1\n",
      "Adding reaction: k23 : 1*H2_1 + 1*H2_1 => 2*H_1 + 1*H2_1\n",
      "{'H_2': array([  1.00000000e-20]), 'H_1': array([  7.60000000e+09]), 'density': array([  1.00000000e+10]), 'de': array([  1.24557372e-20]), 'He_1': array([  2.40000000e+09]), 'He_2': array([  1.00000000e-20]), 'He_3': array([  1.00000000e-20]), 'H2_2': array([  1.00000000e-20]), 'H2_1': array([  1.00000000e-20]), 'H_m0': array([  1.00000000e-20])}\n",
      "density: [  1.00000000e+10]\n",
      "number density: [  8.13974131e+09]\n",
      "final iteration: 97\n",
      "End in 97 iterations: 1.00000e+05 / 1.00000e+05 (0.00000e+00)\n",
      "CPU times: user 844 ms, sys: 406 ms, total: 1.25 s\n",
      "Wall time: 8.1 s\n"
     ]
    }
   ],
   "source": [
    "%%time\n",
    "ith_T = numpy.array([1000.0])\n",
    "rho = numpy.array([1.0e10])\n",
    "\n",
    "init, primordial = Init_values( ith_T , rho, 0, 0 )\n",
    "\n",
    "primordial.write_solver(\"sundials_time\", solver_template = \"sundials_time\", \n",
    "                    ode_solver_source = \"cvodes_solver_time.C\", \n",
    "                    output_dir = \".\",\n",
    "                        init_values=init,\n",
    "                        input_is_number=False)\n",
    "\n",
    "sundials_solver_run = pyximport.load_module(\"sundials_time_solver_run\",\n",
    "                            \"sundials_time_solver_run.pyx\",\n",
    "                            build_inplace = True, pyxbuild_dir = \"_dengo_temp\")\n",
    "rv, rv_int_sundials = sundials_solver_run.run_sundials_time(init, 1.0e5 , niter=1e5) # , dtarr = dt_arr)"
   ]
  },
  {
   "cell_type": "code",
   "execution_count": 44,
   "metadata": {
    "scrolled": false
   },
   "outputs": [
    {
     "name": "stdout",
     "output_type": "stream",
     "text": [
      "('de conserved?   ', 1.0000000000000049)\n",
      "('mass conserved? ', 0.99999999999999711)\n"
     ]
    },
    {
     "data": {
      "image/png": "[encoded data removed]",
      "text/plain": [
       "<IPython.core.display.Image object>"
      ]
     },
     "execution_count": 44,
     "metadata": {},
     "output_type": "execute_result"
    }
   ],
   "source": [
    "mask = rv_int_sundials['successful']\n",
    "t_arr = rv_int_sundials['t'][mask]\n",
    "png_name = make_plots( primordial, init, rv_int_sundials, solver_name = 'ttsundials', t_min = t_arr[0], t_max = t_arr[-1])\n",
    "Image(png_name)\n",
    "\n"
   ]
  },
  {
   "cell_type": "code",
   "execution_count": 63,
   "metadata": {
    "collapsed": true
   },
   "outputs": [],
   "source": [
    "flag = rv_int_be_chem['successful']\n",
    "\n",
    "de = rv_int_be_chem['de'][0][flag]\n",
    "H_2 = rv_int_be_chem['H_2'][0][flag]\n",
    "H_1 = rv_int_be_chem['H_1'][0][flag]\n",
    "\n",
    "He1 = rv_int_be_chem['He_1'][0][flag]\n",
    "He2 = rv_int_be_chem['He_2'][0][flag]\n",
    "He3 = rv_int_be_chem['He_3'][0][flag]\n",
    "T = rv_int_be_chem['T'][0][flag]\n",
    "\n",
    "try:\n",
    "    H2_1 = 0\n",
    "    H2_2 = 0\n",
    "    H_m0 = 0\n",
    "    H2_1 = rv_int_be_chem['H2_1'][0][flag]\n",
    "    \n",
    "    H2_2 = rv_int_be_chem['H2_2'][0][flag]\n",
    "    \n",
    "    H_m0 = rv_int_be_chem['H_m0'][0][flag]\n",
    "except:\n",
    "    pass\n",
    "t = rv_int_be_chem['t'][flag]"
   ]
  },
  {
   "cell_type": "code",
   "execution_count": null,
   "metadata": {
    "collapsed": true
   },
   "outputs": [],
   "source": [
    "try:\n",
    "    plt.loglog(t, H2_1/H2_1[0], label='H2I')\n",
    "    plt.loglog(t, H2_2/H2_2[0], label='H2II')\n",
    "except:\n",
    "    pass\n",
    "plt.loglog(t, H_1/H_1[0], label='HI')\n",
    "plt.loglog(t, H_2/H_2[0], label='HII')\n",
    "try:\n",
    "    plt.loglog(t, H_m0/H_m0[0], label='HM')\n",
    "except:\n",
    "    pass\n",
    "plt.loglog(t, He1/He1[0], label='HeI')\n",
    "plt.loglog(t, He2/He2[0], label='HeII')\n",
    "plt.loglog(t, He3/He3[0], label='HeIII')\n",
    "\n",
    "plt.loglog(t, T/T[0], label='T')\n",
    "\n",
    "plt.loglog(t, de/de[0], label='de')\n",
    "plt.title(\"dengo_BE_chem_solve_1e0$cm^{-3}$_T=2000K.png\")\n",
    "plt.legend()\n",
    "plt.show()\n"
   ]
  },
  {
   "cell_type": "code",
   "execution_count": null,
   "metadata": {
    "collapsed": true
   },
   "outputs": [],
   "source": [
    "plt.loglog(t, H_1, label='H_1')\n",
    "plt.loglog(t, H_2, label='H_2')\n",
    "plt.loglog(t, He1, label='He1')\n",
    "plt.loglog(t, He2, label='He2')\n",
    "plt.loglog(t, He3, label='He3')\n",
    "\n",
    "plt.loglog(t, de, label='de')\n",
    "\n",
    "plt.legend()\n",
    "plt.show()"
   ]
  },
  {
   "cell_type": "code",
   "execution_count": null,
   "metadata": {
    "collapsed": true
   },
   "outputs": [],
   "source": [
    "print(H_1[-1])\n",
    "print(H_2[-1])\n",
    "print(He1[-1]*4.002602/1.00794)\n",
    "print(He2[-1]*4.002602/1.00794)\n",
    "print(He3[-1]*4.002602/1.00794)"
   ]
  },
  {
   "cell_type": "code",
   "execution_count": null,
   "metadata": {
    "collapsed": true
   },
   "outputs": [],
   "source": [
    "0.08+0.154285217023+0.00571478297749"
   ]
  },
  {
   "cell_type": "code",
   "execution_count": null,
   "metadata": {
    "collapsed": true
   },
   "outputs": [],
   "source": [
    "0.249837889635 / 0.107142876426"
   ]
  },
  {
   "cell_type": "code",
   "execution_count": null,
   "metadata": {
    "collapsed": true
   },
   "outputs": [],
   "source": [
    "a = [0.523294840419,\n",
    "0.230718295283,\n",
    "0.0793698037582,\n",
    "0.152894234544,\n",
    "0.00584537297204]"
   ]
  },
  {
   "cell_type": "code",
   "execution_count": null,
   "metadata": {
    "collapsed": true
   },
   "outputs": [],
   "source": [
    "numpy.sum(a)"
   ]
  },
  {
   "cell_type": "code",
   "execution_count": null,
   "metadata": {
    "collapsed": true
   },
   "outputs": [],
   "source": [
    "b = [0.328181836823,\n",
    "0.431818163177,\n",
    "0.0257142903386,\n",
    "0.107142876426,\n",
    "0.107142833236 ]"
   ]
  },
  {
   "cell_type": "code",
   "execution_count": null,
   "metadata": {
    "collapsed": true
   },
   "outputs": [],
   "source": [
    "numpy.array(b) / numpy.array(a)"
   ]
  },
  {
   "cell_type": "code",
   "execution_count": null,
   "metadata": {
    "collapsed": true
   },
   "outputs": [],
   "source": [
    "a"
   ]
  },
  {
   "cell_type": "code",
   "execution_count": null,
   "metadata": {
    "collapsed": true
   },
   "outputs": [],
   "source": []
  },
  {
   "cell_type": "code",
   "execution_count": null,
   "metadata": {
    "collapsed": true
   },
   "outputs": [],
   "source": [
    "for i in primordial.required_species:\n",
    "    print(i.name, i.weight)"
   ]
  },
  {
   "cell_type": "code",
   "execution_count": null,
   "metadata": {
    "collapsed": true
   },
   "outputs": [],
   "source": [
    "0.328181836823/0.324435213548"
   ]
  },
  {
   "cell_type": "code",
   "execution_count": null,
   "metadata": {
    "collapsed": true
   },
   "outputs": [],
   "source": [
    "1.0 / (0.324435213548/ 0.325596599)"
   ]
  },
  {
   "cell_type": "code",
   "execution_count": null,
   "metadata": {
    "collapsed": true
   },
   "outputs": [],
   "source": [
    "a[0] + a[1]"
   ]
  },
  {
   "cell_type": "code",
   "execution_count": null,
   "metadata": {
    "collapsed": true
   },
   "outputs": [],
   "source": [
    "rv_int_be_chem['t'][flag][0]"
   ]
  },
  {
   "cell_type": "code",
   "execution_count": null,
   "metadata": {
    "collapsed": true
   },
   "outputs": [],
   "source": [
    "print(rv_int_be_chem['H_1'][0][flag][0])\n",
    "print(rv_int_be_chem['H_2'][0][flag][0])"
   ]
  },
  {
   "cell_type": "code",
   "execution_count": null,
   "metadata": {
    "collapsed": true
   },
   "outputs": [],
   "source": [
    "1/1.0094"
   ]
  },
  {
   "cell_type": "code",
   "execution_count": null,
   "metadata": {
    "collapsed": true
   },
   "outputs": [],
   "source": [
    "1.76 + 0.24+2"
   ]
  },
  {
   "cell_type": "code",
   "execution_count": null,
   "metadata": {
    "collapsed": true
   },
   "outputs": [],
   "source": [
    "1.76/4"
   ]
  },
  {
   "cell_type": "code",
   "execution_count": null,
   "metadata": {
    "collapsed": true
   },
   "outputs": [],
   "source": [
    "b = [0.328181863146,\n",
    "0.431818136854,\n",
    "0.0257142968708,\n",
    "0.107142909809,\n",
    "0.10714279332]"
   ]
  },
  {
   "cell_type": "code",
   "execution_count": null,
   "metadata": {
    "collapsed": true
   },
   "outputs": [],
   "source": [
    "0.328181836823\n",
    "0.431818163177\n",
    "0.0257142903386\n",
    "0.107142876426\n",
    "0.107142833236"
   ]
  },
  {
   "cell_type": "code",
   "execution_count": null,
   "metadata": {
    "collapsed": true
   },
   "outputs": [],
   "source": [
    "0.328181863146+\\\n",
    "0.431818136854+\\\n",
    "0.0257142968708+\\\n",
    "0.107142909809+\\\n",
    "0.10714279332"
   ]
  },
  {
   "cell_type": "code",
   "execution_count": null,
   "metadata": {
    "collapsed": true
   },
   "outputs": [],
   "source": [
    "[ 0.75401314+ 0.23810941]"
   ]
  },
  {
   "cell_type": "code",
   "execution_count": null,
   "metadata": {
    "collapsed": true
   },
   "outputs": [],
   "source": []
  },
  {
   "cell_type": "code",
   "execution_count": null,
   "metadata": {
    "collapsed": true
   },
   "outputs": [],
   "source": [
    "!python /home/kwoksun2/grackle/src/python/examples/my_cooling_cell.py"
   ]
  },
  {
   "cell_type": "code",
   "execution_count": null,
   "metadata": {
    "collapsed": true
   },
   "outputs": [],
   "source": [
    "import sys\n",
    "sys.path.append('/home/kwoksun2/grackle/src/python/examples/')\n"
   ]
  },
  {
   "cell_type": "code",
   "execution_count": null,
   "metadata": {
    "collapsed": true
   },
   "outputs": [],
   "source": [
    "import imp\n",
    "imp.find_module('pygrackle')"
   ]
  },
  {
   "cell_type": "code",
   "execution_count": 46,
   "metadata": {},
   "outputs": [],
   "source": [
    "\n",
    "\n",
    "mask = rv_int_be_chem['successful']\n",
    "be_chem_data = {}\n",
    "\n",
    "mask_s = rv_int_sundials['successful']\n",
    "sundials_data = {}\n",
    "\n",
    "\n",
    "#for name in ['H_1','H_2','He_1','He_2','He_3', 'de', 't']:\n",
    "for name in ['H_1','H_2','He_1','He_2','He_3', 'H_m0', 'H2_1', 'H2_2', 'de', 't']:\n",
    "#for name in ['H_1','H_2','He_1','He_2','He_3', 'H_m0', 'H2_1', 'de', 't']:\n",
    "#for name in ['He_1','He_2','He_3', 'de', 't']:\n",
    "    if name != 't':\n",
    "        arr = rv_int_be_chem[name][0][mask]\n",
    "        be_chem_data[name] = arr\n",
    "        \n",
    "        arr = rv_int_sundials[name][0][mask_s]\n",
    "        sundials_data[name] = arr        \n",
    "        \n",
    "    else:\n",
    "        arr = rv_int_be_chem[name][mask]\n",
    "        be_chem_data[name] = arr\n",
    "        \n",
    "        arr = rv_int_sundials[name][mask_s]\n",
    "        sundials_data[name] = arr\n",
    "        \n",
    "save_obj(be_chem_data, 'be_chem_data')\n",
    "save_obj(sundials_data, 'sundials_data')\n",
    "\n",
    "t_arr = rv_int_be_chem['t'][mask]\n",
    "numpy.save(\"/home/kwoksun2/grackle/src/python/examples/t_arr.npy\", t_arr)"
   ]
  },
  {
   "cell_type": "code",
   "execution_count": null,
   "metadata": {
    "collapsed": true
   },
   "outputs": [],
   "source": []
  },
  {
   "cell_type": "code",
   "execution_count": 12,
   "metadata": {
    "collapsed": true
   },
   "outputs": [],
   "source": [
    "loc_pwd = \"/home/kwoksun2/grackle/src/python/examples/\"\n",
    "def save_obj(obj, name ):\n",
    "    with open(loc_pwd+ name + '.pkl', 'wb') as f:\n",
    "        pickle.dump(obj, f, pickle.HIGHEST_PROTOCOL)\n",
    "\n",
    "def load_obj(name ):\n",
    "    with open(loc_pwd + name + '.pkl', 'rb') as f:\n",
    "        return pickle.load(f)"
   ]
  },
  {
   "cell_type": "code",
   "execution_count": null,
   "metadata": {
    "collapsed": true
   },
   "outputs": [],
   "source": [
    "primordial.species_total('He_1')"
   ]
  },
  {
   "cell_type": "code",
   "execution_count": null,
   "metadata": {
    "collapsed": true
   },
   "outputs": [],
   "source": [
    "primordial.species_total('He_2')"
   ]
  },
  {
   "cell_type": "code",
   "execution_count": null,
   "metadata": {
    "collapsed": true
   },
   "outputs": [],
   "source": [
    "primordial.species_total('He_3')"
   ]
  },
  {
   "cell_type": "code",
   "execution_count": null,
   "metadata": {
    "collapsed": true
   },
   "outputs": [],
   "source": [
    "plt.plot(primordial.T, primordial.tev)\n",
    "plt.ylim(0,0.8)\n",
    "plt.xlim(0,6000)\n",
    "plt.show()"
   ]
  },
  {
   "cell_type": "code",
   "execution_count": null,
   "metadata": {
    "collapsed": true
   },
   "outputs": [],
   "source": [
    "[ 0.7660344*1.00794 + 0.2419056*4.002602]"
   ]
  },
  {
   "cell_type": "code",
   "execution_count": null,
   "metadata": {
    "collapsed": true
   },
   "outputs": [],
   "source": [
    "0.38*1.00794"
   ]
  },
  {
   "cell_type": "code",
   "execution_count": null,
   "metadata": {
    "collapsed": true
   },
   "outputs": [],
   "source": [
    "H_1 0.377006567851 0.38\n",
    "H_2 0.377006567851 0.38\n",
    "He_1 0.0199869984575 0.08\n",
    "He_2 0.0199869984575 0.08\n",
    "He_3 0.0199869984575 0.08\n",
    "de 0.436967563224 0.436967563224"
   ]
  },
  {
   "cell_type": "code",
   "execution_count": null,
   "metadata": {
    "collapsed": true
   },
   "outputs": [],
   "source": [
    "0.0199869984575*3 + 0.377006567851"
   ]
  },
  {
   "cell_type": "code",
   "execution_count": null,
   "metadata": {
    "collapsed": true
   },
   "outputs": [],
   "source": [
    "t = be_chem_data['t']\n",
    "\n",
    "for key in be_chem_data.keys():\n",
    "    if key[:2] == \"H_\" or key == 'de':\n",
    "        nH = be_chem_data[key]\n",
    "        plt.semilogx(t,nH[:],label=key)\n",
    "        \n",
    "plt.legend()\n",
    "plt.show()"
   ]
  },
  {
   "cell_type": "code",
   "execution_count": null,
   "metadata": {
    "collapsed": true
   },
   "outputs": [],
   "source": [
    "(be_chem_data['H_1']*1.00794 + be_chem_data['H_2']*1.00794)"
   ]
  },
  {
   "cell_type": "code",
   "execution_count": null,
   "metadata": {
    "collapsed": true
   },
   "outputs": [],
   "source": [
    "primordial.reactions"
   ]
  },
  {
   "cell_type": "code",
   "execution_count": null,
   "metadata": {
    "collapsed": true
   },
   "outputs": [],
   "source": [
    "mask = rv_int_be_chem['successful']\n",
    "t_arr = rv_int_be_chem['t'][mask]"
   ]
  },
  {
   "cell_type": "code",
   "execution_count": null,
   "metadata": {
    "collapsed": true
   },
   "outputs": [],
   "source": [
    "rv_int_be_chem['H2_1'][0][mask]"
   ]
  },
  {
   "cell_type": "code",
   "execution_count": null,
   "metadata": {
    "collapsed": true
   },
   "outputs": [],
   "source": [
    "rv_int_be_chem['successful']"
   ]
  },
  {
   "cell_type": "code",
   "execution_count": null,
   "metadata": {
    "collapsed": true
   },
   "outputs": [],
   "source": [
    "rv_int_be_chem['H2_1'][0][0]"
   ]
  },
  {
   "cell_type": "code",
   "execution_count": null,
   "metadata": {
    "collapsed": true
   },
   "outputs": [],
   "source": [
    "rv_int_be_chem['H2_2'][0][0]"
   ]
  },
  {
   "cell_type": "code",
   "execution_count": null,
   "metadata": {
    "collapsed": true
   },
   "outputs": [],
   "source": [
    "import yt.units as u\n",
    "(6*u.km/u.s).in_units('pc/yr')"
   ]
  },
  {
   "cell_type": "code",
   "execution_count": null,
   "metadata": {
    "collapsed": true
   },
   "outputs": [],
   "source": [
    "( u.G*u.Msun/ (6.0 *u.km/u.s)**2 ).in_units('pc')"
   ]
  },
  {
   "cell_type": "code",
   "execution_count": null,
   "metadata": {
    "collapsed": true
   },
   "outputs": [],
   "source": [
    "1e4*1e4*numpy.pi*0.00012**3 * 6e-6"
   ]
  },
  {
   "cell_type": "code",
   "execution_count": null,
   "metadata": {
    "collapsed": true
   },
   "outputs": [],
   "source": [
    "rxn = primordial.reactions"
   ]
  },
  {
   "cell_type": "code",
   "execution_count": null,
   "metadata": {
    "collapsed": true
   },
   "outputs": [],
   "source": [
    "rxn\n"
   ]
  },
  {
   "cell_type": "code",
   "execution_count": null,
   "metadata": {
    "collapsed": true
   },
   "outputs": [],
   "source": [
    "primordial.species_total('He_1')"
   ]
  },
  {
   "cell_type": "code",
   "execution_count": null,
   "metadata": {
    "collapsed": true
   },
   "outputs": [],
   "source": [
    "(rv_int_be_chem['He_1'] + rv_int_be_chem['He_2'] + rv_int_be_chem['He_3'])*4.002602"
   ]
  },
  {
   "cell_type": "code",
   "execution_count": null,
   "metadata": {
    "collapsed": true
   },
   "outputs": [],
   "source": [
    "rv_int_be_chem['de']"
   ]
  },
  {
   "cell_type": "code",
   "execution_count": null,
   "metadata": {
    "collapsed": true
   },
   "outputs": [],
   "source": [
    "rv_int_be_chem.keys()"
   ]
  },
  {
   "cell_type": "code",
   "execution_count": null,
   "metadata": {
    "collapsed": true
   },
   "outputs": [],
   "source": [
    "dengo.primordial_rates.setup_primordial()\n",
    "primordial = ChemicalNetwork()\n",
    "\n",
    "for i in range(23):\n",
    "    if (i+1) not in [13, 22]:\n",
    "        try:\n",
    "            primordial.add_reaction(\"k{0:02d}\".format(i+1))\n",
    "        except:\n",
    "            pass"
   ]
  },
  {
   "cell_type": "code",
   "execution_count": null,
   "metadata": {
    "collapsed": true
   },
   "outputs": [],
   "source": [
    "(primordial.logT)/numpy.log(10) - numpy.log10(primordial.T)"
   ]
  },
  {
   "cell_type": "code",
   "execution_count": null,
   "metadata": {
    "collapsed": true
   },
   "outputs": [],
   "source": [
    "numpy.log(10)"
   ]
  },
  {
   "cell_type": "code",
   "execution_count": 21,
   "metadata": {},
   "outputs": [
    {
     "data": {
      "text/plain": [
       "4"
      ]
     },
     "execution_count": 21,
     "metadata": {},
     "output_type": "execute_result"
    }
   ],
   "source": [
    "primordial.threebody"
   ]
  },
  {
   "cell_type": "code",
   "execution_count": 25,
   "metadata": {},
   "outputs": [
    {
     "data": {
      "text/plain": [
       "{'H2_1': array([  1.17748225e+09,   1.24077294e+09,   1.25632894e+09,\n",
       "          1.25993859e+09,   1.26073937e+09,   1.26089148e+09,\n",
       "          1.26087775e+09,   1.26080561e+09,   1.26070211e+09,\n",
       "          1.26057614e+09,   1.26043129e+09,   1.26026875e+09,\n",
       "          1.26008841e+09,   1.25988929e+09,   1.25966990e+09,\n",
       "          1.25942838e+09,   1.25916257e+09,   1.25887006e+09,\n",
       "          1.25854815e+09,   1.25819389e+09,   1.25780402e+09,\n",
       "          1.25737492e+09,   1.25690264e+09,   1.25638280e+09,\n",
       "          1.25581057e+09,   1.25518064e+09,   1.25448715e+09,\n",
       "          1.25372362e+09,   1.25288293e+09,   1.25195719e+09,\n",
       "          1.25093773e+09,   1.24981494e+09,   1.24857826e+09,\n",
       "          1.24721598e+09,   1.24571521e+09,   1.24406171e+09,\n",
       "          1.24223974e+09,   1.24023193e+09,   1.23801912e+09,\n",
       "          1.23558015e+09,   1.23289168e+09,   1.22992795e+09,\n",
       "          1.22666062e+09,   1.22305843e+09,   1.21908704e+09,\n",
       "          1.21470870e+09,   1.20988202e+09,   1.20456170e+09,\n",
       "          1.19869827e+09,   1.19223786e+09,   1.18512205e+09,\n",
       "          1.17728767e+09,   1.16866683e+09,   1.15918689e+09,\n",
       "          1.14877073e+09,   1.13733710e+09,   1.12480120e+09,\n",
       "          1.11107553e+09,   1.09607110e+09,   1.07969887e+09,\n",
       "          1.06187166e+09,   1.04250645e+09,   1.02152705e+09,\n",
       "          9.98867150e+08,   9.74473766e+08,   9.48310805e+08,\n",
       "          9.20362808e+08,   8.90638553e+08,   8.59174366e+08,\n",
       "          8.26036855e+08,   7.91316456e+08,   7.55078498e+08,\n",
       "          7.35726423e+08,   7.15121780e+08,   6.93257812e+08,\n",
       "          6.70142610e+08,   6.45801139e+08,   6.20277058e+08,\n",
       "          5.93634209e+08,   5.65922528e+08,   5.37228044e+08,\n",
       "          5.07677107e+08,   4.77418626e+08,   4.46622723e+08,\n",
       "          4.15478588e+08,   3.84176465e+08,   3.52883398e+08,\n",
       "          3.21834495e+08,   2.91271640e+08,   2.61438372e+08,\n",
       "          2.32574530e+08,   2.04910782e+08,   1.78648984e+08,\n",
       "          1.53968905e+08,   1.31055750e+08,   1.10062498e+08,\n",
       "          9.11040852e+07,   7.42521721e+07,   5.95309008e+07,\n",
       "          4.69141736e+07,   3.63251327e+07,   2.76385168e+07,\n",
       "          2.06863984e+07,   1.52674015e+07,   1.11588953e+07,\n",
       "          8.13098928e+06,   5.96062899e+06,   4.44391591e+06,\n",
       "          3.40506621e+06,   2.70021945e+06,   2.22022225e+06,\n",
       "          1.88616961e+06,   1.64404050e+06,   1.45891247e+06,\n",
       "          1.30939782e+06,   1.18300077e+06,   1.07266039e+06,\n",
       "          9.74420248e+05,   8.85993785e+05,   8.05952376e+05,\n",
       "          7.33300081e+05,   6.67265520e+05,   6.07204979e+05,\n",
       "          5.52558043e+05,   5.02826381e+05,   4.57562348e+05,\n",
       "          4.16361764e+05,   3.78858637e+05,   3.44720942e+05,\n",
       "          3.13647084e+05,   2.85362852e+05,   2.59618763e+05,\n",
       "          2.36187724e+05,   2.14862946e+05,   1.95456089e+05,\n",
       "          1.77795587e+05,   1.61725143e+05,   1.47102364e+05,\n",
       "          1.33797522e+05,   1.21692437e+05,   1.10679449e+05,\n",
       "          1.00660492e+05,   9.15462436e+04,   8.32553533e+04,\n",
       "          7.57137371e+04,   6.88539347e+04,   6.26145227e+04,\n",
       "          5.69395795e+04,   5.17781964e+04,   4.70840328e+04,\n",
       "          4.28149090e+04,   3.89324360e+04,   3.54016773e+04,\n",
       "          3.21908403e+04,   2.92709958e+04,   2.66158212e+04,\n",
       "          2.42013673e+04,   2.20058457e+04,   2.00094343e+04,\n",
       "          1.81941011e+04,   1.65434432e+04,   1.50425402e+04,\n",
       "          1.36778207e+04,   1.24369409e+04,   1.13086738e+04,\n",
       "          1.02828084e+04,   9.35005840e+03,   8.50197820e+03,\n",
       "          7.73088733e+03,   7.02980112e+03,   6.39236788e+03,\n",
       "          5.81281161e+03,   5.28587993e+03,   4.80679669e+03,\n",
       "          4.37121887e+03,   3.97519734e+03,   3.61514118e+03,\n",
       "          3.28778528e+03,   2.99016073e+03,   2.71956804e+03,\n",
       "          2.47355271e+03,   2.24988298e+03,   2.04652968e+03,\n",
       "          1.86164781e+03,   1.69355986e+03,   1.54074063e+03,\n",
       "          1.40180338e+03,   1.27548728e+03,   1.16064597e+03,\n",
       "          1.05623722e+03,   9.61313409e+02,   8.75012987e+02,\n",
       "          7.96552642e+02,   7.25220205e+02,   6.60368183e+02,\n",
       "          6.01407895e+02,   5.47804125e+02,   4.99070273e+02,\n",
       "          4.54763935e+02,   4.14482894e+02,   3.77861467e+02,\n",
       "          3.44567190e+02,   3.14297798e+02,   2.86778485e+02,\n",
       "          2.61759409e+02,   2.39013422e+02,   2.18334013e+02,\n",
       "          1.99533431e+02,   1.82440981e+02,   1.66901477e+02,\n",
       "          1.52773827e+02,   1.39929761e+02,   1.28252661e+02,\n",
       "          1.17636503e+02,   1.07984896e+02,   9.92102054e+01,\n",
       "          9.12327599e+01,   8.39801251e+01,   7.73864479e+01,\n",
       "          7.13918582e+01,   6.59419252e+01,   6.09871635e+01,\n",
       "          5.64825833e+01,   5.23872827e+01,   4.86640757e+01,\n",
       "          4.52791550e+01,   4.22017847e+01,   3.94040216e+01,\n",
       "          3.68604612e+01,   3.45480071e+01,   3.24456615e+01,\n",
       "          3.05343343e+01,   2.87966699e+01,   2.72168895e+01,\n",
       "          2.57806479e+01,   2.44749035e+01,   2.32877994e+01,\n",
       "          2.22085560e+01,   2.12273733e+01,   2.03353414e+01,\n",
       "          1.95243602e+01,   1.87870654e+01,   1.81167619e+01,\n",
       "          1.75073630e+01,   1.69533348e+01,   1.64496463e+01,\n",
       "          1.59917236e+01,   1.55754086e+01,   1.51969206e+01,\n",
       "          1.50622097e+01]),\n",
       " 'H2_2': array([  2.19751064e+06,   1.74047115e+06,   1.20172886e+06,\n",
       "          7.62440441e+05,   4.54296799e+05,   2.57308294e+05,\n",
       "          1.39195396e+05,   7.20163951e+04,   3.56661059e+04,\n",
       "          1.69632751e+04,   7.82850438e+03,   3.60201143e+03,\n",
       "          1.75353999e+03,   9.91034253e+02,   6.95030520e+02,\n",
       "          5.87161944e+02,   5.50389515e+02,   5.38750131e+02,\n",
       "          5.35412370e+02,   5.34638547e+02,   5.34611106e+02,\n",
       "          5.34796246e+02,   5.35049276e+02,   5.35334511e+02,\n",
       "          5.35644416e+02,   5.35978087e+02,   5.36335937e+02,\n",
       "          5.36718460e+02,   5.37125902e+02,   5.37558124e+02,\n",
       "          5.38014473e+02,   5.38493649e+02,   5.38993531e+02,\n",
       "          5.39510986e+02,   5.40041630e+02,   5.40579561e+02,\n",
       "          5.41117034e+02,   5.41644104e+02,   5.42148199e+02,\n",
       "          5.42613649e+02,   5.43021160e+02,   5.43347224e+02,\n",
       "          5.43563484e+02,   5.43636062e+02,   5.43524849e+02,\n",
       "          5.43182799e+02,   5.42555244e+02,   5.41579278e+02,\n",
       "          5.40183254e+02,   5.38286477e+02,   5.35799154e+02,\n",
       "          5.32622705e+02,   5.28650541e+02,   5.23769410e+02,\n",
       "          5.17861433e+02,   5.10806922e+02,   5.02488060e+02,\n",
       "          4.92793474e+02,   4.81623677e+02,   4.68897264e+02,\n",
       "          4.54557651e+02,   4.38580025e+02,   4.20978049e+02,\n",
       "          4.01809765e+02,   3.81182044e+02,   3.59252918e+02,\n",
       "          3.36231175e+02,   3.12372745e+02,   2.87973652e+02,\n",
       "          2.63359622e+02,   2.39018650e+02,   2.16121220e+02,\n",
       "          2.04494489e+02,   1.92556800e+02,   1.80389479e+02,\n",
       "          1.68086369e+02,   1.55750874e+02,   1.43493259e+02,\n",
       "          1.31427273e+02,   1.20016802e+02,   1.09124627e+02,\n",
       "          9.86575708e+01,   8.87026314e+01,   7.93339159e+01,\n",
       "          7.06095254e+01,   6.26297088e+01,   5.55176391e+01,\n",
       "          4.90418337e+01,   4.32006604e+01,   3.79785816e+01,\n",
       "          3.33479955e+01,   2.92718282e+01,   2.57242717e+01,\n",
       "          2.26536597e+01,   1.99769402e+01,   1.76525893e+01,\n",
       "          1.56397544e+01,   1.38994744e+01,   1.23955231e+01,\n",
       "          1.10948879e+01,   9.96795422e+00,   8.98848331e+00,\n",
       "          8.13346859e+00,   7.38294420e+00,   6.71979021e+00,\n",
       "          6.12954921e+00,   5.60024274e+00,   5.12216397e+00,\n",
       "          4.68762667e+00,   4.29080181e+00,   3.92695103e+00,\n",
       "          3.59256658e+00,   3.28493700e+00,   3.00186503e+00,\n",
       "          2.74149123e+00,   2.50217314e+00,   2.28241049e+00,\n",
       "          2.08080354e+00,   1.89603257e+00,   1.72684916e+00,\n",
       "          1.57207311e+00,   1.43059159e+00,   1.30135860e+00,\n",
       "          1.18339422e+00,   1.07578328e+00,   9.77673472e-01,\n",
       "          8.88273076e-01,   8.06848358e-01,   7.32720724e-01,\n",
       "          6.65263755e-01,   6.03900162e-01,   5.48098750e-01,\n",
       "          4.97371403e-01,   4.51270154e-01,   4.09384340e-01,\n",
       "          3.71337884e-01,   3.36786703e-01,   3.05416250e-01,\n",
       "          2.76939198e-01,   2.51093274e-01,   2.27639220e-01,\n",
       "          2.06358906e-01,   1.87053568e-01,   1.69542176e-01,\n",
       "          1.53659928e-01,   1.39256851e-01,   1.26196525e-01,\n",
       "          1.14354893e-01,   1.03619184e-01,   9.38869074e-02,\n",
       "          8.50649474e-02,   7.70687222e-02,   6.98214204e-02,\n",
       "          6.32533014e-02,   5.73010564e-02,   5.19072252e-02,\n",
       "          4.70196644e-02,   4.25910626e-02,   3.85784981e-02,\n",
       "          3.49430370e-02,   3.16493666e-02,   2.86654623e-02,\n",
       "          2.59622839e-02,   2.35135004e-02,   2.12952391e-02,\n",
       "          1.92858577e-02,   1.74657377e-02,   1.58170962e-02,\n",
       "          1.43238151e-02,   1.29712863e-02,   1.17462709e-02,\n",
       "          1.06367715e-02,   9.63191620e-03,   8.72185379e-03,\n",
       "          7.89765795e-03,   7.15124092e-03,   6.47527497e-03,\n",
       "          5.86312123e-03,   5.30876511e-03,   4.80675780e-03,\n",
       "          4.35216316e-03,   3.94050966e-03,   3.56774671e-03,\n",
       "          3.23020516e-03,   2.92456147e-03,   2.64780517e-03,\n",
       "          2.39720952e-03,   2.17030474e-03,   1.96485390e-03,\n",
       "          1.77883095e-03,   1.61040095e-03,   1.45790199e-03,\n",
       "          1.31982898e-03,   1.19481882e-03,   1.08163704e-03,\n",
       "          9.79165694e-04,   8.86392368e-04,   8.02400225e-04,\n",
       "          7.26359007e-04,   6.57516860e-04,   5.95192948e-04,\n",
       "          5.38770749e-04,   4.87691986e-04,   4.41451138e-04,\n",
       "          3.99590453e-04,   3.61695445e-04,   3.27390807e-04,\n",
       "          2.96336711e-04,   2.68225462e-04,   2.42778460e-04,\n",
       "          2.19743450e-04,   1.98892040e-04,   1.80017438e-04,\n",
       "          1.62932419e-04,   1.47467471e-04,   1.33469120e-04,\n",
       "          1.20798420e-04,   1.09329573e-04,   9.89486891e-05,\n",
       "          8.95526612e-05,   8.10481430e-05,   7.33506275e-05,\n",
       "          6.63836099e-05,   6.00778315e-05,   5.43705933e-05,\n",
       "          4.92051357e-05,   4.45300767e-05,   4.02989023e-05,\n",
       "          3.64695061e-05,   3.30037723e-05,   2.98671973e-05,\n",
       "          2.70285483e-05,   2.44595529e-05,   2.21346195e-05,\n",
       "          2.00305829e-05,   1.81264743e-05,   1.64033139e-05,\n",
       "          1.48439217e-05,   1.34327475e-05,   1.21557163e-05,\n",
       "          1.10000882e-05,   9.95433236e-06,   9.00801204e-06,\n",
       "          8.15168095e-06,   7.37678939e-06,   6.67559920e-06,\n",
       "          6.04110681e-06,   5.46697355e-06,   4.94746263e-06,\n",
       "          4.76290096e-06]),\n",
       " 'H_1': array([  4.07466126e+09,   4.45110203e+09,   4.53294588e+09,\n",
       "          4.55117682e+09,   4.55521988e+09,   4.55625050e+09,\n",
       "          4.55668781e+09,   4.55702572e+09,   4.55736326e+09,\n",
       "          4.55772343e+09,   4.55811486e+09,   4.55854319e+09,\n",
       "          4.55901330e+09,   4.55952997e+09,   4.56009814e+09,\n",
       "          4.56072308e+09,   4.56141053e+09,   4.56216677e+09,\n",
       "          4.56299870e+09,   4.56391390e+09,   4.56492072e+09,\n",
       "          4.56602834e+09,   4.56724685e+09,   4.56858737e+09,\n",
       "          4.57006214e+09,   4.57168459e+09,   4.57346955e+09,\n",
       "          4.57543331e+09,   4.57759378e+09,   4.57997070e+09,\n",
       "          4.58258575e+09,   4.58546282e+09,   4.58862816e+09,\n",
       "          4.59211065e+09,   4.59594204e+09,   4.60015727e+09,\n",
       "          4.60479470e+09,   4.60989651e+09,   4.61550903e+09,\n",
       "          4.62168310e+09,   4.62847453e+09,   4.63594449e+09,\n",
       "          4.64416000e+09,   4.65319437e+09,   4.66312778e+09,\n",
       "          4.67404766e+09,   4.68604930e+09,   4.69923628e+09,\n",
       "          4.71372088e+09,   4.72962452e+09,   4.74707802e+09,\n",
       "          4.76622172e+09,   4.78720550e+09,   4.81018846e+09,\n",
       "          4.83533840e+09,   4.86283084e+09,   4.89284766e+09,\n",
       "          4.92557511e+09,   4.96120131e+09,   4.99991292e+09,\n",
       "          5.04189117e+09,   5.08730697e+09,   5.13631527e+09,\n",
       "          5.18904867e+09,   5.24561032e+09,   5.30606652e+09,\n",
       "          5.37043898e+09,   5.43869748e+09,   5.51075305e+09,\n",
       "          5.58645245e+09,   5.66559107e+09,   5.74801096e+09,\n",
       "          5.79197993e+09,   5.83874860e+09,   5.88832983e+09,\n",
       "          5.94070407e+09,   5.99581515e+09,   6.05356636e+09,\n",
       "          6.11381742e+09,   6.17645259e+09,   6.24128057e+09,\n",
       "          6.30802613e+09,   6.37636578e+09,   6.44593075e+09,\n",
       "          6.51631157e+09,   6.58709460e+09,   6.65791104e+09,\n",
       "          6.72825481e+09,   6.79760587e+09,   6.86544099e+09,\n",
       "          6.93124519e+09,   6.99452325e+09,   7.05483957e+09,\n",
       "          7.11180524e+09,   7.16502334e+09,   7.21416463e+09,\n",
       "          7.25897940e+09,   7.29930807e+09,   7.33508970e+09,\n",
       "          7.36636737e+09,   7.39328906e+09,   7.41610273e+09,\n",
       "          7.43514457e+09,   7.45082029e+09,   7.46358034e+09,\n",
       "          7.47389164e+09,   7.48220904e+09,   7.48895035e+09,\n",
       "          7.49447812e+09,   7.49909178e+09,   7.50302181e+09,\n",
       "          7.50643844e+09,   7.50946222e+09,   7.51217544e+09,\n",
       "          7.51463313e+09,   7.51687225e+09,   7.51891850e+09,\n",
       "          7.52079095e+09,   7.52250487e+09,   7.52407328e+09,\n",
       "          7.52550782e+09,   7.52681914e+09,   7.52801709e+09,\n",
       "          7.52911084e+09,   7.53010887e+09,   7.53101909e+09,\n",
       "          7.53184882e+09,   7.53260482e+09,   7.53329336e+09,\n",
       "          7.53392021e+09,   7.53449069e+09,   7.53500969e+09,\n",
       "          7.53548171e+09,   7.53591088e+09,   7.53630098e+09,\n",
       "          7.53665548e+09,   7.53697756e+09,   7.53727011e+09,\n",
       "          7.53753580e+09,   7.53777705e+09,   7.53799606e+09,\n",
       "          7.53819486e+09,   7.53837529e+09,   7.53853902e+09,\n",
       "          7.53868759e+09,   7.53882237e+09,   7.53894464e+09,\n",
       "          7.53905554e+09,   7.53915613e+09,   7.53924735e+09,\n",
       "          7.53933008e+09,   7.53940509e+09,   7.53947311e+09,\n",
       "          7.53953478e+09,   7.53959068e+09,   7.53964137e+09,\n",
       "          7.53968731e+09,   7.53972896e+09,   7.53976671e+09,\n",
       "          7.53980093e+09,   7.53983194e+09,   7.53986005e+09,\n",
       "          7.53988552e+09,   7.53990861e+09,   7.53992953e+09,\n",
       "          7.53994849e+09,   7.53996567e+09,   7.53998124e+09,\n",
       "          7.53999535e+09,   7.54000813e+09,   7.54001972e+09,\n",
       "          7.54003021e+09,   7.54003972e+09,   7.54004834e+09,\n",
       "          7.54005615e+09,   7.54006322e+09,   7.54006963e+09,\n",
       "          7.54007544e+09,   7.54008070e+09,   7.54008546e+09,\n",
       "          7.54008978e+09,   7.54009369e+09,   7.54009724e+09,\n",
       "          7.54010045e+09,   7.54010336e+09,   7.54010599e+09,\n",
       "          7.54010838e+09,   7.54011054e+09,   7.54011250e+09,\n",
       "          7.54011427e+09,   7.54011588e+09,   7.54011734e+09,\n",
       "          7.54011866e+09,   7.54011985e+09,   7.54012093e+09,\n",
       "          7.54012191e+09,   7.54012280e+09,   7.54012361e+09,\n",
       "          7.54012433e+09,   7.54012499e+09,   7.54012559e+09,\n",
       "          7.54012613e+09,   7.54012662e+09,   7.54012707e+09,\n",
       "          7.54012747e+09,   7.54012783e+09,   7.54012816e+09,\n",
       "          7.54012846e+09,   7.54012873e+09,   7.54012898e+09,\n",
       "          7.54012920e+09,   7.54012940e+09,   7.54012959e+09,\n",
       "          7.54012975e+09,   7.54012990e+09,   7.54013004e+09,\n",
       "          7.54013016e+09,   7.54013027e+09,   7.54013037e+09,\n",
       "          7.54013046e+09,   7.54013054e+09,   7.54013062e+09,\n",
       "          7.54013069e+09,   7.54013075e+09,   7.54013080e+09,\n",
       "          7.54013085e+09,   7.54013090e+09,   7.54013094e+09,\n",
       "          7.54013098e+09,   7.54013101e+09,   7.54013104e+09,\n",
       "          7.54013107e+09,   7.54013109e+09,   7.54013112e+09,\n",
       "          7.54013114e+09,   7.54013116e+09,   7.54013117e+09,\n",
       "          7.54013119e+09,   7.54013120e+09,   7.54013121e+09,\n",
       "          7.54013123e+09,   7.54013124e+09,   7.54013124e+09,\n",
       "          7.54013125e+09,   7.54013126e+09,   7.54013127e+09,\n",
       "          7.54013127e+09,   7.54013128e+09,   7.54013128e+09,\n",
       "          7.54013129e+09]),\n",
       " 'H_2': array([  7.23359637e+08,   5.18118344e+08,   4.73421677e+08,\n",
       "          4.63734074e+08,   4.61799877e+08,   4.61455838e+08,\n",
       "          4.61388672e+08,   4.61346908e+08,   4.61291734e+08,\n",
       "          4.61221277e+08,   4.61137878e+08,   4.61043078e+08,\n",
       "          4.60937352e+08,   4.60820444e+08,   4.60691645e+08,\n",
       "          4.60549961e+08,   4.60394200e+08,   4.60223012e+08,\n",
       "          4.60034898e+08,   4.59828211e+08,   4.59601143e+08,\n",
       "          4.59351717e+08,   4.59077769e+08,   4.58776933e+08,\n",
       "          4.58446625e+08,   4.58084023e+08,   4.57686050e+08,\n",
       "          4.57249348e+08,   4.56770263e+08,   4.56244818e+08,\n",
       "          4.55668691e+08,   4.55037189e+08,   4.54345225e+08,\n",
       "          4.53587289e+08,   4.52757427e+08,   4.51849213e+08,\n",
       "          4.50855725e+08,   4.49769522e+08,   4.48582622e+08,\n",
       "          4.47286489e+08,   4.45872010e+08,   4.44329493e+08,\n",
       "          4.42648660e+08,   4.40818649e+08,   4.38828032e+08,\n",
       "          4.36664828e+08,   4.34316545e+08,   4.31770223e+08,\n",
       "          4.29012495e+08,   4.26029664e+08,   4.22807799e+08,\n",
       "          4.19332851e+08,   4.15590777e+08,   4.11567702e+08,\n",
       "          4.07250086e+08,   4.02624921e+08,   3.97679936e+08,\n",
       "          3.92403832e+08,   3.86786525e+08,   3.80819404e+08,\n",
       "          3.74495598e+08,   3.67810250e+08,   3.60760796e+08,\n",
       "          3.53347235e+08,   3.45572392e+08,   3.37442164e+08,\n",
       "          3.28965744e+08,   3.20155808e+08,   3.11028661e+08,\n",
       "          3.01604331e+08,   2.91906568e+08,   2.81962635e+08,\n",
       "          2.76697848e+08,   2.71138487e+08,   2.65285224e+08,\n",
       "          2.59141410e+08,   2.52713305e+08,   2.46010278e+08,\n",
       "          2.39044942e+08,   2.31833166e+08,   2.24394179e+08,\n",
       "          2.16750522e+08,   2.08927856e+08,   2.00954718e+08,\n",
       "          1.92862187e+08,   1.84683428e+08,   1.76453147e+08,\n",
       "          1.68207193e+08,   1.59981870e+08,   1.51813301e+08,\n",
       "          1.43736801e+08,   1.35786258e+08,   1.27993548e+08,\n",
       "          1.20388048e+08,   1.12996269e+08,   1.05841499e+08,\n",
       "          9.89435698e+07,   9.23187388e+07,   8.59796612e+07,\n",
       "          7.99354578e+07,   7.41918620e+07,   6.87514357e+07,\n",
       "          6.36138372e+07,   5.87761279e+07,   5.42331006e+07,\n",
       "          4.99776177e+07,   4.60009450e+07,   4.22930714e+07,\n",
       "          3.88430068e+07,   3.56390454e+07,   3.26690197e+07,\n",
       "          2.99205028e+07,   2.73809850e+07,   2.50380234e+07,\n",
       "          2.28793658e+07,   2.08930507e+07,   1.90674872e+07,\n",
       "          1.73915161e+07,   1.58544551e+07,   1.44461309e+07,\n",
       "          1.31568985e+07,   1.19776510e+07,   1.08998216e+07,\n",
       "          9.91537776e+06,   9.01681066e+06,   8.19712015e+06,\n",
       "          7.44979629e+06,   6.76879865e+06,   6.14853383e+06,\n",
       "          5.58383201e+06,   5.06992298e+06,   4.60241200e+06,\n",
       "          4.17725603e+06,   3.79074032e+06,   3.43945578e+06,\n",
       "          3.12027723e+06,   2.83034254e+06,   2.56703287e+06,\n",
       "          2.32795400e+06,   2.11091865e+06,   1.91393005e+06,\n",
       "          1.73516646e+06,   1.57296683e+06,   1.42581739e+06,\n",
       "          1.29233931e+06,   1.17127723e+06,   1.06148867e+06,\n",
       "          9.61934249e+05,   8.71668763e+05,   7.89832886e+05,\n",
       "          7.15645616e+05,   6.48397325e+05,   5.87443394e+05,\n",
       "          5.32198397e+05,   4.82130774e+05,   4.36757971e+05,\n",
       "          3.95642001e+05,   3.58385389e+05,   3.24627488e+05,\n",
       "          2.94041106e+05,   2.66329442e+05,   2.41223300e+05,\n",
       "          2.18478545e+05,   1.97873793e+05,   1.79208310e+05,\n",
       "          1.62300104e+05,   1.46984185e+05,   1.33110992e+05,\n",
       "          1.20544956e+05,   1.09163202e+05,   9.88543672e+04,\n",
       "          8.95175245e+04,   8.10612140e+04,   7.34025564e+04,\n",
       "          6.64664525e+04,   6.01848555e+04,   5.44961113e+04,\n",
       "          4.93443603e+04,   4.46789942e+04,   4.04541643e+04,\n",
       "          3.66283351e+04,   3.31638796e+04,   3.00267127e+04,\n",
       "          2.71859582e+04,   2.46136480e+04,   2.22844485e+04,\n",
       "          2.01754129e+04,   1.82657571e+04,   1.65366562e+04,\n",
       "          1.49710597e+04,   1.35535254e+04,   1.22700673e+04,\n",
       "          1.11080186e+04,   1.00559079e+04,   9.10334606e+03,\n",
       "          8.24092450e+03,   7.46012278e+03,   6.75322487e+03,\n",
       "          6.11324327e+03,   5.53385037e+03,   5.00931621e+03,\n",
       "          4.53445208e+03,   4.10455947e+03,   3.71538384e+03,\n",
       "          3.36307269e+03,   3.04413763e+03,   2.75542002e+03,\n",
       "          2.49405981e+03,   2.25746737e+03,   2.04329793e+03,\n",
       "          1.84942848e+03,   1.67393680e+03,   1.51508249e+03,\n",
       "          1.37128982e+03,   1.24113213e+03,   1.12331775e+03,\n",
       "          1.01667726e+03,   9.20151920e+02,   8.32783205e+02,\n",
       "          7.53703330e+02,   6.82126669e+02,   6.17341986e+02,\n",
       "          5.58705395e+02,   5.05633995e+02,   4.57600093e+02,\n",
       "          4.14125984e+02,   3.74779219e+02,   3.39168325e+02,\n",
       "          3.06938922e+02,   2.77770214e+02,   2.51371809e+02,\n",
       "          2.27480842e+02,   2.05859365e+02,   1.86291990e+02,\n",
       "          1.68583752e+02,   1.52558171e+02,   1.38055506e+02,\n",
       "          1.24931167e+02,   1.13054277e+02,   1.02306377e+02,\n",
       "          9.25802437e+01,   8.37788304e+01,   7.58142977e+01,\n",
       "          6.86071430e+01,   6.20854092e+01,   5.61839695e+01,\n",
       "          5.08438796e+01,   4.60117914e+01,   4.16394221e+01,\n",
       "          4.00860923e+01]),\n",
       " 'H_m0': array([  3.82750932e+08,   8.58841500e+07,   1.87024657e+07,\n",
       "          3.81839273e+06,   7.24264685e+05,   1.27436284e+05,\n",
       "          2.09917460e+04,   3.46905195e+03,   8.10038690e+02,\n",
       "          4.38494888e+02,   3.90718884e+02,   3.85046058e+02,\n",
       "          3.84396112e+02,   3.84292321e+02,   3.84239273e+02,\n",
       "          3.84186517e+02,   3.84129014e+02,   3.84065905e+02,\n",
       "          3.83996633e+02,   3.83920615e+02,   3.83837212e+02,\n",
       "          3.83745733e+02,   3.83645424e+02,   3.83535465e+02,\n",
       "          3.83414969e+02,   3.83282976e+02,   3.83138445e+02,\n",
       "          3.82980257e+02,   3.82807202e+02,   3.82617983e+02,\n",
       "          3.82411209e+02,   3.82185389e+02,   3.81938938e+02,\n",
       "          3.81670166e+02,   3.81377284e+02,   3.81058406e+02,\n",
       "          3.80711545e+02,   3.80334625e+02,   3.79925483e+02,\n",
       "          3.79481879e+02,   3.79001509e+02,   3.78482013e+02,\n",
       "          3.77920998e+02,   3.77316050e+02,   3.76664753e+02,\n",
       "          3.75964713e+02,   3.75213574e+02,   3.74409034e+02,\n",
       "          3.73548859e+02,   3.72630889e+02,   3.71653033e+02,\n",
       "          3.70613250e+02,   3.69509515e+02,   3.68339759e+02,\n",
       "          3.67101783e+02,   3.65793142e+02,   3.64410994e+02,\n",
       "          3.62951909e+02,   3.61411644e+02,   3.59784877e+02,\n",
       "          3.58064917e+02,   3.56243389e+02,   3.54309911e+02,\n",
       "          3.52251796e+02,   3.50053778e+02,   3.47697814e+02,\n",
       "          3.45162988e+02,   3.42425542e+02,   3.39459075e+02,\n",
       "          3.36234931e+02,   3.32722533e+02,   3.28889370e+02,\n",
       "          3.26736309e+02,   3.24384282e+02,   3.21815443e+02,\n",
       "          3.19010860e+02,   3.15950773e+02,   3.12614896e+02,\n",
       "          3.08982811e+02,   3.05032716e+02,   3.00747179e+02,\n",
       "          2.96109861e+02,   2.91105482e+02,   2.85721936e+02,\n",
       "          2.79951106e+02,   2.73788983e+02,   2.67236256e+02,\n",
       "          2.60303645e+02,   2.53005160e+02,   2.45361341e+02,\n",
       "          2.37399165e+02,   2.29151695e+02,   2.20656787e+02,\n",
       "          2.11957367e+02,   2.03101545e+02,   1.94138596e+02,\n",
       "          1.85119128e+02,   1.76093829e+02,   1.67112272e+02,\n",
       "          1.58221816e+02,   1.49466674e+02,   1.40887165e+02,\n",
       "          1.32519182e+02,   1.24393866e+02,   1.16537482e+02,\n",
       "          1.08971464e+02,   1.01712590e+02,   9.47732598e+01,\n",
       "          8.81618224e+01,   8.18826218e+01,   7.59372813e+01,\n",
       "          7.03242616e+01,   6.50393425e+01,   6.00760597e+01,\n",
       "          5.54260477e+01,   5.10793706e+01,   4.70248352e+01,\n",
       "          4.32502837e+01,   3.97428620e+01,   3.64892610e+01,\n",
       "          3.34759286e+01,   3.06892548e+01,   2.81157272e+01,\n",
       "          2.57420615e+01,   2.35553067e+01,   2.15429287e+01,\n",
       "          1.96928745e+01,   1.79936180e+01,   1.64341924e+01,\n",
       "          1.50042085e+01,   1.36938632e+01,   1.24939392e+01,\n",
       "          1.13957969e+01,   1.03913617e+01,   9.47310587e+00,\n",
       "          8.63402779e+00,   7.86762890e+00,   7.16788876e+00,\n",
       "          6.52923937e+00,   5.94653914e+00,   5.41504687e+00,\n",
       "          4.93039607e+00,   4.48857004e+00,   4.08587767e+00,\n",
       "          3.71893026e+00,   3.38461945e+00,   3.08009628e+00,\n",
       "          2.80275137e+00,   2.55019635e+00,   2.32024641e+00,\n",
       "          2.11090407e+00,   1.92034397e+00,   1.74689881e+00,\n",
       "          1.58904625e+00,   1.44539688e+00,   1.31468297e+00,\n",
       "          1.19574823e+00,   1.08753827e+00,   9.89091887e-01,\n",
       "          8.99533031e-01,   8.18063421e-01,   7.43955790e-01,\n",
       "          6.76547683e-01,   6.15235780e-01,   5.59470698e-01,\n",
       "          5.08752232e-01,   4.62625016e-01,   4.20674543e-01,\n",
       "          3.82523541e-01,   3.47828660e-01,   3.16277445e-01,\n",
       "          2.87585585e-01,   2.61494389e-01,   2.37768497e-01,\n",
       "          2.16193787e-01,   1.96575469e-01,   1.78736349e-01,\n",
       "          1.62515245e-01,   1.47765549e-01,   1.34353911e-01,\n",
       "          1.22159046e-01,   1.11070648e-01,   1.00988393e-01,\n",
       "          9.18210446e-02,   8.34856282e-02,   7.59066870e-02,\n",
       "          6.90156013e-02,   6.27499701e-02,   5.70530489e-02,\n",
       "          5.18732373e-02,   4.71636135e-02,   4.28815108e-02,\n",
       "          3.89881317e-02,   3.54481979e-02,   3.22296313e-02,\n",
       "          2.93032636e-02,   2.66425731e-02,   2.42234442e-02,\n",
       "          2.20239497e-02,   2.00241522e-02,   1.82059234e-02,\n",
       "          1.65527803e-02,   1.50497361e-02,   1.36831640e-02,\n",
       "          1.24406741e-02,   1.13110011e-02,   1.02839024e-02,\n",
       "          9.35006501e-03,   8.50102150e-03,   7.72907307e-03,\n",
       "          7.02721981e-03,   6.38909732e-03,   5.80891901e-03,\n",
       "          5.28142361e-03,   4.80182756e-03,   4.36578158e-03,\n",
       "          3.96933128e-03,   3.60888130e-03,   3.28116274e-03,\n",
       "          2.98320348e-03,   2.71230127e-03,   2.46599922e-03,\n",
       "          2.24206353e-03,   2.03846320e-03,   1.85335168e-03,\n",
       "          1.68505007e-03,   1.53203192e-03,   1.39290939e-03,\n",
       "          1.26642066e-03,   1.15141848e-03,   1.04685978e-03,\n",
       "          9.51796200e-04,   8.65365509e-04,   7.86783760e-04,\n",
       "          7.15338197e-04,   6.50380784e-04,   5.91322335e-04,\n",
       "          5.37627162e-04,   4.88808225e-04,   4.44422709e-04,\n",
       "          4.04068009e-04,   3.67378084e-04,   3.34020128e-04,\n",
       "          3.03691560e-04,   2.76117274e-04,   2.51047148e-04,\n",
       "          2.28253774e-04,   2.07530391e-04,   1.88689019e-04,\n",
       "          1.81982895e-04]),\n",
       " 'He_1': array([  1.99882749e+08,   1.99898186e+08,   1.99915541e+08,\n",
       "          1.99934726e+08,   1.99955852e+08,   1.99979101e+08,\n",
       "          2.00004682e+08,   2.00032829e+08,   2.00063802e+08,\n",
       "          2.00097885e+08,   2.00135394e+08,   2.00176673e+08,\n",
       "          2.00222103e+08,   2.00272106e+08,   2.00327143e+08,\n",
       "          2.00387726e+08,   2.00454417e+08,   2.00527838e+08,\n",
       "          2.00608673e+08,   2.00697679e+08,   2.00795690e+08,\n",
       "          2.00903627e+08,   2.01022509e+08,   2.01153457e+08,\n",
       "          2.01297715e+08,   2.01456655e+08,   2.01631793e+08,\n",
       "          2.01824808e+08,   2.02037556e+08,   2.02272088e+08,\n",
       "          2.02530678e+08,   2.02815840e+08,   2.03130355e+08,\n",
       "          2.03477306e+08,   2.03860101e+08,   2.04282513e+08,\n",
       "          2.04748718e+08,   2.05263333e+08,   2.05831460e+08,\n",
       "          2.06458738e+08,   2.07151386e+08,   2.07916260e+08,\n",
       "          2.08760903e+08,   2.09693602e+08,   2.10723440e+08,\n",
       "          2.11860344e+08,   2.13115138e+08,   2.14499572e+08,\n",
       "          2.16026360e+08,   2.17709186e+08,   2.19562701e+08,\n",
       "          2.21602499e+08,   2.23845055e+08,   2.26307638e+08,\n",
       "          2.29008182e+08,   2.31965118e+08,   2.35197149e+08,\n",
       "          2.38722992e+08,   2.42561054e+08,   2.46729063e+08,\n",
       "          2.51243661e+08,   2.56119945e+08,   2.61370982e+08,\n",
       "          2.67007309e+08,   2.73036418e+08,   2.79462266e+08,\n",
       "          2.86284809e+08,   2.93499597e+08,   3.01097435e+08,\n",
       "          3.09064153e+08,   3.17380495e+08,   3.26022210e+08,\n",
       "          3.30628585e+08,   3.35525566e+08,   3.40715934e+08,\n",
       "          3.46199835e+08,   3.51974466e+08,   3.58033818e+08,\n",
       "          3.64368455e+08,   3.70965423e+08,   3.77808142e+08,\n",
       "          3.84876430e+08,   3.92146657e+08,   3.99591990e+08,\n",
       "          4.07182746e+08,   4.14886856e+08,   4.22670440e+08,\n",
       "          4.30498284e+08,   4.38334529e+08,   4.46143334e+08,\n",
       "          4.53889527e+08,   4.61539232e+08,   4.69060462e+08,\n",
       "          4.76423608e+08,   4.83601799e+08,   4.90571254e+08,\n",
       "          4.97311496e+08,   5.03805476e+08,   5.10039595e+08,\n",
       "          5.16003641e+08,   5.21690651e+08,   5.27096713e+08,\n",
       "          5.32220715e+08,   5.37064059e+08,   5.41630360e+08,\n",
       "          5.45925128e+08,   5.49955461e+08,   5.53729742e+08,\n",
       "          5.57257368e+08,   5.60548496e+08,   5.63613811e+08,\n",
       "          5.66464328e+08,   5.69111229e+08,   5.71565721e+08,\n",
       "          5.73838916e+08,   5.75941734e+08,   5.77884822e+08,\n",
       "          5.79678495e+08,   5.81332686e+08,   5.82856913e+08,\n",
       "          5.84260252e+08,   5.85551325e+08,   5.86738291e+08,\n",
       "          5.87828844e+08,   5.88830224e+08,   5.89749218e+08,\n",
       "          5.90592177e+08,   5.91365030e+08,   5.92073302e+08,\n",
       "          5.92722130e+08,   5.93316284e+08,   5.93860187e+08,\n",
       "          5.94357931e+08,   5.94813302e+08,   5.95229795e+08,\n",
       "          5.95610637e+08,   5.95958798e+08,   5.96277016e+08,\n",
       "          5.96567809e+08,   5.96833494e+08,   5.97076198e+08,\n",
       "          5.97297875e+08,   5.97500317e+08,   5.97685169e+08,\n",
       "          5.97853939e+08,   5.98008009e+08,   5.98148644e+08,\n",
       "          5.98277004e+08,   5.98394150e+08,   5.98501052e+08,\n",
       "          5.98598598e+08,   5.98687601e+08,   5.98768804e+08,\n",
       "          5.98842886e+08,   5.98910467e+08,   5.98972114e+08,\n",
       "          5.99028346e+08,   5.99079635e+08,   5.99126415e+08,\n",
       "          5.99169080e+08,   5.99207990e+08,   5.99243474e+08,\n",
       "          5.99275833e+08,   5.99305342e+08,   5.99332250e+08,\n",
       "          5.99356786e+08,   5.99379159e+08,   5.99399558e+08,\n",
       "          5.99418158e+08,   5.99435116e+08,   5.99450578e+08,\n",
       "          5.99464674e+08,   5.99477526e+08,   5.99489242e+08,\n",
       "          5.99499924e+08,   5.99509662e+08,   5.99518539e+08,\n",
       "          5.99526631e+08,   5.99534009e+08,   5.99540734e+08,\n",
       "          5.99546864e+08,   5.99552452e+08,   5.99557546e+08,\n",
       "          5.99562189e+08,   5.99566421e+08,   5.99570279e+08,\n",
       "          5.99573795e+08,   5.99577000e+08,   5.99579921e+08,\n",
       "          5.99582584e+08,   5.99585011e+08,   5.99587223e+08,\n",
       "          5.99589238e+08,   5.99591076e+08,   5.99592750e+08,\n",
       "          5.99594277e+08,   5.99595668e+08,   5.99596935e+08,\n",
       "          5.99598091e+08,   5.99599144e+08,   5.99600103e+08,\n",
       "          5.99600978e+08,   5.99601775e+08,   5.99602501e+08,\n",
       "          5.99603163e+08,   5.99603766e+08,   5.99604315e+08,\n",
       "          5.99604816e+08,   5.99605273e+08,   5.99605689e+08,\n",
       "          5.99606068e+08,   5.99606413e+08,   5.99606728e+08,\n",
       "          5.99607014e+08,   5.99607276e+08,   5.99607514e+08,\n",
       "          5.99607731e+08,   5.99607928e+08,   5.99608108e+08,\n",
       "          5.99608273e+08,   5.99608422e+08,   5.99608558e+08,\n",
       "          5.99608682e+08,   5.99608796e+08,   5.99608899e+08,\n",
       "          5.99608993e+08,   5.99609078e+08,   5.99609156e+08,\n",
       "          5.99609227e+08,   5.99609292e+08,   5.99609351e+08,\n",
       "          5.99609404e+08,   5.99609453e+08,   5.99609498e+08,\n",
       "          5.99609538e+08,   5.99609575e+08,   5.99609609e+08,\n",
       "          5.99609640e+08,   5.99609668e+08,   5.99609693e+08,\n",
       "          5.99609717e+08,   5.99609738e+08,   5.99609757e+08,\n",
       "          5.99609774e+08,   5.99609790e+08,   5.99609805e+08,\n",
       "          5.99609818e+08,   5.99609830e+08,   5.99609841e+08,\n",
       "          5.99609845e+08]),\n",
       " 'He_2': array([  1.99921784e+08,   1.99984398e+08,   2.00054729e+08,\n",
       "          2.00132390e+08,   2.00217811e+08,   2.00311687e+08,\n",
       "          2.00414830e+08,   2.00528142e+08,   2.00652610e+08,\n",
       "          2.00789315e+08,   2.00939439e+08,   2.01104269e+08,\n",
       "          2.01285215e+08,   2.01483812e+08,   2.01701733e+08,\n",
       "          2.01940799e+08,   2.02202993e+08,   2.02490465e+08,\n",
       "          2.02805550e+08,   2.03150779e+08,   2.03528884e+08,\n",
       "          2.03942817e+08,   2.04395759e+08,   2.04891126e+08,\n",
       "          2.05432581e+08,   2.06024036e+08,   2.06669662e+08,\n",
       "          2.07373881e+08,   2.08141366e+08,   2.08977031e+08,\n",
       "          2.09886009e+08,   2.10873633e+08,   2.11945393e+08,\n",
       "          2.13106893e+08,   2.14363787e+08,   2.15721701e+08,\n",
       "          2.17186134e+08,   2.18762342e+08,   2.20455195e+08,\n",
       "          2.22269006e+08,   2.24207340e+08,   2.26272782e+08,\n",
       "          2.28466689e+08,   2.30788894e+08,   2.33237399e+08,\n",
       "          2.35808034e+08,   2.38494092e+08,   2.41285964e+08,\n",
       "          2.44170760e+08,   2.47131951e+08,   2.50149033e+08,\n",
       "          2.53197241e+08,   2.56247335e+08,   2.59265475e+08,\n",
       "          2.62213216e+08,   2.65047648e+08,   2.67721699e+08,\n",
       "          2.70184618e+08,   2.72382661e+08,   2.74259971e+08,\n",
       "          2.75759657e+08,   2.76825046e+08,   2.77401092e+08,\n",
       "          2.77435884e+08,   2.76882215e+08,   2.75699142e+08,\n",
       "          2.73853467e+08,   2.71321073e+08,   2.68088030e+08,\n",
       "          2.64151425e+08,   2.59519834e+08,   2.54213371e+08,\n",
       "          2.51253069e+08,   2.47968103e+08,   2.44343374e+08,\n",
       "          2.40366958e+08,   2.36030768e+08,   2.31331153e+08,\n",
       "          2.26269412e+08,   2.20852145e+08,   2.15091517e+08,\n",
       "          2.09005321e+08,   2.02616826e+08,   1.95954440e+08,\n",
       "          1.89051188e+08,   1.81943998e+08,   1.74672843e+08,\n",
       "          1.67279926e+08,   1.59808669e+08,   1.52302735e+08,\n",
       "          1.44805090e+08,   1.37357136e+08,   1.29997926e+08,\n",
       "          1.22763544e+08,   1.15686653e+08,   1.08796116e+08,\n",
       "          1.02116776e+08,   9.56693729e+07,   8.94705686e+07,\n",
       "          8.35330794e+07,   7.78658845e+07,   7.24744992e+07,\n",
       "          6.73612934e+07,   6.25258387e+07,   5.79652684e+07,\n",
       "          5.36746389e+07,   4.96472797e+07,   4.58751236e+07,\n",
       "          4.23490103e+07,   3.90589529e+07,   3.59943942e+07,\n",
       "          3.31444091e+07,   3.04978803e+07,   2.80436479e+07,\n",
       "          2.57706334e+07,   2.36679413e+07,   2.17249401e+07,\n",
       "          1.99313271e+07,   1.82771772e+07,   1.67529788e+07,\n",
       "          1.53496592e+07,   1.40585998e+07,   1.28716435e+07,\n",
       "          1.17810959e+07,   1.07797204e+07,   9.86072959e+06,\n",
       "          9.01777268e+06,   8.24492074e+06,   7.53664974e+06,\n",
       "          6.88782228e+06,   6.29366850e+06,   5.74976647e+06,\n",
       "          5.25202252e+06,   4.79665159e+06,   4.38015807e+06,\n",
       "          3.99931700e+06,   3.65115600e+06,   3.33293792e+06,\n",
       "          3.04214425e+06,   2.77645934e+06,   2.53375554e+06,\n",
       "          2.31207914e+06,   2.10963715e+06,   1.92478495e+06,\n",
       "          1.75601475e+06,   1.60194479e+06,   1.46130934e+06,\n",
       "          1.33294937e+06,   1.21580391e+06,   1.10890209e+06,\n",
       "          1.01135571e+06,   9.22352437e+05,   8.41149504e+05,\n",
       "          7.67067893e+05,   6.99487005e+05,   6.37839735e+05,\n",
       "          5.81607955e+05,   5.30318362e+05,   4.83538659e+05,\n",
       "          4.40874065e+05,   4.01964098e+05,   3.66479638e+05,\n",
       "          3.34120231e+05,   3.04611617e+05,   2.77703473e+05,\n",
       "          2.53167343e+05,   2.30794743e+05,   2.10395430e+05,\n",
       "          1.91795820e+05,   1.74837536e+05,   1.59376086e+05,\n",
       "          1.45279655e+05,   1.32427995e+05,   1.20711420e+05,\n",
       "          1.10029878e+05,   1.00292113e+05,   9.14148931e+04,\n",
       "          8.33223068e+04,   7.59451237e+04,   6.92202073e+04,\n",
       "          6.30899808e+04,   5.75019388e+04,   5.24082026e+04,\n",
       "          4.77651128e+04,   4.35328592e+04,   3.96751419e+04,\n",
       "          3.61588628e+04,   3.29538435e+04,   3.00325687e+04,\n",
       "          2.73699516e+04,   2.49431198e+04,   2.27312205e+04,\n",
       "          2.07152421e+04,   1.88778526e+04,   1.72032509e+04,\n",
       "          1.56770318e+04,   1.42860635e+04,   1.30183744e+04,\n",
       "          1.18630514e+04,   1.08101462e+04,   9.85059003e+03,\n",
       "          8.97611621e+03,   8.17918920e+03,   7.45294004e+03,\n",
       "          6.79110747e+03,   6.18798424e+03,   5.63836818e+03,\n",
       "          5.13751750e+03,   4.68111017e+03,   4.26520676e+03,\n",
       "          3.88621662e+03,   3.54086706e+03,   3.22617522e+03,\n",
       "          2.93942241e+03,   2.67813079e+03,   2.44004199e+03,\n",
       "          2.22309777e+03,   2.02542226e+03,   1.84530581e+03,\n",
       "          1.68119032e+03,   1.53165579e+03,   1.39540811e+03,\n",
       "          1.27126788e+03,   1.15816030e+03,   1.05510587e+03,\n",
       "          9.61211974e+02,   8.75665150e+02,   7.97724106e+02,\n",
       "          7.26713311e+02,   6.62017173e+02,   6.03074722e+02,\n",
       "          5.49374772e+02,   5.00451507e+02,   4.55880457e+02,\n",
       "          4.15274833e+02,   3.78282186e+02,   3.44581360e+02,\n",
       "          3.13879718e+02,   2.85910611e+02,   2.60431075e+02,\n",
       "          2.37219724e+02,   2.16074842e+02,   1.96812632e+02,\n",
       "          1.79265630e+02,   1.63281252e+02,   1.48720475e+02,\n",
       "          1.35456630e+02,   1.23374311e+02,   1.12368368e+02,\n",
       "          1.08448165e+02]),\n",
       " 'He_3': array([  1.99805422e+08,   1.99727370e+08,   1.99639683e+08,\n",
       "          1.99542838e+08,   1.99436290e+08,   1.99319166e+08,\n",
       "          1.99190443e+08,   1.99048983e+08,   1.98893542e+08,\n",
       "          1.98722753e+08,   1.98535121e+08,   1.98329012e+08,\n",
       "          1.98102635e+08,   1.97854036e+08,   1.97581078e+08,\n",
       "          1.97281429e+08,   1.96952544e+08,   1.96591651e+08,\n",
       "          1.96195730e+08,   1.95761496e+08,   1.95285380e+08,\n",
       "          1.94763509e+08,   1.94191686e+08,   1.93565370e+08,\n",
       "          1.92879658e+08,   1.92129263e+08,   1.91308499e+08,\n",
       "          1.90411265e+08,   1.89431032e+08,   1.88360835e+08,\n",
       "          1.87193266e+08,   1.85920481e+08,   1.84534205e+08,\n",
       "          1.83025755e+08,   1.81386066e+08,   1.79605739e+08,\n",
       "          1.77675101e+08,   1.75584279e+08,   1.73323299e+08,\n",
       "          1.70882210e+08,   1.68251228e+08,   1.65420911e+08,\n",
       "          1.62382362e+08,   1.59127458e+08,   1.55649115e+08,\n",
       "          1.51941576e+08,   1.48000724e+08,   1.43824418e+08,\n",
       "          1.39412833e+08,   1.34768817e+08,   1.29898220e+08,\n",
       "          1.24810213e+08,   1.19517564e+08,   1.14036841e+08,\n",
       "          1.08388556e+08,   1.02597188e+08,   9.66911053e+07,\n",
       "          9.07023430e+07,   8.46662390e+07,   7.86209196e+07,\n",
       "          7.26066361e+07,   6.66649632e+07,   6.08378797e+07,\n",
       "          5.51667611e+07,   4.96913208e+07,   4.44485458e+07,\n",
       "          3.94716768e+07,   3.47892840e+07,   3.04244886e+07,\n",
       "          2.63943754e+07,   2.27096248e+07,   1.93743723e+07,\n",
       "          1.77282999e+07,   1.61162854e+07,   1.45506458e+07,\n",
       "          1.30431606e+07,   1.16047188e+07,   1.02449826e+07,\n",
       "          8.97208672e+06,   7.79238552e+06,   6.71029451e+06,\n",
       "          5.72820277e+06,   4.84647105e+06,   4.06352320e+06,\n",
       "          3.37601987e+06,   2.77909951e+06,   2.26667057e+06,\n",
       "          1.83174367e+06,   1.46675541e+06,   1.16388437e+06,\n",
       "          9.15336341e+05,   7.13585766e+05,   5.51565245e+05,\n",
       "          4.22801892e+05,   3.21501512e+05,   2.42584118e+05,\n",
       "          1.81681467e+05,   1.35104551e+05,   9.97900117e+04,\n",
       "          7.32337124e+04,   5.34184945e+04,   3.87415886e+04,\n",
       "          2.79456512e+04,   2.00559791e+04,   1.43252770e+04,\n",
       "          1.01864438e+04,   7.21318619e+03,   5.08785567e+03,\n",
       "          3.57566777e+03,   2.50437423e+03,   1.74847825e+03,\n",
       "          1.21712114e+03,   8.44905425e+02,   5.85013779e+02,\n",
       "          4.04097178e+02,   2.78509843e+02,   1.91557444e+02,\n",
       "          1.31499973e+02,   9.01115933e+01,   6.16481869e+01,\n",
       "          4.21111456e+01,   2.87249840e+01,   1.95683411e+01,\n",
       "          1.33144115e+01,   9.04904903e+00,   6.14374700e+00,\n",
       "          4.16722422e+00,   2.82406594e+00,   1.91225649e+00,\n",
       "          1.29386080e+00,   8.74830252e-01,   5.91122788e-01,\n",
       "          3.99181472e-01,   2.69414694e-01,   1.81739099e-01,\n",
       "          1.22537273e-01,   8.25840286e-02,   5.56347320e-02,\n",
       "          3.74654520e-02,   2.52210364e-02,   1.69727748e-02,\n",
       "          1.14185473e-02,   7.67973540e-03,   5.16377873e-03,\n",
       "          3.47122561e-03,   2.33291631e-03,   1.56755667e-03,\n",
       "          1.05307971e-03,   7.07324647e-04,   4.75008162e-04,\n",
       "          3.18942841e-04,   2.14120640e-04,   1.43728246e-04,\n",
       "          9.64644613e-05,   6.47347672e-05,   4.34366175e-05,\n",
       "          2.91424086e-05,   1.95500814e-05,   1.31137774e-05,\n",
       "          8.79559844e-06,   5.89879602e-06,   3.95570276e-06,\n",
       "          2.65245452e-06,   1.77843443e-06,   1.19232556e-06,\n",
       "          7.99319264e-07,   5.35815630e-07,   3.59154479e-07,\n",
       "          2.40723813e-07,   1.61335391e-07,   1.08121969e-07,\n",
       "          7.24557365e-08,   4.85519727e-08,   3.25324636e-08,\n",
       "          2.17973467e-08,   1.46038546e-08,   9.78383453e-09,\n",
       "          6.55433940e-09,   4.39063606e-09,   2.94106797e-09,\n",
       "          1.96998166e-09,   1.31946891e-09,   8.83723355e-10,\n",
       "          5.91853200e-10,   3.96362399e-10,   2.65431181e-10,\n",
       "          1.77743086e-10,   1.19018645e-10,   7.96927851e-11,\n",
       "          5.33586605e-11,   3.57250563e-11,   2.39179075e-11,\n",
       "          1.60123786e-11,   1.07194147e-11,   7.17577775e-12,\n",
       "          4.80341045e-12,   3.21523962e-12,   2.15208801e-12,\n",
       "          1.44042233e-12,   9.64057406e-13,   6.45207287e-13,\n",
       "          4.31796417e-13,   2.88963032e-13,   1.93369996e-13,\n",
       "          1.29395601e-13,   8.65831969e-14,   5.79337269e-14,\n",
       "          3.87626194e-14,   2.59345442e-14,   1.73511403e-14,\n",
       "          1.16081061e-14,   7.76566598e-15,   5.19493444e-15,\n",
       "          3.47508554e-15,   2.32452929e-15,   1.55485063e-15,\n",
       "          1.03998357e-15,   6.95582197e-16,   4.65215991e-16,\n",
       "          3.11132246e-16,   2.08074874e-16,   1.39148489e-16,\n",
       "          9.30511164e-17,   6.22227104e-17,   4.16064347e-17,\n",
       "          2.78199478e-17,   1.86010019e-17,   1.24365684e-17,\n",
       "          8.31474550e-18,   5.55880579e-18,   3.71619201e-18,\n",
       "          2.48427028e-18,   1.66067077e-18,   1.11007462e-18,\n",
       "          7.42001297e-19,   4.95953460e-19,   3.31482690e-19,\n",
       "          2.21546219e-19,   1.48064606e-19,   9.89512880e-20,\n",
       "          6.61263824e-20,   4.41886781e-20,   2.95277246e-20,\n",
       "          1.97301982e-20,   1.31830273e-20,   8.80807103e-21,\n",
       "          5.88475103e-21,   3.93148529e-21,   2.62643161e-21,\n",
       "          2.21942149e-21]),\n",
       " 'de': array([  9.42338843e+08,   1.03341380e+09,   1.05525504e+09,\n",
       "          1.05989619e+09,   1.06062030e+09,   1.06053573e+09,\n",
       "          1.06030259e+09,   1.06004156e+09,   1.05976628e+09,\n",
       "          1.05947262e+09,   1.05915500e+09,   1.05880859e+09,\n",
       "          1.05842921e+09,   1.05801293e+09,   1.05755584e+09,\n",
       "          1.05705382e+09,   1.05650245e+09,   1.05589693e+09,\n",
       "          1.05523206e+09,   1.05450213e+09,   1.05370094e+09,\n",
       "          1.05282170e+09,   1.05185705e+09,   1.05079895e+09,\n",
       "          1.04963867e+09,   1.04836674e+09,   1.04697286e+09,\n",
       "          1.04544591e+09,   1.04377385e+09,   1.04194367e+09,\n",
       "          1.03994139e+09,   1.03775194e+09,   1.03535919e+09,\n",
       "          1.03274585e+09,   1.02989350e+09,   1.02678255e+09,\n",
       "          1.02339222e+09,   1.01970058e+09,   1.01568458e+09,\n",
       "          1.01132008e+09,   1.00658197e+09,   1.00144426e+09,\n",
       "          9.95880238e+08,   9.89862625e+08,   9.83363827e+08,\n",
       "          9.76356180e+08,   9.68812253e+08,   9.60705189e+08,\n",
       "          9.52009088e+08,   9.42699414e+08,   9.32753436e+08,\n",
       "          9.22150681e+08,   9.10873398e+08,   8.98907014e+08,\n",
       "          8.86240564e+08,   8.72867090e+08,   8.58783983e+08,\n",
       "          8.43993266e+08,   8.28501785e+08,   8.12321324e+08,\n",
       "          7.95468623e+08,   7.77965305e+08,   7.59837714e+08,\n",
       "          7.41116691e+08,   7.21837280e+08,   7.02038410e+08,\n",
       "          6.81762556e+08,   6.61055419e+08,   6.39965617e+08,\n",
       "          6.18544434e+08,   5.96845558e+08,   5.74924638e+08,\n",
       "          5.63407394e+08,   5.51339029e+08,   5.38729748e+08,\n",
       "          5.25594538e+08,   5.11953351e+08,   4.97831227e+08,\n",
       "          4.83258350e+08,   4.68269897e+08,   4.52906094e+08,\n",
       "          4.37212051e+08,   4.21237421e+08,   4.05035998e+08,\n",
       "          3.88665206e+08,   3.72185414e+08,   3.55659119e+08,\n",
       "          3.39150396e+08,   3.22723840e+08,   3.06443598e+08,\n",
       "          2.90372360e+08,   2.74570365e+08,   2.59094410e+08,\n",
       "          2.43997006e+08,   2.29325742e+08,   2.15122606e+08,\n",
       "          2.01423539e+08,   1.88258159e+08,   1.75649655e+08,\n",
       "          1.63614858e+08,   1.52164444e+08,   1.41303286e+08,\n",
       "          1.31030898e+08,   1.21341962e+08,   1.12226910e+08,\n",
       "          1.03672527e+08,   9.56625550e+07,   8.81782811e+07,\n",
       "          8.11990849e+07,   7.47029295e+07,   6.86668389e+07,\n",
       "          6.30672794e+07,   5.78804933e+07,   5.30827843e+07,\n",
       "          4.86507548e+07,   4.45615005e+07,   4.07927657e+07,\n",
       "          3.73230650e+07,   3.41317747e+07,   3.11991983e+07,\n",
       "          2.85066100e+07,   2.60362790e+07,   2.37714775e+07,\n",
       "          2.16964758e+07,   1.97965267e+07,   1.80578415e+07,\n",
       "          1.64675585e+07,   1.50137079e+07,   1.36851717e+07,\n",
       "          1.24716425e+07,   1.13635801e+07,   1.03521677e+07,\n",
       "          9.42926845e+06,   8.58738251e+06,   7.81960516e+06,\n",
       "          7.11958621e+06,   6.48149117e+06,   5.89996404e+06,\n",
       "          5.37009207e+06,   4.88737235e+06,   4.44768044e+06,\n",
       "          4.04724091e+06,   3.68259969e+06,   3.35059843e+06,\n",
       "          3.04835050e+06,   2.77321879e+06,   2.52279506e+06,\n",
       "          2.29488093e+06,   2.08747023e+06,   1.89873275e+06,\n",
       "          1.72699930e+06,   1.57074792e+06,   1.42859122e+06,\n",
       "          1.29926476e+06,   1.18161639e+06,   1.07459644e+06,\n",
       "          9.77248807e+05,   8.88702706e+05,   8.08165197e+05,\n",
       "          7.34914306e+05,   6.68292754e+05,   6.07702224e+05,\n",
       "          5.52598126e+05,   5.02484818e+05,   4.56911245e+05,\n",
       "          4.15466957e+05,   3.77778483e+05,   3.43506017e+05,\n",
       "          3.12340408e+05,   2.84000403e+05,   2.58230149e+05,\n",
       "          2.34796902e+05,   2.13488957e+05,   1.94113747e+05,\n",
       "          1.76496122e+05,   1.60476779e+05,   1.45910832e+05,\n",
       "          1.32666510e+05,   1.20623975e+05,   1.09674242e+05,\n",
       "          9.97181981e+04,   9.06657113e+04,   8.24348178e+04,\n",
       "          7.49509824e+04,   6.81464266e+04,   6.19595171e+04,\n",
       "          5.63342090e+04,   5.12195400e+04,   4.65691698e+04,\n",
       "          4.23409613e+04,   3.84965997e+04,   3.50012463e+04,\n",
       "          3.18232231e+04,   2.89337263e+04,   2.63065658e+04,\n",
       "          2.39179280e+04,   2.17461605e+04,   1.97715758e+04,\n",
       "          1.79762734e+04,   1.63439772e+04,   1.48598886e+04,\n",
       "          1.35105523e+04,   1.22837341e+04,   1.11683106e+04,\n",
       "          1.01541681e+04,   9.23211093e+03,   8.39377825e+03,\n",
       "          7.63156826e+03,   6.93856931e+03,   6.30849720e+03,\n",
       "          5.73563829e+03,   5.21479767e+03,   4.74125209e+03,\n",
       "          4.31070712e+03,   3.91925826e+03,   3.56335551e+03,\n",
       "          3.23977119e+03,   2.94557068e+03,   2.67808584e+03,\n",
       "          2.43489076e+03,   2.21377983e+03,   2.01274770e+03,\n",
       "          1.82997110e+03,   1.66379232e+03,   1.51270417e+03,\n",
       "          1.37533632e+03,   1.25044288e+03,   1.13689108e+03,\n",
       "          1.03365101e+03,   9.39786270e+02,   8.54445516e+02,\n",
       "          7.76854692e+02,   7.06310034e+02,   6.42171685e+02,\n",
       "          5.83857891e+02,   5.30839726e+02,   4.82636293e+02,\n",
       "          4.38810364e+02,   3.98964415e+02,   3.62737021e+02,\n",
       "          3.29799577e+02,   2.99853317e+02,   2.72626607e+02,\n",
       "          2.47872480e+02,   2.25366395e+02,   2.04904202e+02,\n",
       "          1.86300289e+02,   1.69385902e+02,   1.54007608e+02,\n",
       "          1.48534082e+02]),\n",
       " 't': array([  0.00000000e+00,   9.53674316e-02,   2.00271606e-01,\n",
       "          3.15666199e-01,   4.42600250e-01,   5.82227707e-01,\n",
       "          7.35817909e-01,   9.04767132e-01,   1.09061128e+00,\n",
       "          1.29503984e+00,   1.51991125e+00,   1.76726981e+00,\n",
       "          2.03936422e+00,   2.33866807e+00,   2.66790231e+00,\n",
       "          3.03005998e+00,   3.42843341e+00,   3.86664418e+00,\n",
       "          4.34867603e+00,   4.87891106e+00,   5.46216960e+00,\n",
       "          6.10375399e+00,   6.80949682e+00,   7.58581393e+00,\n",
       "          8.43976276e+00,   9.37910647e+00,   1.04123845e+01,\n",
       "          1.15489904e+01,   1.27992569e+01,   1.41745500e+01,\n",
       "          1.56873725e+01,   1.73514771e+01,   1.91819923e+01,\n",
       "          2.11955589e+01,   2.34104823e+01,   2.58468979e+01,\n",
       "          2.85269552e+01,   3.14750181e+01,   3.47178873e+01,\n",
       "          3.82850435e+01,   4.22089153e+01,   4.65251743e+01,\n",
       "          5.12730591e+01,   5.64957325e+01,   6.22406731e+01,\n",
       "          6.85601079e+01,   7.55114861e+01,   8.31580021e+01,\n",
       "          9.15691698e+01,   1.00821454e+02,   1.10998967e+02,\n",
       "          1.22194231e+02,   1.34509022e+02,   1.48055291e+02,\n",
       "          1.62956188e+02,   1.79347174e+02,   1.97377259e+02,\n",
       "          2.17210352e+02,   2.39026755e+02,   2.63024798e+02,\n",
       "          2.89422645e+02,   3.18460277e+02,   3.50401672e+02,\n",
       "          3.85537207e+02,   4.24186295e+02,   4.66700292e+02,\n",
       "          5.13465689e+02,   5.64907625e+02,   6.21493755e+02,\n",
       "          6.83738498e+02,   7.52207715e+02,   8.27523854e+02,\n",
       "          9.10371607e+02,   9.55937871e+02,   1.00606076e+03,\n",
       "          1.06119594e+03,   1.12184464e+03,   1.18855821e+03,\n",
       "          1.26194313e+03,   1.34266655e+03,   1.43146230e+03,\n",
       "          1.52913764e+03,   1.63658050e+03,   1.75476766e+03,\n",
       "          1.88477353e+03,   2.02777998e+03,   2.18508708e+03,\n",
       "          2.35812490e+03,   2.54846649e+03,   2.75784224e+03,\n",
       "          2.98815557e+03,   3.24150023e+03,   3.52017936e+03,\n",
       "          3.82672640e+03,   4.16392814e+03,   4.53485006e+03,\n",
       "          4.94286416e+03,   5.39167968e+03,   5.88537676e+03,\n",
       "          6.42844354e+03,   7.02581699e+03,   7.68292780e+03,\n",
       "          8.40574968e+03,   9.20085375e+03,   1.00754682e+04,\n",
       "          1.10375442e+04,   1.20958277e+04,   1.32599395e+04,\n",
       "          1.45404626e+04,   1.59490380e+04,   1.74984709e+04,\n",
       "          1.92028471e+04,   2.10776609e+04,   2.31399561e+04,\n",
       "          2.54084808e+04,   2.79038579e+04,   3.06487728e+04,\n",
       "          3.36681792e+04,   3.69895263e+04,   4.06430080e+04,\n",
       "          4.46618379e+04,   4.90825508e+04,   5.39453350e+04,\n",
       "          5.92943976e+04,   6.51783664e+04,   7.16507322e+04,\n",
       "          7.87703345e+04,   8.66018970e+04,   9.52166158e+04,\n",
       "          1.04692807e+05,   1.15116616e+05,   1.26582807e+05,\n",
       "          1.39195617e+05,   1.53069708e+05,   1.68331207e+05,\n",
       "          1.85118857e+05,   2.03585272e+05,   2.23898328e+05,\n",
       "          2.46242690e+05,   2.70821489e+05,   2.97858166e+05,\n",
       "          3.27598512e+05,   3.60312893e+05,   3.96298711e+05,\n",
       "          4.35883111e+05,   4.79425951e+05,   5.27323076e+05,\n",
       "          5.80009912e+05,   6.37965433e+05,   7.01716505e+05,\n",
       "          7.71842685e+05,   8.48981482e+05,   9.33834159e+05,\n",
       "          1.02717210e+06,   1.12984384e+06,   1.24278276e+06,\n",
       "          1.36701556e+06,   1.50367165e+06,   1.65399334e+06,\n",
       "          1.81934720e+06,   2.00123645e+06,   2.20131463e+06,\n",
       "          2.42140062e+06,   2.66349521e+06,   2.92979926e+06,\n",
       "          3.22273372e+06,   3.54496162e+06,   3.89941231e+06,\n",
       "          4.28930807e+06,   4.71819341e+06,   5.18996728e+06,\n",
       "          5.70891853e+06,   6.27976491e+06,   6.90769594e+06,\n",
       "          7.59842006e+06,   8.35821659e+06,   9.19399278e+06,\n",
       "          1.01133466e+07,   1.11246358e+07,   1.22370539e+07,\n",
       "          1.34607138e+07,   1.48067397e+07,   1.62873682e+07,\n",
       "          1.79160596e+07,   1.97076200e+07,   2.16783366e+07,\n",
       "          2.38461248e+07,   2.62306918e+07,   2.88537155e+07,\n",
       "          3.17390416e+07,   3.49129002e+07,   3.84041448e+07,\n",
       "          4.22445138e+07,   4.64689197e+07,   5.11157662e+07,\n",
       "          5.62272974e+07,   6.18499816e+07,   6.80349343e+07,\n",
       "          7.48383823e+07,   8.23221750e+07,   9.05543471e+07,\n",
       "          9.96097363e+07,   1.09570664e+08,   1.20527685e+08,\n",
       "          1.32580409e+08,   1.45838404e+08,   1.60422199e+08,\n",
       "          1.76464373e+08,   1.94110765e+08,   2.13521796e+08,\n",
       "          2.34873930e+08,   2.58361278e+08,   2.84197360e+08,\n",
       "          3.12617051e+08,   3.43878710e+08,   3.78266536e+08,\n",
       "          4.16093144e+08,   4.57702413e+08,   5.03472609e+08,\n",
       "          5.53819824e+08,   6.09201761e+08,   6.70121892e+08,\n",
       "          7.37134035e+08,   8.10847393e+08,   8.91932087e+08,\n",
       "          9.81125250e+08,   1.07923773e+09,   1.18716146e+09,\n",
       "          1.30587756e+09,   1.43646527e+09,   1.58011175e+09,\n",
       "          1.73812288e+09,   1.91193512e+09,   2.10312859e+09,\n",
       "          2.31344140e+09,   2.54478550e+09,   2.79926400e+09,\n",
       "          3.07919035e+09,   3.38710934e+09,   3.72582023e+09,\n",
       "          4.09840221e+09,   4.50824239e+09,   4.95906658e+09,\n",
       "          5.45497319e+09,   6.00047047e+09,   6.60051747e+09,\n",
       "          7.26056917e+09,   7.98662604e+09,   8.78528860e+09,\n",
       "          9.66381741e+09])}"
      ]
     },
     "execution_count": 25,
     "metadata": {},
     "output_type": "execute_result"
    }
   ],
   "source": [
    "be_chem_data"
   ]
  },
  {
   "cell_type": "code",
   "execution_count": 57,
   "metadata": {
    "collapsed": true
   },
   "outputs": [],
   "source": [
    "a = primordial.reactions['k22']"
   ]
  },
  {
   "cell_type": "code",
   "execution_count": 35,
   "metadata": {},
   "outputs": [],
   "source": [
    "mask = rv_int_sundials['successful']"
   ]
  },
  {
   "cell_type": "code",
   "execution_count": 36,
   "metadata": {},
   "outputs": [
    {
     "data": {
      "text/plain": [
       "array([  1.19873461e+09,   1.19873604e+09,   1.19873754e+09,\n",
       "         1.19873918e+09,   1.19874098e+09,   1.19874295e+09,\n",
       "         1.19874512e+09,   1.19874750e+09,   1.19875010e+09,\n",
       "         1.19875296e+09,   1.19875609e+09,   1.19875952e+09,\n",
       "         1.19876328e+09,   1.19876740e+09,   1.19877191e+09,\n",
       "         1.19877684e+09,   1.19878224e+09,   1.19878814e+09,\n",
       "         1.19879458e+09,   1.19880163e+09,   1.19880932e+09,\n",
       "         1.19881772e+09,   1.19882689e+09,   1.19883688e+09,\n",
       "         1.19884778e+09,   1.19885965e+09,   1.19887258e+09,\n",
       "         1.19888666e+09,   1.19890198e+09,   1.19891864e+09,\n",
       "         1.19893676e+09,   1.19895644e+09,   1.19897782e+09,\n",
       "         1.19900102e+09,   1.19902620e+09,   1.19905351e+09,\n",
       "         1.19908310e+09,   1.19911515e+09,   1.19914983e+09,\n",
       "         1.19918734e+09,   1.19922787e+09,   1.19927162e+09,\n",
       "         1.19931879e+09,   1.19936960e+09,   1.19942426e+09,\n",
       "         1.19948297e+09,   1.19954595e+09,   1.19961338e+09,\n",
       "         1.19968546e+09,   1.19976237e+09,   1.19984427e+09,\n",
       "         1.19993130e+09,   1.20002359e+09,   1.20012124e+09,\n",
       "         1.20022434e+09,   1.20033293e+09,   1.20044705e+09,\n",
       "         1.20056670e+09,   1.20069185e+09,   1.20082246e+09,\n",
       "         1.20095845e+09,   1.20109972e+09,   1.20124617e+09,\n",
       "         1.20139765e+09,   1.20155400e+09,   1.20171507e+09,\n",
       "         1.20188068e+09,   1.20205063e+09,   1.20222474e+09,\n",
       "         1.20240279e+09,   1.20258460e+09,   1.20276996e+09,\n",
       "         1.20295867e+09,   1.20315053e+09,   1.20334534e+09,\n",
       "         1.20354292e+09,   1.20374309e+09,   1.20394568e+09,\n",
       "         1.20415050e+09,   1.20435741e+09,   1.20456625e+09,\n",
       "         1.20477688e+09,   1.20498917e+09,   1.20520298e+09,\n",
       "         1.20541820e+09,   1.20563472e+09,   1.20585243e+09,\n",
       "         1.20607124e+09,   1.20629106e+09,   1.20651180e+09,\n",
       "         1.20673339e+09,   1.20695576e+09,   1.20717883e+09,\n",
       "         1.20740256e+09,   1.20762689e+09,   1.20785176e+09,\n",
       "         1.20799515e+09])"
      ]
     },
     "execution_count": 36,
     "metadata": {},
     "output_type": "execute_result"
    }
   ],
   "source": [
    "rv_int_sundials['H2_1'][0][mask]"
   ]
  },
  {
   "cell_type": "code",
   "execution_count": null,
   "metadata": {
    "collapsed": true
   },
   "outputs": [],
   "source": []
  }
 ],
 "metadata": {
  "kernelspec": {
   "display_name": "Python 2",
   "language": "python",
   "name": "python2"
  },
  "language_info": {
   "codemirror_mode": {
    "name": "ipython",
    "version": 2
   },
   "file_extension": ".py",
   "mimetype": "text/x-python",
   "name": "python",
   "nbconvert_exporter": "python",
   "pygments_lexer": "ipython2",
   "version": "2.7.13"
  }
 },
 "nbformat": 4,
 "nbformat_minor": 2
}
