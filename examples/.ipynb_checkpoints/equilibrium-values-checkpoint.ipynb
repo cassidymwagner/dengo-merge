{
 "cells": [
  {
   "cell_type": "code",
   "execution_count": 1,
   "metadata": {},
   "outputs": [
    {
     "name": "stdout",
     "output_type": "stream",
     "text": [
      " using cli\n",
      " using CLI for selections\n"
     ]
    },
    {
     "data": {
      "text/plain": [
       "(None, <pyximport.pyximport.PyxImporter at 0x7f3defc72b90>)"
      ]
     },
     "execution_count": 1,
     "metadata": {},
     "output_type": "execute_result"
    }
   ],
   "source": [
    "import os\n",
    "os.environ['YT_DEST'] = '/home/kwoksun2/anaconda2/pkgs/yt-3.3.5-np111py27_2/'\n",
    "import numpy as np\n",
    "from dengo.chemical_network import \\\n",
    "    ChemicalNetwork, \\\n",
    "    reaction_registry, \\\n",
    "    cooling_registry, species_registry\n",
    "import dengo.primordial_rates, dengo.primordial_cooling\n",
    "from dengo.chemistry_constants import tiny, kboltz, mh\n",
    "import yt\n",
    "import numpy\n",
    "\n",
    "import matplotlib.pyplot as plt\n",
    "\n",
    "import pyximport\n",
    "pyximport.install(setup_args={\"include_dirs\":np.get_include()},\n",
    "                      reload_support=True, inplace=True)\n"
   ]
  },
  {
   "cell_type": "code",
   "execution_count": 31,
   "metadata": {
    "collapsed": true
   },
   "outputs": [],
   "source": [
    "def equil_values(init_values, primordial, t =3.16e13, niter= 1e5, full_output = False):\n",
    "    \n",
    "    !rm sunny*\n",
    "    \n",
    "    primordial.write_solver(\"sunny\", output_dir = \".\",\n",
    "                            init_values=init_values,\n",
    "                            input_is_number=False)\n",
    "\n",
    "    sunny_solver_run = pyximport.load_module(\"sunny_solver_run\",\n",
    "                                \"sunny_solver_run.pyx\",\n",
    "                                build_inplace = True, pyxbuild_dir = \"_dengo_temp\")\n",
    "    rv, rv_int = sunny_solver_run.run_sunny(init_values, t, niter=niter) ;\n",
    "    \n",
    "    mask = rv_int['successful']\n",
    "    \n",
    "    if full_output:\n",
    "        return rv_int, 0\n",
    "    else:\n",
    "        return rv_int['H_1'][:, mask][:,-1] / init_values['density'], rv_int['t'][mask][-1]"
   ]
  },
  {
   "cell_type": "code",
   "execution_count": 32,
   "metadata": {
    "collapsed": true
   },
   "outputs": [],
   "source": [
    "# only two species\n",
    "\n",
    "\n",
    "def Init_values(temperature, density, fH):\n",
    "    \n",
    "    X = 1.0\n",
    "    # initialize and setup the network\n",
    "    dengo.primordial_rates.setup_primordial()\n",
    "    primordial = ChemicalNetwork()\n",
    "\n",
    "    for i in range(23):\n",
    "        try: \n",
    "            if (i+1) not in [3,4,5,6]:\n",
    "                primordial.add_reaction(\"k{0:02d}\".format(i+1))\n",
    "        except:\n",
    "            pass\n",
    "    \n",
    "    \n",
    "    primordial.init_temperature((1e0, 1e5))\n",
    "\n",
    "    tiny = 1e-40\n",
    "\n",
    "    # init_array are is in fractional abundances\n",
    "    init_array = density\n",
    "    init_values = dict()\n",
    "\n",
    "    init_values[\"H_1\"]     = density * fH \n",
    "    init_values['H_2']     = tiny* density * fH\n",
    "    init_values[\"H_m0\"]    = tiny* density * fH\n",
    "\n",
    "    init_values[\"H2_1\"]    = density * (1.0 - fH)\n",
    "    init_values[\"H2_2\"]    = tiny * density * (1 - fH)\n",
    "\n",
    "    # now everything in mass density\n",
    "#    init_values = primordial.convert_to_mass_density(init_values)\n",
    "    init_values['de'] = primordial.calculate_free_electrons(init_values)\n",
    "    # one signle value: again mass density\n",
    "    init_values['density'] = primordial.calculate_total_density(init_values)\n",
    "    number_density = primordial.calculate_number_density(init_values)\n",
    "\n",
    "    # set up initial temperatures values used to define ge\n",
    "    init_values['T'] = temperature\n",
    "\n",
    "    # calculate ge (very crudely, no H2 help here)\n",
    "    gamma = 5.0/3.0\n",
    "    init_values['ge'] = ((temperature * number_density * kboltz)\n",
    "                         / (init_values['density'] * mh * (gamma - 1)))\n",
    "    return init_values, primordial"
   ]
  },
  {
   "cell_type": "code",
   "execution_count": 33,
   "metadata": {
    "collapsed": true
   },
   "outputs": [],
   "source": [
    "def main(fH, temp, den , full_output = False):\n",
    "    \n",
    "    \n",
    "    temp = temp.flatten()\n",
    "    den = den.flatten()\n",
    "    \n",
    "    h_array = numpy.zeros((len(temp), len(den)))\n",
    "    t_array = numpy.zeros((len(den)))\n",
    "    \n",
    "    h_array = []\n",
    "    t_array = []\n",
    "    \n",
    "    print(den)\n",
    "    for iden, den_arr in enumerate(den):\n",
    "        \n",
    "        den_arr = numpy.ones((len(temp)))*den_arr\n",
    "        \n",
    "        init_values, primordial = Init_values(temp, den_arr, fH)\n",
    "        h_array_now, t_array_now = equil_values(init_values, primordial, full_output = full_output)\n",
    "        \n",
    "        h_array.append(h_array_now)\n",
    "        t_array.append(t_array_now)\n",
    "        \n",
    "    return h_array, t_array"
   ]
  },
  {
   "cell_type": "code",
   "execution_count": 80,
   "metadata": {},
   "outputs": [
    {
     "name": "stdout",
     "output_type": "stream",
     "text": [
      "Adding reaction: k01 : 1*H_1 + 1*de => 1*H_2 + 2*de\n",
      "Adding reaction: k02 : 1*H_2 + 1*de => 1*H_1\n",
      "Adding reaction: k07 : 1*H_1 + 1*de => 1*H_m0\n",
      "Adding reaction: k08 : 1*H_m0 + 1*H_1 => 1*H2_1 + 1*de\n",
      "Adding reaction: k09 : 1*H_1 + 1*H_2 => 1*H2_2\n",
      "Adding reaction: k10 : 1*H2_2 + 1*H_1 => 1*H2_1 + 1*H_2\n",
      "Adding reaction: k11 : 1*H2_1 + 1*H_2 => 1*H2_2 + 1*H_1\n",
      "Adding reaction: k12 : 1*H2_1 + 1*de => 2*H_1 + 1*de\n",
      "Adding reaction: k13 : 1*H2_1 + 1*H_1 => 3*H_1\n",
      "Adding reaction: k14 : 1*H_m0 + 1*de => 1*H_1 + 2*de\n",
      "Adding reaction: k15 : 1*H_m0 + 1*H_1 => 2*H_1 + 1*de\n",
      "Adding reaction: k16 : 1*H_m0 + 1*H_2 => 2*H_1\n",
      "Adding reaction: k17 : 1*H_m0 + 1*H_2 => 1*H2_2 + 1*de\n",
      "Adding reaction: k18 : 1*H2_2 + 1*de => 2*H_1\n",
      "Adding reaction: k19 : 1*H2_2 + 1*H_m0 => 1*H_1 + 1*H2_1\n",
      "Adding reaction: k21 : 2*H_1 + 1*H2_1 => 2*H2_1\n",
      "Adding reaction: k22 : 2*H_1 + 1*H_1 => 1*H2_1 + 1*H_1\n",
      "Adding reaction: k23 : 1*H2_1 + 1*H2_1 => 2*H_1 + 1*H2_1\n",
      "Temperature now: 5000.0 K\n",
      "fH: [ 0.26671495]\n",
      "[  1.00000000e+20]\n",
      "Adding reaction: k01 : 1*H_1 + 1*de => 1*H_2 + 2*de\n",
      "Adding reaction: k02 : 1*H_2 + 1*de => 1*H_1\n",
      "Adding reaction: k07 : 1*H_1 + 1*de => 1*H_m0\n",
      "Adding reaction: k08 : 1*H_m0 + 1*H_1 => 1*H2_1 + 1*de\n",
      "Adding reaction: k09 : 1*H_1 + 1*H_2 => 1*H2_2\n",
      "Adding reaction: k10 : 1*H2_2 + 1*H_1 => 1*H2_1 + 1*H_2\n",
      "Adding reaction: k11 : 1*H2_1 + 1*H_2 => 1*H2_2 + 1*H_1\n",
      "Adding reaction: k12 : 1*H2_1 + 1*de => 2*H_1 + 1*de\n",
      "Adding reaction: k13 : 1*H2_1 + 1*H_1 => 3*H_1\n",
      "Adding reaction: k14 : 1*H_m0 + 1*de => 1*H_1 + 2*de\n",
      "Adding reaction: k15 : 1*H_m0 + 1*H_1 => 2*H_1 + 1*de\n",
      "Adding reaction: k16 : 1*H_m0 + 1*H_2 => 2*H_1\n",
      "Adding reaction: k17 : 1*H_m0 + 1*H_2 => 1*H2_2 + 1*de\n",
      "Adding reaction: k18 : 1*H2_2 + 1*de => 2*H_1\n",
      "Adding reaction: k19 : 1*H2_2 + 1*H_m0 => 1*H_1 + 1*H2_1\n",
      "Adding reaction: k21 : 2*H_1 + 1*H2_1 => 2*H2_1\n",
      "Adding reaction: k22 : 2*H_1 + 1*H_1 => 1*H2_1 + 1*H_1\n",
      "Adding reaction: k23 : 1*H2_1 + 1*H2_1 => 2*H_1 + 1*H2_1\n",
      "H2_1 3.63754316331e+19 7.33285051205e+19\n",
      "H2_2 3.63754316331e-21 7.33285051205e-21\n",
      "H_1 2.64613914315e+19 2.66714948795e+19\n",
      "H_2 2.64613914315e-21 2.66714948795e-21\n",
      "H_m0 2.64613914315e-21 2.66714948795e-21\n",
      "de 3.63754316331e-21 3.63754316331e-21\n",
      "ge 3.8943779564e+11 3.8943779564e+11\n",
      "Successful iteration[ 1000]: (9.560e+02) 3.896e+06 / 3.160e+13\n",
      "Successful iteration[ 2000]: (9.274e+03) 1.168e+07 / 3.160e+13\n",
      "Successful iteration[ 3000]: (8.449e+03) 2.049e+07 / 3.160e+13\n",
      "Successful iteration[ 4000]: (7.698e+03) 3.117e+07 / 3.160e+13\n",
      "Successful iteration[ 5000]: (7.013e+03) 3.896e+07 / 3.160e+13\n",
      "Successful iteration[ 6000]: (6.389e+03) 4.877e+07 / 3.160e+13\n",
      "Successful iteration[ 7000]: (5.821e+03) 5.796e+07 / 3.160e+13\n",
      "Successful iteration[ 8000]: (1.167e+04) 6.613e+07 / 3.160e+13\n",
      "Successful iteration[ 9000]: (2.338e+04) 7.595e+07 / 3.160e+13\n",
      "Successful iteration[ 10000]: (4.401e+03) 8.460e+07 / 3.160e+13\n",
      "Successful iteration[ 11000]: (8.822e+03) 9.353e+07 / 3.160e+13\n",
      "Successful iteration[ 12000]: (1.768e+04) 1.007e+08 / 3.160e+13\n",
      "Successful iteration[ 13000]: (7.322e+03) 1.096e+08 / 3.160e+13\n",
      "Successful iteration[ 14000]: (6.671e+03) 1.178e+08 / 3.160e+13\n",
      "Successful iteration[ 15000]: (1.337e+04) 1.250e+08 / 3.160e+13\n",
      "Successful iteration[ 16000]: (1.144e+03) 1.338e+08 / 3.160e+13\n",
      "Successful iteration[ 17000]: (2.293e+03) 1.436e+08 / 3.160e+13\n",
      "Successful iteration[ 19000]: (2.026e+04) 1.616e+08 / 3.160e+13\n",
      "Successful iteration[ 20000]: (1.846e+04) 1.703e+08 / 3.160e+13\n",
      "Successful iteration[ 22000]: (1.532e+04) 1.865e+08 / 3.160e+13\n",
      "Successful iteration[ 23000]: (6.346e+03) 1.952e+08 / 3.160e+13\n",
      "Successful iteration[ 24000]: (5.781e+03) 2.055e+08 / 3.160e+13\n",
      "Successful iteration[ 25000]: (2.394e+03) 2.150e+08 / 3.160e+13\n",
      "Successful iteration[ 26000]: (4.798e+03) 2.225e+08 / 3.160e+13\n",
      "Successful iteration[ 27000]: (4.372e+03) 2.321e+08 / 3.160e+13\n",
      "Successful iteration[ 28000]: (8.762e+03) 2.401e+08 / 3.160e+13\n",
      "Successful iteration[ 29000]: (1.756e+04) 2.493e+08 / 3.160e+13\n",
      "Successful iteration[ 31000]: (1.458e+04) 2.671e+08 / 3.160e+13\n",
      "Successful iteration[ 32000]: (6.036e+03) 2.753e+08 / 3.160e+13\n",
      "Successful iteration[ 33000]: (1.210e+04) 2.846e+08 / 3.160e+13\n",
      "Successful iteration[ 35000]: (2.209e+04) 3.006e+08 / 3.160e+13\n",
      "Successful iteration[ 36000]: (9.149e+03) 3.098e+08 / 3.160e+13\n",
      "Successful iteration[ 38000]: (7.593e+03) 3.286e+08 / 3.160e+13\n",
      "Successful iteration[ 39000]: (6.918e+03) 3.384e+08 / 3.160e+13\n",
      "Successful iteration[ 40000]: (2.865e+03) 3.480e+08 / 3.160e+13\n",
      "Successful iteration[ 41000]: (5.742e+03) 3.561e+08 / 3.160e+13\n",
      "Successful iteration[ 43000]: (1.048e+04) 3.741e+08 / 3.160e+13\n",
      "Successful iteration[ 44000]: (2.101e+04) 3.832e+08 / 3.160e+13\n",
      "Successful iteration[ 45000]: (1.798e+03) 3.919e+08 / 3.160e+13\n",
      "Successful iteration[ 46000]: (7.446e+02) 3.993e+08 / 3.160e+13\n",
      "Successful iteration[ 47000]: (7.223e+03) 4.081e+08 / 3.160e+13\n",
      "Successful iteration[ 49000]: (5.995e+03) 4.268e+08 / 3.160e+13\n",
      "Successful iteration[ 50000]: (2.483e+03) 4.356e+08 / 3.160e+13\n",
      "Successful iteration[ 51000]: (1.095e+04) 4.445e+08 / 3.160e+13\n",
      "Successful iteration[ 52000]: (9.974e+03) 4.523e+08 / 3.160e+13\n",
      "Successful iteration[ 53000]: (1.999e+04) 4.608e+08 / 3.160e+13\n",
      "Successful iteration[ 54000]: (1.821e+04) 4.704e+08 / 3.160e+13\n",
      "Successful iteration[ 55000]: (1.659e+04) 4.801e+08 / 3.160e+13\n",
      "Successful iteration[ 56000]: (6.871e+03) 4.889e+08 / 3.160e+13\n",
      "Successful iteration[ 57000]: (3.030e+04) 4.980e+08 / 3.160e+13\n",
      "Successful iteration[ 58000]: (2.592e+03) 5.066e+08 / 3.160e+13\n",
      "Successful iteration[ 59000]: (1.143e+04) 5.161e+08 / 3.160e+13\n",
      "Successful iteration[ 61000]: (9.487e+03) 5.356e+08 / 3.160e+13\n",
      "Successful iteration[ 62000]: (8.643e+03) 5.449e+08 / 3.160e+13\n",
      "Successful iteration[ 63000]: (1.732e+04) 5.539e+08 / 3.160e+13\n",
      "Successful iteration[ 64000]: (3.261e+03) 5.638e+08 / 3.160e+13\n",
      "Successful iteration[ 65000]: (6.536e+03) 5.731e+08 / 3.160e+13\n",
      "Successful iteration[ 68000]: (1.087e+04) 5.996e+08 / 3.160e+13\n",
      "Successful iteration[ 69000]: (9.906e+03) 6.082e+08 / 3.160e+13\n",
      "Successful iteration[ 70000]: (1.985e+04) 6.177e+08 / 3.160e+13\n",
      "Successful iteration[ 71000]: (1.809e+04) 6.266e+08 / 3.160e+13\n",
      "Successful iteration[ 73000]: (6.824e+03) 6.453e+08 / 3.160e+13\n",
      "Successful iteration[ 74000]: (1.368e+04) 6.552e+08 / 3.160e+13\n",
      "Successful iteration[ 75000]: (1.246e+04) 6.649e+08 / 3.160e+13\n",
      "Successful iteration[ 76000]: (1.135e+04) 6.752e+08 / 3.160e+13\n",
      "Successful iteration[ 77000]: (1.034e+04) 6.833e+08 / 3.160e+13\n",
      "Successful iteration[ 78000]: (2.073e+04) 6.921e+08 / 3.160e+13\n",
      "Successful iteration[ 79000]: (1.774e+03) 7.009e+08 / 3.160e+13\n",
      "Successful iteration[ 80000]: (3.555e+03) 7.116e+08 / 3.160e+13\n",
      "Successful iteration[ 81000]: (7.125e+03) 7.201e+08 / 3.160e+13\n",
      "Successful iteration[ 82000]: (6.491e+03) 7.293e+08 / 3.160e+13\n",
      "Successful iteration[ 84000]: (1.185e+04) 7.457e+08 / 3.160e+13\n",
      "Successful iteration[ 85000]: (4.909e+03) 7.527e+08 / 3.160e+13\n",
      "Successful iteration[ 86000]: (2.164e+04) 7.619e+08 / 3.160e+13\n",
      "Successful iteration[ 87000]: (8.963e+03) 7.723e+08 / 3.160e+13\n",
      "Successful iteration[ 88000]: (8.166e+03) 7.834e+08 / 3.160e+13\n",
      "Successful iteration[ 89000]: (6.987e+02) 7.924e+08 / 3.160e+13\n",
      "Successful iteration[ 90000]: (1.491e+04) 8.008e+08 / 3.160e+13\n",
      "Successful iteration[ 91000]: (2.807e+03) 8.101e+08 / 3.160e+13\n",
      "Successful iteration[ 92000]: (2.557e+03) 8.186e+08 / 3.160e+13\n",
      "Successful iteration[ 93000]: (2.330e+03) 8.265e+08 / 3.160e+13\n",
      "Successful iteration[ 95000]: (4.254e+03) 8.453e+08 / 3.160e+13\n",
      "Successful iteration[ 96000]: (8.526e+03) 8.555e+08 / 3.160e+13\n",
      "Successful iteration[ 97000]: (1.605e+03) 8.642e+08 / 3.160e+13\n",
      "Successful iteration[ 99000]: (6.447e+03) 8.790e+08 / 3.160e+13\n",
      "End in 100000 iterations: 8.87434e+08 / 3.16000e+13 (3.15991e+13)\n"
     ]
    }
   ],
   "source": [
    "class my_network:\n",
    "    def __init__(self, T):\n",
    "        self.T = T\n",
    "\n",
    "from sympy import *\n",
    "\n",
    "def equi_fH(rho, T):\n",
    "    \n",
    "    \n",
    "    init, network = Init_values(T,rho, 0.0)\n",
    "    \n",
    "    # for i in network.required_species:\n",
    "    #     print(network.print_ccode(i))\n",
    "    #     for j in network.required_species:\n",
    "    #         print(network.print_jacobian_component(i,j))\n",
    "\n",
    "    mH = 1.0\n",
    "\n",
    "    k13 = (network.reactions['k13'])\n",
    "    k22 = (network.reactions['k22'])\n",
    "\n",
    "    temp_network = my_network(T)\n",
    "\n",
    "    k13coeff, k22coeff = (k13.coeff_fn(temp_network), k22.coeff_fn(temp_network))\n",
    "    \n",
    "\n",
    "    k13s, k22s, fHs, rhos = symbols(\" k13 k22 fH rho\")\n",
    "    expr = k13s*(1 - fHs) /2 - k22s*fHs*fHs*rhos\n",
    "    known_vals = [ (k13s, k13coeff), (k22s, k22coeff), (rhos, rho) ]\n",
    "    new_expr = expr.subs(known_vals)\n",
    "    new_expr_poly = Poly(new_expr, fHs)\n",
    "    print('Temperature now: {} K'.format(T))\n",
    "    poly_coeff = (new_expr_poly.coeffs())\n",
    "    ans = numpy.roots(poly_coeff)\n",
    "    print('fH: {}'.format(ans[ans>0]) )\n",
    "    return ans[ans>0]\n",
    "\n",
    "Temp_array = numpy.logspace(2, 4, 10)\n",
    "\n",
    "Temp_array = numpy.array([5.0e3])\n",
    "# in atomic mass unit! not grams\n",
    "rho = numpy.array([1e20])\n",
    "\n",
    "for ith_T in Temp_array:\n",
    "    fH = equi_fH(rho, ith_T)\n",
    "    h , t = main(fH, ith_T, rho , full_output = True)"
   ]
  },
  {
   "cell_type": "code",
   "execution_count": 87,
   "metadata": {},
   "outputs": [
    {
     "name": "stdout",
     "output_type": "stream",
     "text": [
      "Adding reaction: k01 : 1*H_1 + 1*de => 1*H_2 + 2*de\n",
      "Adding reaction: k02 : 1*H_2 + 1*de => 1*H_1\n",
      "Adding reaction: k07 : 1*H_1 + 1*de => 1*H_m0\n",
      "Adding reaction: k08 : 1*H_m0 + 1*H_1 => 1*H2_1 + 1*de\n",
      "Adding reaction: k09 : 1*H_1 + 1*H_2 => 1*H2_2\n",
      "Adding reaction: k10 : 1*H2_2 + 1*H_1 => 1*H2_1 + 1*H_2\n",
      "Adding reaction: k11 : 1*H2_1 + 1*H_2 => 1*H2_2 + 1*H_1\n",
      "Adding reaction: k12 : 1*H2_1 + 1*de => 2*H_1 + 1*de\n",
      "Adding reaction: k13 : 1*H2_1 + 1*H_1 => 3*H_1\n",
      "Adding reaction: k14 : 1*H_m0 + 1*de => 1*H_1 + 2*de\n",
      "Adding reaction: k15 : 1*H_m0 + 1*H_1 => 2*H_1 + 1*de\n",
      "Adding reaction: k16 : 1*H_m0 + 1*H_2 => 2*H_1\n",
      "Adding reaction: k17 : 1*H_m0 + 1*H_2 => 1*H2_2 + 1*de\n",
      "Adding reaction: k18 : 1*H2_2 + 1*de => 2*H_1\n",
      "Adding reaction: k19 : 1*H2_2 + 1*H_m0 => 1*H_1 + 1*H2_1\n",
      "Adding reaction: k21 : 2*H_1 + 1*H2_1 => 2*H2_1\n",
      "Adding reaction: k22 : 2*H_1 + 1*H_1 => 1*H2_1 + 1*H_1\n",
      "Adding reaction: k23 : 1*H2_1 + 1*H2_1 => 2*H_1 + 1*H2_1\n",
      "H_2\n",
      "H_1\n",
      "Ju\n",
      "de\n",
      "H2_2\n",
      "H2_1\n",
      "H_m0\n",
      "T\n",
      "H_2\n",
      "H_1\n",
      "Ju\n",
      "de\n",
      "H2_2\n",
      "H2_1\n",
      "H_m0\n",
      "T\n"
     ]
    }
   ],
   "source": [
    "con_not_con = 'not-conserved'\n",
    "\n",
    "mask = h[0]['successful']\n",
    "t = h[0]['t'][mask]\n",
    "dt = h[0]['dt'][mask]\n",
    "\n",
    "plt.clf()\n",
    "skip_list = ['dt', 'ge', 'successful', 't']\n",
    "hydrogen_list = ['H_1','H_2','H2_1','H2_2','H_m0']\n",
    "\n",
    "total_e = numpy.zeros((len(t)))\n",
    "init, network = Init_values(5e3,1e15, 0.0)\n",
    "\n",
    "for j in network.required_species:\n",
    "    if j.name in h[0].keys() and j.name not in skip_list:\n",
    "        total_e += h[0][j.name][0][mask]  * j.free_electrons\n",
    "\n",
    "total_Hatoms = numpy.zeros((len(t)))\n",
    "for j in network.required_species:\n",
    "    if j.name in hydrogen_list:\n",
    "        total_Hatoms += h[0][j.name][0][mask] *j.weight\n",
    "\n",
    "\n",
    "        \n",
    "f, axarr = plt.subplots(3, sharex=True, figsize=(10,15))\n",
    "        \n",
    "for i in h[0].keys():\n",
    "    if i not in skip_list:\n",
    "        print(i)\n",
    "        hi = h[0][i][0][mask]\n",
    "        axarr[0].loglog(t,hi/hi[0], label=i) \n",
    "\n",
    "\n",
    "        \n",
    "\n",
    "h1 = h[0]['H_1'][0][mask]\n",
    "h2 = h[0]['H2_1'][0][mask]\n",
    "#de = h[0]['de'][0][mask]\n",
    "\n",
    "axarr[0].set_title('Temperature: {} K     Density: {} per cc   with {} iterations'.format(Temp_array[0],  rho[0], 1e5))\n",
    "axarr[0].set_xlabel('Time (s)')\n",
    "axarr[0].set_ylabel('Species abundances (normalized by initial values)')\n",
    "axarr[0].loglog(t,dt/dt[0], label='dt')\n",
    "\n",
    "if con_not_con == 'not-conserved':\n",
    "    \n",
    "    de = h[0]['de'][0][mask]\n",
    "    axarr[0].loglog(t, total_e/de, label='de normalized by those from species', ls = '--', color = 'r')\n",
    "\n",
    "axarr[0].legend(loc='best',fontsize='x-small')\n",
    "# plt.savefig(con_not_con+'-species-norm-nHe20.png')\n",
    "\n",
    "\n",
    "for i in h[0].keys():\n",
    "    if i not in skip_list:\n",
    "        print(i)\n",
    "        hi = h[0][i][0][mask]\n",
    "        axarr[1].loglog(t,hi, label=i) \n",
    "\n",
    "\n",
    "#axarr[1].set_xlim(1e-9, 1e10)\n",
    "\n",
    "h1 = h[0]['H_1'][0][mask]\n",
    "h2 = h[0]['H2_1'][0][mask]\n",
    "\n",
    "\n",
    "\n",
    "axarr[1].set_xlabel('Time (s)')\n",
    "axarr[1].set_ylabel('Species abundances')\n",
    "axarr[1].loglog(t,dt, label='dt')\n",
    "axarr[1].loglog(t, total_e, label='de (from species)', ls = '--', color = 'r')\n",
    "\n",
    "axarr[1].legend(loc='best',fontsize='x-small')\n",
    "# plt.savefig(con_not_con+'-species-nHe20.png')\n",
    "\n",
    "\n",
    "if con_not_con == 'not-conserved':\n",
    "    \n",
    "    de = h[0]['de'][0][mask]\n",
    "    axarr[2].plot(t, total_e/de, label='de normalized by those from species', ls = '--', color = 'r')\n",
    "\n",
    "\n",
    "axarr[2].plot(t, h1/total_Hatoms , label=\"f(H)\" )\n",
    "axarr[2].set_xlabel('Time (s)')\n",
    "axarr[2].set_ylabel('mass ratio of Hydrogen atom (fH)')\n",
    "axarr[2].legend()\n",
    "f.savefig(con_not_con+'nHe20.png')"
   ]
  },
  {
   "cell_type": "code",
   "execution_count": 88,
   "metadata": {},
   "outputs": [
    {
     "data": {
      "image/png": "[encoded data removed]",
      "text/plain": [
       "<IPython.core.display.Image object>"
      ]
     },
     "execution_count": 88,
     "metadata": {},
     "output_type": "execute_result"
    }
   ],
   "source": [
    "from IPython.display import Image\n",
    "Image(con_not_con+'nHe20.png')"
   ]
  },
  {
   "cell_type": "code",
   "execution_count": 16,
   "metadata": {},
   "outputs": [
    {
     "ename": "NameError",
     "evalue": "name 'result_H' is not defined",
     "output_type": "error",
     "traceback": [
      "\u001b[0;31m---------------------------------------------------------------------------\u001b[0m",
      "\u001b[0;31mNameError\u001b[0m                                 Traceback (most recent call last)",
      "\u001b[0;32m<ipython-input-16-e5acc885e1a5>\u001b[0m in \u001b[0;36m<module>\u001b[0;34m()\u001b[0m\n\u001b[0;32m----> 1\u001b[0;31m \u001b[0mflag\u001b[0m \u001b[0;34m=\u001b[0m \u001b[0;34m(\u001b[0m\u001b[0mresult_H\u001b[0m\u001b[0;34m[\u001b[0m\u001b[0;36m0\u001b[0m\u001b[0;34m]\u001b[0m\u001b[0;34m[\u001b[0m\u001b[0;36m0\u001b[0m\u001b[0;34m]\u001b[0m\u001b[0;34m[\u001b[0m\u001b[0;34m'successful'\u001b[0m\u001b[0;34m]\u001b[0m\u001b[0;34m)\u001b[0m\u001b[0;34m\u001b[0m\u001b[0m\n\u001b[0m\u001b[1;32m      2\u001b[0m \u001b[0;34m\u001b[0m\u001b[0m\n\u001b[1;32m      3\u001b[0m \u001b[0mvalid_results\u001b[0m \u001b[0;34m=\u001b[0m \u001b[0mresult_H\u001b[0m\u001b[0;34m[\u001b[0m\u001b[0;36m0\u001b[0m\u001b[0;34m]\u001b[0m\u001b[0;34m[\u001b[0m\u001b[0;36m0\u001b[0m\u001b[0;34m]\u001b[0m\u001b[0;34m\u001b[0m\u001b[0m\n\u001b[1;32m      4\u001b[0m \u001b[0mtotal_e\u001b[0m \u001b[0;34m=\u001b[0m \u001b[0mnumpy\u001b[0m\u001b[0;34m.\u001b[0m\u001b[0mzeros\u001b[0m\u001b[0;34m(\u001b[0m\u001b[0;34m(\u001b[0m\u001b[0mlen\u001b[0m\u001b[0;34m(\u001b[0m\u001b[0mflag\u001b[0m\u001b[0;34m[\u001b[0m\u001b[0mflag\u001b[0m\u001b[0;34m]\u001b[0m\u001b[0;34m)\u001b[0m\u001b[0;34m)\u001b[0m\u001b[0;34m)\u001b[0m\u001b[0;34m\u001b[0m\u001b[0m\n\u001b[1;32m      5\u001b[0m \u001b[0;34m\u001b[0m\u001b[0m\n",
      "\u001b[0;31mNameError\u001b[0m: name 'result_H' is not defined"
     ]
    }
   ],
   "source": [
    "flag = (result_H[0][0]['successful'])\n",
    "\n",
    "valid_results = result_H[0][0]\n",
    "total_e = numpy.zeros((len(flag[flag])))\n",
    "\n",
    "for s in network.required_species:\n",
    "    \n",
    "    species_now = numpy.array((valid_results[s.name][0][flag]))\n",
    "    \n",
    "    if s.name in ['de', 'ge']: continue        \n",
    "    total_e += species_now * s.free_electrons\n",
    "    print(s.name, species_now[-1] , s.free_electrons)\n",
    "\n",
    "try:\n",
    "    plt.semilogx( valid_results['t'][flag] , (valid_results['de'][0][flag])/total_e, label='ratio of de to the actual charge')\n",
    "except:\n",
    "    pass\n",
    "#plt.scatter(valid_results['t'][flag] , total_e, color = 'r')\n",
    "#plt.semilogx( valid_results['t'][flag] , valid_results['H_m0'][0][flag] / max(valid_results['H_m0'][0][flag]),label='H_m0 (relative to max)')\n",
    "#plt.semilogx( valid_results['t'][flag] , valid_results['H2_2'][0][flag] / max(valid_results['H2_2'][0][flag]),label='H2_2 (relative to max)')\n",
    "plt.legend()\n",
    "plt.show()"
   ]
  },
  {
   "cell_type": "code",
   "execution_count": null,
   "metadata": {
    "scrolled": false
   },
   "outputs": [],
   "source": [
    "from matplotlib import cm\n",
    "import matplotlib.pyplot as plt\n",
    "\n",
    "cm_section = numpy.linspace(0,1.0, len( result_H[0][0].keys()))\n",
    "colors = [cm.jet(x) for x in cm_section ]\n",
    "\n",
    "abase = result_H[0][0]\n",
    "\n",
    "tol = [1e-6,1e-3,1.0]\n",
    "\n",
    "for i in [0,1,2]:\n",
    "    \n",
    "    \n",
    "    plt.clf()\n",
    "    plt.figure(figsize = (8,8))\n",
    "\n",
    "    ls = ['-', '--', ':','-.']\n",
    "    a = result_H[i][0]\n",
    "    skip_list = ['t', 'successful', 'dt', 'ge']\n",
    "    icolor = 0\n",
    "    for key in a.keys():\n",
    "        if key not in skip_list:\n",
    "            baseb = (abase[key])\n",
    "            mask = a['successful']\n",
    "            b = (a[key][0][mask])\n",
    "            t = (a['t'][mask])\n",
    "            plt.loglog(t, (b)/b[0], label = key, ls = ls[i], color= colors[icolor])\n",
    "        icolor = icolor + 1\n",
    "\n",
    "    plt.scatter(t, a['dt'][mask] / a['dt'][mask][0],label='dt')\n",
    "    plt.ylim(1e-2,1e2)\n",
    "    plt.xlim((0 ,1e13))\n",
    "    \n",
    "    plt.plot(t, total_e/a['de'][0][mask], color='r', ls = '--')\n",
    "#    plt.plot(t, a['de'][0][mask], color='g', ls = '--')\n",
    "    \n",
    "#    plt.title('atol = {}'.format( tol[i]))\n",
    "\n",
    "    plt.legend(loc='upper right',fontsize = 'x-small')\n",
    "    plt.show()"
   ]
  },
  {
   "cell_type": "code",
   "execution_count": null,
   "metadata": {
    "collapsed": true
   },
   "outputs": [],
   "source": []
  },
  {
   "cell_type": "code",
   "execution_count": null,
   "metadata": {},
   "outputs": [],
   "source": [
    "hehe.T"
   ]
  },
  {
   "cell_type": "code",
   "execution_count": null,
   "metadata": {
    "collapsed": true
   },
   "outputs": [],
   "source": [
    "from sympy import *\n",
    "\n",
    "k13s, k22s, fHs, rhos = symbols(\" k13 k22 fH rho\")\n",
    "expr = k13s*(1 - fHs) /2 - k22s*fHs*fHs*rhos\n",
    "known_vals = [ (k13s, k13coeff), (k22s, k22coeff), (rhos, rho) ]\n",
    "new_expr = expr.subs(known_vals)"
   ]
  },
  {
   "cell_type": "code",
   "execution_count": null,
   "metadata": {},
   "outputs": [],
   "source": [
    "print(new_expr)\n",
    "f = lambdify(fHs, new_expr, 'numpy')\n",
    "f(0.1)"
   ]
  },
  {
   "cell_type": "code",
   "execution_count": null,
   "metadata": {},
   "outputs": [],
   "source": [
    "numpy.roots([-1.37064198972626e-38, 1.48658174786701e-11,1.48658174786701e-11])"
   ]
  },
  {
   "cell_type": "code",
   "execution_count": null,
   "metadata": {},
   "outputs": [],
   "source": [
    "rho"
   ]
  },
  {
   "cell_type": "code",
   "execution_count": null,
   "metadata": {},
   "outputs": [],
   "source": [
    "k22coeff"
   ]
  },
  {
   "cell_type": "code",
   "execution_count": null,
   "metadata": {},
   "outputs": [],
   "source": [
    "from IPython.display import Image\n",
    "\n",
    "Image(filename='trytry.png')"
   ]
  },
  {
   "cell_type": "code",
   "execution_count": 74,
   "metadata": {},
   "outputs": [],
   "source": [
    "h1 = h[0]['Ju']\n",
    "h1[:,mask].shape\n",
    "sp_arr = [sp.name for sp in sorted(network.required_species)]\n",
    "\n",
    "jacs = h1[:,mask]"
   ]
  },
  {
   "cell_type": "code",
   "execution_count": 75,
   "metadata": {},
   "outputs": [
    {
     "data": {
      "application/vnd.jupyter.widget-view+json": {
       "model_id": "dc526c68708d4427a009e0f6bc3dc836"
      }
     },
     "metadata": {},
     "output_type": "display_data"
    },
    {
     "data": {
      "text/plain": [
       "<function __main__.jac_plot>"
      ]
     },
     "execution_count": 75,
     "metadata": {},
     "output_type": "execute_result"
    }
   ],
   "source": [
    "from ipywidgets import interact\n",
    "def jac_plot(i):\n",
    "    plt.imshow( numpy.log( numpy.abs(jacs[:,i].reshape(7, 7)) ) ,origin='lower')\n",
    "    plt.colorbar()\n",
    "    plt.xticks(range(7), sp_arr)\n",
    "    plt.yticks(range(7), sp_arr)\n",
    "    plt.show()\n",
    "    \n",
    "    plt.hist(jacs[:,i])\n",
    "    plt.show()\n",
    "interact(jac_plot, i = (0, h1[:,mask].shape[1]))"
   ]
  },
  {
   "cell_type": "code",
   "execution_count": null,
   "metadata": {},
   "outputs": [],
   "source": []
  },
  {
   "cell_type": "code",
   "execution_count": null,
   "metadata": {},
   "outputs": [],
   "source": [
    "hm0 = h[0]['H_m0'][0][mask]\n",
    "de = h[0]['de'][0][mask]\n"
   ]
  },
  {
   "cell_type": "code",
   "execution_count": null,
   "metadata": {},
   "outputs": [],
   "source": [
    "plt.plot(t, hm0/de)\n",
    "plt.plot(t, total_e/de)\n",
    "\n",
    "plt.show()"
   ]
  },
  {
   "cell_type": "code",
   "execution_count": 58,
   "metadata": {},
   "outputs": [],
   "source": [
    "a = network.reactions['k01']"
   ]
  },
  {
   "cell_type": "code",
   "execution_count": 61,
   "metadata": {},
   "outputs": [
    {
     "name": "stdout",
     "output_type": "stream",
     "text": [
      "Adding reaction: k01 : 1*H_1 + 1*de => 1*H_2 + 2*de\n",
      "Adding reaction: k02 : 1*H_2 + 1*de => 1*H_1\n",
      "Adding reaction: k07 : 1*H_1 + 1*de => 1*H_m0\n",
      "Adding reaction: k08 : 1*H_m0 + 1*H_1 => 1*H2_1 + 1*de\n",
      "Adding reaction: k09 : 1*H_1 + 1*H_2 => 1*H2_2\n",
      "Adding reaction: k10 : 1*H2_2 + 1*H_1 => 1*H2_1 + 1*H_2\n",
      "Adding reaction: k11 : 1*H2_1 + 1*H_2 => 1*H2_2 + 1*H_1\n",
      "Adding reaction: k12 : 1*H2_1 + 1*de => 2*H_1 + 1*de\n",
      "Adding reaction: k13 : 1*H2_1 + 1*H_1 => 3*H_1\n",
      "Adding reaction: k14 : 1*H_m0 + 1*de => 1*H_1 + 2*de\n",
      "Adding reaction: k15 : 1*H_m0 + 1*H_1 => 2*H_1 + 1*de\n",
      "Adding reaction: k16 : 1*H_m0 + 1*H_2 => 2*H_1\n",
      "Adding reaction: k17 : 1*H_m0 + 1*H_2 => 1*H2_2 + 1*de\n",
      "Adding reaction: k18 : 1*H2_2 + 1*de => 2*H_1\n",
      "Adding reaction: k19 : 1*H2_2 + 1*H_m0 => 1*H_1 + 1*H2_1\n",
      "Adding reaction: k21 : 2*H_1 + 1*H2_1 => 2*H2_1\n",
      "Adding reaction: k22 : 2*H_1 + 1*H_1 => 1*H2_1 + 1*H_1\n",
      "Adding reaction: k23 : 1*H2_1 + 1*H2_1 => 2*H_1 + 1*H2_1\n",
      "Temperature now: 3000.0 K\n",
      "fH: [ 0.00938032]\n",
      "[  1.00000000e+20]\n",
      "Adding reaction: k01 : 1*H_1 + 1*de => 1*H_2 + 2*de\n",
      "Adding reaction: k02 : 1*H_2 + 1*de => 1*H_1\n",
      "Adding reaction: k07 : 1*H_1 + 1*de => 1*H_m0\n",
      "Adding reaction: k08 : 1*H_m0 + 1*H_1 => 1*H2_1 + 1*de\n",
      "Adding reaction: k09 : 1*H_1 + 1*H_2 => 1*H2_2\n",
      "Adding reaction: k10 : 1*H2_2 + 1*H_1 => 1*H2_1 + 1*H_2\n",
      "Adding reaction: k11 : 1*H2_1 + 1*H_2 => 1*H2_2 + 1*H_1\n",
      "Adding reaction: k12 : 1*H2_1 + 1*de => 2*H_1 + 1*de\n",
      "Adding reaction: k13 : 1*H2_1 + 1*H_1 => 3*H_1\n",
      "Adding reaction: k14 : 1*H_m0 + 1*de => 1*H_1 + 2*de\n",
      "Adding reaction: k15 : 1*H_m0 + 1*H_1 => 2*H_1 + 1*de\n",
      "Adding reaction: k16 : 1*H_m0 + 1*H_2 => 2*H_1\n",
      "Adding reaction: k17 : 1*H_m0 + 1*H_2 => 1*H2_2 + 1*de\n",
      "Adding reaction: k18 : 1*H2_2 + 1*de => 2*H_1\n",
      "Adding reaction: k19 : 1*H2_2 + 1*H_m0 => 1*H_1 + 1*H2_1\n",
      "Adding reaction: k21 : 2*H_1 + 1*H2_1 => 2*H2_1\n",
      "Adding reaction: k22 : 2*H_1 + 1*H_1 => 1*H2_1 + 1*H_1\n",
      "Adding reaction: k23 : 1*H2_1 + 1*H2_1 => 2*H_1 + 1*H2_1\n",
      "H2_1 4.91408057801e+19 9.9061967556e+19\n",
      "H2_2 4.91408057801e-21 9.9061967556e-21\n",
      "H_1 9.30643137523e+17 9.38032444035e+17\n",
      "H_2 9.30643137523e-23 9.38032444035e-23\n",
      "H_m0 9.30643137523e-23 9.38032444035e-23\n",
      "de 4.91408057801e-21 4.91408057801e-21\n",
      "ge 1.86193831005e+11 1.86193831005e+11\n",
      "Successful iteration[ 2000]: (2.040e+04) 5.114e+12 / 3.160e+13\n",
      "Successful iteration[ 3000]: (1.859e+04) 5.114e+12 / 3.160e+13\n",
      "Successful iteration[ 4000]: (1.693e+04) 5.114e+12 / 3.160e+13\n",
      "Successful iteration[ 5000]: (1.543e+04) 5.114e+12 / 3.160e+13\n",
      "Successful iteration[ 6000]: (1.406e+04) 5.114e+12 / 3.160e+13\n",
      "Successful iteration[ 7000]: (1.281e+04) 5.114e+12 / 3.160e+13\n",
      "Successful iteration[ 8000]: (1.167e+04) 5.114e+12 / 3.160e+13\n",
      "Successful iteration[ 10000]: (2.130e+04) 5.114e+12 / 3.160e+13\n",
      "Successful iteration[ 11000]: (1.941e+04) 5.114e+12 / 3.160e+13\n",
      "Successful iteration[ 12000]: (1.768e+04) 5.114e+12 / 3.160e+13\n",
      "Successful iteration[ 13000]: (1.611e+04) 5.114e+12 / 3.160e+13\n",
      "Successful iteration[ 14000]: (1.468e+04) 5.114e+12 / 3.160e+13\n",
      "Successful iteration[ 15000]: (1.337e+04) 5.114e+12 / 3.160e+13\n",
      "Successful iteration[ 16000]: (1.218e+04) 5.114e+12 / 3.160e+13\n",
      "Successful iteration[ 17000]: (1.110e+04) 5.114e+12 / 3.160e+13\n",
      "Successful iteration[ 19000]: (2.026e+04) 5.114e+12 / 3.160e+13\n",
      "Successful iteration[ 20000]: (1.846e+04) 5.114e+12 / 3.160e+13\n",
      "Successful iteration[ 21000]: (1.682e+04) 5.114e+12 / 3.160e+13\n",
      "Successful iteration[ 22000]: (1.532e+04) 5.114e+12 / 3.160e+13\n",
      "Successful iteration[ 23000]: (1.396e+04) 5.114e+12 / 3.160e+13\n",
      "Successful iteration[ 24000]: (1.272e+04) 5.114e+12 / 3.160e+13\n",
      "Successful iteration[ 25000]: (1.159e+04) 5.114e+12 / 3.160e+13\n",
      "Successful iteration[ 27000]: (2.116e+04) 5.114e+12 / 3.160e+13\n",
      "Successful iteration[ 28000]: (1.928e+04) 5.114e+12 / 3.160e+13\n",
      "Successful iteration[ 29000]: (1.756e+04) 5.114e+12 / 3.160e+13\n",
      "Successful iteration[ 30000]: (1.600e+04) 5.114e+12 / 3.160e+13\n",
      "Successful iteration[ 31000]: (1.458e+04) 5.114e+12 / 3.160e+13\n",
      "Successful iteration[ 32000]: (1.328e+04) 5.114e+12 / 3.160e+13\n",
      "Successful iteration[ 33000]: (1.210e+04) 5.114e+12 / 3.160e+13\n",
      "Successful iteration[ 34000]: (1.102e+04) 5.114e+12 / 3.160e+13\n",
      "Successful iteration[ 36000]: (2.013e+04) 5.114e+12 / 3.160e+13\n",
      "Successful iteration[ 37000]: (1.834e+04) 5.114e+12 / 3.160e+13\n",
      "Successful iteration[ 38000]: (1.671e+04) 5.114e+12 / 3.160e+13\n",
      "Successful iteration[ 39000]: (1.522e+04) 5.114e+12 / 3.160e+13\n",
      "Successful iteration[ 40000]: (1.387e+04) 5.114e+12 / 3.160e+13\n",
      "Successful iteration[ 41000]: (1.263e+04) 5.115e+12 / 3.160e+13\n",
      "Successful iteration[ 42000]: (1.151e+04) 5.115e+12 / 3.160e+13\n",
      "Successful iteration[ 44000]: (2.101e+04) 5.115e+12 / 3.160e+13\n",
      "Successful iteration[ 45000]: (1.915e+04) 5.115e+12 / 3.160e+13\n",
      "Successful iteration[ 46000]: (1.744e+04) 5.115e+12 / 3.160e+13\n",
      "Successful iteration[ 47000]: (1.589e+04) 5.115e+12 / 3.160e+13\n",
      "Successful iteration[ 48000]: (1.448e+04) 5.115e+12 / 3.160e+13\n",
      "Successful iteration[ 49000]: (1.319e+04) 5.115e+12 / 3.160e+13\n",
      "Successful iteration[ 50000]: (1.202e+04) 5.115e+12 / 3.160e+13\n",
      "Successful iteration[ 53000]: (1.999e+04) 5.115e+12 / 3.160e+13\n",
      "Successful iteration[ 54000]: (1.821e+04) 5.115e+12 / 3.160e+13\n",
      "Successful iteration[ 55000]: (1.659e+04) 5.115e+12 / 3.160e+13\n",
      "Successful iteration[ 56000]: (1.512e+04) 5.115e+12 / 3.160e+13\n",
      "Successful iteration[ 57000]: (1.377e+04) 5.115e+12 / 3.160e+13\n",
      "Successful iteration[ 58000]: (1.255e+04) 5.115e+12 / 3.160e+13\n",
      "Successful iteration[ 59000]: (1.143e+04) 5.115e+12 / 3.160e+13\n",
      "Successful iteration[ 61000]: (2.087e+04) 5.115e+12 / 3.160e+13\n",
      "Successful iteration[ 62000]: (1.902e+04) 5.115e+12 / 3.160e+13\n",
      "Successful iteration[ 63000]: (1.732e+04) 5.115e+12 / 3.160e+13\n",
      "Successful iteration[ 64000]: (1.578e+04) 5.115e+12 / 3.160e+13\n",
      "Successful iteration[ 65000]: (1.438e+04) 5.115e+12 / 3.160e+13\n",
      "Successful iteration[ 66000]: (1.310e+04) 5.115e+12 / 3.160e+13\n",
      "Successful iteration[ 67000]: (1.193e+04) 5.115e+12 / 3.160e+13\n",
      "Successful iteration[ 68000]: (2.392e+04) 5.115e+12 / 3.160e+13\n",
      "Successful iteration[ 69000]: (2.179e+04) 5.115e+12 / 3.160e+13\n",
      "Successful iteration[ 70000]: (1.985e+04) 5.115e+12 / 3.160e+13\n",
      "Successful iteration[ 71000]: (1.809e+04) 5.115e+12 / 3.160e+13\n",
      "Successful iteration[ 72000]: (1.648e+04) 5.115e+12 / 3.160e+13\n",
      "Successful iteration[ 73000]: (1.501e+04) 5.115e+12 / 3.160e+13\n",
      "Successful iteration[ 74000]: (1.368e+04) 5.115e+12 / 3.160e+13\n",
      "Successful iteration[ 75000]: (1.246e+04) 5.115e+12 / 3.160e+13\n",
      "Successful iteration[ 77000]: (2.275e+04) 5.115e+12 / 3.160e+13\n",
      "Successful iteration[ 78000]: (2.073e+04) 5.115e+12 / 3.160e+13\n",
      "Successful iteration[ 79000]: (1.889e+04) 5.115e+12 / 3.160e+13\n",
      "Successful iteration[ 80000]: (1.721e+04) 5.115e+12 / 3.160e+13\n",
      "Successful iteration[ 81000]: (1.568e+04) 5.115e+12 / 3.160e+13\n",
      "Successful iteration[ 82000]: (1.428e+04) 5.115e+12 / 3.160e+13\n",
      "Successful iteration[ 83000]: (1.301e+04) 5.115e+12 / 3.160e+13\n",
      "Successful iteration[ 85000]: (2.376e+04) 5.115e+12 / 3.160e+13\n",
      "Successful iteration[ 86000]: (2.164e+04) 5.115e+12 / 3.160e+13\n",
      "Successful iteration[ 87000]: (1.972e+04) 5.115e+12 / 3.160e+13\n",
      "Successful iteration[ 88000]: (1.797e+04) 5.115e+12 / 3.160e+13\n",
      "Successful iteration[ 89000]: (1.637e+04) 5.115e+12 / 3.160e+13\n",
      "Successful iteration[ 90000]: (1.491e+04) 5.115e+12 / 3.160e+13\n",
      "Successful iteration[ 91000]: (1.358e+04) 5.115e+12 / 3.160e+13\n",
      "Successful iteration[ 92000]: (1.238e+04) 5.115e+12 / 3.160e+13\n",
      "Successful iteration[ 93000]: (1.128e+04) 5.115e+12 / 3.160e+13\n",
      "Successful iteration[ 95000]: (2.059e+04) 5.115e+12 / 3.160e+13\n",
      "Successful iteration[ 96000]: (1.876e+04) 5.115e+12 / 3.160e+13\n",
      "Successful iteration[ 97000]: (1.709e+04) 5.115e+12 / 3.160e+13\n",
      "Successful iteration[ 98000]: (1.557e+04) 5.115e+12 / 3.160e+13\n",
      "Successful iteration[ 99000]: (1.418e+04) 5.115e+12 / 3.160e+13\n",
      "End in 100000 iterations: 5.11535e+12 / 3.16000e+13 (2.64847e+13)\n"
     ]
    }
   ],
   "source": [
    "class my_network:\n",
    "    def __init__(self, T):\n",
    "        self.T = T\n",
    "\n",
    "from sympy import *\n",
    "\n",
    "def equi_fH(rho, T):\n",
    "    \n",
    "    \n",
    "    init, network = Init_values(T,rho, 0.0)\n",
    "    \n",
    "    # for i in network.required_species:\n",
    "    #     print(network.print_ccode(i))\n",
    "    #     for j in network.required_species:\n",
    "    #         print(network.print_jacobian_component(i,j))\n",
    "\n",
    "    mH = 1.0\n",
    "\n",
    "    k13 = (network.reactions['k13'])\n",
    "    k22 = (network.reactions['k22'])\n",
    "\n",
    "    temp_network = my_network(T)\n",
    "\n",
    "    k13coeff, k22coeff = (k13.coeff_fn(temp_network), k22.coeff_fn(temp_network))\n",
    "    \n",
    "\n",
    "    k13s, k22s, fHs, rhos = symbols(\" k13 k22 fH rho\")\n",
    "    expr = k13s*(1 - fHs) /2 - k22s*fHs*fHs*rhos\n",
    "    known_vals = [ (k13s, k13coeff), (k22s, k22coeff), (rhos, rho) ]\n",
    "    new_expr = expr.subs(known_vals)\n",
    "    new_expr_poly = Poly(new_expr, fHs)\n",
    "    print('Temperature now: {} K'.format(T))\n",
    "    poly_coeff = (new_expr_poly.coeffs())\n",
    "    ans = numpy.roots(poly_coeff)\n",
    "    print('fH: {}'.format(ans[ans>0]) )\n",
    "    return ans[ans>0]\n",
    "\n",
    "Temp_array = numpy.logspace(2, 4, 10)\n",
    "\n",
    "Temp_array = numpy.array([3.0e3])\n",
    "# in atomic mass unit! not grams\n",
    "rho = numpy.array([1e20])\n",
    "\n",
    "for ith_T in Temp_array:\n",
    "    fH = equi_fH(rho, ith_T)\n",
    "    h , t = main(fH, ith_T, rho , full_output = True)"
   ]
  },
  {
   "cell_type": "code",
   "execution_count": 62,
   "metadata": {},
   "outputs": [
    {
     "data": {
      "text/plain": [
       "['H2_1', 'H2_2', 'H_1', 'H_2', 'H_m0', 'de', 'ge']"
      ]
     },
     "execution_count": 62,
     "metadata": {},
     "output_type": "execute_result"
    }
   ],
   "source": [
    "sp_arr"
   ]
  },
  {
   "cell_type": "code",
   "execution_count": 25,
   "metadata": {},
   "outputs": [
    {
     "data": {
      "text/plain": [
       "{'k01': k01 : 1*H_1 + 1*de => 1*H_2 + 2*de,\n",
       " 'k02': k02 : 1*H_2 + 1*de => 1*H_1,\n",
       " 'k07': k07 : 1*H_1 + 1*de => 1*H_m0,\n",
       " 'k08': k08 : 1*H_m0 + 1*H_1 => 1*H2_1 + 1*de,\n",
       " 'k09': k09 : 1*H_1 + 1*H_2 => 1*H2_2,\n",
       " 'k10': k10 : 1*H2_2 + 1*H_1 => 1*H2_1 + 1*H_2,\n",
       " 'k11': k11 : 1*H2_1 + 1*H_2 => 1*H2_2 + 1*H_1,\n",
       " 'k12': k12 : 1*H2_1 + 1*de => 2*H_1 + 1*de,\n",
       " 'k13': k13 : 1*H2_1 + 1*H_1 => 3*H_1,\n",
       " 'k14': k14 : 1*H_m0 + 1*de => 1*H_1 + 2*de,\n",
       " 'k15': k15 : 1*H_m0 + 1*H_1 => 2*H_1 + 1*de,\n",
       " 'k16': k16 : 1*H_m0 + 1*H_2 => 2*H_1,\n",
       " 'k17': k17 : 1*H_m0 + 1*H_2 => 1*H2_2 + 1*de,\n",
       " 'k18': k18 : 1*H2_2 + 1*de => 2*H_1,\n",
       " 'k19': k19 : 1*H2_2 + 1*H_m0 => 1*H_1 + 1*H2_1,\n",
       " 'k21': k21 : 2*H_1 + 1*H2_1 => 2*H2_1,\n",
       " 'k22': k22 : 2*H_1 + 1*H_1 => 1*H2_1 + 1*H_1,\n",
       " 'k23': k23 : 1*H2_1 + 1*H2_1 => 2*H_1 + 1*H2_1}"
      ]
     },
     "execution_count": 25,
     "metadata": {},
     "output_type": "execute_result"
    }
   ],
   "source": [
    "network.reactions"
   ]
  },
  {
   "cell_type": "code",
   "execution_count": 45,
   "metadata": {},
   "outputs": [
    {
     "data": {
      "image/png": "[encoded data removed]",
      "text/plain": [
       "<matplotlib.figure.Figure at 0x7f3de7715110>"
      ]
     },
     "metadata": {},
     "output_type": "display_data"
    }
   ],
   "source": [
    "plt.clf()\n",
    "for i in range(23):\n",
    "    try: \n",
    "        rxn = network.reactions[\"k{0:02d}\".format(i+1)]\n",
    "        plt.loglog(network.T , rxn.coeff_fn(network), label= \"k{0:02d}\".format(i+1))\n",
    "        \n",
    "    except:\n",
    "        pass\n",
    "plt.legend()\n",
    "plt.ylim(1e-40, 1e0)\n",
    "plt.xlim(5e2,1e4)\n",
    "plt.show()"
   ]
  },
  {
   "cell_type": "code",
   "execution_count": 12,
   "metadata": {},
   "outputs": [
    {
     "name": "stdout",
     "output_type": "stream",
     "text": [
      "('k01', -1.0, -1.0)\n",
      "('k02', 0.0, 0.0)\n",
      "('k03', 0.0, 0.0)\n",
      "('k04', 0.0, 0.0)\n",
      "('k05', 0.0, 0.0)\n",
      "('k06', 0.0, 0.0)\n",
      "('k07', -1.0, -1.0)\n",
      "('k08', -1.0, -1.0)\n",
      "('k09', 1.0, 1.0)\n",
      "('k10', 1.0, 1.0)\n",
      "('k11', 1.0, 1.0)\n",
      "('k12', -1.0, -1.0)\n",
      "('k13', 0.0, 0.0)\n",
      "('k14', -2.0, -2.0)\n",
      "('k15', -1.0, -1.0)\n",
      "('k16', 0.0, 0.0)\n",
      "('k17', 0.0, 0.0)\n",
      "('k18', 0.0, 0.0)\n",
      "('k19', 0.0, 0.0)\n",
      "('k20', 0.0, 0.0)\n",
      "('k21', 0.0, 0.0)\n",
      "('k22', 0.0, 0.0)\n",
      "('k23', 0.0, 0.0)\n"
     ]
    }
   ],
   "source": [
    "for i in range(23):\n",
    "    try: \n",
    "        rxn = network.reactions[\"k{0:02d}\".format(i+1)]\n",
    "    except:\n",
    "        pass\n",
    "    \n",
    "    left_e = 0.0\n",
    "    right_e = 0.0\n",
    "    \n",
    "    for num, sp in rxn.left_side:\n",
    "        if sp.name == 'de':\n",
    "            left_e += num* -1.0\n",
    "        left_e += num* sp.free_electrons\n",
    "    for num, sp in rxn.right_side:\n",
    "        if sp.name == 'de':\n",
    "            right_e += num* -1.0\n",
    "        right_e += num* sp.free_electrons\n",
    "    print(\"k{0:02d}\".format(i+1), left_e, right_e)"
   ]
  },
  {
   "cell_type": "code",
   "execution_count": 102,
   "metadata": {},
   "outputs": [
    {
     "data": {
      "text/plain": [
       "0.0"
      ]
     },
     "execution_count": 102,
     "metadata": {},
     "output_type": "execute_result"
    }
   ],
   "source": [
    "sp = (rxn.left_side[0][1])\n",
    "\n",
    "sp.free_electrons"
   ]
  },
  {
   "cell_type": "code",
   "execution_count": 19,
   "metadata": {},
   "outputs": [
    {
     "name": "stdout",
     "output_type": "stream",
     "text": [
      "('H2_2', k09[i]*H_1*H_2 - k10[i]*H2_2*H_1 + k11[i]*H2_1*H_2 + k17[i]*H_2*H_m0 - k18[i]*H2_2*de - k19[i]*H2_2*H_m0)\n",
      "('H_m0', k07[i]*H_1*de - k08[i]*H_1*H_m0 - k14[i]*H_m0*de - k15[i]*H_1*H_m0 - k16[i]*H_2*H_m0 - k17[i]*H_2*H_m0 - k19[i]*H2_2*H_m0)\n",
      "('H2_1', k08[i]*H_1*H_m0 + k10[i]*H2_2*H_1 - k11[i]*H2_1*H_2 - k12[i]*H2_1*de - k13[i]*H2_1*H_1 + k19[i]*H2_2*H_m0 + k21[i]*H2_1*H_1**2 + k22[i]*H_1**3 - k23[i]*H2_1**2)\n",
      "('H_1', -k01[i]*H_1*de + k02[i]*H_2*de - k07[i]*H_1*de - k08[i]*H_1*H_m0 - k09[i]*H_1*H_2 - k10[i]*H2_2*H_1 + k11[i]*H2_1*H_2 + 2*k12[i]*H2_1*de + 2*k13[i]*H2_1*H_1 + k14[i]*H_m0*de + k15[i]*H_1*H_m0 + 2*k16[i]*H_2*H_m0 + 2*k18[i]*H2_2*de + k19[i]*H2_2*H_m0 - 2*k21[i]*H2_1*H_1**2 - 2*k22[i]*H_1**3 + 2*k23[i]*H2_1**2)\n",
      "('H_2', k01[i]*H_1*de - k02[i]*H_2*de - k09[i]*H_1*H_2 + k10[i]*H2_2*H_1 - k11[i]*H2_1*H_2 - k16[i]*H_2*H_m0 - k17[i]*H_2*H_m0)\n",
      "1.0*k01[i]*H_1*de - 1.0*k02[i]*H_2*de - 1.0*k07[i]*H_1*de + 1.0*k08[i]*H_1*H_m0 + 1.0*k14[i]*H_m0*de + 1.0*k15[i]*H_1*H_m0 + 1.0*k17[i]*H_2*H_m0 - 1.0*k18[i]*H2_2*de\n",
      "k01[i]*H_1*de - k02[i]*H_2*de - k07[i]*H_1*de + k08[i]*H_1*H_m0 + k14[i]*H_m0*de + k15[i]*H_1*H_m0 + k17[i]*H_2*H_m0 - k18[i]*H2_2*de\n",
      "---------------\n",
      "0\n"
     ]
    }
   ],
   "source": [
    "eq = sympify(\"0\")\n",
    "for sp in network.required_species:\n",
    "    if sp.name not in ['de', 'ge']:\n",
    "        print(sp.name, network.species_total(sp))\n",
    "        eq += sp.free_electrons * ( network.species_total(sp))\n",
    "    elif sp.name == 'de':\n",
    "        eq_e = network.species_total(sp)\n",
    "\n",
    "print(eq)\n",
    "print(eq_e)\n",
    "\n",
    "print('---------------')\n",
    "print(eq - eq_e)"
   ]
  },
  {
   "cell_type": "code",
   "execution_count": 59,
   "metadata": {},
   "outputs": [
    {
     "data": {
      "text/plain": [
       "['H2_1', 'H2_2', 'H_1', 'H_2', 'H_m0', 'de', 'ge']"
      ]
     },
     "execution_count": 59,
     "metadata": {},
     "output_type": "execute_result"
    }
   ],
   "source": [
    "sp_arr"
   ]
  },
  {
   "cell_type": "code",
   "execution_count": 82,
   "metadata": {},
   "outputs": [
    {
     "data": {
      "text/plain": [
       "<matplotlib.figure.Figure at 0x7fd8c56f6e50>"
      ]
     },
     "metadata": {},
     "output_type": "display_data"
    },
    {
     "data": {
      "image/png": "[encoded data removed]",
      "text/plain": [
       "<matplotlib.figure.Figure at 0x7fd8c875e8d0>"
      ]
     },
     "metadata": {},
     "output_type": "display_data"
    }
   ],
   "source": [
    "plt.clf()\n",
    "plt.loglog(t,dt)\n",
    "plt.show()"
   ]
  },
  {
   "cell_type": "code",
   "execution_count": 85,
   "metadata": {},
   "outputs": [
    {
     "data": {
      "image/png": "[encoded data removed]",
      "text/plain": [
       "<matplotlib.figure.Figure at 0x7fd8c80bfbd0>"
      ]
     },
     "metadata": {},
     "output_type": "display_data"
    }
   ],
   "source": [
    "T = h[0]['T'][0][mask]\n",
    "\n",
    "plt.clf()\n",
    "plt.semilogx(t,T/max(T))\n",
    "plt.loglog(t,dt/max(dt) / (max(T) - min(T) ) + 1)\n",
    "\n",
    "plt.show()"
   ]
  },
  {
   "cell_type": "code",
   "execution_count": 63,
   "metadata": {},
   "outputs": [
    {
     "data": {
      "text/plain": [
       "1.0356974989617811"
      ]
     },
     "execution_count": 63,
     "metadata": {},
     "output_type": "execute_result"
    }
   ],
   "source": [
    "(max(T) - min(T) )"
   ]
  },
  {
   "cell_type": "code",
   "execution_count": 100,
   "metadata": {},
   "outputs": [
    {
     "name": "stdout",
     "output_type": "stream",
     "text": [
      "('H2_2', 2.01588)\n",
      "('H_m0', 1.00794)\n",
      "('H2_1', 2.01588)\n",
      "('H_1', 1.00794)\n",
      "('H_2', 1.00794)\n"
     ]
    },
    {
     "data": {
      "image/png": "[encoded data removed]",
      "text/plain": [
       "<matplotlib.figure.Figure at 0x7f3de7000390>"
      ]
     },
     "metadata": {},
     "output_type": "display_data"
    }
   ],
   "source": [
    "## plt.clf()\n",
    "ll = len(h[0][sp.name][0][mask])\n",
    "all_mass = numpy.zeros((ll))\n",
    "\n",
    "for sp in network.required_species:\n",
    "    if sp.name not in ['dt', 'ge', 'de']:\n",
    "        T = h[0][sp.name][0][mask]\n",
    "        print(sp.name, sp.weight)\n",
    "        all_mass +=  sp.weight * T\n",
    "\n",
    "for sp in network.required_species:\n",
    "    if sp.name not in ['dt', 'ge', 'H2_2', 'H_2', 'H_m0', 'de']:\n",
    "        T = h[0][sp.name][0][mask]\n",
    "        plt.semilogx(t[t>1e3] ,T[t>1e3] / max(T[t>1e3]) , label=sp.name)\n",
    "        plt.legend()\n",
    "        \n",
    "plt.semilogx(t[t>1e3] , all_mass[t>1e3] / max(all_mass[t>1e3]), label='total density')\n",
    "\n",
    "plt.semilogx( t , total_e / de , label = 'ele' )\n",
    "plt.legend()\n",
    "plt.show()"
   ]
  },
  {
   "cell_type": "code",
   "execution_count": 53,
   "metadata": {},
   "outputs": [
    {
     "name": "stdout",
     "output_type": "stream",
     "text": [
      "('H2_2', k09[i]*H_1*H_2 - k10[i]*H2_2*H_1 + k11[i]*H2_1*H_2 + k17[i]*H_2*H_m0 - k18[i]*H2_2*de - k19[i]*H2_2*H_m0)\n",
      "('H_m0', k07[i]*H_1*de - k08[i]*H_1*H_m0 - k14[i]*H_m0*de - k15[i]*H_1*H_m0 - k16[i]*H_2*H_m0 - k17[i]*H_2*H_m0 - k19[i]*H2_2*H_m0)\n",
      "('H2_1', k08[i]*H_1*H_m0 + k10[i]*H2_2*H_1 - k11[i]*H2_1*H_2 - k12[i]*H2_1*de - k13[i]*H2_1*H_1 + k19[i]*H2_2*H_m0 + k21[i]*H2_1*H_1**2 + k22[i]*H_1**3 - k23[i]*H2_1**2)\n",
      "('H_1', -k01[i]*H_1*de + k02[i]*H_2*de - k07[i]*H_1*de - k08[i]*H_1*H_m0 - k09[i]*H_1*H_2 - k10[i]*H2_2*H_1 + k11[i]*H2_1*H_2 + 2*k12[i]*H2_1*de + 2*k13[i]*H2_1*H_1 + k14[i]*H_m0*de + k15[i]*H_1*H_m0 + 2*k16[i]*H_2*H_m0 + 2*k18[i]*H2_2*de + k19[i]*H2_2*H_m0 - 2*k21[i]*H2_1*H_1**2 - 2*k22[i]*H_1**3 + 2*k23[i]*H2_1**2)\n",
      "('de', k01[i]*H_1*de - k02[i]*H_2*de - k07[i]*H_1*de + k08[i]*H_1*H_m0 + k14[i]*H_m0*de + k15[i]*H_1*H_m0 + k17[i]*H_2*H_m0 - k18[i]*H2_2*de)\n",
      "('H_2', k01[i]*H_1*de - k02[i]*H_2*de - k09[i]*H_1*H_2 + k10[i]*H2_2*H_1 - k11[i]*H2_1*H_2 - k16[i]*H_2*H_m0 - k17[i]*H_2*H_m0)\n"
     ]
    }
   ],
   "source": [
    "eq = sympify(\"0\")\n",
    "for sp in network.required_species:\n",
    "    if sp.name not in ['ge']:\n",
    "        print(sp.name, network.species_total(sp))\n",
    "        eq += sp.free_electrons * ( network.species_total(sp))\n",
    "    elif sp.name == 'de':\n",
    "        eq_e = network.species_total(sp)"
   ]
  },
  {
   "cell_type": "code",
   "execution_count": 54,
   "metadata": {},
   "outputs": [
    {
     "name": "stdout",
     "output_type": "stream",
     "text": [
      "('k01', 1.00794, 1.00794)\n",
      "('k02', 1.00794, 1.00794)\n",
      "('k03', 1.00794, 1.00794)\n",
      "('k04', 1.00794, 1.00794)\n",
      "('k05', 1.00794, 1.00794)\n",
      "('k06', 1.00794, 1.00794)\n",
      "('k07', 1.00794, 1.00794)\n",
      "('k08', 2.01588, 2.01588)\n",
      "('k09', 2.01588, 2.01588)\n",
      "('k10', 3.02382, 3.02382)\n",
      "('k11', 3.02382, 3.02382)\n",
      "('k12', 2.01588, 2.01588)\n",
      "('k13', 3.02382, 3.02382)\n",
      "('k14', 1.00794, 1.00794)\n",
      "('k15', 2.01588, 2.01588)\n",
      "('k16', 2.01588, 2.01588)\n",
      "('k17', 2.01588, 2.01588)\n",
      "('k18', 2.01588, 2.01588)\n",
      "('k19', 3.02382, 3.02382)\n",
      "('k20', 3.02382, 3.02382)\n",
      "('k21', 4.03176, 4.03176)\n",
      "('k22', 3.02382, 3.02382)\n",
      "('k23', 4.03176, 4.03176)\n"
     ]
    }
   ],
   "source": [
    "for i in range(23):\n",
    "    try: \n",
    "        rxn = network.reactions[\"k{0:02d}\".format(i+1)]\n",
    "    except:\n",
    "        pass\n",
    "    \n",
    "    left_e = 0.0\n",
    "    right_e = 0.0\n",
    "    \n",
    "    for num, sp in rxn.left_side:\n",
    "        if sp.name == 'de':\n",
    "            left_e += num* 0.0\n",
    "        else:\n",
    "            left_e += num* sp.weight\n",
    "    for num, sp in rxn.right_side:\n",
    "        if sp.name == 'de':\n",
    "            right_e += num* 0.0\n",
    "        else:\n",
    "            right_e += num* sp.weight\n",
    "    print(\"k{0:02d}\".format(i+1), left_e, right_e)"
   ]
  },
  {
   "cell_type": "code",
   "execution_count": 22,
   "metadata": {},
   "outputs": [
    {
     "data": {
      "image/png": "[encoded data removed]",
      "text/plain": [
       "<matplotlib.figure.Figure at 0x7f3de709c490>"
      ]
     },
     "metadata": {},
     "output_type": "display_data"
    }
   ],
   "source": [
    "plt.loglog(t, h[0]['ge'][0][mask] )\n",
    "plt.show()"
   ]
  },
  {
   "cell_type": "code",
   "execution_count": null,
   "metadata": {
    "collapsed": true
   },
   "outputs": [],
   "source": []
  }
 ],
 "metadata": {
  "kernelspec": {
   "display_name": "Python 2",
   "language": "python",
   "name": "python2"
  },
  "language_info": {
   "codemirror_mode": {
    "name": "ipython",
    "version": 2
   },
   "file_extension": ".py",
   "mimetype": "text/x-python",
   "name": "python",
   "nbconvert_exporter": "python",
   "pygments_lexer": "ipython2",
   "version": "2.7.13"
  }
 },
 "nbformat": 4,
 "nbformat_minor": 2
}
