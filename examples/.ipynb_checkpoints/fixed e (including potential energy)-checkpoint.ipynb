{
 "cells": [
  {
   "cell_type": "code",
   "execution_count": 37,
   "metadata": {},
   "outputs": [
    {
     "data": {
      "text/plain": [
       "(None, None)"
      ]
     },
     "execution_count": 37,
     "metadata": {},
     "output_type": "execute_result"
    }
   ],
   "source": [
    "import os\n",
    "os.environ['YT_DEST'] = '/home/kwoksun2/anaconda2/pkgs/yt-3.3.5-np111py27_2/'\n",
    "import numpy as np\n",
    "from dengo.chemical_network import \\\n",
    "    ChemicalNetwork, \\\n",
    "    reaction_registry, \\\n",
    "    cooling_registry, species_registry\n",
    "import dengo.primordial_rates, dengo.primordial_cooling\n",
    "from dengo.chemistry_constants import tiny, kboltz, mh\n",
    "import yt\n",
    "import numpy\n",
    "\n",
    "import matplotlib.pyplot as plt\n",
    "\n",
    "import pyximport\n",
    "pyximport.install(setup_args={\"include_dirs\":np.get_include()},\n",
    "                      reload_support=True, inplace=True)\n"
   ]
  },
  {
   "cell_type": "code",
   "execution_count": 38,
   "metadata": {
    "collapsed": true
   },
   "outputs": [],
   "source": [
    "def equil_values(init_values, primordial, t =3.16e12, niter= 1e3, full_output = False):\n",
    "    \n",
    "    !rm sunny*\n",
    "    \n",
    "    primordial.write_solver(\"sunny\", output_dir = \".\",\n",
    "                            init_values=init_values,\n",
    "                            input_is_number=False)\n",
    "\n",
    "    sunny_solver_run = pyximport.load_module(\"sunny_solver_run\",\n",
    "                                \"sunny_solver_run.pyx\",\n",
    "                                build_inplace = True, pyxbuild_dir = \"_dengo_temp\")\n",
    "    rv, rv_int = sunny_solver_run.run_sunny(init_values, t, niter=niter) ;\n",
    "    \n",
    "    mask = rv_int['successful']\n",
    "    \n",
    "    if full_output:\n",
    "        return rv_int, 0\n",
    "    else:\n",
    "        return rv_int['H_1'][:, mask][:,-1] / init_values['density'], rv_int['t'][mask][-1]"
   ]
  },
  {
   "cell_type": "code",
   "execution_count": 61,
   "metadata": {
    "collapsed": true
   },
   "outputs": [],
   "source": [
    "def Init_values(temperature, density, fH):\n",
    "    X = 0.75\n",
    "\n",
    "    # initialize and setup the network\n",
    "    dengo.primordial_rates.setup_primordial()\n",
    "    primordial = ChemicalNetwork()\n",
    "\n",
    "    for i in range(23):\n",
    "        try: \n",
    "            primordial.add_reaction(\"k{0:02d}\".format(i+1))\n",
    "        except:\n",
    "            pass\n",
    "    \n",
    "    \n",
    "    primordial.init_temperature((1e0, 1e5))\n",
    "\n",
    "    tiny = 1e-10\n",
    "\n",
    "    # init_array are is in fractional abundances\n",
    "    init_array = density\n",
    "    init_values = dict()\n",
    "\n",
    "    init_values[\"H_1\"]     = fH* X * init_array    \n",
    "    init_values['H_2']     =  X *tiny* init_array\n",
    "    init_values[\"H_m0\"]     = X *tiny* init_array\n",
    "\n",
    "    init_values[\"H2_1\"]     = (1.0-fH) *X* init_array\n",
    "    init_values[\"H2_2\"]     = tiny *X* init_array\n",
    "\n",
    "    init_values[\"He_1\"] = ( 1.0 - X )*init_array\n",
    "    init_values[\"He_2\"] = ( 1.0 - X )*tiny*init_array\n",
    "    init_values[\"He_3\"] = ( 1.0 - X )*tiny*init_array\n",
    "\n",
    "    # now everything in mass density\n",
    "    init_values = primordial.convert_to_mass_density(init_values)\n",
    "    init_values['de'] = primordial.calculate_free_electrons(init_values)\n",
    "    # one signle value: again mass density\n",
    "    init_values['density'] = primordial.calculate_total_density(init_values)\n",
    "    number_density = primordial.calculate_number_density(init_values)\n",
    "\n",
    "    # set up initial temperatures values used to define ge\n",
    "    init_values['T'] = temperature\n",
    "\n",
    "    # calculate ge (very crudely, no H2 help here)\n",
    "    gamma = 5.0/3.0\n",
    "    init_values['ge'] = ((temperature * number_density * kboltz)\n",
    "                         / (init_values['density'] * mh * (gamma - 1)))\n",
    "    return init_values, primordial"
   ]
  },
  {
   "cell_type": "code",
   "execution_count": 62,
   "metadata": {
    "collapsed": true
   },
   "outputs": [],
   "source": [
    "def main(fH, temp, den , full_output = False):\n",
    "    \n",
    "    \n",
    "    temp = temp.flatten()\n",
    "    den = den.flatten()\n",
    "    \n",
    "    h_array = numpy.zeros((len(temp), len(den)))\n",
    "    t_array = numpy.zeros((len(den)))\n",
    "    \n",
    "    h_array = []\n",
    "    t_array = []\n",
    "    \n",
    "    print(den)\n",
    "    for iden, den_arr in enumerate(den):\n",
    "        \n",
    "        den_arr = numpy.ones((len(temp)))*den_arr\n",
    "        \n",
    "        init_values, primordial = Init_values(temp, den_arr, fH)\n",
    "        h_array_now, t_array_now = equil_values(init_values, primordial, full_output = full_output)\n",
    "        \n",
    "        h_array.append(h_array_now)\n",
    "        t_array.append(t_array_now)\n",
    "        \n",
    "    return h_array, t_array"
   ]
  },
  {
   "cell_type": "code",
   "execution_count": 60,
   "metadata": {
    "scrolled": true
   },
   "outputs": [
    {
     "name": "stdout",
     "output_type": "stream",
     "text": [
      "0.001\n",
      "[  1.00000000e+10   1.81160919e+10   3.28192787e+10   5.94557071e+10\n",
      "   1.07710506e+11   1.95129342e+11   3.53498111e+11   6.40400427e+11\n",
      "   1.16015530e+12   2.10174801e+12   3.80754602e+12   6.89778538e+12\n",
      "   1.24960914e+13   2.26380341e+13   4.10112707e+13   7.42963951e+13\n",
      "   1.34596032e+14   2.43835410e+14   4.41734470e+14   8.00250228e+14\n",
      "   1.44974067e+15   2.62636353e+15   4.75794431e+15   8.61953566e+15\n",
      "   1.56152301e+16   2.82886943e+16   5.12480588e+16   9.28414545e+16\n",
      "   1.68192432e+17   3.04698957e+17   5.51995432e+17   1.00000000e+18]\n",
      "Adding reaction: k01 : 1*H_1 + 1*de => 1*H_2 + 2*de\n",
      "Adding reaction: k02 : 1*H_2 + 1*de => 1*H_1\n",
      "Adding reaction: k03 : 1*He_1 + 1*de => 1*He_2 + 2*de\n",
      "Adding reaction: k04 : 1*He_2 + 1*de => 1*He_1\n",
      "Adding reaction: k05 : 1*He_2 + 1*de => 1*He_3 + 2*de\n",
      "Adding reaction: k06 : 1*He_3 + 1*de => 1*He_2\n",
      "Adding reaction: k07 : 1*H_1 + 1*de => 1*H_m0\n",
      "Adding reaction: k08 : 1*H_m0 + 1*H_1 => 1*H2_1 + 1*de\n",
      "Adding reaction: k09 : 1*H_1 + 1*H_2 => 1*H2_2\n",
      "Adding reaction: k10 : 1*H2_2 + 1*H_1 => 1*H2_1 + 1*H_2\n",
      "Adding reaction: k11 : 1*H2_1 + 1*H_2 => 1*H2_2 + 1*H_1\n",
      "Adding reaction: k12 : 1*H2_1 + 1*de => 2*H_2 + 1*de\n",
      "Adding reaction: k13 : 1*H2_1 + 1*H_1 => 3*H_1\n",
      "Adding reaction: k14 : 1*H_m0 + 1*de => 1*H_1 + 2*de\n",
      "Adding reaction: k15 : 1*H_m0 + 1*H_1 => 2*H_1 + 1*de\n",
      "Adding reaction: k16 : 1*H_m0 + 1*H_2 => 2*H_1\n",
      "Adding reaction: k17 : 1*H_m0 + 1*H_2 => 1*H2_2 + 1*de\n",
      "Adding reaction: k18 : 1*H2_2 + 1*de => 2*H_1\n",
      "Adding reaction: k19 : 1*H2_2 + 1*H_m0 => 1*H_1 + 1*H2_1\n",
      "Adding reaction: k21 : 2*H_1 + 1*H2_1 => 2*H2_1\n",
      "Adding reaction: k22 : 2*H_1 + 1*H_1 => 1*H2_1 + 1*H_1\n",
      "Adding reaction: k23 : 1*H2_1 + 1*H2_1 => 2*H_1 + 1*H2_1\n"
     ]
    },
    {
     "name": "stderr",
     "output_type": "stream",
     "text": [
      "/home/kwoksun2/anaconda2/lib/python2.7/site-packages/ipykernel_launcher.py:24: RuntimeWarning: divide by zero encountered in log10\n"
     ]
    },
    {
     "data": {
      "image/png": "[encoded data removed]",
      "text/plain": [
       "<matplotlib.figure.Figure at 0x7f568ddf4ad0>"
      ]
     },
     "metadata": {},
     "output_type": "display_data"
    },
    {
     "name": "stdout",
     "output_type": "stream",
     "text": [
      "0.0316224125331\n",
      "[  1.00000000e+10   1.81160919e+10   3.28192787e+10   5.94557071e+10\n",
      "   1.07710506e+11   1.95129342e+11   3.53498111e+11   6.40400427e+11\n",
      "   1.16015530e+12   2.10174801e+12   3.80754602e+12   6.89778538e+12\n",
      "   1.24960914e+13   2.26380341e+13   4.10112707e+13   7.42963951e+13\n",
      "   1.34596032e+14   2.43835410e+14   4.41734470e+14   8.00250228e+14\n",
      "   1.44974067e+15   2.62636353e+15   4.75794431e+15   8.61953566e+15\n",
      "   1.56152301e+16   2.82886943e+16   5.12480588e+16   9.28414545e+16\n",
      "   1.68192432e+17   3.04698957e+17   5.51995432e+17   1.00000000e+18]\n",
      "Adding reaction: k01 : 1*H_1 + 1*de => 1*H_2 + 2*de\n",
      "Adding reaction: k02 : 1*H_2 + 1*de => 1*H_1\n",
      "Adding reaction: k03 : 1*He_1 + 1*de => 1*He_2 + 2*de\n",
      "Adding reaction: k04 : 1*He_2 + 1*de => 1*He_1\n",
      "Adding reaction: k05 : 1*He_2 + 1*de => 1*He_3 + 2*de\n",
      "Adding reaction: k06 : 1*He_3 + 1*de => 1*He_2\n",
      "Adding reaction: k07 : 1*H_1 + 1*de => 1*H_m0\n",
      "Adding reaction: k08 : 1*H_m0 + 1*H_1 => 1*H2_1 + 1*de\n",
      "Adding reaction: k09 : 1*H_1 + 1*H_2 => 1*H2_2\n",
      "Adding reaction: k10 : 1*H2_2 + 1*H_1 => 1*H2_1 + 1*H_2\n",
      "Adding reaction: k11 : 1*H2_1 + 1*H_2 => 1*H2_2 + 1*H_1\n",
      "Adding reaction: k12 : 1*H2_1 + 1*de => 2*H_2 + 1*de\n",
      "Adding reaction: k13 : 1*H2_1 + 1*H_1 => 3*H_1\n",
      "Adding reaction: k14 : 1*H_m0 + 1*de => 1*H_1 + 2*de\n",
      "Adding reaction: k15 : 1*H_m0 + 1*H_1 => 2*H_1 + 1*de\n",
      "Adding reaction: k16 : 1*H_m0 + 1*H_2 => 2*H_1\n",
      "Adding reaction: k17 : 1*H_m0 + 1*H_2 => 1*H2_2 + 1*de\n",
      "Adding reaction: k18 : 1*H2_2 + 1*de => 2*H_1\n",
      "Adding reaction: k19 : 1*H2_2 + 1*H_m0 => 1*H_1 + 1*H2_1\n",
      "Adding reaction: k21 : 2*H_1 + 1*H2_1 => 2*H2_1\n",
      "Adding reaction: k22 : 2*H_1 + 1*H_1 => 1*H2_1 + 1*H_1\n",
      "Adding reaction: k23 : 1*H2_1 + 1*H2_1 => 2*H_1 + 1*H2_1\n"
     ]
    },
    {
     "data": {
      "image/png": "[encoded data removed]",
      "text/plain": [
       "<matplotlib.figure.Figure at 0x7f568e488bd0>"
      ]
     },
     "metadata": {},
     "output_type": "display_data"
    },
    {
     "name": "stdout",
     "output_type": "stream",
     "text": [
      "0.999976974414\n",
      "[  1.00000000e+10   1.81160919e+10   3.28192787e+10   5.94557071e+10\n",
      "   1.07710506e+11   1.95129342e+11   3.53498111e+11   6.40400427e+11\n",
      "   1.16015530e+12   2.10174801e+12   3.80754602e+12   6.89778538e+12\n",
      "   1.24960914e+13   2.26380341e+13   4.10112707e+13   7.42963951e+13\n",
      "   1.34596032e+14   2.43835410e+14   4.41734470e+14   8.00250228e+14\n",
      "   1.44974067e+15   2.62636353e+15   4.75794431e+15   8.61953566e+15\n",
      "   1.56152301e+16   2.82886943e+16   5.12480588e+16   9.28414545e+16\n",
      "   1.68192432e+17   3.04698957e+17   5.51995432e+17   1.00000000e+18]\n",
      "Adding reaction: k01 : 1*H_1 + 1*de => 1*H_2 + 2*de\n",
      "Adding reaction: k02 : 1*H_2 + 1*de => 1*H_1\n",
      "Adding reaction: k03 : 1*He_1 + 1*de => 1*He_2 + 2*de\n",
      "Adding reaction: k04 : 1*He_2 + 1*de => 1*He_1\n",
      "Adding reaction: k05 : 1*He_2 + 1*de => 1*He_3 + 2*de\n",
      "Adding reaction: k06 : 1*He_3 + 1*de => 1*He_2\n",
      "Adding reaction: k07 : 1*H_1 + 1*de => 1*H_m0\n",
      "Adding reaction: k08 : 1*H_m0 + 1*H_1 => 1*H2_1 + 1*de\n",
      "Adding reaction: k09 : 1*H_1 + 1*H_2 => 1*H2_2\n",
      "Adding reaction: k10 : 1*H2_2 + 1*H_1 => 1*H2_1 + 1*H_2\n",
      "Adding reaction: k11 : 1*H2_1 + 1*H_2 => 1*H2_2 + 1*H_1\n",
      "Adding reaction: k12 : 1*H2_1 + 1*de => 2*H_2 + 1*de\n",
      "Adding reaction: k13 : 1*H2_1 + 1*H_1 => 3*H_1\n",
      "Adding reaction: k14 : 1*H_m0 + 1*de => 1*H_1 + 2*de\n",
      "Adding reaction: k15 : 1*H_m0 + 1*H_1 => 2*H_1 + 1*de\n",
      "Adding reaction: k16 : 1*H_m0 + 1*H_2 => 2*H_1\n",
      "Adding reaction: k17 : 1*H_m0 + 1*H_2 => 1*H2_2 + 1*de\n",
      "Adding reaction: k18 : 1*H2_2 + 1*de => 2*H_1\n",
      "Adding reaction: k19 : 1*H2_2 + 1*H_m0 => 1*H_1 + 1*H2_1\n",
      "Adding reaction: k21 : 2*H_1 + 1*H2_1 => 2*H2_1\n",
      "Adding reaction: k22 : 2*H_1 + 1*H_1 => 1*H2_1 + 1*H_1\n",
      "Adding reaction: k23 : 1*H2_1 + 1*H2_1 => 2*H_1 + 1*H2_1\n"
     ]
    },
    {
     "data": {
      "image/png": "[encoded data removed]",
      "text/plain": [
       "<matplotlib.figure.Figure at 0x7f568e4e7d50>"
      ]
     },
     "metadata": {},
     "output_type": "display_data"
    }
   ],
   "source": [
    "result_H = []\n",
    "result_t = []\n",
    "\n",
    "for fH in numpy.logspace(-3, -1.0e-5, 3):\n",
    "    print(fH)\n",
    "    \n",
    "    dendim = 32\n",
    "    tempdim = 32\n",
    "    \n",
    "    temp = numpy.linspace(1e2,5e3, tempdim)\n",
    "    den = numpy.logspace(10,18, dendim)\n",
    "    \n",
    "    temp_mesh, den_mesh = numpy.meshgrid(temp,den)\n",
    "    \n",
    "    try:\n",
    "        nowH,nowt = main(fH, temp, den)\n",
    "        nowH = nowH.reshape((tempdim, dendim))\n",
    "        result_H.append(nowH)\n",
    "        result_t.append(nowt)\n",
    "    except:\n",
    "        nowH = numpy.zeros((tempdim,dendim))\n",
    "        result_H.append(nowH)\n",
    "        result_t.append(numpy.array([0]))\n",
    "    plt.pcolor(temp_mesh, den_mesh, numpy.log10(nowH))\n",
    "    plt.yscale('log')\n",
    "    \n",
    "    plt.colorbar()\n",
    "    plt.show()\n",
    "    \n",
    "    numpy.save('fH_array={}.npy'.format(fH), result_H )"
   ]
  },
  {
   "cell_type": "code",
   "execution_count": null,
   "metadata": {
    "collapsed": true
   },
   "outputs": [],
   "source": [
    "for ifH, fH in enumerate(numpy.logspace(-3, -1.0e-5, 3)):    \n",
    "\n",
    "    plt.pcolor(den_mesh, temp_mesh, numpy.log10(result_H[ifH]) )\n",
    "    plt.xscale('log')\n",
    "    plt.title('initial fH = {}'.format(fH, ))\n",
    "    plt.colorbar()\n",
    "    plt.show()"
   ]
  },
  {
   "cell_type": "code",
   "execution_count": null,
   "metadata": {
    "collapsed": true
   },
   "outputs": [],
   "source": [
    "result_tarr = numpy.array(result_t).transpose()\n",
    "plt.plot(den, result_tarr)\n",
    "plt.xscale('log')\n",
    "plt.show()"
   ]
  },
  {
   "cell_type": "code",
   "execution_count": null,
   "metadata": {
    "collapsed": true
   },
   "outputs": [],
   "source": [
    "import imageio\n",
    "images = []\n",
    "\n",
    "\n",
    "result_H = numpy.load('H_aray_1e5.npy')\n",
    "result_t = numpy.load('t_aray_1e5.npy')\n",
    "dendim = 32\n",
    "tempdim = 32\n",
    "    \n",
    "temp = numpy.linspace(1e2,5e3, tempdim)\n",
    "den = numpy.logspace(10,20, dendim)\n",
    "    \n",
    "temp, den = numpy.meshgrid(temp,den)\n",
    "\n",
    "for ifH, fH in enumerate(numpy.logspace(-3, 0, 5)):\n",
    "    print(result_t[ifH])\n",
    "    print(fH)\n",
    "    \n",
    "    plt.clf()\n",
    "    plt.title('Starting with f(H) = {0:f}, ending at {1:f} s'.format(fH, result_t[ifH]))\n",
    "    plt.pcolor(den, temp, numpy.log10(result_H[ifH]).transpose())\n",
    "    plt.xscale('log')\n",
    "    plt.xlabel('Density (cm**-3)')\n",
    "    plt.ylabel('Tempereature (K)')\n",
    "    if ifH <= 0.5:\n",
    "        plt.colorbar()\n",
    "    plt.savefig('fH={0}.png'.format(fH))\n",
    "    \n",
    "    images.append(imageio.imread('fH={0}.png'.format(fH)))\n",
    "\n",
    "imageio.mimsave('fH.gif', images)"
   ]
  },
  {
   "cell_type": "code",
   "execution_count": null,
   "metadata": {
    "collapsed": true
   },
   "outputs": [],
   "source": [
    "from IPython.display import Image\n",
    "Image('fH={}.png'.format(numpy.logspace(-3, 0, 5)[0]))"
   ]
  },
  {
   "cell_type": "code",
   "execution_count": 63,
   "metadata": {
    "scrolled": true
   },
   "outputs": [
    {
     "name": "stdout",
     "output_type": "stream",
     "text": [
      "0.001\n",
      "[  1.00000000e+10   1.00000000e+10   1.00000000e+10   3.16227766e+12\n",
      "   3.16227766e+12   3.16227766e+12   1.00000000e+15   1.00000000e+15\n",
      "   1.00000000e+15]\n",
      "Adding reaction: k01 : 1*H_1 + 1*de => 1*H_2 + 2*de\n",
      "Adding reaction: k02 : 1*H_2 + 1*de => 1*H_1\n",
      "Adding reaction: k03 : 1*He_1 + 1*de => 1*He_2 + 2*de\n",
      "Adding reaction: k04 : 1*He_2 + 1*de => 1*He_1\n",
      "Adding reaction: k05 : 1*He_2 + 1*de => 1*He_3 + 2*de\n",
      "Adding reaction: k06 : 1*He_3 + 1*de => 1*He_2\n",
      "Adding reaction: k07 : 1*H_1 + 1*de => 1*H_m0\n",
      "Adding reaction: k08 : 1*H_m0 + 1*H_1 => 1*H2_1 + 1*de\n",
      "Adding reaction: k09 : 1*H_1 + 1*H_2 => 1*H2_2\n",
      "Adding reaction: k10 : 1*H2_2 + 1*H_1 => 1*H2_1 + 1*H_2\n",
      "Adding reaction: k11 : 1*H2_1 + 1*H_2 => 1*H2_2 + 1*H_1\n",
      "Adding reaction: k12 : 1*H2_1 + 1*de => 2*H_2 + 1*de\n",
      "Adding reaction: k13 : 1*H2_1 + 1*H_1 => 3*H_1\n",
      "Adding reaction: k14 : 1*H_m0 + 1*de => 1*H_1 + 2*de\n",
      "Adding reaction: k15 : 1*H_m0 + 1*H_1 => 2*H_1 + 1*de\n",
      "Adding reaction: k16 : 1*H_m0 + 1*H_2 => 2*H_1\n",
      "Adding reaction: k17 : 1*H_m0 + 1*H_2 => 1*H2_2 + 1*de\n",
      "Adding reaction: k18 : 1*H2_2 + 1*de => 2*H_1\n",
      "Adding reaction: k19 : 1*H2_2 + 1*H_m0 => 1*H_1 + 1*H2_1\n",
      "Adding reaction: k21 : 2*H_1 + 1*H2_1 => 2*H2_1\n",
      "Adding reaction: k22 : 2*H_1 + 1*H_1 => 1*H2_1 + 1*H_1\n",
      "Adding reaction: k23 : 1*H2_1 + 1*H2_1 => 2*H_1 + 1*H2_1\n"
     ]
    },
    {
     "ename": "KeyError",
     "evalue": "'He_1'",
     "output_type": "error",
     "traceback": [
      "\u001b[0;31m---------------------------------------------------------------------------\u001b[0m",
      "\u001b[0;31mKeyError\u001b[0m                                  Traceback (most recent call last)",
      "\u001b[0;32m<ipython-input-63-d14cb5d531a2>\u001b[0m in \u001b[0;36m<module>\u001b[0;34m()\u001b[0m\n\u001b[1;32m     15\u001b[0m \u001b[0;34m\u001b[0m\u001b[0m\n\u001b[1;32m     16\u001b[0m \u001b[0;34m\u001b[0m\u001b[0m\n\u001b[0;32m---> 17\u001b[0;31m     \u001b[0mnowH\u001b[0m\u001b[0;34m,\u001b[0m\u001b[0mnowt\u001b[0m \u001b[0;34m=\u001b[0m \u001b[0mmain\u001b[0m\u001b[0;34m(\u001b[0m\u001b[0mfH\u001b[0m\u001b[0;34m,\u001b[0m \u001b[0mtemp\u001b[0m\u001b[0;34m,\u001b[0m \u001b[0mden\u001b[0m\u001b[0;34m)\u001b[0m\u001b[0;34m\u001b[0m\u001b[0m\n\u001b[0m\u001b[1;32m     18\u001b[0m     \u001b[0mnowH\u001b[0m \u001b[0;34m=\u001b[0m \u001b[0mnowH\u001b[0m\u001b[0;34m.\u001b[0m\u001b[0mreshape\u001b[0m\u001b[0;34m(\u001b[0m\u001b[0;34m(\u001b[0m\u001b[0mtempdim\u001b[0m\u001b[0;34m,\u001b[0m \u001b[0mdendim\u001b[0m\u001b[0;34m)\u001b[0m\u001b[0;34m)\u001b[0m\u001b[0;34m\u001b[0m\u001b[0m\n\u001b[1;32m     19\u001b[0m     \u001b[0mresult_H\u001b[0m\u001b[0;34m.\u001b[0m\u001b[0mappend\u001b[0m\u001b[0;34m(\u001b[0m\u001b[0mnowH\u001b[0m\u001b[0;34m)\u001b[0m\u001b[0;34m\u001b[0m\u001b[0m\n",
      "\u001b[0;32m<ipython-input-62-842e945353b9>\u001b[0m in \u001b[0;36mmain\u001b[0;34m(fH, temp, den, full_output)\u001b[0m\n\u001b[1;32m     16\u001b[0m         \u001b[0mden_arr\u001b[0m \u001b[0;34m=\u001b[0m \u001b[0mnumpy\u001b[0m\u001b[0;34m.\u001b[0m\u001b[0mones\u001b[0m\u001b[0;34m(\u001b[0m\u001b[0;34m(\u001b[0m\u001b[0mlen\u001b[0m\u001b[0;34m(\u001b[0m\u001b[0mtemp\u001b[0m\u001b[0;34m)\u001b[0m\u001b[0;34m)\u001b[0m\u001b[0;34m)\u001b[0m\u001b[0;34m*\u001b[0m\u001b[0mden_arr\u001b[0m\u001b[0;34m\u001b[0m\u001b[0m\n\u001b[1;32m     17\u001b[0m \u001b[0;34m\u001b[0m\u001b[0m\n\u001b[0;32m---> 18\u001b[0;31m         \u001b[0minit_values\u001b[0m\u001b[0;34m,\u001b[0m \u001b[0mprimordial\u001b[0m \u001b[0;34m=\u001b[0m \u001b[0mInit_values\u001b[0m\u001b[0;34m(\u001b[0m\u001b[0mtemp\u001b[0m\u001b[0;34m,\u001b[0m \u001b[0mden_arr\u001b[0m\u001b[0;34m,\u001b[0m \u001b[0mfH\u001b[0m\u001b[0;34m)\u001b[0m\u001b[0;34m\u001b[0m\u001b[0m\n\u001b[0m\u001b[1;32m     19\u001b[0m         \u001b[0mh_array_now\u001b[0m\u001b[0;34m,\u001b[0m \u001b[0mt_array_now\u001b[0m \u001b[0;34m=\u001b[0m \u001b[0mequil_values\u001b[0m\u001b[0;34m(\u001b[0m\u001b[0minit_values\u001b[0m\u001b[0;34m,\u001b[0m \u001b[0mprimordial\u001b[0m\u001b[0;34m,\u001b[0m \u001b[0mfull_output\u001b[0m \u001b[0;34m=\u001b[0m \u001b[0mfull_output\u001b[0m\u001b[0;34m)\u001b[0m\u001b[0;34m\u001b[0m\u001b[0m\n\u001b[1;32m     20\u001b[0m \u001b[0;34m\u001b[0m\u001b[0m\n",
      "\u001b[0;32m<ipython-input-61-21a870e4aa75>\u001b[0m in \u001b[0;36mInit_values\u001b[0;34m(temperature, density, fH)\u001b[0m\n\u001b[1;32m     33\u001b[0m \u001b[0;34m\u001b[0m\u001b[0m\n\u001b[1;32m     34\u001b[0m     \u001b[0;31m# now everything in mass density\u001b[0m\u001b[0;34m\u001b[0m\u001b[0;34m\u001b[0m\u001b[0m\n\u001b[0;32m---> 35\u001b[0;31m     \u001b[0minit_values\u001b[0m \u001b[0;34m=\u001b[0m \u001b[0mprimordial\u001b[0m\u001b[0;34m.\u001b[0m\u001b[0mconvert_to_mass_density\u001b[0m\u001b[0;34m(\u001b[0m\u001b[0minit_values\u001b[0m\u001b[0;34m)\u001b[0m\u001b[0;34m\u001b[0m\u001b[0m\n\u001b[0m\u001b[1;32m     36\u001b[0m     \u001b[0minit_values\u001b[0m\u001b[0;34m[\u001b[0m\u001b[0;34m'de'\u001b[0m\u001b[0;34m]\u001b[0m \u001b[0;34m=\u001b[0m \u001b[0mprimordial\u001b[0m\u001b[0;34m.\u001b[0m\u001b[0mcalculate_free_electrons\u001b[0m\u001b[0;34m(\u001b[0m\u001b[0minit_values\u001b[0m\u001b[0;34m)\u001b[0m\u001b[0;34m\u001b[0m\u001b[0m\n\u001b[1;32m     37\u001b[0m     \u001b[0;31m# one signle value: again mass density\u001b[0m\u001b[0;34m\u001b[0m\u001b[0;34m\u001b[0m\u001b[0m\n",
      "\u001b[0;32m/home/kwoksun2/anaconda2/lib/python2.7/site-packages/dengo-0.1-py2.7.egg/dengo/chemical_network.py\u001b[0m in \u001b[0;36mconvert_to_mass_density\u001b[0;34m(self, values, skip)\u001b[0m\n\u001b[1;32m    253\u001b[0m         \u001b[0;32mfor\u001b[0m \u001b[0ms\u001b[0m \u001b[0;32min\u001b[0m \u001b[0mself\u001b[0m\u001b[0;34m.\u001b[0m\u001b[0mrequired_species\u001b[0m\u001b[0;34m:\u001b[0m\u001b[0;34m\u001b[0m\u001b[0m\n\u001b[1;32m    254\u001b[0m             \u001b[0;32mif\u001b[0m \u001b[0ms\u001b[0m\u001b[0;34m.\u001b[0m\u001b[0mname\u001b[0m \u001b[0;32min\u001b[0m \u001b[0mself\u001b[0m\u001b[0;34m.\u001b[0m\u001b[0mskip_weight\u001b[0m\u001b[0;34m:\u001b[0m \u001b[0;32mcontinue\u001b[0m\u001b[0;34m\u001b[0m\u001b[0m\n\u001b[0;32m--> 255\u001b[0;31m             \u001b[0mvalues\u001b[0m\u001b[0;34m[\u001b[0m\u001b[0ms\u001b[0m\u001b[0;34m.\u001b[0m\u001b[0mname\u001b[0m\u001b[0;34m]\u001b[0m \u001b[0;34m=\u001b[0m \u001b[0mvalues\u001b[0m\u001b[0;34m[\u001b[0m\u001b[0ms\u001b[0m\u001b[0;34m.\u001b[0m\u001b[0mname\u001b[0m\u001b[0;34m]\u001b[0m \u001b[0;34m*\u001b[0m \u001b[0ms\u001b[0m\u001b[0;34m.\u001b[0m\u001b[0mweight\u001b[0m\u001b[0;34m\u001b[0m\u001b[0m\n\u001b[0m\u001b[1;32m    256\u001b[0m         \u001b[0;32mreturn\u001b[0m \u001b[0mvalues\u001b[0m\u001b[0;34m\u001b[0m\u001b[0m\n\u001b[1;32m    257\u001b[0m \u001b[0;34m\u001b[0m\u001b[0m\n",
      "\u001b[0;31mKeyError\u001b[0m: 'He_1'"
     ]
    }
   ],
   "source": [
    "result_H = []\n",
    "result_t = []\n",
    "\n",
    "for fH in numpy.logspace(-3, 0, 1):\n",
    "    print(fH)\n",
    "    \n",
    "    dendim = 3\n",
    "    tempdim = 3\n",
    "    \n",
    "    temp = numpy.linspace(1e2,5e3, tempdim)\n",
    "    den = numpy.logspace(10,15, dendim)\n",
    "    \n",
    "    temp, den = numpy.meshgrid(temp,den)\n",
    "\n",
    "    \n",
    "\n",
    "    nowH,nowt = main(fH, temp, den)\n",
    "    nowH = nowH.reshape((tempdim, dendim))\n",
    "    result_H.append(nowH)\n",
    "    result_t.append(nowt)\n",
    "#    except:\n",
    "#        nowH = numpy.zeros((tempdim,dendim))\n",
    "#        result_H.append(nowH)\n",
    "#        result_t.append(numpy.array([0]))\n",
    "    plt.pcolor(temp, den, numpy.log10(nowH))\n",
    "    plt.yscale('log')\n",
    "    \n",
    "    plt.colorbar()\n",
    "    plt.show()"
   ]
  },
  {
   "cell_type": "code",
   "execution_count": 11,
   "metadata": {},
   "outputs": [
    {
     "data": {
      "text/plain": [
       "[28202.728885308054,\n",
       " 28202.728885308054,\n",
       " 28202.728885308054,\n",
       " 88.049645905959679,\n",
       " 88.049645905959679,\n",
       " 88.049645905959679,\n",
       " 0.27452468061375018,\n",
       " 0.27452468061375018,\n",
       " 0.27452468061375018]"
      ]
     },
     "execution_count": 11,
     "metadata": {},
     "output_type": "execute_result"
    }
   ],
   "source": [
    "nowt"
   ]
  },
  {
   "cell_type": "code",
   "execution_count": 51,
   "metadata": {
    "scrolled": false
   },
   "outputs": [
    {
     "name": "stdout",
     "output_type": "stream",
     "text": [
      "[  1.00000000e+20]\n",
      "Adding reaction: k01 : 1*H_1 + 1*de => 1*H_2 + 2*de\n",
      "Adding reaction: k02 : 1*H_2 + 1*de => 1*H_1\n",
      "Adding reaction: k03 : 1*He_1 + 1*de => 1*He_2 + 2*de\n",
      "Adding reaction: k04 : 1*He_2 + 1*de => 1*He_1\n",
      "Adding reaction: k05 : 1*He_2 + 1*de => 1*He_3 + 2*de\n",
      "Adding reaction: k06 : 1*He_3 + 1*de => 1*He_2\n",
      "Adding reaction: k07 : 1*H_1 + 1*de => 1*H_m0\n",
      "Adding reaction: k08 : 1*H_m0 + 1*H_1 => 1*H2_1 + 1*de\n",
      "Adding reaction: k09 : 1*H_1 + 1*H_2 => 1*H2_2\n",
      "Adding reaction: k10 : 1*H2_2 + 1*H_1 => 1*H2_1 + 1*H_2\n",
      "Adding reaction: k11 : 1*H2_1 + 1*H_2 => 1*H2_2 + 1*H_1\n",
      "Adding reaction: k12 : 1*H2_1 + 1*de => 2*H_2 + 1*de\n",
      "Adding reaction: k13 : 1*H2_1 + 1*H_1 => 3*H_1\n",
      "Adding reaction: k14 : 1*H_m0 + 1*de => 1*H_1 + 2*de\n",
      "Adding reaction: k15 : 1*H_m0 + 1*H_1 => 2*H_1 + 1*de\n",
      "Adding reaction: k16 : 1*H_m0 + 1*H_2 => 2*H_1\n",
      "Adding reaction: k17 : 1*H_m0 + 1*H_2 => 1*H2_2 + 1*de\n",
      "Adding reaction: k18 : 1*H2_2 + 1*de => 2*H_1\n",
      "Adding reaction: k19 : 1*H2_2 + 1*H_m0 => 1*H_1 + 1*H2_1\n",
      "Adding reaction: k21 : 2*H_1 + 1*H2_1 => 2*H2_1\n",
      "Adding reaction: k22 : 2*H_1 + 1*H_1 => 1*H2_1 + 1*H_1\n",
      "Adding reaction: k23 : 1*H2_1 + 1*H2_1 => 2*H_1 + 1*H2_1\n",
      "H2_1 7.5e+17 1.5e+18\n",
      "H2_2 7500000000.0 15000000000.0\n",
      "H_1 7.425e+19 7.4839545e+19\n",
      "H_2 7500000000.0 7559550000.0\n",
      "H_m0 7500000000.0 7559550000.0\n",
      "He_1 2.5e+19 1.0006505e+20\n",
      "He_2 2500000000.0 10006505000.0\n",
      "He_3 2500000000.0 10006505000.0\n",
      "de 15000000000.0 15000000000.0\n",
      "ge 3.16196089525e+11 3.16196089525e+11\n",
      "End in 1000 iterations: 2.59680e-02 / 3.16000e+12 (3.16000e+12)\n"
     ]
    }
   ],
   "source": [
    "result_H = []\n",
    "result_t = []\n",
    "\n",
    "\n",
    "    \n",
    "dendim = 1.0\n",
    "tempdim = 1.0\n",
    "    \n",
    "temp = numpy.linspace(4.5e3,5.0e3, tempdim)\n",
    "den = numpy.logspace(13.0,17.0, dendim)\n",
    "\n",
    "den = numpy.array(1.0e20)\n",
    "\n",
    "\n",
    "temp_mesh, den_mesh = numpy.meshgrid(temp,den)\n",
    "    \n",
    "nowH, nowt = main( 0.99, temp, den, full_output = True)\n",
    "\n",
    "result_H.append(nowH)\n",
    "result_t.append(nowt)"
   ]
  },
  {
   "cell_type": "code",
   "execution_count": 57,
   "metadata": {},
   "outputs": [
    {
     "name": "stdout",
     "output_type": "stream",
     "text": [
      "('H2_1', 2.0646947770641437e+19, 0.0)\n",
      "('H2_2', 295628615856.92352, 1.0)\n",
      "('He_1', 2.5e+19, 0.0)\n",
      "('H_m0', 3710553245.8821354, -1.0)\n",
      "('He_3', 1.6143807553037319e-09, 2.0)\n",
      "('He_2', 5000001093.9712515, 1.0)\n",
      "('H_1', 3.4453649611508625e+19, 0.0)\n",
      "('H_2', 2454282239898771.0, 1.0)\n"
     ]
    },
    {
     "data": {
      "image/png": "[encoded data removed]",
      "text/plain": [
       "<matplotlib.figure.Figure at 0x7f568ddf44d0>"
      ]
     },
     "metadata": {},
     "output_type": "display_data"
    }
   ],
   "source": [
    "flag = (result_H[0][0]['successful'])\n",
    "\n",
    "valid_results = result_H[0][0]\n",
    "total_e = numpy.zeros((len(flag[flag])))\n",
    "\n",
    "for s in network.required_species:\n",
    "    \n",
    "    species_now = numpy.array((valid_results[s.name][0][flag]))\n",
    "    \n",
    "    if s.name in ['de', 'ge']: continue        \n",
    "    total_e += species_now * s.free_electrons\n",
    "    print(s.name, species_now[-1] , s.free_electrons)\n",
    "\n",
    "try:\n",
    "    plt.semilogx( valid_results['t'][flag] , (valid_results['de'][0][flag])/total_e, label='ratio of de to the actual charge')\n",
    "except:\n",
    "    pass\n",
    "#plt.scatter(valid_results['t'][flag] , total_e, color = 'r')\n",
    "#plt.semilogx( valid_results['t'][flag] , valid_results['H_m0'][0][flag] / max(valid_results['H_m0'][0][flag]),label='H_m0 (relative to max)')\n",
    "#plt.semilogx( valid_results['t'][flag] , valid_results['H2_2'][0][flag] / max(valid_results['H2_2'][0][flag]),label='H2_2 (relative to max)')\n",
    "plt.legend()\n",
    "plt.show()"
   ]
  },
  {
   "cell_type": "code",
   "execution_count": 53,
   "metadata": {
    "scrolled": false
   },
   "outputs": [
    {
     "data": {
      "text/plain": [
       "<matplotlib.figure.Figure at 0x7f568d9c5a90>"
      ]
     },
     "metadata": {},
     "output_type": "display_data"
    },
    {
     "data": {
      "image/png": "[encoded data removed]",
      "text/plain": [
       "<matplotlib.figure.Figure at 0x7f568a1cd450>"
      ]
     },
     "metadata": {},
     "output_type": "display_data"
    },
    {
     "ename": "IndexError",
     "evalue": "list index out of range",
     "output_type": "error",
     "traceback": [
      "\u001b[0;31m---------------------------------------------------------------------------\u001b[0m",
      "\u001b[0;31mIndexError\u001b[0m                                Traceback (most recent call last)",
      "\u001b[0;32m<ipython-input-53-9a1e1b3e5d0b>\u001b[0m in \u001b[0;36m<module>\u001b[0;34m()\u001b[0m\n\u001b[1;32m     16\u001b[0m \u001b[0;34m\u001b[0m\u001b[0m\n\u001b[1;32m     17\u001b[0m     \u001b[0mls\u001b[0m \u001b[0;34m=\u001b[0m \u001b[0;34m[\u001b[0m\u001b[0;34m'-'\u001b[0m\u001b[0;34m,\u001b[0m \u001b[0;34m'--'\u001b[0m\u001b[0;34m,\u001b[0m \u001b[0;34m':'\u001b[0m\u001b[0;34m,\u001b[0m\u001b[0;34m'-.'\u001b[0m\u001b[0;34m]\u001b[0m\u001b[0;34m\u001b[0m\u001b[0m\n\u001b[0;32m---> 18\u001b[0;31m     \u001b[0ma\u001b[0m \u001b[0;34m=\u001b[0m \u001b[0mresult_H\u001b[0m\u001b[0;34m[\u001b[0m\u001b[0mi\u001b[0m\u001b[0;34m]\u001b[0m\u001b[0;34m[\u001b[0m\u001b[0;36m0\u001b[0m\u001b[0;34m]\u001b[0m\u001b[0;34m\u001b[0m\u001b[0m\n\u001b[0m\u001b[1;32m     19\u001b[0m     \u001b[0mskip_list\u001b[0m \u001b[0;34m=\u001b[0m \u001b[0;34m[\u001b[0m\u001b[0;34m't'\u001b[0m\u001b[0;34m,\u001b[0m \u001b[0;34m'successful'\u001b[0m\u001b[0;34m,\u001b[0m \u001b[0;34m'dt'\u001b[0m\u001b[0;34m,\u001b[0m \u001b[0;34m'ge'\u001b[0m\u001b[0;34m]\u001b[0m\u001b[0;34m\u001b[0m\u001b[0m\n\u001b[1;32m     20\u001b[0m     \u001b[0micolor\u001b[0m \u001b[0;34m=\u001b[0m \u001b[0;36m0\u001b[0m\u001b[0;34m\u001b[0m\u001b[0m\n",
      "\u001b[0;31mIndexError\u001b[0m: list index out of range"
     ]
    }
   ],
   "source": [
    "from matplotlib import cm\n",
    "import matplotlib.pyplot as plt\n",
    "\n",
    "cm_section = numpy.linspace(0,1.0, len( result_H[0][0].keys()))\n",
    "colors = [cm.jet(x) for x in cm_section ]\n",
    "\n",
    "abase = result_H[0][0]\n",
    "\n",
    "tol = [1e-6,1e-3,1.0]\n",
    "\n",
    "for i in [0,1,2]:\n",
    "    \n",
    "    \n",
    "    plt.clf()\n",
    "    plt.figure(figsize = (8,8))\n",
    "\n",
    "    ls = ['-', '--', ':','-.']\n",
    "    a = result_H[i][0]\n",
    "    skip_list = ['t', 'successful', 'dt', 'ge']\n",
    "    icolor = 0\n",
    "    for key in a.keys():\n",
    "        if key not in skip_list:\n",
    "            baseb = (abase[key])\n",
    "            mask = a['successful']\n",
    "            b = (a[key][0][mask])\n",
    "            t = (a['t'][mask])\n",
    "            plt.loglog(t, (b)/b[0], label = key, ls = ls[i], color= colors[icolor])\n",
    "        icolor = icolor + 1\n",
    "\n",
    "    plt.scatter(t, a['dt'][mask] / a['dt'][mask][0],label='dt')\n",
    "#    plt.ylim(1e-4,1e4)\n",
    "    plt.xlim((0 ,1e13))\n",
    "    \n",
    "    plt.plot(t, total_e/a['de'][0][mask], color='r', ls = '--')\n",
    "#    plt.plot(t, a['de'][0][mask], color='g', ls = '--')\n",
    "    \n",
    "#    plt.title('atol = {}'.format( tol[i]))\n",
    "\n",
    "    plt.legend(loc='upper right',fontsize = 'x-small')\n",
    "    plt.show()"
   ]
  },
  {
   "cell_type": "code",
   "execution_count": null,
   "metadata": {
    "collapsed": true
   },
   "outputs": [],
   "source": [
    "# Vaytet et al. 2014 A&A \n",
    "# OPR \n",
    "# two phono relaxation \n",
    "\n",
    "\n",
    "# sheffer et al. 2008\n",
    "# CO vs H2 "
   ]
  },
  {
   "cell_type": "code",
   "execution_count": null,
   "metadata": {
    "collapsed": true
   },
   "outputs": [],
   "source": [
    "def is_number(loc, s):\n",
    "    if loc == 1:\n",
    "        return float(s[:-1])    \n",
    "    try:\n",
    "        float(s)\n",
    "        return float(s)\n",
    "    except ValueError:\n",
    "        return s\n",
    "\n",
    "def get_output(filename):\n",
    "    keys = ['dt', 'nchem', 'changes', 'sum tol', 'atol', 'rtol', 'value']\n",
    "    all_result = []\n",
    "    with open(filename, 'r') as f:\n",
    "        for line in f:\n",
    "            line = line.strip('\\n')\n",
    "            ele = line.split(' ')\n",
    "            float_ele = [ is_number(loc,s) for loc, s in enumerate(ele) ]\n",
    "            num = [i for i in float_ele if type(i) == numpy.float]\n",
    "            all_result.append(dict(zip(keys,num)))\n",
    "    return all_result"
   ]
  },
  {
   "cell_type": "code",
   "execution_count": null,
   "metadata": {
    "collapsed": true
   },
   "outputs": [],
   "source": [
    "def get_list_of_result(all_result):\n",
    "    atol = []\n",
    "    rtol = []\n",
    "    dt = []\n",
    "    value = []\n",
    "    sum_tol = []\n",
    "    nchem = []\n",
    "    change = []\n",
    "    for i in all_result:\n",
    "        atol.append(i['atol'])\n",
    "        rtol.append(i['rtol'])\n",
    "        dt.append(i['dt'])\n",
    "        value.append(i['value'])\n",
    "        sum_tol.append(i['sum tol'])\n",
    "        nchem.append(i['nchem'])\n",
    "        change.append(i['changes'])\n",
    "    return atol, rtol,dt,value, sum_tol,nchem, change"
   ]
  },
  {
   "cell_type": "code",
   "execution_count": null,
   "metadata": {
    "collapsed": true
   },
   "outputs": [],
   "source": [
    "def plot_errors(atol, rtol,dt,value, sum_tol,nchem, change):\n",
    "    plt.plot(atol, label='atol')\n",
    "    plt.plot(rtol, label='rtol')\n",
    "    plt.plot(dt, label='dt')\n",
    "    plt.plot(numpy.abs(value), label='value')\n",
    "    plt.plot(sum_tol, label='sum_tol')\n",
    "    plt.plot(numpy.abs(change), label='change')\n",
    "    plt.yscale('log')\n",
    "    plt.legend(loc ='best')\n",
    "    plt.show()\n",
    "#    print(nchem)\n",
    "    plt.hist(nchem, bins = numpy.linspace(-0.5,10.5, 12))\n",
    "    plt.yscale('log')\n",
    "    plt.show()"
   ]
  },
  {
   "cell_type": "code",
   "execution_count": null,
   "metadata": {
    "collapsed": true
   },
   "outputs": [],
   "source": [
    "filenames = ['output-1e0.txt', 'output-1e-3.txt']\n",
    "\n",
    "for ff in filenames:\n",
    "    resultsss = get_output(ff)\n",
    "    atol, rtol,dt,value, sum_tol,nchem, change = get_list_of_result(resultsss)\n",
    "    plot_errors(atol, rtol,dt,value, sum_tol,nchem, change)"
   ]
  },
  {
   "cell_type": "code",
   "execution_count": 8,
   "metadata": {},
   "outputs": [
    {
     "name": "stdout",
     "output_type": "stream",
     "text": [
      "Adding reaction: k01 : 1*H_1 + 1*de => 1*H_2 + 2*de\n",
      "Adding reaction: k02 : 1*H_2 + 1*de => 1*H_1\n",
      "Adding reaction: k03 : 1*He_1 + 1*de => 1*He_2 + 2*de\n",
      "Adding reaction: k04 : 1*He_2 + 1*de => 1*He_1\n",
      "Adding reaction: k05 : 1*He_2 + 1*de => 1*He_3 + 2*de\n",
      "Adding reaction: k06 : 1*He_3 + 1*de => 1*He_2\n",
      "Adding reaction: k07 : 1*H_1 + 1*de => 1*H_m0\n",
      "Adding reaction: k08 : 1*H_m0 + 1*H_1 => 1*H2_1 + 1*de\n",
      "Adding reaction: k09 : 1*H_1 + 1*H_2 => 1*H2_2\n",
      "Adding reaction: k10 : 1*H2_2 + 1*H_1 => 1*H2_1 + 1*H_2\n",
      "Adding reaction: k11 : 1*H2_1 + 1*H_2 => 1*H2_2 + 1*H_1\n",
      "Adding reaction: k12 : 1*H2_1 + 1*de => 2*H_2 + 1*de\n",
      "Adding reaction: k13 : 1*H2_1 + 1*H_1 => 3*H_1\n",
      "Adding reaction: k14 : 1*H_m0 + 1*de => 1*H_1 + 2*de\n",
      "Adding reaction: k15 : 1*H_m0 + 1*H_1 => 2*H_1 + 1*de\n",
      "Adding reaction: k16 : 1*H_m0 + 1*H_2 => 2*H_1\n",
      "Adding reaction: k17 : 1*H_m0 + 1*H_2 => 1*H2_2 + 1*de\n",
      "Adding reaction: k18 : 1*H2_2 + 1*de => 2*H_1\n",
      "Adding reaction: k19 : 1*H2_2 + 1*H_m0 => 1*H_1 + 1*H2_1\n",
      "Adding reaction: k21 : 2*H_1 + 1*H2_1 => 2*H2_1\n",
      "Adding reaction: k22 : 2*H_1 + 1*H_1 => 1*H2_1 + 1*H_1\n",
      "Adding reaction: k23 : 1*H2_1 + 1*H2_1 => 2*H_1 + 1*H2_1\n",
      "d_H2_1[i] = k08[i]*H_1*H_m0 + k10[i]*H2_2*H_1 - k11[i]*H2_1*H_2 - k12[i]*H2_1*de - k13[i]*H2_1*H_1 + k19[i]*H2_2*H_m0 + k21[i]*H2_1*pow(H_1, 2) + k22[i]*pow(H_1, 3) - k23[i]*pow(H2_1, 2);\n",
      "d_H2_1_H2_1 = -k11[i]*H_2 - k12[i]*de - k13[i]*H_1 + k21[i]*pow(H_1, 2) - 2*k23[i]*H2_1;\n",
      "d_H2_1_H2_2 = k10[i]*H_1 + k19[i]*H_m0;\n",
      "d_H2_1_ge = 0;\n",
      "d_H2_1_He_1 = 0;\n",
      "d_H2_1_H_m0 = k08[i]*H_1 + k19[i]*H2_2;\n",
      "d_H2_1_He_3 = 0;\n",
      "d_H2_1_He_2 = 0;\n",
      "d_H2_1_H_1 = k08[i]*H_m0 + k10[i]*H2_2 - k13[i]*H2_1 + 2*k21[i]*H2_1*H_1 + 3*k22[i]*pow(H_1, 2);\n",
      "d_H2_1_de = -k12[i]*H2_1;\n",
      "d_H2_1_H_2 = -k11[i]*H2_1;\n",
      "d_H2_2[i] = k09[i]*H_1*H_2 - k10[i]*H2_2*H_1 + k11[i]*H2_1*H_2 + k17[i]*H_2*H_m0 - k18[i]*H2_2*de - k19[i]*H2_2*H_m0;\n",
      "d_H2_2_H2_1 = k11[i]*H_2;\n",
      "d_H2_2_H2_2 = -k10[i]*H_1 - k18[i]*de - k19[i]*H_m0;\n",
      "d_H2_2_ge = 0;\n",
      "d_H2_2_He_1 = 0;\n",
      "d_H2_2_H_m0 = k17[i]*H_2 - k19[i]*H2_2;\n",
      "d_H2_2_He_3 = 0;\n",
      "d_H2_2_He_2 = 0;\n",
      "d_H2_2_H_1 = k09[i]*H_2 - k10[i]*H2_2;\n",
      "d_H2_2_de = -k18[i]*H2_2;\n",
      "d_H2_2_H_2 = k09[i]*H_1 + k11[i]*H2_1 + k17[i]*H_m0;\n",
      "d_ge[i] = 0;\n",
      "d_ge_H2_1 = 0;\n",
      "d_ge_H2_2 = 0;\n",
      "d_ge_ge = 0;\n",
      "d_ge_He_1 = 0;\n",
      "d_ge_H_m0 = 0;\n",
      "d_ge_He_3 = 0;\n",
      "d_ge_He_2 = 0;\n",
      "d_ge_H_1 = 0;\n",
      "d_ge_de = 0;\n",
      "d_ge_H_2 = 0;\n",
      "d_He_1[i] = -k03[i]*He_1*de + k04[i]*He_2*de;\n",
      "d_He_1_H2_1 = 0;\n",
      "d_He_1_H2_2 = 0;\n",
      "d_He_1_ge = 0;\n",
      "d_He_1_He_1 = -k03[i]*de;\n",
      "d_He_1_H_m0 = 0;\n",
      "d_He_1_He_3 = 0;\n",
      "d_He_1_He_2 = k04[i]*de;\n",
      "d_He_1_H_1 = 0;\n",
      "d_He_1_de = -k03[i]*He_1 + k04[i]*He_2;\n",
      "d_He_1_H_2 = 0;\n",
      "d_H_m0[i] = k07[i]*H_1*de - k08[i]*H_1*H_m0 - k14[i]*H_m0*de - k15[i]*H_1*H_m0 - k16[i]*H_2*H_m0 - k17[i]*H_2*H_m0 - k19[i]*H2_2*H_m0;\n",
      "d_H_m0_H2_1 = 0;\n",
      "d_H_m0_H2_2 = -k19[i]*H_m0;\n",
      "d_H_m0_ge = 0;\n",
      "d_H_m0_He_1 = 0;\n",
      "d_H_m0_H_m0 = -k08[i]*H_1 - k14[i]*de - k15[i]*H_1 - k16[i]*H_2 - k17[i]*H_2 - k19[i]*H2_2;\n",
      "d_H_m0_He_3 = 0;\n",
      "d_H_m0_He_2 = 0;\n",
      "d_H_m0_H_1 = k07[i]*de - k08[i]*H_m0 - k15[i]*H_m0;\n",
      "d_H_m0_de = k07[i]*H_1 - k14[i]*H_m0;\n",
      "d_H_m0_H_2 = -k16[i]*H_m0 - k17[i]*H_m0;\n",
      "d_He_3[i] = k05[i]*He_2*de - k06[i]*He_3*de;\n",
      "d_He_3_H2_1 = 0;\n",
      "d_He_3_H2_2 = 0;\n",
      "d_He_3_ge = 0;\n",
      "d_He_3_He_1 = 0;\n",
      "d_He_3_H_m0 = 0;\n",
      "d_He_3_He_3 = -k06[i]*de;\n",
      "d_He_3_He_2 = k05[i]*de;\n",
      "d_He_3_H_1 = 0;\n",
      "d_He_3_de = k05[i]*He_2 - k06[i]*He_3;\n",
      "d_He_3_H_2 = 0;\n",
      "d_He_2[i] = k03[i]*He_1*de - k04[i]*He_2*de - k05[i]*He_2*de + k06[i]*He_3*de;\n",
      "d_He_2_H2_1 = 0;\n",
      "d_He_2_H2_2 = 0;\n",
      "d_He_2_ge = 0;\n",
      "d_He_2_He_1 = k03[i]*de;\n",
      "d_He_2_H_m0 = 0;\n",
      "d_He_2_He_3 = k06[i]*de;\n",
      "d_He_2_He_2 = -k04[i]*de - k05[i]*de;\n",
      "d_He_2_H_1 = 0;\n",
      "d_He_2_de = k03[i]*He_1 - k04[i]*He_2 - k05[i]*He_2 + k06[i]*He_3;\n",
      "d_He_2_H_2 = 0;\n",
      "d_H_1[i] = -k01[i]*H_1*de + k02[i]*H_2*de - k07[i]*H_1*de - k08[i]*H_1*H_m0 - k09[i]*H_1*H_2 - k10[i]*H2_2*H_1 + k11[i]*H2_1*H_2 + 2*k13[i]*H2_1*H_1 + k14[i]*H_m0*de + k15[i]*H_1*H_m0 + 2*k16[i]*H_2*H_m0 + 2*k18[i]*H2_2*de + k19[i]*H2_2*H_m0 - 2*k21[i]*H2_1*pow(H_1, 2) - 2*k22[i]*pow(H_1, 3) + 2*k23[i]*pow(H2_1, 2);\n",
      "d_H_1_H2_1 = k11[i]*H_2 + 2*k13[i]*H_1 - 2*k21[i]*pow(H_1, 2) + 4*k23[i]*H2_1;\n",
      "d_H_1_H2_2 = -k10[i]*H_1 + 2*k18[i]*de + k19[i]*H_m0;\n",
      "d_H_1_ge = 0;\n",
      "d_H_1_He_1 = 0;\n",
      "d_H_1_H_m0 = -k08[i]*H_1 + k14[i]*de + k15[i]*H_1 + 2*k16[i]*H_2 + k19[i]*H2_2;\n",
      "d_H_1_He_3 = 0;\n",
      "d_H_1_He_2 = 0;\n",
      "d_H_1_H_1 = -k01[i]*de - k07[i]*de - k08[i]*H_m0 - k09[i]*H_2 - k10[i]*H2_2 + 2*k13[i]*H2_1 + k15[i]*H_m0 - 4*k21[i]*H2_1*H_1 - 6*k22[i]*pow(H_1, 2);\n",
      "d_H_1_de = -k01[i]*H_1 + k02[i]*H_2 - k07[i]*H_1 + k14[i]*H_m0 + 2*k18[i]*H2_2;\n",
      "d_H_1_H_2 = k02[i]*de - k09[i]*H_1 + k11[i]*H2_1 + 2*k16[i]*H_m0;\n",
      "d_de[i] = k01[i]*H_1*de - k02[i]*H_2*de + k03[i]*He_1*de - k04[i]*He_2*de + k05[i]*He_2*de - k06[i]*He_3*de - k07[i]*H_1*de + k08[i]*H_1*H_m0 + k14[i]*H_m0*de + k15[i]*H_1*H_m0 + k17[i]*H_2*H_m0 - k18[i]*H2_2*de;\n",
      "d_de_H2_1 = 0;\n",
      "d_de_H2_2 = -k18[i]*de;\n",
      "d_de_ge = 0;\n",
      "d_de_He_1 = k03[i]*de;\n",
      "d_de_H_m0 = k08[i]*H_1 + k14[i]*de + k15[i]*H_1 + k17[i]*H_2;\n",
      "d_de_He_3 = -k06[i]*de;\n",
      "d_de_He_2 = -k04[i]*de + k05[i]*de;\n",
      "d_de_H_1 = k01[i]*de - k07[i]*de + k08[i]*H_m0 + k15[i]*H_m0;\n",
      "d_de_de = k01[i]*H_1 - k02[i]*H_2 + k03[i]*He_1 - k04[i]*He_2 + k05[i]*He_2 - k06[i]*He_3 - k07[i]*H_1 + k14[i]*H_m0 - k18[i]*H2_2;\n",
      "d_de_H_2 = -k02[i]*de + k17[i]*H_m0;\n",
      "d_H_2[i] = k01[i]*H_1*de - k02[i]*H_2*de - k09[i]*H_1*H_2 + k10[i]*H2_2*H_1 - k11[i]*H2_1*H_2 + 2*k12[i]*H2_1*de - k16[i]*H_2*H_m0 - k17[i]*H_2*H_m0;\n",
      "d_H_2_H2_1 = -k11[i]*H_2 + 2*k12[i]*de;\n",
      "d_H_2_H2_2 = k10[i]*H_1;\n",
      "d_H_2_ge = 0;\n",
      "d_H_2_He_1 = 0;\n",
      "d_H_2_H_m0 = -k16[i]*H_2 - k17[i]*H_2;\n",
      "d_H_2_He_3 = 0;\n",
      "d_H_2_He_2 = 0;\n",
      "d_H_2_H_1 = k01[i]*de - k09[i]*H_2 + k10[i]*H2_2;\n",
      "d_H_2_de = k01[i]*H_1 - k02[i]*H_2 + 2*k12[i]*H2_1;\n",
      "d_H_2_H_2 = -k02[i]*de - k09[i]*H_1 - k11[i]*H2_1 - k16[i]*H_m0 - k17[i]*H_m0;\n"
     ]
    }
   ],
   "source": [
    "temp = numpy.linspace(100,5000,100)\n",
    "den = 1e15\n",
    "\n",
    "init, network = Init_values(temp,den, 0.99)\n",
    "for i in network.required_species:\n",
    "    print(network.print_ccode(i))\n",
    "    for j in network.required_species:\n",
    "        print(network.print_jacobian_component(i,j))\n",
    "        "
   ]
  },
  {
   "cell_type": "code",
   "execution_count": null,
   "metadata": {
    "collapsed": true
   },
   "outputs": [],
   "source": [
    "network.energy_term"
   ]
  },
  {
   "cell_type": "code",
   "execution_count": null,
   "metadata": {
    "collapsed": true
   },
   "outputs": [],
   "source": [
    "for j in network.required_species:\n",
    "    print(j)\n",
    "    st = (network.species_total(j))\n",
    "    print(st)\n",
    "    print('-----------------')"
   ]
  },
  {
   "cell_type": "code",
   "execution_count": null,
   "metadata": {
    "collapsed": true
   },
   "outputs": [],
   "source": [
    "import sympy\n",
    "\n",
    "eq = sympy.sympify(\"0\")"
   ]
  },
  {
   "cell_type": "code",
   "execution_count": null,
   "metadata": {
    "collapsed": true
   },
   "outputs": [],
   "source": [
    "type(eq)"
   ]
  },
  {
   "cell_type": "code",
   "execution_count": null,
   "metadata": {
    "collapsed": true
   },
   "outputs": [],
   "source": [
    "for rn, rxn in network.reactions.items():\n",
    "    print(rn, rxn)\n",
    "    print('###########################')\n",
    "    print(rxn.species_equation(j))\n",
    "    eq += rxn.species_equation(j)"
   ]
  },
  {
   "cell_type": "code",
   "execution_count": null,
   "metadata": {
    "collapsed": true
   },
   "outputs": [],
   "source": [
    "eq"
   ]
  },
  {
   "cell_type": "code",
   "execution_count": null,
   "metadata": {
    "collapsed": true
   },
   "outputs": [],
   "source": [
    "dicts = {'Name': 'Zabra', 'Age': 7}\n",
    "\n"
   ]
  },
  {
   "cell_type": "code",
   "execution_count": null,
   "metadata": {
    "collapsed": true
   },
   "outputs": [],
   "source": [
    "dicts.get('Age', 'Age')"
   ]
  },
  {
   "cell_type": "code",
   "execution_count": null,
   "metadata": {
    "collapsed": true
   },
   "outputs": [],
   "source": [
    "del dict"
   ]
  },
  {
   "cell_type": "code",
   "execution_count": null,
   "metadata": {
    "collapsed": true
   },
   "outputs": [],
   "source": [
    "dict"
   ]
  },
  {
   "cell_type": "code",
   "execution_count": null,
   "metadata": {
    "collapsed": true
   },
   "outputs": [],
   "source": [
    "import sys\n",
    " \n",
    "def redirect_to_file(text):\n",
    "    original = sys.stdout\n",
    "    sys.stdout = open('redirect.txt', 'w')\n",
    "    print('This is your redirected text:')\n",
    "    print(text)\n",
    "    sys.stdout = original\n",
    " \n",
    "    print('This string goes to stdout, NOT the file!')\n"
   ]
  },
  {
   "cell_type": "code",
   "execution_count": null,
   "metadata": {
    "collapsed": true
   },
   "outputs": [],
   "source": [
    "redirect_to_file('yeah')"
   ]
  },
  {
   "cell_type": "code",
   "execution_count": null,
   "metadata": {
    "collapsed": true
   },
   "outputs": [],
   "source": [
    "a = b = 1"
   ]
  },
  {
   "cell_type": "code",
   "execution_count": null,
   "metadata": {
    "collapsed": true
   },
   "outputs": [],
   "source": [
    "print(a,b)"
   ]
  },
  {
   "cell_type": "code",
   "execution_count": null,
   "metadata": {
    "collapsed": true
   },
   "outputs": [],
   "source": [
    "b = 2"
   ]
  },
  {
   "cell_type": "code",
   "execution_count": null,
   "metadata": {
    "collapsed": true
   },
   "outputs": [],
   "source": [
    "\"H2_1\" in species_registry"
   ]
  },
  {
   "cell_type": "code",
   "execution_count": null,
   "metadata": {
    "collapsed": true
   },
   "outputs": [],
   "source": [
    "(network.reactions['k01']).net_change('H_1')"
   ]
  },
  {
   "cell_type": "code",
   "execution_count": null,
   "metadata": {
    "collapsed": true
   },
   "outputs": [],
   "source": [
    "network.reactions['k01']"
   ]
  },
  {
   "cell_type": "code",
   "execution_count": null,
   "metadata": {
    "collapsed": true
   },
   "outputs": [],
   "source": [
    "(network.reactions['k01']).lhs_equation"
   ]
  },
  {
   "cell_type": "code",
   "execution_count": null,
   "metadata": {
    "collapsed": true
   },
   "outputs": [],
   "source": [
    "network.reactions['k01'].species_equation('H_1')"
   ]
  },
  {
   "cell_type": "code",
   "execution_count": null,
   "metadata": {
    "collapsed": true
   },
   "outputs": [],
   "source": [
    "init"
   ]
  },
  {
   "cell_type": "code",
   "execution_count": 21,
   "metadata": {
    "collapsed": true
   },
   "outputs": [],
   "source": [
    "n,s = network.reactions['k03'].left_side"
   ]
  },
  {
   "cell_type": "code",
   "execution_count": 99,
   "metadata": {},
   "outputs": [
    {
     "data": {
      "text/plain": [
       "array([  1.00000000e+00,   1.01131765e+00,   1.02276338e+00, ...,\n",
       "         9.77743256e+04,   9.88809009e+04,   1.00000000e+05])"
      ]
     },
     "execution_count": 99,
     "metadata": {},
     "output_type": "execute_result"
    }
   ],
   "source": [
    "network.T"
   ]
  },
  {
   "cell_type": "code",
   "execution_count": 106,
   "metadata": {},
   "outputs": [
    {
     "data": {
      "image/png": "[encoded data removed]",
      "text/plain": [
       "<matplotlib.figure.Figure at 0x7f3d3be470d0>"
      ]
     },
     "metadata": {},
     "output_type": "display_data"
    }
   ],
   "source": [
    "for i in range(23):\n",
    "    try: \n",
    "        rxn = network.reactions[\"k{0:02d}\".format(i+1)]\n",
    "        if\n",
    "        plt.loglog(network.T , rxn.coeff_fn(network), label= \"k{0:02d}\".format(i+1))\n",
    "        \n",
    "    except:\n",
    "        pass\n",
    "plt.legend()\n",
    "plt.ylim(1e-40, 1e0)\n",
    "plt.xlim(1e2,1e4)\n",
    "plt.show()"
   ]
  },
  {
   "cell_type": "code",
   "execution_count": null,
   "metadata": {
    "collapsed": true
   },
   "outputs": [],
   "source": []
  }
 ],
 "metadata": {
  "kernelspec": {
   "display_name": "Python 2",
   "language": "python",
   "name": "python2"
  },
  "language_info": {
   "codemirror_mode": {
    "name": "ipython",
    "version": 2
   },
   "file_extension": ".py",
   "mimetype": "text/x-python",
   "name": "python",
   "nbconvert_exporter": "python",
   "pygments_lexer": "ipython2",
   "version": "2.7.13"
  }
 },
 "nbformat": 4,
 "nbformat_minor": 2
}
