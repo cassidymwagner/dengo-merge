{
 "cells": [
  {
   "cell_type": "code",
   "execution_count": 2,
   "metadata": {},
   "outputs": [],
   "source": [
    "from sympy import *"
   ]
  },
  {
   "cell_type": "code",
   "execution_count": 30,
   "metadata": {
    "collapsed": true
   },
   "outputs": [],
   "source": [
    "vr, r, gamma, C, G, M, D, K, Mdot = symbols(\"vr r gamma C G M D K Mdot\")"
   ]
  },
  {
   "cell_type": "code",
   "execution_count": 36,
   "metadata": {
    "collapsed": true
   },
   "outputs": [],
   "source": [
    "eq1 = vr**(gamma+1) - C*(r**(-2*gamma + 2))/ (gamma - 1)"
   ]
  },
  {
   "cell_type": "code",
   "execution_count": 6,
   "metadata": {
    "collapsed": true
   },
   "outputs": [],
   "source": [
    "eq2 = vr**(-gamma+1) - G*M/2/(gamma - 1)/C*(r**(2*gamma - 3))"
   ]
  },
  {
   "cell_type": "code",
   "execution_count": 11,
   "metadata": {},
   "outputs": [],
   "source": [
    "vr1 = solve(eq1, vr)[0]"
   ]
  },
  {
   "cell_type": "code",
   "execution_count": 10,
   "metadata": {},
   "outputs": [],
   "source": [
    "vr2 = solve(eq2, vr)[0]"
   ]
  },
  {
   "cell_type": "code",
   "execution_count": 13,
   "metadata": {},
   "outputs": [
    {
     "ename": "NotImplementedError",
     "evalue": "multiple generators [(C*r**2/(gamma*r**(2*gamma) - r**(2*gamma)))**(1/(gamma + 1)), (G*M*r**(2*gamma)/(2*C*gamma*r**3 - 2*C*r**3))**(1/(gamma - 1))]\nNo algorithms are implemented to solve equation (C*r**(-2*gamma + 2)/(gamma - 1))**(1/(gamma + 1)) - (G*M*r**(2*gamma - 3)/(2*C*(gamma - 1)))**(-1/(gamma - 1))",
     "output_type": "error",
     "traceback": [
      "\u001b[0;31m---------------------------------------------------------------------------\u001b[0m",
      "\u001b[0;31mNotImplementedError\u001b[0m                       Traceback (most recent call last)",
      "\u001b[0;32m<ipython-input-13-f4dbde13d16f>\u001b[0m in \u001b[0;36m<module>\u001b[0;34m()\u001b[0m\n\u001b[0;32m----> 1\u001b[0;31m \u001b[0msolve\u001b[0m\u001b[0;34m(\u001b[0m\u001b[0mvr1\u001b[0m \u001b[0;34m-\u001b[0m \u001b[0mvr2\u001b[0m\u001b[0;34m,\u001b[0m \u001b[0mr\u001b[0m\u001b[0;34m)\u001b[0m\u001b[0;34m\u001b[0m\u001b[0m\n\u001b[0m",
      "\u001b[0;32m/home/kwoksun2/anaconda2/lib/python2.7/site-packages/sympy/solvers/solvers.pyc\u001b[0m in \u001b[0;36msolve\u001b[0;34m(f, *symbols, **flags)\u001b[0m\n\u001b[1;32m   1051\u001b[0m     \u001b[0;31m###########################################################################\u001b[0m\u001b[0;34m\u001b[0m\u001b[0;34m\u001b[0m\u001b[0m\n\u001b[1;32m   1052\u001b[0m     \u001b[0;32mif\u001b[0m \u001b[0mbare_f\u001b[0m\u001b[0;34m:\u001b[0m\u001b[0;34m\u001b[0m\u001b[0m\n\u001b[0;32m-> 1053\u001b[0;31m         \u001b[0msolution\u001b[0m \u001b[0;34m=\u001b[0m \u001b[0m_solve\u001b[0m\u001b[0;34m(\u001b[0m\u001b[0mf\u001b[0m\u001b[0;34m[\u001b[0m\u001b[0;36m0\u001b[0m\u001b[0;34m]\u001b[0m\u001b[0;34m,\u001b[0m \u001b[0;34m*\u001b[0m\u001b[0msymbols\u001b[0m\u001b[0;34m,\u001b[0m \u001b[0;34m**\u001b[0m\u001b[0mflags\u001b[0m\u001b[0;34m)\u001b[0m\u001b[0;34m\u001b[0m\u001b[0m\n\u001b[0m\u001b[1;32m   1054\u001b[0m     \u001b[0;32melse\u001b[0m\u001b[0;34m:\u001b[0m\u001b[0;34m\u001b[0m\u001b[0m\n\u001b[1;32m   1055\u001b[0m         \u001b[0msolution\u001b[0m \u001b[0;34m=\u001b[0m \u001b[0m_solve_system\u001b[0m\u001b[0;34m(\u001b[0m\u001b[0mf\u001b[0m\u001b[0;34m,\u001b[0m \u001b[0msymbols\u001b[0m\u001b[0;34m,\u001b[0m \u001b[0;34m**\u001b[0m\u001b[0mflags\u001b[0m\u001b[0;34m)\u001b[0m\u001b[0;34m\u001b[0m\u001b[0m\n",
      "\u001b[0;32m/home/kwoksun2/anaconda2/lib/python2.7/site-packages/sympy/solvers/solvers.pyc\u001b[0m in \u001b[0;36m_solve\u001b[0;34m(f, *symbols, **flags)\u001b[0m\n\u001b[1;32m   1617\u001b[0m \u001b[0;34m\u001b[0m\u001b[0m\n\u001b[1;32m   1618\u001b[0m     \u001b[0;32mif\u001b[0m \u001b[0mresult\u001b[0m \u001b[0;32mis\u001b[0m \u001b[0mFalse\u001b[0m\u001b[0;34m:\u001b[0m\u001b[0;34m\u001b[0m\u001b[0m\n\u001b[0;32m-> 1619\u001b[0;31m         \u001b[0;32mraise\u001b[0m \u001b[0mNotImplementedError\u001b[0m\u001b[0;34m(\u001b[0m\u001b[0;34m'\\n'\u001b[0m\u001b[0;34m.\u001b[0m\u001b[0mjoin\u001b[0m\u001b[0;34m(\u001b[0m\u001b[0;34m[\u001b[0m\u001b[0mmsg\u001b[0m\u001b[0;34m,\u001b[0m \u001b[0mnot_impl_msg\u001b[0m \u001b[0;34m%\u001b[0m \u001b[0mf\u001b[0m\u001b[0;34m]\u001b[0m\u001b[0;34m)\u001b[0m\u001b[0;34m)\u001b[0m\u001b[0;34m\u001b[0m\u001b[0m\n\u001b[0m\u001b[1;32m   1620\u001b[0m \u001b[0;34m\u001b[0m\u001b[0m\n\u001b[1;32m   1621\u001b[0m     \u001b[0;32mif\u001b[0m \u001b[0mflags\u001b[0m\u001b[0;34m.\u001b[0m\u001b[0mget\u001b[0m\u001b[0;34m(\u001b[0m\u001b[0;34m'simplify'\u001b[0m\u001b[0;34m,\u001b[0m \u001b[0mTrue\u001b[0m\u001b[0;34m)\u001b[0m\u001b[0;34m:\u001b[0m\u001b[0;34m\u001b[0m\u001b[0m\n",
      "\u001b[0;31mNotImplementedError\u001b[0m: multiple generators [(C*r**2/(gamma*r**(2*gamma) - r**(2*gamma)))**(1/(gamma + 1)), (G*M*r**(2*gamma)/(2*C*gamma*r**3 - 2*C*r**3))**(1/(gamma - 1))]\nNo algorithms are implemented to solve equation (C*r**(-2*gamma + 2)/(gamma - 1))**(1/(gamma + 1)) - (G*M*r**(2*gamma - 3)/(2*C*(gamma - 1)))**(-1/(gamma - 1))"
     ]
    }
   ],
   "source": [
    "solve(vr1 - vr2, r)"
   ]
  },
  {
   "cell_type": "code",
   "execution_count": 14,
   "metadata": {},
   "outputs": [
    {
     "data": {
      "text/plain": [
       "(C*r**(-2*gamma + 2)/(gamma - 1))**(1/(gamma + 1)) - (G*M*r**(2*gamma - 3)/(2*C*(gamma - 1)))**(-1/(gamma - 1))"
      ]
     },
     "execution_count": 14,
     "metadata": {},
     "output_type": "execute_result"
    }
   ],
   "source": [
    "vr1 - vr2"
   ]
  },
  {
   "cell_type": "code",
   "execution_count": 23,
   "metadata": {},
   "outputs": [],
   "source": [
    "aaa = solve( r** ((-2*gamma+2)/(gamma + 1)) - D* (r**((2*gamma - 3)/(1-gamma) ) ), r )[0]"
   ]
  },
  {
   "cell_type": "code",
   "execution_count": 26,
   "metadata": {},
   "outputs": [],
   "source": [
    "bbb = aaa.subs(D, ((gamma - 1)/C)**(1/(gamma + 1)) * (G*M/2/(gamma - 1))**(1/(gamma - 1)) )"
   ]
  },
  {
   "cell_type": "code",
   "execution_count": 32,
   "metadata": {},
   "outputs": [
    {
     "data": {
      "text/plain": [
       "((G*M/(2*(gamma - 1)))**(1/(gamma - 1))*(Mdot**(-gamma + 1)*(4*pi)**(gamma - 1)*(gamma - 1)**2/(K*gamma))**(1/(gamma + 1)))**((gamma**2 - 1)/(3*gamma - 5))"
      ]
     },
     "execution_count": 32,
     "metadata": {},
     "output_type": "execute_result"
    }
   ],
   "source": [
    "simplify(bbb.subs(C, K*gamma / (gamma - 1) * (Mdot/4/pi)**(gamma - 1) ))"
   ]
  },
  {
   "cell_type": "code",
   "execution_count": 63,
   "metadata": {
    "collapsed": true
   },
   "outputs": [],
   "source": [
    "eq = ( C*(gamma - 1) )**(2/(3*gamma - 5)) * (G*M/2)**((gamma+1)/(3*gamma - 5)) "
   ]
  },
  {
   "cell_type": "code",
   "execution_count": 35,
   "metadata": {},
   "outputs": [],
   "source": [
    "ans_r = eq.subs(C, gamma*K / (gamma - 1) * (Mdot/4/pi)**(gamma - 1))"
   ]
  },
  {
   "cell_type": "code",
   "execution_count": 62,
   "metadata": {},
   "outputs": [
    {
     "data": {
      "image/png": "[encoded data removed]",
      "text/latex": [
       "$$\\left(\\frac{K \\dot{M}^{\\gamma - 1} \\gamma}{\\left(\\gamma - 1\\right)^{2}} \\left(4 \\pi\\right)^{- \\gamma + 1} \\left(2^{- \\frac{\\gamma + 1}{3 \\gamma - 5}} \\left(G M\\right)^{\\frac{\\gamma + 1}{3 \\gamma - 5}} \\left(K \\dot{M}^{\\gamma - 1} \\gamma \\left(4 \\pi\\right)^{- \\gamma + 1}\\right)^{\\frac{2}{3 \\gamma - 5}}\\right)^{- 2 \\gamma + 2}\\right)^{\\frac{1}{\\gamma + 1}}$$"
      ],
      "text/plain": [
       "                                                                              \n",
       "                                                                              \n",
       "                                                                              \n",
       "⎛                                                                             \n",
       "⎜                        ⎛                                                    \n",
       "⎜                        ⎜ -(γ + 1)        γ + 1                           ───\n",
       "⎜                        ⎜ ─────────      ───────                          3⋅γ\n",
       "⎜    γ - 1        -γ + 1 ⎜  3⋅γ - 5       3⋅γ - 5 ⎛    γ - 1        -γ + 1⎞   \n",
       "⎜K⋅Ṁ     ⋅γ⋅(4⋅π)      ⋅⎝2         ⋅(G⋅M)       ⋅⎝K⋅Ṁ     ⋅γ⋅(4⋅π)      ⎠   \n",
       "⎜─────────────────────────────────────────────────────────────────────────────\n",
       "⎜                                                2                            \n",
       "⎝                                         (γ - 1)                             \n",
       "\n",
       "                1  \n",
       "              ─────\n",
       "              γ + 1\n",
       "     -2⋅γ + 2⎞     \n",
       "2   ⎞        ⎟     \n",
       "────⎟        ⎟     \n",
       " - 5⎟        ⎟     \n",
       "    ⎟        ⎟     \n",
       "    ⎠        ⎟     \n",
       "─────────────⎟     \n",
       "             ⎟     \n",
       "             ⎠     "
      ]
     },
     "execution_count": 62,
     "metadata": {},
     "output_type": "execute_result"
    }
   ],
   "source": [
    "solve(eq1.subs(r, ans_r), vr)[0]"
   ]
  },
  {
   "cell_type": "code",
   "execution_count": 61,
   "metadata": {},
   "outputs": [
    {
     "data": {
      "image/png": "[encoded data removed]",
      "text/latex": [
       "$$\\left(\\frac{G M}{2}\\right)^{\\frac{\\gamma + 1}{3 \\gamma - 5}} \\left(K \\gamma \\left(\\frac{\\dot{M}}{4 \\pi}\\right)^{\\gamma - 1}\\right)^{\\frac{2}{3 \\gamma - 5}}$$"
      ],
      "text/plain": [
       "                                2   \n",
       "      γ + 1                  ───────\n",
       "     ───────                 3⋅γ - 5\n",
       "     3⋅γ - 5 ⎛         γ - 1⎞       \n",
       "⎛G⋅M⎞        ⎜    ⎛ Ṁ⎞     ⎟       \n",
       "⎜───⎟       ⋅⎜K⋅γ⋅⎜───⎟     ⎟       \n",
       "⎝ 2 ⎠        ⎝    ⎝4⋅π⎠     ⎠       "
      ]
     },
     "execution_count": 61,
     "metadata": {},
     "output_type": "execute_result"
    }
   ],
   "source": [
    "ans_r"
   ]
  },
  {
   "cell_type": "code",
   "execution_count": 43,
   "metadata": {},
   "outputs": [],
   "source": [
    "eq1 = eq1.subs(C , gamma*K / (gamma - 1) * (Mdot/4/pi)**(gamma - 1))"
   ]
  },
  {
   "cell_type": "code",
   "execution_count": 45,
   "metadata": {
    "collapsed": true
   },
   "outputs": [],
   "source": [
    "from sympy import init_printing"
   ]
  },
  {
   "cell_type": "code",
   "execution_count": 47,
   "metadata": {
    "collapsed": true
   },
   "outputs": [],
   "source": [
    "init_printing()"
   ]
  },
  {
   "cell_type": "code",
   "execution_count": 60,
   "metadata": {},
   "outputs": [
    {
     "data": {
      "image/png": "[encoded data removed]",
      "text/latex": [
       "$$\\frac{G^{3} K^{2} M^{3} \\dot{M}^{2}}{32 \\pi^{2}}$$"
      ],
      "text/plain": [
       " 3  2  3   2\n",
       "G ⋅K ⋅M ⋅Ṁ \n",
       "────────────\n",
       "       2    \n",
       "   32⋅π     "
      ]
     },
     "execution_count": 60,
     "metadata": {},
     "output_type": "execute_result"
    }
   ],
   "source": [
    "ans_r.subs(gamma, 2)"
   ]
  },
  {
   "cell_type": "code",
   "execution_count": 65,
   "metadata": {},
   "outputs": [
    {
     "data": {
      "image/png": "[encoded data removed]",
      "text/latex": [
       "$$\\left(\\frac{G M}{2}\\right)^{\\frac{\\gamma + 1}{3 \\gamma - 5}} \\left(K \\gamma \\left(\\frac{\\dot{M}}{4 \\pi}\\right)^{\\gamma - 1}\\right)^{\\frac{2}{3 \\gamma - 5}}$$"
      ],
      "text/plain": [
       "                                2   \n",
       "      γ + 1                  ───────\n",
       "     ───────                 3⋅γ - 5\n",
       "     3⋅γ - 5 ⎛         γ - 1⎞       \n",
       "⎛G⋅M⎞        ⎜    ⎛ Ṁ⎞     ⎟       \n",
       "⎜───⎟       ⋅⎜K⋅γ⋅⎜───⎟     ⎟       \n",
       "⎝ 2 ⎠        ⎝    ⎝4⋅π⎠     ⎠       "
      ]
     },
     "execution_count": 65,
     "metadata": {},
     "output_type": "execute_result"
    }
   ],
   "source": [
    "eq.subs(C, gamma*K / (gamma - 1) * (Mdot/4/pi)**(gamma - 1))"
   ]
  },
  {
   "cell_type": "code",
   "execution_count": null,
   "metadata": {
    "collapsed": true
   },
   "outputs": [],
   "source": []
  }
 ],
 "metadata": {
  "kernelspec": {
   "display_name": "Python 2",
   "language": "python",
   "name": "python2"
  }
 },
 "nbformat": 4,
 "nbformat_minor": 2
}
