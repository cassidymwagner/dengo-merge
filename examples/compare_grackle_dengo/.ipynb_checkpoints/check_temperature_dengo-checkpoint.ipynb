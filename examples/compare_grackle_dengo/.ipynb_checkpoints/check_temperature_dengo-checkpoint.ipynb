{
 "cells": [
  {
   "cell_type": "code",
   "execution_count": 1,
   "metadata": {},
   "outputs": [
    {
     "name": "stdout",
     "output_type": "stream",
     "text": [
      " using cli\n",
      " using CLI for selections\n"
     ]
    }
   ],
   "source": [
    "import sys\n",
    "import yt.units as u\n",
    "import numpy\n",
    "import numpy as np\n",
    "import matplotlib.pyplot as plt\n",
    "\n",
    "from dengo.chemical_network import \\\n",
    "    ChemicalNetwork, \\\n",
    "    reaction_registry, \\\n",
    "    cooling_registry, species_registry\n",
    "import dengo.primordial_rates, dengo.primordial_cooling\n",
    "from dengo.chemistry_constants import tiny, kboltz, mh\n"
   ]
  },
  {
   "cell_type": "code",
   "execution_count": 2,
   "metadata": {},
   "outputs": [],
   "source": [
    "import sys\n",
    "sys.path.append(\"../cvdls_examples/9species_cooling\") \n",
    "sys.path.append(\"../cvspils_examples/9species_cooling\") \n",
    "sys.path.append(\"../be_chem_solve_examples/9species_cooling/\") \n",
    "\n",
    "from generate_dls_cooling_network import run_cvdls\n",
    "from generate_cvspils_cooling_network import run_cvspils\n",
    "from generate_bechem_cooling_network import run_bechem"
   ]
  },
  {
   "cell_type": "code",
   "execution_count": 48,
   "metadata": {
    "collapsed": true
   },
   "outputs": [],
   "source": [
    "def Init_values(temperature, density, n_species = 9, cooling=True):\n",
    "    \"\"\" Create a initial value dictionary,\n",
    "        for a given temperature, density, number of species\n",
    "    Args:\n",
    "        temperature -- in Kelvin\n",
    "        density     -- in amu / cm**3\n",
    "        n_species   -- number of species (6/9)\n",
    "        cooling\n",
    "\n",
    "    Returns:\n",
    "        init_values: initial value dictionary with\n",
    "                     self-consistent energy/ electron density\n",
    "        primordial : chemical_network classes\n",
    "\n",
    "    \"\"\"\n",
    "\n",
    "    # initialize and setup the network\n",
    "    dengo.primordial_rates.setup_primordial()\n",
    "    primordial = ChemicalNetwork()\n",
    "    primordial.threebody = 4\n",
    "\n",
    "    if n_species == 9:\n",
    "        for i in range(22):\n",
    "            try:\n",
    "                primordial.add_reaction(\"k{0:02d}\".format(i+1))\n",
    "            except:\n",
    "                pass\n",
    "    else:\n",
    "        for i in range(6):\n",
    "            try:\n",
    "                primordial.add_reaction(\"k{0:02d}\".format(i+1))\n",
    "            except:\n",
    "                pass\n",
    "\n",
    "    # the temperature array required to interpolates the rates\n",
    "    primordial.init_temperature((1e0, 1e5))\n",
    "\n",
    "    tiny = 1.0e-20\n",
    "\n",
    "    # init_array are is in fractional abundances\n",
    "    init_values = dict()\n",
    "    density = numpy.array([density])\n",
    "    if n_species == 6:\n",
    "        # 6-species model\n",
    "        init_values[\"He_1\"]    = density * (1.0 - 0.76)\n",
    "        init_values[\"He_2\"]    = np.array([tiny])\n",
    "        init_values[\"He_3\"]    = np.array([tiny])\n",
    "        init_values[\"H_1\"]     = density *  (0.76)\n",
    "        init_values['H_2']     = np.array([tiny]) \n",
    "    else:\n",
    "        # 9-species model\n",
    "        init_values[\"He_1\"]    = density * (1.0 - 0.76) \n",
    "        init_values[\"He_2\"]    = density *np.array([tiny])\n",
    "        init_values[\"He_3\"]    = density *np.array([tiny])\n",
    "        init_values[\"H_1\"]     = density *  (0.76) / 2.\n",
    "        init_values['H_2']     = density *np.array([tiny])\n",
    "\n",
    "        init_values[\"H_m0\"]    = density *np.array([tiny])\n",
    "        init_values[\"H2_1\"]    = density *  (0.76) / 2.\n",
    "        init_values[\"H2_2\"]    = density *np.array([tiny])\n",
    "\n",
    "    # now everything in mass density\n",
    "    init_values['de'] = primordial.calculate_free_electrons(init_values)\n",
    "    # one signle value: again mass density\n",
    "    init_values['density'] = primordial.calculate_total_density(init_values)\n",
    "\n",
    "    num_den = {}\n",
    "    for sp in primordial.required_species:\n",
    "        try:\n",
    "            num_den[sp.name] = init_values[sp.name]/ sp.weight\n",
    "            print(sp.name, sp.weight)\n",
    "        except:\n",
    "            pass\n",
    "    print( init_values['density'])\n",
    "    print(num_den)\n",
    "    # set up initial temperatures values used to define ge\n",
    "    init_values['T'] = numpy.array([temperature])\n",
    "\n",
    "    # calculate gammaH2\n",
    "    x = 6100.0/temperature\n",
    "    expx = numpy.exp(expx)\n",
    "    gammaH2 = 2.0 / (5.0 + 2.0*x*x*expx / (expx - 1 )**2.0 ) + 1\n",
    "    print(gammaH2, gammaH2-7./5.)\n",
    "    gamma_factor = primordial.gamma_factor().subs(num_den).subs({'gammaH2': gammaH2 , 'gamma': 5./3.,'T': temperature })\n",
    "\n",
    "    ge  = ((temperature *  kboltz) *gamma_factor\n",
    "                         / (init_values['density'] * mh  ))\n",
    "\n",
    "    T = init_values['density']*ge*mh / kboltz / gamma_factor\n",
    "    print(\"difference in temperature:\", T - temperature)\n",
    "    init_values['ge'] = numpy.array( [numpy.float64(ge)] )\n",
    "\n",
    "    if cooling:\n",
    "        for cooling_action in cooling_registry:\n",
    "            k = cooling_registry[cooling_action]\n",
    "            if (k.species).issubset( primordial.required_species ):\n",
    "                if k.name != \"cie_cooling\":                    \n",
    "                    print(\"adding:\", k.name, k.equation)\n",
    "                    primordial.add_cooling(cooling_action)\n",
    "                    print('---------------------------')\n",
    "    return init_values, primordial"
   ]
  },
  {
   "cell_type": "code",
   "execution_count": 49,
   "metadata": {},
   "outputs": [
    {
     "name": "stdout",
     "output_type": "stream",
     "text": [
      "Adding reaction: k01 : 1*H_1 + 1*de => 1*H_2 + 2*de\n",
      "Adding reaction: k02 : 1*H_2 + 1*de => 1*H_1\n",
      "Adding reaction: k03 : 1*He_1 + 1*de => 1*He_2 + 2*de\n",
      "Adding reaction: k04 : 1*He_2 + 1*de => 1*He_1\n",
      "Adding reaction: k05 : 1*He_2 + 1*de => 1*He_3 + 2*de\n",
      "Adding reaction: k06 : 1*He_3 + 1*de => 1*He_2\n",
      "Adding reaction: k07 : 1*H_1 + 1*de => 1*H_m0\n",
      "Adding reaction: k08 : 1*H_m0 + 1*H_1 => 1*H2_1 + 1*de\n",
      "Adding reaction: k09 : 1*H_1 + 1*H_2 => 1*H2_2\n",
      "Adding reaction: k10 : 1*H2_2 + 1*H_1 => 1*H2_1 + 1*H_2\n",
      "Adding reaction: k11 : 1*H2_1 + 1*H_2 => 1*H2_2 + 1*H_1\n",
      "Adding reaction: k12 : 1*H2_1 + 1*de => 2*H_1 + 1*de\n",
      "Adding reaction: k13 : 1*H2_1 + 1*H_1 => 3*H_1\n",
      "Adding reaction: k14 : 1*H_m0 + 1*de => 1*H_1 + 2*de\n",
      "Adding reaction: k15 : 1*H_m0 + 1*H_1 => 2*H_1 + 1*de\n",
      "Adding reaction: k16 : 1*H_m0 + 1*H_2 => 2*H_1\n",
      "Adding reaction: k17 : 1*H_m0 + 1*H_2 => 1*H2_2 + 1*de\n",
      "Adding reaction: k18 : 1*H2_2 + 1*de => 2*H_1\n",
      "Adding reaction: k19 : 1*H2_2 + 1*H_m0 => 1*H_1 + 1*H2_1\n",
      "Adding reaction: k21 : 2*H_1 + 1*H2_1 => 2*H2_1\n",
      "Adding reaction: k22 : 2*H_1 + 1*H_1 => 1*H2_1 + 1*H_1\n",
      "('H2_1', 2.01588)\n",
      "('H2_2', 2.01588)\n",
      "('He_1', 4.002602)\n",
      "('H_m0', 1.00794)\n",
      "('He_3', 4.002602)\n",
      "('He_2', 4.002602)\n",
      "('H_1', 1.00794)\n",
      "('de', 1.0)\n",
      "('H_2', 1.00794)\n",
      "[  1.00000000e+10]\n",
      "{'H_2': array([  9.92122547e-11]), 'H_1': array([  3.77006568e+09]), 'de': array([  1.24557372e-10]), 'He_1': array([  5.99609954e+08]), 'He_2': array([  2.49837481e-11]), 'He_3': array([  2.49837481e-11]), 'H2_2': array([  4.96061273e-11]), 'H2_1': array([  1.88503284e+09]), 'H_m0': array([  9.92122547e-11])}\n",
      "(1.3963550704205843, -0.0036449295794156455)\n",
      "('difference in temperature:', array([-2.27373675443232e-13], dtype=object))\n",
      "H2_1/(gammaH2 - 1.0) + H2_2/(gammaH2 - 1.0) + H_1/(gamma - 1.0) + H_2/(gamma - 1.0) + H_m0/(gamma - 1.0) + He_1/(gamma - 1.0) + He_2/(gamma - 1.0) + He_3/(gamma - 1.0) + de/(gamma - 1.0)\n"
     ]
    },
    {
     "data": {
      "text/plain": [
       "'density*ge*mh/(kb*(H2_1/(gammaH2 - 1.0) + H2_2/(gammaH2 - 1.0) + H_1/(gamma - 1.0) + H_2/(gamma - 1.0) + H_m0/(gamma - 1.0) + He_1/(gamma - 1.0) + He_2/(gamma - 1.0) + He_3/(gamma - 1.0) + de/(gamma - 1.0)))'"
      ]
     },
     "execution_count": 49,
     "metadata": {},
     "output_type": "execute_result"
    }
   ],
   "source": [
    "init, primordial = Init_values(initial_temperature, \n",
    "                               density, n_species = 9, \n",
    "                               cooling=False)\n",
    "\n",
    "print(primordial.gamma_factor())\n",
    "primordial.temperature_calculation()\n"
   ]
  },
  {
   "cell_type": "code",
   "execution_count": 4,
   "metadata": {
    "collapsed": true
   },
   "outputs": [],
   "source": [
    "def calc_fftime(den):\n",
    "    mu = 1.0\n",
    "    rho = mu* u.mass_hydrogen *den *(u.cm**-3)\n",
    "    tff = numpy.sqrt(1.0 / u.G / rho).in_units('s')\n",
    "    return tff.v"
   ]
  },
  {
   "cell_type": "code",
   "execution_count": 42,
   "metadata": {},
   "outputs": [
    {
     "name": "stdout",
     "output_type": "stream",
     "text": [
      "Adding reaction: k01 : 1*H_1 + 1*de => 1*H_2 + 2*de\n",
      "Adding reaction: k02 : 1*H_2 + 1*de => 1*H_1\n",
      "Adding reaction: k03 : 1*He_1 + 1*de => 1*He_2 + 2*de\n",
      "Adding reaction: k04 : 1*He_2 + 1*de => 1*He_1\n",
      "Adding reaction: k05 : 1*He_2 + 1*de => 1*He_3 + 2*de\n",
      "Adding reaction: k06 : 1*He_3 + 1*de => 1*He_2\n",
      "Adding reaction: k07 : 1*H_1 + 1*de => 1*H_m0\n",
      "Adding reaction: k08 : 1*H_m0 + 1*H_1 => 1*H2_1 + 1*de\n",
      "Adding reaction: k09 : 1*H_1 + 1*H_2 => 1*H2_2\n",
      "Adding reaction: k10 : 1*H2_2 + 1*H_1 => 1*H2_1 + 1*H_2\n",
      "Adding reaction: k11 : 1*H2_1 + 1*H_2 => 1*H2_2 + 1*H_1\n",
      "Adding reaction: k12 : 1*H2_1 + 1*de => 2*H_1 + 1*de\n",
      "Adding reaction: k13 : 1*H2_1 + 1*H_1 => 3*H_1\n",
      "Adding reaction: k14 : 1*H_m0 + 1*de => 1*H_1 + 2*de\n",
      "Adding reaction: k15 : 1*H_m0 + 1*H_1 => 2*H_1 + 1*de\n",
      "Adding reaction: k16 : 1*H_m0 + 1*H_2 => 2*H_1\n",
      "Adding reaction: k17 : 1*H_m0 + 1*H_2 => 1*H2_2 + 1*de\n",
      "Adding reaction: k18 : 1*H2_2 + 1*de => 2*H_1\n",
      "Adding reaction: k19 : 1*H2_2 + 1*H_m0 => 1*H_1 + 1*H2_1\n",
      "Adding reaction: k21 : 2*H_1 + 1*H2_1 => 2*H2_1\n",
      "Adding reaction: k22 : 2*H_1 + 1*H_1 => 1*H2_1 + 1*H_1\n",
      "{'H_2': array([  9.92122547e-11]), 'H_1': array([  3.77006568e+09]), 'de': array([  1.24557372e-10]), 'He_1': array([  5.99609954e+08]), 'He_2': array([  2.49837481e-11]), 'He_3': array([  2.49837481e-11]), 'H2_2': array([  4.96061273e-11]), 'H2_1': array([  1.88503284e+09]), 'H_m0': array([  9.92122547e-11])}\n",
      "(1.3963550704205843, -0.0036449295794156455)\n",
      "('difference in temperature:', array([0], dtype=object))\n",
      "three body rate: 4\n",
      "initial  temperature: 2.000E+03\n",
      "Successful iteration[    0]: (2.992e+00) 2.992e+00 / 2.992e+00\n",
      "End in 1 iterations: 2.99205e+00 / 2.99205e+00 (0.00000e+00)\n"
     ]
    }
   ],
   "source": [
    "density = 1e10\n",
    "initial_temperature = 2000.0\n",
    "final_time = calc_fftime(density)*1e-10\n",
    "\n",
    "final_time_Myr = u.second.in_units('Myr').v * final_time\n",
    "\n",
    "init, primordial = Init_values(initial_temperature, \n",
    "                               density, n_species = 9, \n",
    "                               cooling=False)\n",
    "\n",
    "\n",
    "\n",
    "# # run our solver\n",
    "rv, cvdls_data, run_time_cvdls = run_cvdls( initial_temperature, \n",
    "                                          density, final_time, \n",
    "                                          init=init, primordial=primordial, max_iter = 1)\n",
    "# _, bechem_data, run_time_bechem = run_bechem( initial_temperature, \n",
    "#                                              density, final_time, \n",
    "#                                             init=init, primordial=primordial)\n",
    "# _, cvspils_data, run_time_cvspils = run_cvspils( initial_temperature, \n",
    "#                                                 density, final_time, \n",
    "#                                                init=init, primordial=primordial)"
   ]
  },
  {
   "cell_type": "code",
   "execution_count": 11,
   "metadata": {
    "collapsed": true
   },
   "outputs": [],
   "source": [
    "flag = cvdls_data['successful']"
   ]
  },
  {
   "cell_type": "code",
   "execution_count": 12,
   "metadata": {},
   "outputs": [],
   "source": [
    "t = cvdls_data[\"t\"][flag]\n",
    "T = cvdls_data['T'][0][flag]"
   ]
  },
  {
   "cell_type": "code",
   "execution_count": 13,
   "metadata": {},
   "outputs": [
    {
     "data": {
      "image/png": "[encoded data removed]",
      "text/plain": [
       "<matplotlib.figure.Figure at 0x7f5676cc6150>"
      ]
     },
     "metadata": {},
     "output_type": "display_data"
    }
   ],
   "source": [
    "plt.semilogx(t,T)\n",
    "plt.show()"
   ]
  },
  {
   "cell_type": "code",
   "execution_count": 29,
   "metadata": {},
   "outputs": [
    {
     "ename": "NameError",
     "evalue": "name 'array' is not defined",
     "output_type": "error",
     "traceback": [
      "\u001b[0;31m---------------------------------------------------------------------------\u001b[0m",
      "\u001b[0;31mNameError\u001b[0m                                 Traceback (most recent call last)",
      "\u001b[0;32m<ipython-input-29-ff6a8bc7a3cc>\u001b[0m in \u001b[0;36m<module>\u001b[0;34m()\u001b[0m\n\u001b[0;32m----> 1\u001b[0;31m \u001b[0;34m{\u001b[0m\u001b[0;34m'H_2'\u001b[0m\u001b[0;34m:\u001b[0m \u001b[0marray\u001b[0m\u001b[0;34m(\u001b[0m\u001b[0;34m[\u001b[0m  \u001b[0;36m9.92122547e-11\u001b[0m\u001b[0;34m]\u001b[0m\u001b[0;34m)\u001b[0m\u001b[0;34m,\u001b[0m \u001b[0;34m'H_1'\u001b[0m\u001b[0;34m:\u001b[0m \u001b[0marray\u001b[0m\u001b[0;34m(\u001b[0m\u001b[0;34m[\u001b[0m  \u001b[0;36m3.77006568e+09\u001b[0m\u001b[0;34m]\u001b[0m\u001b[0;34m)\u001b[0m\u001b[0;34m,\u001b[0m \u001b[0;34m'de'\u001b[0m\u001b[0;34m:\u001b[0m \u001b[0marray\u001b[0m\u001b[0;34m(\u001b[0m\u001b[0;34m[\u001b[0m  \u001b[0;36m1.24557372e-10\u001b[0m\u001b[0;34m]\u001b[0m\u001b[0;34m)\u001b[0m\u001b[0;34m,\u001b[0m \u001b[0;34m'He_1'\u001b[0m\u001b[0;34m:\u001b[0m \u001b[0marray\u001b[0m\u001b[0;34m(\u001b[0m\u001b[0;34m[\u001b[0m  \u001b[0;36m5.99609954e+08\u001b[0m\u001b[0;34m]\u001b[0m\u001b[0;34m)\u001b[0m\u001b[0;34m,\u001b[0m \u001b[0;34m'He_2'\u001b[0m\u001b[0;34m:\u001b[0m \u001b[0marray\u001b[0m\u001b[0;34m(\u001b[0m\u001b[0;34m[\u001b[0m  \u001b[0;36m2.49837481e-11\u001b[0m\u001b[0;34m]\u001b[0m\u001b[0;34m)\u001b[0m\u001b[0;34m,\u001b[0m \u001b[0;34m'He_3'\u001b[0m\u001b[0;34m:\u001b[0m \u001b[0marray\u001b[0m\u001b[0;34m(\u001b[0m\u001b[0;34m[\u001b[0m  \u001b[0;36m2.49837481e-11\u001b[0m\u001b[0;34m]\u001b[0m\u001b[0;34m)\u001b[0m\u001b[0;34m,\u001b[0m \u001b[0;34m'H2_2'\u001b[0m\u001b[0;34m:\u001b[0m \u001b[0marray\u001b[0m\u001b[0;34m(\u001b[0m\u001b[0;34m[\u001b[0m  \u001b[0;36m4.96061273e-11\u001b[0m\u001b[0;34m]\u001b[0m\u001b[0;34m)\u001b[0m\u001b[0;34m,\u001b[0m \u001b[0;34m'H2_1'\u001b[0m\u001b[0;34m:\u001b[0m \u001b[0marray\u001b[0m\u001b[0;34m(\u001b[0m\u001b[0;34m[\u001b[0m  \u001b[0;36m1.88503284e+09\u001b[0m\u001b[0;34m]\u001b[0m\u001b[0;34m)\u001b[0m\u001b[0;34m,\u001b[0m \u001b[0;34m'H_m0'\u001b[0m\u001b[0;34m:\u001b[0m \u001b[0marray\u001b[0m\u001b[0;34m(\u001b[0m\u001b[0;34m[\u001b[0m  \u001b[0;36m9.92122547e-11\u001b[0m\u001b[0;34m]\u001b[0m\u001b[0;34m)\u001b[0m\u001b[0;34m}\u001b[0m\u001b[0;34m\u001b[0m\u001b[0m\n\u001b[0m",
      "\u001b[0;31mNameError\u001b[0m: name 'array' is not defined"
     ]
    }
   ],
   "source": [
    "{'H_2': array([  9.92122547e-11]), \n",
    " 'H_1': array([  3.77006568e+09]), \n",
    " 'de': array([  1.24557372e-10]), \n",
    " 'He_1': array([  5.99609954e+08]), \n",
    " 'He_2': array([  2.49837481e-11]), \n",
    " 'He_3': array([  2.49837481e-11]), \n",
    " 'H2_2': array([  4.96061273e-11]), \n",
    " 'H2_1': array([  1.88503284e+09]), \n",
    " 'H_m0': array([  9.92122547e-11])}"
   ]
  },
  {
   "cell_type": "code",
   "execution_count": 30,
   "metadata": {},
   "outputs": [
    {
     "data": {
      "text/plain": [
       "{'H2_1': array([  3.80000000e+09]),\n",
       " 'H2_2': array([  1.14992380e-13]),\n",
       " 'H_1': array([  3.80000000e+09]),\n",
       " 'H_2': array([  1.49942504e-10]),\n",
       " 'H_m0': array([  1.46783299e-16]),\n",
       " 'He_1': array([  2.40000000e+09]),\n",
       " 'He_2': array([  1.00000000e-10]),\n",
       " 'He_3': array([  1.00000000e-10]),\n",
       " 'de': array([  2.23769481e-10]),\n",
       " 'ge': array([  1.86926917e+11])}"
      ]
     },
     "execution_count": 30,
     "metadata": {},
     "output_type": "execute_result"
    }
   ],
   "source": [
    "rv"
   ]
  },
  {
   "cell_type": "code",
   "execution_count": 27,
   "metadata": {},
   "outputs": [
    {
     "data": {
      "text/plain": [
       "array([[ 0.00794]])"
      ]
     },
     "execution_count": 27,
     "metadata": {},
     "output_type": "execute_result"
    }
   ],
   "source": [
    "(rv['H2_1']/2 - cvdls_data['H2_1']) /  cvdls_data['H2_1']"
   ]
  },
  {
   "cell_type": "code",
   "execution_count": 26,
   "metadata": {},
   "outputs": [
    {
     "data": {
      "text/plain": [
       "{'H2_1': array([[  1.88503284e+09]]),\n",
       " 'H2_2': array([[  5.70432666e-14]]),\n",
       " 'H_1': array([[  3.77006568e+09]]),\n",
       " 'H_2': array([[  1.48761339e-10]]),\n",
       " 'H_m0': array([[  1.45627020e-16]]),\n",
       " 'He_1': array([[  5.99609954e+08]]),\n",
       " 'He_2': array([[  2.49837481e-11]]),\n",
       " 'He_3': array([[  2.49837481e-11]]),\n",
       " 'T': array([[ 1869.02549996]]),\n",
       " 'de': array([[  2.23769481e-10]]),\n",
       " 'dt': array([ 2.99204917]),\n",
       " 'ge': array([[  1.86926917e+11]]),\n",
       " 'successful': array([ True], dtype=bool),\n",
       " 't': array([ 2.99204917])}"
      ]
     },
     "execution_count": 26,
     "metadata": {},
     "output_type": "execute_result"
    }
   ],
   "source": [
    "cvdls_data"
   ]
  },
  {
   "cell_type": "code",
   "execution_count": null,
   "metadata": {
    "collapsed": true
   },
   "outputs": [],
   "source": []
  },
  {
   "cell_type": "code",
   "execution_count": null,
   "metadata": {
    "collapsed": true
   },
   "outputs": [],
   "source": []
  }
 ],
 "metadata": {
  "kernelspec": {
   "display_name": "Python 2",
   "language": "python",
   "name": "python2"
  },
  "language_info": {
   "codemirror_mode": {
    "name": "ipython",
    "version": 2
   },
   "file_extension": ".py",
   "mimetype": "text/x-python",
   "name": "python",
   "nbconvert_exporter": "python",
   "pygments_lexer": "ipython2",
   "version": "2.7.13"
  }
 },
 "nbformat": 4,
 "nbformat_minor": 2
}
