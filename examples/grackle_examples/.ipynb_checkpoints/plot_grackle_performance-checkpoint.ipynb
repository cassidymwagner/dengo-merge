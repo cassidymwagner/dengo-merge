{
 "cells": [
  {
   "cell_type": "code",
   "execution_count": 23,
   "metadata": {
    "collapsed": true
   },
   "outputs": [],
   "source": [
    "import h5py\n",
    "import numpy\n",
    "import matplotlib.pyplot as plt\n",
    "import matplotlib.colors as colors"
   ]
  },
  {
   "cell_type": "code",
   "execution_count": 19,
   "metadata": {},
   "outputs": [
    {
     "data": {
      "text/plain": [
       "[u'Ddim',\n",
       " u'H2_1',\n",
       " u'H2_2',\n",
       " u'H_1',\n",
       " u'H_2',\n",
       " u'H_m0',\n",
       " u'He_1',\n",
       " u'He_2',\n",
       " u'He_3',\n",
       " u'T',\n",
       " u'Tdim',\n",
       " u'de',\n",
       " u'density',\n",
       " u'ge',\n",
       " u't',\n",
       " u'temperature',\n",
       " u'time_taken',\n",
       " u'total_t']"
      ]
     },
     "execution_count": 19,
     "metadata": {},
     "output_type": "execute_result"
    }
   ],
   "source": [
    "f = h5py.File('data_grackle.hdf5')\n",
    "f.keys()"
   ]
  },
  {
   "cell_type": "code",
   "execution_count": 30,
   "metadata": {},
   "outputs": [
    {
     "data": {
      "image/png": "[encoded data removed]",
      "text/plain": [
       "<matplotlib.figure.Figure at 0x7f4e4c7a7110>"
      ]
     },
     "metadata": {},
     "output_type": "display_data"
    }
   ],
   "source": [
    "Tdim = f['Tdim'].value\n",
    "Ddim = f['Ddim'].value\n",
    "den_arr = f['density'].value\n",
    "temp_arr = f['temperature'].value\n",
    "total_t = f['total_t'].value\n",
    "\n",
    "t_arr = numpy.zeros((400,300))\n",
    "for i in range(400):\n",
    "    t_arr[i,:] = numpy.logspace(-2 , numpy.log10(total_t[i]),300)\n",
    "\n",
    "\n",
    "time_taken = f['time_taken'].value\n",
    "\n",
    "\n",
    "logmin_temp, logmax_temp = numpy.log10(temp_arr.min()), numpy.log10(temp_arr.max())\n",
    "logmin_den , logmax_den  = numpy.log10(den_arr.min()) , numpy.log10(den_arr.max())\n",
    "\n",
    "dlogtemp = ( logmax_temp - logmin_temp )/ Tdim /2.0\n",
    "dlogden  = ( logmax_den  - logmin_den )/ Ddim / 2.0\n",
    "temp_arr = numpy.logspace( logmin_temp - dlogtemp , logmax_temp + dlogtemp , Tdim + 1 )\n",
    "den_arr  = numpy.logspace( logmin_den - dlogden, logmax_den + dlogden, Ddim + 1 )\n",
    "\n",
    "\n",
    "plot_performance(Tdim, Ddim, temp_arr,den_arr, time_taken, \n",
    "                title='grackle_run_time', performance = False, total_t = total_t, log=False)    "
   ]
  },
  {
   "cell_type": "code",
   "execution_count": 60,
   "metadata": {},
   "outputs": [],
   "source": [
    "zeros = numpy.zeros((400,300))\n",
    "conserv_dict = {'H': zeros, \n",
    "                'H2':zeros,\n",
    "                'He':zeros, \n",
    "                'de':zeros}\n",
    "\n",
    "for key in f.keys():\n",
    "    ele_charge = key.split('_')\n",
    "    if ele_charge[0] in ['H', 'He']:\n",
    "        \n",
    "        name = ele_charge[0]\n",
    "        conserv_dict[name] += f[key].value\n",
    "        try:\n",
    "            charge = eval(ele_charge[1]) - 1\n",
    "            conserv_dict['de'] += charge*f[key].value\n",
    "        except:\n",
    "            if ele_charge[1][0] == 'm':             \n",
    "                charge = eval(ele_charge[1][1]) - 1\n",
    "                conserv_dict['de'] += charge*f[key].value"
   ]
  },
  {
   "cell_type": "code",
   "execution_count": 64,
   "metadata": {},
   "outputs": [
    {
     "data": {
      "text/plain": [
       "array([[  2.54889244e+00,   2.54889244e+00,   2.54889244e+00, ...,\n",
       "          1.70195453e+00,   1.70193849e+00,   1.70192576e+00],\n",
       "       [  2.55015789e+00,   2.55015789e+00,   2.55015789e+00, ...,\n",
       "          1.70178421e+00,   1.70176812e+00,   1.70175533e+00],\n",
       "       [  2.55109957e+00,   2.55109957e+00,   2.55109957e+00, ...,\n",
       "          1.70170048e+00,   1.70168437e+00,   1.70167156e+00],\n",
       "       ..., \n",
       "       [  2.60876182e+17,   2.58365304e+17,   2.55931315e+17, ...,\n",
       "          1.81330026e+17,   1.81330062e+17,   1.81330160e+17],\n",
       "       [  2.60876278e+17,   2.58365678e+17,   2.55930856e+17, ...,\n",
       "          1.81330081e+17,   1.81330084e+17,   1.81330103e+17],\n",
       "       [  2.60876323e+17,   2.58365683e+17,   2.55931007e+17, ...,\n",
       "          1.81330082e+17,   1.81330085e+17,   1.81330117e+17]])"
      ]
     },
     "execution_count": 64,
     "metadata": {},
     "output_type": "execute_result"
    }
   ],
   "source": [
    " conserv_dict['H']*1.00794 +  conserv_dict['H2']*2.01588"
   ]
  },
  {
   "cell_type": "code",
   "execution_count": 66,
   "metadata": {},
   "outputs": [
    {
     "data": {
      "text/plain": [
       "array([  1.01225924e+14,   1.00625232e+14,   1.00051650e+14,\n",
       "         9.95054973e+13,   9.89866171e+13,   9.84942812e+13,\n",
       "         9.80270898e+13,   9.75856056e+13,   9.71679446e+13,\n",
       "         9.67753872e+13,   9.64051722e+13,   9.60569039e+13,\n",
       "         9.57297360e+13,   9.54222966e+13,   9.51343129e+13,\n",
       "         9.48663179e+13,   9.46127354e+13,   9.43795042e+13,\n",
       "         9.41598235e+13,   9.39535947e+13,   9.37634719e+13,\n",
       "         9.35866649e+13,   9.34217108e+13,   9.32679072e+13,\n",
       "         9.31242653e+13,   9.29915879e+13,   9.28708267e+13,\n",
       "         9.27576909e+13,   9.26499726e+13,   9.25529351e+13,\n",
       "         9.24638252e+13,   9.23758061e+13,   9.23028728e+13,\n",
       "         9.22255676e+13,   9.21647389e+13,   9.20992932e+13,\n",
       "         9.20451234e+13,   9.19922909e+13,   9.19380278e+13,\n",
       "         9.18977921e+13,   9.18542113e+13,   9.18075308e+13,\n",
       "         9.17766563e+13,   9.17432148e+13,   9.17069930e+13,\n",
       "         9.16710324e+13,   9.16473487e+13,   9.16216958e+13,\n",
       "         9.15939102e+13,   9.15638145e+13,   9.15342961e+13,\n",
       "         9.15128124e+13,   9.14895426e+13,   9.14643381e+13,\n",
       "         9.14370381e+13,   9.14074684e+13,   9.13754403e+13,\n",
       "         9.13414729e+13,   9.13054750e+13,   9.12664841e+13,\n",
       "         9.12242516e+13,   9.11785078e+13,   9.11289609e+13,\n",
       "         9.10752947e+13,   9.10171666e+13,   9.09542058e+13,\n",
       "         9.08860104e+13,   9.07891588e+13,   9.06628648e+13,\n",
       "         9.05260706e+13,   9.03779034e+13,   9.02174176e+13,\n",
       "         9.00435889e+13,   8.98553081e+13,   8.96513736e+13,\n",
       "         8.94304840e+13,   8.91912296e+13,   8.89320836e+13,\n",
       "         8.86513921e+13,   8.83473640e+13,   8.80180589e+13,\n",
       "         8.76613753e+13,   8.72750370e+13,   8.69059735e+13,\n",
       "         8.66499159e+13,   8.63725696e+13,   8.60721648e+13,\n",
       "         8.57467842e+13,   8.53943515e+13,   8.50126175e+13,\n",
       "         8.45991461e+13,   8.41512986e+13,   8.36662171e+13,\n",
       "         8.31408058e+13,   8.25717118e+13,   8.19553032e+13,\n",
       "         8.12876464e+13,   8.05644805e+13,   7.97811905e+13,\n",
       "         7.89327778e+13,   7.80138279e+13,   7.70184764e+13,\n",
       "         7.59403713e+13,   7.47726325e+13,   7.35078077e+13,\n",
       "         7.21378252e+13,   7.06539423e+13,   6.90466892e+13,\n",
       "         6.73058090e+13,   6.54201918e+13,   6.33778041e+13,\n",
       "         6.11656122e+13,   5.87813786e+13,   5.87658647e+13,\n",
       "         5.87490609e+13,   5.87308601e+13,   5.87111461e+13,\n",
       "         5.86897930e+13,   5.86666647e+13,   5.86416134e+13,\n",
       "         5.86144794e+13,   5.85850895e+13,   5.85532560e+13,\n",
       "         5.85187760e+13,   5.84814293e+13,   5.84409775e+13,\n",
       "         5.83971627e+13,   5.83497050e+13,   5.82983017e+13,\n",
       "         5.82426247e+13,   5.81823187e+13,   5.81169989e+13,\n",
       "         5.80462484e+13,   5.79696157e+13,   5.78866117e+13,\n",
       "         5.77967068e+13,   5.76993272e+13,   5.75938514e+13,\n",
       "         5.74796064e+13,   5.73558630e+13,   5.72218315e+13,\n",
       "         5.70766567e+13,   5.69194121e+13,   5.67490941e+13,\n",
       "         5.65646158e+13,   5.63648000e+13,   5.61483715e+13,\n",
       "         5.59139491e+13,   5.56600368e+13,   5.53850143e+13,\n",
       "         5.50871263e+13,   5.47644719e+13,   5.44149919e+13,\n",
       "         5.40364562e+13,   5.36264490e+13,   5.33907953e+13,\n",
       "         5.32906129e+13,   5.31821013e+13,   5.30645681e+13,\n",
       "         5.29372631e+13,   5.27993740e+13,   5.26500207e+13,\n",
       "         5.24882503e+13,   5.23130301e+13,   5.21232422e+13,\n",
       "         5.19176753e+13,   5.16894380e+13,   5.14383315e+13,\n",
       "         5.11663480e+13,   5.08717518e+13,   5.05526627e+13,\n",
       "         5.02103748e+13,   4.98633109e+13,   4.94873920e+13,\n",
       "         4.90802192e+13,   4.86427799e+13,   4.81982011e+13,\n",
       "         4.77166600e+13,   4.71950835e+13,   4.66663138e+13,\n",
       "         4.60991318e+13,   4.54904447e+13,   4.48747219e+13,\n",
       "         4.42078079e+13,   4.35267116e+13,   4.28067040e+13,\n",
       "         4.20609830e+13,   4.12835550e+13,   4.04822216e+13,\n",
       "         3.96472566e+13,   3.88374207e+13,   3.79983099e+13,\n",
       "         3.71837175e+13,   3.63321776e+13,   3.54560712e+13,\n",
       "         3.45801454e+13,   3.36779259e+13,   3.27548257e+13,\n",
       "         3.18524621e+13,   3.09376677e+13,   3.00185069e+13,\n",
       "         2.91131962e+13,   2.82698700e+13,   2.74460778e+13,\n",
       "         2.66218296e+13,   2.57993864e+13,   2.49951581e+13,\n",
       "         2.42082926e+13,   2.34181540e+13,   2.26430073e+13,\n",
       "         2.19250886e+13,   2.12530457e+13,   2.06029212e+13,\n",
       "         1.99733768e+13,   1.93543285e+13,   1.87477980e+13,\n",
       "         1.81608758e+13,   1.75944727e+13,   1.70809963e+13,\n",
       "         1.66039927e+13,   1.61526133e+13,   1.57167260e+13,\n",
       "         1.52944994e+13,   1.48846607e+13,   1.44871311e+13,\n",
       "         1.41208817e+13,   1.37880997e+13,   1.34768728e+13,\n",
       "         1.31851770e+13,   1.29078559e+13,   1.26426009e+13,\n",
       "         1.23882914e+13,   1.21519157e+13,   1.19359850e+13,\n",
       "         1.17372615e+13,   1.15529904e+13,   1.13811022e+13,\n",
       "         1.12201263e+13,   1.10694030e+13,   1.09318405e+13,\n",
       "         1.08071511e+13,   1.06935121e+13,   1.05897170e+13,\n",
       "         1.04945939e+13,   1.04079949e+13,   1.03305647e+13,\n",
       "         1.02612554e+13,   1.01991114e+13,   1.01433665e+13,\n",
       "         1.00939324e+13,   1.00502344e+13,   1.00115890e+13,\n",
       "         9.97745234e+12,   9.94749736e+12,   9.92120801e+12,\n",
       "         9.89814528e+12,   9.87798054e+12,   9.86034812e+12,\n",
       "         9.84494174e+12,   9.83148976e+12,   9.81974258e+12,\n",
       "         9.80948998e+12,   9.80053706e+12,   9.79272046e+12,\n",
       "         9.78589216e+12,   9.77992649e+12,   9.77471116e+12,\n",
       "         9.77015044e+12,   9.76615964e+12,   9.76266620e+12,\n",
       "         9.75960576e+12,   9.75692388e+12,   9.75457150e+12,\n",
       "         9.75250772e+12,   9.75069529e+12,   9.74910348e+12,\n",
       "         9.74770392e+12,   9.74647317e+12,   9.74538998e+12,\n",
       "         9.74443636e+12,   9.74359635e+12,   9.74285611e+12,\n",
       "         9.74220371e+12,   9.74162837e+12,   9.74112119e+12,\n",
       "         9.74067388e+12,   9.74027951e+12,   9.73993196e+12,\n",
       "         9.73962576e+12,   9.73935632e+12,   9.73911941e+12,\n",
       "         9.73891149e+12,   9.73872937e+12,   9.73857027e+12,\n",
       "         9.73843179e+12,   9.73831176e+12,   9.73820835e+12,\n",
       "         9.73811990e+12,   9.73804495e+12,   9.73798452e+12])"
      ]
     },
     "execution_count": 66,
     "metadata": {},
     "output_type": "execute_result"
    }
   ],
   "source": [
    "conserv_dict['He'][300]"
   ]
  },
  {
   "cell_type": "code",
   "execution_count": 36,
   "metadata": {},
   "outputs": [
    {
     "data": {
      "text/plain": [
       "array([[  1.00000000e-02,   1.14405804e-02,   1.30886879e-02, ...,\n",
       "          2.28598099e+15,   2.61529492e+15,   2.96012391e+15],\n",
       "       [  1.00000000e-02,   1.14405804e-02,   1.30886879e-02, ...,\n",
       "          2.28598099e+15,   2.61529492e+15,   2.97392125e+15],\n",
       "       [  1.00000000e-02,   1.14405804e-02,   1.30886879e-02, ...,\n",
       "          2.28598099e+15,   2.61529492e+15,   2.98331937e+15],\n",
       "       ..., \n",
       "       [  1.00000000e-02,   1.06745044e-02,   1.13945045e-02, ...,\n",
       "          2.62587038e+06,   2.80298649e+06,   2.95527536e+06],\n",
       "       [  1.00000000e-02,   1.06745044e-02,   1.13945045e-02, ...,\n",
       "          2.62587038e+06,   2.80298649e+06,   2.97657278e+06],\n",
       "       [  1.00000000e-02,   1.06745044e-02,   1.13945045e-02, ...,\n",
       "          2.62587038e+06,   2.80298649e+06,   2.97784885e+06]])"
      ]
     },
     "execution_count": 36,
     "metadata": {},
     "output_type": "execute_result"
    }
   ],
   "source": [
    "\n",
    "\n",
    "\n",
    "plot_performance(Tdim, Ddim, temp_arr,den_arr, time_taken, \n",
    "                title='grackle_run_time', performance = False, total_t = total_t, log=False)    "
   ]
  },
  {
   "cell_type": "code",
   "execution_count": 26,
   "metadata": {},
   "outputs": [],
   "source": [
    "def plot_performance(Tdim, Ddim, temp_arr,den_arr, time_taken, title=None, performance=True, log=True, total_t = total_t):\n",
    "\n",
    "    \n",
    "    temp_2d, den_2d = numpy.meshgrid(temp_arr, den_arr)\n",
    "    \n",
    "    time_taken_mat = numpy.array(time_taken).reshape((Ddim,Tdim))\n",
    "    \n",
    "    if performance:\n",
    "        fig, ax = plt.subplots(1,2, figsize = (16,8))\n",
    "        \n",
    "        pcm = ax[0].pcolor( temp_2d, den_2d, total_t_mat)\n",
    "        fig.colorbar(pcm, ax=ax[0], extend='max')\n",
    "\n",
    "\n",
    "        ax[0].set_xscale('log')\n",
    "        ax[0].set_yscale('log')\n",
    "        ax[0].set_xlabel('Temperature (K)')\n",
    "        ax[0].set_ylabel('Density ($cm^{-3}$)')\n",
    "        \n",
    "        if log:\n",
    "            pcm = ax[1].pcolor( temp_2d, den_2d, time_taken_mat,\n",
    "                              norm=colors.LogNorm(vmin=time_taken_mat.min(), vmax=time_taken_mat.max()))\n",
    "        else:\n",
    "            pcm = ax[1].pcolor( temp_2d, den_2d, time_taken_mat)\n",
    "        fig.colorbar(pcm, ax=ax[1], extend='max')\n",
    "\n",
    "        ax[1].set_xscale('log')\n",
    "        ax[1].set_yscale('log')\n",
    "        ax[1].set_xlabel('Temperature (K)')\n",
    "        ax[1].set_ylabel('Density ($cm^{-3}$)')\n",
    "        if title != None:\n",
    "            ax[0].set_title(title+' time evolved ')\n",
    "            ax[1].set_title(title+' run time')\n",
    "\n",
    "        plt.show()\n",
    "    else:\n",
    "        fig, ax = plt.subplots(1,1, figsize = (8,8))\n",
    "        if log:\n",
    "            pcm = ax.pcolor( temp_2d, den_2d, time_taken_mat,\n",
    "                              norm=colors.LogNorm(vmin=time_taken_mat.min(), vmax=time_taken_mat.max()))\n",
    "        else:        \n",
    "            pcm = ax.pcolor( temp_2d, den_2d, time_taken_mat)\n",
    "        fig.colorbar(pcm, ax=ax, extend='max')\n",
    "\n",
    "        ax.set_xscale('log')\n",
    "        ax.set_yscale('log')\n",
    "        ax.set_xlabel('Temperature (K)')\n",
    "        ax.set_ylabel('Density ($cm^{-3}$)')\n",
    "        if title != None:\n",
    "            ax.set_title(title)\n",
    "\n",
    "        plt.show()"
   ]
  },
  {
   "cell_type": "code",
   "execution_count": null,
   "metadata": {
    "collapsed": true
   },
   "outputs": [],
   "source": []
  }
 ],
 "metadata": {
  "kernelspec": {
   "display_name": "Python 2",
   "language": "python",
   "name": "python2"
  },
  "language_info": {
   "codemirror_mode": {
    "name": "ipython",
    "version": 2
   },
   "file_extension": ".py",
   "mimetype": "text/x-python",
   "name": "python",
   "nbconvert_exporter": "python",
   "pygments_lexer": "ipython2",
   "version": "2.7.13"
  }
 },
 "nbformat": 4,
 "nbformat_minor": 2
}
