{
 "cells": [
  {
   "cell_type": "code",
   "execution_count": 1,
   "metadata": {
    "collapsed": true
   },
   "outputs": [],
   "source": [
    "import h5py\n",
    "import numpy\n",
    "import matplotlib.pyplot as plt\n",
    "import matplotlib.colors as colors"
   ]
  },
  {
   "cell_type": "code",
   "execution_count": null,
   "metadata": {},
   "outputs": [],
   "source": [
    "f = h5py.File('data_grackle.hdf5')\n",
    "f.keys()"
   ]
  },
  {
   "cell_type": "code",
   "execution_count": null,
   "metadata": {},
   "outputs": [],
   "source": [
    "Tdim = f['Tdim'].value\n",
    "Ddim = f['Ddim'].value\n",
    "den_arr = f['density'].value\n",
    "temp_arr = f['temperature'].value\n",
    "total_t = f['total_t'].value\n",
    "\n",
    "t_arr = numpy.zeros((400,300))\n",
    "for i in range(400):\n",
    "    t_arr[i,:] = numpy.logspace(-2 , numpy.log10(total_t[i]),300)\n",
    "\n",
    "\n",
    "time_taken = f['time_taken'].value\n",
    "\n",
    "\n",
    "logmin_temp, logmax_temp = numpy.log10(temp_arr.min()), numpy.log10(temp_arr.max())\n",
    "logmin_den , logmax_den  = numpy.log10(den_arr.min()) , numpy.log10(den_arr.max())\n",
    "\n",
    "dlogtemp = ( logmax_temp - logmin_temp )/ Tdim /2.0\n",
    "dlogden  = ( logmax_den  - logmin_den )/ Ddim / 2.0\n",
    "temp_arr = numpy.logspace( logmin_temp - dlogtemp , logmax_temp + dlogtemp , Tdim + 1 )\n",
    "den_arr  = numpy.logspace( logmin_den - dlogden, logmax_den + dlogden, Ddim + 1 )\n",
    "\n",
    "\n",
    "plot_performance(Tdim, Ddim, temp_arr,den_arr, time_taken, \n",
    "                title='grackle_run_time', performance = False, total_t = total_t, log=False)    "
   ]
  },
  {
   "cell_type": "code",
   "execution_count": null,
   "metadata": {},
   "outputs": [],
   "source": [
    "zeros = numpy.zeros((400,300))\n",
    "conserv_dict = {'H': zeros, \n",
    "                'H2':zeros,\n",
    "                'He':zeros, \n",
    "                'de':zeros}\n",
    "\n",
    "for key in f.keys():\n",
    "    ele_charge = key.split('_')\n",
    "    if ele_charge[0] in ['H', 'He']:\n",
    "        \n",
    "        name = ele_charge[0]\n",
    "        conserv_dict[name] += f[key].value\n",
    "        try:\n",
    "            charge = eval(ele_charge[1]) - 1\n",
    "            conserv_dict['de'] += charge*f[key].value\n",
    "        except:\n",
    "            if ele_charge[1][0] == 'm':             \n",
    "                charge = eval(ele_charge[1][1]) - 1\n",
    "                conserv_dict['de'] += charge*f[key].value"
   ]
  },
  {
   "cell_type": "code",
   "execution_count": null,
   "metadata": {},
   "outputs": [],
   "source": [
    " conserv_dict['H']*1.00794 +  conserv_dict['H2']*2.01588"
   ]
  },
  {
   "cell_type": "code",
   "execution_count": null,
   "metadata": {},
   "outputs": [],
   "source": [
    "conserv_dict['He'][300]"
   ]
  },
  {
   "cell_type": "code",
   "execution_count": null,
   "metadata": {},
   "outputs": [],
   "source": [
    "\n",
    "\n",
    "\n",
    "plot_performance(Tdim, Ddim, temp_arr,den_arr, time_taken, \n",
    "                title='grackle_run_time', performance = False, total_t = total_t, log=False)    "
   ]
  },
  {
   "cell_type": "code",
   "execution_count": null,
   "metadata": {},
   "outputs": [],
   "source": [
    "def plot_performance(Tdim, Ddim, temp_arr,den_arr, time_taken, title=None, performance=True, log=True, total_t = total_t):\n",
    "\n",
    "    \n",
    "    temp_2d, den_2d = numpy.meshgrid(temp_arr, den_arr)\n",
    "    \n",
    "    time_taken_mat = numpy.array(time_taken).reshape((Ddim,Tdim))\n",
    "    \n",
    "    if performance:\n",
    "        fig, ax = plt.subplots(1,2, figsize = (16,8))\n",
    "        \n",
    "        pcm = ax[0].pcolor( temp_2d, den_2d, total_t_mat)\n",
    "        fig.colorbar(pcm, ax=ax[0], extend='max')\n",
    "\n",
    "\n",
    "        ax[0].set_xscale('log')\n",
    "        ax[0].set_yscale('log')\n",
    "        ax[0].set_xlabel('Temperature (K)')\n",
    "        ax[0].set_ylabel('Density ($cm^{-3}$)')\n",
    "        \n",
    "        if log:\n",
    "            pcm = ax[1].pcolor( temp_2d, den_2d, time_taken_mat,\n",
    "                              norm=colors.LogNorm(vmin=time_taken_mat.min(), vmax=time_taken_mat.max()))\n",
    "        else:\n",
    "            pcm = ax[1].pcolor( temp_2d, den_2d, time_taken_mat)\n",
    "        fig.colorbar(pcm, ax=ax[1], extend='max')\n",
    "\n",
    "        ax[1].set_xscale('log')\n",
    "        ax[1].set_yscale('log')\n",
    "        ax[1].set_xlabel('Temperature (K)')\n",
    "        ax[1].set_ylabel('Density ($cm^{-3}$)')\n",
    "        if title != None:\n",
    "            ax[0].set_title(title+' time evolved ')\n",
    "            ax[1].set_title(title+' run time')\n",
    "\n",
    "        plt.show()\n",
    "    else:\n",
    "        fig, ax = plt.subplots(1,1, figsize = (8,8))\n",
    "        if log:\n",
    "            pcm = ax.pcolor( temp_2d, den_2d, time_taken_mat,\n",
    "                              norm=colors.LogNorm(vmin=time_taken_mat.min(), vmax=time_taken_mat.max()))\n",
    "        else:        \n",
    "            pcm = ax.pcolor( temp_2d, den_2d, time_taken_mat)\n",
    "        fig.colorbar(pcm, ax=ax, extend='max')\n",
    "\n",
    "        ax.set_xscale('log')\n",
    "        ax.set_yscale('log')\n",
    "        ax.set_xlabel('Temperature (K)')\n",
    "        ax.set_ylabel('Density ($cm^{-3}$)')\n",
    "        if title != None:\n",
    "            ax.set_title(title)\n",
    "\n",
    "        plt.show()"
   ]
  },
  {
   "cell_type": "code",
   "execution_count": null,
   "metadata": {
    "collapsed": true
   },
   "outputs": [],
   "source": []
  }
 ],
 "metadata": {
  "kernelspec": {
   "display_name": "Python 2",
   "language": "python",
   "name": "python2"
  },
  "language_info": {
   "codemirror_mode": {
    "name": "ipython",
    "version": 2
   },
   "file_extension": ".py",
   "mimetype": "text/x-python",
   "name": "python",
   "nbconvert_exporter": "python",
   "pygments_lexer": "ipython2",
   "version": "2.7.13"
  }
 },
 "nbformat": 4,
 "nbformat_minor": 2
}
