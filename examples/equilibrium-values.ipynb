{
 "cells": [
  {
   "cell_type": "code",
   "execution_count": 1,
   "metadata": {},
   "outputs": [
    {
     "name": "stdout",
     "output_type": "stream",
     "text": [
      " using cli\n",
      " using CLI for selections\n"
     ]
    },
    {
     "data": {
      "text/plain": [
       "(None, <pyximport.pyximport.PyxImporter at 0x7f3e5ad1f510>)"
      ]
     },
     "execution_count": 1,
     "metadata": {},
     "output_type": "execute_result"
    }
   ],
   "source": [
    "import os\n",
    "os.environ['YT_DEST'] = '/home/kwoksun2/anaconda2/pkgs/yt-3.3.5-np111py27_2/'\n",
    "import numpy as np\n",
    "from dengo.chemical_network import \\\n",
    "    ChemicalNetwork, \\\n",
    "    reaction_registry, \\\n",
    "    cooling_registry, species_registry\n",
    "import dengo.primordial_rates, dengo.primordial_cooling\n",
    "from dengo.chemistry_constants import tiny, kboltz, mh\n",
    "import yt\n",
    "import numpy\n",
    "\n",
    "import matplotlib.pyplot as plt\n",
    "\n",
    "import pyximport\n",
    "pyximport.install(setup_args={\"include_dirs\":np.get_include()},\n",
    "                      reload_support=True, inplace=True)\n"
   ]
  },
  {
   "cell_type": "code",
   "execution_count": 2,
   "metadata": {
    "collapsed": true
   },
   "outputs": [],
   "source": [
    "def equil_values(init_values, primordial, t =3.16e13, niter= 1e5, full_output = False):\n",
    "    \n",
    "    !rm sunny*\n",
    "    \n",
    "    primordial.write_solver(\"sunny\", output_dir = \".\",\n",
    "                            init_values=init_values,\n",
    "                            input_is_number=False)\n",
    "\n",
    "    sunny_solver_run = pyximport.load_module(\"sunny_solver_run\",\n",
    "                                \"sunny_solver_run.pyx\",\n",
    "                                build_inplace = True, pyxbuild_dir = \"_dengo_temp\")\n",
    "    rv, rv_int = sunny_solver_run.run_sunny(init_values, t, niter=niter) ;\n",
    "    \n",
    "    mask = rv_int['successful']\n",
    "    \n",
    "    if full_output:\n",
    "        return rv_int, 0\n",
    "    else:\n",
    "        return rv_int['H_1'][:, mask][:,-1] / init_values['density'], rv_int['t'][mask][-1]"
   ]
  },
  {
   "cell_type": "code",
   "execution_count": 3,
   "metadata": {
    "collapsed": true
   },
   "outputs": [],
   "source": [
    "# only two species\n",
    "\n",
    "\n",
    "def Init_values(temperature, density, fH):\n",
    "    \n",
    "    X = 1.0\n",
    "    # initialize and setup the network\n",
    "    dengo.primordial_rates.setup_primordial()\n",
    "    primordial = ChemicalNetwork()\n",
    "\n",
    "    for i in range(23):\n",
    "        try: \n",
    "            if (i+1) not in [3,4,5,6]:\n",
    "                primordial.add_reaction(\"k{0:02d}\".format(i+1))\n",
    "        except:\n",
    "            pass\n",
    "    \n",
    "    \n",
    "    primordial.init_temperature((1e0, 1e5))\n",
    "\n",
    "    tiny = 1e-40\n",
    "\n",
    "    # init_array are is in fractional abundances\n",
    "    init_array = density\n",
    "    init_values = dict()\n",
    "\n",
    "    init_values[\"H_1\"]     = density * fH \n",
    "    init_values['H_2']     = tiny* density * fH\n",
    "    init_values[\"H_m0\"]    = tiny* density * fH\n",
    "\n",
    "    init_values[\"H2_1\"]    = density * (1.0 - fH)\n",
    "    init_values[\"H2_2\"]    = tiny * density * (1 - fH)\n",
    "\n",
    "    # now everything in mass density\n",
    "#    init_values = primordial.convert_to_mass_density(init_values)\n",
    "    init_values['de'] = primordial.calculate_free_electrons(init_values)\n",
    "    # one signle value: again mass density\n",
    "    init_values['density'] = primordial.calculate_total_density(init_values)\n",
    "    number_density = primordial.calculate_number_density(init_values)\n",
    "\n",
    "    # set up initial temperatures values used to define ge\n",
    "    init_values['T'] = temperature\n",
    "\n",
    "    # calculate ge (very crudely, no H2 help here)\n",
    "    gamma = 5.0/3.0\n",
    "    init_values['ge'] = ((temperature * number_density * kboltz)\n",
    "                         / (init_values['density'] * mh * (gamma - 1)))\n",
    "    return init_values, primordial"
   ]
  },
  {
   "cell_type": "code",
   "execution_count": 4,
   "metadata": {
    "collapsed": true
   },
   "outputs": [],
   "source": [
    "def main(fH, temp, den , full_output = False):\n",
    "    \n",
    "    \n",
    "    temp = temp.flatten()\n",
    "    den = den.flatten()\n",
    "    \n",
    "    h_array = numpy.zeros((len(temp), len(den)))\n",
    "    t_array = numpy.zeros((len(den)))\n",
    "    \n",
    "    h_array = []\n",
    "    t_array = []\n",
    "    \n",
    "    print(den)\n",
    "    for iden, den_arr in enumerate(den):\n",
    "        \n",
    "        den_arr = numpy.ones((len(temp)))*den_arr\n",
    "        \n",
    "        init_values, primordial = Init_values(temp, den_arr, fH)\n",
    "        h_array_now, t_array_now = equil_values(init_values, primordial, full_output = full_output)\n",
    "        \n",
    "        h_array.append(h_array_now)\n",
    "        t_array.append(t_array_now)\n",
    "        \n",
    "    return h_array, t_array"
   ]
  },
  {
   "cell_type": "code",
   "execution_count": 5,
   "metadata": {},
   "outputs": [
    {
     "name": "stdout",
     "output_type": "stream",
     "text": [
      "Adding reaction: k01 : 1*H_1 + 1*de => 1*H_2 + 2*de\n",
      "Adding reaction: k02 : 1*H_2 + 1*de => 1*H_1\n",
      "Adding reaction: k07 : 1*H_1 + 1*de => 1*H_m0\n",
      "Adding reaction: k08 : 1*H_m0 + 1*H_1 => 1*H2_1 + 1*de\n",
      "Adding reaction: k09 : 1*H_1 + 1*H_2 => 1*H2_2\n",
      "Adding reaction: k10 : 1*H2_2 + 1*H_1 => 1*H2_1 + 1*H_2\n",
      "Adding reaction: k11 : 1*H2_1 + 1*H_2 => 1*H2_2 + 1*H_1\n",
      "Adding reaction: k12 : 1*H2_1 + 1*de => 2*H_1 + 1*de\n",
      "Adding reaction: k13 : 1*H2_1 + 1*H_1 => 3*H_1\n",
      "Adding reaction: k14 : 1*H_m0 + 1*de => 1*H_1 + 2*de\n",
      "Adding reaction: k15 : 1*H_m0 + 1*H_1 => 2*H_1 + 1*de\n",
      "Adding reaction: k16 : 1*H_m0 + 1*H_2 => 2*H_1\n",
      "Adding reaction: k17 : 1*H_m0 + 1*H_2 => 1*H2_2 + 1*de\n",
      "Adding reaction: k18 : 1*H2_2 + 1*de => 2*H_1\n",
      "Adding reaction: k19 : 1*H2_2 + 1*H_m0 => 1*H_1 + 1*H2_1\n",
      "Adding reaction: k21 : 2*H_1 + 1*H2_1 => 2*H2_1\n",
      "Adding reaction: k22 : 2*H_1 + 1*H_1 => 1*H2_1 + 1*H_1\n",
      "Adding reaction: k23 : 1*H2_1 + 1*H2_1 => 2*H_1 + 1*H2_1\n"
     ]
    },
    {
     "ename": "AttributeError",
     "evalue": "my_network instance has no attribute 'threebody'",
     "output_type": "error",
     "traceback": [
      "\u001b[0;31m---------------------------------------------------------------------------\u001b[0m",
      "\u001b[0;31mAttributeError\u001b[0m                            Traceback (most recent call last)",
      "\u001b[0;32m<ipython-input-5-2978455689c4>\u001b[0m in \u001b[0;36m<module>\u001b[0;34m()\u001b[0m\n\u001b[1;32m     43\u001b[0m \u001b[0;34m\u001b[0m\u001b[0m\n\u001b[1;32m     44\u001b[0m \u001b[0;32mfor\u001b[0m \u001b[0mith_T\u001b[0m \u001b[0;32min\u001b[0m \u001b[0mTemp_array\u001b[0m\u001b[0;34m:\u001b[0m\u001b[0;34m\u001b[0m\u001b[0m\n\u001b[0;32m---> 45\u001b[0;31m     \u001b[0mfH\u001b[0m \u001b[0;34m=\u001b[0m \u001b[0mequi_fH\u001b[0m\u001b[0;34m(\u001b[0m\u001b[0mrho\u001b[0m\u001b[0;34m,\u001b[0m \u001b[0mith_T\u001b[0m\u001b[0;34m)\u001b[0m\u001b[0;34m\u001b[0m\u001b[0m\n\u001b[0m\u001b[1;32m     46\u001b[0m     \u001b[0mh\u001b[0m \u001b[0;34m,\u001b[0m \u001b[0mt\u001b[0m \u001b[0;34m=\u001b[0m \u001b[0mmain\u001b[0m\u001b[0;34m(\u001b[0m\u001b[0mfH\u001b[0m\u001b[0;34m,\u001b[0m \u001b[0mith_T\u001b[0m\u001b[0;34m,\u001b[0m \u001b[0mrho\u001b[0m \u001b[0;34m,\u001b[0m \u001b[0mfull_output\u001b[0m \u001b[0;34m=\u001b[0m \u001b[0mTrue\u001b[0m\u001b[0;34m)\u001b[0m\u001b[0;34m\u001b[0m\u001b[0m\n",
      "\u001b[0;32m<ipython-input-5-2978455689c4>\u001b[0m in \u001b[0;36mequi_fH\u001b[0;34m(rho, T)\u001b[0m\n\u001b[1;32m     22\u001b[0m     \u001b[0mtemp_network\u001b[0m \u001b[0;34m=\u001b[0m \u001b[0mmy_network\u001b[0m\u001b[0;34m(\u001b[0m\u001b[0mT\u001b[0m\u001b[0;34m)\u001b[0m\u001b[0;34m\u001b[0m\u001b[0m\n\u001b[1;32m     23\u001b[0m \u001b[0;34m\u001b[0m\u001b[0m\n\u001b[0;32m---> 24\u001b[0;31m     \u001b[0mk13coeff\u001b[0m\u001b[0;34m,\u001b[0m \u001b[0mk22coeff\u001b[0m \u001b[0;34m=\u001b[0m \u001b[0;34m(\u001b[0m\u001b[0mk13\u001b[0m\u001b[0;34m.\u001b[0m\u001b[0mcoeff_fn\u001b[0m\u001b[0;34m(\u001b[0m\u001b[0mtemp_network\u001b[0m\u001b[0;34m)\u001b[0m\u001b[0;34m,\u001b[0m \u001b[0mk22\u001b[0m\u001b[0;34m.\u001b[0m\u001b[0mcoeff_fn\u001b[0m\u001b[0;34m(\u001b[0m\u001b[0mtemp_network\u001b[0m\u001b[0;34m)\u001b[0m\u001b[0;34m)\u001b[0m\u001b[0;34m\u001b[0m\u001b[0m\n\u001b[0m\u001b[1;32m     25\u001b[0m \u001b[0;34m\u001b[0m\u001b[0m\n\u001b[1;32m     26\u001b[0m \u001b[0;34m\u001b[0m\u001b[0m\n",
      "\u001b[0;32m/home/kwoksun2/anaconda2/lib/python2.7/site-packages/dengo-0.1-py2.7.egg/dengo/primordial_rates.pyc\u001b[0m in \u001b[0;36mrxn\u001b[0;34m(state)\u001b[0m\n\u001b[1;32m    257\u001b[0m \u001b[0;34m\u001b[0m\u001b[0m\n\u001b[1;32m    258\u001b[0m         \u001b[0;31m# the threebody flag followed the convention coined in grackle\u001b[0m\u001b[0;34m\u001b[0m\u001b[0;34m\u001b[0m\u001b[0m\n\u001b[0;32m--> 259\u001b[0;31m         \u001b[0;32mif\u001b[0m \u001b[0mstate\u001b[0m\u001b[0;34m.\u001b[0m\u001b[0mthreebody\u001b[0m \u001b[0;34m==\u001b[0m \u001b[0;36m0\u001b[0m\u001b[0;34m:\u001b[0m\u001b[0;34m\u001b[0m\u001b[0m\n\u001b[0m\u001b[1;32m    260\u001b[0m             \u001b[0m_i1\u001b[0m \u001b[0;34m=\u001b[0m \u001b[0;34m(\u001b[0m\u001b[0mstate\u001b[0m\u001b[0;34m.\u001b[0m\u001b[0mT\u001b[0m \u001b[0;34m>\u001b[0m \u001b[0;36m300.0\u001b[0m\u001b[0;34m)\u001b[0m\u001b[0;34m\u001b[0m\u001b[0m\n\u001b[1;32m    261\u001b[0m             \u001b[0m_i2\u001b[0m \u001b[0;34m=\u001b[0m \u001b[0;34m~\u001b[0m\u001b[0m_i1\u001b[0m\u001b[0;34m\u001b[0m\u001b[0m\n",
      "\u001b[0;31mAttributeError\u001b[0m: my_network instance has no attribute 'threebody'"
     ]
    }
   ],
   "source": [
    "class my_network:\n",
    "    def __init__(self, T):\n",
    "        self.T = T\n",
    "\n",
    "from sympy import *\n",
    "\n",
    "def equi_fH(rho, T):\n",
    "    \n",
    "    \n",
    "    init, network = Init_values(T,rho, 0.0)\n",
    "    \n",
    "    # for i in network.required_species:\n",
    "    #     print(network.print_ccode(i))\n",
    "    #     for j in network.required_species:\n",
    "    #         print(network.print_jacobian_component(i,j))\n",
    "\n",
    "    mH = 1.0\n",
    "\n",
    "    k13 = (network.reactions['k13'])\n",
    "    k22 = (network.reactions['k22'])\n",
    "\n",
    "    temp_network = my_network(T)\n",
    "\n",
    "    k13coeff, k22coeff = (k13.coeff_fn(temp_network), k22.coeff_fn(temp_network))\n",
    "    \n",
    "\n",
    "    k13s, k22s, fHs, rhos = symbols(\" k13 k22 fH rho\")\n",
    "    expr = k13s*(1 - fHs) /2 - k22s*fHs*fHs*rhos\n",
    "    known_vals = [ (k13s, k13coeff), (k22s, k22coeff), (rhos, rho) ]\n",
    "    new_expr = expr.subs(known_vals)\n",
    "    new_expr_poly = Poly(new_expr, fHs)\n",
    "    print('Temperature now: {} K'.format(T))\n",
    "    poly_coeff = (new_expr_poly.coeffs())\n",
    "    ans = numpy.roots(poly_coeff)\n",
    "    print('fH: {}'.format(ans[ans>0]) )\n",
    "    return ans[ans>0]\n",
    "\n",
    "Temp_array = numpy.logspace(2, 4, 10)\n",
    "\n",
    "Temp_array = numpy.array([5.0e3])\n",
    "# in atomic mass unit! not grams\n",
    "rho = numpy.array([1e20])\n",
    "\n",
    "for ith_T in Temp_array:\n",
    "    fH = equi_fH(rho, ith_T)\n",
    "    h , t = main(fH, ith_T, rho , full_output = True)"
   ]
  },
  {
   "cell_type": "code",
   "execution_count": null,
   "metadata": {},
   "outputs": [],
   "source": [
    "con_not_con = 'not-conserved'\n",
    "\n",
    "mask = h[0]['successful']\n",
    "t = h[0]['t'][mask]\n",
    "dt = h[0]['dt'][mask]\n",
    "\n",
    "plt.clf()\n",
    "skip_list = ['dt', 'ge', 'successful', 't']\n",
    "hydrogen_list = ['H_1','H_2','H2_1','H2_2','H_m0']\n",
    "\n",
    "total_e = numpy.zeros((len(t)))\n",
    "init, network = Init_values(5e3,1e15, 0.0)\n",
    "\n",
    "for j in network.required_species:\n",
    "    if j.name in h[0].keys() and j.name not in skip_list:\n",
    "        total_e += h[0][j.name][0][mask]  * j.free_electrons\n",
    "\n",
    "total_Hatoms = numpy.zeros((len(t)))\n",
    "for j in network.required_species:\n",
    "    if j.name in hydrogen_list:\n",
    "        total_Hatoms += h[0][j.name][0][mask] *j.weight\n",
    "\n",
    "\n",
    "        \n",
    "f, axarr = plt.subplots(3, sharex=True, figsize=(10,15))\n",
    "        \n",
    "for i in h[0].keys():\n",
    "    if i not in skip_list:\n",
    "        print(i)\n",
    "        hi = h[0][i][0][mask]\n",
    "        axarr[0].loglog(t,hi/hi[0], label=i) \n",
    "\n",
    "\n",
    "        \n",
    "\n",
    "h1 = h[0]['H_1'][0][mask]\n",
    "h2 = h[0]['H2_1'][0][mask]\n",
    "#de = h[0]['de'][0][mask]\n",
    "\n",
    "axarr[0].set_title('Temperature: {} K     Density: {} per cc   with {} iterations'.format(Temp_array[0],  rho[0], 1e5))\n",
    "axarr[0].set_xlabel('Time (s)')\n",
    "axarr[0].set_ylabel('Species abundances (normalized by initial values)')\n",
    "axarr[0].loglog(t,dt/dt[0], label='dt')\n",
    "\n",
    "if con_not_con == 'not-conserved':\n",
    "    \n",
    "    de = h[0]['de'][0][mask]\n",
    "    axarr[0].loglog(t, total_e/de, label='de normalized by those from species', ls = '--', color = 'r')\n",
    "\n",
    "axarr[0].legend(loc='best',fontsize='x-small')\n",
    "# plt.savefig(con_not_con+'-species-norm-nHe20.png')\n",
    "\n",
    "\n",
    "for i in h[0].keys():\n",
    "    if i not in skip_list:\n",
    "        print(i)\n",
    "        hi = h[0][i][0][mask]\n",
    "        axarr[1].loglog(t,hi, label=i) \n",
    "\n",
    "\n",
    "#axarr[1].set_xlim(1e-9, 1e10)\n",
    "\n",
    "h1 = h[0]['H_1'][0][mask]\n",
    "h2 = h[0]['H2_1'][0][mask]\n",
    "\n",
    "\n",
    "\n",
    "axarr[1].set_xlabel('Time (s)')\n",
    "axarr[1].set_ylabel('Species abundances')\n",
    "axarr[1].loglog(t,dt, label='dt')\n",
    "axarr[1].loglog(t, total_e, label='de (from species)', ls = '--', color = 'r')\n",
    "\n",
    "axarr[1].legend(loc='best',fontsize='x-small')\n",
    "# plt.savefig(con_not_con+'-species-nHe20.png')\n",
    "\n",
    "\n",
    "if con_not_con == 'not-conserved':\n",
    "    \n",
    "    de = h[0]['de'][0][mask]\n",
    "    axarr[2].semilogx(t, (total_e/de) , label='de normalized by those from species', ls = '--', color = 'r')\n",
    "\n",
    "\n",
    "axarr[2].plot(t, h1/total_Hatoms, label=\"f(H)\" )\n",
    "axarr[2].set_xlabel('Time (s)')\n",
    "axarr[2].set_ylabel('mass ratio of Hydrogen atom (fH)')\n",
    "axarr[2].legend()\n",
    "f.savefig(con_not_con+'nHe20.png')"
   ]
  },
  {
   "cell_type": "code",
   "execution_count": null,
   "metadata": {},
   "outputs": [],
   "source": [
    "from IPython.display import Image\n",
    "Image(con_not_con+'nHe20.png')"
   ]
  },
  {
   "cell_type": "code",
   "execution_count": null,
   "metadata": {},
   "outputs": [],
   "source": [
    "flag = (result_H[0][0]['successful'])\n",
    "\n",
    "valid_results = result_H[0][0]\n",
    "total_e = numpy.zeros((len(flag[flag])))\n",
    "\n",
    "for s in network.required_species:\n",
    "    \n",
    "    species_now = numpy.array((valid_results[s.name][0][flag]))\n",
    "    \n",
    "    if s.name in ['de', 'ge']: continue        \n",
    "    total_e += species_now * s.free_electrons\n",
    "    print(s.name, species_now[-1] , s.free_electrons)\n",
    "\n",
    "try:\n",
    "    plt.semilogx( valid_results['t'][flag] , (valid_results['de'][0][flag])/total_e, label='ratio of de to the actual charge')\n",
    "except:\n",
    "    pass\n",
    "#plt.scatter(valid_results['t'][flag] , total_e, color = 'r')\n",
    "#plt.semilogx( valid_results['t'][flag] , valid_results['H_m0'][0][flag] / max(valid_results['H_m0'][0][flag]),label='H_m0 (relative to max)')\n",
    "#plt.semilogx( valid_results['t'][flag] , valid_results['H2_2'][0][flag] / max(valid_results['H2_2'][0][flag]),label='H2_2 (relative to max)')\n",
    "plt.legend()\n",
    "plt.show()"
   ]
  },
  {
   "cell_type": "code",
   "execution_count": null,
   "metadata": {
    "collapsed": true,
    "scrolled": false
   },
   "outputs": [],
   "source": [
    "from matplotlib import cm\n",
    "import matplotlib.pyplot as plt\n",
    "\n",
    "cm_section = numpy.linspace(0,1.0, len( result_H[0][0].keys()))\n",
    "colors = [cm.jet(x) for x in cm_section ]\n",
    "\n",
    "abase = result_H[0][0]\n",
    "\n",
    "tol = [1e-6,1e-3,1.0]\n",
    "\n",
    "for i in [0,1,2]:\n",
    "    \n",
    "    \n",
    "    plt.clf()\n",
    "    plt.figure(figsize = (8,8))\n",
    "\n",
    "    ls = ['-', '--', ':','-.']\n",
    "    a = result_H[i][0]\n",
    "    skip_list = ['t', 'successful', 'dt', 'ge']\n",
    "    icolor = 0\n",
    "    for key in a.keys():\n",
    "        if key not in skip_list:\n",
    "            baseb = (abase[key])\n",
    "            mask = a['successful']\n",
    "            b = (a[key][0][mask])\n",
    "            t = (a['t'][mask])\n",
    "            plt.loglog(t, (b)/b[0], label = key, ls = ls[i], color= colors[icolor])\n",
    "        icolor = icolor + 1\n",
    "\n",
    "    plt.scatter(t, a['dt'][mask] / a['dt'][mask][0],label='dt')\n",
    "    plt.ylim(1e-2,1e2)\n",
    "    plt.xlim((0 ,1e13))\n",
    "    \n",
    "    plt.plot(t, total_e/a['de'][0][mask], color='r', ls = '--')\n",
    "#    plt.plot(t, a['de'][0][mask], color='g', ls = '--')\n",
    "    \n",
    "#    plt.title('atol = {}'.format( tol[i]))\n",
    "\n",
    "    plt.legend(loc='upper right',fontsize = 'x-small')\n",
    "    plt.show()"
   ]
  },
  {
   "cell_type": "code",
   "execution_count": null,
   "metadata": {
    "collapsed": true
   },
   "outputs": [],
   "source": []
  },
  {
   "cell_type": "code",
   "execution_count": null,
   "metadata": {
    "collapsed": true
   },
   "outputs": [],
   "source": [
    "hehe.T"
   ]
  },
  {
   "cell_type": "code",
   "execution_count": null,
   "metadata": {
    "collapsed": true
   },
   "outputs": [],
   "source": [
    "from sympy import *\n",
    "\n",
    "k13s, k22s, fHs, rhos = symbols(\" k13 k22 fH rho\")\n",
    "expr = k13s*(1 - fHs) /2 - k22s*fHs*fHs*rhos\n",
    "known_vals = [ (k13s, k13coeff), (k22s, k22coeff), (rhos, rho) ]\n",
    "new_expr = expr.subs(known_vals)"
   ]
  },
  {
   "cell_type": "code",
   "execution_count": null,
   "metadata": {
    "collapsed": true
   },
   "outputs": [],
   "source": [
    "print(new_expr)\n",
    "f = lambdify(fHs, new_expr, 'numpy')\n",
    "f(0.1)"
   ]
  },
  {
   "cell_type": "code",
   "execution_count": null,
   "metadata": {
    "collapsed": true
   },
   "outputs": [],
   "source": [
    "numpy.roots([-1.37064198972626e-38, 1.48658174786701e-11,1.48658174786701e-11])"
   ]
  },
  {
   "cell_type": "code",
   "execution_count": null,
   "metadata": {
    "collapsed": true
   },
   "outputs": [],
   "source": [
    "rho"
   ]
  },
  {
   "cell_type": "code",
   "execution_count": null,
   "metadata": {
    "collapsed": true
   },
   "outputs": [],
   "source": [
    "k22coeff"
   ]
  },
  {
   "cell_type": "code",
   "execution_count": null,
   "metadata": {
    "collapsed": true
   },
   "outputs": [],
   "source": [
    "from IPython.display import Image\n",
    "\n",
    "Image(filename='trytry.png')"
   ]
  },
  {
   "cell_type": "code",
   "execution_count": null,
   "metadata": {
    "collapsed": true
   },
   "outputs": [],
   "source": [
    "h1 = h[0]['Ju']\n",
    "h1[:,mask].shape\n",
    "sp_arr = [sp.name for sp in sorted(network.required_species)]\n",
    "\n",
    "jacs = h1[:,mask]"
   ]
  },
  {
   "cell_type": "code",
   "execution_count": null,
   "metadata": {},
   "outputs": [],
   "source": [
    "from ipywidgets import interact\n",
    "def jac_plot(i):\n",
    "    plt.imshow( numpy.log( numpy.abs(jacs[:,i].reshape(7, 7)) ) ,origin='lower')\n",
    "    plt.colorbar()\n",
    "    plt.xticks(range(7), sp_arr)\n",
    "    plt.yticks(range(7), sp_arr)\n",
    "    plt.show()\n",
    "    \n",
    "    plt.hist(jacs[:,i])\n",
    "    plt.show()\n",
    "interact(jac_plot, i = (0, h1[:,mask].shape[1]))"
   ]
  },
  {
   "cell_type": "code",
   "execution_count": null,
   "metadata": {
    "collapsed": true
   },
   "outputs": [],
   "source": []
  },
  {
   "cell_type": "code",
   "execution_count": null,
   "metadata": {
    "collapsed": true
   },
   "outputs": [],
   "source": [
    "hm0 = h[0]['H_m0'][0][mask]\n",
    "de = h[0]['de'][0][mask]\n"
   ]
  },
  {
   "cell_type": "code",
   "execution_count": null,
   "metadata": {
    "collapsed": true
   },
   "outputs": [],
   "source": [
    "plt.plot(t, hm0/de)\n",
    "plt.plot(t, total_e/de)\n",
    "\n",
    "plt.show()"
   ]
  },
  {
   "cell_type": "code",
   "execution_count": null,
   "metadata": {
    "collapsed": true
   },
   "outputs": [],
   "source": [
    "a = network.reactions['k01']"
   ]
  },
  {
   "cell_type": "code",
   "execution_count": null,
   "metadata": {},
   "outputs": [],
   "source": [
    "class my_network:\n",
    "    def __init__(self, T):\n",
    "        self.T = T\n",
    "\n",
    "from sympy import *\n",
    "\n",
    "def equi_fH(rho, T):\n",
    "    \n",
    "    \n",
    "    init, network = Init_values(T,rho, 0.0)\n",
    "    \n",
    "    # for i in network.required_species:\n",
    "    #     print(network.print_ccode(i))\n",
    "    #     for j in network.required_species:\n",
    "    #         print(network.print_jacobian_component(i,j))\n",
    "\n",
    "    mH = 1.0\n",
    "\n",
    "    k13 = (network.reactions['k13'])\n",
    "    k22 = (network.reactions['k22'])\n",
    "\n",
    "    temp_network = my_network(T)\n",
    "\n",
    "    k13coeff, k22coeff = (k13.coeff_fn(temp_network), k22.coeff_fn(temp_network))\n",
    "    \n",
    "\n",
    "    k13s, k22s, fHs, rhos = symbols(\" k13 k22 fH rho\")\n",
    "    expr = k13s*(1 - fHs) /2 - k22s*fHs*fHs*rhos\n",
    "    known_vals = [ (k13s, k13coeff), (k22s, k22coeff), (rhos, rho) ]\n",
    "    new_expr = expr.subs(known_vals)\n",
    "    new_expr_poly = Poly(new_expr, fHs)\n",
    "    print('Temperature now: {} K'.format(T))\n",
    "    poly_coeff = (new_expr_poly.coeffs())\n",
    "    ans = numpy.roots(poly_coeff)\n",
    "    print('fH: {}'.format(ans[ans>0]) )\n",
    "    return ans[ans>0]\n",
    "\n",
    "Temp_array = numpy.logspace(2, 4, 10)\n",
    "\n",
    "Temp_array = numpy.array([3.0e3])\n",
    "# in atomic mass unit! not grams\n",
    "rho = numpy.array([1e20])\n",
    "\n",
    "for ith_T in Temp_array:\n",
    "    fH = equi_fH(rho, ith_T)\n",
    "    h , t = main(fH, ith_T, rho , full_output = True)"
   ]
  },
  {
   "cell_type": "code",
   "execution_count": null,
   "metadata": {
    "collapsed": true
   },
   "outputs": [],
   "source": []
  }
 ],
 "metadata": {
  "kernelspec": {
   "display_name": "Python 2",
   "language": "python",
   "name": "python2"
  },
  "language_info": {
   "codemirror_mode": {
    "name": "ipython",
    "version": 2
   },
   "file_extension": ".py",
   "mimetype": "text/x-python",
   "name": "python",
   "nbconvert_exporter": "python",
   "pygments_lexer": "ipython2",
   "version": "2.7.13"
  }
 },
 "nbformat": 4,
 "nbformat_minor": 2
}
