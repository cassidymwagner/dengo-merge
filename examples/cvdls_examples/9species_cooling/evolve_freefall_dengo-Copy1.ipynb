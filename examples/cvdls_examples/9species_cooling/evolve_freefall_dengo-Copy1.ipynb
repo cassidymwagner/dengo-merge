{
 "cells": [
  {
   "cell_type": "code",
   "execution_count": 1,
   "metadata": {},
   "outputs": [
    {
     "name": "stdout",
     "output_type": "stream",
     "text": [
      " using cli\n",
      " using CLI for selections\n"
     ]
    }
   ],
   "source": [
    "import os\n",
    "os.environ['YT_DEST'] = '/home/kwoksun2/anaconda2/pkgs/yt-3.3.5-np111py27_2/'\n",
    "import numpy as np\n",
    "from dengo.chemical_network import \\\n",
    "    ChemicalNetwork, \\\n",
    "    reaction_registry, \\\n",
    "    cooling_registry, species_registry\n",
    "import dengo.primordial_rates, dengo.primordial_cooling\n",
    "from dengo.chemistry_constants import tiny, kboltz, mh\n",
    "import yt\n",
    "import yt.units as u\n",
    "import numpy\n",
    "import pickle\n",
    "import pyximport\n",
    "import h5py\n",
    "import timeit\n",
    "import time\n",
    "from generate_dls_cooling_network import create_cvdls_solver, Init_values\n",
    "import matplotlib.pyplot as plt"
   ]
  },
  {
   "cell_type": "code",
   "execution_count": 2,
   "metadata": {},
   "outputs": [],
   "source": [
    "import os, sys\n",
    "\n",
    "class HidePrints:\n",
    "    def __enter__(self):\n",
    "        self._original_stdout = sys.stdout\n",
    "        sys.stdout = open(os.devnull, 'w')\n",
    "\n",
    "    def __exit__(self, exc_type, exc_val, exc_tb):\n",
    "        sys.stdout = self._original_stdout"
   ]
  },
  {
   "cell_type": "markdown",
   "metadata": {},
   "source": [
    "# Evolve Free Fall Parcel\n",
    "\n",
    "1. let the gas cool at constant density from the starting temperature down to a lower temperature to get the species fractions in a resonable state\n",
    "2. evolve density and temperature according to freefall collapse"
   ]
  },
  {
   "cell_type": "code",
   "execution_count": 3,
   "metadata": {},
   "outputs": [
    {
     "name": "stdout",
     "output_type": "stream",
     "text": [
      "Adding reaction: k01 : 1*H_1 + 1*de => 1*H_2 + 2*de\n",
      "Adding reaction: k02 : 1*H_2 + 1*de => 1*H_1\n",
      "Adding reaction: k03 : 1*He_1 + 1*de => 1*He_2 + 2*de\n",
      "Adding reaction: k04 : 1*He_2 + 1*de => 1*He_1\n",
      "Adding reaction: k05 : 1*He_2 + 1*de => 1*He_3 + 2*de\n",
      "Adding reaction: k06 : 1*He_3 + 1*de => 1*He_2\n",
      "Adding reaction: k07 : 1*H_1 + 1*de => 1*H_m0\n",
      "Adding reaction: k08 : 1*H_m0 + 1*H_1 => 1*H2_1 + 1*de\n",
      "Adding reaction: k09 : 1*H_1 + 1*H_2 => 1*H2_2\n",
      "Adding reaction: k10 : 1*H2_2 + 1*H_1 => 1*H2_1 + 1*H_2\n",
      "Adding reaction: k11 : 1*H2_1 + 1*H_2 => 1*H2_2 + 1*H_1\n",
      "Adding reaction: k12 : 1*H2_1 + 1*de => 2*H_1 + 1*de\n",
      "Adding reaction: k13 : 1*H2_1 + 1*H_1 => 3*H_1\n",
      "Adding reaction: k14 : 1*H_m0 + 1*de => 1*H_1 + 2*de\n",
      "Adding reaction: k15 : 1*H_m0 + 1*H_1 => 2*H_1 + 1*de\n",
      "Adding reaction: k16 : 1*H_m0 + 1*H_2 => 2*H_1\n",
      "Adding reaction: k17 : 1*H_m0 + 1*H_2 => 1*H2_2 + 1*de\n",
      "Adding reaction: k18 : 1*H2_2 + 1*de => 2*H_1\n",
      "Adding reaction: k19 : 1*H2_2 + 1*H_m0 => 1*H_1 + 1*H2_1\n",
      "Adding reaction: k21 : 2*H_1 + 1*H2_1 => 2*H2_1\n",
      "Adding reaction: k22 : 2*H_1 + 1*H_1 => 1*H2_1 + 1*H_1\n",
      "Adding reaction: k23 : 1*H2_1 + 1*H2_1 => 2*H_1 + 1*H2_1\n",
      "('difference in temperature:', array([-4.54747350886464e-13], dtype=object))\n",
      "adding: brem -brem_brem[i]*de*(H_2 + He_2 + 4.0*He_3)\n",
      "---------------------------\n",
      "adding: reHII -H_2*de*reHII_reHII[i]\n",
      "---------------------------\n",
      "adding: reHeIII -He_3*de*reHeIII_reHeIII[i]\n",
      "---------------------------\n",
      "adding: gloverabel08 -H2_1*gloverabel08_h2lte[i]/(gloverabel08_h2lte[i]/(H2_1*gloverabel08_gaH2[i] + H_1*gloverabel08_gaHI[i] + H_2*gloverabel08_gaHp[i] + He_1*gloverabel08_gaHe[i] + de*gloverabel08_gael[i]) + 1.0)\n",
      "---------------------------\n",
      "adding: ceHI -H_1*ceHI_ceHI[i]*de\n",
      "---------------------------\n",
      "adding: compton -compton_comp_[i]*de*(z + 1.0)**4*(T - 2.73*z - 2.73)\n",
      "---------------------------\n",
      "adding: h2formation 0.5*(h2formation_ncrn[i]/(H2_1*h2formation_ncrd2[i] + H_1*h2formation_ncrd1[i]) + 1.0)**(-1.0)*(-H2_1*H_1*h2formation_h2mcool[i] + H_1**3*h2formation_h2mheat[i])\n",
      "---------------------------\n",
      "adding: reHeII2 -He_2*de*reHeII2_reHeII2[i]\n",
      "---------------------------\n",
      "adding: reHeII1 -He_2*de*reHeII1_reHeII1[i]\n",
      "---------------------------\n",
      "adding: ciHeIS -He_2*ciHeIS_ciHeIS[i]*de**2\n",
      "---------------------------\n",
      "adding: ceHeII -He_2*ceHeII_ceHeII[i]*de\n",
      "---------------------------\n",
      "adding: ciHI -H_1*ciHI_ciHI[i]*de\n",
      "---------------------------\n",
      "adding: ceHeI -He_2*ceHeI_ceHeI[i]*de**2\n",
      "---------------------------\n",
      "adding: gammah 0\n",
      "---------------------------\n",
      "adding: cie_cooling -H2_1*cie_cooling_cieco[i]*mdensity*mh\n",
      "---------------------------\n",
      "adding: ciHeI -He_1*ciHeI_ciHeI[i]*de\n",
      "---------------------------\n",
      "adding: ciHeII -He_2*ciHeII_ciHeII[i]*de\n",
      "---------------------------\n"
     ]
    }
   ],
   "source": [
    "init, primordial = Init_values(np.array([2000.0]), np.array([1e10]) , n_species = 9, cooling=True)"
   ]
  },
  {
   "cell_type": "code",
   "execution_count": 4,
   "metadata": {},
   "outputs": [
    {
     "data": {
      "text/plain": [
       "{'brem': <dengo.reaction_classes.CoolingAction at 0x7f6486bc0610>,\n",
       " 'ceHI': <dengo.reaction_classes.CoolingAction at 0x7f6486bc0290>,\n",
       " 'ceHeI': <dengo.reaction_classes.CoolingAction at 0x7f6486bc0390>,\n",
       " 'ceHeII': <dengo.reaction_classes.CoolingAction at 0x7f6486bc03d0>,\n",
       " 'ciHI': <dengo.reaction_classes.CoolingAction at 0x7f6486bc0450>,\n",
       " 'ciHeI': <dengo.reaction_classes.CoolingAction at 0x7f6486bc0490>,\n",
       " 'ciHeII': <dengo.reaction_classes.CoolingAction at 0x7f6486bc04d0>,\n",
       " 'ciHeIS': <dengo.reaction_classes.CoolingAction at 0x7f6486bc0410>,\n",
       " 'cie_cooling': <dengo.reaction_classes.CoolingAction at 0x7f6486bc0750>,\n",
       " 'compton': <dengo.reaction_classes.CoolingAction at 0x7f6486bc0690>,\n",
       " 'gammah': <dengo.reaction_classes.CoolingAction at 0x7f6486bc06d0>,\n",
       " 'gloverabel08': <dengo.reaction_classes.CoolingAction at 0x7f6486bc0650>,\n",
       " 'h2formation': <dengo.reaction_classes.CoolingAction at 0x7f6486bc0710>,\n",
       " 'reHII': <dengo.reaction_classes.CoolingAction at 0x7f6486bc0510>,\n",
       " 'reHeII1': <dengo.reaction_classes.CoolingAction at 0x7f6486bc0550>,\n",
       " 'reHeII2': <dengo.reaction_classes.CoolingAction at 0x7f6486bc0590>,\n",
       " 'reHeIII': <dengo.reaction_classes.CoolingAction at 0x7f6486bc05d0>}"
      ]
     },
     "execution_count": 4,
     "metadata": {},
     "output_type": "execute_result"
    }
   ],
   "source": [
    "primordial.cooling_actions"
   ]
  },
  {
   "cell_type": "code",
   "execution_count": 5,
   "metadata": {},
   "outputs": [],
   "source": [
    "def calculate_pressure(init, primordial):\n",
    "    P = numpy.zeros((1))\n",
    "    T = init['T']\n",
    "    for sp in primordial.required_species:\n",
    "        if sp.name != 'ge':\n",
    "            n_sp = init[sp.name]/sp.weight\n",
    "            P += n_sp * u.boltzmann_constant_cgs.v * T\n",
    "    return P\n",
    "\n",
    "def calculate_collapse_factor(pressure, density):\n",
    "    # Calculate the effective adiabatic index, dlog(p)/dlog(rho).\n",
    "    if len(pressure) < 3:\n",
    "        return 0.\n",
    "\n",
    "    # compute dlog(p) / dlog(rho) using last two timesteps\n",
    "    gamma_eff = np.log10(pressure[-1] / pressure[-2]) / \\\n",
    "        np.log10(density[-1] / density[-2])\n",
    "    \n",
    "    # compute a higher order derivative if more than two points available\n",
    "    if len(pressure) > 2:\n",
    "        gamma_eff += 0.5 * ((np.log10(pressure[-2] / pressure[-3]) /\n",
    "                             np.log10(density[-2] / density[-3])) - gamma_eff)\n",
    "\n",
    "    gamma_eff = min(gamma_eff, 4./3.)\n",
    "\n",
    "    # Equation 9 of Omukai et al. (2005)\n",
    "    if gamma_eff < 0.83:\n",
    "        force_factor = 0.0\n",
    "    elif gamma_eff < 1.0:\n",
    "        force_factor = 0.6 + 2.5 * (gamma_eff - 1) - \\\n",
    "            6.0 * np.power((gamma_eff - 1.0), 2.)\n",
    "    else:\n",
    "        force_factor = 1.0 + 0.2 * (gamma_eff - (4./3.)) - \\\n",
    "            2.9 * np.power((gamma_eff - (4./3.)), 2.)\n",
    "\n",
    "    force_factor = max(force_factor, 0.0)\n",
    "    force_factor = min(force_factor, 0.95)\n",
    "    return force_factor\n",
    "\n",
    "def calculate_gamma(init, primordial):\n",
    "    gamma = 5.0/3.0\n",
    "    for sp in primordial.required_species: \n",
    "        if sp.name == 'H2_1':\n",
    "            sp_H2 = sp\n",
    "            break\n",
    "    gammaH2 = primordial.species_gamma(sp, temp=True, name=False).subs({'T':temperature})\n",
    "\n",
    "    gamma_fac = primordial.gamma_factor()\n",
    "    gamma_factor = gamma_fac.subs(init).subs({'gamma':gamma}).subs({'gammaH2':gammaH2})\n",
    "\n",
    "    n_density = 0.0\n",
    "    for sp in primordial.required_species:\n",
    "        if sp.name != 'ge':\n",
    "            n_density += init[sp.name]\n",
    "\n",
    "    gamma_ad = n_density/gamma_factor + 1\n",
    "    print(gamma_ad)\n",
    "    gamma_ad = float(gamma_ad)\n",
    "    return gamma_ad\n",
    "\n",
    "\n",
    "\n",
    "def calculate_temperature(init, primordial):\n",
    "    dT = 10.0\n",
    "    temperature = init['T']\n",
    "        \n",
    "    while dT > 0.1:\n",
    "        x = 6100.0/temperature\n",
    "        # update the gammaH2 which is dependent on temperature\n",
    "        gammaH2 = 2.0 / (5.0 + 2.0*x*x*numpy.exp(x) / (numpy.exp(x) - 1 )**2.0 ) + 1\n",
    "\n",
    "        gamma_factor = primordial.gamma_factor().subs(init).subs({'gammaH2': gammaH2 , 'gamma': 5./3.,'T':temperature })\n",
    "        \n",
    "        # with ge updated from compressional heating\n",
    "        ge = init['ge']\n",
    "        \n",
    "        new_T = numpy.array([float(init['density']*ge*mh / kboltz / gamma_factor)])\n",
    "        dT = numpy.abs(new_T - temperature)\n",
    "        temperature = new_T\n",
    "        \n",
    "    return new_T\n",
    "\n",
    "def calculate_energy(init, primordial):\n",
    "    \"\"\"Calculate energy from the abundance and temperature\n",
    "    \"\"\"\n",
    "    num_den = {}\n",
    "    for sp in primordial.required_species:\n",
    "        try:\n",
    "            num_den[sp.name] = init[sp.name]/ sp.weight\n",
    "        except:\n",
    "            pass\n",
    "\n",
    "    # set up initial temperatures values used to define ge\n",
    "    temperature = init['T']\n",
    "\n",
    "    # calculate gammaH2\n",
    "    x = 6100.0/temperature\n",
    "    gammaH2 = 2.0 / (5.0 + 2.0*x*x*numpy.exp(x) / (numpy.exp(x) - 1 )**2.0 ) + 1\n",
    "\n",
    "    gamma_factor = primordial.gamma_factor().subs(num_den).subs({'gammaH2': gammaH2 , 'gamma': 5./3.,'T': temperature })\n",
    "\n",
    "    ge  = ((temperature *  kboltz) *gamma_factor\n",
    "                         / (init['density'] * mh  ))\n",
    "\n",
    "    T = init['density']*ge*mh / kboltz / gamma_factor\n",
    "    \n",
    "    print(T-temperature)\n",
    "    \n",
    "    return numpy.array( [numpy.float64(ge)] )\n"
   ]
  },
  {
   "cell_type": "code",
   "execution_count": 6,
   "metadata": {},
   "outputs": [],
   "source": [
    "def update_initial_condition(init, primordial, pressure_array, density_array, safety_factor=0.01):\n",
    "    \n",
    "    # should be in cgs units\n",
    "    # dyne / cm^-2\n",
    "    current_pressure = calculate_pressure(init, primordial)\n",
    "    pressure_array = numpy.append(pressure_array, current_pressure)    \n",
    "    \n",
    "    \n",
    "    include_pressure = False\n",
    "    if include_pressure:\n",
    "        force_factor = calculate_collapse_factor(pressure_array, density_array)\n",
    "    else:\n",
    "        force_factor = 0.0    \n",
    "    print(\"force_factor: {}\".format(force_factor))\n",
    "    \n",
    "    density = init['density']\n",
    "    \n",
    "    # compute the new density using the modified\n",
    "    # free-fall collapse as per Omukai et al. (2005)\n",
    "\n",
    "    gravitational_constant = 4.0*numpy.pi*6.65259e-8 *  u.amu_cgs.v\n",
    "    freefall_time_constant = np.power((( 32.0*gravitational_constant)/ (3.0*numpy.pi)), 0.5)\n",
    "\n",
    "    dt = safety_factor* np.power( (3.0*np.pi)/ (32.0* gravitational_constant *density ), 0.5 )\n",
    "\n",
    "    # calculate new density from altered free-fall solution\n",
    "    \n",
    "    new_density = np.power((np.power(density, -0.5) -\n",
    "                                (0.5 * freefall_time_constant * dt *\n",
    "                                 np.power((1 - force_factor), 0.5))), -2.)\n",
    "    \n",
    "    # multiply this with the elemental abundances\n",
    "    density_ratio = new_density/density\n",
    "\n",
    "    # update densities\n",
    "    # only update the species array only\n",
    "    for sp in primordial.required_species:\n",
    "        if sp.name != 'ge':\n",
    "            init[sp.name] *= density_ratio\n",
    "\n",
    "    Gamma = calculate_gamma(init, primordial)\n",
    "    \n",
    "    # update internal energy\n",
    "    init['ge'] += (Gamma - 1.0) * init['ge'] * \\\n",
    "                        freefall_time_constant* \\\n",
    "                        new_density**0.5 * dt\n",
    "            \n",
    "    print( \"gammma - 1: {}\".format((Gamma - 1.0)))\n",
    "    # update density\n",
    "    init['density'] = new_density\n",
    "    density_array = numpy.append(density_array, new_density)\n",
    "    \n",
    "    \n",
    "    # update temperature with the updated internal energy\n",
    "    init['T'] = calculate_temperature(init, primordial)\n",
    "    \n",
    "    return init, pressure_array, density_array, dt, force_factor\n",
    "\n",
    "\n",
    "def generate_init_from_results(rv_int, primordial, old_init):\n",
    "    flag = rv_int['successful']\n",
    "    init = {}\n",
    "    for sp in primordial.required_species:\n",
    "        print(sp)\n",
    "        init[sp.name] = rv_int[sp.name][0][flag][-1]*sp.weight\n",
    "    density = old_init['density']\n",
    "    init['density'] = density\n",
    "    init['T'] = numpy.array([rv_int['T'][0][flag][-1]])\n",
    "    return init\n",
    "\n",
    "\n",
    "def convert_from_grackle_to_dengo(grackle_dict):\n",
    "    dengo_dict = {}\n",
    "    for key in grackle_dict:\n",
    "        key = str(key)\n",
    "        \n",
    "        ele = key.split('I')[0]\n",
    "        charge = key.count('I')\n",
    "        if charge > 0:\n",
    "            dengo_name = ele+ '_' + str(charge)\n",
    "            dengo_dict[dengo_name] = numpy.array(grackle_dict[key][0])/u.amu_cgs.v\n",
    "        elif 'M' in key:\n",
    "            ele = key.split('M')[0]\n",
    "            dengo_name = ele + '_' + str(\"m0\")\n",
    "            dengo_dict[dengo_name] = numpy.array(grackle_dict[key][0])/u.amu_cgs.v\n",
    "        elif key == 'temperature':\n",
    "            dengo_name = 'T'\n",
    "            dengo_dict[dengo_name] = numpy.array(grackle_dict[key][0])\n",
    "        elif key == 'de':\n",
    "            dengo_name = 'de'\n",
    "            dengo_dict[dengo_name] = numpy.array(grackle_dict[key][0])/u.amu_cgs.v\n",
    "    return dengo_dict\n",
    "\n",
    "\n",
    "def convert_from_grackle_to_dengo_all(grackle_dict):\n",
    "    dengo_dict = {}\n",
    "    for key in grackle_dict:\n",
    "        key = str(key)\n",
    "        \n",
    "        ele = key.split('I')[0]\n",
    "        charge = key.count('I')\n",
    "        if charge > 0:\n",
    "            dengo_name = ele+ '_' + str(charge)\n",
    "            if ele == 'H':\n",
    "                dengo_dict[dengo_name] = numpy.array(grackle_dict[key])/u.amu_cgs.v / 1.00794\n",
    "            elif ele == 'He':\n",
    "                dengo_dict[dengo_name] = numpy.array(grackle_dict[key])/u.amu_cgs.v / 4.002602\n",
    "            elif ele == 'H2':\n",
    "                dengo_dict[dengo_name] = numpy.array(grackle_dict[key])/u.amu_cgs.v / 1.00794 /2.0\n",
    "        elif 'M' in key:\n",
    "            ele = key.split('M')[0]\n",
    "            dengo_name = ele + '_' + str(\"m0\")\n",
    "            dengo_dict[dengo_name] = numpy.array(grackle_dict[key])/u.amu_cgs.v\n",
    "        elif key == 'temperature':\n",
    "            dengo_name = 'T'\n",
    "            dengo_dict[dengo_name] = numpy.array(grackle_dict[key])\n",
    "        elif key == 'de':\n",
    "            dengo_name = 'de'\n",
    "            dengo_dict[dengo_name] = numpy.array(grackle_dict[key])/u.amu_cgs.v\n",
    "    return dengo_dict"
   ]
  },
  {
   "cell_type": "code",
   "execution_count": 8,
   "metadata": {},
   "outputs": [
    {
     "name": "stdout",
     "output_type": "stream",
     "text": [
      "three body rate: 4\n"
     ]
    },
    {
     "name": "stderr",
     "output_type": "stream",
     "text": [
      "\n",
      "Error compiling Cython file:\n",
      "------------------------------------------------------------\n",
      "...\n",
      "    # Initialize initial temperature\n",
      "    for i in range(dims):\n",
      "        data.Ts[i] = ics['T'][i]\n",
      "        print(\"initial  temperature: %.3E\" %data.Ts[i])\n",
      "    \n",
      "    cvdls_9species_interpolate_rates( cvdls_9species_data *data,  1)\n",
      "                                     ^\n",
      "------------------------------------------------------------\n",
      "\n",
      "cvdls_9species_solver_run.pyx:802:38: 'cvdls_9species_data' is not a constant, variable or function identifier\n",
      "\n",
      "Error compiling Cython file:\n",
      "------------------------------------------------------------\n",
      "...\n",
      "    # Initialize initial temperature\n",
      "    for i in range(dims):\n",
      "        data.Ts[i] = ics['T'][i]\n",
      "        print(\"initial  temperature: %.3E\" %data.Ts[i])\n",
      "    \n",
      "    cvdls_9species_interpolate_rates( cvdls_9species_data *data,  1)\n",
      "                                                         ^\n",
      "------------------------------------------------------------\n",
      "\n",
      "cvdls_9species_solver_run.pyx:802:58: Invalid operand types for '*' (cvdls_9species_data; cvdls_9species_data *)\n"
     ]
    },
    {
     "ename": "ImportError",
     "evalue": "Building module cvdls_9species_run failed: [\"CompileError: command 'gcc' failed with exit status 1\\n\"]",
     "output_type": "error",
     "traceback": [
      "\u001b[0;31m---------------------------------------------------------------------------\u001b[0m",
      "\u001b[0;31mImportError\u001b[0m                               Traceback (most recent call last)",
      "\u001b[0;32m<ipython-input-8-07abeefb11af>\u001b[0m in \u001b[0;36m<module>\u001b[0;34m()\u001b[0m\n\u001b[1;32m      8\u001b[0m                                    , cooling=True)\n\u001b[1;32m      9\u001b[0m \u001b[0;34m\u001b[0m\u001b[0m\n\u001b[0;32m---> 10\u001b[0;31m \u001b[0mchemistry_run\u001b[0m \u001b[0;34m=\u001b[0m \u001b[0mcreate_cvdls_solver\u001b[0m\u001b[0;34m(\u001b[0m\u001b[0minit\u001b[0m\u001b[0;34m,\u001b[0m\u001b[0mprimordial\u001b[0m\u001b[0;34m,\u001b[0m \u001b[0msolver_name\u001b[0m\u001b[0;34m,\u001b[0m \u001b[0mcooling\u001b[0m\u001b[0;34m=\u001b[0m\u001b[0mTrue\u001b[0m\u001b[0;34m)\u001b[0m\u001b[0;34m;\u001b[0m\u001b[0;34m\u001b[0m\u001b[0m\n\u001b[0m",
      "\u001b[0;32m/home/kwoksun2/dengo/dengo-project-dengo-ed14369817a2/examples/cvdls_examples/9species_cooling/generate_dls_cooling_network.pyc\u001b[0m in \u001b[0;36mcreate_cvdls_solver\u001b[0;34m(init, primordial, solver_name, cooling)\u001b[0m\n\u001b[1;32m    133\u001b[0m     sundials_cvdls_run = pyximport.load_module(\"{}_run\".format(solver_name),\n\u001b[1;32m    134\u001b[0m                     \u001b[0;34m\"{}_solver_run.pyx\"\u001b[0m\u001b[0;34m.\u001b[0m\u001b[0mformat\u001b[0m\u001b[0;34m(\u001b[0m\u001b[0msolver_name\u001b[0m\u001b[0;34m)\u001b[0m\u001b[0;34m,\u001b[0m\u001b[0;34m\u001b[0m\u001b[0m\n\u001b[0;32m--> 135\u001b[0;31m                      build_inplace = True, pyxbuild_dir = \"_dengo_temp\")\n\u001b[0m\u001b[1;32m    136\u001b[0m     \u001b[0;32mreturn\u001b[0m \u001b[0msundials_cvdls_run\u001b[0m\u001b[0;34m\u001b[0m\u001b[0m\n\u001b[1;32m    137\u001b[0m \u001b[0;34m\u001b[0m\u001b[0m\n",
      "\u001b[0;32m/home/kwoksun2/anaconda2/lib/python2.7/site-packages/pyximport/pyximport.pyc\u001b[0m in \u001b[0;36mload_module\u001b[0;34m(name, pyxfilename, pyxbuild_dir, is_package, build_inplace, language_level, so_path)\u001b[0m\n\u001b[1;32m    231\u001b[0m                 \u001b[0;32mraise\u001b[0m \u001b[0mexc\u001b[0m\u001b[0;34m.\u001b[0m\u001b[0mwith_traceback\u001b[0m\u001b[0;34m(\u001b[0m\u001b[0mtb\u001b[0m\u001b[0;34m)\u001b[0m\u001b[0;34m\u001b[0m\u001b[0m\n\u001b[1;32m    232\u001b[0m             \u001b[0;32melse\u001b[0m\u001b[0;34m:\u001b[0m\u001b[0;34m\u001b[0m\u001b[0m\n\u001b[0;32m--> 233\u001b[0;31m                 \u001b[0;32mexec\u001b[0m\u001b[0;34m(\u001b[0m\u001b[0;34m\"raise exc, None, tb\"\u001b[0m\u001b[0;34m,\u001b[0m \u001b[0;34m{\u001b[0m\u001b[0;34m'exc'\u001b[0m\u001b[0;34m:\u001b[0m \u001b[0mexc\u001b[0m\u001b[0;34m,\u001b[0m \u001b[0;34m'tb'\u001b[0m\u001b[0;34m:\u001b[0m \u001b[0mtb\u001b[0m\u001b[0;34m}\u001b[0m\u001b[0;34m)\u001b[0m\u001b[0;34m\u001b[0m\u001b[0m\n\u001b[0m\u001b[1;32m    234\u001b[0m     \u001b[0;32mreturn\u001b[0m \u001b[0mmod\u001b[0m\u001b[0;34m\u001b[0m\u001b[0m\n\u001b[1;32m    235\u001b[0m \u001b[0;34m\u001b[0m\u001b[0m\n",
      "\u001b[0;32m/home/kwoksun2/anaconda2/lib/python2.7/site-packages/pyximport/pyximport.pyc\u001b[0m in \u001b[0;36mload_module\u001b[0;34m(name, pyxfilename, pyxbuild_dir, is_package, build_inplace, language_level, so_path)\u001b[0m\n\u001b[1;32m    213\u001b[0m                 \u001b[0mmodule_name\u001b[0m \u001b[0;34m=\u001b[0m \u001b[0mname\u001b[0m\u001b[0;34m\u001b[0m\u001b[0m\n\u001b[1;32m    214\u001b[0m             so_path = build_module(module_name, pyxfilename, pyxbuild_dir,\n\u001b[0;32m--> 215\u001b[0;31m                                    inplace=build_inplace, language_level=language_level)\n\u001b[0m\u001b[1;32m    216\u001b[0m         \u001b[0mmod\u001b[0m \u001b[0;34m=\u001b[0m \u001b[0mimp\u001b[0m\u001b[0;34m.\u001b[0m\u001b[0mload_dynamic\u001b[0m\u001b[0;34m(\u001b[0m\u001b[0mname\u001b[0m\u001b[0;34m,\u001b[0m \u001b[0mso_path\u001b[0m\u001b[0;34m)\u001b[0m\u001b[0;34m\u001b[0m\u001b[0m\n\u001b[1;32m    217\u001b[0m         \u001b[0;32mif\u001b[0m \u001b[0mis_package\u001b[0m \u001b[0;32mand\u001b[0m \u001b[0;32mnot\u001b[0m \u001b[0mhasattr\u001b[0m\u001b[0;34m(\u001b[0m\u001b[0mmod\u001b[0m\u001b[0;34m,\u001b[0m \u001b[0;34m'__path__'\u001b[0m\u001b[0;34m)\u001b[0m\u001b[0;34m:\u001b[0m\u001b[0;34m\u001b[0m\u001b[0m\n",
      "\u001b[0;32m/home/kwoksun2/anaconda2/lib/python2.7/site-packages/pyximport/pyximport.pyc\u001b[0m in \u001b[0;36mbuild_module\u001b[0;34m(name, pyxfilename, pyxbuild_dir, inplace, language_level)\u001b[0m\n\u001b[1;32m    189\u001b[0m                                   \u001b[0msetup_args\u001b[0m\u001b[0;34m=\u001b[0m\u001b[0msargs\u001b[0m\u001b[0;34m,\u001b[0m\u001b[0;34m\u001b[0m\u001b[0m\n\u001b[1;32m    190\u001b[0m                                   \u001b[0minplace\u001b[0m\u001b[0;34m=\u001b[0m\u001b[0minplace\u001b[0m\u001b[0;34m,\u001b[0m\u001b[0;34m\u001b[0m\u001b[0m\n\u001b[0;32m--> 191\u001b[0;31m                                   reload_support=pyxargs.reload_support)\n\u001b[0m\u001b[1;32m    192\u001b[0m     \u001b[0;32massert\u001b[0m \u001b[0mos\u001b[0m\u001b[0;34m.\u001b[0m\u001b[0mpath\u001b[0m\u001b[0;34m.\u001b[0m\u001b[0mexists\u001b[0m\u001b[0;34m(\u001b[0m\u001b[0mso_path\u001b[0m\u001b[0;34m)\u001b[0m\u001b[0;34m,\u001b[0m \u001b[0;34m\"Cannot find: %s\"\u001b[0m \u001b[0;34m%\u001b[0m \u001b[0mso_path\u001b[0m\u001b[0;34m\u001b[0m\u001b[0m\n\u001b[1;32m    193\u001b[0m \u001b[0;34m\u001b[0m\u001b[0m\n",
      "\u001b[0;32m/home/kwoksun2/anaconda2/lib/python2.7/site-packages/pyximport/pyxbuild.pyc\u001b[0m in \u001b[0;36mpyx_to_dll\u001b[0;34m(filename, ext, force_rebuild, build_in_temp, pyxbuild_dir, setup_args, reload_support, inplace)\u001b[0m\n\u001b[1;32m    100\u001b[0m     \u001b[0;32mtry\u001b[0m\u001b[0;34m:\u001b[0m\u001b[0;34m\u001b[0m\u001b[0m\n\u001b[1;32m    101\u001b[0m         \u001b[0mobj_build_ext\u001b[0m \u001b[0;34m=\u001b[0m \u001b[0mdist\u001b[0m\u001b[0;34m.\u001b[0m\u001b[0mget_command_obj\u001b[0m\u001b[0;34m(\u001b[0m\u001b[0;34m\"build_ext\"\u001b[0m\u001b[0;34m)\u001b[0m\u001b[0;34m\u001b[0m\u001b[0m\n\u001b[0;32m--> 102\u001b[0;31m         \u001b[0mdist\u001b[0m\u001b[0;34m.\u001b[0m\u001b[0mrun_commands\u001b[0m\u001b[0;34m(\u001b[0m\u001b[0;34m)\u001b[0m\u001b[0;34m\u001b[0m\u001b[0m\n\u001b[0m\u001b[1;32m    103\u001b[0m         \u001b[0mso_path\u001b[0m \u001b[0;34m=\u001b[0m \u001b[0mobj_build_ext\u001b[0m\u001b[0;34m.\u001b[0m\u001b[0mget_outputs\u001b[0m\u001b[0;34m(\u001b[0m\u001b[0;34m)\u001b[0m\u001b[0;34m[\u001b[0m\u001b[0;36m0\u001b[0m\u001b[0;34m]\u001b[0m\u001b[0;34m\u001b[0m\u001b[0m\n\u001b[1;32m    104\u001b[0m         \u001b[0;32mif\u001b[0m \u001b[0mobj_build_ext\u001b[0m\u001b[0;34m.\u001b[0m\u001b[0minplace\u001b[0m\u001b[0;34m:\u001b[0m\u001b[0;34m\u001b[0m\u001b[0m\n",
      "\u001b[0;32m/home/kwoksun2/anaconda2/lib/python2.7/distutils/dist.pyc\u001b[0m in \u001b[0;36mrun_commands\u001b[0;34m(self)\u001b[0m\n\u001b[1;32m    951\u001b[0m         \"\"\"\n\u001b[1;32m    952\u001b[0m         \u001b[0;32mfor\u001b[0m \u001b[0mcmd\u001b[0m \u001b[0;32min\u001b[0m \u001b[0mself\u001b[0m\u001b[0;34m.\u001b[0m\u001b[0mcommands\u001b[0m\u001b[0;34m:\u001b[0m\u001b[0;34m\u001b[0m\u001b[0m\n\u001b[0;32m--> 953\u001b[0;31m             \u001b[0mself\u001b[0m\u001b[0;34m.\u001b[0m\u001b[0mrun_command\u001b[0m\u001b[0;34m(\u001b[0m\u001b[0mcmd\u001b[0m\u001b[0;34m)\u001b[0m\u001b[0;34m\u001b[0m\u001b[0m\n\u001b[0m\u001b[1;32m    954\u001b[0m \u001b[0;34m\u001b[0m\u001b[0m\n\u001b[1;32m    955\u001b[0m     \u001b[0;31m# -- Methods that operate on its Commands --------------------------\u001b[0m\u001b[0;34m\u001b[0m\u001b[0;34m\u001b[0m\u001b[0m\n",
      "\u001b[0;32m/home/kwoksun2/anaconda2/lib/python2.7/distutils/dist.pyc\u001b[0m in \u001b[0;36mrun_command\u001b[0;34m(self, command)\u001b[0m\n\u001b[1;32m    970\u001b[0m         \u001b[0mcmd_obj\u001b[0m \u001b[0;34m=\u001b[0m \u001b[0mself\u001b[0m\u001b[0;34m.\u001b[0m\u001b[0mget_command_obj\u001b[0m\u001b[0;34m(\u001b[0m\u001b[0mcommand\u001b[0m\u001b[0;34m)\u001b[0m\u001b[0;34m\u001b[0m\u001b[0m\n\u001b[1;32m    971\u001b[0m         \u001b[0mcmd_obj\u001b[0m\u001b[0;34m.\u001b[0m\u001b[0mensure_finalized\u001b[0m\u001b[0;34m(\u001b[0m\u001b[0;34m)\u001b[0m\u001b[0;34m\u001b[0m\u001b[0m\n\u001b[0;32m--> 972\u001b[0;31m         \u001b[0mcmd_obj\u001b[0m\u001b[0;34m.\u001b[0m\u001b[0mrun\u001b[0m\u001b[0;34m(\u001b[0m\u001b[0;34m)\u001b[0m\u001b[0;34m\u001b[0m\u001b[0m\n\u001b[0m\u001b[1;32m    973\u001b[0m         \u001b[0mself\u001b[0m\u001b[0;34m.\u001b[0m\u001b[0mhave_run\u001b[0m\u001b[0;34m[\u001b[0m\u001b[0mcommand\u001b[0m\u001b[0;34m]\u001b[0m \u001b[0;34m=\u001b[0m \u001b[0;36m1\u001b[0m\u001b[0;34m\u001b[0m\u001b[0m\n\u001b[1;32m    974\u001b[0m \u001b[0;34m\u001b[0m\u001b[0m\n",
      "\u001b[0;32m/home/kwoksun2/anaconda2/lib/python2.7/site-packages/Cython/Distutils/old_build_ext.pyc\u001b[0m in \u001b[0;36mrun\u001b[0;34m(self)\u001b[0m\n\u001b[1;32m    184\u001b[0m             \u001b[0moptimization\u001b[0m\u001b[0;34m.\u001b[0m\u001b[0mdisable_optimization\u001b[0m\u001b[0;34m(\u001b[0m\u001b[0;34m)\u001b[0m\u001b[0;34m\u001b[0m\u001b[0m\n\u001b[1;32m    185\u001b[0m \u001b[0;34m\u001b[0m\u001b[0m\n\u001b[0;32m--> 186\u001b[0;31m         \u001b[0m_build_ext\u001b[0m\u001b[0;34m.\u001b[0m\u001b[0mbuild_ext\u001b[0m\u001b[0;34m.\u001b[0m\u001b[0mrun\u001b[0m\u001b[0;34m(\u001b[0m\u001b[0mself\u001b[0m\u001b[0;34m)\u001b[0m\u001b[0;34m\u001b[0m\u001b[0m\n\u001b[0m\u001b[1;32m    187\u001b[0m \u001b[0;34m\u001b[0m\u001b[0m\n\u001b[1;32m    188\u001b[0m     \u001b[0;32mdef\u001b[0m \u001b[0mbuild_extensions\u001b[0m\u001b[0;34m(\u001b[0m\u001b[0mself\u001b[0m\u001b[0;34m)\u001b[0m\u001b[0;34m:\u001b[0m\u001b[0;34m\u001b[0m\u001b[0m\n",
      "\u001b[0;32m/home/kwoksun2/anaconda2/lib/python2.7/distutils/command/build_ext.pyc\u001b[0m in \u001b[0;36mrun\u001b[0;34m(self)\u001b[0m\n\u001b[1;32m    337\u001b[0m \u001b[0;34m\u001b[0m\u001b[0m\n\u001b[1;32m    338\u001b[0m         \u001b[0;31m# Now actually compile and link everything.\u001b[0m\u001b[0;34m\u001b[0m\u001b[0;34m\u001b[0m\u001b[0m\n\u001b[0;32m--> 339\u001b[0;31m         \u001b[0mself\u001b[0m\u001b[0;34m.\u001b[0m\u001b[0mbuild_extensions\u001b[0m\u001b[0;34m(\u001b[0m\u001b[0;34m)\u001b[0m\u001b[0;34m\u001b[0m\u001b[0m\n\u001b[0m\u001b[1;32m    340\u001b[0m \u001b[0;34m\u001b[0m\u001b[0m\n\u001b[1;32m    341\u001b[0m     \u001b[0;32mdef\u001b[0m \u001b[0mcheck_extensions_list\u001b[0m\u001b[0;34m(\u001b[0m\u001b[0mself\u001b[0m\u001b[0;34m,\u001b[0m \u001b[0mextensions\u001b[0m\u001b[0;34m)\u001b[0m\u001b[0;34m:\u001b[0m\u001b[0;34m\u001b[0m\u001b[0m\n",
      "\u001b[0;32m/home/kwoksun2/anaconda2/lib/python2.7/site-packages/Cython/Distutils/old_build_ext.pyc\u001b[0m in \u001b[0;36mbuild_extensions\u001b[0;34m(self)\u001b[0m\n\u001b[1;32m    192\u001b[0m         \u001b[0;32mfor\u001b[0m \u001b[0mext\u001b[0m \u001b[0;32min\u001b[0m \u001b[0mself\u001b[0m\u001b[0;34m.\u001b[0m\u001b[0mextensions\u001b[0m\u001b[0;34m:\u001b[0m\u001b[0;34m\u001b[0m\u001b[0m\n\u001b[1;32m    193\u001b[0m             \u001b[0mext\u001b[0m\u001b[0;34m.\u001b[0m\u001b[0msources\u001b[0m \u001b[0;34m=\u001b[0m \u001b[0mself\u001b[0m\u001b[0;34m.\u001b[0m\u001b[0mcython_sources\u001b[0m\u001b[0;34m(\u001b[0m\u001b[0mext\u001b[0m\u001b[0;34m.\u001b[0m\u001b[0msources\u001b[0m\u001b[0;34m,\u001b[0m \u001b[0mext\u001b[0m\u001b[0;34m)\u001b[0m\u001b[0;34m\u001b[0m\u001b[0m\n\u001b[0;32m--> 194\u001b[0;31m             \u001b[0mself\u001b[0m\u001b[0;34m.\u001b[0m\u001b[0mbuild_extension\u001b[0m\u001b[0;34m(\u001b[0m\u001b[0mext\u001b[0m\u001b[0;34m)\u001b[0m\u001b[0;34m\u001b[0m\u001b[0m\n\u001b[0m\u001b[1;32m    195\u001b[0m \u001b[0;34m\u001b[0m\u001b[0m\n\u001b[1;32m    196\u001b[0m     \u001b[0;32mdef\u001b[0m \u001b[0mcython_sources\u001b[0m\u001b[0;34m(\u001b[0m\u001b[0mself\u001b[0m\u001b[0;34m,\u001b[0m \u001b[0msources\u001b[0m\u001b[0;34m,\u001b[0m \u001b[0mextension\u001b[0m\u001b[0;34m)\u001b[0m\u001b[0;34m:\u001b[0m\u001b[0;34m\u001b[0m\u001b[0m\n",
      "\u001b[0;32m/home/kwoksun2/anaconda2/lib/python2.7/distutils/command/build_ext.pyc\u001b[0m in \u001b[0;36mbuild_extension\u001b[0;34m(self, ext)\u001b[0m\n\u001b[1;32m    496\u001b[0m                                          \u001b[0mdebug\u001b[0m\u001b[0;34m=\u001b[0m\u001b[0mself\u001b[0m\u001b[0;34m.\u001b[0m\u001b[0mdebug\u001b[0m\u001b[0;34m,\u001b[0m\u001b[0;34m\u001b[0m\u001b[0m\n\u001b[1;32m    497\u001b[0m                                          \u001b[0mextra_postargs\u001b[0m\u001b[0;34m=\u001b[0m\u001b[0mextra_args\u001b[0m\u001b[0;34m,\u001b[0m\u001b[0;34m\u001b[0m\u001b[0m\n\u001b[0;32m--> 498\u001b[0;31m                                          depends=ext.depends)\n\u001b[0m\u001b[1;32m    499\u001b[0m \u001b[0;34m\u001b[0m\u001b[0m\n\u001b[1;32m    500\u001b[0m         \u001b[0;31m# XXX -- this is a Vile HACK!\u001b[0m\u001b[0;34m\u001b[0m\u001b[0;34m\u001b[0m\u001b[0m\n",
      "\u001b[0;32m/home/kwoksun2/anaconda2/lib/python2.7/distutils/ccompiler.pyc\u001b[0m in \u001b[0;36mcompile\u001b[0;34m(self, sources, output_dir, macros, include_dirs, debug, extra_preargs, extra_postargs, depends)\u001b[0m\n\u001b[1;32m    572\u001b[0m             \u001b[0;32mexcept\u001b[0m \u001b[0mKeyError\u001b[0m\u001b[0;34m:\u001b[0m\u001b[0;34m\u001b[0m\u001b[0m\n\u001b[1;32m    573\u001b[0m                 \u001b[0;32mcontinue\u001b[0m\u001b[0;34m\u001b[0m\u001b[0m\n\u001b[0;32m--> 574\u001b[0;31m             \u001b[0mself\u001b[0m\u001b[0;34m.\u001b[0m\u001b[0m_compile\u001b[0m\u001b[0;34m(\u001b[0m\u001b[0mobj\u001b[0m\u001b[0;34m,\u001b[0m \u001b[0msrc\u001b[0m\u001b[0;34m,\u001b[0m \u001b[0mext\u001b[0m\u001b[0;34m,\u001b[0m \u001b[0mcc_args\u001b[0m\u001b[0;34m,\u001b[0m \u001b[0mextra_postargs\u001b[0m\u001b[0;34m,\u001b[0m \u001b[0mpp_opts\u001b[0m\u001b[0;34m)\u001b[0m\u001b[0;34m\u001b[0m\u001b[0m\n\u001b[0m\u001b[1;32m    575\u001b[0m \u001b[0;34m\u001b[0m\u001b[0m\n\u001b[1;32m    576\u001b[0m         \u001b[0;31m# Return *all* object filenames, not just the ones we just built.\u001b[0m\u001b[0;34m\u001b[0m\u001b[0;34m\u001b[0m\u001b[0m\n",
      "\u001b[0;32m/home/kwoksun2/anaconda2/lib/python2.7/distutils/unixccompiler.pyc\u001b[0m in \u001b[0;36m_compile\u001b[0;34m(self, obj, src, ext, cc_args, extra_postargs, pp_opts)\u001b[0m\n\u001b[1;32m    120\u001b[0m                        extra_postargs)\n\u001b[1;32m    121\u001b[0m         \u001b[0;32mexcept\u001b[0m \u001b[0mDistutilsExecError\u001b[0m\u001b[0;34m,\u001b[0m \u001b[0mmsg\u001b[0m\u001b[0;34m:\u001b[0m\u001b[0;34m\u001b[0m\u001b[0m\n\u001b[0;32m--> 122\u001b[0;31m             \u001b[0;32mraise\u001b[0m \u001b[0mCompileError\u001b[0m\u001b[0;34m,\u001b[0m \u001b[0mmsg\u001b[0m\u001b[0;34m\u001b[0m\u001b[0m\n\u001b[0m\u001b[1;32m    123\u001b[0m \u001b[0;34m\u001b[0m\u001b[0m\n\u001b[1;32m    124\u001b[0m     def create_static_lib(self, objects, output_libname,\n",
      "\u001b[0;31mImportError\u001b[0m: Building module cvdls_9species_run failed: [\"CompileError: command 'gcc' failed with exit status 1\\n\"]"
     ]
    }
   ],
   "source": [
    "# Initial conditions\n",
    "temperature = 20000.0# K\n",
    "density = 1.0e-1 # cm^-3\n",
    "\n",
    "solver_name = 'cvdls_9species'\n",
    "with HidePrints():\n",
    "    init, primordial = Init_values(np.array([temperature]), np.array([density]) , n_species = 9\n",
    "                                   , cooling=True)\n",
    "\n",
    "chemistry_run = create_cvdls_solver(init,primordial, solver_name, cooling=True);\n"
   ]
  },
  {
   "cell_type": "code",
   "execution_count": null,
   "metadata": {},
   "outputs": [],
   "source": [
    "temperature = 50000.0# K\n",
    "density = 1.0e-1*1.00794 # cm^-3\n",
    "\n",
    "with HidePrints():\n",
    "    init, primordial = Init_values(np.array([temperature]), np.array([density]) , n_species = 9)\n",
    "rv, rv_int = chemistry_run.run_cvdls_9species(init, 5.0e17,niter=1e4);"
   ]
  },
  {
   "cell_type": "code",
   "execution_count": null,
   "metadata": {},
   "outputs": [],
   "source": [
    "flag = rv_int['successful']\n",
    "plt.loglog(rv_int['t'][flag],rv_int['T'][0][flag])\n",
    "rv_int['T'][0][flag][-1]"
   ]
  },
  {
   "cell_type": "code",
   "execution_count": null,
   "metadata": {},
   "outputs": [],
   "source": [
    "total_t = 0.0\n",
    "final_density = 1.0e12*1.00794\n",
    "density_array = numpy.array([ init['density'] ])\n",
    "pressure_array = numpy.array([])\n",
    "ttt = []\n",
    "run_time = []\n",
    "current_density = density_array[-1]\n",
    "\n",
    "all_data = {}\n",
    "for key in init.keys():\n",
    "    all_data[key] = []\n",
    "all_data['force_factor'] = []"
   ]
  },
  {
   "cell_type": "code",
   "execution_count": null,
   "metadata": {},
   "outputs": [],
   "source": [
    "dir_ff_grackle = \"/home/kwoksun2/grackle/src/python/examples/freefall.h5\"\n",
    "import h5py\n",
    "f = h5py.File(dir_ff_grackle)\n",
    "fdata = f['data']\n",
    "grackle_init = convert_from_grackle_to_dengo(fdata)\n",
    "\n",
    "\n",
    "new_init, primordial = Init_values(np.array([temperature]), np.array([density]) , n_species = 9)\n",
    "for i in new_init.keys():\n",
    "    if i not in ['density','ge']:\n",
    "        print(i, grackle_init[i]) \n",
    "        new_init[i] = numpy.array([grackle_init[i]])\n",
    "\n",
    "new_init['de'] = primordial.calculate_free_electrons(new_init)\n",
    "new_init['ge'] =  calculate_energy(new_init, primordial)\n",
    "rv, rv_int = chemistry_run.run_cvdls_9species(new_init, 1e-5,niter=1e0)"
   ]
  },
  {
   "cell_type": "code",
   "execution_count": null,
   "metadata": {},
   "outputs": [],
   "source": [
    "flag = rv_int['successful']\n",
    "de = numpy.zeros((1))\n",
    "for sp in new_init.keys():\n",
    "    if sp not in ['de','density','ge','T']:\n",
    "        s = species_registry[sp]\n",
    "        print(s.name)\n",
    "        de += rv_int[s.name][0][flag][-1]  * s.free_electrons"
   ]
  },
  {
   "cell_type": "code",
   "execution_count": null,
   "metadata": {
    "scrolled": true
   },
   "outputs": [],
   "source": [
    "while current_density < final_density:\n",
    "\n",
    "    # keep track of time in here\n",
    "    \n",
    "    new_init = generate_init_from_results(rv_int,primordial, new_init)\n",
    "    init, pressure_array, density_array, dt, force_factor = update_initial_condition(new_init, primordial, pressure_array\n",
    "                                                             , density_array, safety_factor=0.01)\n",
    "    tic = time.time()\n",
    "    rv, rv_int = chemistry_run.run_cvdls_9species(init, dt,niter=1e4)\n",
    "    toc = time.time()\n",
    "    total_t += dt\n",
    "    ttt.append(float(total_t))\n",
    "    run_time.append(toc-tic)\n",
    "    \n",
    "    flag = rv_int['successful']\n",
    "    for key in init.keys():\n",
    "        if key not in ['density']:\n",
    "            data = rv_int[key][0][flag][-1]\n",
    "            all_data[key].append(data)\n",
    "    all_data['force_factor'].append( float(force_factor))\n",
    "    current_density = density_array[-1]\n",
    "    \n",
    "    t_ends = rv_int['t'][flag][-1]\n",
    "    if t_ends < dt:\n",
    "        print('##########cannot finish the run....####################3')\n",
    "        break"
   ]
  },
  {
   "cell_type": "code",
   "execution_count": null,
   "metadata": {},
   "outputs": [],
   "source": [
    "density_array"
   ]
  },
  {
   "cell_type": "code",
   "execution_count": null,
   "metadata": {},
   "outputs": [],
   "source": [
    "import matplotlib.pyplot as plt\n",
    "ttt = numpy.array(ttt)"
   ]
  },
  {
   "cell_type": "code",
   "execution_count": null,
   "metadata": {},
   "outputs": [],
   "source": [
    "plt.semilogy(ttt, pressure_array,'-o')"
   ]
  },
  {
   "cell_type": "code",
   "execution_count": null,
   "metadata": {},
   "outputs": [],
   "source": [
    "max(ttt)*u.s.in_units('yr')"
   ]
  },
  {
   "cell_type": "code",
   "execution_count": null,
   "metadata": {},
   "outputs": [],
   "source": [
    "run_time[1000]"
   ]
  },
  {
   "cell_type": "code",
   "execution_count": null,
   "metadata": {},
   "outputs": [],
   "source": [
    "plt.loglog(density_array[1:],run_time[:],'-o')"
   ]
  },
  {
   "cell_type": "code",
   "execution_count": null,
   "metadata": {},
   "outputs": [],
   "source": [
    "dir_ff_grackle = \"/home/kwoksun2/grackle/src/python/examples/freefall.h5\"\n",
    "import h5py\n",
    "f = h5py.File(dir_ff_grackle)\n",
    "\n",
    "fdata = f['data']\n",
    "grackle_data = convert_from_grackle_to_dengo_all(fdata)\n",
    "grackle_data['H_2']"
   ]
  },
  {
   "cell_type": "code",
   "execution_count": null,
   "metadata": {},
   "outputs": [],
   "source": [
    "ic = 0\n",
    "from matplotlib.pyplot import cm\n",
    "color=cm.rainbow(np.linspace(0,1,12))\n",
    "\n",
    "plt.figure(figsize=(10,10))\n",
    "for key in all_data.keys():\n",
    "    \n",
    "    print(key)\n",
    "    if key not in ['density','t','force_factor','ge','T']:\n",
    "        data = numpy.array(all_data[key])\n",
    "        data1 = grackle_data[key]\n",
    "        \n",
    "        plt.semilogx( density_array[:-1], data1/density_array[:-1],c=color[ic], ls = '--')\n",
    "        \n",
    "        plt.loglog( density_array[:-1], data/density_array[:-1],label=key, c=color[ic])\n",
    "    ic += 1\n",
    "plt.legend()\n",
    "plt.xlabel('density (amu / $cm^{-3}$)')\n",
    "plt.ylabel(r'mass density $n_x m_x / \\rho$ ')"
   ]
  },
  {
   "cell_type": "code",
   "execution_count": null,
   "metadata": {
    "scrolled": true
   },
   "outputs": [],
   "source": [
    "plt.figure(figsize=(10,10))\n",
    "\n",
    "H2_1 =  f['data']['H2I'] \n",
    "density = numpy.array(f['data']['density'])\n",
    "\n",
    "data = numpy.array(all_data['H2_1']) / density_array[:-1]\n",
    "\n",
    "plt.semilogx( density_array[1:]*u.amu_cgs, H2_1/density,label=key,c=color[0],ls='--')\n",
    "plt.loglog( density_array[1:]*u.amu_cgs, 2.0*data*1.00794   ,label=key,c=color[0])\n",
    "plt.xlabel('density (amu / $cm^{-3}$)')\n",
    "plt.ylabel(r'mass density $n_x m_x / \\rho$ ')"
   ]
  },
  {
   "cell_type": "code",
   "execution_count": null,
   "metadata": {},
   "outputs": [],
   "source": [
    "plt.figure(figsize=(10,10))\n",
    "data0 =  f['data']['temperature'] #\n",
    "plt.semilogx(density, data0, label=key)\n",
    "\n",
    "data1 = numpy.array(all_data['T']) \n",
    "plt.semilogx( density_array[1:]*u.amu_cgs, data1,label=key)\n",
    "\n",
    "plt.xlabel('density (amu / $cm^{-3}$)')\n",
    "plt.ylabel('mass density  ' + r\"$n_x m_x / \\rho$\")"
   ]
  },
  {
   "cell_type": "code",
   "execution_count": null,
   "metadata": {},
   "outputs": [],
   "source": [
    "plt.semilogx(density,force_factor)"
   ]
  },
  {
   "cell_type": "code",
   "execution_count": null,
   "metadata": {},
   "outputs": [],
   "source": [
    "plt.semilogx(density,force_factor)\n",
    "data = numpy.array(all_data['force_factor']) \n",
    "plt.semilogx( density_array[1:]*u.amu_cgs, data,label=key)"
   ]
  },
  {
   "cell_type": "code",
   "execution_count": null,
   "metadata": {},
   "outputs": [],
   "source": [
    "data = numpy.array(all_data['force_factor']) \n",
    "plt.loglog( density_array[1:][data>0], data[data>0],label=key)"
   ]
  },
  {
   "cell_type": "code",
   "execution_count": null,
   "metadata": {},
   "outputs": [],
   "source": [
    "data"
   ]
  },
  {
   "cell_type": "code",
   "execution_count": null,
   "metadata": {},
   "outputs": [],
   "source": [
    "plt.loglog(density_array[1:], pressure_array)"
   ]
  },
  {
   "cell_type": "code",
   "execution_count": null,
   "metadata": {},
   "outputs": [],
   "source": [
    "action.tables"
   ]
  },
  {
   "cell_type": "code",
   "execution_count": null,
   "metadata": {},
   "outputs": [],
   "source": [
    "def cooling_rate_from_temp(T):\n",
    "    cooling_rates = {}\n",
    "    for action in primordial.cooling_actions.values():\n",
    "        actionname = action.name\n",
    "        for tab in action.tables:\n",
    "            name = \"{}_{}[i]\".format(actionname, tab)\n",
    "            \n",
    "            temp_array = primordial.T\n",
    "            \n",
    "            cooling = numpy.interp(T, temp_array, action.tables[tab](primordial))\n",
    "            cooling_rates[name] = cooling\n",
    "    cooling_rates['T'] = T\n",
    "    cooling_rates['z'] = numpy.zeros((len(T)))\n",
    "#     cooling_rates = sorted(cooling_rates)\n",
    "    return cooling_rates\n",
    "\n",
    "def cooling_from_results(results, primordial, cooling_rates, T):\n",
    "    \n",
    "    cooling_results = {}\n",
    "\n",
    "    for action in primordial.cooling_actions:\n",
    "        cool_action = cooling_registry[action].equation\n",
    "        cool_sym = cool_action.free_symbols\n",
    "        \n",
    "        cool_sym_name = [str(i) for i in cool_sym]\n",
    "        func = lambdify(cool_sym, cool_action,'numpy') # returns a numpy-ready function\n",
    "        \n",
    "        \n",
    "        num_var = len(cool_sym)\n",
    "        len_T   = len(T)\n",
    "        \n",
    "        input_array = numpy.zeros(( num_var, len_T ))       \n",
    "        for iii, sym_name in enumerate(cool_sym_name):\n",
    "            try:\n",
    "                input_array[iii, :] = results[sym_name]\n",
    "            except:\n",
    "                input_array[iii, :] = cooling_rates[sym_name]\n",
    "        \n",
    "        \n",
    "        cooling_results[action] = func(*input_array)\n",
    "    return cooling_results"
   ]
  },
  {
   "cell_type": "code",
   "execution_count": null,
   "metadata": {},
   "outputs": [],
   "source": [
    "T_array = all_data['T']\n",
    "\n",
    "all_data['mdensity'] = density_array[1:]\n",
    "all_data['mh'] = numpy.ones((len(density_array[1:])))* u.mass_hydrogen_cgs.v\n",
    "\n",
    "cooling_rates = cooling_rate_from_temp(T_array)\n"
   ]
  },
  {
   "cell_type": "code",
   "execution_count": null,
   "metadata": {},
   "outputs": [],
   "source": [
    "cooling_results = cooling_from_results(all_data, primordial, cooling_rates, T_array)"
   ]
  },
  {
   "cell_type": "code",
   "execution_count": null,
   "metadata": {},
   "outputs": [],
   "source": [
    "plt.figure(figsize=(10,10))\n",
    "from matplotlib.pyplot import cm\n",
    "color=cm.tab20(np.linspace(0,1,len(cooling_results.keys()) ))\n",
    "net_cooling = numpy.zeros((len(T_array)))\n",
    "\n",
    "iii = 0\n",
    "for i in cooling_results.keys():\n",
    "    d = cooling_results[i]\n",
    "    \n",
    "    net_cooling = d + net_cooling\n",
    "    if i not in ['gammah']:\n",
    "        if d[0] < 0:\n",
    "            plt.semilogx(density_array[1:], numpy.abs(d)/density_array[1:]/ u.amu_cgs.v, label=i, c=color[iii])\n",
    "        else:\n",
    "            plt.loglog(density_array[1:], numpy.abs(d)/density_array[1:]/ u.amu_cgs.v, label=i, ls= '--', c=color[iii])\n",
    "            \n",
    "    iii += 1\n",
    "plt.legend()\n",
    "plt.xlabel('density (amu / $cm^{-3}$)')\n",
    "plt.ylabel(r'cooling rate per unit mass (erg / g /s)')\n",
    "plt.show()\n",
    "\n",
    "plt.figure(figsize=(10,10))\n",
    "plt.loglog(density_array[1:], numpy.abs(net_cooling)/density_array[1:]/ u.amu_cgs.v)\n",
    "plt.xlabel('density (amu / $cm^{-3}$)')\n",
    "plt.ylabel(r'cooling rate per unit mass (erg / g /s)')\n",
    "plt.show()"
   ]
  },
  {
   "cell_type": "code",
   "execution_count": null,
   "metadata": {},
   "outputs": [],
   "source": [
    "d = cooling_results['h2formation']\n",
    "plt.loglog(density_array[1:], (d), label=i, ls= '--')"
   ]
  },
  {
   "cell_type": "code",
   "execution_count": null,
   "metadata": {},
   "outputs": [],
   "source": [
    "from matplotlib.pyplot import cm\n",
    "color=cm.rainbow(np.linspace(0,1,100))"
   ]
  },
  {
   "cell_type": "code",
   "execution_count": null,
   "metadata": {},
   "outputs": [],
   "source": [
    "color[10]"
   ]
  },
  {
   "cell_type": "code",
   "execution_count": null,
   "metadata": {},
   "outputs": [],
   "source": [
    "net_cooling"
   ]
  },
  {
   "cell_type": "markdown",
   "metadata": {},
   "source": [
    "# TO-DO list\n",
    "\n",
    "1. profile the code (run-time ~ 0.02s) no matter how\n",
    "2. interpolate gammaH2 (it is calculate on the fly everytime)\n",
    "3. include CIE cooling"
   ]
  },
  {
   "cell_type": "code",
   "execution_count": null,
   "metadata": {},
   "outputs": [],
   "source": [
    "data/data1/1.00794"
   ]
  },
  {
   "cell_type": "code",
   "execution_count": null,
   "metadata": {},
   "outputs": [],
   "source": [
    "sp = species_registry['H2_2']\n",
    "gammaH2 = primordial.species_gamma(sp, temp=True, name=False).subs({'T':temperature})"
   ]
  },
  {
   "cell_type": "code",
   "execution_count": null,
   "metadata": {},
   "outputs": [],
   "source": [
    "gammaH2"
   ]
  },
  {
   "cell_type": "code",
   "execution_count": null,
   "metadata": {},
   "outputs": [],
   "source": [
    "from sympy import lambdify"
   ]
  },
  {
   "cell_type": "code",
   "execution_count": null,
   "metadata": {},
   "outputs": [],
   "source": []
  }
 ],
 "metadata": {
  "kernelspec": {
   "display_name": "Python 2",
   "language": "python",
   "name": "python2"
  },
  "language_info": {
   "codemirror_mode": {
    "name": "ipython",
    "version": 2
   },
   "file_extension": ".py",
   "mimetype": "text/x-python",
   "name": "python",
   "nbconvert_exporter": "python",
   "pygments_lexer": "ipython2",
   "version": "2.7.11"
  }
 },
 "nbformat": 4,
 "nbformat_minor": 2
}
