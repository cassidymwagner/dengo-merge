{
 "cells": [
  {
   "cell_type": "markdown",
   "metadata": {},
   "source": [
    "# Threebody Reaction Example\n",
    "- at density of $n \\sim 10^8 cm^{-3}$, molecular hydrogen begins to form more effectively through the three-body reaction channel, i.e. $$\\mathrm{H +H + H \\rightarrow H_2 + H}$$ The collapsing gas undergoes a rapid transition from being atomic to almost fully molecular via this process. since this process evolves rapidly, this often poses a challenge to the stability of the solver. Here we investigate in particular this process in detail."
   ]
  },
  {
   "cell_type": "code",
   "execution_count": 7,
   "metadata": {},
   "outputs": [],
   "source": [
    "# importing necessary libraries\n",
    "import pyximport\n",
    "import numpy as np\n",
    "import os\n",
    "\n",
    "from   dengo.chemistry_constants import tiny, kboltz, mh, G\n",
    "import dengo.primordial_rates\n",
    "import dengo.primordial_cooling\n",
    "\n",
    "from dengo.chemical_network import \\\n",
    "    ChemicalNetwork, \\\n",
    "    reaction_registry, \\\n",
    "    cooling_registry, \\\n",
    "    species_registry\n",
    "import dengo.primordial_rates\n",
    "import dengo.primordial_cooling\n",
    "\n",
    "import sympy\n",
    "from sympy import lambdify\n",
    "import matplotlib.pyplot as plt"
   ]
  },
  {
   "cell_type": "markdown",
   "metadata": {},
   "source": [
    "# Create a simple network\n",
    "Let's consider only the most significant reactions at high densities, and compare it with the full network with 22 reactions. Similar to the previous example, we have to register our required reactions/ cooling actions, then add reactions to the `dengo.chemical_network.ChemicalNetwork` object. \n",
    "\n",
    "\\begin{align}\n",
    "\\quad \\mathrm{H_2 + H_1} & \\mathrm{\\rightarrow 3H_1} \\\\\n",
    "\\quad \\mathrm{H_1 + H_1 + H_1} & \\mathrm{\\rightarrow H_2 + H_1}\n",
    "\\end{align}"
   ]
  },
  {
   "cell_type": "code",
   "execution_count": 8,
   "metadata": {},
   "outputs": [
    {
     "name": "stdout",
     "output_type": "stream",
     "text": [
      "Adding reaction: k13 : 1*H2_1 + 1*H_1 => 3*H_1\n",
      "Adding reaction: k22 : 2*H_1 + 1*H_1 => 1*H2_1 + 1*H_1\n"
     ]
    }
   ],
   "source": [
    "# we register the rates predefined in dengo.primordial_rates\n",
    "# so that they can be imported into our network object\n",
    "dengo.primordial_rates.setup_primordial()\n",
    "\n",
    "# create our network and add reactions to it\n",
    "cn_simple = ChemicalNetwork()\n",
    "cn_simple.add_reaction(\"k13\")\n",
    "cn_simple.add_reaction(\"k22\")\n",
    "cn_simple.add_cooling(\"h2formation\")\n",
    "cn_simple.init_temperature()"
   ]
  },
  {
   "cell_type": "markdown",
   "metadata": {},
   "source": [
    "# Generate templates\n",
    "With the `ChemicalNetwork` object, `Dengo` can write the C solver.\n",
    "The corresponding auxillary library paths are needed to be set as the environomental variables, in order to compile our python modules.\n",
    "\n",
    "- <font color='green'>HDF5_DIR </font>          (HDF5 installation path)\n",
    "- <font color='green'>CVODE_PATH </font>        (CVode installation path)\n",
    "- <font color='green'>SUITESPARSE_PATH </font>  (SuiteSparse library which is optional unless we use `KLU` option)\n",
    "- <font color='green'> DENGO_INSTALL_PATH</font> (Installation Path of Dengo)\n",
    "\n",
    "`ChemicalNetwork.write_solver` writes serveral files\n",
    "\n",
    "### Main components that drives `Dengo`\n",
    "\n",
    "- <font color='blue'>{{solver_name}}_solver.h </font>\n",
    "- <font color='blue'>{{solver_name}}_solver.C </font>(major modules in Dengo)\n",
    "- <font color='blue'>{{solver_name}}_solver_main.h </font>\n",
    "- <font color='blue'>{{solver_name}}_solver_main.C </font>(example script to use the C library) \n",
    "- <font color='blue'>initialize_cvode_solver.C </font>(wrapper function for the CVode library)\n",
    "- <font color='blue'>Makefile </font>(to compile the dengo library `libdengo.a`)\n",
    "\n",
    "### Helper function to compile `Dengo` C files for `Python` wrapper\n",
    "- <font color='blue'>{{solver_name}}_solver_run.pyxbld </font>\n",
    "- <font color='blue'>{{solver_name}}_solver_run.pyxdep </font>\n",
    "- <font color='blue'>{{solver_name}}_solver_run.pxd </font>\n",
    "- <font color='blue'>{{solver_name}}_solver_run.pyx </font> (major Python wrapper)"
   ]
  },
  {
   "cell_type": "code",
   "execution_count": 9,
   "metadata": {},
   "outputs": [
    {
     "name": "stdout",
     "output_type": "stream",
     "text": [
      "You have suitesparse!\n"
     ]
    },
    {
     "name": "stderr",
     "output_type": "stream",
     "text": [
      "/home/kwoksun2/anaconda3/lib/python3.8/site-packages/Cython/Compiler/Main.py:369: FutureWarning: Cython directive 'language_level' not set, using 2 for now (Py2). This will change in a later release! File: /home/kwoksun2/dengo-merge/cookbook/simple_solver_run.pxd\n",
      "  tree = Parsing.p_module(s, pxd, full_module_name)\n"
     ]
    }
   ],
   "source": [
    "output_dir = \".\"\n",
    "solver_name = \"simple\"\n",
    "use_omp = True\n",
    "use_cvode = True\n",
    "use_suitesparse = True\n",
    "\n",
    "# specify the library path\n",
    "os.environ[\"HDF5_DIR\"] = \"/home/kwoksun2/anaconda3\"\n",
    "os.environ[\"CVODE_PATH\"] = \"/home/kwoksun2/dengo-merge/cvode-3.1.0/instdir\"\n",
    "os.environ[\"HDF5_PATH\"]  = \"/home/kwoksun2/anaconda3\"\n",
    "os.environ[\"SUITESPARSE_PATH\"] = \"/home/kwoksun2/dengo-merge/suitesparse\"\n",
    "os.environ[\"DENGO_INSTALL_PATH\"] = \"/home/kwoksun2/dengo_install\"\n",
    "\n",
    "# write the solver\n",
    "cn_simple.write_solver(solver_name, output_dir=output_dir,\n",
    "                solver_template=\"cv_omp/sundials_CVDls\",\n",
    "                ode_solver_source=\"initialize_cvode_solver.C\")\n",
    "\n",
    "# install the library\n",
    "pyximport.install(setup_args={\"include_dirs\": np.get_include()},\n",
    "                  reload_support=True, inplace=True)\n",
    "\n",
    "# load the compile library \n",
    "simple_solver_run = pyximport.load_module(\n",
    "    \"{}_solver_run\".format(solver_name),\n",
    "    \"{}_solver_run.pyx\".format(solver_name),\n",
    "    build_inplace=True, pyxbuild_dir=\"_dengo_temp\")"
   ]
  },
  {
   "cell_type": "markdown",
   "metadata": {},
   "source": [
    "# Specifying Initial Condition\n",
    "Our Python wrapper takes the initial condition as a dictionary. We write a handy function to help us generate initial conditions with a few parameters, density, temperature, and mass fraction of molecular hydrogen. Once the abundance of the major species are specified, we can calculate the free electrons `de` with the `ChemicalNetwork.calculate_free_electrons`. \n",
    "\n",
    "To calculate thermal energy from density and temperature,\n",
    "\\begin{equation}\n",
    "\\mathrm{ge} = \\sum_{i \\in \\mathrm{species}} \\frac{n_i k T}{\\gamma_i - 1}\n",
    "\\end{equation}\n",
    "\n",
    "where $n_i$, $\\gamma_i$ are the number density and the specific heat ratios of the $\\mathrm{i^{th}}$ species. For some species like molecular hydrogen $H_2$, the specific heat ratio $\\gamma_{\\mathrm{H_2}}$ is temperature dependent. At low temperature, the molecule behave as if a monoatomic gas which has a $\\gamma = 5/3$. As the temperature increases, the available thermal energy is large enough and is then capable of driving the 2 extra rotational degree of freedom.\n",
    "\n",
    "```python\n",
    "H2I = species_registry['H2_1']\n",
    "gammaH2 = cn_simple.species_gamma(H2I, temp=True, name=False)\n",
    "fgamma = sympy.lambdify(\"T\", gammaH2)\n",
    "plt.semilogx(cn_simple.T, fgamma(cn_simple.T))\n",
    "plt.xlabel(\"Temperature ($\\mathrm{K}$)\")\n",
    "plt.ylabel(\"Specific Heat Ratio ($\\gamma_{\\mathrm{H_2}}$)\")\n",
    "plt.savefig(\"gammaH2.png\")\n",
    "```\n",
    "\n",
    "<p align=\"center\">\n",
    "  <img src=\"gammaH2.png\" />\n",
    "</p>"
   ]
  },
  {
   "cell_type": "code",
   "execution_count": 10,
   "metadata": {},
   "outputs": [],
   "source": [
    "def setup_initial_conditions(network, density, temperature, h2frac, NCELLS):\n",
    "    # setting initial conditions\n",
    "    temperature = np.ones((NCELLS))*temperature\n",
    "    init_array = np.ones(NCELLS) * density\n",
    "    init_values = dict()\n",
    "    init_values[\"H_1\"] = init_array * 0.76 * ( 1-h2frac )\n",
    "    init_values['H_2'] = init_array * tiny\n",
    "    init_values['H_m0'] = init_array * tiny\n",
    "    init_values['He_1'] = init_array * 0.24\n",
    "    init_values['He_2'] = init_array * tiny\n",
    "    init_values['He_3'] = init_array * tiny\n",
    "    init_values['H2_1'] = init_array * 0.76 * h2frac\n",
    "    init_values['H2_2'] = init_array * tiny\n",
    "    init_values['de'] = init_array * tiny\n",
    "\n",
    "    # update and calculate electron density and etc with the handy functions\n",
    "    # init_values = primordial.convert_to_mass_density(init_values)\n",
    "    init_values['de'] = network.calculate_free_electrons(init_values)\n",
    "    # init_values['density'] = primordial.calculate_total_density(init_values)\n",
    "    init_values['density'] = np.ones((NCELLS))*density\n",
    "    number_density = network.calculate_number_density(init_values)\n",
    "\n",
    "    # set up initial temperatures values used to define ge\n",
    "    init_values['T'] = temperature\n",
    "\n",
    "    # calculate ge (very crudely, no H2 help here)\n",
    "    gamma = 5.0/3.0\n",
    "    mH = 1.67e-24\n",
    "    init_values[\"ge\"] = 3.0 / 2.0 * temperature * kboltz / mH\n",
    "\n",
    "    return init_values"
   ]
  },
  {
   "cell_type": "markdown",
   "metadata": {},
   "source": [
    "# Running the Wrapper\n",
    "Once the initial condition is specified, we can finally solve some chemistry.\n",
    "`{{solver_name}}_solver_run.run_{{solver}}`\n",
    "- <font color='blue'> states </font> (initial condition)\n",
    "- <font color='blue'> dtf </font> (evolved time in seconds)\n",
    "- <font color='blue'> niter </font> (maximum number of iteration)\n",
    "- <font color='blue'> reltol </font> (relative tolerance level of the solver; 0.001 => 0.1% level)\n",
    "\n",
    "`niter` specify somehow the initial timestep $dt = \\mathrm{dtf/niter}$. After every succesful integration, the timestep is increased to $1.1 dt$, and the solution is accumulated until the evolution timescale reaches `dtf`. In the following example, we blow up the `niter`, so that we can track the actual evolution of the system with time. "
   ]
  },
  {
   "cell_type": "code",
   "execution_count": 16,
   "metadata": {},
   "outputs": [
    {
     "name": "stdout",
     "output_type": "stream",
     "text": [
      "Successful iteration[    0]: (2.995e+05) 2.995e+05 / 2.995e+11\n",
      "Successful iteration[  100]: (4.128e+09) 4.540e+10 / 2.995e+11\n",
      "End in 121 iterations: 2.99536e+11 / 2.99536e+11 (0.00000e+00)\n"
     ]
    }
   ],
   "source": [
    "# Initial Conditions\n",
    "density = 1e10 # number density\n",
    "temperature = 1000.0 # K\n",
    "H2Fraction  = 1.0e-5 # molecular mass fraction\n",
    "ncells = 1 # number of cells\n",
    "\n",
    "# freefall timescale\n",
    "dtf = 10.0/ np.sqrt(G*mh*density)\n",
    "\n",
    "states =  setup_initial_conditions(cn_simple, density, temperature, H2Fraction, ncells)\n",
    "rv, rv_int = simple_solver_run.run_simple(states, dtf, niter=1e6, reltol = 1.0e-6)"
   ]
  },
  {
   "cell_type": "markdown",
   "metadata": {},
   "source": [
    "# Let's plot the result!"
   ]
  },
  {
   "cell_type": "code",
   "execution_count": 17,
   "metadata": {},
   "outputs": [
    {
     "data": {
      "text/plain": [
       "<matplotlib.legend.Legend at 0x7f79f4ab4f40>"
      ]
     },
     "execution_count": 17,
     "metadata": {},
     "output_type": "execute_result"
    },
    {
     "data": {
      "image/png": "[encoded data removed]",
      "text/plain": [
       "<Figure size 432x288 with 2 Axes>"
      ]
     },
     "metadata": {
      "needs_background": "light"
     },
     "output_type": "display_data"
    }
   ],
   "source": [
    "flag = rv_int[\"successful\"]\n",
    "t    = rv_int[\"t\"][flag]\n",
    "H2I  = rv_int[\"H2_1\"][0][flag]\n",
    "HI   = rv_int[\"H_1\"][0][flag]\n",
    "T    = rv_int['T'][0][flag]\n",
    "\n",
    "f, ax = plt.subplots(figsize=(6,4))\n",
    "ax.loglog(t, HI, marker= '.', label='HI')\n",
    "ax.loglog(t, H2I, marker= '.', label=\"H2I\")\n",
    "ax.set_xlabel(\"time (s)\")\n",
    "ax.set_ylabel(\"number density $(\\mathrm{cm^{-3}})$\")\n",
    "\n",
    "ax2 =ax.twinx()\n",
    "ax2.loglog(t, T, color='r', label='T')\n",
    "ax2.set_ylabel(\"temperature (K)\")\n",
    "\n",
    "lines, labels = ax.get_legend_handles_labels()\n",
    "lines2, labels2 = ax2.get_legend_handles_labels()\n",
    "ax2.legend(lines + lines2, labels + labels2)"
   ]
  },
  {
   "cell_type": "markdown",
   "metadata": {},
   "source": [
    "# Equilibrium $\\mathrm{H_2}$ fraction\n",
    "With `Dengo`, we can analytically evaluate the molecular hydrogen fraction with `Sympy`. We can compare and see if it matches up with what we see from the actual evaluation. \n",
    "\n",
    "\\begin{equation}\n",
    "\\begin{split}\n",
    "\\frac{d \\mathrm{H_2}}{dt} &= −k13 ~ \\mathrm{H_2 ~ H} +k22 ~ \\mathrm{H^3} = 0 \\\\\n",
    "\\mathrm{H_2} &= \\mathrm{\\frac{k22 ~ H^2}{k13}}\n",
    "\\end{split}\n",
    "\\end{equation}\n",
    "\n",
    "We can get the first equation $\\frac{d \\mathrm{H_2}}{dt}$ from `ChemicalNetwork.species_total(\"H2_1\")`. We can solve the above equation with `sympy.solvers.solve`."
   ]
  },
  {
   "cell_type": "code",
   "execution_count": 18,
   "metadata": {},
   "outputs": [
    {
     "data": {
      "text/latex": [
       "$\\displaystyle - k13[i] H_{2 1} H_{1} + k22[i] H_{1}^{3}$"
      ],
      "text/plain": [
       "-k13[i]*H2_1*H_1 + k22[i]*H_1**3"
      ]
     },
     "execution_count": 18,
     "metadata": {},
     "output_type": "execute_result"
    }
   ],
   "source": [
    "eq = cn_simple.species_total(\"H2_1\")\n",
    "eq"
   ]
  },
  {
   "cell_type": "code",
   "execution_count": 19,
   "metadata": {},
   "outputs": [
    {
     "name": "stderr",
     "output_type": "stream",
     "text": [
      "/home/kwoksun2/anaconda3/lib/python3.8/site-packages/sympy/__init__.py:672: SymPyDeprecationWarning: \n",
      "\n",
      "importing sympy.solvers.solvers with 'from sympy import *' has been\n",
      "deprecated since SymPy 1.6. Use import sympy.solvers.solvers instead.\n",
      "See https://github.com/sympy/sympy/issues/18245 for more info.\n",
      "\n",
      "  self.Warn(\n"
     ]
    },
    {
     "data": {
      "text/latex": [
       "$\\displaystyle \\frac{k22[i] H_{1}^{2}}{k13[i]}$"
      ],
      "text/plain": [
       "k22[i]*H_1**2/k13[i]"
      ]
     },
     "execution_count": 19,
     "metadata": {},
     "output_type": "execute_result"
    }
   ],
   "source": [
    "equil_h2 = sympy.solvers.solve(eq, \"H2_1\")\n",
    "equil_h2[0]"
   ]
  },
  {
   "cell_type": "markdown",
   "metadata": {},
   "source": [
    "# Evaluate the Reaction Rates\n",
    "reaction rates are dependent of temperature, as of now, it is a little tricky to calculate them in dengo, this will be made easier in the later version of dengo"
   ]
  },
  {
   "cell_type": "code",
   "execution_count": 20,
   "metadata": {},
   "outputs": [],
   "source": [
    "from dengo.chemistry_constants import tevk\n",
    "class TemperatureClass():\n",
    "    def __init__(self, T):\n",
    "        self.T = T\n",
    "        self.logT = np.log(self.T)\n",
    "        self.tev = self.T / tevk\n",
    "        self.logtev = np.log(self.tev)\n",
    "        self.threebody = 4\n",
    "        \n",
    "def get_rate_by_temp(states, species, network):\n",
    "    T = states[\"T\"]\n",
    "    # this class can be ingested by dengo functions to obtain corresponding rates\n",
    "    tc = TemperatureClass(T)\n",
    "    # reaction rates:\n",
    "    rates = {}\n",
    "    for rn, rxn in sorted(network.reactions.items()):\n",
    "        eq = rxn.species_equation(species)\n",
    "        if eq == 0: continue\n",
    "        rates[str(rxn.coeff_sym)] = rxn.coeff_fn(tc)\n",
    "        print(rxn)\n",
    "    return rates\n",
    "\n",
    "def evaluate_expression(states, rates, equation):\n",
    "    sym_fs = list(equation.free_symbols)    \n",
    "    sym_arg = []\n",
    "    for s in sym_fs:\n",
    "        # drop ge cos this is reaction rate is implicit function of temperature\n",
    "        if not str(s) == \"ge\":\n",
    "            sym_arg.append(s)\n",
    "\n",
    "    states.update(rates)\n",
    "    # prepare arguments in correct order to be put into the lambdify equation\n",
    "    val_arg = []\n",
    "    for a in sym_arg:\n",
    "        if str(a) == 'ge': continue\n",
    "        val_arg.append(states[str(a)])\n",
    "\n",
    "    # need to lambdify to take arrays as input\n",
    "    f = lambdify(sym_arg, equation)\n",
    "\n",
    "    return f(*val_arg)\n",
    "\n",
    "def evaluate_equilibrium_H2( h1_density, temperature, network):\n",
    "    \n",
    "    states = {}\n",
    "    states[\"H_1\"] = h1_density\n",
    "    states[\"T\"] = temperature\n",
    "    rates = get_rate_by_temp(states, \"H2_1\", network)\n",
    "    \n",
    "    eq = network.species_total(\"H2_1\")\n",
    "    equil_h2 = sympy.solvers.solve(eq, \"H2_1\")\n",
    "    if len(equil_h2) > 1:\n",
    "        equil_h2 = equil_h2[1]\n",
    "    else:\n",
    "        equil_h2 = equil_h2[0]\n",
    "    return evaluate_expression(states, rates, equil_h2)"
   ]
  },
  {
   "cell_type": "markdown",
   "metadata": {},
   "source": [
    "# Visualize the equilibrium $\\mathrm{H_2}$ landscape"
   ]
  },
  {
   "cell_type": "code",
   "execution_count": 21,
   "metadata": {},
   "outputs": [
    {
     "name": "stdout",
     "output_type": "stream",
     "text": [
      "k13 : 1*H2_1 + 1*H_1 => 3*H_1\n",
      "k22 : 2*H_1 + 1*H_1 => 1*H2_1 + 1*H_1\n"
     ]
    },
    {
     "data": {
      "image/png": "[encoded data removed]",
      "text/plain": [
       "<Figure size 432x288 with 2 Axes>"
      ]
     },
     "metadata": {
      "needs_background": "light"
     },
     "output_type": "display_data"
    }
   ],
   "source": [
    "temp_arr = np.logspace(2, 4, 100)\n",
    "dens_arr = np.logspace(10, 15, 100)\n",
    "temp2d, dens2d = np.meshgrid(temp_arr, dens_arr)\n",
    "\n",
    "equilH2_2d = evaluate_equilibrium_H2( dens2d, temp2d, cn_simple)\n",
    "\n",
    "h2frac = equilH2_2d / dens2d\n",
    "h2frac[h2frac > 1] = 1.0\n",
    "\n",
    "plt.pcolormesh( dens2d, temp2d,  np.log10( h2frac ))\n",
    "plt.xscale(\"log\")\n",
    "plt.yscale(\"log\")\n",
    "plt.xlabel(\"density ($\\mathrm{cm^{-3}}$)\")\n",
    "plt.ylabel(\"temperature ($\\mathrm{K}$)\")\n",
    "\n",
    "cbar = plt.colorbar()\n",
    "cbar.set_label(\"Equilibrium H2 Fraction (logscale)\")"
   ]
  },
  {
   "cell_type": "markdown",
   "metadata": {},
   "source": [
    "# Let's overlay the equilibrium $H_2$ in the above plot! "
   ]
  },
  {
   "cell_type": "code",
   "execution_count": 22,
   "metadata": {},
   "outputs": [
    {
     "name": "stdout",
     "output_type": "stream",
     "text": [
      "k13 : 1*H2_1 + 1*H_1 => 3*H_1\n",
      "k22 : 2*H_1 + 1*H_1 => 1*H2_1 + 1*H_1\n"
     ]
    },
    {
     "name": "stderr",
     "output_type": "stream",
     "text": [
      "/home/kwoksun2/anaconda3/lib/python3.8/site-packages/sympy/__init__.py:672: SymPyDeprecationWarning: \n",
      "\n",
      "importing sympy.solvers.solvers with 'from sympy import *' has been\n",
      "deprecated since SymPy 1.6. Use import sympy.solvers.solvers instead.\n",
      "See https://github.com/sympy/sympy/issues/18245 for more info.\n",
      "\n",
      "  self.Warn(\n"
     ]
    },
    {
     "data": {
      "text/plain": [
       "<matplotlib.legend.Legend at 0x7f79f706b100>"
      ]
     },
     "execution_count": 22,
     "metadata": {},
     "output_type": "execute_result"
    },
    {
     "data": {
      "image/png": "[encoded data removed]",
      "text/plain": [
       "<Figure size 432x288 with 2 Axes>"
      ]
     },
     "metadata": {
      "needs_background": "light"
     },
     "output_type": "display_data"
    }
   ],
   "source": [
    "flag = rv_int[\"successful\"]\n",
    "t    = rv_int[\"t\"][flag]\n",
    "H2I  = rv_int[\"H2_1\"][0][flag]\n",
    "HI   = rv_int[\"H_1\"][0][flag]\n",
    "\n",
    "f, ax = plt.subplots(figsize=(6,4))\n",
    "ax.loglog(t, HI, marker= '.', label='HI')\n",
    "ax.loglog(t, H2I, marker= '.', label=\"H2I\")\n",
    "ax.set_xlabel(\"time (s)\")\n",
    "ax.set_ylabel(\"number density $(\\mathrm{cm^{-3}})$\")\n",
    "\n",
    "equil_H2 = 2.01588 * evaluate_equilibrium_H2( HI, T, cn_simple )\n",
    "ax.loglog(t, equil_H2 , ls = '--', label=\"Equilibrium\")\n",
    "\n",
    "ax2 =ax.twinx()\n",
    "ax2.loglog(t, T, color='r', label='T')\n",
    "ax2.set_ylabel(\"temperature (K)\")\n",
    "\n",
    "lines, labels = ax.get_legend_handles_labels()\n",
    "lines2, labels2 = ax2.get_legend_handles_labels()\n",
    "ax2.legend(lines + lines2, labels + labels2)"
   ]
  },
  {
   "cell_type": "markdown",
   "metadata": {},
   "source": [
    "# voila! they matches up nicely when the equilibrium is reached!\n",
    "- this acts as a nice sanity check on both our solver, and our understanding of the network"
   ]
  },
  {
   "cell_type": "code",
   "execution_count": null,
   "metadata": {},
   "outputs": [],
   "source": []
  }
 ],
 "metadata": {
  "kernelspec": {
   "display_name": "dedalus",
   "language": "python",
   "name": "python3"
  },
  "language_info": {
   "codemirror_mode": {
    "name": "ipython",
    "version": 3
   },
   "file_extension": ".py",
   "mimetype": "text/x-python",
   "name": "python",
   "nbconvert_exporter": "python",
   "pygments_lexer": "ipython3",
   "version": "3.8.6"
  }
 },
 "nbformat": 4,
 "nbformat_minor": 4
}
